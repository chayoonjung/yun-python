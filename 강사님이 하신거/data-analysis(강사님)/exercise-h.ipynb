{
 "cells": [
  {
   "cell_type": "code",
   "execution_count": 2,
   "metadata": {},
   "outputs": [],
   "source": [
    "import numpy as np\n",
    "import pandas as pd\n",
    "import matplotlib.pyplot as plt"
   ]
  },
  {
   "cell_type": "code",
   "execution_count": 5,
   "metadata": {},
   "outputs": [],
   "source": [
    "population_df = pd.read_csv('data-files/population.csv',\n",
    "                            encoding=\"utf-8\",\n",
    "                            index_col=0)"
   ]
  },
  {
   "cell_type": "code",
   "execution_count": 6,
   "metadata": {},
   "outputs": [
    {
     "output_type": "execute_result",
     "data": {
      "text/plain": "                                총인구수  연령구간인구수  2020년05월_계_0세  2020년05월_계_1세  \\\n행정구역                                                                          \n서울특별시  (1100000000)          9724496  9724496          47776          53356   \n서울특별시 종로구 (1111000000)        150623   150623            570            576   \n서울특별시 종로구 청운효자동(1111051500)    12667    12667             71             64   \n서울특별시 종로구 사직동(1111053000)       9481     9481             31             37   \n서울특별시 종로구 삼청동(1111054000)       2718     2718              5              7   \n\n                             2020년05월_계_2세  2020년05월_계_3세  2020년05월_계_4세  \\\n행정구역                                                                       \n서울특별시  (1100000000)                  56588          61977          68513   \n서울특별시 종로구 (1111000000)                 642            746            834   \n서울특별시 종로구 청운효자동(1111051500)             67             86             81   \n서울특별시 종로구 사직동(1111053000)               45             59             64   \n서울특별시 종로구 삼청동(1111054000)               13              8             13   \n\n                             2020년05월_계_5세  2020년05월_계_6세  2020년05월_계_7세  ...  \\\n행정구역                                                                      ...   \n서울특별시  (1100000000)                  69595          68383          73751  ...   \n서울특별시 종로구 (1111000000)                 840            846            985  ...   \n서울특별시 종로구 청운효자동(1111051500)            103             91             99  ...   \n서울특별시 종로구 사직동(1111053000)               76             70             82  ...   \n서울특별시 종로구 삼청동(1111054000)               10             12             13  ...   \n\n                             2020년05월_계_91세  2020년05월_계_92세  2020년05월_계_93세  \\\n행정구역                                                                          \n서울특별시  (1100000000)                    8272            6334            4821   \n서울특별시 종로구 (1111000000)                  203             129             122   \n서울특별시 종로구 청운효자동(1111051500)              13               4               8   \n서울특별시 종로구 사직동(1111053000)                22              10               9   \n서울특별시 종로구 삼청동(1111054000)                 2               7               4   \n\n                             2020년05월_계_94세  2020년05월_계_95세  2020년05월_계_96세  \\\n행정구역                                                                          \n서울특별시  (1100000000)                    3382            2501            2159   \n서울특별시 종로구 (1111000000)                  100              72              62   \n서울특별시 종로구 청운효자동(1111051500)               9               7               8   \n서울특별시 종로구 사직동(1111053000)                14               5               2   \n서울특별시 종로구 삼청동(1111054000)                 1               2               1   \n\n                             2020년05월_계_97세  2020년05월_계_98세  2020년05월_계_99세  \\\n행정구역                                                                          \n서울특별시  (1100000000)                    2021            1394            1000   \n서울특별시 종로구 (1111000000)                   60              57              32   \n서울특별시 종로구 청운효자동(1111051500)               6               4               2   \n서울특별시 종로구 사직동(1111053000)                 8               1               3   \n서울특별시 종로구 삼청동(1111054000)                 3               0               1   \n\n                             2020년05월_계_100세 이상  \n행정구역                                             \n서울특별시  (1100000000)                        6511  \n서울특별시 종로구 (1111000000)                      267  \n서울특별시 종로구 청운효자동(1111051500)                  19  \n서울특별시 종로구 사직동(1111053000)                    19  \n서울특별시 종로구 삼청동(1111054000)                     8  \n\n[5 rows x 103 columns]",
      "text/html": "<div>\n<style scoped>\n    .dataframe tbody tr th:only-of-type {\n        vertical-align: middle;\n    }\n\n    .dataframe tbody tr th {\n        vertical-align: top;\n    }\n\n    .dataframe thead th {\n        text-align: right;\n    }\n</style>\n<table border=\"1\" class=\"dataframe\">\n  <thead>\n    <tr style=\"text-align: right;\">\n      <th></th>\n      <th>총인구수</th>\n      <th>연령구간인구수</th>\n      <th>2020년05월_계_0세</th>\n      <th>2020년05월_계_1세</th>\n      <th>2020년05월_계_2세</th>\n      <th>2020년05월_계_3세</th>\n      <th>2020년05월_계_4세</th>\n      <th>2020년05월_계_5세</th>\n      <th>2020년05월_계_6세</th>\n      <th>2020년05월_계_7세</th>\n      <th>...</th>\n      <th>2020년05월_계_91세</th>\n      <th>2020년05월_계_92세</th>\n      <th>2020년05월_계_93세</th>\n      <th>2020년05월_계_94세</th>\n      <th>2020년05월_계_95세</th>\n      <th>2020년05월_계_96세</th>\n      <th>2020년05월_계_97세</th>\n      <th>2020년05월_계_98세</th>\n      <th>2020년05월_계_99세</th>\n      <th>2020년05월_계_100세 이상</th>\n    </tr>\n    <tr>\n      <th>행정구역</th>\n      <th></th>\n      <th></th>\n      <th></th>\n      <th></th>\n      <th></th>\n      <th></th>\n      <th></th>\n      <th></th>\n      <th></th>\n      <th></th>\n      <th></th>\n      <th></th>\n      <th></th>\n      <th></th>\n      <th></th>\n      <th></th>\n      <th></th>\n      <th></th>\n      <th></th>\n      <th></th>\n      <th></th>\n    </tr>\n  </thead>\n  <tbody>\n    <tr>\n      <th>서울특별시  (1100000000)</th>\n      <td>9724496</td>\n      <td>9724496</td>\n      <td>47776</td>\n      <td>53356</td>\n      <td>56588</td>\n      <td>61977</td>\n      <td>68513</td>\n      <td>69595</td>\n      <td>68383</td>\n      <td>73751</td>\n      <td>...</td>\n      <td>8272</td>\n      <td>6334</td>\n      <td>4821</td>\n      <td>3382</td>\n      <td>2501</td>\n      <td>2159</td>\n      <td>2021</td>\n      <td>1394</td>\n      <td>1000</td>\n      <td>6511</td>\n    </tr>\n    <tr>\n      <th>서울특별시 종로구 (1111000000)</th>\n      <td>150623</td>\n      <td>150623</td>\n      <td>570</td>\n      <td>576</td>\n      <td>642</td>\n      <td>746</td>\n      <td>834</td>\n      <td>840</td>\n      <td>846</td>\n      <td>985</td>\n      <td>...</td>\n      <td>203</td>\n      <td>129</td>\n      <td>122</td>\n      <td>100</td>\n      <td>72</td>\n      <td>62</td>\n      <td>60</td>\n      <td>57</td>\n      <td>32</td>\n      <td>267</td>\n    </tr>\n    <tr>\n      <th>서울특별시 종로구 청운효자동(1111051500)</th>\n      <td>12667</td>\n      <td>12667</td>\n      <td>71</td>\n      <td>64</td>\n      <td>67</td>\n      <td>86</td>\n      <td>81</td>\n      <td>103</td>\n      <td>91</td>\n      <td>99</td>\n      <td>...</td>\n      <td>13</td>\n      <td>4</td>\n      <td>8</td>\n      <td>9</td>\n      <td>7</td>\n      <td>8</td>\n      <td>6</td>\n      <td>4</td>\n      <td>2</td>\n      <td>19</td>\n    </tr>\n    <tr>\n      <th>서울특별시 종로구 사직동(1111053000)</th>\n      <td>9481</td>\n      <td>9481</td>\n      <td>31</td>\n      <td>37</td>\n      <td>45</td>\n      <td>59</td>\n      <td>64</td>\n      <td>76</td>\n      <td>70</td>\n      <td>82</td>\n      <td>...</td>\n      <td>22</td>\n      <td>10</td>\n      <td>9</td>\n      <td>14</td>\n      <td>5</td>\n      <td>2</td>\n      <td>8</td>\n      <td>1</td>\n      <td>3</td>\n      <td>19</td>\n    </tr>\n    <tr>\n      <th>서울특별시 종로구 삼청동(1111054000)</th>\n      <td>2718</td>\n      <td>2718</td>\n      <td>5</td>\n      <td>7</td>\n      <td>13</td>\n      <td>8</td>\n      <td>13</td>\n      <td>10</td>\n      <td>12</td>\n      <td>13</td>\n      <td>...</td>\n      <td>2</td>\n      <td>7</td>\n      <td>4</td>\n      <td>1</td>\n      <td>2</td>\n      <td>1</td>\n      <td>3</td>\n      <td>0</td>\n      <td>1</td>\n      <td>8</td>\n    </tr>\n  </tbody>\n</table>\n<p>5 rows × 103 columns</p>\n</div>"
     },
     "metadata": {},
     "execution_count": 6
    }
   ],
   "source": [
    "population_df.head()"
   ]
  },
  {
   "cell_type": "code",
   "execution_count": null,
   "metadata": {},
   "outputs": [],
   "source": []
  }
 ],
 "metadata": {
  "language_info": {
   "codemirror_mode": {
    "name": "ipython",
    "version": 3
   },
   "file_extension": ".py",
   "mimetype": "text/x-python",
   "name": "python",
   "nbconvert_exporter": "python",
   "pygments_lexer": "ipython3",
   "version": "3.6.10-final"
  },
  "orig_nbformat": 2,
  "kernelspec": {
   "name": "python361064bithoseoconda74918617c8c247faa20a6f745fb4cc30",
   "display_name": "Python 3.6.10 64-bit ('hoseo': conda)"
  }
 },
 "nbformat": 4,
 "nbformat_minor": 2
}