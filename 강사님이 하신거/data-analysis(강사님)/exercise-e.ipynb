{
 "cells": [
  {
   "cell_type": "code",
   "execution_count": 1,
   "metadata": {},
   "outputs": [],
   "source": [
    "import numpy as np"
   ]
  },
  {
   "cell_type": "code",
   "execution_count": 9,
   "metadata": {},
   "outputs": [],
   "source": [
    "a = [1, 2, 3, 4]\n",
    "npa = np.array(a, dtype=np.float32)"
   ]
  },
  {
   "cell_type": "code",
   "execution_count": 10,
   "metadata": {},
   "outputs": [
    {
     "data": {
      "text/plain": [
       "[1, 2, 3, 4]"
      ]
     },
     "execution_count": 10,
     "metadata": {},
     "output_type": "execute_result"
    }
   ],
   "source": [
    "a"
   ]
  },
  {
   "cell_type": "code",
   "execution_count": 11,
   "metadata": {},
   "outputs": [
    {
     "data": {
      "text/plain": [
       "array([1., 2., 3., 4.], dtype=float32)"
      ]
     },
     "execution_count": 11,
     "metadata": {},
     "output_type": "execute_result"
    }
   ],
   "source": [
    "npa"
   ]
  },
  {
   "cell_type": "code",
   "execution_count": 12,
   "metadata": {},
   "outputs": [
    {
     "data": {
      "text/plain": [
       "dtype('float32')"
      ]
     },
     "execution_count": 12,
     "metadata": {},
     "output_type": "execute_result"
    }
   ],
   "source": [
    "npa.dtype"
   ]
  },
  {
   "cell_type": "code",
   "execution_count": 13,
   "metadata": {},
   "outputs": [
    {
     "data": {
      "text/plain": [
       "array(['1', '2', '3', '4'], dtype='<U11')"
      ]
     },
     "execution_count": 13,
     "metadata": {},
     "output_type": "execute_result"
    }
   ],
   "source": [
    "# ndarray는 동일한 자료형의 데이터만 관리\n",
    "np.array([1, '2', 3, '4'])"
   ]
  },
  {
   "cell_type": "code",
   "execution_count": 16,
   "metadata": {},
   "outputs": [
    {
     "data": {
      "text/plain": [
       "array([1, 2, 3, 4])"
      ]
     },
     "execution_count": 16,
     "metadata": {},
     "output_type": "execute_result"
    }
   ],
   "source": [
    "# ndarray는 동일한 자료형의 데이터만 관리\n",
    "np.array([1, '2', 3, '4'], dtype=np.int32)"
   ]
  },
  {
   "cell_type": "code",
   "execution_count": 19,
   "metadata": {},
   "outputs": [],
   "source": [
    "b = [ [1, 2], [3, 4], [5, 6] ] # 리스트의 리스트\n",
    "npb = np.array(b) # 2차원 배열"
   ]
  },
  {
   "cell_type": "code",
   "execution_count": 20,
   "metadata": {},
   "outputs": [
    {
     "data": {
      "text/plain": [
       "[[1, 2], [3, 4], [5, 6]]"
      ]
     },
     "execution_count": 20,
     "metadata": {},
     "output_type": "execute_result"
    }
   ],
   "source": [
    "b"
   ]
  },
  {
   "cell_type": "code",
   "execution_count": 21,
   "metadata": {},
   "outputs": [
    {
     "data": {
      "text/plain": [
       "array([[1, 2],\n",
       "       [3, 4],\n",
       "       [5, 6]])"
      ]
     },
     "execution_count": 21,
     "metadata": {},
     "output_type": "execute_result"
    }
   ],
   "source": [
    "npb"
   ]
  },
  {
   "cell_type": "code",
   "execution_count": 22,
   "metadata": {},
   "outputs": [],
   "source": [
    "c = [1, 2, 3, 4, 5]\n",
    "npc1 = np.array(c)\n",
    "npc2 = np.array(c, ndmin=2)"
   ]
  },
  {
   "cell_type": "code",
   "execution_count": 23,
   "metadata": {},
   "outputs": [
    {
     "data": {
      "text/plain": [
       "array([1, 2, 3, 4, 5])"
      ]
     },
     "execution_count": 23,
     "metadata": {},
     "output_type": "execute_result"
    }
   ],
   "source": [
    "npc1"
   ]
  },
  {
   "cell_type": "code",
   "execution_count": 24,
   "metadata": {},
   "outputs": [
    {
     "data": {
      "text/plain": [
       "array([[1, 2, 3, 4, 5]])"
      ]
     },
     "execution_count": 24,
     "metadata": {},
     "output_type": "execute_result"
    }
   ],
   "source": [
    "npc2"
   ]
  },
  {
   "cell_type": "code",
   "execution_count": 25,
   "metadata": {},
   "outputs": [
    {
     "data": {
      "text/plain": [
       "(1, 2)"
      ]
     },
     "execution_count": 25,
     "metadata": {},
     "output_type": "execute_result"
    }
   ],
   "source": [
    "npc1.ndim, npc2.ndim"
   ]
  },
  {
   "cell_type": "code",
   "execution_count": 26,
   "metadata": {},
   "outputs": [],
   "source": [
    "d = [ [1, 2, 3], [4, 5, 6], [7, 8, 9] ]\n",
    "npd = np.array(d)"
   ]
  },
  {
   "cell_type": "code",
   "execution_count": 28,
   "metadata": {},
   "outputs": [
    {
     "name": "stdout",
     "output_type": "stream",
     "text": [
      "2\n",
      "(3, 3)\n"
     ]
    },
    {
     "data": {
      "text/plain": [
       "array([[1, 2, 3],\n",
       "       [4, 5, 6],\n",
       "       [7, 8, 9]])"
      ]
     },
     "execution_count": 28,
     "metadata": {},
     "output_type": "execute_result"
    }
   ],
   "source": [
    "print( npd.ndim )\n",
    "print( npd.shape )\n",
    "npd"
   ]
  },
  {
   "cell_type": "code",
   "execution_count": 32,
   "metadata": {},
   "outputs": [
    {
     "data": {
      "text/plain": [
       "array([[1, 1, 1, 1, 1],\n",
       "       [1, 1, 1, 1, 1],\n",
       "       [1, 1, 1, 1, 1],\n",
       "       [1, 1, 1, 1, 1],\n",
       "       [1, 1, 1, 1, 1],\n",
       "       [1, 1, 1, 1, 1],\n",
       "       [1, 1, 1, 1, 1]])"
      ]
     },
     "execution_count": 32,
     "metadata": {},
     "output_type": "execute_result"
    }
   ],
   "source": [
    "# npe = np.empty([7, 5], dtype=np.int32)\n",
    "# npe = np.zeros([7, 5], dtype=np.int32)\n",
    "npe = np.ones([7, 5], dtype=np.int32)\n",
    "npe"
   ]
  },
  {
   "cell_type": "code",
   "execution_count": 35,
   "metadata": {},
   "outputs": [
    {
     "data": {
      "text/plain": [
       "array([1, 3, 5, 7, 9])"
      ]
     },
     "execution_count": 35,
     "metadata": {},
     "output_type": "execute_result"
    }
   ],
   "source": [
    "f = range(1, 10)\n",
    "npf = np.arange(1, 10)\n",
    "npf = np.arange(1, 10, 2)\n",
    "npf"
   ]
  },
  {
   "cell_type": "code",
   "execution_count": 37,
   "metadata": {},
   "outputs": [
    {
     "data": {
      "text/plain": [
       "array([0. , 2.5, 5. , 7.5])"
      ]
     },
     "execution_count": 37,
     "metadata": {},
     "output_type": "execute_result"
    }
   ],
   "source": [
    "npg = np.linspace(0, 10, num=4, endpoint=False)\n",
    "npg"
   ]
  },
  {
   "cell_type": "code",
   "execution_count": 57,
   "metadata": {},
   "outputs": [
    {
     "name": "stdout",
     "output_type": "stream",
     "text": [
      "4\n",
      "[2 3 4 5]\n",
      "[0 1 2 3 4 5]\n",
      "[2 3 4 5 6 7 8 9]\n",
      "[0 1 2 3 4 5 6 7 8 9]\n",
      "[0 3 6 9]\n"
     ]
    }
   ],
   "source": [
    "nph = np.arange(10)\n",
    "print( nph[4] ) # 단일 값 반환\n",
    "print( nph[2:6] )\n",
    "print( nph[:6] )\n",
    "print( nph[2:] )\n",
    "print( nph[:] )\n",
    "print( nph[::3] )"
   ]
  },
  {
   "cell_type": "code",
   "execution_count": 67,
   "metadata": {},
   "outputs": [
    {
     "data": {
      "text/plain": [
       "array([[ 1,  2,  3,  4],\n",
       "       [ 5,  6,  7,  8],\n",
       "       [ 9, 10, 11, 12]])"
      ]
     },
     "execution_count": 67,
     "metadata": {},
     "output_type": "execute_result"
    }
   ],
   "source": [
    "# h = [ [1, 2, 3, 4], [5, 6, 7, 8], [9, 10, 11, 12] ]\n",
    "# nph = np.array(h)\n",
    "nph = np.arange(1, 13).reshape( (3, 4) )\n",
    "nph"
   ]
  },
  {
   "cell_type": "code",
   "execution_count": 72,
   "metadata": {},
   "outputs": [
    {
     "data": {
      "text/plain": [
       "24"
      ]
     },
     "execution_count": 72,
     "metadata": {},
     "output_type": "execute_result"
    }
   ],
   "source": [
    "# nph[1]\n",
    "# nph[0:2]\n",
    "# nph[1][2]\n",
    "# nph[1,2]\n",
    "# nph[:2, 2:]\n",
    "nph[:, 3]\n"
   ]
  },
  {
   "cell_type": "code",
   "execution_count": 78,
   "metadata": {},
   "outputs": [
    {
     "name": "stdout",
     "output_type": "stream",
     "text": [
      "2\n",
      "[3 4 5]\n",
      "[ 1  5  7 10]\n"
     ]
    }
   ],
   "source": [
    "npi = np.arange(1, 13)\n",
    "print(npi[1])\n",
    "print(npi[2:5])\n",
    "print(npi[[0, 4, 6, 9]])"
   ]
  },
  {
   "cell_type": "code",
   "execution_count": 82,
   "metadata": {},
   "outputs": [
    {
     "data": {
      "text/plain": [
       "array([[ 1,  2,  3],\n",
       "       [ 4,  5,  6],\n",
       "       [ 7,  8,  9],\n",
       "       [10, 11, 12]])"
      ]
     },
     "execution_count": 82,
     "metadata": {},
     "output_type": "execute_result"
    }
   ],
   "source": [
    "npi = np.arange(1, 13).reshape((4,3))\n",
    "npi"
   ]
  },
  {
   "cell_type": "code",
   "execution_count": 83,
   "metadata": {},
   "outputs": [
    {
     "data": {
      "text/plain": [
       "array([ 1,  3, 10, 12])"
      ]
     },
     "execution_count": 83,
     "metadata": {},
     "output_type": "execute_result"
    }
   ],
   "source": [
    "rows = np.array([0, 0, 3, 3])\n",
    "cols = np.array([0, 2, 0, 2])\n",
    "npi[rows,cols]"
   ]
  },
  {
   "cell_type": "code",
   "execution_count": 85,
   "metadata": {},
   "outputs": [
    {
     "data": {
      "text/plain": [
       "array([[ 1,  3],\n",
       "       [10, 12]])"
      ]
     },
     "execution_count": 85,
     "metadata": {},
     "output_type": "execute_result"
    }
   ],
   "source": [
    "rows = np.array([[0, 0], [3, 3]])\n",
    "cols = np.array([[0, 2], [0, 2]])\n",
    "npi[rows, cols]"
   ]
  },
  {
   "cell_type": "code",
   "execution_count": 86,
   "metadata": {},
   "outputs": [
    {
     "data": {
      "text/plain": [
       "array([0, 1, 2, 3, 4, 5, 6, 7, 8, 9])"
      ]
     },
     "execution_count": 86,
     "metadata": {},
     "output_type": "execute_result"
    }
   ],
   "source": [
    "npj = np.arange(10)\n",
    "npj"
   ]
  },
  {
   "cell_type": "code",
   "execution_count": 88,
   "metadata": {},
   "outputs": [
    {
     "data": {
      "text/plain": [
       "array([ True,  True,  True,  True,  True, False, False, False, False,\n",
       "       False])"
      ]
     },
     "execution_count": 88,
     "metadata": {},
     "output_type": "execute_result"
    }
   ],
   "source": [
    "npj < 5"
   ]
  },
  {
   "cell_type": "code",
   "execution_count": 87,
   "metadata": {},
   "outputs": [
    {
     "data": {
      "text/plain": [
       "array([0, 1, 2, 3, 4])"
      ]
     },
     "execution_count": 87,
     "metadata": {},
     "output_type": "execute_result"
    }
   ],
   "source": [
    "npj[npj < 5]"
   ]
  },
  {
   "cell_type": "code",
   "execution_count": 92,
   "metadata": {},
   "outputs": [
    {
     "data": {
      "text/plain": [
       "array([0, 1, 3, 5, 7])"
      ]
     },
     "execution_count": 92,
     "metadata": {},
     "output_type": "execute_result"
    }
   ],
   "source": [
    "npj[\n",
    "    [True, True, False, True, False, \n",
    "     True, False, True, False, False]\n",
    "    ]"
   ]
  },
  {
   "cell_type": "code",
   "execution_count": 94,
   "metadata": {},
   "outputs": [
    {
     "name": "stdout",
     "output_type": "stream",
     "text": [
      "[ 1.  2. nan  4.  5. nan  6.]\n",
      "[nan nan]\n",
      "[1. 2. 4. 5. 6.]\n"
     ]
    }
   ],
   "source": [
    "npk = np.array([1, 2, np.nan, 4, 5, np.nan, 6])\n",
    "print(npk)\n",
    "print(npk[np.isnan(npk)])\n",
    "print(npk[~np.isnan(npk)])"
   ]
  },
  {
   "cell_type": "code",
   "execution_count": 97,
   "metadata": {},
   "outputs": [
    {
     "data": {
      "text/plain": [
       "array([ 5,  6,  7,  8,  9, 10, 11, 12, 13, 14])"
      ]
     },
     "execution_count": 97,
     "metadata": {},
     "output_type": "execute_result"
    }
   ],
   "source": [
    "npl = np.arange(10)\n",
    "# npl\n",
    "npl + 5 # npl + [5, 5, 5, 5, 5, 5, 5, 5, 5, 5]"
   ]
  },
  {
   "cell_type": "code",
   "execution_count": 101,
   "metadata": {},
   "outputs": [
    {
     "data": {
      "text/plain": [
       "array([[ 1.,  2.,  3.],\n",
       "       [11., 12., 13.],\n",
       "       [21., 22., 23.],\n",
       "       [31., 32., 33.]])"
      ]
     },
     "execution_count": 101,
     "metadata": {},
     "output_type": "execute_result"
    }
   ],
   "source": [
    "a = np.array([[0.0,0.0,0.0],\n",
    "              [10.0,10.0,10.0],\n",
    "              [20.0,20.0,20.0],\n",
    "              [30.0,30.0,30.0]])\n",
    "b = np.array([1.0,2.0,3.0])\n",
    "# b = np.array([[1.0,2.0,3.0], [1.0,2.0,3.0], [1.0,2.0,3.0], [1.0,2.0,3.0] ])\n",
    "a + b"
   ]
  },
  {
   "cell_type": "code",
   "execution_count": null,
   "metadata": {},
   "outputs": [],
   "source": []
  },
  {
   "cell_type": "code",
   "execution_count": 126,
   "metadata": {},
   "outputs": [],
   "source": [
    "# 4열부터 52열까지의 데이터를 읽어서 Numpy 배열로 만드세요\n",
    "import csv\n",
    "\n",
    "with open('data-files/subway-data.csv', encoding=\"utf-8\") as f:\n",
    "    reader = csv.reader(f)\n",
    "    \n",
    "    subway_data_list = list(reader)"
   ]
  },
  {
   "cell_type": "code",
   "execution_count": null,
   "metadata": {},
   "outputs": [],
   "source": [
    "subway_data_list[2]"
   ]
  },
  {
   "cell_type": "code",
   "execution_count": 131,
   "metadata": {},
   "outputs": [],
   "source": [
    "import numpy as np\n",
    "\n",
    "subway_data_array = np.array(subway_data_list[2:])"
   ]
  },
  {
   "cell_type": "code",
   "execution_count": 135,
   "metadata": {},
   "outputs": [
    {
     "data": {
      "text/plain": [
       "array([['813', '16', '8,478', '5,920', '10,736', '37,191', '29,922',\n",
       "        '80,358', '53,921', '170,533', '39,251', '114,126', '38,103',\n",
       "        '55,958', '46,762', '47,869', '55,232', '49,303', '57,055',\n",
       "        '51,283', '48,828', '49,860', '64,421', '50,831', '71,948',\n",
       "        '51,102', '115,171', '60,380', '176,221', '63,184', '86,920',\n",
       "        '45,583', '61,811', '31,079', '59,285', '25,122', '41,290',\n",
       "        '18,647', '15,258', '10,959', '11', '1,427', '0', '0', '0', '0',\n",
       "        '0', '0'],\n",
       "       ['30', '1', '1,557', '3,131', '2,914', '15,686', '5,627',\n",
       "        '57,041', '6,957', '138,115', '7,841', '67,596', '8,553',\n",
       "        '27,971', '12,095', '26,249', '13,668', '22,574', '17,272',\n",
       "        '22,013', '22,049', '18,517', '28,018', '16,094', '32,000',\n",
       "        '13,771', '59,053', '14,576', '115,293', '15,487', '46,640',\n",
       "        '7,610', '34,966', '4,267', '34,047', '3,807', '22,202', '2,630',\n",
       "        '7,325', '1,755', '5', '143', '0', '1', '0', '1', '0', '0']],\n",
       "      dtype='<U19')"
      ]
     },
     "execution_count": 135,
     "metadata": {},
     "output_type": "execute_result"
    }
   ],
   "source": []
  },
  {
   "cell_type": "code",
   "execution_count": null,
   "metadata": {},
   "outputs": [],
   "source": [
    "# !pip install pandas"
   ]
  },
  {
   "cell_type": "code",
   "execution_count": null,
   "metadata": {},
   "outputs": [],
   "source": [
    "# 데이터 확인\n",
    "import csv\n",
    "\n",
    "with open('data-files/subway-data.csv', encoding=\"utf-8\") as f:\n",
    "    reader = csv.reader(f)\n",
    "    next(reader)\n",
    "    next(reader)\n",
    "    \n",
    "    with open('data-files/subway-data-modified.csv', 'w', encoding=\"utf-8\") as f2:        \n",
    "        for idx, row in enumerate(reader):\n",
    "            row2 = map(lambda x: x.replace(\",\", \"\"), row)\n",
    "            f2.write(\",\".join(list(row2)))\n",
    "            f2.write('\\n')\n",
    "            \n",
    "print(\"end of file\")"
   ]
  },
  {
   "cell_type": "code",
   "execution_count": 167,
   "metadata": {},
   "outputs": [],
   "source": [
    "import numpy as np\n",
    "\n",
    "ar = np.genfromtxt('data-files/subway-data-modified.csv', \n",
    "                   delimiter=',', \n",
    "                   encoding=\"utf-8\", \n",
    "                   dtype='U')\n"
   ]
  },
  {
   "cell_type": "code",
   "execution_count": 169,
   "metadata": {},
   "outputs": [
    {
     "data": {
      "text/plain": [
       "array([['813', '16', '8478', ..., '0', '0', '0'],\n",
       "       ['30', '1', '1557', ..., '1', '0', '0'],\n",
       "       ['75', '4', '3014', ..., '1', '0', '0'],\n",
       "       ...,\n",
       "       ['11', '1', '748', ..., '0', '0', '0'],\n",
       "       ['2', '0', '350', ..., '0', '0', '0'],\n",
       "       ['20', '0', '892', ..., '0', '0', '0']], dtype='<U19')"
      ]
     },
     "execution_count": 169,
     "metadata": {},
     "output_type": "execute_result"
    }
   ],
   "source": [
    "ar[:, 4:-1]"
   ]
  },
  {
   "cell_type": "code",
   "execution_count": 159,
   "metadata": {},
   "outputs": [],
   "source": [
    "import pandas as pd"
   ]
  },
  {
   "cell_type": "code",
   "execution_count": 166,
   "metadata": {},
   "outputs": [],
   "source": [
    "df = pd.read_csv('data-files/subway-data.csv', \n",
    "                 encoding=\"utf-8\",\n",
    "                 skiprows=2)"
   ]
  },
  {
   "cell_type": "code",
   "execution_count": 164,
   "metadata": {},
   "outputs": [
    {
     "data": {
      "text/html": [
       "<div>\n",
       "<style scoped>\n",
       "    .dataframe tbody tr th:only-of-type {\n",
       "        vertical-align: middle;\n",
       "    }\n",
       "\n",
       "    .dataframe tbody tr th {\n",
       "        vertical-align: top;\n",
       "    }\n",
       "\n",
       "    .dataframe thead th {\n",
       "        text-align: right;\n",
       "    }\n",
       "</style>\n",
       "<table border=\"1\" class=\"dataframe\">\n",
       "  <thead>\n",
       "    <tr style=\"text-align: right;\">\n",
       "      <th></th>\n",
       "      <th>2020-05</th>\n",
       "      <th>1호선</th>\n",
       "      <th>0150</th>\n",
       "      <th>서울역</th>\n",
       "      <th>813</th>\n",
       "      <th>16</th>\n",
       "      <th>8,478</th>\n",
       "      <th>5,920</th>\n",
       "      <th>10,736</th>\n",
       "      <th>37,191</th>\n",
       "      <th>...</th>\n",
       "      <th>10,959</th>\n",
       "      <th>11</th>\n",
       "      <th>1,427</th>\n",
       "      <th>0</th>\n",
       "      <th>0.1</th>\n",
       "      <th>0.2</th>\n",
       "      <th>0.3</th>\n",
       "      <th>0.4</th>\n",
       "      <th>0.5</th>\n",
       "      <th>2020-06-03 11:49:09</th>\n",
       "    </tr>\n",
       "  </thead>\n",
       "  <tbody>\n",
       "    <tr>\n",
       "      <th>0</th>\n",
       "      <td>2020-05</td>\n",
       "      <td>1호선</td>\n",
       "      <td>151</td>\n",
       "      <td>시청</td>\n",
       "      <td>30</td>\n",
       "      <td>1</td>\n",
       "      <td>1,557</td>\n",
       "      <td>3,131</td>\n",
       "      <td>2,914</td>\n",
       "      <td>15,686</td>\n",
       "      <td>...</td>\n",
       "      <td>1,755</td>\n",
       "      <td>5</td>\n",
       "      <td>143</td>\n",
       "      <td>0</td>\n",
       "      <td>1</td>\n",
       "      <td>0</td>\n",
       "      <td>1</td>\n",
       "      <td>0</td>\n",
       "      <td>0</td>\n",
       "      <td>2020-06-03 11:49:09</td>\n",
       "    </tr>\n",
       "    <tr>\n",
       "      <th>1</th>\n",
       "      <td>2020-05</td>\n",
       "      <td>1호선</td>\n",
       "      <td>152</td>\n",
       "      <td>종각</td>\n",
       "      <td>75</td>\n",
       "      <td>4</td>\n",
       "      <td>3,014</td>\n",
       "      <td>4,160</td>\n",
       "      <td>3,319</td>\n",
       "      <td>23,724</td>\n",
       "      <td>...</td>\n",
       "      <td>2,735</td>\n",
       "      <td>58</td>\n",
       "      <td>161</td>\n",
       "      <td>0</td>\n",
       "      <td>0</td>\n",
       "      <td>0</td>\n",
       "      <td>1</td>\n",
       "      <td>0</td>\n",
       "      <td>0</td>\n",
       "      <td>2020-06-03 11:49:09</td>\n",
       "    </tr>\n",
       "    <tr>\n",
       "      <th>2</th>\n",
       "      <td>2020-05</td>\n",
       "      <td>1호선</td>\n",
       "      <td>153</td>\n",
       "      <td>종로3가</td>\n",
       "      <td>201</td>\n",
       "      <td>22</td>\n",
       "      <td>4,118</td>\n",
       "      <td>2,484</td>\n",
       "      <td>3,435</td>\n",
       "      <td>12,520</td>\n",
       "      <td>...</td>\n",
       "      <td>3,525</td>\n",
       "      <td>53</td>\n",
       "      <td>698</td>\n",
       "      <td>0</td>\n",
       "      <td>0</td>\n",
       "      <td>0</td>\n",
       "      <td>0</td>\n",
       "      <td>0</td>\n",
       "      <td>0</td>\n",
       "      <td>2020-06-03 11:49:09</td>\n",
       "    </tr>\n",
       "    <tr>\n",
       "      <th>3</th>\n",
       "      <td>2020-05</td>\n",
       "      <td>1호선</td>\n",
       "      <td>154</td>\n",
       "      <td>종로5가</td>\n",
       "      <td>29</td>\n",
       "      <td>1</td>\n",
       "      <td>1,708</td>\n",
       "      <td>3,562</td>\n",
       "      <td>2,587</td>\n",
       "      <td>15,233</td>\n",
       "      <td>...</td>\n",
       "      <td>2,131</td>\n",
       "      <td>15</td>\n",
       "      <td>290</td>\n",
       "      <td>0</td>\n",
       "      <td>1</td>\n",
       "      <td>0</td>\n",
       "      <td>0</td>\n",
       "      <td>0</td>\n",
       "      <td>0</td>\n",
       "      <td>2020-06-03 11:49:09</td>\n",
       "    </tr>\n",
       "    <tr>\n",
       "      <th>4</th>\n",
       "      <td>2020-05</td>\n",
       "      <td>1호선</td>\n",
       "      <td>155</td>\n",
       "      <td>동대문</td>\n",
       "      <td>620</td>\n",
       "      <td>13</td>\n",
       "      <td>13,095</td>\n",
       "      <td>2,198</td>\n",
       "      <td>9,135</td>\n",
       "      <td>7,173</td>\n",
       "      <td>...</td>\n",
       "      <td>10,298</td>\n",
       "      <td>25</td>\n",
       "      <td>1,012</td>\n",
       "      <td>0</td>\n",
       "      <td>0</td>\n",
       "      <td>0</td>\n",
       "      <td>0</td>\n",
       "      <td>0</td>\n",
       "      <td>0</td>\n",
       "      <td>2020-06-03 11:49:09</td>\n",
       "    </tr>\n",
       "  </tbody>\n",
       "</table>\n",
       "<p>5 rows × 53 columns</p>\n",
       "</div>"
      ],
      "text/plain": [
       "   2020-05  1호선  0150   서울역  813  16   8,478  5,920 10,736  37,191  ...  \\\n",
       "0  2020-05  1호선   151    시청   30   1   1,557  3,131  2,914  15,686  ...   \n",
       "1  2020-05  1호선   152    종각   75   4   3,014  4,160  3,319  23,724  ...   \n",
       "2  2020-05  1호선   153  종로3가  201  22   4,118  2,484  3,435  12,520  ...   \n",
       "3  2020-05  1호선   154  종로5가   29   1   1,708  3,562  2,587  15,233  ...   \n",
       "4  2020-05  1호선   155   동대문  620  13  13,095  2,198  9,135   7,173  ...   \n",
       "\n",
       "   10,959  11  1,427  0 0.1 0.2 0.3 0.4 0.5  2020-06-03 11:49:09  \n",
       "0   1,755   5    143  0   1   0   1   0   0  2020-06-03 11:49:09  \n",
       "1   2,735  58    161  0   0   0   1   0   0  2020-06-03 11:49:09  \n",
       "2   3,525  53    698  0   0   0   0   0   0  2020-06-03 11:49:09  \n",
       "3   2,131  15    290  0   1   0   0   0   0  2020-06-03 11:49:09  \n",
       "4  10,298  25  1,012  0   0   0   0   0   0  2020-06-03 11:49:09  \n",
       "\n",
       "[5 rows x 53 columns]"
      ]
     },
     "execution_count": 164,
     "metadata": {},
     "output_type": "execute_result"
    }
   ],
   "source": [
    "df.head()"
   ]
  },
  {
   "cell_type": "code",
   "execution_count": null,
   "metadata": {},
   "outputs": [],
   "source": []
  }
 ],
 "metadata": {
  "kernelspec": {
   "display_name": "Python 3",
   "language": "python",
   "name": "python3"
  },
  "language_info": {
   "codemirror_mode": {
    "name": "ipython",
    "version": 3
   },
   "file_extension": ".py",
   "mimetype": "text/x-python",
   "name": "python",
   "nbconvert_exporter": "python",
   "pygments_lexer": "ipython3",
   "version": "3.6.10"
  }
 },
 "nbformat": 4,
 "nbformat_minor": 4
}
