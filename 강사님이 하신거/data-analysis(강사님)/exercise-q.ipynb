{
 "cells": [
  {
   "cell_type": "code",
   "execution_count": 29,
   "metadata": {},
   "outputs": [],
   "source": [
    "import random\n",
    "import numpy as np\n",
    "import scipy as sp\n",
    "import scipy.stats\n",
    "import pandas as pd"
   ]
  },
  {
   "cell_type": "code",
   "execution_count": 14,
   "metadata": {},
   "outputs": [
    {
     "output_type": "execute_result",
     "data": {
      "text/plain": "array([ 45.,  73.,  74.,  93.,  10.,  28.,  96., 100.,  63.,  12.,  10.,\n        32.,  77.,  15.,  32.,  14.,  22.,  45.,  35.,   1.,  56.,  22.,\n        33.,  86.,  70.,  63., 100.,  20.,  12.,  61.,  39.,   4.,  73.,\n        24.,  19.,  64.,  14.,  27.,   3.,   4.,  26.,  24.,  29.,  93.,\n        93.,  26.,  93.,  95.,  82.,  24.,  21.,   7.,  50.,  96.,  29.,\n        32.,  51.,  52.,  55.,  50.,  91.,  25.,  11.,  89.,  81.,   8.,\n        30.,  89., 100.,  28.,  20.,  69.,  13.,  21.,   2.,  98.,  52.,\n        74.,  35.,  45.,  22.,  42.,  52.,  95.,  45.,  94.,  48.,  15.,\n        41.,  21.,   3.,  28.,  81.,  84.,  94.,  18.,   6.,  90.,  36.,\n        99.])"
     },
     "metadata": {},
     "execution_count": 14
    }
   ],
   "source": [
    "x = np.zeros(100)\n",
    "for idx in range(100):\n",
    "    x[idx] = random.randint(1, 100)\n",
    "x   "
   ]
  },
  {
   "cell_type": "code",
   "execution_count": 22,
   "metadata": {
    "tags": []
   },
   "outputs": [
    {
     "output_type": "stream",
     "name": "stdout",
     "text": "100\n46.94\n46.94\n978.9764\n31.28859856241567\n1.0\n100.0\n21.0\n40.0\n74.75\n"
    }
   ],
   "source": [
    "print(len(x)) # 데이터 갯수\n",
    "print(np.mean(x)) # 평균\n",
    "print(sum(x)/len(x)) # 평균\n",
    "print(np.var(x)) # 분산\n",
    "print(np.std(x)) # 표준편차\n",
    "print(np.min(x)) # 최소값\n",
    "print(np.max(x)) # 최대값\n",
    "print(np.percentile(x, 25)) # 1사분위 수\n",
    "print(np.percentile(x, 50)) # 2사분위 수\n",
    "print(np.percentile(x, 75)) # 3사분위 수"
   ]
  },
  {
   "cell_type": "code",
   "execution_count": 30,
   "metadata": {
    "tags": []
   },
   "outputs": [
    {
     "output_type": "stream",
     "name": "stdout",
     "text": "DescribeResult(nobs=100, minmax=(1.0, 100.0), mean=46.94, variance=988.8650505050505, skewness=0.340192750770787, kurtosis=-1.2735422410885573)\ncount    100.000000\nmean      46.940000\nstd       31.446225\nmin        1.000000\n25%       21.000000\n50%       40.000000\n75%       74.750000\nmax      100.000000\ndtype: float64\n"
    }
   ],
   "source": [
    "print( sp.stats.describe(x) )\n",
    "print( pd.Series(x).describe() )"
   ]
  },
  {
   "cell_type": "code",
   "execution_count": null,
   "metadata": {},
   "outputs": [],
   "source": []
  }
 ],
 "metadata": {
  "language_info": {
   "codemirror_mode": {
    "name": "ipython",
    "version": 3
   },
   "file_extension": ".py",
   "mimetype": "text/x-python",
   "name": "python",
   "nbconvert_exporter": "python",
   "pygments_lexer": "ipython3",
   "version": "3.6.10-final"
  },
  "orig_nbformat": 2,
  "kernelspec": {
   "name": "python361064bithoseoconda74918617c8c247faa20a6f745fb4cc30",
   "display_name": "Python 3.6.10 64-bit ('hoseo': conda)"
  }
 },
 "nbformat": 4,
 "nbformat_minor": 2
}