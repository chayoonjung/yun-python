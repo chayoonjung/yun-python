{
 "cells": [
  {
   "cell_type": "code",
   "execution_count": null,
   "metadata": {},
   "outputs": [],
   "source": [
    "# 데이터 확인\n",
    "import csv\n",
    "\n",
    "with open('data-files/subway-data.csv', encoding=\"utf-8\") as f:\n",
    "    reader = csv.reader(f)\n",
    "    next(reader)\n",
    "    next(reader)\n",
    "    \n",
    "    for idx, row in enumerate(reader):\n",
    "        print(row)\n",
    "        if idx == 5:\n",
    "            break;"
   ]
  },
  {
   "cell_type": "code",
   "execution_count": 13,
   "metadata": {},
   "outputs": [
    {
     "data": {
      "text/plain": [
       "30"
      ]
     },
     "execution_count": 13,
     "metadata": {},
     "output_type": "execute_result"
    }
   ],
   "source": [
    "my_f = lambda x, y: x + y\n",
    "#def my_f(x, y):\n",
    "#    return x + y\n",
    "my_f(10, 20)"
   ]
  },
  {
   "cell_type": "code",
   "execution_count": null,
   "metadata": {},
   "outputs": [],
   "source": [
    "# map 함수 사용 연습\n",
    "\n",
    "import csv\n",
    "\n",
    "with open('data-files/subway-data.csv', encoding=\"utf-8\") as f:\n",
    "    reader = csv.reader(f)\n",
    "    next(reader)\n",
    "    next(reader)\n",
    "    \n",
    "    for idx, row in enumerate(reader):        \n",
    "        # print(row[4:])\n",
    "        # changed = map(int, row[4:-1]) # map(변환함수, 데이터)\n",
    "        # changed = map(lambda x: int(x.replace(',', '')), \n",
    "        #               row[4:-1])\n",
    "        # changed = [ int(x.replace(',', '') for x in row[4:-1] ]\n",
    "        # print(list(changed))\n",
    "        \n",
    "        row[4:-1] = map(lambda x: int(x.replace(',', '')), \n",
    "                        row[4:-1])\n",
    "        print(len(row[4:-1]))\n",
    "        print(row[4:-1])\n",
    "        if idx == 5:\n",
    "            break;"
   ]
  },
  {
   "cell_type": "code",
   "execution_count": 83,
   "metadata": {},
   "outputs": [],
   "source": [
    "# 역 별 7시 승차인원 합계\n",
    "import csv\n",
    "\n",
    "with open('data-files/subway-data.csv', encoding=\"utf-8\") as f:\n",
    "    reader = csv.reader(f)\n",
    "    next(reader)\n",
    "    next(reader)\n",
    "    \n",
    "    cnt_by_station = {}\n",
    "    \n",
    "    for row in reader:\n",
    "        hour = 23\n",
    "        idx = (hour - 4) * 2 + 4 # 승차\n",
    "        # idx = (hour - 4) * 2 + 5 # 하차\n",
    "        row[4:-1] = map(lambda x: int(x.replace(',', '')), \n",
    "                        row[4:-1])\n",
    "        cnt = sum(row[idx : idx + 2 * 2 : 2])\n",
    "        if row[3] in cnt_by_station:\n",
    "            prev_data = cnt_by_station[row[3]]\n",
    "            cnt_by_station[row[3]] = prev_data + cnt\n",
    "        else:\n",
    "            cnt_by_station[row[3]] = cnt\n",
    "            \n",
    "sorted_cnt_by_station = sorted(cnt_by_station.items(), \\\n",
    "                               key=lambda kv : kv[1], \\\n",
    "                               reverse=True)\n"
   ]
  },
  {
   "cell_type": "code",
   "execution_count": 84,
   "metadata": {},
   "outputs": [
    {
     "data": {
      "text/plain": [
       "[('강남', 61556), ('홍대입구', 57681)]"
      ]
     },
     "execution_count": 84,
     "metadata": {},
     "output_type": "execute_result"
    }
   ],
   "source": [
    "sorted_cnt_by_station[:2]"
   ]
  },
  {
   "cell_type": "code",
   "execution_count": 85,
   "metadata": {},
   "outputs": [
    {
     "data": {
      "image/png": "[encoded data removed]",
      "text/plain": [
       "<Figure size 432x288 with 1 Axes>"
      ]
     },
     "metadata": {
      "needs_background": "light"
     },
     "output_type": "display_data"
    }
   ],
   "source": [
    "import matplotlib.pyplot as plt\n",
    "\n",
    "cnt_list = list(dict(sorted_cnt_by_station).values())\n",
    "stations = list(dict(sorted_cnt_by_station).keys())\n",
    "# plt.bar(range(len(cnt_list)), cnt_list, width=3)\n",
    "# plt.plot(cnt_list)\n",
    "plt.rc('font', family='Malgun Gothic')\n",
    "plt.bar(range(20), cnt_list[:20])\n",
    "plt.xticks(range(20), stations[:20], rotation=90)\n",
    "plt.show()"
   ]
  },
  {
   "cell_type": "code",
   "execution_count": 86,
   "metadata": {},
   "outputs": [],
   "source": [
    "def add_list_by_element(list1, list2):\n",
    "    # True일 때 사용할 값1 if 조건식 else False일 때 사용할 값2\n",
    "    l, s = (list1, list2) if len(list1) >= len(list2) \\\n",
    "                          else (list2, list1)\n",
    "\n",
    "    result = l.copy()\n",
    "    for idx, e in enumerate(s):\n",
    "            result[idx] = s[idx] + l[idx]\n",
    "            \n",
    "    return result"
   ]
  },
  {
   "cell_type": "code",
   "execution_count": 110,
   "metadata": {},
   "outputs": [
    {
     "data": {
      "text/plain": [
       "[('구로', 10144),\n",
       " ('대림(구로구청)', 47618),\n",
       " ('신림', 91277),\n",
       " ('여의도', 230500),\n",
       " ('가산디지털단지', 504381),\n",
       " ('강남', 349390),\n",
       " ('고속터미널', 190788),\n",
       " ('고속터미널', 211399),\n",
       " ('고속터미널', 220433),\n",
       " ('고속터미널', 238698),\n",
       " ('고속터미널', 247239),\n",
       " ('고속터미널', 268926),\n",
       " ('고속터미널', 283936),\n",
       " ('강남', 334172),\n",
       " ('강남', 493832),\n",
       " ('강남', 318571),\n",
       " ('잠실(송파구청)', 240739),\n",
       " ('강남', 220906),\n",
       " ('강남', 212904),\n",
       " ('신림', 102725),\n",
       " ('신도림', 15097),\n",
       " ('인천', 7),\n",
       " ('신당', 2),\n",
       " ('서울역', 0)]"
      ]
     },
     "execution_count": 110,
     "metadata": {},
     "output_type": "execute_result"
    }
   ],
   "source": [
    "# 역별/시간대별 승객수 \n",
    "import csv\n",
    "\n",
    "with open('data-files/subway-data.csv', encoding=\"utf-8\") as f:\n",
    "    reader = csv.reader(f)\n",
    "    next(reader)\n",
    "    next(reader)\n",
    "    \n",
    "    cnt_by_station = {}\n",
    "    \n",
    "    for row in reader:\n",
    "        hour = 4\n",
    "        idx = (hour - 4) * 2 + 4 # 승차\n",
    "        # idx = (hour - 4) * 2 + 5 # 하차\n",
    "        row[4:-1] = map(lambda x: int(x.replace(',', '')), \n",
    "                        row[4:-1])\n",
    "        cnts = []\n",
    "        for h in range(24):\n",
    "            cnt = row[idx + h * 2] + row[idx + h * 2 + 1]\n",
    "            cnts.append(cnt)\n",
    "            \n",
    "        if row[3] in cnt_by_station:\n",
    "            prev_data = cnt_by_station[row[3]]\n",
    "            cnt_by_station[row[3]] = \\\n",
    "                add_list_by_element(prev_data, cnts)\n",
    "        else:\n",
    "            cnt_by_station[row[3]] = cnts\n",
    "            \n",
    "\n",
    "# print(len(list(cnt_by_station.items())[0][1]))\n",
    "# list(cnt_by_station.items())[:2]\n",
    "\n",
    "top_one_by_hour = []\n",
    "for idx in range(24):\n",
    "    sorted_by_h = sorted(cnt_by_station.items(), \n",
    "                         key=lambda kv : kv[1][idx],\n",
    "                         reverse=True)\n",
    "    # top_one_by_hour.append(sorted_by_h[0])\n",
    "    top_one_by_hour.append(\\\n",
    "        (sorted_by_h[0][0], sorted_by_h[0][1][idx]))\n",
    "\n",
    "top_one_by_hour"
   ]
  },
  {
   "cell_type": "code",
   "execution_count": 114,
   "metadata": {},
   "outputs": [
    {
     "data": {
      "text/plain": [
       "[(14, [17965005, 16489387]),\n",
       " (4, [15257337, 18094697]),\n",
       " (13, [13278794, 11257355]),\n",
       " (15, [9850784, 13620575]),\n",
       " (5, [9383341, 11885809]),\n",
       " (3, [13222919, 7884852]),\n",
       " (12, [9970996, 8981738]),\n",
       " (11, [8689880, 8214553]),\n",
       " (9, [7937772, 7888863]),\n",
       " (10, [7960799, 7840074]),\n",
       " (16, [7539696, 8179318]),\n",
       " (8, [7508286, 7193539]),\n",
       " (6, [6867525, 7413014]),\n",
       " (17, [6865561, 7076573]),\n",
       " (7, [6884571, 6869507]),\n",
       " (18, [5626715, 6371986]),\n",
       " (2, [5313295, 3645705]),\n",
       " (19, [2090385, 4255486]),\n",
       " (1, [2735202, 722627]),\n",
       " (20, [36842, 644821]),\n",
       " (0, [114714, 1414]),\n",
       " (21, [22, 62]),\n",
       " (22, [9, 15]),\n",
       " (23, [0, 0])]"
      ]
     },
     "execution_count": 114,
     "metadata": {},
     "output_type": "execute_result"
    }
   ],
   "source": [
    "# 시간대별 승차/하차 승객수 \n",
    "import csv\n",
    "\n",
    "with open('data-files/subway-data.csv', encoding=\"utf-8\") as f:\n",
    "    reader = csv.reader(f)\n",
    "    next(reader)\n",
    "    next(reader)\n",
    "    \n",
    "    cnt_by_hour = {}\n",
    "    \n",
    "    for row in reader:\n",
    "        hour = 4\n",
    "        idx = (hour - 4) * 2 + 4 # 승차        \n",
    "        row[4:-1] = map(lambda x: int(x.replace(',', '')), \n",
    "                        row[4:-1])\n",
    "        cnts = []\n",
    "        for h in range(24):            \n",
    "            cnt = [ row[idx + h * 2], row[idx + h * 2 + 1] ]\n",
    "            if h in cnt_by_hour:\n",
    "                prev_data = cnt_by_hour[h]\n",
    "                new_data = add_list_by_element(prev_data, cnt)\n",
    "                cnt_by_hour[h] = new_data\n",
    "            else:\n",
    "                cnt_by_hour[h] = cnt\n",
    "\n",
    "# print(cnt_by_hour)\n",
    "\n",
    "sorted_cnt_by_hour = sorted(cnt_by_hour.items(),\n",
    "                            key=lambda kv: kv[1][0] + kv[1][1],\n",
    "                            reverse=True)\n",
    "sorted_cnt_by_hour\n"
   ]
  },
  {
   "cell_type": "code",
   "execution_count": 107,
   "metadata": {},
   "outputs": [
    {
     "data": {
      "text/plain": [
       "'aaaaaaaaaa'"
      ]
     },
     "execution_count": 107,
     "metadata": {},
     "output_type": "execute_result"
    }
   ],
   "source": []
  },
  {
   "cell_type": "code",
   "execution_count": 13,
   "metadata": {},
   "outputs": [
    {
     "name": "stdout",
     "output_type": "stream",
     "text": [
      "end of file\n"
     ]
    }
   ],
   "source": [
    "# 데이터 확인\n",
    "import csv\n",
    "\n",
    "with open('data-files/subway-data.csv', encoding=\"utf-8\") as f:\n",
    "    reader = csv.reader(f)\n",
    "    next(reader)\n",
    "    next(reader)\n",
    "    \n",
    "    with open('data-files/subway-data-modified.csv', 'w', encoding=\"utf-8\") as f2:        \n",
    "        for idx, row in enumerate(reader):\n",
    "            row2 = map(lambda x: x.replace(\",\", \"\"), row)\n",
    "            f2.write(\",\".join(list(row2)))\n",
    "            f2.write('\\n')\n",
    "            \n",
    "print(\"end of file\")"
   ]
  },
  {
   "cell_type": "code",
   "execution_count": 17,
   "metadata": {},
   "outputs": [],
   "source": [
    "import numpy as np\n",
    "\n",
    "ar = np.genfromtxt('data-files/subway-data-modified.csv', delimiter=',', encoding=\"utf-8\", dtype='U')\n"
   ]
  },
  {
   "cell_type": "code",
   "execution_count": 18,
   "metadata": {},
   "outputs": [
    {
     "name": "stdout",
     "output_type": "stream",
     "text": [
      "[['2020-05' '1호선' '0150' ... '0' '0' '2020-06-03 11:49:09']\n",
      " ['2020-05' '1호선' '0151' ... '0' '0' '2020-06-03 11:49:09']\n",
      " ['2020-05' '1호선' '0152' ... '0' '0' '2020-06-03 11:49:09']\n",
      " ...\n",
      " ['2020-05' '우이신설선' '4711' ... '0' '0' '2020-06-03 11:49:09']\n",
      " ['2020-05' '우이신설선' '4712' ... '0' '0' '2020-06-03 11:49:09']\n",
      " ['2020-05' '우이신설선' '4713' ... '0' '0' '2020-06-03 11:49:09']]\n"
     ]
    }
   ],
   "source": [
    "print(ar)"
   ]
  },
  {
   "cell_type": "code",
   "execution_count": 9,
   "metadata": {},
   "outputs": [
    {
     "name": "stdout",
     "output_type": "stream",
     "text": [
      "['2020-05', '1호선', '0150', '서울역', '813', '16', '8478', '5920', '10736', '37191', '29922', '80358', '53921', '170533', '39251', '114126', '38103', '55958', '46762', '47869', '55232', '49303', '57055', '51283', '48828', '49860', '64421', '50831', '71948', '51102', '115171', '60380', '176221', '63184', '86920', '45583', '61811', '31079', '59285', '25122', '41290', '18647', '15258', '10959', '11', '1427', '0', '0', '0', '0', '0', '0', '2020-06-03 11:49:09']\n",
      "['2020-05', '1호선', '0151', '시청', '30', '1', '1557', '3131', '2914', '15686', '5627', '57041', '6957', '138115', '7841', '67596', '8553', '27971', '12095', '26249', '13668', '22574', '17272', '22013', '22049', '18517', '28018', '16094', '32000', '13771', '59053', '14576', '115293', '15487', '46640', '7610', '34966', '4267', '34047', '3807', '22202', '2630', '7325', '1755', '5', '143', '0', '1', '0', '1', '0', '0', '2020-06-03 11:49:09']\n",
      "['2020-05', '1호선', '0152', '종각', '75', '4', '3014', '4160', '3319', '23724', '5074', '92171', '7924', '209115', '9987', '120714', '13458', '53331', '20798', '45394', '25190', '40733', '34636', '42700', '40115', '36281', '50544', '31772', '57906', '30872', '112976', '35132', '182870', '43612', '83167', '24381', '69067', '10039', '78851', '6528', '60248', '4144', '22662', '2735', '58', '161', '0', '0', '0', '1', '0', '0', '2020-06-03 11:49:09']\n",
      "['2020-05', '1호선', '0153', '종로3가', '201', '22', '4118', '2484', '3435', '12520', '4612', '24320', '7174', '66473', '10489', '73357', '20519', '59967', '31260', '58879', '37145', '58437', '47571', '58249', '50770', '52199', '56840', '44373', '60378', '36765', '67784', '33252', '94613', '35091', '59187', '19383', '44218', '8733', '48552', '5817', '38442', '4165', '13893', '3525', '53', '698', '0', '0', '0', '0', '0', '0', '2020-06-03 11:49:09']\n",
      "['2020-05', '1호선', '0154', '종로5가', '29', '1', '1708', '3562', '2587', '15233', '4517', '37360', '7440', '96741', '10656', '60684', '17492', '49432', '25615', '48395', '32360', '47275', '39556', '43658', '46587', '42267', '51601', '37485', '54887', '30589', '67504', '25688', '94202', '22480', '48877', '13120', '30896', '6099', '25869', '4646', '18521', '3186', '5727', '2131', '15', '290', '0', '1', '0', '0', '0', '0', '2020-06-03 11:49:09']\n",
      "['2020-05', '1호선', '0155', '동대문', '620', '13', '13095', '2198', '9135', '7173', '11941', '12507', '17471', '25104', '16819', '23527', '16366', '22714', '17629', '25220', '21258', '25909', '22664', '24403', '23524', '23966', '24632', '22634', '25447', '19352', '25133', '19093', '24186', '18922', '16973', '20328', '13729', '14643', '13253', '10925', '10893', '10333', '4659', '10298', '25', '1012', '0', '0', '0', '0', '0', '0', '2020-06-03 11:49:09']\n"
     ]
    }
   ],
   "source": [
    "with open('data-files/subway-data-modified.csv', encoding=\"utf-8\") as f:\n",
    "    reader = csv.reader(f)\n",
    "    \n",
    "    for idx, row in enumerate(reader):\n",
    "        print(row)\n",
    "        if idx == 5:\n",
    "            break;"
   ]
  },
  {
   "cell_type": "code",
   "execution_count": null,
   "metadata": {},
   "outputs": [],
   "source": []
  }
 ],
 "metadata": {
  "kernelspec": {
   "display_name": "Python 3",
   "language": "python",
   "name": "python3"
  },
  "language_info": {
   "codemirror_mode": {
    "name": "ipython",
    "version": 3
   },
   "file_extension": ".py",
   "mimetype": "text/x-python",
   "name": "python",
   "nbconvert_exporter": "python",
   "pygments_lexer": "ipython3",
   "version": "3.6.10"
  }
 },
 "nbformat": 4,
 "nbformat_minor": 4
}
