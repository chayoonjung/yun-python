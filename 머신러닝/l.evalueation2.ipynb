{
 "cells": [
  {
   "cell_type": "code",
   "execution_count": 1,
   "metadata": {},
   "outputs": [],
   "source": [
    "import numpy as np\n",
    "import matplotlib.pyplot as plt\n",
    "\n",
    "from sklearn.datasets import load_digits\n",
    "from sklearn.model_selection import train_test_split"
   ]
  },
  {
   "cell_type": "code",
   "execution_count": 2,
   "metadata": {},
   "outputs": [
    {
     "data": {
      "text/plain": [
       "array([[ 0.,  0., 12., 10.,  0.,  0.,  0.,  0.],\n",
       "       [ 0.,  0., 14., 16., 16., 14.,  0.,  0.],\n",
       "       [ 0.,  0., 13., 16., 15., 10.,  1.,  0.],\n",
       "       [ 0.,  0., 11., 16., 16.,  7.,  0.,  0.],\n",
       "       [ 0.,  0.,  0.,  4.,  7., 16.,  7.,  0.],\n",
       "       [ 0.,  0.,  0.,  0.,  4., 16.,  9.,  0.],\n",
       "       [ 0.,  0.,  5.,  4., 12., 16.,  4.,  0.],\n",
       "       [ 0.,  0.,  9., 16., 16., 10.,  0.,  0.]])"
      ]
     },
     "execution_count": 2,
     "metadata": {},
     "output_type": "execute_result"
    }
   ],
   "source": [
    "digits = load_digits()\n",
    "digits['data'][5].reshape(8,8) #색상값들.."
   ]
  },
  {
   "cell_type": "code",
   "execution_count": 3,
   "metadata": {},
   "outputs": [
    {
     "name": "stdout",
     "output_type": "stream",
     "text": [
      "(1797, 64)\n",
      "label :  5\n"
     ]
    },
    {
     "data": {
      "image/png": "[encoded data removed]",
      "text/plain": [
       "<Figure size 432x288 with 1 Axes>"
      ]
     },
     "metadata": {
      "needs_background": "light"
     },
     "output_type": "display_data"
    }
   ],
   "source": [
    "print(digits['data'].shape)   #1797장의 이미지, (8 X 8)\n",
    "print( \"label : \",digits['target'][5])\n",
    "plt.imshow(digits['data'][5].reshape(8,8) )   #8픽셀 이미지가 들어가 있는..\n",
    "plt.show()"
   ]
  },
  {
   "cell_type": "code",
   "execution_count": 4,
   "metadata": {},
   "outputs": [
    {
     "data": {
      "text/plain": [
       "(array([0, 1, 2, 3, 4, 5, 6, 7, 8, 9]),\n",
       " array([178, 182, 177, 183, 181, 182, 181, 179, 174, 180], dtype=int64))"
      ]
     },
     "execution_count": 4,
     "metadata": {},
     "output_type": "execute_result"
    }
   ],
   "source": [
    "digits['target_names']   #총 10개의 숫자가 들어가 있다..\n",
    "np.unique(digits['target'], return_counts=True) "
   ]
  },
  {
   "cell_type": "code",
   "execution_count": 5,
   "metadata": {},
   "outputs": [],
   "source": [
    "from sklearn.model_selection import train_test_split\n",
    "\n",
    "X, y= digits['data'], digits['target'] == 9\n",
    "X_train, X_test, y_train, y_test = train_test_split(X, y, stratify=y, random_state=42)"
   ]
  },
  {
   "cell_type": "code",
   "execution_count": 6,
   "metadata": {},
   "outputs": [
    {
     "data": {
      "text/plain": [
       "(array([False,  True]), array([1617,  180], dtype=int64))"
      ]
     },
     "execution_count": 6,
     "metadata": {},
     "output_type": "execute_result"
    }
   ],
   "source": [
    "# print(digits['target'].shape)\n",
    "# print(len(y))\n",
    "np.unique(y, return_counts=True)   #목적변수 비율이 불균형. 약 90%가 false //"
   ]
  },
  {
   "cell_type": "code",
   "execution_count": 7,
   "metadata": {},
   "outputs": [
    {
     "data": {
      "text/plain": [
       "0.9"
      ]
     },
     "execution_count": 7,
     "metadata": {},
     "output_type": "execute_result"
    }
   ],
   "source": [
    "from sklearn.dummy import DummyClassifier\n",
    "dc = DummyClassifier(strategy=\"most_frequent\")  # most_frequency :한쪽으로 쏠린다.\n",
    "dc.fit(X_train, y_train)\n",
    "dc.score(X_test, y_test)"
   ]
  },
  {
   "cell_type": "code",
   "execution_count": 8,
   "metadata": {},
   "outputs": [
    {
     "data": {
      "text/plain": [
       "0.9888888888888889"
      ]
     },
     "execution_count": 8,
     "metadata": {},
     "output_type": "execute_result"
    }
   ],
   "source": [
    "from sklearn.svm import SVC\n",
    "\n",
    "svc = SVC()\n",
    "svc.fit(X_train, y_train)\n",
    "svc.score(X_test,y_test)"
   ]
  },
  {
   "cell_type": "code",
   "execution_count": 9,
   "metadata": {},
   "outputs": [
    {
     "data": {
      "text/plain": [
       "0.9777777777777777"
      ]
     },
     "execution_count": 9,
     "metadata": {},
     "output_type": "execute_result"
    }
   ],
   "source": [
    "from sklearn.linear_model import LogisticRegression\n",
    "\n",
    "lr = LogisticRegression(max_iter=1000)\n",
    "lr.fit(X_train, y_train)\n",
    "lr.score(X_test,y_test)"
   ]
  },
  {
   "cell_type": "code",
   "execution_count": 10,
   "metadata": {},
   "outputs": [
    {
     "data": {
      "text/plain": [
       "0.9355555555555556"
      ]
     },
     "execution_count": 10,
     "metadata": {},
     "output_type": "execute_result"
    }
   ],
   "source": [
    "from sklearn.tree import DecisionTreeClassifier    #tree가 작업 할때 어떤 속성을 먼저 할지 고정하지 않으면 계속 수치가 바뀐다.\n",
    "\n",
    "tree = DecisionTreeClassifier(max_depth=4)\n",
    "tree.fit(X_train, y_train)\n",
    "tree.score(X_test,y_test)"
   ]
  },
  {
   "cell_type": "code",
   "execution_count": 11,
   "metadata": {},
   "outputs": [
    {
     "name": "stdout",
     "output_type": "stream",
     "text": [
      "[[405   0]\n",
      " [ 45   0]]\n",
      "[[396   9]\n",
      " [ 20  25]]\n",
      "[[400   5]\n",
      " [  5  40]]\n"
     ]
    }
   ],
   "source": [
    "from sklearn.metrics import confusion_matrix\n",
    "\n",
    "print(confusion_matrix(y_test, dc.predict(X_test)))\n",
    "print(confusion_matrix(y_test, tree.predict(X_test)))\n",
    "print(confusion_matrix(y_test, lr.predict(X_test)))"
   ]
  },
  {
   "cell_type": "code",
   "execution_count": 12,
   "metadata": {},
   "outputs": [
    {
     "name": "stdout",
     "output_type": "stream",
     "text": [
      "0.0\n",
      "0.5555555555555556\n",
      "0.8888888888888888\n",
      "********************\n",
      "0.0\n",
      "0.7352941176470589\n",
      "0.8888888888888888\n",
      "********************\n",
      "0.0\n",
      "0.6329113924050633\n",
      "0.8888888888888888\n"
     ]
    },
    {
     "name": "stderr",
     "output_type": "stream",
     "text": [
      "c:\\programdata\\miniconda3\\envs\\hoseo\\lib\\site-packages\\sklearn\\metrics\\_classification.py:1221: UndefinedMetricWarning: Precision is ill-defined and being set to 0.0 due to no predicted samples. Use `zero_division` parameter to control this behavior.\n",
      "  _warn_prf(average, modifier, msg_start, len(result))\n"
     ]
    }
   ],
   "source": [
    "from sklearn.metrics import precision_score, recall_score, f1_score\n",
    "\n",
    "print(recall_score(y_test, dc.predict(X_test)))\n",
    "print(recall_score(y_test, tree.predict(X_test)))\n",
    "print(recall_score(y_test, lr.predict(X_test)))\n",
    "print('*' * 20)\n",
    "print(precision_score(y_test, dc.predict(X_test)))\n",
    "print(precision_score(y_test, tree.predict(X_test)))\n",
    "print(precision_score(y_test, lr.predict(X_test)))\n",
    "print('*' * 20)\n",
    "print(f1_score(y_test, dc.predict(X_test)))\n",
    "print(f1_score(y_test, tree.predict(X_test)))\n",
    "print(f1_score(y_test, lr.predict(X_test)))"
   ]
  },
  {
   "cell_type": "code",
   "execution_count": 13,
   "metadata": {},
   "outputs": [
    {
     "name": "stdout",
     "output_type": "stream",
     "text": [
      "              precision    recall  f1-score   support\n",
      "\n",
      "       False       0.90      1.00      0.95       405\n",
      "        True       0.00      0.00      0.00        45\n",
      "\n",
      "    accuracy                           0.90       450\n",
      "   macro avg       0.45      0.50      0.47       450\n",
      "weighted avg       0.81      0.90      0.85       450\n",
      "\n",
      "              precision    recall  f1-score   support\n",
      "\n",
      "       False       0.95      0.98      0.96       405\n",
      "        True       0.74      0.56      0.63        45\n",
      "\n",
      "    accuracy                           0.94       450\n",
      "   macro avg       0.84      0.77      0.80       450\n",
      "weighted avg       0.93      0.94      0.93       450\n",
      "\n",
      "              precision    recall  f1-score   support\n",
      "\n",
      "       False       0.99      0.99      0.99       405\n",
      "        True       0.89      0.89      0.89        45\n",
      "\n",
      "    accuracy                           0.98       450\n",
      "   macro avg       0.94      0.94      0.94       450\n",
      "weighted avg       0.98      0.98      0.98       450\n",
      "\n"
     ]
    },
    {
     "name": "stderr",
     "output_type": "stream",
     "text": [
      "c:\\programdata\\miniconda3\\envs\\hoseo\\lib\\site-packages\\sklearn\\metrics\\_classification.py:1221: UndefinedMetricWarning: Precision and F-score are ill-defined and being set to 0.0 in labels with no predicted samples. Use `zero_division` parameter to control this behavior.\n",
      "  _warn_prf(average, modifier, msg_start, len(result))\n"
     ]
    }
   ],
   "source": [
    "from sklearn.metrics import classification_report\n",
    "\n",
    "print(classification_report(y_test, dc.predict(X_test)))\n",
    "print(classification_report(y_test, tree.predict(X_test)))\n",
    "print(classification_report(y_test, lr.predict(X_test)))"
   ]
  },
  {
   "cell_type": "code",
   "execution_count": 14,
   "metadata": {},
   "outputs": [
    {
     "name": "stderr",
     "output_type": "stream",
     "text": [
      "c:\\programdata\\miniconda3\\envs\\hoseo\\lib\\site-packages\\sklearn\\utils\\deprecation.py:86: FutureWarning: Function make_blobs is deprecated; Please import make_blobs directly from scikit-learn\n",
      "  warnings.warn(msg, category=FutureWarning)\n"
     ]
    }
   ],
   "source": [
    "import mglearn\n",
    "import matplotlib.pyplot as plt\n",
    "\n",
    "X, y = mglearn.datasets.make_blobs(n_samples=(400, 50), \n",
    "                                   centers=2, \n",
    "                                   cluster_std=[7.0, 2],\n",
    "                                   random_state=42)"
   ]
  },
  {
   "cell_type": "code",
   "execution_count": 15,
   "metadata": {},
   "outputs": [
    {
     "name": "stdout",
     "output_type": "stream",
     "text": [
      "(450, 2)\n",
      "[[ 9.23767508  1.24749256]\n",
      " [-2.47249173  9.34315028]\n",
      " [-3.61525291  6.02611864]\n",
      " [-0.85989572 14.41034249]\n",
      " [ 5.80773521  1.2545855 ]]\n",
      "(array([0, 1]), array([400,  50], dtype=int64))\n"
     ]
    }
   ],
   "source": [
    "print(X.shape)\n",
    "print(X[:5])\n",
    "print(np.unique(y, return_counts=True))    #불균형 데이터"
   ]
  },
  {
   "cell_type": "code",
   "execution_count": 16,
   "metadata": {},
   "outputs": [
    {
     "data": {
      "image/png": "[encoded data removed]",
      "text/plain": [
       "<Figure size 432x288 with 1 Axes>"
      ]
     },
     "metadata": {
      "needs_background": "light"
     },
     "output_type": "display_data"
    }
   ],
   "source": [
    "plt.scatter(X[y==0, 0], X[y==0, 1], marker='^' , color='red')\n",
    "plt.scatter(X[y==1, 0], X[y==1, 1], marker='v', color='skyblue')\n",
    "plt.show()"
   ]
  },
  {
   "cell_type": "code",
   "execution_count": 17,
   "metadata": {},
   "outputs": [],
   "source": [
    "X_train, X_test, y_train, y_test = train_test_split(X, y, stratify=y, random_state=42)"
   ]
  },
  {
   "cell_type": "code",
   "execution_count": 18,
   "metadata": {},
   "outputs": [
    {
     "name": "stdout",
     "output_type": "stream",
     "text": [
      "              precision    recall  f1-score   support\n",
      "\n",
      "           0       0.97      0.95      0.96       100\n",
      "           1       0.67      0.77      0.71        13\n",
      "\n",
      "    accuracy                           0.93       113\n",
      "   macro avg       0.82      0.86      0.84       113\n",
      "weighted avg       0.93      0.93      0.93       113\n",
      "\n"
     ]
    }
   ],
   "source": [
    "from sklearn.svm import SVC\n",
    "\n",
    "svc = SVC()\n",
    "svc.fit(X_train, y_train)\n",
    "print(classification_report(y_test, svc.predict(X_test)))"
   ]
  },
  {
   "cell_type": "code",
   "execution_count": 19,
   "metadata": {},
   "outputs": [
    {
     "name": "stdout",
     "output_type": "stream",
     "text": [
      "              precision    recall  f1-score   support\n",
      "\n",
      "           0       1.00      0.89      0.94       100\n",
      "           1       0.54      1.00      0.70        13\n",
      "\n",
      "    accuracy                           0.90       113\n",
      "   macro avg       0.77      0.95      0.82       113\n",
      "weighted avg       0.95      0.90      0.91       113\n",
      "\n"
     ]
    }
   ],
   "source": [
    "y_pred = svc.decision_function(X_test) > -0.8   #-0.8보다 작으면 False, -0.8보다 크면 True 판단   #0.8은 임의값. 다른수 줘도 상관 없음.\n",
    "print(classification_report(y_test, y_pred))        #"
   ]
  },
  {
   "cell_type": "code",
   "execution_count": 22,
   "metadata": {},
   "outputs": [
    {
     "name": "stderr",
     "output_type": "stream",
     "text": [
      "c:\\programdata\\miniconda3\\envs\\hoseo\\lib\\site-packages\\sklearn\\utils\\deprecation.py:86: FutureWarning: Function make_blobs is deprecated; Please import make_blobs directly from scikit-learn\n",
      "  warnings.warn(msg, category=FutureWarning)\n",
      "No handles with labels found to put in legend.\n"
     ]
    },
    {
     "data": {
      "image/png": "[encoded data removed]",
      "text/plain": [
       "<Figure size 432x288 with 1 Axes>"
      ]
     },
     "metadata": {
      "needs_background": "light"
     },
     "output_type": "display_data"
    }
   ],
   "source": [
    "from sklearn.metrics import precision_recall_curve       \n",
    "\n",
    "X, y = mglearn.datasets.make_blobs(n_samples=(4000, 500), \n",
    "                                   centers=2, \n",
    "                                   cluster_std=[7.0, 2],\n",
    "                                   random_state=42)\n",
    "\n",
    "X_train, X_test, y_train, y_test = train_test_split(X, y, stratify=y, random_state=42)\n",
    "\n",
    "svc = SVC(probability=True)\n",
    "svc.fit(X_train, y_train)\n",
    "\n",
    "precision, recall, thresholds = precision_recall_curve(y_test, svc.decision_function(X_test))\n",
    "\n",
    "idx = np.argmin(np.abs(thresholds))   #0에 근접한 임계값 위치 찾기    \n",
    "# thresholds(임계치)에 따라 precision(정밀도), recall(재현율) 값이 달라진다.\n",
    "plt.plot(precision[idx], recall[idx],\n",
    "         marker='o',mew=2, markersize=13, fillstyle='none')  # mew :마커 선 굵기\n",
    "\n",
    "plt.plot(precision, recall)\n",
    "plt.xlabel(\"precision\")\n",
    "plt.ylabel(\"recall\")\n",
    "plt.legend(loc='best')\n",
    "plt.show()"
   ]
  },
  {
   "cell_type": "code",
   "execution_count": 27,
   "metadata": {},
   "outputs": [
    {
     "name": "stdout",
     "output_type": "stream",
     "text": [
      "0.8586666666666667\n",
      "0.9422222222222222\n",
      "********************\n",
      "0.376266528731415\n",
      "0.7436313954850132\n"
     ]
    }
   ],
   "source": [
    "from sklearn.metrics import average_precision_score\n",
    "\n",
    "lr = LogisticRegression()\n",
    "lr.fit(X_train, y_train)\n",
    "\n",
    "print(lr.score(X_test, y_test))  #accuracy\n",
    "print(svc.score(X_test, y_test)) #accuracy\n",
    "print(\"*\"*20)\n",
    "print(average_precision_score(y_test, lr.predict_proba(X_test)[:,1]))  #평균 정밀도\n",
    "print(average_precision_score(y_test, svc.predict_proba(X_test)[:,1]))  #평균 정밀도\n",
    "# average_precision_score(y_test, svc.predict_proba(X_test))-> svc.predict_proba(X_test)은 2차원 배열"
   ]
  },
  {
   "cell_type": "code",
   "execution_count": null,
   "metadata": {},
   "outputs": [],
   "source": []
  },
  {
   "cell_type": "code",
   "execution_count": null,
   "metadata": {},
   "outputs": [],
   "source": [
    "# ROC,AUC    => 여러 임꼐값에서 분류기의 특성을 분석 => TPR(진짜양성비율),FPR(거짓양성비율)을 나타낸다."
   ]
  },
  {
   "cell_type": "code",
   "execution_count": 28,
   "metadata": {},
   "outputs": [
    {
     "name": "stderr",
     "output_type": "stream",
     "text": [
      "c:\\programdata\\miniconda3\\envs\\hoseo\\lib\\site-packages\\sklearn\\utils\\deprecation.py:86: FutureWarning: Function make_blobs is deprecated; Please import make_blobs directly from scikit-learn\n",
      "  warnings.warn(msg, category=FutureWarning)\n",
      "No handles with labels found to put in legend.\n"
     ]
    },
    {
     "data": {
      "image/png": "[encoded data removed]",
      "text/plain": [
       "<Figure size 432x288 with 1 Axes>"
      ]
     },
     "metadata": {
      "needs_background": "light"
     },
     "output_type": "display_data"
    }
   ],
   "source": [
    "from sklearn.metrics import roc_curve       \n",
    "\n",
    "X, y = mglearn.datasets.make_blobs(n_samples=(4000, 500), \n",
    "                                   centers=2, \n",
    "                                   cluster_std=[7.0, 2],\n",
    "                                   random_state=42)\n",
    "\n",
    "X_train, X_test, y_train, y_test = train_test_split(X, y, stratify=y, random_state=42)\n",
    "\n",
    "svc = SVC(probability=True)\n",
    "svc.fit(X_train, y_train)\n",
    "\n",
    "fpr, tpr, thresholds = roc_curve(y_test, svc.decision_function(X_test))     \n",
    "idx = np.argmin(np.abs(thresholds))   #0에 근접한 임계값 위치 찾기    \n",
    "\n",
    "plt.plot(fpr[idx], tpr[idx],\n",
    "         marker='o',mew=2, markersize=13, fillstyle='none')  # mew :마커 선 굵기\n",
    "\n",
    "plt.plot(fpr, tpr)\n",
    "plt.xlabel(\"spr\")\n",
    "plt.ylabel(\"tpr\")\n",
    "plt.legend(loc='best')\n",
    "plt.show()"
   ]
  },
  {
   "cell_type": "code",
   "execution_count": 29,
   "metadata": {},
   "outputs": [
    {
     "name": "stdout",
     "output_type": "stream",
     "text": [
      "0.8586666666666667\n",
      "0.9422222222222222\n",
      "********************\n",
      "0.9096319999999999\n",
      "0.9746\n"
     ]
    }
   ],
   "source": [
    "from sklearn.metrics import roc_auc_score\n",
    "\n",
    "lr = LogisticRegression()\n",
    "lr.fit(X_train, y_train)\n",
    "\n",
    "print(lr.score(X_test, y_test))  #accuracy\n",
    "print(svc.score(X_test, y_test)) #accuracy\n",
    "print(\"*\"*20)\n",
    "print(roc_auc_score(y_test, lr.predict_proba(X_test)[:,1]))  # auc\n",
    "print(roc_auc_score(y_test, svc.predict_proba(X_test)[:,1]))  # auc"
   ]
  },
  {
   "cell_type": "code",
   "execution_count": null,
   "metadata": {},
   "outputs": [],
   "source": [
    "# 다중분류평가"
   ]
  },
  {
   "cell_type": "code",
   "execution_count": 30,
   "metadata": {},
   "outputs": [],
   "source": [
    "from sklearn.model_selection import train_test_split\n",
    "digits = load_digits()\n",
    "X, y= digits['data'], digits['target'] \n",
    "X_train, X_test, y_train, y_test = train_test_split(X, y, stratify=y, random_state=42)"
   ]
  },
  {
   "cell_type": "code",
   "execution_count": 31,
   "metadata": {},
   "outputs": [
    {
     "data": {
      "text/plain": [
       "array([0, 1, 2, 3, 4, 5, 6, 7, 8, 9])"
      ]
     },
     "execution_count": 31,
     "metadata": {},
     "output_type": "execute_result"
    }
   ],
   "source": [
    "np.unique(y)"
   ]
  },
  {
   "cell_type": "code",
   "execution_count": 32,
   "metadata": {},
   "outputs": [
    {
     "name": "stdout",
     "output_type": "stream",
     "text": [
      "0.9533333333333334\n"
     ]
    }
   ],
   "source": [
    "lr = LogisticRegression(max_iter=10000)\n",
    "lr.fit(X_train, y_train)\n",
    "print(lr.score(X_test,y_test))"
   ]
  },
  {
   "cell_type": "code",
   "execution_count": 33,
   "metadata": {},
   "outputs": [
    {
     "name": "stdout",
     "output_type": "stream",
     "text": [
      "              precision    recall  f1-score   support\n",
      "\n",
      "           0       1.00      0.98      0.99        45\n",
      "           1       0.91      0.89      0.90        46\n",
      "           2       1.00      0.98      0.99        44\n",
      "           3       0.98      1.00      0.99        46\n",
      "           4       0.96      1.00      0.98        45\n",
      "           5       0.96      0.98      0.97        46\n",
      "           6       0.98      0.98      0.98        45\n",
      "           7       0.96      0.98      0.97        45\n",
      "           8       0.82      0.84      0.83        43\n",
      "           9       0.98      0.91      0.94        45\n",
      "\n",
      "    accuracy                           0.95       450\n",
      "   macro avg       0.95      0.95      0.95       450\n",
      "weighted avg       0.95      0.95      0.95       450\n",
      "\n"
     ]
    }
   ],
   "source": [
    "print(classification_report(y_test, lr.predict(X_test)))"
   ]
  },
  {
   "cell_type": "code",
   "execution_count": 36,
   "metadata": {},
   "outputs": [
    {
     "name": "stdout",
     "output_type": "stream",
     "text": [
      "0.9533309163774376\n",
      "0.9528544497385683\n"
     ]
    }
   ],
   "source": [
    "print(f1_score(y_test, lr.predict(X_test), average = \"weighted\"))\n",
    "print(f1_score(y_test, lr.predict(X_test), average = \"macro\"))"
   ]
  },
  {
   "cell_type": "code",
   "execution_count": 38,
   "metadata": {},
   "outputs": [
    {
     "name": "stdout",
     "output_type": "stream",
     "text": [
      "0.9987809934152473\n"
     ]
    }
   ],
   "source": [
    "# 이진 분류일 경우 predict_proba, decision_funtion 결과 사용 가능\n",
    "# 다중 분류일 경우 predict_proba만 사용 가능 + multi_class 분류 방식 지정 필수\n",
    "# print(roc_auc_score(y_test, lr.decision_function(X_test),multi_class'ovr))\n",
    "print( roc_auc_score(y_test, lr.predict_proba(X_test), multi_class='ovr'))"
   ]
  },
  {
   "cell_type": "code",
   "execution_count": 43,
   "metadata": {},
   "outputs": [
    {
     "name": "stdout",
     "output_type": "stream",
     "text": [
      "[0.95555556 0.94444444 0.95555556 0.96666667 0.98888889]\n"
     ]
    }
   ],
   "source": [
    "from sklearn.model_selection import cross_val_score\n",
    "\n",
    "scores = cross_val_score(lr, X_test, y_test, scoring=\"accuracy\")\n",
    "print(scores)\n",
    "# cross_val_score에서 다중 분류일 경우 scoring=은 \"accuracy\"만 지원\n",
    "# cross_val_score(lr, X_test, y_test, scoring=\"roc_auc\")   ->오류"
   ]
  },
  {
   "cell_type": "code",
   "execution_count": null,
   "metadata": {},
   "outputs": [],
   "source": []
  }
 ],
 "metadata": {
  "kernelspec": {
   "display_name": "Python 3",
   "language": "python",
   "name": "python3"
  },
  "language_info": {
   "codemirror_mode": {
    "name": "ipython",
    "version": 3
   },
   "file_extension": ".py",
   "mimetype": "text/x-python",
   "name": "python",
   "nbconvert_exporter": "python",
   "pygments_lexer": "ipython3",
   "version": "3.6.10"
  }
 },
 "nbformat": 4,
 "nbformat_minor": 4
}
