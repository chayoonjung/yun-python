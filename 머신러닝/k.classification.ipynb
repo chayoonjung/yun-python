{
 "cells": [
  {
   "cell_type": "code",
   "execution_count": 2,
   "metadata": {},
   "outputs": [],
   "source": [
    "import numpy as np\n",
    "from sklearn.datasets import load_iris"
   ]
  },
  {
   "cell_type": "code",
   "execution_count": 5,
   "metadata": {},
   "outputs": [
    {
     "name": "stdout",
     "output_type": "stream",
     "text": [
      "[0 1 2]\n"
     ]
    }
   ],
   "source": [
    "iris=load_iris()\n",
    "print(np.unique(iris.target)) \n",
    "X,y=iris['data'], iris['target']"
   ]
  },
  {
   "cell_type": "code",
   "execution_count": 6,
   "metadata": {},
   "outputs": [],
   "source": [
    "#다중분류 확인\n",
    "from sklearn.svm import SVC"
   ]
  },
  {
   "cell_type": "code",
   "execution_count": 9,
   "metadata": {},
   "outputs": [
    {
     "data": {
      "text/plain": [
       "0.9733333333333334"
      ]
     },
     "execution_count": 9,
     "metadata": {},
     "output_type": "execute_result"
    }
   ],
   "source": [
    "svc = SVC(probability=True)\n",
    "svc.fit(X, y)\n",
    "svc.score(X,y)"
   ]
  },
  {
   "cell_type": "code",
   "execution_count": 22,
   "metadata": {},
   "outputs": [
    {
     "name": "stdout",
     "output_type": "stream",
     "text": [
      "[0]\n",
      "[[0.97804713 0.01389539 0.00805749]]\n",
      "[[ 2.23543749  1.16096255 -0.25650709]]\n"
     ]
    }
   ],
   "source": [
    "print(svc.predict([X[0]]))\n",
    "print(svc.predict_proba([X[0]]))\n",
    "print(svc.decision_function([X[0]]))"
   ]
  },
  {
   "cell_type": "code",
   "execution_count": 14,
   "metadata": {},
   "outputs": [
    {
     "data": {
      "text/plain": [
       "0.9733333333333334"
      ]
     },
     "execution_count": 14,
     "metadata": {},
     "output_type": "execute_result"
    }
   ],
   "source": [
    "v = svc.decision_function(X)   #가중치\n",
    "m = np.argmax(v, axis=1)      #각 행에서 가장 큰 값의 위치 반환\n",
    "(y == m).sum() / len(m)"
   ]
  },
  {
   "cell_type": "code",
   "execution_count": 23,
   "metadata": {},
   "outputs": [
    {
     "data": {
      "text/plain": [
       "0.98"
      ]
     },
     "execution_count": 23,
     "metadata": {},
     "output_type": "execute_result"
    }
   ],
   "source": [
    "v2 = svc.predict_proba(X)    #확률\n",
    "# print(np.sum(v2, axis=1))   # 개별 값은 확률, 각 행의 합은 1 \n",
    "m2 = np.argmax(v2, axis=1)   #각 행에서 가장 큰 값의 위치 반환\n",
    "# m2\n",
    "(y==m2).sum()/len(y)"
   ]
  },
  {
   "cell_type": "code",
   "execution_count": 25,
   "metadata": {},
   "outputs": [],
   "source": [
    "# 메모\n",
    "# m2 == svc.predict(X)\n",
    "# 타겟별 확률이 얼마인지 확인을 위해 predict 사용\n",
    "# ex) target (0:19 , 1: 21, 2: 9) -> target predict : 1 (최종값)///// 내부적 가중치값이 가장 큰 것을 예측 최종값을 가져와 사용"
   ]
  }
 ],
 "metadata": {
  "kernelspec": {
   "display_name": "Python 3",
   "language": "python",
   "name": "python3"
  },
  "language_info": {
   "codemirror_mode": {
    "name": "ipython",
    "version": 3
   },
   "file_extension": ".py",
   "mimetype": "text/x-python",
   "name": "python",
   "nbconvert_exporter": "python",
   "pygments_lexer": "ipython3",
   "version": "3.6.10"
  }
 },
 "nbformat": 4,
 "nbformat_minor": 4
}
