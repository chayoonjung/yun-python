{
 "cells": [
  {
   "cell_type": "code",
   "execution_count": null,
   "metadata": {
    "colab": {
     "base_uri": "https://localhost:8080/",
     "height": 34
    },
    "colab_type": "code",
    "executionInfo": {
     "elapsed": 2085,
     "status": "ok",
     "timestamp": 1567399126369,
     "user": {
      "displayName": "Moses Kim",
      "photoUrl": "https://lh3.googleusercontent.com/a-/AAuE7mBzyDyqlXDt_BHn8ONpyA9A034PFY1h4Kqy3Kjup_w=s64",
      "userId": "10365665687963761023"
     },
     "user_tz": -420
    },
    "id": "SCHlUbLAUDZM",
    "outputId": "c834d91b-bd7b-4683-ff44-ade736945658"
   },
   "outputs": [],
   "source": [
    "import numpy as np\n",
    "import matplotlib.pyplot as plt\n",
    "\n",
    "from tensorflow.keras.layers import Input, Dense, Lambda, Layer\n",
    "from tensorflow.keras.models import Model\n",
    "from tensorflow.keras import backend as K\n",
    "from tensorflow.keras import metrics\n",
    "from tensorflow.keras.datasets import mnist"
   ]
  },
  {
   "cell_type": "code",
   "execution_count": null,
   "metadata": {
    "colab": {
     "base_uri": "https://localhost:8080/",
     "height": 51
    },
    "colab_type": "code",
    "executionInfo": {
     "elapsed": 1069,
     "status": "ok",
     "timestamp": 1567399128722,
     "user": {
      "displayName": "Moses Kim",
      "photoUrl": "https://lh3.googleusercontent.com/a-/AAuE7mBzyDyqlXDt_BHn8ONpyA9A034PFY1h4Kqy3Kjup_w=s64",
      "userId": "10365665687963761023"
     },
     "user_tz": -420
    },
    "id": "OXLtrMH_UDZS",
    "outputId": "154b66eb-36d5-4d9e-bbd5-f411736077fa"
   },
   "outputs": [],
   "source": [
    "(x_train, y_train), (x_test, y_test) = mnist.load_data()"
   ]
  },
  {
   "cell_type": "code",
   "execution_count": null,
   "metadata": {
    "colab": {},
    "colab_type": "code",
    "id": "K12bf-Hp2-q6"
   },
   "outputs": [],
   "source": [
    "image_size = x_train.shape[1]\n",
    "original_dim = image_size * image_size\n",
    "latent_dim = 2\n",
    "intermediate_dim = 256\n",
    "epochs = 50\n",
    "epsilon_std = 1.0\n",
    "\n",
    "# 훈련 배열 전 처리\n",
    "x_train = np.reshape(x_train, [-1, original_dim])\n",
    "x_test = np.reshape(x_test, [-1, original_dim])\n",
    "x_train = x_train.astype('float32') / 255.\n",
    "x_test = x_test.astype('float32') / 255."
   ]
  },
  {
   "cell_type": "code",
   "execution_count": null,
   "metadata": {
    "colab": {
     "base_uri": "https://localhost:8080/",
     "height": 34
    },
    "colab_type": "code",
    "executionInfo": {
     "elapsed": 776,
     "status": "ok",
     "timestamp": 1567399132446,
     "user": {
      "displayName": "Moses Kim",
      "photoUrl": "https://lh3.googleusercontent.com/a-/AAuE7mBzyDyqlXDt_BHn8ONpyA9A034PFY1h4Kqy3Kjup_w=s64",
      "userId": "10365665687963761023"
     },
     "user_tz": -420
    },
    "id": "5p14p-U8UDZV",
    "outputId": "9852f906-f07d-4020-8b0d-af40eb0ddabe"
   },
   "outputs": [],
   "source": [
    "x_train.shape,  x_test.shape, type(x_train)"
   ]
  },
  {
   "cell_type": "code",
   "execution_count": null,
   "metadata": {
    "colab": {},
    "colab_type": "code",
    "id": "iNpMkhk8394o"
   },
   "outputs": [],
   "source": [
    "# 인코더 모듈\n",
    "input_layer = Input(shape=(original_dim,))\n",
    "intermediate_layer = Dense(intermediate_dim,\n",
    "                           activation='relu',\n",
    "                           name='Intermediate_layer')(input_layer)\n",
    "z_mean = Dense(latent_dim,\n",
    "               name='z_mean')(intermediate_layer)\n",
    "z_log_var = Dense(latent_dim,\n",
    "                  name='z_log_var')(intermediate_layer)\n"
   ]
  },
  {
   "cell_type": "code",
   "execution_count": null,
   "metadata": {
    "colab": {
     "base_uri": "https://localhost:8080/",
     "height": 309
    },
    "colab_type": "code",
    "executionInfo": {
     "elapsed": 989,
     "status": "ok",
     "timestamp": 1567399148422,
     "user": {
      "displayName": "Moses Kim",
      "photoUrl": "https://lh3.googleusercontent.com/a-/AAuE7mBzyDyqlXDt_BHn8ONpyA9A034PFY1h4Kqy3Kjup_w=s64",
      "userId": "10365665687963761023"
     },
     "user_tz": -420
    },
    "id": "dRwekeXv54Lt",
    "outputId": "aadb9853-459b-4c1f-c7a0-9131ec602931"
   },
   "outputs": [],
   "source": [
    "encoder_module = Model(input_layer, (z_mean, z_log_var))\n",
    "encoder_module.summary()"
   ]
  },
  {
   "cell_type": "code",
   "execution_count": null,
   "metadata": {
    "colab": {},
    "colab_type": "code",
    "id": "ek75M1aJ87hv"
   },
   "outputs": [],
   "source": [
    "# 샘플링 함수 정의\n",
    "def sampling(args):\n",
    "    z_mean, z_log_var = args\n",
    "    epsilon = K.random_normal(shape=(K.shape(z_mean)[0], latent_dim), \n",
    "                              mean=0., \n",
    "                              stddev=epsilon_std)\n",
    "    return z_mean + K.exp(z_log_var / 2) * epsilon\n"
   ]
  },
  {
   "cell_type": "code",
   "execution_count": null,
   "metadata": {
    "colab": {
     "base_uri": "https://localhost:8080/",
     "height": 71
    },
    "colab_type": "code",
    "executionInfo": {
     "elapsed": 883,
     "status": "ok",
     "timestamp": 1567399157364,
     "user": {
      "displayName": "Moses Kim",
      "photoUrl": "https://lh3.googleusercontent.com/a-/AAuE7mBzyDyqlXDt_BHn8ONpyA9A034PFY1h4Kqy3Kjup_w=s64",
      "userId": "10365665687963761023"
     },
     "user_tz": -420
    },
    "id": "_Dsmu8VS9oQP",
    "outputId": "c4159e42-1138-4f42-d152-c5f279ac637c"
   },
   "outputs": [],
   "source": [
    "z = Lambda(sampling, output_shape=(latent_dim,))([z_mean, z_log_var])"
   ]
  },
  {
   "cell_type": "code",
   "execution_count": null,
   "metadata": {
    "colab": {},
    "colab_type": "code",
    "id": "azsetzfu-ZaO"
   },
   "outputs": [],
   "source": [
    "# 디코더 모듈\n",
    "decoder_h = Dense(intermediate_dim, activation='relu')\n",
    "decoder_mean = Dense(original_dim, activation='sigmoid')\n",
    "h_decoded = decoder_h(z)\n",
    "x_decoded_mean = decoder_mean(h_decoded)"
   ]
  },
  {
   "cell_type": "code",
   "execution_count": null,
   "metadata": {
    "colab": {},
    "colab_type": "code",
    "id": "gMl91VXODBFZ"
   },
   "outputs": [],
   "source": [
    "# 커스텀 가변 손실 레이어\n",
    "class CustomVariationalLayer(Layer):\n",
    "    def __init__(self, **kwargs):\n",
    "        self.is_placeholder = True\n",
    "        super(CustomVariationalLayer, self).__init__(**kwargs)\n",
    "\n",
    "    def vae_loss(self, x, x_decoded_mean):\n",
    "        xent_loss = original_dim * \\\n",
    "                    metrics.binary_crossentropy(x, x_decoded_mean)\n",
    "        kl_loss = -0.5 * K.sum(1 + z_log_var\n",
    "                               - K.square(z_mean)\n",
    "                               - K.exp(z_log_var),\n",
    "                               axis=-1)\n",
    "        return K.mean(xent_loss + kl_loss)\n",
    "\n",
    "    def call(self, inputs):\n",
    "        x = inputs[0]\n",
    "        x_decoded_mean = inputs[1]\n",
    "        loss = self.vae_loss(x, x_decoded_mean)\n",
    "        self.add_loss(loss, inputs=inputs)\n",
    "        return x"
   ]
  },
  {
   "cell_type": "code",
   "execution_count": null,
   "metadata": {
    "colab": {
     "base_uri": "https://localhost:8080/",
     "height": 122
    },
    "colab_type": "code",
    "executionInfo": {
     "elapsed": 906,
     "status": "ok",
     "timestamp": 1567399166244,
     "user": {
      "displayName": "Moses Kim",
      "photoUrl": "https://lh3.googleusercontent.com/a-/AAuE7mBzyDyqlXDt_BHn8ONpyA9A034PFY1h4Kqy3Kjup_w=s64",
      "userId": "10365665687963761023"
     },
     "user_tz": -420
    },
    "id": "D6jLIOkpG460",
    "outputId": "0c9c41a1-62a6-4d2c-fa34-a0c0e1615167"
   },
   "outputs": [],
   "source": [
    "y = CustomVariationalLayer()([input_layer, x_decoded_mean])"
   ]
  },
  {
   "cell_type": "code",
   "execution_count": null,
   "metadata": {
    "colab": {
     "base_uri": "https://localhost:8080/",
     "height": 71
    },
    "colab_type": "code",
    "executionInfo": {
     "elapsed": 734,
     "status": "ok",
     "timestamp": 1567399170716,
     "user": {
      "displayName": "Moses Kim",
      "photoUrl": "https://lh3.googleusercontent.com/a-/AAuE7mBzyDyqlXDt_BHn8ONpyA9A034PFY1h4Kqy3Kjup_w=s64",
      "userId": "10365665687963761023"
     },
     "user_tz": -420
    },
    "id": "VptkrNKWHUm3",
    "outputId": "683a812b-512d-4159-ab7e-c5023aee79e9"
   },
   "outputs": [],
   "source": [
    "vae = Model(input_layer, y)\n",
    "vae.compile(optimizer='rmsprop', loss=None)\n"
   ]
  },
  {
   "cell_type": "code",
   "execution_count": null,
   "metadata": {
    "colab": {
     "base_uri": "https://localhost:8080/",
     "height": 479
    },
    "colab_type": "code",
    "executionInfo": {
     "elapsed": 835,
     "status": "ok",
     "timestamp": 1567399173697,
     "user": {
      "displayName": "Moses Kim",
      "photoUrl": "https://lh3.googleusercontent.com/a-/AAuE7mBzyDyqlXDt_BHn8ONpyA9A034PFY1h4Kqy3Kjup_w=s64",
      "userId": "10365665687963761023"
     },
     "user_tz": -420
    },
    "id": "q4hfmAsiHlHm",
    "outputId": "c2d39644-03d5-4bf8-fb03-391150ff23a9"
   },
   "outputs": [],
   "source": [
    "vae.summary()"
   ]
  },
  {
   "cell_type": "code",
   "execution_count": null,
   "metadata": {
    "colab": {
     "base_uri": "https://localhost:8080/",
     "height": 1000
    },
    "colab_type": "code",
    "executionInfo": {
     "elapsed": 456517,
     "status": "ok",
     "timestamp": 1567399641352,
     "user": {
      "displayName": "Moses Kim",
      "photoUrl": "https://lh3.googleusercontent.com/a-/AAuE7mBzyDyqlXDt_BHn8ONpyA9A034PFY1h4Kqy3Kjup_w=s64",
      "userId": "10365665687963761023"
     },
     "user_tz": -420
    },
    "id": "kG8eWMdfIz9j",
    "outputId": "c8da2f51-9cb0-4d7d-d16e-3ef70b5a5640"
   },
   "outputs": [],
   "source": [
    "# 모델 훈련\n",
    "vae.fit(x_train,\n",
    "        shuffle=True,\n",
    "        #epochs=epochs,\n",
    "        epochs=1,\n",
    "        batch_size=100,\n",
    "        validation_data=(x_test, None))"
   ]
  },
  {
   "cell_type": "code",
   "execution_count": null,
   "metadata": {},
   "outputs": [],
   "source": [
    "# np.array(x_test_encoded).shape\n",
    "x_test_encoded[1]"
   ]
  },
  {
   "cell_type": "code",
   "execution_count": null,
   "metadata": {
    "colab": {
     "base_uri": "https://localhost:8080/",
     "height": 269
    },
    "colab_type": "code",
    "executionInfo": {
     "elapsed": 748,
     "status": "error",
     "timestamp": 1567400594627,
     "user": {
      "displayName": "Moses Kim",
      "photoUrl": "https://lh3.googleusercontent.com/a-/AAuE7mBzyDyqlXDt_BHn8ONpyA9A034PFY1h4Kqy3Kjup_w=s64",
      "userId": "10365665687963761023"
     },
     "user_tz": -420
    },
    "id": "vcgDR1DHMyQ1",
    "outputId": "227892a3-c28d-43ff-f2cc-46fca6eaa682"
   },
   "outputs": [],
   "source": [
    "# 잠재 공간 2차원 시각화\n",
    "x_test_encoded = encoder_module.predict(x_test, batch_size=256)\n",
    "#x_test_encoded = encoder_network.predict(x_test, batch_size=256)\n",
    "plt.figure(figsize=(8, 8))\n",
    "# plt.scatter(x_test_encoded[0][:, 0], x_test_encoded[0][:, 1], c=y_test, cmap='Paired')\n",
    "plt.scatter(x_test_encoded[1][:, 0], x_test_encoded[1][:, 1], c=y_test, cmap='Paired')\n",
    "plt.colorbar()\n",
    "plt.show()\n"
   ]
  },
  {
   "cell_type": "code",
   "execution_count": null,
   "metadata": {
    "colab": {},
    "colab_type": "code",
    "id": "jgZrzjK5XNU_"
   },
   "outputs": [],
   "source": [
    "# 학습한 분산으로부터 샘플을 새성하는 생성자 네트워크 구현\n",
    "decoder_input = Input(shape=(latent_dim,))\n",
    "_h_decoded = decoder_h(decoder_input)\n",
    "_x_decoded_mean = decoder_mean(_h_decoded)\n",
    "generator = Model(decoder_input, _x_decoded_mean)"
   ]
  },
  {
   "cell_type": "code",
   "execution_count": null,
   "metadata": {
    "colab": {
     "base_uri": "https://localhost:8080/",
     "height": 595
    },
    "colab_type": "code",
    "executionInfo": {
     "elapsed": 1816,
     "status": "ok",
     "timestamp": 1567400895277,
     "user": {
      "displayName": "Moses Kim",
      "photoUrl": "https://lh3.googleusercontent.com/a-/AAuE7mBzyDyqlXDt_BHn8ONpyA9A034PFY1h4Kqy3Kjup_w=s64",
      "userId": "10365665687963761023"
     },
     "user_tz": -420
    },
    "id": "gKRIuDvZX4vN",
    "outputId": "a2ad12eb-4691-4b3c-ecf5-b20c8920b44d"
   },
   "outputs": [],
   "source": [
    "from scipy.stats import norm\n",
    "\n",
    "# 숫자의 20 매니폴드 표시\n",
    "n = 15  # 15 x 15 figure 크기\n",
    "digit_size = 28\n",
    "figure = np.zeros((digit_size * n, digit_size * n))\n",
    "\n",
    "# 단위 면적 공간에 선형적으로 위치한 좌표들은 가우시안 역 CDF(ppf)을 통해 변환되어 잠재 변수 z의 값을 생성한다. \n",
    "# 이전 잠재 공간이 가우시안 분포를 따르기 때문이다.\n",
    "grid_x = norm.ppf(np.linspace(0.05, 0.95, n))\n",
    "grid_y = norm.ppf(np.linspace(0.05, 0.95, n))\n",
    "\n",
    "for i, yi in enumerate(grid_x):\n",
    "    for j, xi in enumerate(grid_y):\n",
    "        z_sample = np.array([[xi, yi]])\n",
    "        x_decoded = generator.predict(z_sample)\n",
    "        digit = x_decoded[0].reshape(digit_size, digit_size)\n",
    "        figure[i * digit_size: (i + 1) * digit_size, \n",
    "               j * digit_size: (j + 1) * digit_size] = digit\n",
    "\n",
    "plt.figure(figsize=(10, 10))\n",
    "plt.imshow(figure, cmap='binary')\n",
    "plt.show()"
   ]
  }
 ],
 "metadata": {
  "colab": {
   "collapsed_sections": [],
   "name": "Chapter_9_1_VAE_latent_space.ipynb",
   "provenance": []
  },
  "kernelspec": {
   "display_name": "Python 3",
   "language": "python",
   "name": "python3"
  },
  "language_info": {
   "codemirror_mode": {
    "name": "ipython",
    "version": 3
   },
   "file_extension": ".py",
   "mimetype": "text/x-python",
   "name": "python",
   "nbconvert_exporter": "python",
   "pygments_lexer": "ipython3",
   "version": "3.6.10"
  }
 },
 "nbformat": 4,
 "nbformat_minor": 4
}
