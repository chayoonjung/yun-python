{
 "cells": [
  {
   "cell_type": "code",
   "execution_count": null,
   "metadata": {},
   "outputs": [],
   "source": [
    "# 패키지 설치\n",
    "# !pip install scikit-learn\n",
    "# !pip install mglearn       ->저자가 만든 예제 패키지 설치"
   ]
  },
  {
   "cell_type": "code",
   "execution_count": 2,
   "metadata": {},
   "outputs": [],
   "source": [
    "import numpy as np\n",
    "import pandas as pd\n",
    "import matplotlib.pyplot as plt\n",
    "from sklearn.datasets import load_iris"
   ]
  },
  {
   "cell_type": "code",
   "execution_count": 4,
   "metadata": {},
   "outputs": [],
   "source": [
    "iris = load_iris()   #붓꽃 종별\n",
    "# iris"
   ]
  },
  {
   "cell_type": "code",
   "execution_count": 28,
   "metadata": {},
   "outputs": [
    {
     "data": {
      "text/plain": [
       "array(['setosa', 'versicolor', 'virginica'], dtype='<U10')"
      ]
     },
     "execution_count": 28,
     "metadata": {},
     "output_type": "execute_result"
    }
   ],
   "source": [
    "# print(type(iris))  #<class 'sklearn.utils.Bunch'> => 딕셔너리 같음.\n",
    "# iris['data'][:5]  #feature (설명변수)\n",
    "# iris['feature_names'] # 설명변수 데이터 이름\n",
    "# iris['target'][:5] # label (목적변수 )\n",
    "# iris['target'][[0,50,100]]  \n",
    "# iris['target_names'] #목적변수 데이터 이름\n",
    "# iris['DESCR']"
   ]
  },
  {
   "cell_type": "code",
   "execution_count": 5,
   "metadata": {},
   "outputs": [],
   "source": [
    "from sklearn.model_selection import train_test_split"
   ]
  },
  {
   "cell_type": "code",
   "execution_count": 6,
   "metadata": {},
   "outputs": [],
   "source": [
    "#훈련 데이터/ 테스트 데이터 분할 \n",
    "# 재현 가능한 데이터를 뽑아야 함. 어느 데이터를 뽑아도 결과가 나올수 있게 random 사용.\n",
    "# X_train, X_test, y_train, y_test = train_test_split(iris['data'],iris['target'], random_state=42)\n",
    "X_train, X_test, y_train, y_test = train_test_split(iris['data'],iris['target'], random_state=0)"
   ]
  },
  {
   "cell_type": "code",
   "execution_count": 7,
   "metadata": {},
   "outputs": [
    {
     "data": {
      "text/plain": [
       "((112, 4), (38, 4), (112,), (38,))"
      ]
     },
     "execution_count": 7,
     "metadata": {},
     "output_type": "execute_result"
    }
   ],
   "source": [
    "X_train.shape, X_test.shape, y_train.shape, y_test.shape      #대략 25% 잡고 진행됨"
   ]
  },
  {
   "cell_type": "code",
   "execution_count": 8,
   "metadata": {},
   "outputs": [],
   "source": [
    "# 길이, 너비 데이터로 품종을 찾겠다는 내용"
   ]
  },
  {
   "cell_type": "code",
   "execution_count": 9,
   "metadata": {},
   "outputs": [],
   "source": [
    "from sklearn.neighbors import KNeighborsClassifier"
   ]
  },
  {
   "cell_type": "code",
   "execution_count": 10,
   "metadata": {},
   "outputs": [
    {
     "data": {
      "text/plain": [
       "KNeighborsClassifier()"
      ]
     },
     "execution_count": 10,
     "metadata": {},
     "output_type": "execute_result"
    }
   ],
   "source": [
    "knn = KNeighborsClassifier() #알고리즘이 적용된 예측기\n",
    "knn.fit(X_train, y_train)   #훈련, 적합 시켜 규칙 찾으라는 <모델 훈련(학습)>."
   ]
  },
  {
   "cell_type": "code",
   "execution_count": 11,
   "metadata": {},
   "outputs": [
    {
     "name": "stdout",
     "output_type": "stream",
     "text": [
      "[2 1 0 2 0]\n",
      "['virginica' 'versicolor' 'setosa' 'virginica' 'setosa']\n"
     ]
    }
   ],
   "source": [
    "predicted_y = knn.predict(X_test) # 테스트데이터로 예측  \n",
    "print(predicted_y[:5])\n",
    "print(iris[\"target_names\"][predicted_y[:5]])"
   ]
  },
  {
   "cell_type": "code",
   "execution_count": 14,
   "metadata": {},
   "outputs": [
    {
     "data": {
      "text/plain": [
       "0.9736842105263158"
      ]
     },
     "execution_count": 14,
     "metadata": {},
     "output_type": "execute_result"
    }
   ],
   "source": [
    "predicted_y[:5], y_test[:5]\n",
    "(predicted_y == y_test).sum()  # random_state=42 인경우 -> true : 38\n",
    "(predicted_y == y_test).sum() / len(y_test) # 1.o ->100% 맞췄다는 의미  #accuracy"
   ]
  },
  {
   "cell_type": "code",
   "execution_count": 15,
   "metadata": {},
   "outputs": [
    {
     "data": {
      "text/plain": [
       "0.9732142857142857"
      ]
     },
     "execution_count": 15,
     "metadata": {},
     "output_type": "execute_result"
    }
   ],
   "source": [
    "predicted_y2 = knn.predict(X_train) #훈련 데이터로 예측\n",
    "(predicted_y2 == y_train).sum() / len(y_train)\n",
    "\n",
    "# 훈련데이터, 테스트데이터 비교해서 과대적합, 과소적합 확인"
   ]
  },
  {
   "cell_type": "code",
   "execution_count": null,
   "metadata": {},
   "outputs": [],
   "source": []
  },
  {
   "cell_type": "code",
   "execution_count": null,
   "metadata": {},
   "outputs": [],
   "source": []
  },
  {
   "cell_type": "code",
   "execution_count": null,
   "metadata": {},
   "outputs": [],
   "source": [
    "# mglearn.datasets 패키지의 make_forge 함수가 반환하는 데이터셋으로 knn 모델 테스트\n",
    "# 1. 데이터 로딩\n",
    "# 2. 훈련데이터, 테스트 데이터 분할\n",
    "# 3. 모델 생성\n",
    "# 4. 훈련 데이터로 모델 훈련\n",
    "# 5. 훈련 데이터로 예측 - 정확도 평가\n",
    "# 6. 테스트데이터로 예측 - 정확도 평가"
   ]
  },
  {
   "cell_type": "code",
   "execution_count": 74,
   "metadata": {},
   "outputs": [
    {
     "name": "stderr",
     "output_type": "stream",
     "text": [
      "c:\\programdata\\miniconda3\\envs\\hoseo\\lib\\site-packages\\sklearn\\utils\\deprecation.py:86: FutureWarning: Function make_blobs is deprecated; Please import make_blobs directly from scikit-learn\n",
      "  warnings.warn(msg, category=FutureWarning)\n"
     ]
    },
    {
     "data": {
      "text/plain": [
       "(0.9473684210526315, 0.8571428571428571)"
      ]
     },
     "execution_count": 74,
     "metadata": {},
     "output_type": "execute_result"
    }
   ],
   "source": [
    "# 강사님 풀이\n",
    "# mglearn.datasets 패키지의 make_forge 함수가 반환하는 데이터셋으로 knn 모델 테스트\n",
    "import numpy as np\n",
    "import pandas as pd\n",
    "import matplotlib.pyplot as plt\n",
    "from sklearn.model_selection import train_test_split\n",
    "from sklearn.neighbors import KNeighborsClassifier\n",
    "from mglearn.datasets import make_forge\n",
    "# 1. 데이터 로딩\n",
    "X, y = make_forge()\n",
    "\n",
    "# 2. 훈련데이터, 테스트 데이터 분할\n",
    "X_train, X_test, y_train, y_test = train_test_split(X, y, random_state=42)   # random_state 고정하면 나오는 값이 같다.(데이터가 계속 바뀌면 비교 판단 힘들기 때문에 고정시켜야함.)\n",
    "\n",
    "# 3. 모델 생성\n",
    "knn=KNeighborsClassifier(n_neighbors=3)\n",
    "\n",
    "# 4. 훈련 데이터로 모델 훈련\n",
    "knn.fit(X_train, y_train)     # 정답을 준다. \n",
    "\n",
    "# 5. 훈련 데이터로 예측 - 정확도 평가\n",
    "predicted_train_y = knn.predict(X_train)\n",
    "train_accuracy = (predicted_train_y == y_train).sum() / len(y_train)\n",
    "\n",
    "# 6. 테스트데이터로 예측 - 정확도 평가\n",
    "predicted_test_y = knn.predict(X_test)\n",
    "test_accuracy = (predicted_test_y == y_test).sum() / len(y_test)\n",
    "\n",
    "train_accuracy, test_accuracy"
   ]
  },
  {
   "cell_type": "code",
   "execution_count": 16,
   "metadata": {},
   "outputs": [],
   "source": [
    "#내가 한거\n",
    "import numpy as np\n",
    "import pandas as pd\n",
    "import matplotlib.pyplot as plt\n",
    "from sklearn.model_selection import train_test_split   # 데이터 분할\n",
    "from sklearn.neighbors import KNeighborsClassifier \n",
    "from mglearn.datasets import make_forge   # mglearn.datasets 패키지의 make_forge 함수가 반환하는 데이터셋"
   ]
  },
  {
   "cell_type": "code",
   "execution_count": 57,
   "metadata": {},
   "outputs": [],
   "source": [
    "# 1. 데이터 로딩\n",
    "forge = make_forge() \n",
    "# type(forge)\n",
    "# forge"
   ]
  },
  {
   "cell_type": "code",
   "execution_count": 36,
   "metadata": {},
   "outputs": [],
   "source": [
    "from sklearn.model_selection import train_test_split"
   ]
  },
  {
   "cell_type": "code",
   "execution_count": 46,
   "metadata": {},
   "outputs": [],
   "source": [
    "# 2. 훈련데이터, 테스트 데이터 분할\n",
    "X_train, X_test, y_train, y_test = train_test_split(forge[0], forge[1] ,random_state=42)"
   ]
  },
  {
   "cell_type": "code",
   "execution_count": 47,
   "metadata": {},
   "outputs": [
    {
     "data": {
      "text/plain": [
       "((19, 2), (7, 2), (19,), (7,))"
      ]
     },
     "execution_count": 47,
     "metadata": {},
     "output_type": "execute_result"
    }
   ],
   "source": [
    "X_train.shape, X_test.shape, y_train.shape, y_test.shape"
   ]
  },
  {
   "cell_type": "code",
   "execution_count": null,
   "metadata": {},
   "outputs": [],
   "source": [
    "from sklearn.neighbors import KNeighborsClassifier "
   ]
  },
  {
   "cell_type": "code",
   "execution_count": 51,
   "metadata": {},
   "outputs": [
    {
     "data": {
      "text/plain": [
       "KNeighborsClassifier()"
      ]
     },
     "execution_count": 51,
     "metadata": {},
     "output_type": "execute_result"
    }
   ],
   "source": [
    "# 3. 모델 생성\n",
    "knn=KNeighborsClassifier()\n",
    "# 4. 훈련 데이터로 모델 훈련\n",
    "knn.fit(X_train, y_train)"
   ]
  },
  {
   "cell_type": "code",
   "execution_count": 55,
   "metadata": {},
   "outputs": [
    {
     "name": "stdout",
     "output_type": "stream",
     "text": [
      "[0 0 1 1 0 1 0 1 0 0] [0 0 1 1 0 1 0 0 0 0]\n"
     ]
    },
    {
     "data": {
      "text/plain": [
       "0.9473684210526315"
      ]
     },
     "execution_count": 55,
     "metadata": {},
     "output_type": "execute_result"
    }
   ],
   "source": [
    "# 5. 훈련 데이터로 예측 - 정확도 평가\n",
    "predicted_y = knn.predict(X_train)\n",
    "predicted_y[:5]\n",
    "print(predicted_y[:10], y_train[:10])\n",
    "(predicted_y == y_train).sum() / len(y_train)"
   ]
  },
  {
   "cell_type": "code",
   "execution_count": 63,
   "metadata": {},
   "outputs": [
    {
     "name": "stdout",
     "output_type": "stream",
     "text": [
      "[1 1 1 1 0] [1 1 1 1 1]\n"
     ]
    },
    {
     "data": {
      "text/plain": [
       "0.8571428571428571"
      ]
     },
     "execution_count": 63,
     "metadata": {},
     "output_type": "execute_result"
    }
   ],
   "source": [
    "# 6. 테스트데이터로 예측 - 정확도 평가\n",
    "predicted_y2 = knn.predict(X_test)\n",
    "print(predicted_y2[:5] , y_test[:5])\n",
    "(predicted_y2 == y_test).sum()/len(y_test)"
   ]
  }
 ],
 "metadata": {
  "kernelspec": {
   "display_name": "Python 3",
   "language": "python",
   "name": "python3"
  },
  "language_info": {
   "codemirror_mode": {
    "name": "ipython",
    "version": 3
   },
   "file_extension": ".py",
   "mimetype": "text/x-python",
   "name": "python",
   "nbconvert_exporter": "python",
   "pygments_lexer": "ipython3",
   "version": "3.6.10"
  }
 },
 "nbformat": 4,
 "nbformat_minor": 4
}
