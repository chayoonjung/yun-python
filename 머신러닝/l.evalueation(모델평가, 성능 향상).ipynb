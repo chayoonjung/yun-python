{
 "cells": [
  {
   "cell_type": "code",
   "execution_count": 1,
   "metadata": {},
   "outputs": [],
   "source": [
    "import numpy as np\n",
    "\n",
    "from sklearn.datasets import make_blobs\n",
    "from sklearn.linear_model import LogisticRegression\n",
    "from sklearn.model_selection import  train_test_split"
   ]
  },
  {
   "cell_type": "code",
   "execution_count": 2,
   "metadata": {},
   "outputs": [
    {
     "name": "stdout",
     "output_type": "stream",
     "text": [
      "(100, 2) (100,)\n",
      "(array([0, 1, 2]), array([34, 33, 33], dtype=int64))\n"
     ]
    }
   ],
   "source": [
    "X, y= make_blobs(random_state=0)\n",
    "print(X.shape , y.shape)\n",
    "print(np.unique(y, return_counts=True))"
   ]
  },
  {
   "cell_type": "code",
   "execution_count": 3,
   "metadata": {},
   "outputs": [
    {
     "data": {
      "text/plain": [
       "(0.92, 0.88)"
      ]
     },
     "execution_count": 3,
     "metadata": {},
     "output_type": "execute_result"
    }
   ],
   "source": [
    "# lr = LogisticRegression()\n",
    "lr = LogisticRegression(C=100)\n",
    "\n",
    "# lr.fit(X, y) # 전체 데이터로 훈련하면X -> 테스트 불가능\n",
    "X_train, X_test, y_train, y_test = train_test_split(X, y, test_size=0.25, random_state=0)    # test_size:검증용 데이터 개수 조정\n",
    "# print(X_train.shape, y_train.shape)\n",
    "\n",
    "lr.fit(X_train, y_train)\n",
    "\n",
    "lr.score(X_train, y_train), lr.score(X_test, y_test)"
   ]
  },
  {
   "cell_type": "code",
   "execution_count": null,
   "metadata": {},
   "outputs": [],
   "source": []
  },
  {
   "cell_type": "code",
   "execution_count": 4,
   "metadata": {},
   "outputs": [],
   "source": [
    "# 교차검증\n",
    "from sklearn.datasets import load_iris\n",
    "from sklearn.model_selection import cross_val_score     #함수의 매개변수 평가"
   ]
  },
  {
   "cell_type": "code",
   "execution_count": 5,
   "metadata": {},
   "outputs": [
    {
     "name": "stdout",
     "output_type": "stream",
     "text": [
      "[0.96666667 1.         0.93333333 0.96666667 1.        ]\n",
      "0.9733333333333334\n"
     ]
    }
   ],
   "source": [
    "iris = load_iris()\n",
    "lr = LogisticRegression(max_iter=1000)\n",
    "scores = cross_val_score(lr,iris['data'],iris['target'], cv=5)\n",
    "print(scores)\n",
    "print(np.mean(scores))"
   ]
  },
  {
   "cell_type": "code",
   "execution_count": 6,
   "metadata": {},
   "outputs": [],
   "source": [
    "from sklearn.model_selection import KFold"
   ]
  },
  {
   "cell_type": "code",
   "execution_count": 7,
   "metadata": {},
   "outputs": [
    {
     "data": {
      "text/plain": [
       "array([0., 0., 0.])"
      ]
     },
     "execution_count": 7,
     "metadata": {},
     "output_type": "execute_result"
    }
   ],
   "source": [
    "kfold = KFold(n_splits=3)\n",
    "cross_val_score(lr, iris.data, iris.target, cv=kfold)        #array([0., 0., 0.])  -> 문제발생 ->각 세트에 비율을 비슷하게 만들어 줘야함."
   ]
  },
  {
   "cell_type": "code",
   "execution_count": 8,
   "metadata": {},
   "outputs": [],
   "source": [
    "# 데이터가 편항되어 있을 경우(몰려있을 경우) 단순 k-겹 교차검증을 사용하면 성능 평가가 잘 되지 않을 수 있다.\n",
    "# 그럴 땐 stratified k-fold cross-validation을 사용"
   ]
  },
  {
   "cell_type": "code",
   "execution_count": 9,
   "metadata": {},
   "outputs": [],
   "source": [
    "from sklearn.model_selection import StratifiedKFold"
   ]
  },
  {
   "cell_type": "code",
   "execution_count": 10,
   "metadata": {},
   "outputs": [
    {
     "data": {
      "text/plain": [
       "array([0.98, 0.96, 0.98])"
      ]
     },
     "execution_count": 10,
     "metadata": {},
     "output_type": "execute_result"
    }
   ],
   "source": [
    "kfold = StratifiedKFold(n_splits=3)\n",
    "cross_val_score(lr, iris.data, iris.target, cv=kfold) "
   ]
  },
  {
   "cell_type": "code",
   "execution_count": 11,
   "metadata": {},
   "outputs": [
    {
     "data": {
      "text/plain": [
       "array([0.92, 0.98, 0.98])"
      ]
     },
     "execution_count": 11,
     "metadata": {},
     "output_type": "execute_result"
    }
   ],
   "source": [
    "kfold = KFold(n_splits=3, shuffle=True)      # shuffle=True => 데이터를 무작위로 해서 뽑는다.(데이터 많을때 이용)\n",
    "cross_val_score(lr, iris.data, iris.target, cv=kfold)"
   ]
  },
  {
   "cell_type": "code",
   "execution_count": 12,
   "metadata": {},
   "outputs": [
    {
     "data": {
      "text/plain": [
       "array([0.98, 0.96, 0.98])"
      ]
     },
     "execution_count": 12,
     "metadata": {},
     "output_type": "execute_result"
    }
   ],
   "source": [
    "cross_val_score(lr, iris.data, iris.target, cv=3)  #default = stratified"
   ]
  },
  {
   "cell_type": "code",
   "execution_count": 1,
   "metadata": {},
   "outputs": [],
   "source": [
    "from sklearn.model_selection import  train_test_split\n",
    "from sklearn.datasets import load_iris\n",
    "from sklearn.svm import SVC "
   ]
  },
  {
   "cell_type": "code",
   "execution_count": 2,
   "metadata": {},
   "outputs": [
    {
     "name": "stdout",
     "output_type": "stream",
     "text": [
      "최고 점수: 0.97\n",
      "최적 파라미터: {'C': 100, 'gamma': 0.001}\n"
     ]
    }
   ],
   "source": [
    "# 간단한 그리드 서치구현\n",
    "iris = load_iris()\n",
    "X_train, X_test, y_train, y_test = train_test_split(iris.data, iris.target, random_state=0)\n",
    "\n",
    "best_score = 0\n",
    "\n",
    "for gamma in [0.001, 0.01, 0.1, 1, 10, 100]: \n",
    "    for C in [0.001, 0.01, 0.1, 1, 10, 100]: \n",
    "        # 매개변수의 각 조합에 대해 SVC를 훈련시킵니다 \n",
    "        svm = SVC(gamma=gamma, C=C)\n",
    "        svm.fit(X_train, y_train) \n",
    "        score = svm.score(X_test, y_test) # 테스트 세트로 평가\n",
    "    \n",
    "        if score > best_score: # 점수가 더 높으면 매개변수와 함께 기록 \n",
    "            best_score = score \n",
    "            best_parameters = {'C': C, 'gamma': gamma}\n",
    "\n",
    "print(\"최고 점수: {:.2f}\".format(best_score))\n",
    "print(\"최적 파라미터: {}\".format(best_parameters))\n"
   ]
  },
  {
   "cell_type": "code",
   "execution_count": 5,
   "metadata": {},
   "outputs": [
    {
     "name": "stdout",
     "output_type": "stream",
     "text": [
      "훈련: 84  검증: 28  테스트: 38\n",
      "\n"
     ]
    }
   ],
   "source": [
    "# 데이터를 훈련 + 테스트 세트로 분할 \n",
    "X_trainval, X_test, y_trainval, y_test = \\\n",
    "    train_test_split( iris.data, iris.target, random_state=0)\n",
    "\n",
    "# 훈련세트를 훈련 세트와 검증 세트로 분할 \n",
    "X_train, X_valid, y_train, y_valid = \\\n",
    "    train_test_split( X_trainval, y_trainval, random_state=1)\n",
    "\n",
    "print(\"훈련: {}  검증: {}  테스트:\" \n",
    "      \" {}\\n\".format(X_train.shape[0], X_valid.shape[0], X_test.shape[0]))"
   ]
  },
  {
   "cell_type": "code",
   "execution_count": 9,
   "metadata": {},
   "outputs": [
    {
     "name": "stdout",
     "output_type": "stream",
     "text": [
      "검증 세트에서 최고 점수: 0.96\n",
      "최적 파라미터:  {'C': 100, 'gamma': 0.01}\n",
      "최적 파라미터에서 테스트 세트 점수: 0.97\n"
     ]
    }
   ],
   "source": [
    "# 매개변수 과대적합 검증 세트 구현\n",
    "\n",
    "best_score = 0\n",
    "\n",
    "for gamma in [0.001, 0.01, 0.1, 1, 10, 100]: \n",
    "    for C in [0.001, 0.01, 0.1, 1, 10, 100]: \n",
    "#         print('params:',(C, gamma))\n",
    "        # 매개변수의 각 조합에 대해 SVC를 훈련시킵니다 \n",
    "        svm = SVC(gamma=gamma, C=C) \n",
    "        svm.fit(X_train, y_train)\n",
    "\n",
    "        score = svm.score(X_valid, y_valid) # 검증 세트로 SVC를 평가합니다\n",
    "        \n",
    "    if score > best_score: # 점수가 더 높으면 매개변수와 함께 기록합니다 \n",
    "        best_score = score \n",
    "        best_parameters = {'C': C, 'gamma': gamma}\n",
    "        \n",
    "# 훈련 세트와 검증 세트를 합쳐 모델을 다시 만든 후 테스트 세트를 사용해 평가 \n",
    "#best_parameters={'C': C, 'gamma': gamma, 'kernel':kernel} 일 경우 **best_parameters = SVC(C=C, gamma=gamma, kernel=kernel)값이 들어간다.\n",
    "# * = 리스트, ** = 딕셔너리 풀어준다\n",
    "svm = SVC(**best_parameters)   # **best_parameters : SVC(C=C, gamma=gamma) -> SVC(C=10, gamma=0.001)\n",
    "svm.fit(X_trainval, y_trainval) \n",
    "test_score = svm.score(X_test, y_test) \n",
    "print(\"검증 세트에서 최고 점수: {:.2f}\".format(best_score)) \n",
    "print(\"최적 파라미터: \", best_parameters) \n",
    "print(\"최적 파라미터에서 테스트 세트 점수: {:.2f}\".format(test_score))"
   ]
  },
  {
   "cell_type": "markdown",
   "metadata": {},
   "source": [
    "# 교차검증 그리드 서치 (cross_val_score) p324~"
   ]
  },
  {
   "cell_type": "code",
   "execution_count": 12,
   "metadata": {},
   "outputs": [
    {
     "name": "stdout",
     "output_type": "stream",
     "text": [
      "검증 세트에서 최고 점수: 0.96\n",
      "최적 파라미터:  {'C': 100, 'gamma': 0.01}\n",
      "최적 파라미터에서 테스트 세트 점수: 0.97\n"
     ]
    }
   ],
   "source": [
    "from sklearn.model_selection import cross_val_score\n",
    "import numpy as np\n",
    "\n",
    "best_score = 0\n",
    "\n",
    "for gamma in [0.001, 0.01, 0.1, 1, 10, 100]: \n",
    "    for C in [0.001, 0.01, 0.1, 1, 10, 100]: \n",
    "        # 매개변수의 각 조합에 대해 SVC를 훈련시킵니다 \n",
    "        svm = SVC(gamma=gamma, C=C) \n",
    "        scores = cross_val_score(svm, X_trainval, y_trainval, cv=5)\n",
    "#         print(scores)\n",
    "        score=np.mean(scores)\n",
    "\n",
    "    if score > best_score: # 점수가 더 높으면 매개변수와 함께 기록합니다 \n",
    "        best_score = score \n",
    "        best_parameters = {'C': C, 'gamma': gamma}\n",
    "        \n",
    "# 훈련 세트와 검증 세트를 합쳐 모델을 다시 만든 후 테스트 세트를 사용해 평가 \n",
    "\n",
    "svm = SVC(**best_parameters)   # **best_parameters : SVC(C=C, gamma=gamma) -> SVC(C=10, gamma=0.001)\n",
    "svm.fit(X_trainval, y_trainval) \n",
    "test_score = svm.score(X_test, y_test) \n",
    "print(\"검증 세트에서 최고 점수: {:.2f}\".format(best_score)) \n",
    "print(\"최적 파라미터: \", best_parameters) \n",
    "print(\"최적 파라미터에서 테스트 세트 점수: {:.2f}\".format(test_score))"
   ]
  },
  {
   "cell_type": "code",
   "execution_count": 14,
   "metadata": {},
   "outputs": [
    {
     "name": "stdout",
     "output_type": "stream",
     "text": [
      "0.9731225296442687\n",
      "{'C': 10, 'gamma': 0.1}\n",
      "0.9736842105263158\n"
     ]
    }
   ],
   "source": [
    "from sklearn.model_selection import GridSearchCV\n",
    "\n",
    "param_grid = {'C':[0.001, 0.01, 0.1, 1, 10, 100],'gamma':[0.001, 0.01, 0.1, 1, 10, 100]}\n",
    "#  반복문 돌려 최적값 찾기\n",
    "gsc = GridSearchCV(SVC(), param_grid, cv=5, return_train_score=True)\n",
    "\n",
    "gsc.fit(X_trainval, y_trainval)   #(6개 * 6개 * 5번 반복)\n",
    "\n",
    "print(gsc.best_score_)\n",
    "print(gsc.best_params_)\n",
    "print(gsc.score(X_test, y_test))"
   ]
  },
  {
   "cell_type": "code",
   "execution_count": 17,
   "metadata": {},
   "outputs": [
    {
     "data": {
      "text/html": [
       "<div>\n",
       "<style scoped>\n",
       "    .dataframe tbody tr th:only-of-type {\n",
       "        vertical-align: middle;\n",
       "    }\n",
       "\n",
       "    .dataframe tbody tr th {\n",
       "        vertical-align: top;\n",
       "    }\n",
       "\n",
       "    .dataframe thead th {\n",
       "        text-align: right;\n",
       "    }\n",
       "</style>\n",
       "<table border=\"1\" class=\"dataframe\">\n",
       "  <thead>\n",
       "    <tr style=\"text-align: right;\">\n",
       "      <th></th>\n",
       "      <th>param_C</th>\n",
       "      <th>param_gamma</th>\n",
       "      <th>params</th>\n",
       "      <th>split0_test_score</th>\n",
       "      <th>split1_test_score</th>\n",
       "      <th>split2_test_score</th>\n",
       "      <th>split3_test_score</th>\n",
       "      <th>split4_test_score</th>\n",
       "      <th>mean_test_score</th>\n",
       "      <th>std_test_score</th>\n",
       "      <th>rank_test_score</th>\n",
       "      <th>split0_train_score</th>\n",
       "      <th>split1_train_score</th>\n",
       "      <th>split2_train_score</th>\n",
       "      <th>split3_train_score</th>\n",
       "      <th>split4_train_score</th>\n",
       "      <th>mean_train_score</th>\n",
       "      <th>std_train_score</th>\n",
       "    </tr>\n",
       "  </thead>\n",
       "  <tbody>\n",
       "    <tr>\n",
       "      <th>0</th>\n",
       "      <td>0.001</td>\n",
       "      <td>0.001</td>\n",
       "      <td>{'C': 0.001, 'gamma': 0.001}</td>\n",
       "      <td>0.347826</td>\n",
       "      <td>0.347826</td>\n",
       "      <td>0.363636</td>\n",
       "      <td>0.363636</td>\n",
       "      <td>0.409091</td>\n",
       "      <td>0.366403</td>\n",
       "      <td>0.022485</td>\n",
       "      <td>22</td>\n",
       "      <td>0.370787</td>\n",
       "      <td>0.370787</td>\n",
       "      <td>0.366667</td>\n",
       "      <td>0.366667</td>\n",
       "      <td>0.355556</td>\n",
       "      <td>0.366092</td>\n",
       "      <td>0.005581</td>\n",
       "    </tr>\n",
       "    <tr>\n",
       "      <th>1</th>\n",
       "      <td>0.001</td>\n",
       "      <td>0.01</td>\n",
       "      <td>{'C': 0.001, 'gamma': 0.01}</td>\n",
       "      <td>0.347826</td>\n",
       "      <td>0.347826</td>\n",
       "      <td>0.363636</td>\n",
       "      <td>0.363636</td>\n",
       "      <td>0.409091</td>\n",
       "      <td>0.366403</td>\n",
       "      <td>0.022485</td>\n",
       "      <td>22</td>\n",
       "      <td>0.370787</td>\n",
       "      <td>0.370787</td>\n",
       "      <td>0.366667</td>\n",
       "      <td>0.366667</td>\n",
       "      <td>0.355556</td>\n",
       "      <td>0.366092</td>\n",
       "      <td>0.005581</td>\n",
       "    </tr>\n",
       "    <tr>\n",
       "      <th>2</th>\n",
       "      <td>0.001</td>\n",
       "      <td>0.1</td>\n",
       "      <td>{'C': 0.001, 'gamma': 0.1}</td>\n",
       "      <td>0.347826</td>\n",
       "      <td>0.347826</td>\n",
       "      <td>0.363636</td>\n",
       "      <td>0.363636</td>\n",
       "      <td>0.409091</td>\n",
       "      <td>0.366403</td>\n",
       "      <td>0.022485</td>\n",
       "      <td>22</td>\n",
       "      <td>0.370787</td>\n",
       "      <td>0.370787</td>\n",
       "      <td>0.366667</td>\n",
       "      <td>0.366667</td>\n",
       "      <td>0.355556</td>\n",
       "      <td>0.366092</td>\n",
       "      <td>0.005581</td>\n",
       "    </tr>\n",
       "    <tr>\n",
       "      <th>3</th>\n",
       "      <td>0.001</td>\n",
       "      <td>1</td>\n",
       "      <td>{'C': 0.001, 'gamma': 1}</td>\n",
       "      <td>0.347826</td>\n",
       "      <td>0.347826</td>\n",
       "      <td>0.363636</td>\n",
       "      <td>0.363636</td>\n",
       "      <td>0.409091</td>\n",
       "      <td>0.366403</td>\n",
       "      <td>0.022485</td>\n",
       "      <td>22</td>\n",
       "      <td>0.370787</td>\n",
       "      <td>0.370787</td>\n",
       "      <td>0.366667</td>\n",
       "      <td>0.366667</td>\n",
       "      <td>0.355556</td>\n",
       "      <td>0.366092</td>\n",
       "      <td>0.005581</td>\n",
       "    </tr>\n",
       "    <tr>\n",
       "      <th>4</th>\n",
       "      <td>0.001</td>\n",
       "      <td>10</td>\n",
       "      <td>{'C': 0.001, 'gamma': 10}</td>\n",
       "      <td>0.347826</td>\n",
       "      <td>0.347826</td>\n",
       "      <td>0.363636</td>\n",
       "      <td>0.363636</td>\n",
       "      <td>0.409091</td>\n",
       "      <td>0.366403</td>\n",
       "      <td>0.022485</td>\n",
       "      <td>22</td>\n",
       "      <td>0.370787</td>\n",
       "      <td>0.370787</td>\n",
       "      <td>0.366667</td>\n",
       "      <td>0.366667</td>\n",
       "      <td>0.355556</td>\n",
       "      <td>0.366092</td>\n",
       "      <td>0.005581</td>\n",
       "    </tr>\n",
       "  </tbody>\n",
       "</table>\n",
       "</div>"
      ],
      "text/plain": [
       "  param_C param_gamma                        params  split0_test_score  \\\n",
       "0   0.001       0.001  {'C': 0.001, 'gamma': 0.001}           0.347826   \n",
       "1   0.001        0.01   {'C': 0.001, 'gamma': 0.01}           0.347826   \n",
       "2   0.001         0.1    {'C': 0.001, 'gamma': 0.1}           0.347826   \n",
       "3   0.001           1      {'C': 0.001, 'gamma': 1}           0.347826   \n",
       "4   0.001          10     {'C': 0.001, 'gamma': 10}           0.347826   \n",
       "\n",
       "   split1_test_score  split2_test_score  split3_test_score  split4_test_score  \\\n",
       "0           0.347826           0.363636           0.363636           0.409091   \n",
       "1           0.347826           0.363636           0.363636           0.409091   \n",
       "2           0.347826           0.363636           0.363636           0.409091   \n",
       "3           0.347826           0.363636           0.363636           0.409091   \n",
       "4           0.347826           0.363636           0.363636           0.409091   \n",
       "\n",
       "   mean_test_score  std_test_score  rank_test_score  split0_train_score  \\\n",
       "0         0.366403        0.022485               22            0.370787   \n",
       "1         0.366403        0.022485               22            0.370787   \n",
       "2         0.366403        0.022485               22            0.370787   \n",
       "3         0.366403        0.022485               22            0.370787   \n",
       "4         0.366403        0.022485               22            0.370787   \n",
       "\n",
       "   split1_train_score  split2_train_score  split3_train_score  \\\n",
       "0            0.370787            0.366667            0.366667   \n",
       "1            0.370787            0.366667            0.366667   \n",
       "2            0.370787            0.366667            0.366667   \n",
       "3            0.370787            0.366667            0.366667   \n",
       "4            0.370787            0.366667            0.366667   \n",
       "\n",
       "   split4_train_score  mean_train_score  std_train_score  \n",
       "0            0.355556          0.366092         0.005581  \n",
       "1            0.355556          0.366092         0.005581  \n",
       "2            0.355556          0.366092         0.005581  \n",
       "3            0.355556          0.366092         0.005581  \n",
       "4            0.355556          0.366092         0.005581  "
      ]
     },
     "execution_count": 17,
     "metadata": {},
     "output_type": "execute_result"
    }
   ],
   "source": [
    "import pandas as pd\n",
    "\n",
    "results = pd.DataFrame(gsc.cv_results_)\n",
    "# results.head()\n",
    "results.iloc[:, 4:].head()"
   ]
  },
  {
   "cell_type": "code",
   "execution_count": 21,
   "metadata": {},
   "outputs": [
    {
     "data": {
      "text/plain": [
       "<matplotlib.collections.PolyCollection at 0x1138221ab00>"
      ]
     },
     "execution_count": 21,
     "metadata": {},
     "output_type": "execute_result"
    },
    {
     "data": {
      "image/png": "[encoded data removed]",
      "text/plain": [
       "<Figure size 432x288 with 1 Axes>"
      ]
     },
     "metadata": {
      "needs_background": "light"
     },
     "output_type": "display_data"
    }
   ],
   "source": [
    "import mglearn\n",
    "\n",
    "# results['mean_test_score'] # 36개 값, \n",
    "scores = results['mean_test_score'].values.reshape(6,6)\n",
    "# print(scores)\n",
    "\n",
    "mglearn.tools.heatmap(scores, xlabel='gamma', ylabel='C', \n",
    "                      yticklabels=param_grid['C'],\n",
    "                      xticklabels=['gamma'])\n"
   ]
  },
  {
   "cell_type": "code",
   "execution_count": 22,
   "metadata": {},
   "outputs": [
    {
     "name": "stdout",
     "output_type": "stream",
     "text": [
      "최적 파라미터: {'C': 10, 'gamma': 0.1, 'kernel': 'rbf'}\n",
      "최고 교차 검증 점수: 0.99\n"
     ]
    }
   ],
   "source": [
    "param_grid = [{'kernel': ['rbf'], 'C': [0.001, 0.01, 0.1, 1, 10, 100], \n",
    "               'gamma': [0.001, 0.01, 0.1, 1, 10, 100]}, \n",
    "              {'kernel': ['linear'], \n",
    "               'C': [0.001, 0.01, 0.1, 1, 10, 100]}]\n",
    "grid_search = GridSearchCV(SVC(), param_grid, cv=5, \n",
    "                           return_train_score=True) \n",
    "grid_search.fit(X_train, y_train)\n",
    "print(\"최적 파라미터: {}\".format(grid_search.best_params_))\n",
    "print(\"최고 교차 검증 점수: {:.2f}\".format(grid_search.best_score_))"
   ]
  },
  {
   "cell_type": "code",
   "execution_count": 27,
   "metadata": {},
   "outputs": [
    {
     "data": {
      "text/html": [
       "<div>\n",
       "<style scoped>\n",
       "    .dataframe tbody tr th:only-of-type {\n",
       "        vertical-align: middle;\n",
       "    }\n",
       "\n",
       "    .dataframe tbody tr th {\n",
       "        vertical-align: top;\n",
       "    }\n",
       "\n",
       "    .dataframe thead th {\n",
       "        text-align: right;\n",
       "    }\n",
       "</style>\n",
       "<table border=\"1\" class=\"dataframe\">\n",
       "  <thead>\n",
       "    <tr style=\"text-align: right;\">\n",
       "      <th></th>\n",
       "      <th>0</th>\n",
       "      <th>1</th>\n",
       "      <th>2</th>\n",
       "      <th>3</th>\n",
       "      <th>4</th>\n",
       "      <th>5</th>\n",
       "      <th>6</th>\n",
       "      <th>7</th>\n",
       "      <th>8</th>\n",
       "      <th>9</th>\n",
       "      <th>...</th>\n",
       "      <th>32</th>\n",
       "      <th>33</th>\n",
       "      <th>34</th>\n",
       "      <th>35</th>\n",
       "      <th>36</th>\n",
       "      <th>37</th>\n",
       "      <th>38</th>\n",
       "      <th>39</th>\n",
       "      <th>40</th>\n",
       "      <th>41</th>\n",
       "    </tr>\n",
       "  </thead>\n",
       "  <tbody>\n",
       "    <tr>\n",
       "      <th>param_C</th>\n",
       "      <td>0.001</td>\n",
       "      <td>0.001</td>\n",
       "      <td>0.001</td>\n",
       "      <td>0.001</td>\n",
       "      <td>0.001</td>\n",
       "      <td>0.001</td>\n",
       "      <td>0.01</td>\n",
       "      <td>0.01</td>\n",
       "      <td>0.01</td>\n",
       "      <td>0.01</td>\n",
       "      <td>...</td>\n",
       "      <td>100</td>\n",
       "      <td>100</td>\n",
       "      <td>100</td>\n",
       "      <td>100</td>\n",
       "      <td>0.001</td>\n",
       "      <td>0.01</td>\n",
       "      <td>0.1</td>\n",
       "      <td>1</td>\n",
       "      <td>10</td>\n",
       "      <td>100</td>\n",
       "    </tr>\n",
       "    <tr>\n",
       "      <th>param_gamma</th>\n",
       "      <td>0.001</td>\n",
       "      <td>0.01</td>\n",
       "      <td>0.1</td>\n",
       "      <td>1</td>\n",
       "      <td>10</td>\n",
       "      <td>100</td>\n",
       "      <td>0.001</td>\n",
       "      <td>0.01</td>\n",
       "      <td>0.1</td>\n",
       "      <td>1</td>\n",
       "      <td>...</td>\n",
       "      <td>0.1</td>\n",
       "      <td>1</td>\n",
       "      <td>10</td>\n",
       "      <td>100</td>\n",
       "      <td>NaN</td>\n",
       "      <td>NaN</td>\n",
       "      <td>NaN</td>\n",
       "      <td>NaN</td>\n",
       "      <td>NaN</td>\n",
       "      <td>NaN</td>\n",
       "    </tr>\n",
       "    <tr>\n",
       "      <th>param_kernel</th>\n",
       "      <td>rbf</td>\n",
       "      <td>rbf</td>\n",
       "      <td>rbf</td>\n",
       "      <td>rbf</td>\n",
       "      <td>rbf</td>\n",
       "      <td>rbf</td>\n",
       "      <td>rbf</td>\n",
       "      <td>rbf</td>\n",
       "      <td>rbf</td>\n",
       "      <td>rbf</td>\n",
       "      <td>...</td>\n",
       "      <td>rbf</td>\n",
       "      <td>rbf</td>\n",
       "      <td>rbf</td>\n",
       "      <td>rbf</td>\n",
       "      <td>linear</td>\n",
       "      <td>linear</td>\n",
       "      <td>linear</td>\n",
       "      <td>linear</td>\n",
       "      <td>linear</td>\n",
       "      <td>linear</td>\n",
       "    </tr>\n",
       "    <tr>\n",
       "      <th>params</th>\n",
       "      <td>{'C': 0.001, 'gamma': 0.001, 'kernel': 'rbf'}</td>\n",
       "      <td>{'C': 0.001, 'gamma': 0.01, 'kernel': 'rbf'}</td>\n",
       "      <td>{'C': 0.001, 'gamma': 0.1, 'kernel': 'rbf'}</td>\n",
       "      <td>{'C': 0.001, 'gamma': 1, 'kernel': 'rbf'}</td>\n",
       "      <td>{'C': 0.001, 'gamma': 10, 'kernel': 'rbf'}</td>\n",
       "      <td>{'C': 0.001, 'gamma': 100, 'kernel': 'rbf'}</td>\n",
       "      <td>{'C': 0.01, 'gamma': 0.001, 'kernel': 'rbf'}</td>\n",
       "      <td>{'C': 0.01, 'gamma': 0.01, 'kernel': 'rbf'}</td>\n",
       "      <td>{'C': 0.01, 'gamma': 0.1, 'kernel': 'rbf'}</td>\n",
       "      <td>{'C': 0.01, 'gamma': 1, 'kernel': 'rbf'}</td>\n",
       "      <td>...</td>\n",
       "      <td>{'C': 100, 'gamma': 0.1, 'kernel': 'rbf'}</td>\n",
       "      <td>{'C': 100, 'gamma': 1, 'kernel': 'rbf'}</td>\n",
       "      <td>{'C': 100, 'gamma': 10, 'kernel': 'rbf'}</td>\n",
       "      <td>{'C': 100, 'gamma': 100, 'kernel': 'rbf'}</td>\n",
       "      <td>{'C': 0.001, 'kernel': 'linear'}</td>\n",
       "      <td>{'C': 0.01, 'kernel': 'linear'}</td>\n",
       "      <td>{'C': 0.1, 'kernel': 'linear'}</td>\n",
       "      <td>{'C': 1, 'kernel': 'linear'}</td>\n",
       "      <td>{'C': 10, 'kernel': 'linear'}</td>\n",
       "      <td>{'C': 100, 'kernel': 'linear'}</td>\n",
       "    </tr>\n",
       "    <tr>\n",
       "      <th>split0_test_score</th>\n",
       "      <td>0.352941</td>\n",
       "      <td>0.352941</td>\n",
       "      <td>0.352941</td>\n",
       "      <td>0.352941</td>\n",
       "      <td>0.352941</td>\n",
       "      <td>0.352941</td>\n",
       "      <td>0.352941</td>\n",
       "      <td>0.352941</td>\n",
       "      <td>0.352941</td>\n",
       "      <td>0.352941</td>\n",
       "      <td>...</td>\n",
       "      <td>0.941176</td>\n",
       "      <td>0.941176</td>\n",
       "      <td>0.882353</td>\n",
       "      <td>0.588235</td>\n",
       "      <td>0.352941</td>\n",
       "      <td>0.941176</td>\n",
       "      <td>0.882353</td>\n",
       "      <td>1</td>\n",
       "      <td>1</td>\n",
       "      <td>0.941176</td>\n",
       "    </tr>\n",
       "  </tbody>\n",
       "</table>\n",
       "<p>5 rows × 42 columns</p>\n",
       "</div>"
      ],
      "text/plain": [
       "                                                              0   \\\n",
       "param_C                                                    0.001   \n",
       "param_gamma                                                0.001   \n",
       "param_kernel                                                 rbf   \n",
       "params             {'C': 0.001, 'gamma': 0.001, 'kernel': 'rbf'}   \n",
       "split0_test_score                                       0.352941   \n",
       "\n",
       "                                                             1   \\\n",
       "param_C                                                   0.001   \n",
       "param_gamma                                                0.01   \n",
       "param_kernel                                                rbf   \n",
       "params             {'C': 0.001, 'gamma': 0.01, 'kernel': 'rbf'}   \n",
       "split0_test_score                                      0.352941   \n",
       "\n",
       "                                                            2   \\\n",
       "param_C                                                  0.001   \n",
       "param_gamma                                                0.1   \n",
       "param_kernel                                               rbf   \n",
       "params             {'C': 0.001, 'gamma': 0.1, 'kernel': 'rbf'}   \n",
       "split0_test_score                                     0.352941   \n",
       "\n",
       "                                                          3   \\\n",
       "param_C                                                0.001   \n",
       "param_gamma                                                1   \n",
       "param_kernel                                             rbf   \n",
       "params             {'C': 0.001, 'gamma': 1, 'kernel': 'rbf'}   \n",
       "split0_test_score                                   0.352941   \n",
       "\n",
       "                                                           4   \\\n",
       "param_C                                                 0.001   \n",
       "param_gamma                                                10   \n",
       "param_kernel                                              rbf   \n",
       "params             {'C': 0.001, 'gamma': 10, 'kernel': 'rbf'}   \n",
       "split0_test_score                                    0.352941   \n",
       "\n",
       "                                                            5   \\\n",
       "param_C                                                  0.001   \n",
       "param_gamma                                                100   \n",
       "param_kernel                                               rbf   \n",
       "params             {'C': 0.001, 'gamma': 100, 'kernel': 'rbf'}   \n",
       "split0_test_score                                     0.352941   \n",
       "\n",
       "                                                             6   \\\n",
       "param_C                                                    0.01   \n",
       "param_gamma                                               0.001   \n",
       "param_kernel                                                rbf   \n",
       "params             {'C': 0.01, 'gamma': 0.001, 'kernel': 'rbf'}   \n",
       "split0_test_score                                      0.352941   \n",
       "\n",
       "                                                            7   \\\n",
       "param_C                                                   0.01   \n",
       "param_gamma                                               0.01   \n",
       "param_kernel                                               rbf   \n",
       "params             {'C': 0.01, 'gamma': 0.01, 'kernel': 'rbf'}   \n",
       "split0_test_score                                     0.352941   \n",
       "\n",
       "                                                           8   \\\n",
       "param_C                                                  0.01   \n",
       "param_gamma                                               0.1   \n",
       "param_kernel                                              rbf   \n",
       "params             {'C': 0.01, 'gamma': 0.1, 'kernel': 'rbf'}   \n",
       "split0_test_score                                    0.352941   \n",
       "\n",
       "                                                         9   ...  \\\n",
       "param_C                                                0.01  ...   \n",
       "param_gamma                                               1  ...   \n",
       "param_kernel                                            rbf  ...   \n",
       "params             {'C': 0.01, 'gamma': 1, 'kernel': 'rbf'}  ...   \n",
       "split0_test_score                                  0.352941  ...   \n",
       "\n",
       "                                                          32  \\\n",
       "param_C                                                  100   \n",
       "param_gamma                                              0.1   \n",
       "param_kernel                                             rbf   \n",
       "params             {'C': 100, 'gamma': 0.1, 'kernel': 'rbf'}   \n",
       "split0_test_score                                   0.941176   \n",
       "\n",
       "                                                        33  \\\n",
       "param_C                                                100   \n",
       "param_gamma                                              1   \n",
       "param_kernel                                           rbf   \n",
       "params             {'C': 100, 'gamma': 1, 'kernel': 'rbf'}   \n",
       "split0_test_score                                 0.941176   \n",
       "\n",
       "                                                         34  \\\n",
       "param_C                                                 100   \n",
       "param_gamma                                              10   \n",
       "param_kernel                                            rbf   \n",
       "params             {'C': 100, 'gamma': 10, 'kernel': 'rbf'}   \n",
       "split0_test_score                                  0.882353   \n",
       "\n",
       "                                                          35  \\\n",
       "param_C                                                  100   \n",
       "param_gamma                                              100   \n",
       "param_kernel                                             rbf   \n",
       "params             {'C': 100, 'gamma': 100, 'kernel': 'rbf'}   \n",
       "split0_test_score                                   0.588235   \n",
       "\n",
       "                                                 36  \\\n",
       "param_C                                       0.001   \n",
       "param_gamma                                     NaN   \n",
       "param_kernel                                 linear   \n",
       "params             {'C': 0.001, 'kernel': 'linear'}   \n",
       "split0_test_score                          0.352941   \n",
       "\n",
       "                                                37  \\\n",
       "param_C                                       0.01   \n",
       "param_gamma                                    NaN   \n",
       "param_kernel                                linear   \n",
       "params             {'C': 0.01, 'kernel': 'linear'}   \n",
       "split0_test_score                         0.941176   \n",
       "\n",
       "                                               38  \\\n",
       "param_C                                       0.1   \n",
       "param_gamma                                   NaN   \n",
       "param_kernel                               linear   \n",
       "params             {'C': 0.1, 'kernel': 'linear'}   \n",
       "split0_test_score                        0.882353   \n",
       "\n",
       "                                             39  \\\n",
       "param_C                                       1   \n",
       "param_gamma                                 NaN   \n",
       "param_kernel                             linear   \n",
       "params             {'C': 1, 'kernel': 'linear'}   \n",
       "split0_test_score                             1   \n",
       "\n",
       "                                              40  \\\n",
       "param_C                                       10   \n",
       "param_gamma                                  NaN   \n",
       "param_kernel                              linear   \n",
       "params             {'C': 10, 'kernel': 'linear'}   \n",
       "split0_test_score                              1   \n",
       "\n",
       "                                               41  \n",
       "param_C                                       100  \n",
       "param_gamma                                   NaN  \n",
       "param_kernel                               linear  \n",
       "params             {'C': 100, 'kernel': 'linear'}  \n",
       "split0_test_score                        0.941176  \n",
       "\n",
       "[5 rows x 42 columns]"
      ]
     },
     "execution_count": 27,
     "metadata": {},
     "output_type": "execute_result"
    }
   ],
   "source": [
    "# grid_search.cv_results_\n",
    "pd.DataFrame(grid_search.cv_results_).iloc[:, 4:].T.head()"
   ]
  },
  {
   "cell_type": "code",
   "execution_count": 28,
   "metadata": {},
   "outputs": [
    {
     "name": "stdout",
     "output_type": "stream",
     "text": [
      "[0.96666667 1.         0.96666667 0.96666667 1.        ] 0.9800000000000001\n"
     ]
    }
   ],
   "source": [
    "param_grid = {'C':[0.001, 0.01, 0.1, 1, 10, 100],'gamma':[0.001, 0.01, 0.1, 1, 10, 100]}\n",
    "\n",
    "gsc = GridSearchCV(SVC(), param_grid, cv=5, return_train_score=True)\n",
    "\n",
    "scores = cross_val_score(gsc, iris.data, iris.target, cv=5)\n",
    "\n",
    "print(scores, scores.mean())"
   ]
  },
  {
   "cell_type": "code",
   "execution_count": null,
   "metadata": {},
   "outputs": [],
   "source": []
  }
 ],
 "metadata": {
  "kernelspec": {
   "display_name": "Python 3",
   "language": "python",
   "name": "python3"
  },
  "language_info": {
   "codemirror_mode": {
    "name": "ipython",
    "version": 3
   },
   "file_extension": ".py",
   "mimetype": "text/x-python",
   "name": "python",
   "nbconvert_exporter": "python",
   "pygments_lexer": "ipython3",
   "version": "3.6.10"
  }
 },
 "nbformat": 4,
 "nbformat_minor": 4
}
