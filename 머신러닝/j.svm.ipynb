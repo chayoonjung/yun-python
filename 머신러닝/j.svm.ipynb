{
 "cells": [
  {
   "cell_type": "code",
   "execution_count": 11,
   "metadata": {},
   "outputs": [],
   "source": [
    "from sklearn.datasets import load_breast_cancer\n",
    "from sklearn.model_selection import train_test_split\n",
    "from sklearn.preprocessing import MinMaxScaler\n",
    "from sklearn.svm import SVC"
   ]
  },
  {
   "cell_type": "code",
   "execution_count": 2,
   "metadata": {},
   "outputs": [],
   "source": [
    "cancer = load_breast_cancer()\n",
    "X, y = cancer['data'], cancer['target']\n",
    "X_train, X_test, y_train, y_test = train_test_split(X, y, stratify=y ,random_state=42)"
   ]
  },
  {
   "cell_type": "code",
   "execution_count": 3,
   "metadata": {},
   "outputs": [
    {
     "data": {
      "text/plain": [
       "(0.9178403755868545, 0.9230769230769231)"
      ]
     },
     "execution_count": 3,
     "metadata": {},
     "output_type": "execute_result"
    }
   ],
   "source": [
    "svc = SVC()\n",
    "svc.fit(X_train, y_train)\n",
    "svc.score(X_train, y_train), svc.score(X_test, y_test)"
   ]
  },
  {
   "cell_type": "code",
   "execution_count": 7,
   "metadata": {},
   "outputs": [
    {
     "data": {
      "text/plain": [
       "(0.9436619718309859, 0.9440559440559441)"
      ]
     },
     "execution_count": 7,
     "metadata": {},
     "output_type": "execute_result"
    }
   ],
   "source": [
    "svc = SVC(C=100)\n",
    "svc.fit(X_train, y_train)\n",
    "svc.score(X_train, y_train), svc.score(X_test, y_test)"
   ]
  },
  {
   "cell_type": "code",
   "execution_count": 8,
   "metadata": {},
   "outputs": [
    {
     "data": {
      "text/plain": [
       "(0.9483568075117371, 0.9370629370629371)"
      ]
     },
     "execution_count": 8,
     "metadata": {},
     "output_type": "execute_result"
    }
   ],
   "source": [
    "svc = SVC(kernel='rbf' , gamma=0.0001)          # SVM 모델이 오류를 어느정도 허용할 것인지 파라미터 C를 통해 지정할 수 있다.        \n",
    "svc.fit(X_train, y_train)\n",
    "svc.score(X_train, y_train), svc.score(X_test, y_test)"
   ]
  },
  {
   "cell_type": "code",
   "execution_count": 10,
   "metadata": {},
   "outputs": [
    {
     "data": {
      "text/plain": [
       "(0.9084507042253521, 0.916083916083916)"
      ]
     },
     "execution_count": 10,
     "metadata": {},
     "output_type": "execute_result"
    }
   ],
   "source": [
    "svc = SVC(kernel='poly' , degree=3)\n",
    "svc.fit(X_train, y_train)\n",
    "svc.score(X_train, y_train), svc.score(X_test, y_test)"
   ]
  },
  {
   "cell_type": "code",
   "execution_count": null,
   "metadata": {},
   "outputs": [],
   "source": [
    "#  <메모>\n",
    "# 커널 선택 사항(rbf-, poly(다항식)-차주조정 과대/과소적합 해결)\n",
    "# poly(다항식)-차주조정 과대/과소적합 해결 degree로 설정 /// 데이터를 더 높은 차원으로 변형하여 나타냄으로써 초평면(hyperplane)의 결정 경계를 얻을 수 있다.\n",
    "# RBF(가우시안 커널) -  2차원의 점을 무한한 차원의 점으로 변환 /// gamma로 설정 "
   ]
  },
  {
   "cell_type": "code",
   "execution_count": 12,
   "metadata": {},
   "outputs": [],
   "source": [
    "mms = MinMaxScaler()\n",
    "mms.fit(X_train)\n",
    "X_train_scaled = mms.transform(X_train)\n",
    "X_test_scaled = mms.transform(X_test)"
   ]
  },
  {
   "cell_type": "code",
   "execution_count": 13,
   "metadata": {},
   "outputs": [
    {
     "data": {
      "text/plain": [
       "array([[0.61096124, 0.35678052, 0.5991984 , ..., 0.55429553, 0.19396807,\n",
       "        0.23822642],\n",
       "       [0.27966302, 0.11531958, 0.26328519, ..., 0.18439863, 0.14665878,\n",
       "        0.09254887],\n",
       "       [0.48080837, 0.22624281, 0.498998  , ..., 0.87628866, 0.49300217,\n",
       "        0.3335957 ],\n",
       "       ...,\n",
       "       [0.4012968 , 0.48156916, 0.41469145, ..., 0.74329897, 0.28543268,\n",
       "        0.33884298],\n",
       "       [0.47654882, 0.31687521, 0.48103103, ..., 0.87388316, 0.3043564 ,\n",
       "        0.2333071 ],\n",
       "       [0.13232997, 0.24619547, 0.12929307, ..., 0.18329897, 0.19081411,\n",
       "        0.19441165]])"
      ]
     },
     "execution_count": 13,
     "metadata": {},
     "output_type": "execute_result"
    }
   ],
   "source": [
    "X_train_scaled"
   ]
  },
  {
   "cell_type": "code",
   "execution_count": 29,
   "metadata": {},
   "outputs": [
    {
     "data": {
      "text/plain": [
       "(0.9859154929577465, 0.9790209790209791)"
      ]
     },
     "execution_count": 29,
     "metadata": {},
     "output_type": "execute_result"
    }
   ],
   "source": [
    "# svc=SVC(C=1)        # C : 규제를 풀어준다.\n",
    "# svc=SVC(kernel='rbf' , gamma=1)\n",
    "# svc=SVC(kernel='poly' , degree=3)\n",
    "svc=SVC(kernel='poly' , degree=3, probability=True)\n",
    "svc.fit(X_train_scaled, y_train)\n",
    "svc.score(X_train_scaled, y_train), svc.score(X_test_scaled, y_test)"
   ]
  },
  {
   "cell_type": "code",
   "execution_count": null,
   "metadata": {},
   "outputs": [],
   "source": []
  },
  {
   "cell_type": "code",
   "execution_count": 24,
   "metadata": {},
   "outputs": [
    {
     "data": {
      "text/plain": [
       "array([0])"
      ]
     },
     "execution_count": 24,
     "metadata": {},
     "output_type": "execute_result"
    }
   ],
   "source": [
    "svc.predict([X_test[0]])   #속성변수는 항상 2차원으로 넣어 줘야 함."
   ]
  },
  {
   "cell_type": "code",
   "execution_count": 33,
   "metadata": {},
   "outputs": [
    {
     "name": "stdout",
     "output_type": "stream",
     "text": [
      "[0]\n",
      "[-84435046.62695622]\n",
      "[[9.9999990e-01 1.0000001e-07]]\n"
     ]
    }
   ],
   "source": [
    "# print(X_test[1])\n",
    "print(svc.predict([X_test[6]]))\n",
    "print(svc.decision_function([X_test[6]]))   \n",
    "print(svc.predict_proba([X_test[6]]))"
   ]
  },
  {
   "cell_type": "code",
   "execution_count": null,
   "metadata": {},
   "outputs": [],
   "source": []
  }
 ],
 "metadata": {
  "kernelspec": {
   "display_name": "Python 3",
   "language": "python",
   "name": "python3"
  },
  "language_info": {
   "codemirror_mode": {
    "name": "ipython",
    "version": 3
   },
   "file_extension": ".py",
   "mimetype": "text/x-python",
   "name": "python",
   "nbconvert_exporter": "python",
   "pygments_lexer": "ipython3",
   "version": "3.6.10"
  }
 },
 "nbformat": 4,
 "nbformat_minor": 4
}
