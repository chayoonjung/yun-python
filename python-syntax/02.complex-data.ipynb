{
 "cells": [
  {
   "cell_type": "code",
   "execution_count": 21,
   "metadata": {},
   "outputs": [
    {
     "name": "stdout",
     "output_type": "stream",
     "text": [
      "[1, 2, 3, 4, 5, 6, 7, 8, 9]\n",
      "6\n",
      "[3, 4, 5]\n",
      "[1, 2, 3, 4, 5]\n",
      "[4, 5, 6, 7, 8, 9]\n",
      "[1, 2, 3, 4, 5, 6, 7, 8, 9]\n",
      "[1, 3, 5, 7, 9]\n"
     ]
    }
   ],
   "source": [
    "a = [1, 2, 3, 4, 5, 6, 7, 8, 9]\n",
    "print(a) \n",
    "print(a[5]) # 0부터 시작하는 순서 번호로 인덱싱\n",
    "print(a[2:5]) # 2(포함)~5(불포함) 범위의 데이터\n",
    "print(a[:5]) # 처음 ~ 5 범위의 데이터\n",
    "print(a[3:]) # 3 ~ 끝 범위의 데이터\n",
    "print(a[:]) # 처음 ~ 끝 범위의 데이터\n",
    "print(a[::2]) # 처음 ~ 끝 범위의 순서번호가 2씩 증가하는 데이터\n",
    "# print(a[15]) # 범위를 벗어나는 인덱싱은 오류"
   ]
  },
  {
   "cell_type": "code",
   "execution_count": 22,
   "metadata": {},
   "outputs": [
    {
     "name": "stdout",
     "output_type": "stream",
     "text": [
      "오\n",
      "['6-1', '6-2']\n",
      "6-1\n"
     ]
    }
   ],
   "source": [
    "b = [1, 2, 3, '사', '오', ['6-1', '6-2'], 7]\n",
    "print(b[4])\n",
    "print(b[5]) # 5번째 요소는 리스트\n",
    "print(b[5][0]) "
   ]
  },
  {
   "cell_type": "code",
   "execution_count": 23,
   "metadata": {},
   "outputs": [
    {
     "name": "stdout",
     "output_type": "stream",
     "text": [
      "[10, 20, 30, 40, 50]\n",
      "400\n"
     ]
    }
   ],
   "source": [
    "c = [[1   , 2   , 3   , 4   , 5   ],\n",
    "     [10  , 20  , 30  , 40  , 50  ],\n",
    "     [100 , 200 , 300 , 400 , 500 ],\n",
    "     [1000, 2000, 3000, 4000, 5000]]\n",
    "print(c[1])\n",
    "print(c[2][3])"
   ]
  },
  {
   "cell_type": "code",
   "execution_count": 24,
   "metadata": {},
   "outputs": [
    {
     "name": "stdout",
     "output_type": "stream",
     "text": [
      "[[6, 7, 8, 9, 0], [10, 20, 30, 40, 50], [100, 200, 300, 400, 500], [1000, 2000, 3000, 4000, 5000]]\n",
      "[100, 200, 300, 400, 500]\n",
      "400\n"
     ]
    }
   ],
   "source": [
    "d = [\n",
    "    [[1   , 2   , 3   , 4   , 5   ],\n",
    "     [10  , 20  , 30  , 40  , 50  ],\n",
    "     [100 , 200 , 300 , 400 , 500 ],\n",
    "     [1000, 2000, 3000, 4000, 5000]],\n",
    "    [[6   , 7   , 8   , 9   , 0   ],\n",
    "     [10  , 20  , 30  , 40  , 50  ],\n",
    "     [100 , 200 , 300 , 400 , 500 ],\n",
    "     [1000, 2000, 3000, 4000, 5000]]\n",
    "    ]\n",
    "print(d[1])\n",
    "print(d[1][2])\n",
    "print(d[1][2][3])"
   ]
  },
  {
   "cell_type": "code",
   "execution_count": 26,
   "metadata": {},
   "outputs": [
    {
     "name": "stdout",
     "output_type": "stream",
     "text": [
      "[1, 2, 3, 4, 10, 20, 30, 40]\n",
      "[1, 2, 3, 4, 1, 2, 3, 4, 1, 2, 3, 4]\n"
     ]
    }
   ],
   "source": [
    "e1 = [1, 2, 3, 4]\n",
    "e2 = [10, 20, 30, 40]\n",
    "print(e1 + e2) # List의 +는 두 List를 병합\n",
    "print(e1 * 3) # List의 scalar 곱은 반복"
   ]
  },
  {
   "cell_type": "code",
   "execution_count": 31,
   "metadata": {},
   "outputs": [
    {
     "name": "stdout",
     "output_type": "stream",
     "text": [
      "[10, 20, 30, 40, 50]\n",
      "[10, 20, 1000, 40, 50]\n",
      "[10, 20, [123, 123], 40, 50]\n",
      "[10, 20, [123, 123], 456, 456, 50]\n"
     ]
    }
   ],
   "source": [
    "f = [10, 20, 30, 40, 50]\n",
    "print(f)\n",
    "f[2] = 1000 # 리스트 변경처리\n",
    "print(f)\n",
    "f[2] = [123, 123] # 인덱싱은 하나로 인식이므로 그대로 들어감.\n",
    "print(f)\n",
    "f[3:4] = [456, 456] # 슬라이싱은 범위이므로 리스트 해체하고 그 범위에 대체함. (범위에 범위 대체이므로 [] 해체하고 대체된다.)\n",
    "print(f)"
   ]
  },
  {
   "cell_type": "code",
   "execution_count": 34,
   "metadata": {},
   "outputs": [
    {
     "name": "stdout",
     "output_type": "stream",
     "text": [
      "[1, 2, 3, 4, 5, 6, 7, 8, 9]\n",
      "[1, 2, 3, 4, 5, 7, 8, 9]\n",
      "[1, 2, 7, 8, 9]\n",
      "[None, 2, 7, 8, 9]\n"
     ]
    }
   ],
   "source": [
    "g = [1, 2, 3, 4, 5, 6, 7, 8, 9]\n",
    "print(g)\n",
    "del g[5] # 단일 데이터 제거\n",
    "print(g)\n",
    "g[2:5] = [] # 여러 개의 데이터 제거\n",
    "print(g)\n",
    "g[0] = None # na 또는 nan - 정상적인 데이터를 사용하지 않을때 사용\n",
    "print(g)"
   ]
  },
  {
   "cell_type": "code",
   "execution_count": 36,
   "metadata": {},
   "outputs": [
    {
     "name": "stdout",
     "output_type": "stream",
     "text": [
      "[1, 2, 3]\n",
      "[1, 2, 3, 4]\n",
      "[1, 2, 3, 4, [51, 52]]\n",
      "[100, 1, -100, 2, 3, 4, [51, 52]]\n"
     ]
    }
   ],
   "source": [
    "h = [1, 2, 3]\n",
    "print(h)\n",
    "h.append(4)\n",
    "print(h)\n",
    "h.append([51, 52])\n",
    "print(h)\n",
    "h.insert(0, 100)\n",
    "h.insert(2, -100)\n",
    "print(h)"
   ]
  },
  {
   "cell_type": "code",
   "execution_count": 46,
   "metadata": {},
   "outputs": [
    {
     "name": "stdout",
     "output_type": "stream",
     "text": [
      "[1, 7, 4, 8, 3]\n",
      "[1, 3, 4, 7, 8]\n",
      "[8, 7, 4, 3, 1]\n",
      "********************\n",
      "[1, 7, 4, 8, 3]\n",
      "[8, 7, 4, 3, 1]\n",
      "********************\n",
      "[1, 7, 4, 8, 3]\n",
      "[1, 7, 4, 8, 3]\n",
      "[8, 7, 4, 3, 1]\n"
     ]
    }
   ],
   "source": [
    "i = [1, 7, 4, 8, 3]\n",
    "print(i)\n",
    "i.sort()   # 오름차순 정렬(배열 자체 변경)\n",
    "print(i)\n",
    "i.reverse()  # 배열 순서 뒤집기 (배열 자체 변경)\n",
    "print(i)\n",
    "\n",
    "print(\"*\" * 20)\n",
    "\n",
    "i = [1, 7, 4, 8, 3]\n",
    "print(i)\n",
    "i.sort(reverse=True)  #내림차순 정렬\n",
    "print(i)\n",
    "\n",
    "print(\"*\" * 20)\n",
    "\n",
    "i = [1, 7, 4, 8, 3]\n",
    "print(i)\n",
    "# i2 = sorted(i)  # 정렬(정렬된 새로운 배열 생성)\n",
    "i2 = sorted(i, reverse=True)\n",
    "print(i)\n",
    "print(i2)"
   ]
  },
  {
   "cell_type": "code",
   "execution_count": 49,
   "metadata": {},
   "outputs": [
    {
     "name": "stdout",
     "output_type": "stream",
     "text": [
      "[1, 2, 3, 4, 5]\n",
      "5 [1, 2, 3, 4, 5]\n",
      "2 [1, 3, 4, 5]\n"
     ]
    }
   ],
   "source": [
    "j = [1, 2, 3, 4, 5]\n",
    "print(j)\n",
    "j2 = j[4]       #인덱싱 (그 데이터를 읽어옴)\n",
    "print(j2, j)\n",
    "j2 = j.pop(1)  # pop - 데이터를 읽어와서 제거\n",
    "print(j2, j)"
   ]
  },
  {
   "cell_type": "code",
   "execution_count": 50,
   "metadata": {},
   "outputs": [
    {
     "name": "stdout",
     "output_type": "stream",
     "text": [
      "[1, 2, 3, [4, 5]]\n",
      "[1, 2, 3, 4, 5]\n"
     ]
    }
   ],
   "source": [
    "k = [1, 2, 3]\n",
    "k.append([4, 5])  # [4,5]를 하나의 요소로 추가\n",
    "print(k)\n",
    "k = [1, 2, 3]\n",
    "k.extend([4, 5])  # [4, 5]를 출어서 두개의 요소로 추가\n",
    "print(k)"
   ]
  },
  {
   "cell_type": "code",
   "execution_count": 51,
   "metadata": {},
   "outputs": [
    {
     "name": "stdout",
     "output_type": "stream",
     "text": [
      "[1, 2, 3]\n",
      "[]\n"
     ]
    }
   ],
   "source": [
    "l = [1, 2, 3]\n",
    "print(l)\n",
    "l.clear()\n",
    "print(l)"
   ]
  },
  {
   "cell_type": "code",
   "execution_count": null,
   "metadata": {},
   "outputs": [],
   "source": []
  },
  {
   "cell_type": "code",
   "execution_count": 4,
   "metadata": {},
   "outputs": [
    {
     "name": "stdout",
     "output_type": "stream",
     "text": [
      "1\n",
      "(2, 3)\n",
      "(1, 2, 3)\n",
      "(2, 3, 4, 5)\n"
     ]
    }
   ],
   "source": [
    "tpl = (1, 2, 3, 4, 5)\n",
    "print(tpl[0])\n",
    "print(tpl[1:3])\n",
    "print(tpl[:3])\n",
    "print(tpl[1:])\n",
    "\n",
    "#del tpl[3]     #오류 : 삭제 불가\n",
    "#tpl[3] = 100   #오류 : 수정 불가"
   ]
  },
  {
   "cell_type": "code",
   "execution_count": 9,
   "metadata": {},
   "outputs": [
    {
     "name": "stdout",
     "output_type": "stream",
     "text": [
      "<class 'tuple'>\n"
     ]
    }
   ],
   "source": [
    "tpl2 = 1, 2\n",
    "print( type(tpl2) ) \n",
    "\n",
    "#인터프린트의 능력! "
   ]
  },
  {
   "cell_type": "code",
   "execution_count": null,
   "metadata": {},
   "outputs": [],
   "source": []
  },
  {
   "cell_type": "code",
   "execution_count": 19,
   "metadata": {},
   "outputs": [
    {
     "name": "stdout",
     "output_type": "stream",
     "text": [
      "1\n",
      "{'no': 1, 'name': 'Jhon Doe', 'phone': '010-6587-2169'}\n"
     ]
    }
   ],
   "source": [
    "#딕셔너리\n",
    "d = { 'no': 1, \n",
    "      'name':'Jhon Doe',\n",
    "      'email': 'John@example.com',\n",
    "      'phone': '010-6587-2169'}\n",
    "print(d['no']) # key가 'no'인 데이터 검색\n",
    "\n",
    "del d['email']\n",
    "print(d)\n",
    "# print(d['no':'name']) #인덱싱은 되는데 슬라이싱은 안된다. 기본적으로 슬라이싱 지원 안된다."
   ]
  },
  {
   "cell_type": "code",
   "execution_count": 23,
   "metadata": {},
   "outputs": [
    {
     "name": "stdout",
     "output_type": "stream",
     "text": [
      "{'name': 'Jhon Doe', 'email': 'John@example.com', 'phone': '010-6587-2169'}\n",
      "{'name': 'Jhon Doe', 'email': 'John@example.com', 'phone': '010-6587-2169'}\n"
     ]
    }
   ],
   "source": [
    "persons = [{  \n",
    "      'name':'Jhon Doe',\n",
    "      'email': 'John@example.com',\n",
    "      'phone': '010-6587-2169'\n",
    "}, { \n",
    "      'name':'Jhon Doe',\n",
    "      'email': 'John@example.com',\n",
    "      'phone': '010-6587-2169'\n",
    "}]\n",
    "persons2 = {'a': {  \n",
    "      'name':'Jhon Doe',\n",
    "      'email': 'John@example.com',\n",
    "      'phone': '010-6587-2169'\n",
    "}, 'b': { \n",
    "      'name':'Jhon Doe',\n",
    "      'email': 'John@example.com',\n",
    "      'phone': '010-6587-2169'\n",
    "}}\n",
    "print(persons[0])\n",
    "print(persons2['a'])"
   ]
  },
  {
   "cell_type": "code",
   "execution_count": 30,
   "metadata": {},
   "outputs": [
    {
     "name": "stdout",
     "output_type": "stream",
     "text": [
      "[1, 2, 3, 4, 5]\n",
      "[1, 2, 3, 4, 5, 6, 7, 8, 9]\n"
     ]
    }
   ],
   "source": [
    "#튜플 -> 리스트로 변경 (but 리스트를 튜플로x)\n",
    "a = (1, 2, 3, 4, 5)\n",
    "a2 = list(a)\n",
    "print(list(a))\n",
    "a3 = list(range(1, 10))\n",
    "print(list(a3))"
   ]
  },
  {
   "cell_type": "code",
   "execution_count": 36,
   "metadata": {},
   "outputs": [
    {
     "name": "stdout",
     "output_type": "stream",
     "text": [
      "{'name': 'Jhon Doe', 'email': 'John@example.com', 'phone': '010-6587-2169'}\n",
      "{'name': 'Michel Doe', 'email': 'John@example.com', 'phone': '010-6587-2169'}\n",
      "dict_keys(['a', 'b'])\n"
     ]
    }
   ],
   "source": [
    "persons = [{  \n",
    "      'name':'Jhon Doe',\n",
    "      'email': 'John@example.com',\n",
    "      'phone': '010-6587-2169'\n",
    "}, { \n",
    "      'name':'Jhon Doe',\n",
    "      'email': 'John@example.com',\n",
    "      'phone': '010-6587-2169'\n",
    "}]\n",
    "persons2 = {'a': {  \n",
    "      'name':'Jhon Doe',\n",
    "      'email': 'John@example.com',\n",
    "      'phone': '010-6587-2169'\n",
    "}, 'b': { \n",
    "      'name':'Jhon Doe',\n",
    "      'email': 'John@example.com',\n",
    "      'phone': '010-6587-2169'\n",
    "}, 'a':{\n",
    "      'name':'Michel Doe',\n",
    "      'email': 'John@example.com',\n",
    "      'phone': '010-6587-2169'}}  \n",
    "### key가 다르면 overwrite 처리된다. (일반적 언어 공통적으로 적용된다.)\n",
    "\n",
    "print(persons[0])\n",
    "print(persons2['a'])\n",
    "print(persons2.keys())"
   ]
  },
  {
   "cell_type": "code",
   "execution_count": 43,
   "metadata": {},
   "outputs": [
    {
     "name": "stdout",
     "output_type": "stream",
     "text": [
      "{1: 'a'}\n",
      "{1: 'a', 2: 'b'}\n",
      "{1: 'a', 2: 'b', 'name': 'pey'}\n",
      "{1: 'a', 2: 'b', 'name': 'pey', 3: [1, 2, 3]}\n",
      "{1: 'modified', 2: 'b', 'name': 'pey', 3: [1, 2, 3], 4: 'appended'}\n",
      "1: modified\n",
      "2: None\n",
      "2: 0\n",
      "3: modified\n"
     ]
    }
   ],
   "source": [
    "#딕셔너리 \n",
    "a = {1: 'a'} \n",
    "print(a)\n",
    "a[2] = 'b'\n",
    "print(a)\n",
    "a['name'] = 'pey' \n",
    "print(a)\n",
    "a[3] = [1,2,3] \n",
    "print(a)\n",
    "a.update({1: 'modified', 4: 'appended'}) # 있는걸 넣으면 수정, 없는걸 넣으면 추가 된다.\n",
    "print(a)\n",
    "\n",
    "print('1:', a.get(1, 10))     # defalt값. get을 넣으면 없는값이 나오면 none 이라고 뜨지만 안쓰면 오류가 뜬다.\n",
    "print('2:', a.get(10))\n",
    "print('2:', a.get(10, 0)) # get(key, defalt-value)\n",
    "print('3:', a[1])\n",
    "# print('3:', a[10])  # key값 없는 경우 오류 "
   ]
  },
  {
   "cell_type": "code",
   "execution_count": 46,
   "metadata": {},
   "outputs": [
    {
     "name": "stdout",
     "output_type": "stream",
     "text": [
      "{'name': 'pey', 'phone': '0119993323', 'birth': '1118'}\n",
      "dict_keys(['name', 'phone', 'birth'])\n",
      "dict_values(['pey', '0119993323', '1118'])\n",
      "dict_items([('name', 'pey'), ('phone', '0119993323'), ('birth', '1118')])\n"
     ]
    }
   ],
   "source": [
    "\n",
    "a = {'name': 'pey', 'phone': '0119993323', 'birth': '1118'} \n",
    "print(a)\n",
    "print(a.keys())\n",
    "print(a.values())\n",
    "print(a.items())   #dict_items([('name', 'pey'), ('phone', '0119993323'), ('birth', '1118')]) 튜플 리스트~"
   ]
  },
  {
   "cell_type": "code",
   "execution_count": 56,
   "metadata": {},
   "outputs": [
    {
     "name": "stdout",
     "output_type": "stream",
     "text": [
      "name\n",
      "phone\n",
      "birth\n",
      "********************\n",
      "pey\n",
      "0119993323\n",
      "1118\n",
      "********************\n",
      "('name', 'pey')\n",
      "('phone', '0119993323')\n",
      "('birth', '1118')\n",
      "name  :  pey\n",
      "phone  :  0119993323\n",
      "birth  :  1118\n",
      "pey\n",
      "0119993323\n",
      "1118\n"
     ]
    }
   ],
   "source": [
    "a = {'name': 'pey', 'phone': '0119993323', 'birth': '1118'} \n",
    "for tmp in a:        # keys()의 반복문\n",
    "    print(tmp)\n",
    "\n",
    "print(\"*\" * 20)\n",
    "\n",
    "for tmp in a.values():\n",
    "    print(tmp)\n",
    "\n",
    "print(\"*\" * 20)\n",
    "\n",
    "for tmp in a.items():\n",
    "    print(tmp)\n",
    "\n",
    "for key, value in a.items():     # items 는 딕셔너리 에서만 사용 가능.\n",
    "    print(key, \" : \", value)\n",
    "\n",
    "for _,value in a.items():  # _, 형태만 가지고 있고 value만 가지고 올수 있게 한다.\n",
    "    print(value)\n"
   ]
  },
  {
   "cell_type": "code",
   "execution_count": 4,
   "metadata": {},
   "outputs": [
    {
     "name": "stdout",
     "output_type": "stream",
     "text": [
      "True\n",
      "False\n",
      "False\n"
     ]
    }
   ],
   "source": [
    "a = {'name': 'pey', 'phone': '0119993323', 'birth': '1118'} \n",
    "print('name' in a)   # a의 key 목록에 'name'이 있으면 Ture\n",
    "print('x' in a)   #a의 key 목록에 'x'이 없으면 False\n",
    "\n",
    "print('x'in a.values()) #a의 values 목록에 'x'이 있으면 Ture, 없으면 False."
   ]
  },
  {
   "cell_type": "code",
   "execution_count": null,
   "metadata": {},
   "outputs": [],
   "source": []
  }
 ],
 "metadata": {
  "kernelspec": {
   "display_name": "Python 3",
   "language": "python",
   "name": "python3"
  },
  "language_info": {
   "codemirror_mode": {
    "name": "ipython",
    "version": 3
   },
   "file_extension": ".py",
   "mimetype": "text/x-python",
   "name": "python",
   "nbconvert_exporter": "python",
   "pygments_lexer": "ipython3",
   "version": "3.6.10"
  }
 },
 "nbformat": 4,
 "nbformat_minor": 4
}
