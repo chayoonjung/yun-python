{
 "cells": [
  {
   "cell_type": "code",
   "execution_count": 1,
   "metadata": {},
   "outputs": [
    {
     "name": "stdin",
     "output_type": "stream",
     "text": [
      "your name :  John Doe\n"
     ]
    }
   ],
   "source": [
    "name = input(\"your name : \")"
   ]
  },
  {
   "cell_type": "code",
   "execution_count": 2,
   "metadata": {},
   "outputs": [
    {
     "name": "stdout",
     "output_type": "stream",
     "text": [
      "John Doe\n"
     ]
    }
   ],
   "source": [
    "print(name)"
   ]
  },
  {
   "cell_type": "code",
   "execution_count": 3,
   "metadata": {},
   "outputs": [],
   "source": [
    "import random  #미리 만들어진 모듈 가져오기 (설치된 라이브러리) "
   ]
  },
  {
   "cell_type": "code",
   "execution_count": 12,
   "metadata": {},
   "outputs": [
    {
     "name": "stdout",
     "output_type": "stream",
     "text": [
      "0\n",
      "0.45094327860411365\n"
     ]
    }
   ],
   "source": [
    "print(random.randint(0, 1))   # 0~1 사이중 데이터가 오는것 (randint는 처음, 끝 값도 포함되서 나온다.)\n",
    "print(random.random())        # 0과 1사이 소수점 데이터가 오는것"
   ]
  },
  {
   "cell_type": "code",
   "execution_count": 80,
   "metadata": {},
   "outputs": [
    {
     "name": "stdout",
     "output_type": "stream",
     "text": [
      "0\n",
      "Zero\n"
     ]
    }
   ],
   "source": [
    "n = random.randint(-1, 1)\n",
    "print(n)\n",
    "if n > 0:\n",
    "    print(\"Positive Number\")\n",
    "elif n == 0:\n",
    "    print(\"Zero\")\n",
    "else:\n",
    "    print(\"Negative Number\")"
   ]
  },
  {
   "cell_type": "code",
   "execution_count": 94,
   "metadata": {},
   "outputs": [
    {
     "name": "stdout",
     "output_type": "stream",
     "text": [
      " n == 0\n"
     ]
    }
   ],
   "source": [
    "n = random.randint(0, 1)    # 0 or 1\n",
    "#if n == 1:\n",
    "if n:\n",
    "    print(' n == 1')\n",
    "else:\n",
    "    print(' n == 0')"
   ]
  },
  {
   "cell_type": "code",
   "execution_count": 97,
   "metadata": {},
   "outputs": [
    {
     "name": "stdout",
     "output_type": "stream",
     "text": [
      "True\n",
      "False\n",
      "False\n",
      "False\n",
      "**********\n",
      "True\n",
      "True\n",
      "True\n",
      "False\n"
     ]
    }
   ],
   "source": [
    "print( True and True )\n",
    "print( True and False )\n",
    "print( False and True )\n",
    "print( False and False )\n",
    "print('*' * 10)\n",
    "print( True or True )\n",
    "print( True or False )\n",
    "print( False or True )\n",
    "print( False or False )"
   ]
  },
  {
   "cell_type": "code",
   "execution_count": 103,
   "metadata": {},
   "outputs": [
    {
     "name": "stdout",
     "output_type": "stream",
     "text": [
      "True\n",
      "False\n",
      "False\n",
      "True\n"
     ]
    }
   ],
   "source": [
    "a = [1, 2, 3]\n",
    "b = \"Hello\"\n",
    "print(2 in a)\n",
    "print('1x' in b)\n",
    "print(2 not in a)\n",
    "print('1x' not in b)"
   ]
  },
  {
   "cell_type": "code",
   "execution_count": 1,
   "metadata": {},
   "outputs": [
    {
     "name": "stdin",
     "output_type": "stream",
     "text": [
      "반복 횟수 :  10\n"
     ]
    },
    {
     "name": "stdout",
     "output_type": "stream",
     "text": [
      "0\n",
      "1\n",
      "2\n",
      "3\n",
      "4\n",
      "5\n",
      "6\n",
      "7\n",
      "8\n",
      "9\n",
      "The end!!!\n"
     ]
    }
   ],
   "source": [
    "n = input('반복 횟수 : ')\n",
    "n = int(n) # 문자열 -> 숫자\n",
    "idx = 0\n",
    "while idx < n:\n",
    "    print(idx)\n",
    "    idx += 1 # idx = idx +1\n",
    "print(\"The end!!!\")"
   ]
  },
  {
   "cell_type": "code",
   "execution_count": 3,
   "metadata": {},
   "outputs": [
    {
     "name": "stdout",
     "output_type": "stream",
     "text": [
      "1\n",
      "2\n",
      "3\n",
      "4\n",
      "5\n"
     ]
    }
   ],
   "source": [
    "for x in [1, 2, 3, 4, 5]:\n",
    "    print(x)"
   ]
  },
  {
   "cell_type": "code",
   "execution_count": 6,
   "metadata": {},
   "outputs": [
    {
     "name": "stdout",
     "output_type": "stream",
     "text": [
      "10\n",
      "9\n",
      "8\n",
      "7\n",
      "6\n",
      "5\n",
      "4\n",
      "3\n",
      "2\n"
     ]
    }
   ],
   "source": [
    "#for x in range(1, 10):\n",
    "#for x in range(1, 10, 2):\n",
    "for x in range(10, 1, -1):    # range는 범위 리스트를 만드는것. range도 step 가져올수 있다. \n",
    "    print(x)"
   ]
  },
  {
   "cell_type": "code",
   "execution_count": null,
   "metadata": {},
   "outputs": [],
   "source": []
  },
  {
   "cell_type": "code",
   "execution_count": 11,
   "metadata": {},
   "outputs": [
    {
     "name": "stdout",
     "output_type": "stream",
     "text": [
      "[1, 2, 3, 4, 5, 6, 7, 8, 9, 10]\n",
      "[3, 6, 9, 12, 15, 18, 21, 24, 27, 30]\n",
      "[3, 6, 9, 12, 15, 18, 21, 24, 27, 30]\n",
      "[3, 9, 15, 21, 27]\n",
      "[1, 3, 5, 7, 9]\n"
     ]
    }
   ],
   "source": [
    "lst = list(range(1, 11))\n",
    "print(lst)\n",
    "\n",
    "#for idx in range(len(lst)):\n",
    "#    lst[idx] = lst[idx] *3\n",
    "#print(lst)\n",
    "\n",
    "lst2 = []\n",
    "for idx in range(len(lst)):\n",
    "    lst2.append(lst[idx] *3)\n",
    "    \n",
    "print(lst2)\n",
    "\n",
    "lst3 = [n * 3 for n in lst]\n",
    "print(lst3)\n",
    "\n",
    "lst4 = [n * 3 for n in lst if n % 2 == 1]\n",
    "print(lst4)\n",
    "\n",
    "lst5 = [ n for n in lst if n % 2 == 1]\n",
    "print(lst5)"
   ]
  },
  {
   "cell_type": "code",
   "execution_count": null,
   "metadata": {},
   "outputs": [],
   "source": []
  },
  {
   "cell_type": "code",
   "execution_count": 19,
   "metadata": {},
   "outputs": [
    {
     "name": "stdout",
     "output_type": "stream",
     "text": [
      "0\n",
      "1\n",
      "2\n",
      "3\n",
      "4\n",
      "5\n",
      "6\n",
      "7\n",
      "8\n",
      "9\n",
      "for - else\n",
      "**********\n",
      "0\n",
      "1\n",
      "2\n",
      "3\n",
      "4\n",
      "5\n",
      "6\n"
     ]
    }
   ],
   "source": [
    "for idx in range(10):\n",
    "    print(idx)\n",
    "    \n",
    "else:\n",
    "    print('for - else')\n",
    "\n",
    "print('*' * 10)\n",
    "\n",
    "for idx in range(10):\n",
    "    print(idx)\n",
    "    if idx > 5:\n",
    "        break\n",
    "    \n",
    "else: # 반복문 안에서 break가 처리되지 않았을 때 호출\n",
    "    print('for - else')"
   ]
  },
  {
   "cell_type": "code",
   "execution_count": 21,
   "metadata": {},
   "outputs": [
    {
     "name": "stdout",
     "output_type": "stream",
     "text": [
      "1\n",
      "3\n",
      "5\n",
      "7\n",
      "9\n"
     ]
    }
   ],
   "source": [
    "a = 0 \n",
    "while a < 10: \n",
    "    a = a+1 \n",
    "    if a % 2 == 0: \n",
    "        continue  #반복문의 처음 위치로 이동\n",
    "    print(a)  #홀수번째에서 출력"
   ]
  }
 ],
 "metadata": {
  "kernelspec": {
   "display_name": "Python 3",
   "language": "python",
   "name": "python3"
  },
  "language_info": {
   "codemirror_mode": {
    "name": "ipython",
    "version": 3
   },
   "file_extension": ".py",
   "mimetype": "text/x-python",
   "name": "python",
   "nbconvert_exporter": "python",
   "pygments_lexer": "ipython3",
   "version": "3.6.10"
  }
 },
 "nbformat": 4,
 "nbformat_minor": 4
}
