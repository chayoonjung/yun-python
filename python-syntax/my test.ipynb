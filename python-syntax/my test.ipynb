{
 "cells": [
  {
   "cell_type": "code",
   "execution_count": 1,
   "metadata": {},
   "outputs": [
    {
     "name": "stdout",
     "output_type": "stream",
     "text": [
      "[36][15][13][23]"
     ]
    }
   ],
   "source": [
    "# 야구 게임\n",
    "# 1.  1 ~ 45 난수 4개 뽑기\n",
    "# 2. 중복 확인 -> 중복되면 1번부터 다시\n",
    "# 3. 뽑힌 숫자 출력\n",
    "\n",
    "import random\n",
    "\n",
    "n = [0, 0, 0, 0]\n",
    "again = True\n",
    "\n",
    "while again:\n",
    "    for i in range(len(n)):\n",
    "        n[i] = random.randint(1, 45)\n",
    "        \n",
    "    if n[0] != n[1] and\\\n",
    "       n[0] != n[2] and\\\n",
    "       n[0] != n[3] and\\\n",
    "       n[1] != n[2] and\\\n",
    "       n[1] != n[3] and\\\n",
    "       n[2] != n[3]:\n",
    "        again = False\n",
    "\n",
    "for n3 in n:\n",
    "    print('[{0}]'.format((n3)), end=\"\")\n",
    "    \n"
   ]
  },
  {
   "cell_type": "code",
   "execution_count": 15,
   "metadata": {},
   "outputs": [
    {
     "name": "stdout",
     "output_type": "stream",
     "text": [
      "안녕하세요.\n",
      "만나서\t반갑습니다.\n"
     ]
    }
   ],
   "source": [
    "print(\"안녕하세요.\\n만나서\\t반갑습니다.\")"
   ]
  },
  {
   "cell_type": "code",
   "execution_count": 4,
   "metadata": {},
   "outputs": [
    {
     "name": "stdout",
     "output_type": "stream",
     "text": [
      "오늘은 일요일\n"
     ]
    }
   ],
   "source": [
    "print (\"오늘은\", \"일요일\")"
   ]
  },
  {
   "cell_type": "code",
   "execution_count": 6,
   "metadata": {},
   "outputs": [
    {
     "name": "stdout",
     "output_type": "stream",
     "text": [
      "naver;kakao;sk;samsung\n"
     ]
    }
   ],
   "source": [
    "print(\"naver\",\"kakao\",\"sk\",\"samsung\", sep=';')"
   ]
  },
  {
   "cell_type": "code",
   "execution_count": 16,
   "metadata": {},
   "outputs": [
    {
     "name": "stdout",
     "output_type": "stream",
     "text": [
      "first\n",
      "second\n",
      "firstsecond\n",
      "1.6666666666666667\n",
      "1\n"
     ]
    }
   ],
   "source": [
    "print(\"first\");print(\"second\")\n",
    "print(\"first\", end=\"\");print(\"second\")\n",
    "print(5/3)\n",
    "print(5//3)"
   ]
  },
  {
   "cell_type": "code",
   "execution_count": 27,
   "metadata": {},
   "outputs": [
    {
     "name": "stdout",
     "output_type": "stream",
     "text": [
      "p t\n",
      "2210\n",
      "홀홀홀\n"
     ]
    }
   ],
   "source": [
    "letters = 'python'\n",
    "print(letters[0],letters[2])\n",
    "\n",
    "license_plate = \"24가 2210\"\n",
    "print(license_plate[-4:])\n",
    "\n",
    "string = \"홀짝홀짝홀짝\"\n",
    "print(string[::2])"
   ]
  }
 ],
 "metadata": {
  "kernelspec": {
   "display_name": "Python 3",
   "language": "python",
   "name": "python3"
  },
  "language_info": {
   "codemirror_mode": {
    "name": "ipython",
    "version": 3
   },
   "file_extension": ".py",
   "mimetype": "text/x-python",
   "name": "python",
   "nbconvert_exporter": "python",
   "pygments_lexer": "ipython3",
   "version": "3.6.10"
  }
 },
 "nbformat": 4,
 "nbformat_minor": 4
}
