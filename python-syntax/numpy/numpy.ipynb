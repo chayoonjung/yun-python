{
 "metadata": {
  "language_info": {
   "codemirror_mode": {
    "name": "ipython",
    "version": 3
   },
   "file_extension": ".py",
   "mimetype": "text/x-python",
   "name": "python",
   "nbconvert_exporter": "python",
   "pygments_lexer": "ipython3",
   "version": "3.7.7-final"
  },
  "orig_nbformat": 2,
  "kernelspec": {
   "name": "python3",
   "display_name": "Python 3"
  }
 },
 "nbformat": 4,
 "nbformat_minor": 2,
 "cells": [
  {
   "cell_type": "code",
   "execution_count": 1,
   "metadata": {},
   "outputs": [],
   "source": [
    "import numpy as np\n",
    "import pandas as pd"
   ]
  },
  {
   "cell_type": "code",
   "execution_count": 3,
   "metadata": {},
   "outputs": [
    {
     "output_type": "execute_result",
     "data": {
      "text/plain": [
       "0    91\n",
       "1    57\n",
       "2    13\n",
       "3    64\n",
       "4    42\n",
       "dtype: int32"
      ]
     },
     "metadata": {},
     "execution_count": 3
    }
   ],
   "source": [
    "#1. 랜덤으로 5개의정수를 만들어 시리즈로 생성하기\n",
    "\n",
    "a= np.random.randint(100, size=5)\n",
    "s= pd.Series(a)\n",
    "s"
   ]
  },
  {
   "cell_type": "code",
   "execution_count": 4,
   "metadata": {},
   "outputs": [
    {
     "output_type": "execute_result",
     "data": {
      "text/plain": [
       "0    0.959068\n",
       "1    0.920434\n",
       "2    0.654960\n",
       "3    0.064218\n",
       "4    0.239422\n",
       "dtype: float64"
      ]
     },
     "metadata": {},
     "execution_count": 4
    }
   ],
   "source": [
    "#2. 랜덤으로 5개의 실수를 만들어 시리즈로 생성하기\n",
    "b = np.random.rand(5)\n",
    "z = pd.Series(b)\n",
    "z"
   ]
  },
  {
   "cell_type": "code",
   "execution_count": 5,
   "metadata": {},
   "outputs": [
    {
     "output_type": "execute_result",
     "data": {
      "text/plain": [
       "O형     28\n",
       "A형     34\n",
       "B형     27\n",
       "AB형    11\n",
       "dtype: int64"
      ]
     },
     "metadata": {},
     "execution_count": 5
    }
   ],
   "source": [
    "#3. 혈액형 통계 수치를 이용하여 인덱스를 가지는 시리즈 생성하기\n",
    "blood_pct = [28, 34, 27, 11]\n",
    "blood = ['O형', 'A형', 'B형', 'AB형']\n",
    "s_blood = pd.Series(blood_pct, index=blood)\n",
    "s_blood"
   ]
  },
  {
   "cell_type": "code",
   "execution_count": 6,
   "metadata": {},
   "outputs": [
    {
     "output_type": "execute_result",
     "data": {
      "text/plain": [
       "    0   1   2   3   4\n",
       "0   1   2   3   4   5\n",
       "1   6   7   8   9  10\n",
       "2  11  12  13  14  15\n",
       "3  16  17  18  19  20\n",
       "4  21  22  23  24  25"
      ],
      "text/html": "<div>\n<style scoped>\n    .dataframe tbody tr th:only-of-type {\n        vertical-align: middle;\n    }\n\n    .dataframe tbody tr th {\n        vertical-align: top;\n    }\n\n    .dataframe thead th {\n        text-align: right;\n    }\n</style>\n<table border=\"1\" class=\"dataframe\">\n  <thead>\n    <tr style=\"text-align: right;\">\n      <th></th>\n      <th>0</th>\n      <th>1</th>\n      <th>2</th>\n      <th>3</th>\n      <th>4</th>\n    </tr>\n  </thead>\n  <tbody>\n    <tr>\n      <th>0</th>\n      <td>1</td>\n      <td>2</td>\n      <td>3</td>\n      <td>4</td>\n      <td>5</td>\n    </tr>\n    <tr>\n      <th>1</th>\n      <td>6</td>\n      <td>7</td>\n      <td>8</td>\n      <td>9</td>\n      <td>10</td>\n    </tr>\n    <tr>\n      <th>2</th>\n      <td>11</td>\n      <td>12</td>\n      <td>13</td>\n      <td>14</td>\n      <td>15</td>\n    </tr>\n    <tr>\n      <th>3</th>\n      <td>16</td>\n      <td>17</td>\n      <td>18</td>\n      <td>19</td>\n      <td>20</td>\n    </tr>\n    <tr>\n      <th>4</th>\n      <td>21</td>\n      <td>22</td>\n      <td>23</td>\n      <td>24</td>\n      <td>25</td>\n    </tr>\n  </tbody>\n</table>\n</div>"
     },
     "metadata": {},
     "execution_count": 6
    }
   ],
   "source": [
    "#4. 1 ~ 25숫자를 가지는 DataFrame만들기\n",
    "k = pd.DataFrame(np.arange(1,26).reshape(5, 5))\n",
    "k"
   ]
  },
  {
   "cell_type": "code",
   "execution_count": 7,
   "metadata": {},
   "outputs": [
    {
     "output_type": "execute_result",
     "data": {
      "text/plain": [
       "   나이  번호 이름   점수\n",
       "0  15   1  a  100\n",
       "1  16   2  b   90\n",
       "2  15   3  c   80\n",
       "3  14   4  d   70"
      ],
      "text/html": "<div>\n<style scoped>\n    .dataframe tbody tr th:only-of-type {\n        vertical-align: middle;\n    }\n\n    .dataframe tbody tr th {\n        vertical-align: top;\n    }\n\n    .dataframe thead th {\n        text-align: right;\n    }\n</style>\n<table border=\"1\" class=\"dataframe\">\n  <thead>\n    <tr style=\"text-align: right;\">\n      <th></th>\n      <th>나이</th>\n      <th>번호</th>\n      <th>이름</th>\n      <th>점수</th>\n    </tr>\n  </thead>\n  <tbody>\n    <tr>\n      <th>0</th>\n      <td>15</td>\n      <td>1</td>\n      <td>a</td>\n      <td>100</td>\n    </tr>\n    <tr>\n      <th>1</th>\n      <td>16</td>\n      <td>2</td>\n      <td>b</td>\n      <td>90</td>\n    </tr>\n    <tr>\n      <th>2</th>\n      <td>15</td>\n      <td>3</td>\n      <td>c</td>\n      <td>80</td>\n    </tr>\n    <tr>\n      <th>3</th>\n      <td>14</td>\n      <td>4</td>\n      <td>d</td>\n      <td>70</td>\n    </tr>\n  </tbody>\n</table>\n</div>"
     },
     "metadata": {},
     "execution_count": 7
    }
   ],
   "source": [
    "#5. DataFrame만들기\n",
    "data = (15, 1, 'a', 100), (16, 2, 'b', 90), (15, 3, 'c', 80), (14, 4, 'd', 70)\n",
    "column = ['나이', '번호', '이름', '점수']\n",
    "\n",
    "l = pd.DataFrame(data=data, columns=column)\n",
    "l"
   ]
  },
  {
   "cell_type": "code",
   "execution_count": 53,
   "metadata": {},
   "outputs": [
    {
     "output_type": "execute_result",
     "data": {
      "text/plain": [
       "array([3, 3, 3, 7, 7, 7, 4, 4, 4, 2, 2, 2, 1, 1, 1, 1, 1, 1, 2, 2, 2])"
      ]
     },
     "metadata": {},
     "execution_count": 53
    }
   ],
   "source": [
    "## http://blog.daum.net/revisioncrm/460\n",
    "\n",
    "cust = pd.DataFrame({'age' : np.arange(30,51), 'sales' : np.repeat([65,60,80],7)})\n",
    "freq = np.repeat([3,7,4,2,1,1,2],3)\n",
    "# sales는 각 고객별 총판매금액이며 freq는 구매횟수이다.\n",
    "freq"
   ]
  },
  {
   "cell_type": "code",
   "execution_count": 15,
   "metadata": {},
   "outputs": [
    {
     "output_type": "execute_result",
     "data": {
      "text/plain": [
       "21"
      ]
     },
     "metadata": {},
     "execution_count": 15
    }
   ],
   "source": [
    "# 문제1: 고객의 수를 계산하라\n",
    "len(cust)"
   ]
  },
  {
   "cell_type": "code",
   "execution_count": 39,
   "metadata": {},
   "outputs": [
    {
     "output_type": "execute_result",
     "data": {
      "text/plain": [
       "    age  sales\n",
       "20   50     80\n",
       "19   49     80\n",
       "18   48     80\n",
       "17   47     80\n",
       "16   46     80"
      ],
      "text/html": "<div>\n<style scoped>\n    .dataframe tbody tr th:only-of-type {\n        vertical-align: middle;\n    }\n\n    .dataframe tbody tr th {\n        vertical-align: top;\n    }\n\n    .dataframe thead th {\n        text-align: right;\n    }\n</style>\n<table border=\"1\" class=\"dataframe\">\n  <thead>\n    <tr style=\"text-align: right;\">\n      <th></th>\n      <th>age</th>\n      <th>sales</th>\n    </tr>\n  </thead>\n  <tbody>\n    <tr>\n      <th>20</th>\n      <td>50</td>\n      <td>80</td>\n    </tr>\n    <tr>\n      <th>19</th>\n      <td>49</td>\n      <td>80</td>\n    </tr>\n    <tr>\n      <th>18</th>\n      <td>48</td>\n      <td>80</td>\n    </tr>\n    <tr>\n      <th>17</th>\n      <td>47</td>\n      <td>80</td>\n    </tr>\n    <tr>\n      <th>16</th>\n      <td>46</td>\n      <td>80</td>\n    </tr>\n  </tbody>\n</table>\n</div>"
     },
     "metadata": {},
     "execution_count": 39
    }
   ],
   "source": [
    "# 고객의 나이를 큰값에서 작은 값의 순서로 정렬하라\n",
    "cust.sort_values('age', ascending=False).head()"
   ]
  },
  {
   "cell_type": "code",
   "execution_count": 33,
   "metadata": {},
   "outputs": [
    {
     "output_type": "execute_result",
     "data": {
      "text/plain": [
       "    age  sales\n",
       "19   49     80"
      ],
      "text/html": "<div>\n<style scoped>\n    .dataframe tbody tr th:only-of-type {\n        vertical-align: middle;\n    }\n\n    .dataframe tbody tr th {\n        vertical-align: top;\n    }\n\n    .dataframe thead th {\n        text-align: right;\n    }\n</style>\n<table border=\"1\" class=\"dataframe\">\n  <thead>\n    <tr style=\"text-align: right;\">\n      <th></th>\n      <th>age</th>\n      <th>sales</th>\n    </tr>\n  </thead>\n  <tbody>\n    <tr>\n      <th>19</th>\n      <td>49</td>\n      <td>80</td>\n    </tr>\n  </tbody>\n</table>\n</div>"
     },
     "metadata": {},
     "execution_count": 33
    }
   ],
   "source": [
    "# 고객의 나이 중 두번째로 큰 값은 얼마인가?\n",
    "df1=cust.sort_values('age', ascending=False)\n",
    "df1[1:2]"
   ]
  },
  {
   "cell_type": "code",
   "execution_count": 66,
   "metadata": {},
   "outputs": [
    {
     "output_type": "stream",
     "name": "stdout",
     "text": [
      "sales 평균값: 68.33333333333333\n표준편차: 8.70823365174209\n"
     ]
    },
    {
     "output_type": "execute_result",
     "data": {
      "text/plain": [
       "   age  sales  freq\n",
       "0   30     65     3\n",
       "1   31     65     3\n",
       "2   32     65     3"
      ],
      "text/html": "<div>\n<style scoped>\n    .dataframe tbody tr th:only-of-type {\n        vertical-align: middle;\n    }\n\n    .dataframe tbody tr th {\n        vertical-align: top;\n    }\n\n    .dataframe thead th {\n        text-align: right;\n    }\n</style>\n<table border=\"1\" class=\"dataframe\">\n  <thead>\n    <tr style=\"text-align: right;\">\n      <th></th>\n      <th>age</th>\n      <th>sales</th>\n      <th>freq</th>\n    </tr>\n  </thead>\n  <tbody>\n    <tr>\n      <th>0</th>\n      <td>30</td>\n      <td>65</td>\n      <td>3</td>\n    </tr>\n    <tr>\n      <th>1</th>\n      <td>31</td>\n      <td>65</td>\n      <td>3</td>\n    </tr>\n    <tr>\n      <th>2</th>\n      <td>32</td>\n      <td>65</td>\n      <td>3</td>\n    </tr>\n  </tbody>\n</table>\n</div>"
     },
     "metadata": {},
     "execution_count": 66
    }
   ],
   "source": [
    "## 문제4: sales의 평균값은 얼마인가?\n",
    "print('sales 평균값:',cust['sales'].mean())\n",
    "# cust.describe()\n",
    "\n",
    "## 문제5: 각 고객별로 sales와 전체고객의 sales 평균간의 차이는 얼마인가?\n",
    "print('표준편차:',cust['sales'].describe()['std'])\n",
    "\n",
    "## 문제6: cust dataframe에 freq를 걸럼으로 추가한 후 처음부터 3명의 고객을 출력하라.\n",
    "freq1=pd.DataFrame({'freq':freq})\n",
    "cust_df=pd.concat([cust,freq1] ,axis=1)\n",
    "cust_df[:3]"
   ]
  },
  {
   "cell_type": "code",
   "execution_count": 74,
   "metadata": {},
   "outputs": [
    {
     "output_type": "stream",
     "name": "stdout",
     "text": [
      "    age  sales  freq  avgsales\n19   49     80     2      40.0\n20   50     80     2      40.0\n"
     ]
    },
    {
     "output_type": "execute_result",
     "data": {
      "text/plain": [
       "    age  sales  freq  avgsales\n",
       "17   47     80     1      80.0\n",
       "16   46     80     1      80.0\n",
       "15   45     80     1      80.0"
      ],
      "text/html": "<div>\n<style scoped>\n    .dataframe tbody tr th:only-of-type {\n        vertical-align: middle;\n    }\n\n    .dataframe tbody tr th {\n        vertical-align: top;\n    }\n\n    .dataframe thead th {\n        text-align: right;\n    }\n</style>\n<table border=\"1\" class=\"dataframe\">\n  <thead>\n    <tr style=\"text-align: right;\">\n      <th></th>\n      <th>age</th>\n      <th>sales</th>\n      <th>freq</th>\n      <th>avgsales</th>\n    </tr>\n  </thead>\n  <tbody>\n    <tr>\n      <th>17</th>\n      <td>47</td>\n      <td>80</td>\n      <td>1</td>\n      <td>80.0</td>\n    </tr>\n    <tr>\n      <th>16</th>\n      <td>46</td>\n      <td>80</td>\n      <td>1</td>\n      <td>80.0</td>\n    </tr>\n    <tr>\n      <th>15</th>\n      <td>45</td>\n      <td>80</td>\n      <td>1</td>\n      <td>80.0</td>\n    </tr>\n  </tbody>\n</table>\n</div>"
     },
     "metadata": {},
     "execution_count": 74
    }
   ],
   "source": [
    "## 문제7: 고객별 구매1건당 평균 sales 금액을 구하여 avgsales 라는 이름의 컬럼으로 cust dataframe에 추가한 후 마지막 두 명의  고객을 출력하라.\n",
    "cust_df['avgsales']=cust_df['sales']/cust_df['freq']\n",
    "print(cust_df.tail(2))\n",
    "\n",
    "## 문제8: cust dataframe을 avgsales 순서로 정렬하고, avgsales가 가장 큰 세명의 고객을 출력하라.\n",
    "cust_df.sort_values('avgsales', ascending=False).head(3)"
   ]
  },
  {
   "cell_type": "code",
   "execution_count": null,
   "metadata": {},
   "outputs": [],
   "source": [
    "import matplotlib.pyplot as plt\n",
    "## 문제9: 고객의 freq와 sales간의 분포를 scatter plot으로 작성하라.\n",
    "\n",
    "\n",
    "\n",
    "## 문제10 : freq와 평균sales간의 관계를 scatterplot을 이용하여 시각화하고 점들간의 분포를 보여주는 폴리노미얼 추세선을 추가하라. 동일 좌표에 복수의 점이 존재할 수 있으므로 jitter 함수를 이용하여 복수의 점이 존재하는지를 scatterplot에 반영하라. 결과는 다음의 챠트와 같은 모습이 되어야 한다\n",
    "\n",
    "## 문제11: 문제 10의 결과에서 40대인 고객들만 red color로 점을 표시하라\n",
    "\n",
    "\n",
    "\n",
    "## 문제12: 고객리스트에 동일하게 36세이며 두 번에 걸쳐 총 55를 구매한 고객을 세 명 추가한 후 문제 11과 같은 형식의 scatter plot을 작성하라"
   ]
  }
 ]
}