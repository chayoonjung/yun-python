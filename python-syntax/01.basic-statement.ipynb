{
 "cells": [
  {
   "cell_type": "code",
   "execution_count": 1,
   "metadata": {},
   "outputs": [
    {
     "name": "stdout",
     "output_type": "stream",
     "text": [
      "hello\n",
      "Hello\n"
     ]
    }
   ],
   "source": [
    "print('hello')\n",
    "print(\"Hello\")\n",
    "# print(hello) error : ?"
   ]
  },
  {
   "cell_type": "code",
   "execution_count": 2,
   "metadata": {},
   "outputs": [
    {
     "name": "stdout",
     "output_type": "stream",
     "text": [
      "first line       second line       third line\n",
      "first line\n",
      "      second line\n",
      "      third line\n"
     ]
    }
   ],
   "source": [
    "print(\"first line \\\n",
    "      second line \\\n",
    "      third line\")\n",
    "print('''first line\n",
    "      second line\n",
    "      third line''')"
   ]
  },
  {
   "cell_type": "code",
   "execution_count": 3,
   "metadata": {},
   "outputs": [
    {
     "name": "stdout",
     "output_type": "stream",
     "text": [
      "print\n"
     ]
    }
   ],
   "source": [
    "#print(\"no print\")\n",
    "print(\"print\")"
   ]
  },
  {
   "cell_type": "code",
   "execution_count": 4,
   "metadata": {},
   "outputs": [
    {
     "name": "stdout",
     "output_type": "stream",
     "text": [
      "True\n"
     ]
    }
   ],
   "source": [
    "if True:\n",
    "    print('True')"
   ]
  },
  {
   "cell_type": "markdown",
   "metadata": {},
   "source": [
    "## 변수와 자료형\n",
    "### 변수와 자료형\n",
    "#### 변수와 자료형"
   ]
  },
  {
   "cell_type": "code",
   "execution_count": 5,
   "metadata": {},
   "outputs": [
    {
     "name": "stdout",
     "output_type": "stream",
     "text": [
      "John / 32 / johndoe@example.com / 010-8548-9652 / False / 183.65 / None\n"
     ]
    }
   ],
   "source": [
    "name = 'John'\n",
    "age = 32\n",
    "email = \"johndoe@example.com\"\n",
    "phone = \"010-8548-9652\"\n",
    "married = False # or True\n",
    "height = 183.65\n",
    "asset = None\n",
    "\n",
    "print(name, age, email, phone, married, height, asset, \n",
    "      sep=' / ')"
   ]
  },
  {
   "cell_type": "code",
   "execution_count": 6,
   "metadata": {},
   "outputs": [
    {
     "name": "stdout",
     "output_type": "stream",
     "text": [
      "10 20 30\n",
      "100 200 3000\n",
      "1000 2000 3000\n"
     ]
    }
   ],
   "source": [
    "a = 10\n",
    "b = 20\n",
    "c = 30\n",
    "print(a, b, c)\n",
    "a, b, c = 100, 200, 3000\n",
    "print(a, b, c)\n",
    "a, b, c = (1000, 2000, 3000)\n",
    "print(a, b, c)"
   ]
  },
  {
   "cell_type": "code",
   "execution_count": 7,
   "metadata": {},
   "outputs": [
    {
     "name": "stdout",
     "output_type": "stream",
     "text": [
      "100\n"
     ]
    }
   ],
   "source": [
    "a = 100\n",
    "print(a)\n",
    "del a\n",
    "# print(a)"
   ]
  },
  {
   "cell_type": "code",
   "execution_count": 8,
   "metadata": {},
   "outputs": [
    {
     "name": "stdout",
     "output_type": "stream",
     "text": [
      "3.3333333333333335\n",
      "1\n",
      "3\n",
      "1000\n"
     ]
    }
   ],
   "source": [
    "print(10 / 3) # 일반 나눗셈 \n",
    "print(10 % 3) # 나머지 연산\n",
    "print(10 // 3) # 몫 연산\n",
    "print(10 ** 3) #거듭 제곱 연산"
   ]
  },
  {
   "cell_type": "code",
   "execution_count": 9,
   "metadata": {},
   "outputs": [
    {
     "name": "stdout",
     "output_type": "stream",
     "text": [
      "1010\n",
      "20\n",
      "20\n",
      "33.33\n"
     ]
    }
   ],
   "source": [
    "print(\"10\" + \"10\")\n",
    "print(10 + 10)\n",
    "print(int(\"10\") + int(\"10\"))\n",
    "print(float(\"11.11\") + float(\"22.22\"))"
   ]
  },
  {
   "cell_type": "code",
   "execution_count": 10,
   "metadata": {},
   "outputs": [
    {
     "name": "stdout",
     "output_type": "stream",
     "text": [
      "this is pythonthis is python\n",
      "[1, 2, 3, 4, 5, 1, 2, 3, 4, 5]\n"
     ]
    }
   ],
   "source": [
    "print(\"this is python\" * 2)\n",
    "print([1, 2, 3, 4, 5] * 2)"
   ]
  },
  {
   "cell_type": "code",
   "execution_count": 11,
   "metadata": {},
   "outputs": [
    {
     "name": "stdout",
     "output_type": "stream",
     "text": [
      "Life is too short, You need Python\n",
      "Y\n",
      "You\n",
      "P\n",
      "You need \n",
      "Life is too short, You need Python\n",
      "Lf stosot o edPto\n"
     ]
    }
   ],
   "source": [
    "str_ = \"Life is too short, You need Python\" \n",
    "print(str_)\n",
    "print(str_[19])\n",
    "print(str_[19:22])\n",
    "print(str_[-6])\n",
    "print(str_[19:-6])\n",
    "print(str_[:])\n",
    "print(str_[::2])"
   ]
  },
  {
   "cell_type": "code",
   "execution_count": 12,
   "metadata": {},
   "outputs": [
    {
     "name": "stdout",
     "output_type": "stream",
     "text": [
      "[ Jane Doe ][ 29 ][ janedoe@example.com ]\n",
      "[ Jane Doe ][ 29 ][ janedoe@example.com ]\n",
      "[ Jane Doe ][ 29 ][ janedoe@example.com ]\n",
      "[ Jane Doe ][ 29 ][ janedoe@example.com ]\n",
      "[ 29 ][ Jane Doe ][ janedoe@example.com ]\n"
     ]
    }
   ],
   "source": [
    "name = 'Jane Doe'\n",
    "age = 29\n",
    "email = \"janedoe@example.com\"\n",
    "print('[', name, '][', age, '][', email, ']')\n",
    "print('[ %s ][ %d ][ %s ]'%(name, age, email))\n",
    "print('[ {0} ][ {1} ][ {2} ]'.format(name, age, email) )\n",
    "print('[ {2} ][ {0} ][ {1} ]'.format(age, email, name) )\n",
    "print('[ {0} ][ {1} ][ {2} ]'.format(age, name, email) )"
   ]
  },
  {
   "cell_type": "code",
   "execution_count": 13,
   "metadata": {},
   "outputs": [
    {
     "name": "stdout",
     "output_type": "stream",
     "text": [
      "Life is too short!!!\n",
      "\tYou need \"python\"\n",
      "Life is too 'short'!!!\n",
      "\tYou need \"python\"\n"
     ]
    }
   ],
   "source": [
    "multiline = \"Life is too short!!!\\n\\tYou need \\\"python\\\"\"\n",
    "print(multiline)\n",
    "multiline = \"Life is too \\'short\\'!!!\\n\\tYou need \\\"python\\\"\"\n",
    "print(multiline)"
   ]
  },
  {
   "cell_type": "code",
   "execution_count": 14,
   "metadata": {},
   "outputs": [
    {
     "name": "stdout",
     "output_type": "stream",
     "text": [
      "1,2,3,4,5\n",
      "1,2,3,4,5\n",
      "1,2,3,4,5\n"
     ]
    }
   ],
   "source": [
    "print(\",\".join(['1', '2', '3', '4', '5']))\n",
    "print(\",\".join('12345'))\n",
    "print(\",\".join([str(1), str(2), str(3), str(4), str(5)]))"
   ]
  },
  {
   "cell_type": "code",
   "execution_count": 15,
   "metadata": {},
   "outputs": [
    {
     "name": "stdout",
     "output_type": "stream",
     "text": [
      "['Life', 'is', 'too', 'short']\n",
      "Life:is:too:short\n",
      "Life:is:too:short\n"
     ]
    }
   ],
   "source": [
    "a = \"Life is too short\" \n",
    "b = a.split()\n",
    "print(b)\n",
    "c = \":\".join(b)\n",
    "print(c)\n",
    "print(a.replace(\" \", \":\"))"
   ]
  },
  {
   "cell_type": "code",
   "execution_count": null,
   "metadata": {},
   "outputs": [],
   "source": []
  }
 ],
 "metadata": {
  "kernelspec": {
   "display_name": "Python 3",
   "language": "python",
   "name": "python3"
  },
  "language_info": {
   "codemirror_mode": {
    "name": "ipython",
    "version": 3
   },
   "file_extension": ".py",
   "mimetype": "text/x-python",
   "name": "python",
   "nbconvert_exporter": "python",
   "pygments_lexer": "ipython3",
   "version": "3.6.10"
  }
 },
 "nbformat": 4,
 "nbformat_minor": 4
}
