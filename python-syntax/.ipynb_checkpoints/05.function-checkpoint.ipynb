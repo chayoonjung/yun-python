{
 "cells": [
  {
   "cell_type": "code",
   "execution_count": 7,
   "metadata": {},
   "outputs": [],
   "source": [
    "# 함수 정의( 만들기 )\n",
    "def show_greetings():\n",
    "    print('this is function')\n",
    "    print('Hello, there !!!!')\n",
    "    print(\"안녕하세요?\")"
   ]
  },
  {
   "cell_type": "code",
   "execution_count": 8,
   "metadata": {},
   "outputs": [
    {
     "name": "stdout",
     "output_type": "stream",
     "text": [
      "this is function\n",
      "Hello, there !!!!\n",
      "안녕하세요?\n"
     ]
    }
   ],
   "source": [
    "# 함수 호출 : 함수의 코드를 실행\n",
    "show_greetings()    "
   ]
  },
  {
   "cell_type": "code",
   "execution_count": 9,
   "metadata": {},
   "outputs": [
    {
     "name": "stdout",
     "output_type": "stream",
     "text": [
      "this is function\n",
      "Hello, there !!!!\n",
      "안녕하세요?\n"
     ]
    }
   ],
   "source": [
    "show_greetings()"
   ]
  },
  {
   "cell_type": "code",
   "execution_count": 13,
   "metadata": {},
   "outputs": [],
   "source": [
    "def f1():\n",
    "    data1 = 'data of f1' # 지역변수 :f1 함수 내부에서만 사용.\n",
    "    print('data1 in f1{0}'.format(data1))   # 함수는 지역이라는 계념을 갖는다. 함수는 자기 영역에 만든건 자기만 쓸수 있게 정의가 되어있다.=>지역변수 : 함수 안에서 만들어진 변수\n",
    "    print('f1 is called')"
   ]
  },
  {
   "cell_type": "code",
   "execution_count": 15,
   "metadata": {},
   "outputs": [
    {
     "name": "stdout",
     "output_type": "stream",
     "text": [
      "data1 in f1data of f1\n",
      "f1 is called\n",
      "test\n"
     ]
    }
   ],
   "source": [
    "data1 = 'test'  #def 안에 있는 data1이랑 data1은 다르다. 같았다면 내용이 변경이 되었어야 한다.\n",
    "f1()\n",
    "print(data1)"
   ]
  },
  {
   "cell_type": "code",
   "execution_count": 21,
   "metadata": {},
   "outputs": [
    {
     "name": "stdout",
     "output_type": "stream",
     "text": [
      "global data\n",
      "global data\n",
      "43 430\n"
     ]
    }
   ],
   "source": [
    "import random\n",
    "gn = 'global data'\n",
    "\n",
    "def caller():\n",
    "    print(gn)\n",
    "    n = random.randint(1, 45)         \n",
    "    callee(n, n* 10) # n을 호출한 곳으로 전달 \n",
    "\n",
    "def callee(pn, pn2):   # pn : 호출과 함께 전달된 데이터 받는 변수 (전달 인자 - 함수가 다른함수를 부를때 데이터를 주는.. , 전달인자 ,만 찍으면 2개도 가능~ )\n",
    "    print(gn)\n",
    "    #print(n) # 오류 : 다른 함수의 변수 사용x\n",
    "    print(pn, pn2)\n",
    "\n",
    "caller()"
   ]
  },
  {
   "cell_type": "code",
   "execution_count": 30,
   "metadata": {},
   "outputs": [
    {
     "name": "stdout",
     "output_type": "stream",
     "text": [
      "200\n"
     ]
    }
   ],
   "source": [
    "def my_sum(n1, n2):\n",
    "    result1 = n1 + n2\n",
    "    result2 = n1 * n2\n",
    "    return result2 # return : 함수를 호출한 곳으로 데이터를 전달. \n",
    "\n",
    "result2 = my_sum(10, 20)\n",
    "print(result2) "
   ]
  },
  {
   "cell_type": "code",
   "execution_count": 35,
   "metadata": {},
   "outputs": [
    {
     "name": "stdout",
     "output_type": "stream",
     "text": [
      "(30, -10, 200, 0.5)\n",
      "30 -10 200 0.5\n",
      "200\n"
     ]
    }
   ],
   "source": [
    "def my_describe(n1, n2):\n",
    "    result1 = n1 + n2\n",
    "    result2 = n1 - n2\n",
    "    result3 = n1 * n2\n",
    "    result4 = n1 / n2\n",
    "   # return [result1, result2, result3, result4]   # 모든 언어는 return은 하나만 하는게 원칙! 앞의 result를 여러개 쓰려면 이처럼 리스트,튜플 이렇게 쓰면 다 불러올 수 있다.\n",
    "   # return (result1, result2, result3, result4)\n",
    "    return result1, result2, result3, result4\n",
    "\n",
    "result2 = my_describe(10, 20)\n",
    "print(result2) \n",
    "\n",
    "#x, y, z = (1, 2, 3)\n",
    "a, b, c, d = my_describe(10, 20)\n",
    "print(a, b, c, d) \n",
    "\n",
    "_, _, r3, _ = my_describe(10, 20)\n",
    "print(r3)"
   ]
  },
  {
   "cell_type": "code",
   "execution_count": 39,
   "metadata": {},
   "outputs": [],
   "source": [
    "def show_info(name, email, age):\n",
    "    print(\"[Name: {0}][Email: {1}][Age: {2}]\".format(name, email, age))"
   ]
  },
  {
   "cell_type": "code",
   "execution_count": 43,
   "metadata": {},
   "outputs": [
    {
     "name": "stdout",
     "output_type": "stream",
     "text": [
      "[Name: John doe][Email: johndoe@example.com][Age: 30]\n",
      "[Name: John doe][Email: 30][Age: johndoe@example.com]\n",
      "[Name: John doe][Email: johndoe@example.com][Age: 30]\n",
      "[Name: John doe][Email: johndoe@example.com][Age: 30]\n"
     ]
    }
   ],
   "source": [
    "#순서 기반 전달인자\n",
    "show_info('John doe', 'johndoe@example.com',30)\n",
    "show_info('John doe', 30,'johndoe@example.com')\n",
    "\n",
    "#이름 인자 전달인자\n",
    "show_info(name ='John doe',\n",
    "          age = 30, \n",
    "          email = 'johndoe@example.com')\n",
    "\n",
    "#순서, 이름 인자 전달인자\n",
    "show_info('John doe',\n",
    "          age = 30, \n",
    "          email = 'johndoe@example.com')"
   ]
  },
  {
   "cell_type": "code",
   "execution_count": 56,
   "metadata": {},
   "outputs": [],
   "source": [
    "#전달 인자의 기본값 지정 (호출할 때 전달하지 않으면 기본 값 사용) ** 기본값은 항상 뒤에서!\n",
    "def show_info2(name, age, email=\"없음\"):\n",
    "    print(\"[Name: {0}][Age: {1}][Email: {2}]\".format(name, age, email))"
   ]
  },
  {
   "cell_type": "code",
   "execution_count": 58,
   "metadata": {},
   "outputs": [
    {
     "name": "stdout",
     "output_type": "stream",
     "text": [
      "[Name: Jane Doe][Age: 27][Email: 없음]\n",
      "[Name: Jane Doe][Age: 27][Email: Janedoe@example.com]\n"
     ]
    }
   ],
   "source": [
    "show_info2(\"Jane Doe\", 27) #email 안적어도 기본값이 사용된다.\n",
    "show_info2(\"Jane Doe\", 27, 'Janedoe@example.com')"
   ]
  },
  {
   "cell_type": "code",
   "execution_count": null,
   "metadata": {},
   "outputs": [],
   "source": []
  },
  {
   "cell_type": "code",
   "execution_count": 75,
   "metadata": {},
   "outputs": [],
   "source": [
    "def my_sum2(*args):   #*n : 가변인자 (개수와 상관없이 받는다!) \n",
    "    print(args)\n",
    "    result = 0  #반복적으로 더해주는 코드 \n",
    "    for i in args:\n",
    "        result += i\n",
    "    return result"
   ]
  },
  {
   "cell_type": "code",
   "execution_count": 76,
   "metadata": {},
   "outputs": [
    {
     "name": "stdout",
     "output_type": "stream",
     "text": [
      "(1, 2)\n",
      "(1, 2, 3)\n",
      "(1, 2, 3, 4)\n",
      "3 6 10\n"
     ]
    }
   ],
   "source": [
    "r1 = my_sum2(1, 2)\n",
    "r2 = my_sum2(1, 2, 3)\n",
    "r3 = my_sum2(1, 2, 3, 4)\n",
    "\n",
    "print(r1, r2, r3)"
   ]
  },
  {
   "cell_type": "code",
   "execution_count": 80,
   "metadata": {},
   "outputs": [],
   "source": [
    "def show_info3(**kwargs):\n",
    "   # print(kwargs)\n",
    "    for k, v in kwargs.items():\n",
    "        print(\"[{0}:{1}]\".format(k, v), end = \"\")"
   ]
  },
  {
   "cell_type": "code",
   "execution_count": 81,
   "metadata": {},
   "outputs": [
    {
     "name": "stdout",
     "output_type": "stream",
     "text": [
      "[name:Jone Doe][email:jonedoe@example.com][age:30]"
     ]
    }
   ],
   "source": [
    "show_info3(name = 'Jone Doe', email = 'jonedoe@example.com', age = 30) #딕셔너리로 합체해서 받는 방식"
   ]
  },
  {
   "cell_type": "code",
   "execution_count": 82,
   "metadata": {},
   "outputs": [
    {
     "name": "stdout",
     "output_type": "stream",
     "text": [
      "Help on built-in function print in module builtins:\n",
      "\n",
      "print(...)\n",
      "    print(value, ..., sep=' ', end='\\n', file=sys.stdout, flush=False)\n",
      "    \n",
      "    Prints the values to a stream, or to sys.stdout by default.\n",
      "    Optional keyword arguments:\n",
      "    file:  a file-like object (stream); defaults to the current sys.stdout.\n",
      "    sep:   string inserted between values, default a space.\n",
      "    end:   string appended after the last value, default a newline.\n",
      "    flush: whether to forcibly flush the stream.\n",
      "\n"
     ]
    }
   ],
   "source": [
    "help(print)"
   ]
  },
  {
   "cell_type": "code",
   "execution_count": 1,
   "metadata": {},
   "outputs": [],
   "source": [
    "def my_sum3(n1, n2):\n",
    "    return n1 + n2\n",
    "\n",
    "def show_info4(name, email, age): #show_info4(name, email, age) 전달인자\n",
    "    print(\"[Name: {0}][Email: {1}][Age: {2}]\".format(name, email, age))"
   ]
  },
  {
   "cell_type": "code",
   "execution_count": 2,
   "metadata": {},
   "outputs": [
    {
     "name": "stdout",
     "output_type": "stream",
     "text": [
      "[Name: xxx][Email: xxx@example.com][Age: 20]\n"
     ]
    }
   ],
   "source": [
    "ns = [10, 20]\n",
    "result = my_sum3(*ns)  # *[1, 2, 3] -> 1, 2, 3 / 리스트가 해체된다.  @@ 전달인자->합체/ 호출인자 ->해체 ★★★★★\n",
    "\n",
    "info = {'name': \"xxx\", \n",
    "        'email': \"xxx@example.com\", \n",
    "        'age': 20}\n",
    "show_info4(**info)  # **을 넣으면 name 전달인자에 xxx를, email 전달인자에  xxx@example.com을, age 전달인자에 20을 "
   ]
  },
  {
   "cell_type": "code",
   "execution_count": null,
   "metadata": {},
   "outputs": [],
   "source": []
  },
  {
   "cell_type": "code",
   "execution_count": 6,
   "metadata": {},
   "outputs": [],
   "source": [
    "def fx(msg):\n",
    "    print(msg)\n",
    "def fx3(msg, f):\n",
    "    f(msg)"
   ]
  },
  {
   "cell_type": "code",
   "execution_count": 8,
   "metadata": {},
   "outputs": [
    {
     "name": "stdout",
     "output_type": "stream",
     "text": [
      "hello\n",
      "hello2\n",
      "hello3\n"
     ]
    }
   ],
   "source": [
    "fx('hello')\n",
    "fx2 = fx    #함수를 변수에 저장 (함수도 데이터)\n",
    "fx2('hello2')\n",
    "fx3('hello3', fx)   # 함수를 전달인자로 전달( 함수도 데이터 )"
   ]
  },
  {
   "cell_type": "code",
   "execution_count": 10,
   "metadata": {},
   "outputs": [
    {
     "name": "stdout",
     "output_type": "stream",
     "text": [
      "30\n"
     ]
    }
   ],
   "source": [
    "my_sum5 = lambda x, y: x + y    # lambda : 익명 함수 (교재 페이지: 140),       # my_sum5 : 전달 함수\n",
    "r = my_sum5(10, 20)\n",
    "print(r)"
   ]
  },
  {
   "cell_type": "code",
   "execution_count": 70,
   "metadata": {},
   "outputs": [
    {
     "name": "stdout",
     "output_type": "stream",
     "text": [
      "수치 연산 오류 발생:  division by zero\n",
      "항상 실행\n"
     ]
    }
   ],
   "source": [
    "# print(10/0)\n",
    "#open('not-exist.txt', 'r')\n",
    "\n",
    "import random\n",
    "\n",
    "try:    #오류 발생이 의심되는 코드 영역 (여기서 발생한 오류만 처리 가능)\n",
    "    rnd = random.randint(1,3)  # 1 or 2 or 3\n",
    "    if rnd == 1:\n",
    "        print(10/0)\n",
    "    elif rnd == 2:\n",
    "        open('not-exist.txt', 'r')\n",
    "    else:\n",
    "        print('test')\n",
    "    #print('test')\n",
    "except ZeroDivisionError as e1:  # 오류가 발생했을 때 실행되는 영역\n",
    "    print('수치 연산 오류 발생: ', e1)\n",
    "except FileNotFoundError as e2:    # 오류가 발생하지 않았을때 (정상처리 되었을때 (선택적)\n",
    "    print('파일 찾기 오류 방생: ', e2)\n",
    "else:    # 오류가 발생하지 않았을때 (정상처리 되었을때 (선택적)\n",
    "    print('정상 실행')\n",
    "finally: #오류 여부와 상관없이 실행되는 영역 (선택적)\n",
    "    print('항상 실행')"
   ]
  },
  {
   "cell_type": "code",
   "execution_count": 4,
   "metadata": {},
   "outputs": [],
   "source": [
    "#중복되지 않는 1~45 사이의 6개의 난수를 뽑는 함수 만들기\n",
    "#함수 이름 :select_basic_numbers\n",
    "#전달인자 x\n",
    "#반환값 :뽑힌 6개의 숫자\n",
    "\n",
    "import random\n",
    "def select_basic_numbers():     #전달인자가 없으니 () 값만.\n",
    "    idx = 0\n",
    "    numbers = []\n",
    "    while idx < 6:\n",
    "        number = random.randint(1, 45) # 새로 뽑은 숫자\n",
    "        dup = False   #numbers에 넣을지 말지 수식 진행. \n",
    "        if len(numbers) > 0:\n",
    "            for n in numbers: # 이미 뽑힌 숫자를 순회\n",
    "                if n == number: #새로뽑은 숫자와 이미 뽑힌 숫자 비교 # 중복인 경우 \n",
    "                    dup = True #같은게 걸리면 비교하지 말라고 break 넣는다.\n",
    "                    idx = 0 \n",
    "                    numbers.clear() #처음부터 다시 뽑고 싶으면 idx=0 numbers.clear() 를 넣고 문제되는 부분만 교체하고 싶은경우 이부분 지우고 실행 \n",
    "                    break \n",
    "        if not dup:   # 반복되는게 없는 것만 추가 한다는 의미\n",
    "            numbers.append(number)\n",
    "            idx += 1 \n",
    "    return numbers"
   ]
  },
  {
   "cell_type": "code",
   "execution_count": 5,
   "metadata": {},
   "outputs": [
    {
     "data": {
      "text/plain": [
       "[7, 13, 2, 33, 29, 11]"
      ]
     },
     "execution_count": 5,
     "metadata": {},
     "output_type": "execute_result"
    }
   ],
   "source": [
    "select_basic_numbers()"
   ]
  },
  {
   "cell_type": "code",
   "execution_count": 6,
   "metadata": {},
   "outputs": [],
   "source": [
    "# 평균 계산 함수 만들기\n",
    "# 이름 : calc_mean\n",
    "# 전달인자 : 리스트( [] )\n",
    "# 반환값 : 실수 단일값 (평균값)\n",
    "\n",
    "def calc_mean(*numbers):     #낱개로 리스트를 받으려면 *numbers , 튜플로 받으려면 numbers\n",
    "    total = 0 \n",
    "    for n in numbers:\n",
    "        total += n\n",
    "    #mean = total / len(numbers)                # len : 개수\n",
    "    mean = sum(numbers) / len(numbers)\n",
    "    return mean\n",
    "\n",
    "def calc_mean2(numbers):\n",
    "    mean = sum(numbers) / len(numbers)\n",
    "    return mean"
   ]
  },
  {
   "cell_type": "code",
   "execution_count": 7,
   "metadata": {},
   "outputs": [
    {
     "data": {
      "text/plain": [
       "3.0"
      ]
     },
     "execution_count": 7,
     "metadata": {},
     "output_type": "execute_result"
    }
   ],
   "source": [
    "calc_mean(1, 2, 3, 4, 5)"
   ]
  },
  {
   "cell_type": "code",
   "execution_count": 12,
   "metadata": {},
   "outputs": [],
   "source": [
    "def calc_mean1(numbers):\n",
    "    mean = sum(numbers) / len(numbers)\n",
    "    return mean\n",
    "\n",
    "def calc_mean2(*numbers):\n",
    "    mean = sum(numbers) / len(numbers)\n",
    "    return mean"
   ]
  },
  {
   "cell_type": "code",
   "execution_count": null,
   "metadata": {},
   "outputs": [],
   "source": []
  },
  {
   "cell_type": "code",
   "execution_count": 13,
   "metadata": {},
   "outputs": [],
   "source": [
    "# 평균 범위 검사 함수 만들기\n",
    "# 이름 check_mean\n",
    "# 전달인자 : 숫자 3개(범위시작값, 범위끝값, 평균)\n",
    "# 반환값 : boolean 참/거짓\n",
    "\n",
    "def check_mean(f, t, v):\n",
    "#    if f <= v <= t\n",
    "#        return True\n",
    "#    else:\n",
    "#        return False\n",
    "    return f <= v <= t"
   ]
  },
  {
   "cell_type": "code",
   "execution_count": 14,
   "metadata": {},
   "outputs": [
    {
     "name": "stdout",
     "output_type": "stream",
     "text": [
      "True\n",
      "False\n"
     ]
    }
   ],
   "source": [
    "print(check_mean(20, 26, 23))\n",
    "print(check_mean(20, 26, 30))"
   ]
  },
  {
   "cell_type": "code",
   "execution_count": 28,
   "metadata": {},
   "outputs": [],
   "source": [
    "\n",
    "def show_numbers(numbers):\n",
    "    \"\"\"\n",
    "    #출력 함수 만들기 (각 숫자를 출력하는 함수)\n",
    "    #이름 : show_numbers\n",
    "    #전달인자 : 숫자 리스트\n",
    "    # 반환값 : 없음\n",
    "    \"\"\"\n",
    "    print(\"SELECTED NUMBERS : \", end=\"\")\n",
    "    for n in numbers:\n",
    "        print(\"[{0}]\".format(n), end=\"\")\n",
    "\n",
    "    print()"
   ]
  },
  {
   "cell_type": "code",
   "execution_count": 30,
   "metadata": {},
   "outputs": [
    {
     "name": "stdout",
     "output_type": "stream",
     "text": [
      "SELECTED NUMBERS : [6][38][24][44][33][2]\n"
     ]
    }
   ],
   "source": [
    "while True:\n",
    "    # 기본 숫자 뽑기\n",
    "    numbers = select_basic_numbers()\n",
    "    \n",
    "    # 평균 계산\n",
    "    mean = calc_mean(*numbers)\n",
    "   \n",
    "    #평균 검사\n",
    "    if check_mean(20, 26, mean):\n",
    "        break\n",
    "\n",
    "show_numbers(numbers)"
   ]
  },
  {
   "cell_type": "code",
   "execution_count": 31,
   "metadata": {},
   "outputs": [
    {
     "name": "stdout",
     "output_type": "stream",
     "text": [
      "Help on function show_numbers in module __main__:\n",
      "\n",
      "show_numbers(numbers)\n",
      "    #출력 함수 만들기 (각 숫자를 출력하는 함수)\n",
      "    #이름 : show_numbers\n",
      "    #전달인자 : 숫자 리스트\n",
      "    # 반환값 : 없음\n",
      "\n"
     ]
    }
   ],
   "source": [
    "help(show_numbers)"
   ]
  }
 ],
 "metadata": {
  "kernelspec": {
   "display_name": "Python 3",
   "language": "python",
   "name": "python3"
  },
  "language_info": {
   "codemirror_mode": {
    "name": "ipython",
    "version": 3
   },
   "file_extension": ".py",
   "mimetype": "text/x-python",
   "name": "python",
   "nbconvert_exporter": "python",
   "pygments_lexer": "ipython3",
   "version": "3.6.10"
  }
 },
 "nbformat": 4,
 "nbformat_minor": 4
}
