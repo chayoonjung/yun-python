{
 "cells": [
  {
   "cell_type": "code",
   "execution_count": 4,
   "metadata": {},
   "outputs": [],
   "source": [
    "f = open('test-on.txt', 'w') # 파일 열기( 만들기 )\n",
    "for idx in range(10):\n",
    "    # write : 쓰기\n",
    "    f.write('[{0}]번째 데이터입니다.\\n'.format(idx+1))\n",
    "f.close()"
   ]
  },
  {
   "cell_type": "code",
   "execution_count": 25,
   "metadata": {},
   "outputs": [],
   "source": [
    "f = open('test-two.txt', 'a', encoding=\"utf-8\") # 파일 열기( 만들기 )\n",
    "for idx in range(10):\n",
    "    # write : 쓰기\n",
    "    f.write('[{0}]번째 데이터입니다.\\n'.format(idx+1))\n",
    "f.close()         #close가 있어야 파일 삭제 가능."
   ]
  },
  {
   "cell_type": "code",
   "execution_count": 23,
   "metadata": {},
   "outputs": [],
   "source": []
  },
  {
   "cell_type": "code",
   "execution_count": 28,
   "metadata": {},
   "outputs": [],
   "source": [
    " # with구문에서 열린 파일은 with 블록이 끝날때 자동으로 close\n",
    "with open('test-three.txt', 'w', encoding=\"utf-8\") as f: # 파일 열기( 만들기 )\n",
    "    for idx in range(10):\n",
    "        # write : 쓰기\n",
    "        f.write('[{0}]번째 데이터입니다.\\n'.format(idx+1))"
   ]
  },
  {
   "cell_type": "code",
   "execution_count": 39,
   "metadata": {},
   "outputs": [
    {
     "name": "stdout",
     "output_type": "stream",
     "text": [
      "-- [1]번째 데이터입니다.\n",
      "\n",
      "-- [2]번째 데이터입니다.\n",
      "\n",
      "-- [3]번째 데이터입니다.\n",
      "\n",
      "-- [4]번째 데이터입니다.\n",
      "\n",
      "-- [5]번째 데이터입니다.\n",
      "\n",
      "-- [6]번째 데이터입니다.\n",
      "\n",
      "-- [7]번째 데이터입니다.\n",
      "\n",
      "-- [8]번째 데이터입니다.\n",
      "\n",
      "-- [9]번째 데이터입니다.\n",
      "\n",
      "-- [10]번째 데이터입니다.\n",
      "\n"
     ]
    }
   ],
   "source": [
    "with open('test-three.txt','r', encoding='utf-8') as f:\n",
    "    while True: \n",
    "        line = f.readline()  # 더 이상 읽을 내용이 없으면 \"\" 반환\n",
    "        if not line: # EOF (End of Fole)\n",
    "            break\n",
    "        print('--', line)"
   ]
  },
  {
   "cell_type": "code",
   "execution_count": 41,
   "metadata": {},
   "outputs": [
    {
     "name": "stdout",
     "output_type": "stream",
     "text": [
      "-- [1]번째 데이터입니다.\n",
      "\n",
      "-- [2]번째 데이터입니다.\n",
      "\n",
      "-- [3]번째 데이터입니다.\n",
      "\n",
      "-- [4]번째 데이터입니다.\n",
      "\n",
      "-- [5]번째 데이터입니다.\n",
      "\n",
      "-- [6]번째 데이터입니다.\n",
      "\n",
      "-- [7]번째 데이터입니다.\n",
      "\n",
      "-- [8]번째 데이터입니다.\n",
      "\n",
      "-- [9]번째 데이터입니다.\n",
      "\n",
      "-- [10]번째 데이터입니다.\n",
      "\n"
     ]
    }
   ],
   "source": [
    "with open('test-three.txt','r', encoding='utf-8') as f:\n",
    "    while True: \n",
    "        line = f.readline()  # 더 이상 읽을 내용이 없으면 \"\" 반환\n",
    "        if line == \"\": # EOF (End of Fole)\n",
    "            break\n",
    "        print('--', line)"
   ]
  },
  {
   "cell_type": "code",
   "execution_count": 42,
   "metadata": {},
   "outputs": [
    {
     "name": "stdout",
     "output_type": "stream",
     "text": [
      "[1]번째 데이터입니다.\n",
      "\n",
      "[2]번째 데이터입니다.\n",
      "\n",
      "[3]번째 데이터입니다.\n",
      "\n",
      "[4]번째 데이터입니다.\n",
      "\n",
      "[5]번째 데이터입니다.\n",
      "\n",
      "[6]번째 데이터입니다.\n",
      "\n",
      "[7]번째 데이터입니다.\n",
      "\n",
      "[8]번째 데이터입니다.\n",
      "\n",
      "[9]번째 데이터입니다.\n",
      "\n",
      "[10]번째 데이터입니다.\n",
      "\n"
     ]
    }
   ],
   "source": [
    "with open('test-three.txt','r', encoding='utf-8') as f:\n",
    "    lines = f.readlines()  # 전체 파일 내용을 한번에 읽기\n",
    "    for line in lines:\n",
    "        print(line)"
   ]
  }
 ],
 "metadata": {
  "kernelspec": {
   "display_name": "Python 3",
   "language": "python",
   "name": "python3"
  },
  "language_info": {
   "codemirror_mode": {
    "name": "ipython",
    "version": 3
   },
   "file_extension": ".py",
   "mimetype": "text/x-python",
   "name": "python",
   "nbconvert_exporter": "python",
   "pygments_lexer": "ipython3",
   "version": "3.6.10"
  }
 },
 "nbformat": 4,
 "nbformat_minor": 4
}
