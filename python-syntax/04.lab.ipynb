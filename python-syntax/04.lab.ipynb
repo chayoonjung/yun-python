{
 "cells": [
  {
   "cell_type": "code",
   "execution_count": 1,
   "metadata": {},
   "outputs": [],
   "source": [
    "# random 정수 (1, 2, 3)를 뽑아서 변수에 저장\n",
    "# 사용자 숫자 입력 (1, 2, 3) 받아서 변수에 저장(input 이용)\n",
    "#사용자 입력은 문자열이므로 숫자로 변환\n",
    "# 사용자 입력을 가위, 바위, 보로 출력\n",
    "# rnadom 정수도 가위, 바위, 보로 출력\n",
    "# 기준-> 1:가위, 2:바위, 3:보\n",
    "\n"
   ]
  },
  {
   "cell_type": "code",
   "execution_count": 3,
   "metadata": {},
   "outputs": [],
   "source": [
    "import random"
   ]
  },
  {
   "cell_type": "code",
   "execution_count": 14,
   "metadata": {},
   "outputs": [
    {
     "name": "stdin",
     "output_type": "stream",
     "text": [
      "사용자 1~3중 숫자 입력:  2\n"
     ]
    },
    {
     "name": "stdout",
     "output_type": "stream",
     "text": [
      "컴퓨터: 가위\n",
      "사용자: 바위\n",
      "컴퓨터가 졌습니다.\n"
     ]
    }
   ],
   "source": [
    "a = random.randint(1, 3)\n",
    "n = input('사용자 1~3중 숫자 입력: ')\n",
    "n = int(n)\n",
    "\n",
    "if a == 1:\n",
    "    print(\"컴퓨터: 가위\")\n",
    "elif a == 2:\n",
    "    print(\"컴퓨터: 바위\")\n",
    "else: \n",
    "    print(\"컴퓨터: 보\")\n",
    "\n",
    "if n == 1:\n",
    "    print(\"사용자: 가위\")\n",
    "elif n == 2:\n",
    "    print(\"사용자: 바위\")\n",
    "else: \n",
    "    print(\"사용자: 보\")\n",
    "\n",
    "if (a==1 and n==3) or\\\n",
    "   (a==2 and n==1) or\\\n",
    "   (a==3 and n==2):\n",
    "    print(\"컴퓨터가 이겼습니다.\")\n",
    "    \n",
    "elif a==n:\n",
    "    print(\"무승부 입니다.\")\n",
    "else:\n",
    "    print(\"컴퓨터가 졌습니다.\")"
   ]
  },
  {
   "cell_type": "code",
   "execution_count": 7,
   "metadata": {},
   "outputs": [
    {
     "name": "stdin",
     "output_type": "stream",
     "text": [
      "1.가위, 2.바위, 3.보 :  1\n"
     ]
    },
    {
     "name": "stdout",
     "output_type": "stream",
     "text": [
      "2 1\n",
      "[com : 2],[you : 1]\n",
      "you : 가위\n",
      "com : 바위\n",
      "you가 졌습니다.\n"
     ]
    }
   ],
   "source": [
    "import random\n",
    "\n",
    "com = random.randint(1, 3)\n",
    "you = input('1.가위, 2.바위, 3.보 : ')\n",
    "you = int(you)\n",
    "print(com, you)\n",
    "print(\"[com : {0}],[you : {1}]\".format(com, you))\n",
    "\n",
    "if you == 1:\n",
    "    print(\"you : 가위\")\n",
    "elif you == 2:\n",
    "    print('you : 바위')\n",
    "else:\n",
    "    print('you : 보')\n",
    "\n",
    "if com == 1:\n",
    "    print(\"com : 가위\")\n",
    "elif com == 2:\n",
    "    print('com : 바위')\n",
    "else:\n",
    "    print('com : 보')\n",
    "\n",
    "if you == com:\n",
    "    print(\"무승부 입니다.\")\n",
    "elif (you == 1 and com == 3) or\\\n",
    "     (you == 2 and com == 1) or\\\n",
    "     (you == 3 and com == 2):\n",
    "    print(\"you가 이겼습니다.\")\n",
    "else:\n",
    "    print(\"you가 졌습니다.\")"
   ]
  },
  {
   "cell_type": "code",
   "execution_count": 1,
   "metadata": {},
   "outputs": [
    {
     "name": "stdin",
     "output_type": "stream",
     "text": [
      "1.가위, 2.바위, 3.보 :  1\n"
     ]
    },
    {
     "name": "stdout",
     "output_type": "stream",
     "text": [
      "[com : 1],[you : 1]\n",
      "무승부 입니다.\n"
     ]
    },
    {
     "name": "stdin",
     "output_type": "stream",
     "text": [
      "1.가위, 2.바위, 3.보 :  1\n"
     ]
    },
    {
     "name": "stdout",
     "output_type": "stream",
     "text": [
      "[com : 1],[you : 1]\n",
      "무승부 입니다.\n"
     ]
    },
    {
     "name": "stdin",
     "output_type": "stream",
     "text": [
      "1.가위, 2.바위, 3.보 :  1\n"
     ]
    },
    {
     "name": "stdout",
     "output_type": "stream",
     "text": [
      "[com : 1],[you : 1]\n",
      "무승부 입니다.\n"
     ]
    },
    {
     "name": "stdin",
     "output_type": "stream",
     "text": [
      "1.가위, 2.바위, 3.보 :  1\n"
     ]
    },
    {
     "name": "stdout",
     "output_type": "stream",
     "text": [
      "[com : 1],[you : 1]\n",
      "무승부 입니다.\n"
     ]
    },
    {
     "name": "stdin",
     "output_type": "stream",
     "text": [
      "1.가위, 2.바위, 3.보 :  2\n"
     ]
    },
    {
     "name": "stdout",
     "output_type": "stream",
     "text": [
      "[com : 3],[you : 2]\n",
      "you가 졌습니다.\n"
     ]
    }
   ],
   "source": [
    "import random\n",
    "\n",
    "draw = True  # draw = True기준점. 밑에 while문에서 무승부가 Ture, 그 외는 Fales로 기준. Ture가 나올때까지 코딩된다.\n",
    "\n",
    "while draw:\n",
    "    com = random.randint(1, 3)\n",
    "    you = input('1.가위, 2.바위, 3.보 : ')\n",
    "    you = int(you)\n",
    "\n",
    "    print(\"[com : {0}],[you : {1}]\".format(com, you))\n",
    "\n",
    "    if you == com:\n",
    "        print(\"무승부 입니다.\")\n",
    "    elif (you == 1 and com == 3) or\\\n",
    "         (you == 2 and com == 1) or\\\n",
    "         (you == 3 and com == 2):\n",
    "        print(\"you가 이겼습니다.\")\n",
    "        draw = False\n",
    "    else:\n",
    "        print(\"you가 졌습니다.\")\n",
    "        draw = False"
   ]
  },
  {
   "cell_type": "code",
   "execution_count": 2,
   "metadata": {},
   "outputs": [],
   "source": [
    "# 1.  0 ~ 9 난수 3개 뽑기\n",
    "# 2. 중복 확인 -> 중복되면 1번부터 다시\n",
    "# 3. 뽑힌 숫자 출력"
   ]
  },
  {
   "cell_type": "code",
   "execution_count": 4,
   "metadata": {},
   "outputs": [],
   "source": [
    "import random\n",
    "\n",
    "a = random.randint(0, 9)"
   ]
  },
  {
   "cell_type": "code",
   "execution_count": 32,
   "metadata": {},
   "outputs": [
    {
     "name": "stdout",
     "output_type": "stream",
     "text": [
      "[6][2][5]\n"
     ]
    }
   ],
   "source": [
    "# 1.  0 ~ 9 난수 3개 뽑기\n",
    "# 2. 중복 확인 -> 중복되면 1번부터 다시\n",
    "# 3. 뽑힌 숫자 출력\n",
    "\n",
    "import random\n",
    "\n",
    "n1 = n2 = n3 = 90    # 파이썬은 혼자 변수를 선정해 줄수 없음. 변수를 만들려면 반드시 값을 넣어 줘야함.(임의의 수로 0 을 넣어 줌. 특별한 의미 없이 0 또는 -1를 잘 쓴다. 10, 100을 넣어도 상관 없다.)\n",
    "again = True\n",
    "\n",
    "while again:\n",
    "    n1 = random.randint(0, 9)\n",
    "    n2 = random.randint(0, 9)\n",
    "    n3 = random.randint(0, 9)\n",
    "\n",
    "    # if n1 != n2 and n1 != n3 and n2 != n3:\n",
    "    if not (n1 == n2 or n1 == n3 or n2 == n3):\n",
    "        again = False\n",
    "\n",
    "print(\"[{0}][{1}][{2}]\".format(n1, n2, n3))\n",
    "\n"
   ]
  },
  {
   "cell_type": "code",
   "execution_count": 59,
   "metadata": {},
   "outputs": [
    {
     "name": "stdout",
     "output_type": "stream",
     "text": [
      "[2][8][5][TOTAL: 15][MEAN: 5.0]\n"
     ]
    }
   ],
   "source": [
    "# 1.  0 ~ 9 난수 3개 뽑기\n",
    "# 2. 중복 확인 -> 중복되면 1번부터 다시\n",
    "# 3. 뽑힌 숫자 출력\n",
    "\n",
    "import random \n",
    "\n",
    "n = [0, 0, 0] #리스트 변수 3개 만든것과 같아진다.\n",
    "again = True  #중복 확인을 위한\n",
    "\n",
    "while again:\n",
    "    for idx in range(3):\n",
    "        n[idx] = random.randint(0, 9)\n",
    "    \n",
    "    if n[0] != n[1] and \\\n",
    "       n[0] != n[2] and \\\n",
    "       n[1] != n[2]:\n",
    "        again = False\n",
    "        \n",
    "for n2 in n:\n",
    "    print(\"[{0}]\".format(n2), end=\"\") # 기본적으로   print(\"[{0}]\".format(n2)) 까지만 입력하면 end=\"\\\"가 붙어 있다. end=\"\"를 넣어 줘야 줄바꿈이 안된다.\n",
    "    \n",
    "# 뽑힌 숫자의 합과 평균을 계산하고 출력\n",
    "\n",
    "# total = n[0]+n[1]+n[2]\n",
    "total = 0\n",
    "for n2 in n: #for n2 in n [1, 2, 3]\n",
    "    total += n2\n",
    "cnt = len(n) # Len(List) : List에 포함된 요소 갯수    \n",
    "print(\"[TOTAL: {0}][MEAN: {1}]\".format(total, total/cnt))"
   ]
  },
  {
   "cell_type": "code",
   "execution_count": 1,
   "metadata": {},
   "outputs": [
    {
     "name": "stdout",
     "output_type": "stream",
     "text": [
      "[6][7][4]"
     ]
    },
    {
     "name": "stdin",
     "output_type": "stream",
     "text": [
      "공격하세요(숫자 숫자 숫자) :  1\n"
     ]
    },
    {
     "name": "stdout",
     "output_type": "stream",
     "text": [
      "1\n",
      "입력 오류. 다시 공격하세요.\n"
     ]
    },
    {
     "name": "stdin",
     "output_type": "stream",
     "text": [
      "공격하세요(숫자 숫자 숫자) :  1 3 7\n"
     ]
    },
    {
     "name": "stdout",
     "output_type": "stream",
     "text": [
      "1 3 7\n",
      "[1, 3, 7]\n",
      "ROUND 1 = [S:0][B:1][O:2]\n"
     ]
    },
    {
     "name": "stdin",
     "output_type": "stream",
     "text": [
      "공격하세요(숫자 숫자 숫자) :  2 2\n"
     ]
    },
    {
     "name": "stdout",
     "output_type": "stream",
     "text": [
      "2 2\n",
      "입력 오류. 다시 공격하세요.\n"
     ]
    },
    {
     "name": "stdin",
     "output_type": "stream",
     "text": [
      "공격하세요(숫자 숫자 숫자) :  6 7 4\n"
     ]
    },
    {
     "name": "stdout",
     "output_type": "stream",
     "text": [
      "6 7 4\n",
      "[6, 7, 4]\n",
      "ROUND 2 = [S:3][B:0][O:0]\n",
      "You Win !!!\n"
     ]
    }
   ],
   "source": [
    "# 야구 게임\n",
    "# 1.  0 ~ 9 난수 3개 뽑기\n",
    "# 2. 중복 확인 -> 중복되면 1번부터 다시\n",
    "# 3. 뽑힌 숫자 출력\n",
    "\n",
    "import random \n",
    "\n",
    "n = [0, 0, 0] #리스트 변수 3개 만든것과 같아진다.\n",
    "again = True  #중복 확인을 위한\n",
    "\n",
    "while again:\n",
    "    for idx in range(len(n)):\n",
    "        n[idx] = random.randint(0, 9)\n",
    "\n",
    "    if n[0] != n[1] and \\\n",
    "       n[0] != n[2] and \\\n",
    "       n[1] != n[2]:\n",
    "        again = False\n",
    "\n",
    "for n2 in n:\n",
    "    print(\"[{0}]\".format(n2), end=\"\") \n",
    "\n",
    "############\n",
    "\n",
    "win = False # 승/패 결과를 저장하는 변수\n",
    "\n",
    "# 밑에 수식을 10번 반복 rnd = dound\n",
    "\n",
    "for rnd in range(10):\n",
    "\n",
    "    while True:\n",
    "        line = input('공격하세요(숫자 숫자 숫자) : ')\n",
    "        print(line)\n",
    "        numbers = line.split(' ')   # 문자열 '1, 2, 3' -> ['1', '2', '3'] 데이터 분열 시켜줌,\n",
    "        if len(numbers) == 3:\n",
    "            break\n",
    "        else:\n",
    "            print(\"입력 오류. 다시 공격하세요.\")\n",
    "            \n",
    "     #아래 반복문은 ['1', '2', '3'] -> [1, 2, 3]으로 변경 (쪼개서 들어온 데이터를 숫자로 변경해 줌)    \n",
    "    for idx in range( len(numbers) ):\n",
    "        numbers[idx] = int(numbers[idx])\n",
    "    print(numbers)\n",
    "\n",
    "    ###########\n",
    "    s = b = o = 0\n",
    "    for i in range( len(numbers) ): # 입력한 숫자 순회\n",
    "        for j in range(len(n)): # 뽑힌 숫자 순회\n",
    "            ## if (numbers[i] == n[j]) and (i == j): (i , j 위치가 같은지 다른지 임의표시로확인 \n",
    "            if numbers[i] == n[j] and i == j:\n",
    "                pass # strike\n",
    "                s += 1\n",
    "            elif numbers[i] == n[j]: # and i != j: <-해도되고 안해도 되고~\n",
    "                pass # ball\n",
    "                b += 1\n",
    "    o = 3 - (s + b)\n",
    "\n",
    "    print(\"ROUND {0} = [S:{1}][B:{2}][O:{3}]\".format(rnd+1, s, b, o)) #(strike, ball, out)  \n",
    "\n",
    "    if s == 3:\n",
    "        win = True\n",
    "        break # 반복문 종료\n",
    "\n",
    "if win:\n",
    "    print('You Win !!!')\n",
    "else:\n",
    "    print('You Failed !!!')"
   ]
  },
  {
   "cell_type": "code",
   "execution_count": null,
   "metadata": {},
   "outputs": [],
   "source": []
  },
  {
   "cell_type": "code",
   "execution_count": null,
   "metadata": {},
   "outputs": [],
   "source": [
    "# [계산기 만들기]\n",
    "# 숫자 입력 받기\n",
    "# 1부터 입력한 숫자까지의 합 계산\n",
    "# 출력\n",
    "\n",
    "numbers = True\n",
    "\n",
    "while True:\n",
    "    you = input('숫자를 입력하시오: ')\n",
    "    print(you)\n",
    "    \n",
    "for n2 in range(len(you)):"
   ]
  },
  {
   "cell_type": "code",
   "execution_count": null,
   "metadata": {},
   "outputs": [],
   "source": [
    "# [계산기 만들기]\n",
    "# 숫자 입력 받기\n",
    "# 1부터 입력한 숫자까지의 합 계산\n",
    "# (1 + 2 + 3 + ... + 10)\n",
    "# (((1 + 2) + 3) + 4) ...\n",
    "# 출력\n",
    "\n",
    "number = input(\"숫자를 입력하시오: \")\n",
    "number = int(number)\n",
    "sum = 0\n",
    "for idx in range(1, number + 1):\n",
    "    #print(idx)\n",
    "    sum += idx\n",
    "\n",
    "print(\"SUM OF {0} ~ {1} : {2}\". format(1, number, sum))"
   ]
  },
  {
   "cell_type": "code",
   "execution_count": 3,
   "metadata": {},
   "outputs": [
    {
     "name": "stdin",
     "output_type": "stream",
     "text": [
      "숫자를 입력하시오: 오\n"
     ]
    },
    {
     "name": "stdout",
     "output_type": "stream",
     "text": [
      "숫자 형식이 아닙니다.\n"
     ]
    },
    {
     "name": "stdin",
     "output_type": "stream",
     "text": [
      "숫자를 입력하시오: 9\n"
     ]
    },
    {
     "name": "stdout",
     "output_type": "stream",
     "text": [
      "SUM OF 1 ~ 9 : 45\n"
     ]
    }
   ],
   "source": [
    "# [계산기 만들기]\n",
    "# 숫자 입력 받기\n",
    "# 1부터 입력한 숫자까지의 합 계산\n",
    "# (1 + 2 + 3 + ... + 10)\n",
    "# (((1 + 2) + 3) + 4) ...\n",
    "# 출력\n",
    "\n",
    "while True:\n",
    "    number = input(\"숫자를 입력하시오:\")\n",
    "    if number.isdigit():\n",
    "        break\n",
    "    else:\n",
    "        print(\"숫자 형식이 아닙니다.\")\n",
    "\n",
    "number = int(number)\n",
    "\n",
    "sum = 0\n",
    "for idx in range(1, number+1):\n",
    "    sum += idx\n",
    "\n",
    "print(\"SUM OF {0} ~ {1} : {2}\". format(1, number, sum))"
   ]
  },
  {
   "cell_type": "code",
   "execution_count": 1,
   "metadata": {},
   "outputs": [
    {
     "name": "stdout",
     "output_type": "stream",
     "text": [
      "True\n",
      "False\n"
     ]
    }
   ],
   "source": [
    "print( \"10\".isdigit() )\n",
    "print( \"십\".isdigit() )"
   ]
  },
  {
   "cell_type": "code",
   "execution_count": 3,
   "metadata": {},
   "outputs": [
    {
     "name": "stdout",
     "output_type": "stream",
     "text": [
      "[35, 43, 21, 2, 17, 13]\n"
     ]
    }
   ],
   "source": [
    "# 1 ~45 중복되지 않는 6개 숫자 뽑기\n",
    "\n",
    "import random\n",
    "\n",
    "List = []\n",
    "num = random.randint(1, 46)\n",
    "\n",
    "# 1~46 중 난수 6개 추출\n",
    "for i in range(6):\n",
    "    while num in List:\n",
    "        num = random.randint(1, 46)\n",
    "    List.append(num)\n",
    "\n",
    "print(List)\n"
   ]
  },
  {
   "cell_type": "code",
   "execution_count": 2,
   "metadata": {},
   "outputs": [
    {
     "data": {
      "text/plain": [
       "[3, 19, 23, 25, 33, 38]"
      ]
     },
     "execution_count": 2,
     "metadata": {},
     "output_type": "execute_result"
    }
   ],
   "source": [
    "# 1 ~45 중복되지 않는 6개 숫자 뽑기\n",
    "\n",
    "import random\n",
    "\n",
    "rng = range(1, 46)\n",
    "lst = list(rng) \n",
    "numbers = random.sample(lst, 6) # 비복원 랜덤 샘플링\n",
    "numbers.sort()  #정렬하기\n",
    "numbers"
   ]
  },
  {
   "cell_type": "code",
   "execution_count": 7,
   "metadata": {},
   "outputs": [
    {
     "name": "stdout",
     "output_type": "stream",
     "text": [
      "SELECTED NUMBERS : [5][5][43][25][20][1]\n"
     ]
    }
   ],
   "source": [
    "import random\n",
    "\n",
    "numbers = []  #list 만들기\n",
    "\n",
    "idx = 0\n",
    "while idx < 6:\n",
    "    number = random.randint(1, 45)\n",
    "    numbers.append(number)\n",
    "    idx += 1\n",
    "\n",
    "    \n",
    "print(\"SELECTED NUMBERS : \", end=\"\")\n",
    "for n in numbers:\n",
    "    print(\"[{0}]\".format(n), end=\"\")\n",
    "\n",
    "print()\n",
    "# 중복이 되는건 막지 않아서 출력됨.. / number : 변수 / "
   ]
  },
  {
   "cell_type": "code",
   "execution_count": 27,
   "metadata": {},
   "outputs": [
    {
     "name": "stdout",
     "output_type": "stream",
     "text": [
      "[MEAN : 9.0]\n",
      "[MEAN : 12.0]\n",
      "[MEAN : 19.333333333333332]\n",
      "[MEAN : 25.0]\n",
      "SELECTED NUMBERS : [9][15][34][42]\n"
     ]
    }
   ],
   "source": [
    "import random\n",
    "\n",
    "numbers = []  #list 만들기\n",
    "\n",
    "idx = 0\n",
    "while idx < 6:\n",
    "    number = random.randint(1, 45) # 새로 뽑은 숫자\n",
    "    dup = False   #numbers에 넣을지 말지 수식 진행. \n",
    "    if len(numbers) > 0:\n",
    "        for n in numbers: # 이미 뽑힌 숫자를 순회\n",
    "            if n == number: #새로뽑은 숫자와 이미 뽑힌 숫자 비교 # 중복인 경우 \n",
    "                dup = True #같은게 걸리면 비교하지 말라고 break 넣는다.\n",
    "                idx = 0 \n",
    "                numbers.clear() #처음부터 다시 뽑고 싶으면 idx=0 numbers.clear() 를 넣고 문제되는 부분만 교체하고 싶은경우 이부분 지우고 실행 \n",
    "                break \n",
    "    if not dup:   # 반복되는게 없는 것만 추가 한다는 의미\n",
    "        numbers.append(number)\n",
    "        idx += 1 \n",
    "\n",
    "    # 평균 검사\n",
    "    total = 0 \n",
    "    for n in numbers:\n",
    "        total += n\n",
    "    mean = total / len(numbers)  #평균\n",
    "    print(\"[MEAN : {0}]\".format(mean))\n",
    "    # if mean >= 20 and mean <= 26:\n",
    "    if 20 <= mean <= 26:\n",
    "        break\n",
    "    \n",
    "print(\"SELECTED NUMBERS : \", end=\"\")\n",
    "for n in numbers:\n",
    "    print(\"[{0}]\".format(n), end=\"\")\n",
    "\n",
    "print()"
   ]
  },
  {
   "cell_type": "code",
   "execution_count": 1,
   "metadata": {},
   "outputs": [
    {
     "name": "stdout",
     "output_type": "stream",
     "text": [
      "[MEAN : 22.666666666666668]\n",
      "SELECTED NUMBERS : [25][44][21][26][8][12]\n"
     ]
    }
   ],
   "source": [
    "import random\n",
    "\n",
    "numbers = []  #list 만들기\n",
    "\n",
    "while True:\n",
    "    idx = 0\n",
    "    while idx < 6:\n",
    "        number = random.randint(1, 45) # 새로 뽑은 숫자\n",
    "        dup = False   #numbers에 넣을지 말지 수식 진행. \n",
    "        if len(numbers) > 0:\n",
    "            for n in numbers: # 이미 뽑힌 숫자를 순회\n",
    "                if n == number: #새로뽑은 숫자와 이미 뽑힌 숫자 비교 # 중복인 경우 \n",
    "                    dup = True #같은게 걸리면 비교하지 말라고 break 넣는다.\n",
    "                    idx = 0 \n",
    "                    numbers.clear() #처음부터 다시 뽑고 싶으면 idx=0 numbers.clear() 를 넣고 문제되는 부분만 교체하고 싶은경우 이부분 지우고 실행 \n",
    "                    break \n",
    "        if not dup:   # 반복되는게 없는 것만 추가 한다는 의미\n",
    "            numbers.append(number)\n",
    "            idx += 1 \n",
    "\n",
    "    # 평균 검사\n",
    "    total = 0 \n",
    "    for n in numbers:\n",
    "        total += n\n",
    "    mean = total / len(numbers)  #평균 //<-소수점 빼고 나오게 하고 싶을 경우 \n",
    "    print(\"[MEAN : {0}]\".format(mean))\n",
    "    # if mean >= 20 and mean <= 26:\n",
    "    if 20 <= mean <= 26:  # 범위 #이 수식은 파이썬에서만 사용 가능\n",
    "        break\n",
    "    \n",
    "print(\"SELECTED NUMBERS : \", end=\"\")\n",
    "for n in numbers:\n",
    "    print(\"[{0}]\".format(n), end=\"\")\n",
    "\n",
    "print()"
   ]
  }
 ],
 "metadata": {
  "kernelspec": {
   "display_name": "Python 3",
   "language": "python",
   "name": "python3"
  },
  "language_info": {
   "codemirror_mode": {
    "name": "ipython",
    "version": 3
   },
   "file_extension": ".py",
   "mimetype": "text/x-python",
   "name": "python",
   "nbconvert_exporter": "python",
   "pygments_lexer": "ipython3",
   "version": "3.6.10"
  }
 },
 "nbformat": 4,
 "nbformat_minor": 4
}
