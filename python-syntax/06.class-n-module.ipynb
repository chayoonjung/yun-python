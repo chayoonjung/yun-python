{
 "cells": [
  {
   "cell_type": "code",
   "execution_count": 2,
   "metadata": {},
   "outputs": [],
   "source": [
    "import my_util"
   ]
  },
  {
   "cell_type": "code",
   "execution_count": 3,
   "metadata": {},
   "outputs": [
    {
     "name": "stdout",
     "output_type": "stream",
     "text": [
      "Hello, John Doe\n"
     ]
    }
   ],
   "source": [
    "message = my_util.get_greetings(\"John Doe\")\n",
    "print(message)"
   ]
  },
  {
   "cell_type": "code",
   "execution_count": 4,
   "metadata": {},
   "outputs": [],
   "source": [
    "import my_util as mu   "
   ]
  },
  {
   "cell_type": "code",
   "execution_count": 5,
   "metadata": {},
   "outputs": [
    {
     "data": {
      "text/plain": [
       "'Hello, John Doe'"
      ]
     },
     "execution_count": 5,
     "metadata": {},
     "output_type": "execute_result"
    }
   ],
   "source": [
    "mu.get_greetings('John Doe')"
   ]
  },
  {
   "cell_type": "code",
   "execution_count": 6,
   "metadata": {},
   "outputs": [],
   "source": [
    "from my_util import get_greetings"
   ]
  },
  {
   "cell_type": "code",
   "execution_count": 7,
   "metadata": {},
   "outputs": [
    {
     "data": {
      "text/plain": [
       "'Hello, Smith Doe'"
      ]
     },
     "execution_count": 7,
     "metadata": {},
     "output_type": "execute_result"
    }
   ],
   "source": [
    "get_greetings(\"Smith Doe\")"
   ]
  },
  {
   "cell_type": "code",
   "execution_count": 8,
   "metadata": {},
   "outputs": [],
   "source": [
    "from my_util import get_greetings as gg"
   ]
  },
  {
   "cell_type": "code",
   "execution_count": 10,
   "metadata": {},
   "outputs": [
    {
     "data": {
      "text/plain": [
       "'Hello, 장동건'"
      ]
     },
     "execution_count": 10,
     "metadata": {},
     "output_type": "execute_result"
    }
   ],
   "source": [
    "gg('장동건')"
   ]
  },
  {
   "cell_type": "code",
   "execution_count": 11,
   "metadata": {},
   "outputs": [],
   "source": [
    "from my_util import *           # 이렇게 표시하면 그 파일에 있는 모든 데이터 가지고 오라는 표시임"
   ]
  },
  {
   "cell_type": "code",
   "execution_count": 2,
   "metadata": {},
   "outputs": [],
   "source": [
    "from my_util import *"
   ]
  },
  {
   "cell_type": "code",
   "execution_count": 1,
   "metadata": {},
   "outputs": [
    {
     "name": "stdout",
     "output_type": "stream",
     "text": [
      "Hello, 장동건\n"
     ]
    }
   ],
   "source": [
    "import my_util"
   ]
  },
  {
   "cell_type": "code",
   "execution_count": 4,
   "metadata": {},
   "outputs": [],
   "source": [
    "import game.graphic.screen"
   ]
  },
  {
   "cell_type": "code",
   "execution_count": 5,
   "metadata": {},
   "outputs": [
    {
     "name": "stdout",
     "output_type": "stream",
     "text": [
      "game.graphic.screen\n"
     ]
    }
   ],
   "source": [
    "game.graphic.screen.ms()"
   ]
  },
  {
   "cell_type": "code",
   "execution_count": 6,
   "metadata": {},
   "outputs": [],
   "source": [
    "from game.graphic import screen"
   ]
  },
  {
   "cell_type": "code",
   "execution_count": 8,
   "metadata": {},
   "outputs": [
    {
     "name": "stdout",
     "output_type": "stream",
     "text": [
      "game.graphic.screen\n"
     ]
    }
   ],
   "source": [
    "screen.ms()"
   ]
  },
  {
   "cell_type": "code",
   "execution_count": null,
   "metadata": {},
   "outputs": [],
   "source": []
  },
  {
   "cell_type": "code",
   "execution_count": 23,
   "metadata": {},
   "outputs": [
    {
     "name": "stdout",
     "output_type": "stream",
     "text": [
      "BizCard1의 인스턴스를 만들었습니다.\n"
     ]
    }
   ],
   "source": [
    "class BizCard1:\n",
    "    '연락처 정보를 저장하는 클래스'\n",
    "    def __init__(self):    # self -> BizCard1을 의미\n",
    "        print('BizCard1의 인스턴스를 만들었습니다.')\n",
    "\n",
    "bizcard1 = BizCard1()  #인스턴스 만들기 --> __init__ 호출"
   ]
  },
  {
   "cell_type": "code",
   "execution_count": 27,
   "metadata": {},
   "outputs": [
    {
     "name": "stdout",
     "output_type": "stream",
     "text": [
      "kys@example.com\n"
     ]
    }
   ],
   "source": [
    "class BizCard2:\n",
    "    '연락처 정보를 저장하는 클래스'\n",
    "    def __init__(self):\n",
    "        self.name = \"\"\n",
    "        self.email = \"\"\n",
    "        self.phone = \"\"\n",
    "\n",
    "bizcard2 = BizCard2()\n",
    "bizcard2.name = \"김윤석\"\n",
    "bizcard2.email = \"kys@example.com\"\n",
    "bizcard2.phone = '101-0000-0123'\n",
    "\n",
    "print( bizcard2.email)"
   ]
  },
  {
   "cell_type": "code",
   "execution_count": 30,
   "metadata": {},
   "outputs": [
    {
     "name": "stdout",
     "output_type": "stream",
     "text": [
      "sky@example.com\n"
     ]
    }
   ],
   "source": [
    "class BizCard3:\n",
    "    '연락처 정보를 저장하는 클래스'\n",
    "    def __init__(self, name=\"\", email=\"\", phone=\"\"):\n",
    "        self.name = name\n",
    "        self.email = email\n",
    "        self.phone = phone\n",
    "\n",
    "bizcard3 = BizCard3(\"송강호\", \"sky@example.com\", \"010-111-1234\")\n",
    "# bizcard3.email = 'modified'   추가하면 정보 변경 가능\n",
    "print( bizcard3.email)\n"
   ]
  },
  {
   "cell_type": "code",
   "execution_count": 32,
   "metadata": {},
   "outputs": [
    {
     "name": "stdout",
     "output_type": "stream",
     "text": [
      "[송강호][sky@example.com][010-111-1234]\n"
     ]
    }
   ],
   "source": [
    "class BizCard4:\n",
    "    '연락처 정보를 저장하는 클래스'\n",
    "    def __init__(self, name=\"\", email=\"\", phone=\"\"):\n",
    "        self.name = name\n",
    "        self.email = email\n",
    "        self.phone = phone\n",
    "        \n",
    "    def info(self):\n",
    "        return \"[{0}][{1}][{2}]\"\\\n",
    "                .format(self.name, self.email, self.phone)\n",
    "\n",
    "bizcard4 = BizCard4(\"송강호\", \"sky@example.com\", \"010-111-1234\")\n",
    "print( bizcard4.info())"
   ]
  },
  {
   "cell_type": "code",
   "execution_count": 19,
   "metadata": {},
   "outputs": [],
   "source": [
    "class Employee:\n",
    "    \n",
    "    # __init__ : 초기화 함수, 인스턴스 생성시에 자동 호출\n",
    "    def __init__(self, name=\"\", dept=\"\", email=\"\"):   #첫번째 전달인자로 self 넣어야 함. \n",
    "        self.name = name  # self.변수 : 변수 만들기\n",
    "        self.dept = dept\n",
    "        self.email = email\n",
    "\n",
    "    def info(self):\n",
    "        return \"[Name: {0}][Dept: {1}][Email: {2}]\".\\\n",
    "               format(self.name, self.dept, self.email)"
   ]
  },
  {
   "cell_type": "code",
   "execution_count": 20,
   "metadata": {},
   "outputs": [
    {
     "name": "stdout",
     "output_type": "stream",
     "text": [
      "[Name: 장동건][Dept: Salse][Email: jdk@example.com]\n"
     ]
    }
   ],
   "source": [
    "#employee(a, b, c) -> employee.__init__(self, a, b, c)\n",
    "emp2 =  Employee(\"장동건\", 'Salse', 'jdk@example.com')\n",
    "print( emp2.info())"
   ]
  },
  {
   "cell_type": "code",
   "execution_count": 21,
   "metadata": {},
   "outputs": [],
   "source": [
    "emp =  Employee()   # 클래스이름() = 인스턴스 만들기   여기서 ()가 init값 함수를 호출한다."
   ]
  },
  {
   "cell_type": "code",
   "execution_count": 22,
   "metadata": {},
   "outputs": [
    {
     "name": "stdout",
     "output_type": "stream",
     "text": [
      "[Name: John Doe][Dept: HR][Email: Johndoe@example.com]\n"
     ]
    }
   ],
   "source": [
    "emp.name = \"John Doe\"\n",
    "emp.dept = \"HR\"\n",
    "emp.email = \"Johndoe@example.com\"\n",
    "\n",
    "print( emp.info())"
   ]
  },
  {
   "cell_type": "code",
   "execution_count": null,
   "metadata": {},
   "outputs": [],
   "source": []
  }
 ],
 "metadata": {
  "kernelspec": {
   "display_name": "Python 3",
   "language": "python",
   "name": "python3"
  },
  "language_info": {
   "codemirror_mode": {
    "name": "ipython",
    "version": 3
   },
   "file_extension": ".py",
   "mimetype": "text/x-python",
   "name": "python",
   "nbconvert_exporter": "python",
   "pygments_lexer": "ipython3",
   "version": "3.6.10"
  }
 },
 "nbformat": 4,
 "nbformat_minor": 4
}
