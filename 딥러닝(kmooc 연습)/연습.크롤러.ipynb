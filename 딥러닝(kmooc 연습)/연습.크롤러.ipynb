{
 "metadata": {
  "language_info": {
   "codemirror_mode": {
    "name": "ipython",
    "version": 3
   },
   "file_extension": ".py",
   "mimetype": "text/x-python",
   "name": "python",
   "nbconvert_exporter": "python",
   "pygments_lexer": "ipython3",
   "version": "3.7.7-final"
  },
  "orig_nbformat": 2,
  "kernelspec": {
   "name": "Python 3.7.7 64-bit ('study': conda)",
   "display_name": "Python 3.7.7 64-bit ('study': conda)",
   "metadata": {
    "interpreter": {
     "hash": "1d0b3f487b6744c3a8787f46de5e61fa4b2e1161558f66cc46750c61e8676167"
    }
   }
  }
 },
 "nbformat": 4,
 "nbformat_minor": 2,
 "cells": [
  {
   "cell_type": "code",
   "execution_count": 13,
   "metadata": {},
   "outputs": [],
   "source": [
    "import numpy as np\n",
    "import pandas as pd\n",
    "\n",
    "from pprint import pprint\n",
    "import requests\n",
    "from bs4 import BeautifulSoup, NavigableString, Tag, Comment\n",
    "import time"
   ]
  },
  {
   "cell_type": "code",
   "execution_count": 42,
   "metadata": {},
   "outputs": [],
   "source": [
    "url=\"https://news.daum.net/breakingnews/society?page=3&regDate=20201001\"\n",
    "\n",
    "# https://entertain.naver.com/ranking#type=hit_total&date=2020-10-25\n",
    "# https://news.naver.com/main/main.nhn?mode=LSD&mid=shm&sid1=101#&date=%2000:00:00&page=1"
   ]
  },
  {
   "cell_type": "code",
   "execution_count": 43,
   "metadata": {},
   "outputs": [
    {
     "output_type": "execute_result",
     "data": {
      "text/plain": [
       "200"
      ]
     },
     "metadata": {},
     "execution_count": 43
    }
   ],
   "source": [
    "resp = requests.get(url)\n",
    "soup = BeautifulSoup(resp.text, 'html.parser')\n",
    "\n",
    "resp.status_code"
   ]
  },
  {
   "cell_type": "code",
   "execution_count": 52,
   "metadata": {
    "tags": []
   },
   "outputs": [
    {
     "output_type": "execute_result",
     "data": {
      "text/plain": [
       "[[\"진천 요양원 코호트 격리 해제..16명 모두 '음성'\", 'https://v.daum.net/v/20201001224638609'],\n",
       " [\"성묘도 나들이도 '예약제'..방역수칙 지킨 추석 풍경\", 'https://v.daum.net/v/20201001224635608'],\n",
       " ['보령 해상서 어선 침몰..인명피해 없어', 'https://v.daum.net/v/20201001224358576'],\n",
       " ['천안서 코로나19 확진자 1명 추가', 'https://v.daum.net/v/20201001224357575'],\n",
       " ['[포토뉴스] 안병용 의정부시장 부용시민정원 식재', 'https://v.daum.net/v/20201001224303565']]"
      ]
     },
     "metadata": {},
     "execution_count": 52
    }
   ],
   "source": [
    "div_list=soup.select(\"#mArticle > div.box_etc > ul > li >div\")\n",
    "\n",
    "news_list = []\n",
    "\n",
    "if len(div_list) == 0:\n",
    "    pass\n",
    "\n",
    "for idx, div in enumerate(div_list):\n",
    "    links = div.select('strong > a')\n",
    "    link = links[0] if len(links) == 1 else links[1]\n",
    "    news_list.append( [link.text.strip(), link['href']]) \n",
    "\n",
    "news_list[:5]"
   ]
  },
  {
   "cell_type": "code",
   "execution_count": null,
   "metadata": {},
   "outputs": [],
   "source": []
  }
 ]
}