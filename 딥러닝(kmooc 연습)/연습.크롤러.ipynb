{
 "metadata": {
  "language_info": {
   "codemirror_mode": {
    "name": "ipython",
    "version": 3
   },
   "file_extension": ".py",
   "mimetype": "text/x-python",
   "name": "python",
   "nbconvert_exporter": "python",
   "pygments_lexer": "ipython3",
   "version": "3.6.10-final"
  },
  "orig_nbformat": 2,
  "kernelspec": {
   "name": "Python 3.6.10 64-bit ('hoseo': conda)",
   "display_name": "Python 3.6.10 64-bit ('hoseo': conda)",
   "metadata": {
    "interpreter": {
     "hash": "28777402aca565a93449001515aa73f59f29f250b817babc6c87670d23b632d1"
    }
   }
  }
 },
 "nbformat": 4,
 "nbformat_minor": 2,
 "cells": [
  {
   "cell_type": "code",
   "execution_count": 4,
   "metadata": {},
   "outputs": [],
   "source": [
    "import numpy as np\n",
    "import pandas as pd\n",
    "\n",
    "from pprint import pprint\n",
    "# import requests\n",
    "import urllib.request\n",
    "from bs4 import BeautifulSoup, NavigableString, Tag, Comment\n",
    "import time"
   ]
  },
  {
   "cell_type": "code",
   "execution_count": 42,
   "metadata": {},
   "outputs": [],
   "source": [
    "url=\"https://news.daum.net/breakingnews/society?page=3&regDate=20201001\"\n",
    "\n",
    "# https://entertain.naver.com/ranking#type=hit_total&date=2020-10-25\n",
    "# https://news.naver.com/main/main.nhn?mode=LSD&mid=shm&sid1=101#&date=%2000:00:00&page=1"
   ]
  },
  {
   "cell_type": "code",
   "execution_count": 43,
   "metadata": {},
   "outputs": [
    {
     "output_type": "execute_result",
     "data": {
      "text/plain": [
       "200"
      ]
     },
     "metadata": {},
     "execution_count": 43
    }
   ],
   "source": [
    "resp = requests.get(url)\n",
    "soup = BeautifulSoup(resp.text, 'html.parser')\n",
    "\n",
    "resp.status_code"
   ]
  },
  {
   "cell_type": "code",
   "execution_count": 52,
   "metadata": {
    "tags": []
   },
   "outputs": [
    {
     "output_type": "execute_result",
     "data": {
      "text/plain": [
       "[[\"진천 요양원 코호트 격리 해제..16명 모두 '음성'\", 'https://v.daum.net/v/20201001224638609'],\n",
       " [\"성묘도 나들이도 '예약제'..방역수칙 지킨 추석 풍경\", 'https://v.daum.net/v/20201001224635608'],\n",
       " ['보령 해상서 어선 침몰..인명피해 없어', 'https://v.daum.net/v/20201001224358576'],\n",
       " ['천안서 코로나19 확진자 1명 추가', 'https://v.daum.net/v/20201001224357575'],\n",
       " ['[포토뉴스] 안병용 의정부시장 부용시민정원 식재', 'https://v.daum.net/v/20201001224303565']]"
      ]
     },
     "metadata": {},
     "execution_count": 52
    }
   ],
   "source": [
    "div_list=soup.select(\"#mArticle > div.box_etc > ul > li >div\")\n",
    "\n",
    "news_list = []\n",
    "\n",
    "if len(div_list) == 0:\n",
    "    pass\n",
    "\n",
    "for idx, div in enumerate(div_list):\n",
    "    links = div.select('strong > a')\n",
    "    link = links[0] if len(links) == 1 else links[1]\n",
    "    news_list.append( [link.text.strip(), link['href']]) \n",
    "\n",
    "news_list[:5]"
   ]
  },
  {
   "cell_type": "code",
   "execution_count": 2,
   "metadata": {},
   "outputs": [
    {
     "output_type": "execute_result",
     "data": {
      "text/plain": [
       "200"
      ]
     },
     "metadata": {},
     "execution_count": 2
    }
   ],
   "source": [
    "url=\"https://www.google.com/search?q=%ED%8C%8C%EC%9D%B4%EB%A6%AC&tbm=isch&ved=2ahUKEwjVjaeY3dTsAhUFfpQKHS2OBigQ2-cCegQIABAA&oq=%ED%8C%8C%EC%9D%B4%EB%A6%AC&gs_lcp=CgNpbWcQAzIFCAAQsQMyAggAMgIIADICCAAyAggAMgIIADICCAAyAggAMgIIADICCAA6BAgjECdQmau8AVjmtLwBYPLMvAFoAXAAeAKAAfIGiAHTEpIBDTAuMy4xLjAuMi4wLjGYAQCgAQGqAQtnd3Mtd2l6LWltZ8ABAQ&sclient=img&ei=YwyYX5XQIIX80QStnJrAAg&bih=937&biw=1903&hl=ko\"\n",
    "\n",
    "resp = requests.get(url)\n",
    "soup = BeautifulSoup(resp.text, 'html.parser')\n",
    "\n",
    "resp.status_code"
   ]
  },
  {
   "cell_type": "code",
   "execution_count": 3,
   "metadata": {},
   "outputs": [],
   "source": [
    "image = soup.findAll(\"img\",class_ = \"iwXeWr.islib.nfEiy.mM5pbd\")"
   ]
  },
  {
   "cell_type": "code",
   "execution_count": null,
   "metadata": {},
   "outputs": [],
   "source": [
    "def get(max_count):\n",
    "    url=\"https://www.google.com/search?q=%ED%8C%8C%EC%9D%B4%EB%A6%AC&tbm=isch&ved=2ahUKEwjVjaeY3dTsAhUFfpQKHS2OBigQ2-cCegQIABAA&oq=%ED%8C%8C%EC%9D%B4%EB%A6%AC&gs_lcp=CgNpbWcQAzIFCAAQsQMyAggAMgIIADICCAAyAggAMgIIADICCAAyAggAMgIIADICCAA6BAgjECdQmau8AVjmtLwBYPLMvAFoAXAAeAKAAfIGiAHTEpIBDTAuMy4xLjAuMi4wLjGYAQCgAQGqAQtnd3Mtd2l6LWltZ8ABAQ&sclient=img&ei=YwyYX5XQIIX80QStnJrAAg&bih=937&biw=1903&hl=ko\"\n",
    "\n",
    "    count = 1\n",
    "    while count <= max_count:\n",
    "        resp = urllib.requests.get(url)\n",
    "        soup = BeautifulSoup(resp.text, 'html.parser')\n"
   ]
  },
  {
   "cell_type": "code",
   "execution_count": null,
   "metadata": {},
   "outputs": [],
   "source": [
    "from bs4 import BeautifulSoup as bs\n",
    "from urllib.request import urlopen\n",
    "from urllib.parse import quote_plus\n",
    " \n",
    "baseUrl = 'https://search.naver.com/search.naver?where=image&sm=tab_jum&query='\n",
    "plusUrl = input('검색어 입력: ') \n",
    "crawl_num = int(input('크롤링할 갯수 입력(최대 50개): '))\n",
    " \n",
    "url = baseUrl + quote_plus(plusUrl) # 한글 검색 자동 변환\n",
    "html = urlopen(url)\n",
    "soup = bs(html, \"html.parser\")\n",
    "img = soup.find_all(class_='_img')\n",
    " \n",
    "n = 1\n",
    "for i in img:\n",
    "    print(n)\n",
    "    imgUrl = i['data-source']\n",
    "    with urlopen(imgUrl) as f:\n",
    "        with open('./images/img' + str(n)+'.jpg','wb') as h: # w - write b - binary\n",
    "            img = f.read()\n",
    "            h.write(img)\n",
    "    n += 1\n",
    "    if n > crawl_num:\n",
    "        break\n",
    "    \n",
    "    \n",
    "print('Image Crawling is done.')"
   ]
  },
  {
   "cell_type": "code",
   "execution_count": null,
   "metadata": {},
   "outputs": [],
   "source": []
  },
  {
   "cell_type": "code",
   "execution_count": 4,
   "metadata": {},
   "outputs": [
    {
     "output_type": "stream",
     "name": "stdout",
     "text": [
      "Searching...\n",
      "Downloading...\n",
      "FINISH\n"
     ]
    }
   ],
   "source": [
    "\n",
    "from urllib.request import urlretrieve\n",
    "from urllib.parse import quote_plus    # korean support\n",
    "from bs4 import BeautifulSoup as BS    # Essential module\n",
    "from selenium import webdriver         # Google crolling\n",
    "\n",
    "keyword = input(\"Input keyword: \")\n",
    "i_URL = f'https://www.google.com/search?q={quote_plus(keyword)}&sxsrf=ALeKk00OQamJ34t56QSInnMzwcC5gC344w:1594968011157&source=lnms&tbm=isch&sa=X&ved=2ahUKEwjXs-7t1tPqAhVF7GEKHfM4DqsQ_AUoAXoECBoQAw&biw=1536&bih=754'\n",
    "\n",
    "driver= webdriver.Chrome('D:\\yun\\dev-tools\\chromedriver.exe')\n",
    "options = webdriver.ChromeOptions()\n",
    "options.add_experimental_option('excludeSwitches', ['enable-logging'])\n",
    "driver.get(i_URL)\n",
    "\n",
    "html = driver.page_source\n",
    "soup = BS(html,features=\"html.parser\")\n",
    "\n",
    "img = soup.select('img')\n",
    "\n",
    "i_list = []\n",
    "count = 1\n",
    "\n",
    "print(\"Searching...\")\n",
    "for i in img:\n",
    "   try:\n",
    "      i_list.append(i.attrs[\"src\"])\n",
    "   except KeyError:\n",
    "      i_list.append(i.attrs[\"data-src\"])\n",
    "\n",
    "print(\"Downloading...\")\n",
    "for i in i_list:\n",
    "   urlretrieve(i,\"download/\"+keyword+str(count)+\".jpg\")\n",
    "   count+=1\n",
    "\n",
    "driver.close()\n",
    "print(\"FINISH\")"
   ]
  },
  {
   "cell_type": "code",
   "execution_count": null,
   "metadata": {},
   "outputs": [],
   "source": []
  }
 ]
}