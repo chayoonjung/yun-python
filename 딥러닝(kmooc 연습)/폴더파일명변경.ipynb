{
 "metadata": {
  "language_info": {
   "codemirror_mode": {
    "name": "ipython",
    "version": 3
   },
   "file_extension": ".py",
   "mimetype": "text/x-python",
   "name": "python",
   "nbconvert_exporter": "python",
   "pygments_lexer": "ipython3",
   "version": "3.6.10-final"
  },
  "orig_nbformat": 2,
  "kernelspec": {
   "name": "python3",
   "display_name": "Python 3"
  }
 },
 "nbformat": 4,
 "nbformat_minor": 2,
 "cells": [
  {
   "cell_type": "code",
   "execution_count": 28,
   "metadata": {},
   "outputs": [
    {
     "output_type": "stream",
     "name": "stdout",
     "text": [
      "['가디', '나인테일-불꽃', '리자드', '리자몽', '식스테일-불꽃', '윈디', '파이리']\n"
     ]
    }
   ],
   "source": [
    "import os\n",
    "folder_path = \"D:\\\\yun\\\\yun-python\\\\딥러닝(kmooc 연습)\\\\불꽃포켓몬\"\n",
    "# folder_path = \"D:\\\\yun\\\\yun-python\\\\딥러닝(kmooc 연습)\\\\얼음포켓몬\"\n",
    "# folder_path = \"D:\\\\yun\\\\yun-python\\\\딥러닝(kmooc 연습)\"\n",
    "# folder_path = \"D:\\\\yun\\\\yun-python\\\\딥러닝(kmooc 연습)\\\\불2\"\n",
    "folder_list = os.listdir(folder_path)\n",
    "print(folder_list)"
   ]
  },
  {
   "cell_type": "code",
   "execution_count": 29,
   "metadata": {},
   "outputs": [
    {
     "output_type": "stream",
     "name": "stdout",
     "text": [
      "-------------------------------------------------\n윈디 have 99 files.\nfile_path : D:\\yun\\yun-python\\딥러닝(kmooc 연습)\\불꽃포켓몬\\윈디\n"
     ]
    }
   ],
   "source": [
    "# folder_list = ['리자드', '리자몽', '파이리']\n",
    "# folder_list = ['리자드', '리자몽', '파이리']\n",
    "# folder_list = ['파이리', '파이리2']\n",
    "# folder_list = ['리자드', '리자몽', '파이리']\n",
    "folder_list = ['윈디']\n",
    "\n",
    "for folder_name in folder_list :                                                    # 각 폴더 이름(hood_T)의 파일이름 얻기\n",
    "    file_path = folder_path + \"\\\\\" + folder_name                                    # file_path : D:\\\\python_D\\\\fashion_data\\\\original\\\\hood_T\n",
    "    \n",
    "    file_list = os.listdir(file_path)                                               # file_list[0] : D:\\\\python_D\\\\fashion_data\\\\original\\\\hood_T\\\\hood_T_1.jpg\n",
    "    #file_list.sort()\n",
    "\n",
    "    print(\"-------------------------------------------------\")\n",
    "    print(folder_name + \" have \" + str(len(file_list)) + \" files.\")\n",
    "    print(\"file_path : \" + file_path)"
   ]
  },
  {
   "cell_type": "code",
   "execution_count": 30,
   "metadata": {
    "tags": []
   },
   "outputs": [
    {
     "output_type": "stream",
     "name": "stdout",
     "text": [
      "success : 1.jpg -> 1.jpg\nfail : 10.jpg -> 2.jpg\n=========files already renamed original(abcde.jpg) to number(1.jpg)===========\nfail : 11.jpg -> 3.jpg\n=========files already renamed original(abcde.jpg) to number(1.jpg)===========\nfail : 12.jpg -> 4.jpg\n=========files already renamed original(abcde.jpg) to number(1.jpg)===========\nfail : 13.jpg -> 5.jpg\n=========files already renamed original(abcde.jpg) to number(1.jpg)===========\nfail : 14.jpg -> 6.jpg\n=========files already renamed original(abcde.jpg) to number(1.jpg)===========\nfail : 15.jpg -> 7.jpg\n=========files already renamed original(abcde.jpg) to number(1.jpg)===========\nfail : 16.jpg -> 8.jpg\n=========files already renamed original(abcde.jpg) to number(1.jpg)===========\nfail : 17.jpg -> 9.jpg\n=========files already renamed original(abcde.jpg) to number(1.jpg)===========\nfail : 18.jpg -> 10.jpg\n=========files already renamed original(abcde.jpg) to number(1.jpg)===========\nfail : 19.jpg -> 11.jpg\n=========files already renamed original(abcde.jpg) to number(1.jpg)===========\nfail : 2.jpg -> 12.jpg\n=========files already renamed original(abcde.jpg) to number(1.jpg)===========\nfail : 20.jpg -> 13.jpg\n=========files already renamed original(abcde.jpg) to number(1.jpg)===========\nfail : 21.jpg -> 14.jpg\n=========files already renamed original(abcde.jpg) to number(1.jpg)===========\nfail : 22.jpg -> 15.jpg\n=========files already renamed original(abcde.jpg) to number(1.jpg)===========\nfail : 23.jpg -> 16.jpg\n=========files already renamed original(abcde.jpg) to number(1.jpg)===========\nfail : 24.jpg -> 17.jpg\n=========files already renamed original(abcde.jpg) to number(1.jpg)===========\nfail : 25.jpg -> 18.jpg\n=========files already renamed original(abcde.jpg) to number(1.jpg)===========\nfail : 26.jpg -> 19.jpg\n=========files already renamed original(abcde.jpg) to number(1.jpg)===========\nfail : 27.jpg -> 20.jpg\n=========files already renamed original(abcde.jpg) to number(1.jpg)===========\nfail : 28.jpg -> 21.jpg\n=========files already renamed original(abcde.jpg) to number(1.jpg)===========\nfail : 29.jpg -> 22.jpg\n=========files already renamed original(abcde.jpg) to number(1.jpg)===========\nfail : 3.jpg -> 23.jpg\n=========files already renamed original(abcde.jpg) to number(1.jpg)===========\nfail : 30.jpg -> 24.jpg\n=========files already renamed original(abcde.jpg) to number(1.jpg)===========\nfail : 31.jpg -> 25.jpg\n=========files already renamed original(abcde.jpg) to number(1.jpg)===========\nfail : 32.jpg -> 26.jpg\n=========files already renamed original(abcde.jpg) to number(1.jpg)===========\nfail : 33.jpg -> 27.jpg\n=========files already renamed original(abcde.jpg) to number(1.jpg)===========\nfail : 34.jpg -> 28.jpg\n=========files already renamed original(abcde.jpg) to number(1.jpg)===========\nfail : 35.jpg -> 29.jpg\n=========files already renamed original(abcde.jpg) to number(1.jpg)===========\nfail : 36.jpg -> 30.jpg\n=========files already renamed original(abcde.jpg) to number(1.jpg)===========\nfail : 37.jpg -> 31.jpg\n=========files already renamed original(abcde.jpg) to number(1.jpg)===========\nfail : 38.jpg -> 32.jpg\n=========files already renamed original(abcde.jpg) to number(1.jpg)===========\nfail : 39.jpg -> 33.jpg\n=========files already renamed original(abcde.jpg) to number(1.jpg)===========\nfail : 4.jpg -> 34.jpg\n=========files already renamed original(abcde.jpg) to number(1.jpg)===========\nfail : 40.jpg -> 35.jpg\n=========files already renamed original(abcde.jpg) to number(1.jpg)===========\nfail : 41.jpg -> 36.jpg\n=========files already renamed original(abcde.jpg) to number(1.jpg)===========\nfail : 42.jpg -> 37.jpg\n=========files already renamed original(abcde.jpg) to number(1.jpg)===========\nfail : 43.jpg -> 38.jpg\n=========files already renamed original(abcde.jpg) to number(1.jpg)===========\nfail : 44.jpg -> 39.jpg\n=========files already renamed original(abcde.jpg) to number(1.jpg)===========\nfail : 45.jpg -> 40.jpg\n=========files already renamed original(abcde.jpg) to number(1.jpg)===========\nfail : 46.jpg -> 41.jpg\n=========files already renamed original(abcde.jpg) to number(1.jpg)===========\nfail : 47.jpg -> 42.jpg\n=========files already renamed original(abcde.jpg) to number(1.jpg)===========\nfail : 48.jpg -> 43.jpg\n=========files already renamed original(abcde.jpg) to number(1.jpg)===========\nfail : 49.jpg -> 44.jpg\n=========files already renamed original(abcde.jpg) to number(1.jpg)===========\nfail : 5.jpg -> 45.jpg\n=========files already renamed original(abcde.jpg) to number(1.jpg)===========\nfail : 50.jpg -> 46.jpg\n=========files already renamed original(abcde.jpg) to number(1.jpg)===========\nfail : 51.jpg -> 47.jpg\n=========files already renamed original(abcde.jpg) to number(1.jpg)===========\nfail : 52.jpg -> 48.jpg\n=========files already renamed original(abcde.jpg) to number(1.jpg)===========\nfail : 53.jpg -> 49.jpg\n=========files already renamed original(abcde.jpg) to number(1.jpg)===========\nfail : 6.jpg -> 50.jpg\n=========files already renamed original(abcde.jpg) to number(1.jpg)===========\nfail : 7.jpg -> 51.jpg\n=========files already renamed original(abcde.jpg) to number(1.jpg)===========\nfail : 8.jpg -> 52.jpg\n=========files already renamed original(abcde.jpg) to number(1.jpg)===========\nfail : 9.jpg -> 53.jpg\n=========files already renamed original(abcde.jpg) to number(1.jpg)===========\nsuccess : 포켓몬 윈디1.jpg -> 54.jpg\nsuccess : 포켓몬 윈디10.jpg -> 55.jpg\nsuccess : 포켓몬 윈디100.jpg -> 56.jpg\nsuccess : 포켓몬 윈디101.jpg -> 57.jpg\nsuccess : 포켓몬 윈디103.jpg -> 58.jpg\nsuccess : 포켓몬 윈디11.jpg -> 59.jpg\nsuccess : 포켓몬 윈디110.jpg -> 60.jpg\nsuccess : 포켓몬 윈디114.jpg -> 61.jpg\nsuccess : 포켓몬 윈디120.jpg -> 62.jpg\nsuccess : 포켓몬 윈디15.jpg -> 63.jpg\nsuccess : 포켓몬 윈디152.jpg -> 64.jpg\nsuccess : 포켓몬 윈디154.jpg -> 65.jpg\nsuccess : 포켓몬 윈디158.jpg -> 66.jpg\nsuccess : 포켓몬 윈디16.jpg -> 67.jpg\nsuccess : 포켓몬 윈디164.jpg -> 68.jpg\nsuccess : 포켓몬 윈디2.jpg -> 69.jpg\nsuccess : 포켓몬 윈디20.jpg -> 70.jpg\nsuccess : 포켓몬 윈디21.jpg -> 71.jpg\nsuccess : 포켓몬 윈디22.jpg -> 72.jpg\nsuccess : 포켓몬 윈디225.jpg -> 73.jpg\nsuccess : 포켓몬 윈디24.jpg -> 74.jpg\nsuccess : 포켓몬 윈디266.jpg -> 75.jpg\nsuccess : 포켓몬 윈디297.jpg -> 76.jpg\nsuccess : 포켓몬 윈디3.jpg -> 77.jpg\nsuccess : 포켓몬 윈디303.jpg -> 78.jpg\nsuccess : 포켓몬 윈디31.jpg -> 79.jpg\nsuccess : 포켓몬 윈디33.jpg -> 80.jpg\nsuccess : 포켓몬 윈디339.jpg -> 81.jpg\nsuccess : 포켓몬 윈디343.jpg -> 82.jpg\nsuccess : 포켓몬 윈디354.jpg -> 83.jpg\nsuccess : 포켓몬 윈디359.jpg -> 84.jpg\nsuccess : 포켓몬 윈디380.jpg -> 85.jpg\nsuccess : 포켓몬 윈디396.jpg -> 86.jpg\nsuccess : 포켓몬 윈디4.jpg -> 87.jpg\nsuccess : 포켓몬 윈디403.jpg -> 88.jpg\nsuccess : 포켓몬 윈디404.jpg -> 89.jpg\nsuccess : 포켓몬 윈디41.jpg -> 90.jpg\nsuccess : 포켓몬 윈디420.jpg -> 91.jpg\nsuccess : 포켓몬 윈디43.jpg -> 92.jpg\nsuccess : 포켓몬 윈디61.jpg -> 93.jpg\nsuccess : 포켓몬 윈디7.jpg -> 94.jpg\nsuccess : 포켓몬 윈디79.jpg -> 95.jpg\nsuccess : 포켓몬 윈디83.jpg -> 96.jpg\nsuccess : 포켓몬 윈디9.jpg -> 97.jpg\nsuccess : 포켓몬 윈디94.jpg -> 98.jpg\nsuccess : 포켓몬 윈디95.jpg -> 99.jpg\n"
     ]
    }
   ],
   "source": [
    " # (hood_T_1(2).jpg -> 1.jpg) 이미 이름이 있는 파일이면 오류가 나기에 먼저 숫자로된 아무 이름으로 만들고, 다시 이름을 지정합니다.\n",
    "\n",
    "count = 1\n",
    "for file_name in file_list :\n",
    "    old_name = file_path + \"\\\\\" + file_name                                     \n",
    "    # old_name = D:\\\\python_D\\\\fashion_data\\\\original\\\\hood_T\\\\hood_T_1 (2).jpg\n",
    "    new_name = file_path + \"\\\\\" + str(count) + \".jpg\"                        \n",
    "    # new_name = D:\\\\python_D\\\\fashion_data\\\\original\\\\hood_T\\\\1.jpg\n",
    "\n",
    "    try:\n",
    "        os.rename(old_name, new_name)\n",
    "        print(\"success : \" + file_name + \" -> \" + str(count) + \".jpg\")\n",
    "    except:\n",
    "        print(\"fail : \" + file_name + \" -> \" + str(count) + \".jpg\")\n",
    "        print(\"=========files already renamed original(abcde.jpg) to number(1.jpg)===========\")\n",
    "        \n",
    "    count = count + 1"
   ]
  },
  {
   "cell_type": "code",
   "execution_count": 13,
   "metadata": {},
   "outputs": [
    {
     "output_type": "stream",
     "name": "stdout",
     "text": [
      "success : 1.jpg -> 식스테일-불꽃_1.jpg\nsuccess : 10.jpg -> 식스테일-불꽃_2.jpg\nsuccess : 100.jpg -> 식스테일-불꽃_3.jpg\nsuccess : 101.jpg -> 식스테일-불꽃_4.jpg\nsuccess : 102.jpg -> 식스테일-불꽃_5.jpg\nsuccess : 103.jpg -> 식스테일-불꽃_6.jpg\nsuccess : 104.jpg -> 식스테일-불꽃_7.jpg\nsuccess : 105.jpg -> 식스테일-불꽃_8.jpg\nsuccess : 106.jpg -> 식스테일-불꽃_9.jpg\nsuccess : 107.jpg -> 식스테일-불꽃_10.jpg\nsuccess : 108.jpg -> 식스테일-불꽃_11.jpg\nsuccess : 109.jpg -> 식스테일-불꽃_12.jpg\nsuccess : 11.jpg -> 식스테일-불꽃_13.jpg\nsuccess : 110.jpg -> 식스테일-불꽃_14.jpg\nsuccess : 111.jpg -> 식스테일-불꽃_15.jpg\nsuccess : 112.jpg -> 식스테일-불꽃_16.jpg\nsuccess : 113.jpg -> 식스테일-불꽃_17.jpg\nsuccess : 114.jpg -> 식스테일-불꽃_18.jpg\nsuccess : 115.jpg -> 식스테일-불꽃_19.jpg\nsuccess : 116.jpg -> 식스테일-불꽃_20.jpg\nsuccess : 117.jpg -> 식스테일-불꽃_21.jpg\nsuccess : 118.jpg -> 식스테일-불꽃_22.jpg\nsuccess : 119.jpg -> 식스테일-불꽃_23.jpg\nsuccess : 12.jpg -> 식스테일-불꽃_24.jpg\nsuccess : 120.jpg -> 식스테일-불꽃_25.jpg\nsuccess : 121.jpg -> 식스테일-불꽃_26.jpg\nsuccess : 122.jpg -> 식스테일-불꽃_27.jpg\nsuccess : 123.jpg -> 식스테일-불꽃_28.jpg\nsuccess : 124.jpg -> 식스테일-불꽃_29.jpg\nsuccess : 125.jpg -> 식스테일-불꽃_30.jpg\nsuccess : 126.jpg -> 식스테일-불꽃_31.jpg\nsuccess : 127.jpg -> 식스테일-불꽃_32.jpg\nsuccess : 128.jpg -> 식스테일-불꽃_33.jpg\nsuccess : 129.jpg -> 식스테일-불꽃_34.jpg\nsuccess : 13.jpg -> 식스테일-불꽃_35.jpg\nsuccess : 130.jpg -> 식스테일-불꽃_36.jpg\nsuccess : 131.jpg -> 식스테일-불꽃_37.jpg\nsuccess : 132.jpg -> 식스테일-불꽃_38.jpg\nsuccess : 133.jpg -> 식스테일-불꽃_39.jpg\nsuccess : 134.jpg -> 식스테일-불꽃_40.jpg\nsuccess : 135.jpg -> 식스테일-불꽃_41.jpg\nsuccess : 136.jpg -> 식스테일-불꽃_42.jpg\nsuccess : 137.jpg -> 식스테일-불꽃_43.jpg\nsuccess : 138.jpg -> 식스테일-불꽃_44.jpg\nsuccess : 139.jpg -> 식스테일-불꽃_45.jpg\nsuccess : 14.jpg -> 식스테일-불꽃_46.jpg\nsuccess : 140.jpg -> 식스테일-불꽃_47.jpg\nsuccess : 141.jpg -> 식스테일-불꽃_48.jpg\nsuccess : 142.jpg -> 식스테일-불꽃_49.jpg\nsuccess : 143.jpg -> 식스테일-불꽃_50.jpg\nsuccess : 144.jpg -> 식스테일-불꽃_51.jpg\nsuccess : 145.jpg -> 식스테일-불꽃_52.jpg\nsuccess : 146.jpg -> 식스테일-불꽃_53.jpg\nsuccess : 147.jpg -> 식스테일-불꽃_54.jpg\nsuccess : 148.jpg -> 식스테일-불꽃_55.jpg\nsuccess : 149.jpg -> 식스테일-불꽃_56.jpg\nsuccess : 15.jpg -> 식스테일-불꽃_57.jpg\nsuccess : 150.jpg -> 식스테일-불꽃_58.jpg\nsuccess : 151.jpg -> 식스테일-불꽃_59.jpg\nsuccess : 152.jpg -> 식스테일-불꽃_60.jpg\nsuccess : 153.jpg -> 식스테일-불꽃_61.jpg\nsuccess : 154.jpg -> 식스테일-불꽃_62.jpg\nsuccess : 155.jpg -> 식스테일-불꽃_63.jpg\nsuccess : 156.jpg -> 식스테일-불꽃_64.jpg\nsuccess : 157.jpg -> 식스테일-불꽃_65.jpg\nsuccess : 158.jpg -> 식스테일-불꽃_66.jpg\nsuccess : 159.jpg -> 식스테일-불꽃_67.jpg\nsuccess : 16.jpg -> 식스테일-불꽃_68.jpg\nsuccess : 160.jpg -> 식스테일-불꽃_69.jpg\nsuccess : 161.jpg -> 식스테일-불꽃_70.jpg\nsuccess : 162.jpg -> 식스테일-불꽃_71.jpg\nsuccess : 163.jpg -> 식스테일-불꽃_72.jpg\nsuccess : 164.jpg -> 식스테일-불꽃_73.jpg\nsuccess : 165.jpg -> 식스테일-불꽃_74.jpg\nsuccess : 166.jpg -> 식스테일-불꽃_75.jpg\nsuccess : 167.jpg -> 식스테일-불꽃_76.jpg\nsuccess : 168.jpg -> 식스테일-불꽃_77.jpg\nsuccess : 169.jpg -> 식스테일-불꽃_78.jpg\nsuccess : 17.jpg -> 식스테일-불꽃_79.jpg\nsuccess : 170.jpg -> 식스테일-불꽃_80.jpg\nsuccess : 18.jpg -> 식스테일-불꽃_81.jpg\nsuccess : 19.jpg -> 식스테일-불꽃_82.jpg\nsuccess : 2.jpg -> 식스테일-불꽃_83.jpg\nsuccess : 20.jpg -> 식스테일-불꽃_84.jpg\nsuccess : 21.jpg -> 식스테일-불꽃_85.jpg\nsuccess : 22.jpg -> 식스테일-불꽃_86.jpg\nsuccess : 23.jpg -> 식스테일-불꽃_87.jpg\nsuccess : 24.jpg -> 식스테일-불꽃_88.jpg\nsuccess : 25.jpg -> 식스테일-불꽃_89.jpg\nsuccess : 26.jpg -> 식스테일-불꽃_90.jpg\nsuccess : 27.jpg -> 식스테일-불꽃_91.jpg\nsuccess : 28.jpg -> 식스테일-불꽃_92.jpg\nsuccess : 29.jpg -> 식스테일-불꽃_93.jpg\nsuccess : 3.jpg -> 식스테일-불꽃_94.jpg\nsuccess : 30.jpg -> 식스테일-불꽃_95.jpg\nsuccess : 31.jpg -> 식스테일-불꽃_96.jpg\nsuccess : 32.jpg -> 식스테일-불꽃_97.jpg\nsuccess : 33.jpg -> 식스테일-불꽃_98.jpg\nsuccess : 34.jpg -> 식스테일-불꽃_99.jpg\nsuccess : 35.jpg -> 식스테일-불꽃_100.jpg\nsuccess : 36.jpg -> 식스테일-불꽃_101.jpg\nsuccess : 37.jpg -> 식스테일-불꽃_102.jpg\nsuccess : 38.jpg -> 식스테일-불꽃_103.jpg\nsuccess : 39.jpg -> 식스테일-불꽃_104.jpg\nsuccess : 4.jpg -> 식스테일-불꽃_105.jpg\nsuccess : 40.jpg -> 식스테일-불꽃_106.jpg\nsuccess : 41.jpg -> 식스테일-불꽃_107.jpg\nsuccess : 42.jpg -> 식스테일-불꽃_108.jpg\nsuccess : 43.jpg -> 식스테일-불꽃_109.jpg\nsuccess : 44.jpg -> 식스테일-불꽃_110.jpg\nsuccess : 45.jpg -> 식스테일-불꽃_111.jpg\nsuccess : 46.jpg -> 식스테일-불꽃_112.jpg\nsuccess : 47.jpg -> 식스테일-불꽃_113.jpg\nsuccess : 48.jpg -> 식스테일-불꽃_114.jpg\nsuccess : 49.jpg -> 식스테일-불꽃_115.jpg\nsuccess : 5.jpg -> 식스테일-불꽃_116.jpg\nsuccess : 50.jpg -> 식스테일-불꽃_117.jpg\nsuccess : 51.jpg -> 식스테일-불꽃_118.jpg\nsuccess : 52.jpg -> 식스테일-불꽃_119.jpg\nsuccess : 53.jpg -> 식스테일-불꽃_120.jpg\nsuccess : 54.jpg -> 식스테일-불꽃_121.jpg\nsuccess : 55.jpg -> 식스테일-불꽃_122.jpg\nsuccess : 56.jpg -> 식스테일-불꽃_123.jpg\nsuccess : 57.jpg -> 식스테일-불꽃_124.jpg\nsuccess : 58.jpg -> 식스테일-불꽃_125.jpg\nsuccess : 59.jpg -> 식스테일-불꽃_126.jpg\nsuccess : 6.jpg -> 식스테일-불꽃_127.jpg\nsuccess : 60.jpg -> 식스테일-불꽃_128.jpg\nsuccess : 61.jpg -> 식스테일-불꽃_129.jpg\nsuccess : 62.jpg -> 식스테일-불꽃_130.jpg\nsuccess : 63.jpg -> 식스테일-불꽃_131.jpg\nsuccess : 64.jpg -> 식스테일-불꽃_132.jpg\nsuccess : 65.jpg -> 식스테일-불꽃_133.jpg\nsuccess : 66.jpg -> 식스테일-불꽃_134.jpg\nsuccess : 67.jpg -> 식스테일-불꽃_135.jpg\nsuccess : 68.jpg -> 식스테일-불꽃_136.jpg\nsuccess : 69.jpg -> 식스테일-불꽃_137.jpg\nsuccess : 7.jpg -> 식스테일-불꽃_138.jpg\nsuccess : 70.jpg -> 식스테일-불꽃_139.jpg\nsuccess : 71.jpg -> 식스테일-불꽃_140.jpg\nsuccess : 72.jpg -> 식스테일-불꽃_141.jpg\nsuccess : 73.jpg -> 식스테일-불꽃_142.jpg\nsuccess : 74.jpg -> 식스테일-불꽃_143.jpg\nsuccess : 75.jpg -> 식스테일-불꽃_144.jpg\nsuccess : 76.jpg -> 식스테일-불꽃_145.jpg\nsuccess : 77.jpg -> 식스테일-불꽃_146.jpg\nsuccess : 78.jpg -> 식스테일-불꽃_147.jpg\nsuccess : 79.jpg -> 식스테일-불꽃_148.jpg\nsuccess : 8.jpg -> 식스테일-불꽃_149.jpg\nsuccess : 80.jpg -> 식스테일-불꽃_150.jpg\nsuccess : 81.jpg -> 식스테일-불꽃_151.jpg\nsuccess : 82.jpg -> 식스테일-불꽃_152.jpg\nsuccess : 83.jpg -> 식스테일-불꽃_153.jpg\nsuccess : 84.jpg -> 식스테일-불꽃_154.jpg\nsuccess : 85.jpg -> 식스테일-불꽃_155.jpg\nsuccess : 86.jpg -> 식스테일-불꽃_156.jpg\nsuccess : 87.jpg -> 식스테일-불꽃_157.jpg\nsuccess : 88.jpg -> 식스테일-불꽃_158.jpg\nsuccess : 89.jpg -> 식스테일-불꽃_159.jpg\nsuccess : 9.jpg -> 식스테일-불꽃_160.jpg\nsuccess : 90.jpg -> 식스테일-불꽃_161.jpg\nsuccess : 91.jpg -> 식스테일-불꽃_162.jpg\nsuccess : 92.jpg -> 식스테일-불꽃_163.jpg\nsuccess : 93.jpg -> 식스테일-불꽃_164.jpg\nsuccess : 94.jpg -> 식스테일-불꽃_165.jpg\nsuccess : 95.jpg -> 식스테일-불꽃_166.jpg\nsuccess : 96.jpg -> 식스테일-불꽃_167.jpg\nsuccess : 97.jpg -> 식스테일-불꽃_168.jpg\nsuccess : 98.jpg -> 식스테일-불꽃_169.jpg\nsuccess : 99.jpg -> 식스테일-불꽃_170.jpg\n"
     ]
    }
   ],
   "source": [
    "# (1.jpg -> hood_T_1.jpg) : count 값을 다시 지정해 이름을 지정함.\n",
    "file_list = os.listdir(file_path)                                               # 1.jpg 로 바뀐 이름을 가져와야 되기 때문에 다시 로드\n",
    "count = 1\n",
    "for file_name in file_list :\n",
    "    old_name = file_path + \"\\\\\" + file_name                                     # old_name = 1.jpg\n",
    "    new_name = file_path + \"\\\\\" + folder_name + \"_\" + str(count) + \".jpg\"       # new_name = hood_T_1.jpg\n",
    "\n",
    "    try:\n",
    "        os.rename(old_name, new_name)\n",
    "        print(\"success : \" + file_name + \" -> \" + folder_name + \"_\" + str(count) + \".jpg\")\n",
    "    except:\n",
    "        print(\"fail : \" + file_name + \" -> \" + folder_name + \"_\" + str(count) + \".jpg\")\n",
    "        print(\"=========files already renamed number(1.jpg) to new_name(hood_T_1.jpg)===========\")\n",
    "        break\n",
    "    count = count + 1"
   ]
  },
  {
   "cell_type": "code",
   "execution_count": null,
   "metadata": {},
   "outputs": [],
   "source": []
  }
 ]
}