{
 "metadata": {
  "language_info": {
   "codemirror_mode": {
    "name": "ipython",
    "version": 3
   },
   "file_extension": ".py",
   "mimetype": "text/x-python",
   "name": "python",
   "nbconvert_exporter": "python",
   "pygments_lexer": "ipython3",
   "version": "3.6.10-final"
  },
  "orig_nbformat": 2,
  "kernelspec": {
   "name": "Python 3.6.10 64-bit ('hoseo': conda)",
   "display_name": "Python 3.6.10 64-bit ('hoseo': conda)",
   "metadata": {
    "interpreter": {
     "hash": "28777402aca565a93449001515aa73f59f29f250b817babc6c87670d23b632d1"
    }
   }
  }
 },
 "nbformat": 4,
 "nbformat_minor": 2,
 "cells": [
  {
   "cell_type": "code",
   "execution_count": 6,
   "metadata": {},
   "outputs": [
    {
     "output_type": "stream",
     "name": "stdout",
     "text": [
      "Searching...\n",
      "Downloading...\n",
      "FINISH\n"
     ]
    }
   ],
   "source": [
    "\n",
    "# from urllib.request import urlretrieve\n",
    "# from urllib.parse import quote_plus    # korean support\n",
    "# from bs4 import BeautifulSoup as BS    # Essential module\n",
    "# from selenium import webdriver         # Google crolling\n",
    "\n",
    "# keyword = input(\"Input keyword: \")\n",
    "# i_URL = f'https://www.google.com/search?q={quote_plus(keyword)}&sxsrf=ALeKk00OQamJ34t56QSInnMzwcC5gC344w:1594968011157&source=lnms&tbm=isch&sa=X&ved=2ahUKEwjXs-7t1tPqAhVF7GEKHfM4DqsQ_AUoAXoECBoQAw&biw=1536&bih=754'\n",
    "\n",
    "# driver= webdriver.Chrome('D:\\yun\\dev-tools\\chromedriver.exe')\n",
    "# options = webdriver.ChromeOptions()\n",
    "# options.add_experimental_option('excludeSwitches', ['enable-logging'])\n",
    "# driver.get(i_URL)\n",
    "\n",
    "# html = driver.page_source\n",
    "# soup = BS(html,features=\"html.parser\")\n",
    "\n",
    "# img = soup.select('img')\n",
    "\n",
    "# i_list = []\n",
    "# count = 1\n",
    "\n",
    "# print(\"Searching...\")\n",
    "# for i in img:\n",
    "#    try:\n",
    "#       i_list.append(i.attrs[\"src\"])\n",
    "#    except KeyError:\n",
    "#       i_list.append(i.attrs[\"data-src\"])\n",
    "\n",
    "# print(\"Downloading...\")\n",
    "# for i in i_list:\n",
    "#    urlretrieve(i,\"download/\"+keyword+str(count)+\".jpg\")\n",
    "#    count+=1\n",
    "\n",
    "# driver.close()\n",
    "# print(\"FINISH\")"
   ]
  },
  {
   "cell_type": "code",
   "execution_count": 10,
   "metadata": {},
   "outputs": [],
   "source": [
    "# from selenium import webdriver\n",
    "# from bs4 import BeautifulSoup as soups\n",
    "\n",
    "# def search_selenium(search_name, search_path, search_limit) :\n",
    "#     search_url = \"https://www.google.com/search?q=\" + str(search_name) + \"&hl=ko&tbm=isch\"\n",
    "    \n",
    "#     browser = webdriver.Chrome(\"./chromedriver\")\n",
    "#     browser.get(search_url)\n",
    "    \n",
    "#     image_count = len(browser.find_elements_by_tag_name(\"img\"))\n",
    "    \n",
    "#     print(\"로드된 이미지 개수 : \", image_count)\n",
    "\n",
    "#     browser.implicitly_wait(2)\n",
    "\n",
    "#     for i in range( search_limit ) :\n",
    "#         image = browser.find_elements_by_tag_name(\"img\")[i]\n",
    "#         image.screenshot(\"./Mr_Moon/\" + str(i) + \".png\")\n",
    "\n",
    "#     browser.close()\n",
    "\n",
    "# if __name__ == \"__main__\" :\n",
    "\n",
    "#     search_name = input(\"검색하고 싶은 키워드 : \")\n",
    "#     search_limit = int(input(\"원하는 이미지 수집 개수 : \"))\n",
    "#     search_path = \"Your Path\"\n",
    "#     # search_maybe(search_name, search_limit, search_path)\n",
    "#     search_selenium(search_name, search_path, search_limit)"
   ]
  },
  {
   "cell_type": "code",
   "execution_count": 5,
   "metadata": {},
   "outputs": [
    {
     "output_type": "stream",
     "name": "stdout",
     "text": [
      "Searching...\n",
      "Downloading...\n",
      "FINISH\n"
     ]
    }
   ],
   "source": [
    "from urllib.request import urlretrieve\n",
    "from urllib.parse import quote_plus    # korean support\n",
    "from bs4 import BeautifulSoup as BS    # Essential module\n",
    "from selenium import webdriver         # Google crolling\n",
    "\n",
    "keyword = input(\"Input keyword: \")\n",
    "i_URL = f'https://www.google.com/search?q={quote_plus(keyword)}&source=lnms&tbm=isch&sa=X&ved=2ahUKEwjXs-7t1tPqAhVF7GEKHfM4DqsQ_AUoAXoECBoQAw&biw=1536&bih=754'\n",
    "\n",
    "driver= webdriver.Chrome('D:\\yun\\dev-tools\\chromedriver.exe')\n",
    "driver.get(i_URL)\n",
    "\n",
    "for i in range(1000):\n",
    "    driver.execute_script(\"window.scrollBy(0,10000)\")  #자동 스크롤러\n",
    "\n",
    "html = driver.page_source\n",
    "soup = BS(html,features=\"html.parser\")\n",
    "\n",
    "img = soup.select('.rg_i.Q4LuWd')\n",
    "\n",
    "i_list=[]\n",
    "count = 1\n",
    "\n",
    "print(\"Searching...\")\n",
    "\n",
    "for i in img:\n",
    "   try:\n",
    "      i_list.append(i.attrs[\"src\"])\n",
    "   except KeyError:\n",
    "      i_list.append(i.attrs[\"data-src\"])\n",
    "\n",
    "print(\"Downloading...\")\n",
    "\n",
    "for i in i_list:\n",
    "   urlretrieve(i,\"크롬크롤링/\"+keyword+str(count)+\".jpg\")\n",
    "   count+=1\n",
    "   if (count==600):\n",
    "       break \n",
    "driver.close()\n",
    "print(\"FINISH\")"
   ]
  },
  {
   "cell_type": "code",
   "execution_count": 7,
   "metadata": {},
   "outputs": [
    {
     "output_type": "stream",
     "name": "stdout",
     "text": [
      "Searching...\n",
      "Downloading...\n",
      "FINISH\n"
     ]
    }
   ],
   "source": [
    "# keyword = input(\"Input keyword: \")\n",
    "# i_URL = f'https://www.google.com/search?q={quote_plus(keyword)}&source=lnms&tbm=isch&sa=X&ved=2ahUKEwjXs-7t1tPqAhVF7GEKHfM4DqsQ_AUoAXoECBoQAw&biw=1536&bih=754'\n",
    "\n",
    "from urllib.request import urlretrieve\n",
    "from urllib.parse import quote_plus    # korean support\n",
    "from bs4 import BeautifulSoup as BS    # Essential module\n",
    "from selenium import webdriver         # Google crolling\n",
    "\n",
    "keyword = input(\"Input keyword: \")\n",
    "i_URL = f'https://search.naver.com/search.naver?where=image&sm=tab_jum&query={quote_plus(keyword)}'\n",
    "\n",
    "driver= webdriver.Chrome('D:\\yun\\dev-tools\\chromedriver.exe')\n",
    "driver.get(i_URL)\n",
    "\n",
    "for i in range(1000):\n",
    "    driver.execute_script(\"window.scrollBy(0,10000)\")  #자동 스크롤러\n",
    "\n",
    "html = driver.page_source\n",
    "soup = BS(html,features=\"html.parser\")\n",
    "\n",
    "img = soup.select('._img')\n",
    "\n",
    "i_list=[]\n",
    "count = 1\n",
    "\n",
    "print(\"Searching...\")\n",
    "\n",
    "for i in img:\n",
    "   try:\n",
    "      i_list.append(i.attrs[\"src\"])\n",
    "   except KeyError:\n",
    "      i_list.append(i.attrs[\"data:image/gif;base64,R0lGODlhAQABAIAAAAAAAP///yH5BAEAAAAALAAAAAABAAEAAAIBRAA7');\"])\n",
    "\n",
    "print(\"Downloading...\")\n",
    "for i in i_list:\n",
    "   urlretrieve(i,\"네이버크롤링/\"+keyword+str(count)+\".jpg\")\n",
    "   count+=1\n",
    "   if (count==600):\n",
    "       break \n",
    "driver.close()\n",
    "print(\"FINISH\")"
   ]
  },
  {
   "cell_type": "code",
   "execution_count": null,
   "metadata": {},
   "outputs": [],
   "source": []
  }
 ]
}