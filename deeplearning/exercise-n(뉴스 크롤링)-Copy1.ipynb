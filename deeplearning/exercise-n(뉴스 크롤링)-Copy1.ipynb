{
 "cells": [
  {
   "cell_type": "code",
   "execution_count": 15,
   "metadata": {},
   "outputs": [],
   "source": [
    "import numpy as np\n",
    "import pandas as pd\n",
    "import matplotlib.pyplot as plt\n",
    "import time\n",
    "import requests\n",
    "from bs4 import BeautifulSoup, NavigableString, Tag, Comment"
   ]
  },
  {
   "cell_type": "code",
   "execution_count": 16,
   "metadata": {},
   "outputs": [],
   "source": [
    "from selenium import webdriver\n",
    "\n",
    "driver_path = r\"D:\\yun\\dev-tools\\chromedriver.exe\"\n",
    "browser = webdriver.Chrome(executable_path=driver_path)"
   ]
  },
  {
   "cell_type": "code",
   "execution_count": 25,
   "metadata": {
    "tags": []
   },
   "outputs": [
    {
     "output_type": "stream",
     "name": "stdout",
     "text": [
      "2\n[<a href=\"https://news.naver.com/main/read.nhn?mode=LS2D&amp;mid=shm&amp;sid1=105&amp;sid2=230&amp;oid=003&amp;aid=0009994648\">\n<img alt=\"안랩, 고객 OT환경 보안관리 위한 'OT 보안관제 서비스' 출시\" height=\"72\" onerror=\"javascript:this.src='https://ssl.pstatic.net/static.news/image/news/2009/noimage_106x72.png';\" src=\"https://imgnews.pstatic.net/image/origin/003/2020/07/29/9994648.jpg?type=nf106_72\" width=\"106\"/>\n</a>, <a href=\"https://news.naver.com/main/read.nhn?mode=LS2D&amp;mid=shm&amp;sid1=105&amp;sid2=230&amp;oid=003&amp;aid=0009994648\">\n\t\t\t\t\t\t\t\t 안랩, 고객 OT환경 보안관리 위한 'OT 보안관제 서비스' 출시\n\t\t\t\t\t\t\t\t</a>]\n2\n[<a href=\"https://news.naver.com/main/read.nhn?mode=LS2D&amp;mid=shm&amp;sid1=105&amp;sid2=230&amp;oid=003&amp;aid=0009994643\">\n<img alt=\"U+골프, 박인비·고진영 선수경기 30일부터 독점 생중계\" height=\"72\" onerror=\"javascript:this.src='https://ssl.pstatic.net/static.news/image/news/2009/noimage_106x72.png';\" src=\"https://imgnews.pstatic.net/image/origin/003/2020/07/29/9994643.jpg?type=nf106_72\" width=\"106\"/>\n</a>, <a href=\"https://news.naver.com/main/read.nhn?mode=LS2D&amp;mid=shm&amp;sid1=105&amp;sid2=230&amp;oid=003&amp;aid=0009994643\">\n\t\t\t\t\t\t\t\t U+골프, 박인비·고진영 선수경기 30일부터 독점 생중계\n\t\t\t\t\t\t\t\t</a>]\n2\n[<a href=\"https://news.naver.com/main/read.nhn?mode=LS2D&amp;mid=shm&amp;sid1=105&amp;sid2=230&amp;oid=003&amp;aid=0009994632\">\n<img alt=\"캐논, 풀프레임 미러리스 'EOS R5' 전세계 동시 출시\" height=\"72\" onerror=\"javascript:this.src='https://ssl.pstatic.net/static.news/image/news/2009/noimage_106x72.png';\" src=\"https://imgnews.pstatic.net/image/origin/003/2020/07/29/9994632.jpg?type=nf106_72\" width=\"106\"/>\n</a>, <a href=\"https://news.naver.com/main/read.nhn?mode=LS2D&amp;mid=shm&amp;sid1=105&amp;sid2=230&amp;oid=003&amp;aid=0009994632\">\n\t\t\t\t\t\t\t\t 캐논, 풀프레임 미러리스 'EOS R5' 전세계 동시 출시\n\t\t\t\t\t\t\t\t</a>]\n2\n[<a href=\"https://news.naver.com/main/read.nhn?mode=LS2D&amp;mid=shm&amp;sid1=105&amp;sid2=230&amp;oid=032&amp;aid=0003023789\">\n<img alt=\"“편의점 상품, 자율주행 로봇이 배달합니다”\" height=\"72\" onerror=\"javascript:this.src='https://ssl.pstatic.net/static.news/image/news/2009/noimage_106x72.png';\" src=\"https://imgnews.pstatic.net/image/origin/032/2020/07/29/3023789.jpg?type=nf106_72\" width=\"106\"/>\n</a>, <a href=\"https://news.naver.com/main/read.nhn?mode=LS2D&amp;mid=shm&amp;sid1=105&amp;sid2=230&amp;oid=032&amp;aid=0003023789\">\n\t\t\t\t\t\t\t\t “편의점 상품, 자율주행 로봇이 배달합니다”\n\t\t\t\t\t\t\t\t</a>]\n1\n[<a href=\"https://news.naver.com/main/read.nhn?mode=LS2D&amp;mid=shm&amp;sid1=105&amp;sid2=230&amp;oid=032&amp;aid=0003023788\">\n\t\t\t\t\t\t\t\t 스마트폰 내비에도 ‘증강현실’ 길 안내\n\t\t\t\t\t\t\t\t</a>]\n2\n[<a href=\"https://news.naver.com/main/read.nhn?mode=LS2D&amp;mid=shm&amp;sid1=105&amp;sid2=230&amp;oid=032&amp;aid=0003023786\">\n<img alt=\"운전 중 위험 상황 땐 ‘스마트워치서 진동’…청각장애인 택시기사 ‘안전 도우미’ 첫선\" height=\"72\" onerror=\"javascript:this.src='https://ssl.pstatic.net/static.news/image/news/2009/noimage_106x72.png';\" src=\"https://imgnews.pstatic.net/image/origin/032/2020/07/29/3023786.jpg?type=nf106_72\" width=\"106\"/>\n</a>, <a href=\"https://news.naver.com/main/read.nhn?mode=LS2D&amp;mid=shm&amp;sid1=105&amp;sid2=230&amp;oid=032&amp;aid=0003023786\">\n\t\t\t\t\t\t\t\t 운전 중 위험 상황 땐 ‘스마트워치서 진동’…청각장애인 택시기사 ‘안전 도우미’ 첫선\n\t\t\t\t\t\t\t\t</a>]\n1\n[<a href=\"https://news.naver.com/main/read.nhn?mode=LS2D&amp;mid=shm&amp;sid1=105&amp;sid2=230&amp;oid=032&amp;aid=0003023783\">\n\t\t\t\t\t\t\t\t 코로나19 치료용 인공단백질 개발\n\t\t\t\t\t\t\t\t</a>]\n2\n[<a href=\"https://news.naver.com/main/read.nhn?mode=LS2D&amp;mid=shm&amp;sid1=105&amp;sid2=230&amp;oid=032&amp;aid=0003023782\">\n<img alt=\"우리·KT 손잡고 금융·통신 신사업 발굴\" height=\"72\" onerror=\"javascript:this.src='https://ssl.pstatic.net/static.news/image/news/2009/noimage_106x72.png';\" src=\"https://imgnews.pstatic.net/image/origin/032/2020/07/29/3023782.jpg?type=nf106_72\" width=\"106\"/>\n</a>, <a href=\"https://news.naver.com/main/read.nhn?mode=LS2D&amp;mid=shm&amp;sid1=105&amp;sid2=230&amp;oid=032&amp;aid=0003023782\">\n\t\t\t\t\t\t\t\t 우리·KT 손잡고 금융·통신 신사업 발굴\n\t\t\t\t\t\t\t\t</a>]\n2\n[<a href=\"https://news.naver.com/main/read.nhn?mode=LS2D&amp;mid=shm&amp;sid1=105&amp;sid2=230&amp;oid=092&amp;aid=0002195121\">\n<img alt=\"WTO 日 수출제한조치 분쟁 패널설치…소송절차 개시\" height=\"72\" onerror=\"javascript:this.src='https://ssl.pstatic.net/static.news/image/news/2009/noimage_106x72.png';\" src=\"https://imgnews.pstatic.net/image/origin/092/2020/07/29/2195121.jpg?type=nf106_72\" width=\"106\"/>\n</a>, <a href=\"https://news.naver.com/main/read.nhn?mode=LS2D&amp;mid=shm&amp;sid1=105&amp;sid2=230&amp;oid=092&amp;aid=0002195121\">\n\t\t\t\t\t\t\t\t WTO 日 수출제한조치 분쟁 패널설치…소송절차 개시\n\t\t\t\t\t\t\t\t</a>]\n2\n[<a href=\"https://news.naver.com/main/read.nhn?mode=LS2D&amp;mid=shm&amp;sid1=105&amp;sid2=230&amp;oid=003&amp;aid=0009994582\">\n<img alt=\"압축 프로그램 ‘알집’, 개방형 OS 지원 위한 리눅스 버전 출시\" height=\"72\" onerror=\"javascript:this.src='https://ssl.pstatic.net/static.news/image/news/2009/noimage_106x72.png';\" src=\"https://imgnews.pstatic.net/image/origin/003/2020/07/29/9994582.jpg?type=nf106_72\" width=\"106\"/>\n</a>, <a href=\"https://news.naver.com/main/read.nhn?mode=LS2D&amp;mid=shm&amp;sid1=105&amp;sid2=230&amp;oid=003&amp;aid=0009994582\">\n\t\t\t\t\t\t\t\t 압축 프로그램 ‘알집’, 개방형 OS 지원 위한 리눅스 버전 출시\n\t\t\t\t\t\t\t\t</a>]\n2\n[<a href=\"https://news.naver.com/main/read.nhn?mode=LS2D&amp;mid=shm&amp;sid1=105&amp;sid2=230&amp;oid=023&amp;aid=0003550255\">\n<img alt='SKT 박정호의 특명 \"휴가 중엔 업무 카톡방서 나가라\"' height=\"72\" onerror=\"javascript:this.src='https://ssl.pstatic.net/static.news/image/news/2009/noimage_106x72.png';\" src=\"https://imgnews.pstatic.net/image/origin/023/2020/07/29/3550255.jpg?type=nf106_72\" width=\"106\"/>\n</a>, <a href=\"https://news.naver.com/main/read.nhn?mode=LS2D&amp;mid=shm&amp;sid1=105&amp;sid2=230&amp;oid=023&amp;aid=0003550255\">\n\t\t\t\t\t\t\t\t SKT 박정호의 특명 \"휴가 중엔 업무 카톡방서 나가라\"\n\t\t\t\t\t\t\t\t</a>]\n2\n[<a href=\"https://news.naver.com/main/read.nhn?mode=LS2D&amp;mid=shm&amp;sid1=105&amp;sid2=230&amp;oid=640&amp;aid=0000002678\">\n<img alt=\"Infrastructure boost\" height=\"72\" onerror=\"javascript:this.src='https://ssl.pstatic.net/static.news/image/news/2009/noimage_106x72.png';\" src=\"https://imgnews.pstatic.net/image/origin/640/2020/07/29/2678.jpg?type=nf106_72\" width=\"106\"/>\n</a>, <a href=\"https://news.naver.com/main/read.nhn?mode=LS2D&amp;mid=shm&amp;sid1=105&amp;sid2=230&amp;oid=640&amp;aid=0000002678\">\n\t\t\t\t\t\t\t\t Infrastructure boost\n\t\t\t\t\t\t\t\t</a>]\n2\n[<a href=\"https://news.naver.com/main/read.nhn?mode=LS2D&amp;mid=shm&amp;sid1=105&amp;sid2=230&amp;oid=016&amp;aid=0001705749\">\n<img alt='박정호 SKT 사장 \"휴가 중 업무 관련 카톡 보내지 마라\"' height=\"72\" onerror=\"javascript:this.src='https://ssl.pstatic.net/static.news/image/news/2009/noimage_106x72.png';\" src=\"https://imgnews.pstatic.net/image/origin/016/2020/07/29/1705749.jpg?type=nf106_72\" width=\"106\"/>\n</a>, <a href=\"https://news.naver.com/main/read.nhn?mode=LS2D&amp;mid=shm&amp;sid1=105&amp;sid2=230&amp;oid=016&amp;aid=0001705749\">\n\t\t\t\t\t\t\t\t 박정호 SKT 사장 \"휴가 중 업무 관련 카톡 보내지 마라\"\n\t\t\t\t\t\t\t\t</a>]\n2\n[<a href=\"https://news.naver.com/main/read.nhn?mode=LS2D&amp;mid=shm&amp;sid1=105&amp;sid2=230&amp;oid=001&amp;aid=0011778921\">\n<img alt='박정호 SKT 사장 \"휴가 중 업무 카톡방 나가라\"' height=\"72\" onerror=\"javascript:this.src='https://ssl.pstatic.net/static.news/image/news/2009/noimage_106x72.png';\" src=\"https://imgnews.pstatic.net/image/origin/001/2020/07/29/11778921.jpg?type=nf106_72\" width=\"106\"/>\n</a>, <a href=\"https://news.naver.com/main/read.nhn?mode=LS2D&amp;mid=shm&amp;sid1=105&amp;sid2=230&amp;oid=001&amp;aid=0011778921\">\n\t\t\t\t\t\t\t\t 박정호 SKT 사장 \"휴가 중 업무 카톡방 나가라\"\n\t\t\t\t\t\t\t\t</a>]\n2\n[<a href=\"https://news.naver.com/main/read.nhn?mode=LS2D&amp;mid=shm&amp;sid1=105&amp;sid2=230&amp;oid=417&amp;aid=0000574549\">\n<img alt=\"[휴지통] 갤럭시Z 폴드2 실물사진 등장… 노치 사라지고 얇아졌다\" height=\"72\" onerror=\"javascript:this.src='https://ssl.pstatic.net/static.news/image/news/2009/noimage_106x72.png';\" src=\"https://imgnews.pstatic.net/image/origin/417/2020/07/29/574549.jpg?type=nf106_72\" width=\"106\"/>\n</a>, <a href=\"https://news.naver.com/main/read.nhn?mode=LS2D&amp;mid=shm&amp;sid1=105&amp;sid2=230&amp;oid=417&amp;aid=0000574549\">\n\t\t\t\t\t\t\t\t [휴지통] 갤럭시Z 폴드2 실물사진 등장… 노치 사라지고 얇아졌다\n\t\t\t\t\t\t\t\t</a>]\n2\n[<a href=\"https://news.naver.com/main/read.nhn?mode=LS2D&amp;mid=shm&amp;sid1=105&amp;sid2=230&amp;oid=029&amp;aid=0002614221\">\n<img alt=\"독보적 기술력으로 차별정책 돌파 … 中업체와 합작·투자 결실\" height=\"72\" onerror=\"javascript:this.src='https://ssl.pstatic.net/static.news/image/news/2009/noimage_106x72.png';\" src=\"https://imgnews.pstatic.net/image/origin/029/2020/07/29/2614221.jpg?type=nf106_72\" width=\"106\"/>\n</a>, <a href=\"https://news.naver.com/main/read.nhn?mode=LS2D&amp;mid=shm&amp;sid1=105&amp;sid2=230&amp;oid=029&amp;aid=0002614221\">\n\t\t\t\t\t\t\t\t 독보적 기술력으로 차별정책 돌파 … 中업체와 합작·투자 결실\n\t\t\t\t\t\t\t\t</a>]\n1\n[<a href=\"https://news.naver.com/main/read.nhn?mode=LS2D&amp;mid=shm&amp;sid1=105&amp;sid2=230&amp;oid=029&amp;aid=0002614225\">\n\t\t\t\t\t\t\t\t 걷어내는데만 1兆… 화웨이 장비퇴출 사실상 불가능\n\t\t\t\t\t\t\t\t</a>]\n2\n[<a href=\"https://news.naver.com/main/read.nhn?mode=LS2D&amp;mid=shm&amp;sid1=105&amp;sid2=230&amp;oid=029&amp;aid=0002614224\">\n<img alt=\"美·中 갈등에 `줄서기` 압박… 정부·통신업계, 5G전국망 차질 우려\" height=\"72\" onerror=\"javascript:this.src='https://ssl.pstatic.net/static.news/image/news/2009/noimage_106x72.png';\" src=\"https://imgnews.pstatic.net/image/origin/029/2020/07/29/2614224.jpg?type=nf106_72\" width=\"106\"/>\n</a>, <a href=\"https://news.naver.com/main/read.nhn?mode=LS2D&amp;mid=shm&amp;sid1=105&amp;sid2=230&amp;oid=029&amp;aid=0002614224\">\n\t\t\t\t\t\t\t\t 美·中 갈등에 `줄서기` 압박… 정부·통신업계, 5G전국망 차질 우려\n\t\t\t\t\t\t\t\t</a>]\n2\n[<a href=\"https://news.naver.com/main/read.nhn?mode=LS2D&amp;mid=shm&amp;sid1=105&amp;sid2=230&amp;oid=029&amp;aid=0002614241\">\n<img alt='\"SKT `고요한M`으로 안전하게\"… 청각장애 택시기사 서울 누빈다' height=\"72\" onerror=\"javascript:this.src='https://ssl.pstatic.net/static.news/image/news/2009/noimage_106x72.png';\" src=\"https://imgnews.pstatic.net/image/origin/029/2020/07/29/2614241.jpg?type=nf106_72\" width=\"106\"/>\n</a>, <a href=\"https://news.naver.com/main/read.nhn?mode=LS2D&amp;mid=shm&amp;sid1=105&amp;sid2=230&amp;oid=029&amp;aid=0002614241\">\n\t\t\t\t\t\t\t\t \"SKT `고요한M`으로 안전하게\"… 청각장애 택시기사 서울 누빈다\n\t\t\t\t\t\t\t\t</a>]\n2\n[<a href=\"https://news.naver.com/main/read.nhn?mode=LS2D&amp;mid=shm&amp;sid1=105&amp;sid2=230&amp;oid=029&amp;aid=0002614235\">\n<img alt=\"벤처기업 상품 전용몰 `벤처나라` 공급 1000억 돌파\" height=\"72\" onerror=\"javascript:this.src='https://ssl.pstatic.net/static.news/image/news/2009/noimage_106x72.png';\" src=\"https://imgnews.pstatic.net/image/origin/029/2020/07/29/2614235.jpg?type=nf106_72\" width=\"106\"/>\n</a>, <a href=\"https://news.naver.com/main/read.nhn?mode=LS2D&amp;mid=shm&amp;sid1=105&amp;sid2=230&amp;oid=029&amp;aid=0002614235\">\n\t\t\t\t\t\t\t\t 벤처기업 상품 전용몰 `벤처나라` 공급 1000억 돌파\n\t\t\t\t\t\t\t\t</a>]\n"
     ]
    }
   ],
   "source": [
    "url = \"https://news.naver.com/main/list.nhn\"\n",
    "query = \"mode={0}&mid={1}&sid2={2}&sid1={3}&date={4}&page={5}\"\n",
    "\n",
    "page = 1\n",
    "date = '20200729'\n",
    "\n",
    "news_list = []\n",
    "\n",
    "# if True:\n",
    "for page in range(1, 5):\n",
    "# while True:\n",
    "    time.sleep(0.3)\n",
    "    current_url = \"\".join([url, \"?\", query]) \\\n",
    "                    .format(\"LS2D\", \"shm\", \"230\", \"105\", date, page)\n",
    "\n",
    "    browser.get(current_url)    \n",
    "    soup = BeautifulSoup(browser.page_source, \"html.parser\")\n",
    "    # print(soup)\n",
    "\n",
    "    dl_list = soup.select(\"#main_content .list_body > ul > li > dl\")\n",
    "    \n",
    "    if len(dl_list) == 0:\n",
    "        break\n",
    "    \n",
    "    for idx, dl in enumerate(dl_list):\n",
    "        links = dl.select('dt > a')\n",
    "        # print(len(links))\n",
    "        # print(links)\n",
    "        link = links[0] if len(links) == 1 else links[1]\n",
    "        news_list.append( [link.text.strip(), link['href']])\n",
    "        \n",
    "    if len(dl_list) < 20:\n",
    "        break\n",
    "        \n",
    "    page += 1"
   ]
  },
  {
   "cell_type": "code",
   "execution_count": 23,
   "metadata": {},
   "outputs": [
    {
     "output_type": "execute_result",
     "data": {
      "text/plain": [
       "20"
      ]
     },
     "metadata": {},
     "execution_count": 23
    }
   ],
   "source": [
    "len(news_list)"
   ]
  },
  {
   "cell_type": "code",
   "execution_count": 28,
   "metadata": {
    "tags": []
   },
   "outputs": [
    {
     "output_type": "stream",
     "name": "stdout",
     "text": [
      "     원격으로 고객 OT 환경 자산 보안설정 관리 및 외부 위협 대응  [서울=뉴시스] 이재은 기자 = 최근 사회기반시설, 생산설비, 스마트팩토리, ICS(산업제어시스템) 등 다양한 OT(운영기술)환경에서의 보안이슈가 대두되는 가운데 안랩이 OT환경 특화 전문보안관제 서비스를 내놨다.   안랩 서비스사업부는 고객의 OT환경에 대해서 실시간 보안 위협 모니터링, 고객사 환경별 맞춤형 보안 설정 등 OT환경 전문 보안 관리 서비스를 제공하는 ‘OT 보안관제 서비스’를 출시했다고 29일 밝혔다.   안랩 ‘OT 보안관제 서비스’는 안랩의 SOC(보안관제센터) 전문 인력이 원격으로 고객 OT환경 자산의 보안설정 관리 및  외부 위협 모니터링을 제공하는 서비스다. 안랩은 OT환경 전용 보안 솔루션으로 기계 조작용 HMI 기기, 기계 제어 수행 장치 PLC 등 고객 OT환경 운영상황을 실시간 모니터링하며 보안 관리한다.   안랩은 ‘OT 보안관제 서비스’로 고객에게 ▲OT환경에 특화된 실시간 위협 및 이상행위 탐지/대응 ▲고객사 OT환경 자산 식별 및 관리 ▲침입 대응 보고서 및 정기 보안정보 보고서 등 보안 서비스를 제공한다.   이 서비스를 이용하면 고객은 안랩의 침해대응(CERT) 전문 인력이 수행하는 취약점 진단/관리를 바탕으로 OT환경 자산을 파악하고 보안 정책 설정, 보안 패치 등 보안 가시성을 확보할 수 있다.   이와 함께 고객이 추가 선택할 경우 고객은 OT환경 보안점검, 임직원 OT환경 보안교육 등 OT환경 전문 정보보호 컨설팅 서비스도 받을 수 있다. 따라서 고객은 진단부터 보안 운영까지 OT환경 관련 종합 보안 서비스를 이용할 수 있다.   안랩 서비스사업부를 총괄하는 임영선 상무는 “최근 보안위협 양상은 기존 IT환경에 더해 OT환경으로 그 공격 범위가 확장되고 있다”라며 “이처럼 OT환경 보안 중요성이 점차 증대되는 만큼 안랩의 OT환경 보안 전문 서비스가 고객에게 도움이되길 기대한다”고 말했다.   ☞공감언론 뉴시스 lje@newsis.com   ▶ 네이버에서 뉴시스 구독하기  ▶ K-Artprice, 유명 미술작품 가격 공개  ▶ 뉴시스 빅데이터 MSI 주가시세표 바로가기   <ⓒ 공감언론 뉴시스통신사. 무단전재-재배포 금지>  \n",
      "     국내 유일 1·2라운드 8시 20분부터 중계  [서울=뉴시스] 이재은 기자 = U+골프를 통해 한국여자프로골프( KLPGA ) 투어 ‘제주삼다수 마스터스’ 경기에서 1홀부터 18홀까지 인기 선수의 전체 플레이를 시청할 수 있다.   LG 유플러스는 오는 30일부터 8월2일까지 나흘간 한국여자프로골프( KLPGA ) 투어 ‘제주삼다수 마스터스’ 경기에서 골프 미디어 플랫폼 ‘U+골프’를 통해 독점 중계하는 선수를 공개했다. 모바일 또는 IPTV 앱을 통해 시청이 가능하다.   제주시에 위치한 세인트포 컨트리클럽에서 열리는 이번 ‘제주삼다수 마스터스’ 경기는 미국여자프로골프( LPGA ) 투어에서 활약하고 있는 박인비, 고진영 선수를 포함해 총 132명이 출전한다.   U+골프는 이번 경기에서 이례적으로 1·2라운드를 오전 8시 20분부터 중계한다. 따라서 국내 유일하게 U+골프에서만 오전 8시 40분부터 경기를 시작하는 박인비 선수(1라운드)와 고진영 선수(2라운드)를 생방송으로 시청할 수 있다. U+골프를 제외한 기타 서비스는 통상적으로 12시부터 시작한다.   U+골프는 ‘인기선수 독점중계’ 서비스의 2개 채널을 통해 대회기간 동안 매일 각각 2개 조(6명)에 대해 독점 중계 서비스를 제공한다. 30일과 31일은 오전 8시 20분부터, 8월 1일과 2일은 각각 11시, 12시부터다. 이에 따라 U+골프 고객은 나흘간 인기선수가 속한 총 8개 조(총 24명)의 전체 경기를 모두 관람할 수 있다.   먼저 30일과 31일은 이소영, 임희정, 박인비 프로가 속한 조와 유해란, 박현경, 고진영 프로가 속한 조를 독점 중계한다. 3라운드는 2라운드 경기 후, 파이널 라운드는 3라운드 경기 후 정해질 예정이다. 기상악화 등으로 경기가 지연될 경우 조편성이 변경될 수 있으며, U+골프 앱을 통해 안내될 예정이다.   해설은 양일 모두 동일하게 채널 1은 김홍기 해설위원, 김형책 캐스터가, 채널 2는 최혜정 해설위원, 김황중 캐스터가 진행한다. 최혜정 해설위원은 2006년 LPGA 투어 퀄리파잉스쿨 수석 합격은 물론, 2007년 ‘하이트컵 챔피언십’ 우승, 2011년 ‘ KLPGA 챔피언십’ 우승을 차지한 전적이 있으며, 김홍기 해설위원은 2008년과 2009년 LPGA 대회 2회 우승을 차지한 오지영 프로를 배출한 PGA 준회원이다.   U+골프의 ‘인기선수 독점중계’는 최대 2개 조, 즉 선수 6명까지 독점 중계를 제공한다. 자신이 좋아하는 선수가 속한 조의 경기만 계속 시청할 수 있는 것이 특징이다. 각 조별로 별도의 중계와 해설이 이뤄질 뿐 아니라 궁금한 사항을 물어보고 바로 답변을 받는 ‘실시간 채팅’을 통해 보다 재미있고 다양한 형식의 방송을 즐길 수 있다.   U+골프 모바일 앱은 가입 중인 통신사 관계없이 구글 플레이스토어, 애플 앱스토어, 원스토어에서 무료로 내려 받아 이용할 수 있다. U+ tv 고객은 TV 앱을 통해 모바일 앱과 동일하게 시청이 가능하다.   대회기간 동안 U+골프를 이용하는 고객을 위해 다양한 경품 증정 이벤트도 준비했다. 이용 중인 통신사 관계 없이 U+골프 모바일 앱 안에서 본인의 스윙 영상으로 독점중계 해설자에게 레슨을 신청할 수 있고, 선정되면 생방송 또는 방송 종료 후 VOD 를 통해 자신의 스윙에 대한 전문적인 조언을 확인할 수 있다.   또 U+골프에서 독점중계 중인 선수가 우승하거나, 홀인원·알바트로스·이글을 기록할 경우 해당 선수 경기 중 ‘실시간 채팅’에 참여한 고객 대상 추첨을 통해 ▲백화점상품권 100만원(1명) ▲백화점상품권 20만원(1명) ▲치킨교환권(30명)을 증정한다.   ☞공감언론 뉴시스  lje @ newsis.com   ▶ 네이버에서 뉴시스 구독하기  ▶ K-Artprice, 유명 미술작품 가격 공개  ▶ 뉴시스 빅데이터 MSI 주가시세표 바로가기   <ⓒ 공감언론 뉴시스통신사. 무단전재-재배포 금지>  \n",
      "     정품등록·이벤트 참여시 12만5천원 상당 정품 배터리 증정 [서울=뉴시스]캐논코리아컨슈머이미징㈜이 강력한 성능을 장착한 풀프레임 미러리스 카메라 'EOS R5'를 출시한다고 29일 밝혔다. (제공=캐논코리아컨슈머이미징) [서울=뉴시스] 최희정 기자 = 캐논코리아컨슈머이미징㈜이 강력한 성능을 장착한 풀프레임 미러리스 카메라 'EOS R5'를 출시한다고 29일 밝혔다.   EOS R5는 제품 발표와 함께 하이 아마추어 및 프로 유저를 대상으로 풀프레임 미러리스 시장에서 주목을 받아왔다. 지난 24일부터 진행한 사전구매는 당일 조기 마감되기도 했다.   캐논 관계자는 \" EOS R5는 혁신 광학 기술이 반영된 풀프레임 미러리스 카메라로 세계 최고의 수식어에 걸맞는 고속, 고정밀의 오토포커스( AF ) 성능뿐만 아니라 최대 약 20 fps 에 달하는 고속 연속 촬영, 8K 초고해상도 영상 촬영을 지원하는 제품\"이라고 소개했다.   EOS R5는 전세계 동시 발매일인 30일에 맞춰 캐논 직영 매장에서 캐논스토어에서 출시된다. 가격은 바디 기준 519만9000원이다.   EOS R5는 렌즈교환식 카메라 세계 최초 8K 30p 초고해상도 동영상 촬영이 가능한 풀프레임 미러리스 카메라다. 약 4500만 화소의 고해상도 이미지의 기록, 세계 최고속 0.05초 AF , 세계 최고의 8스톱 손떨림 방지 성능, 최대 초당 약 20매의 고속 연속 촬영, 진화된 라이브 뷰 AF 기술인 듀얼 픽셀 CMOS  AF Ⅱ 등 강력한 성능을 갖췄다.   캐논은 EOS R5의 발매를 기념해 오는 10월 25일까지 EOS R5를 구매하고 31일까지 정품등록 및 이벤트 응모를 완료한 고객에게 12만5000원 상당의 배터리( LP-E 6 NH )를 증정한다.   EOS R 시리즈 카메라와 RF 렌즈를 동시 구매하는 고객을 위한 이벤트도 진행된다.   EOS R5를 포함해 다음달 출시 예정인 EOS R6, 기존 모델인 EOS R, EOS  RP 등 EOS R 시리즈 카메라와 RF 렌즈를 함께 구매하면 최대 159만원의 혜택을 받을 수 있다.   자세한 내용은 캐논코리아컨슈머이미징 공식 홈페이지 내 이벤트 페이지에서 확인할 수 있다.   ☞공감언론 뉴시스  dazzling @ newsis.com   ▶ 네이버에서 뉴시스 구독하기  ▶ K-Artprice, 유명 미술작품 가격 공개  ▶ 뉴시스 빅데이터 MSI 주가시세표 바로가기   <ⓒ 공감언론 뉴시스통신사. 무단전재-재배포 금지>  \n",
      "     GS리테일·LG전자 협업, 연내 서비스…도난·분실 안전장치 장착 [경향신문]   GS25, LG전자와 손잡고 'AI 로봇 배송' 연내 도입. 연합뉴스    자율주행 로봇이 편의점 상품을 고객에게 배송하는 서비스가 시작된다.   GS 리테일은 최근 LG 전자와 인공지능 자율주행 로봇을 이용한 배송 서비스를 개발, 제공하는 내용의 업무 협약을 체결했다(사진)고 29일 밝혔다. 양사는 로봇 배송 테스트를 오는 8월 GS 25 강서 LG 사이언스점에서 1차 테스트, 10월엔 GS 25 파르나스타워점에서 2차 테스트를 진행하기로 했다. 이후 보완 작업을 거쳐 올해 안에 실제 서비스를 실시한다는 계획이다.   GS 리테일은 비교적 배송이 용이한 고층 오피스 빌딩 내 입점한 GS 25 점포에 우선적으로 로봇 배송 서비스를 적용할 예정이라고 밝혔다. 바쁜 직장인들이 도시락이나 샌드위치, 음료 등을 점심시간에 주문할 때 로봇 배송 서비스를 활용할 수 있다.   절차는 간단하다. 고객이 카카오 주문하기 모바일 앱을 통해 GS 25 상품을 배송 주문하면 주문 정보가 해당 점포로 전달된다. 점포 근무자가 주문 정보를 확인하고 로봇에 상품을 적재한 뒤 건물 층수를 입력하면 로봇이 스스로 이동해 엘리베이터를 타고 고객에게 전달한다.   가로 50㎝, 세로 50㎝, 높이 130㎝ 크기의 배송용 로봇에는 인공지능, 초음파 센서, 자율주행 기능 등이 적용된다. 몸체엔 3개의 서랍이 탑재돼 최대 15㎏ 중량의 상품까지 적재 가능하다. 배송 로봇에는 자율주행 배송 업무 도중 일어날 수 있는 도난, 분실 등을 방지하기 위한 보안 잠금장치 및 안전장치도 마련했다.   김지원 기자 deepdeep @ kyunghyang.com    ▶ 장도리 | 그림마당 보기  ▶ 경향신문 바로가기 ▶ 경향신문 구독신청하기   ©경향신문( www.khan.co.kr ), 무단전재 및 재배포 금지     \n",
      "     LG유플, 5G폰 고객에 서비스 [경향신문]   실제 보이는 도로 모습 위에 증강현실( AR )로 나타난 화살표로 길 안내를 하는 스마트폰 내비게이션(사진)이 나왔다. 국내 차량용 내비게이션 외에 스마트폰 내비게이션에 AR 길 안내가 적용된 건 처음이다.   LG 유플러스는 LG 전자, 카카오모빌리티와 운영 중인 ‘U+카카오내비’에 AR 길 안내 기능을 도입했다고 29일 밝혔다. 지난해 국내 고급 스포츠유틸리티( SUV ) 차량에 탑재한 LG 전자의 AR 기술을 스마트폰에 담은 서비스다. 단, 이 서비스는 5세대(5G) 스마트폰인 ‘갤럭시S10’과 ‘V50 씽큐’를 사용하는 고객만 사용할 수 있다.운전자가 내비게이션에 있는 AR 모드를 선택하면 AR 길 안내가 시작된다. 운전자가 보고 있는 실제 도로와 동일한 도로 위에 AR 로 나타난 파란색 카펫이 주행도로를 안내한다. 갈림길에서는 AR 로 나타난 화살표가 회전해야 하는 방향과 지점을 알려준다.   LG 유플러스는 “제로레이팅(데이터 요금 면제)을 통해 무료로 제공한다”며 “추후 지원 단말기를 확대해 나갈 계획”이라고 밝혔다.   곽희양 기자 huiyang @ kyunghyang.com    ▶ 장도리 | 그림마당 보기  ▶ 경향신문 바로가기 ▶ 경향신문 구독신청하기   ©경향신문( www.khan.co.kr ), 무단전재 및 재배포 금지     \n"
     ]
    }
   ],
   "source": [
    "# for news in news_list:\n",
    "\n",
    "for news in news_list[:5]:\n",
    "    \n",
    "    time.sleep(0.3)\n",
    "\n",
    "    link2 = news[1]\n",
    "    browser.get(link2)\n",
    "    soup2 = BeautifulSoup(browser.page_source, 'html.parser')\n",
    "    # print(soup2)\n",
    "    contents = soup2.select_one('div#articleBodyContents')\n",
    "    content_string = \"\"\n",
    "# 태그는 보통 트리구조로 위계가 있기 때문에 하위 항목을 모두 뽑아오고 싶다면 .children을 사용하면 된다. \n",
    "# 지정된 태그의 상위 항목을 가져올 수도 있다. 이건 .parents를 사용한다. ul.parents =>  ul 상위에 있는 body 태그를 출력한 후, 전체 html 까지 추가로 출력\n",
    "    for child in contents.children:\n",
    "        # print(child, '/', type(child))\n",
    "        if type(child) == Tag and child.name != \"script\":\n",
    "            content_string += child.text.strip() + \" \"     # text.strip():앞뒤공백제거\n",
    "        if type(child) == NavigableString:\n",
    "            content_string += str(child).strip() + \" \"     # NavigableString :태그 안에 있는 텍스트\n",
    "    \n",
    "    print(content_string)\n",
    "    # news.append(content_string) # [제목,주소] -> [제목,주소,내용]"
   ]
  },
  {
   "cell_type": "code",
   "execution_count": 12,
   "metadata": {},
   "outputs": [],
   "source": [
    "browser.close()"
   ]
  },
  {
   "cell_type": "code",
   "execution_count": 20,
   "metadata": {},
   "outputs": [],
   "source": [
    "# news_list[:3]\n",
    "# news_list_df = \\\n",
    "#     pd.DataFrame(news_list, columns=['제목', '링크', '내용'])\n",
    "news_list_df = \\\n",
    "pd.DataFrame(news_list[:5], columns=['제목', '링크', '내용'])"
   ]
  },
  {
   "cell_type": "code",
   "execution_count": 21,
   "metadata": {},
   "outputs": [
    {
     "output_type": "execute_result",
     "data": {
      "text/plain": [
       "                                     제목  \\\n",
       "0  안랩, 고객 OT환경 보안관리 위한 'OT 보안관제 서비스' 출시   \n",
       "1       U+골프, 박인비·고진영 선수경기 30일부터 독점 생중계   \n",
       "2      캐논, 풀프레임 미러리스 'EOS R5' 전세계 동시 출시   \n",
       "3              “편의점 상품, 자율주행 로봇이 배달합니다”   \n",
       "4                 스마트폰 내비에도 ‘증강현실’ 길 안내   \n",
       "\n",
       "                                                  링크  \\\n",
       "0  https://news.naver.com/main/read.nhn?mode=LS2D...   \n",
       "1  https://news.naver.com/main/read.nhn?mode=LS2D...   \n",
       "2  https://news.naver.com/main/read.nhn?mode=LS2D...   \n",
       "3  https://news.naver.com/main/read.nhn?mode=LS2D...   \n",
       "4  https://news.naver.com/main/read.nhn?mode=LS2D...   \n",
       "\n",
       "                                                  내용  \n",
       "0       원격으로 고객 OT 환경 자산 보안설정 관리 및 외부 위협 대응  [서울=...  \n",
       "1       국내 유일 1·2라운드 8시 20분부터 중계  [서울=뉴시스] 이재은 기자...  \n",
       "2       정품등록·이벤트 참여시 12만5천원 상당 정품 배터리 증정 [서울=뉴시스]...  \n",
       "3       GS리테일·LG전자 협업, 연내 서비스…도난·분실 안전장치 장착 [경향신문...  \n",
       "4       LG유플, 5G폰 고객에 서비스 [경향신문]   실제 보이는 도로 모습 위...  "
      ],
      "text/html": "<div>\n<style scoped>\n    .dataframe tbody tr th:only-of-type {\n        vertical-align: middle;\n    }\n\n    .dataframe tbody tr th {\n        vertical-align: top;\n    }\n\n    .dataframe thead th {\n        text-align: right;\n    }\n</style>\n<table border=\"1\" class=\"dataframe\">\n  <thead>\n    <tr style=\"text-align: right;\">\n      <th></th>\n      <th>제목</th>\n      <th>링크</th>\n      <th>내용</th>\n    </tr>\n  </thead>\n  <tbody>\n    <tr>\n      <th>0</th>\n      <td>안랩, 고객 OT환경 보안관리 위한 'OT 보안관제 서비스' 출시</td>\n      <td>https://news.naver.com/main/read.nhn?mode=LS2D...</td>\n      <td>원격으로 고객 OT 환경 자산 보안설정 관리 및 외부 위협 대응  [서울=...</td>\n    </tr>\n    <tr>\n      <th>1</th>\n      <td>U+골프, 박인비·고진영 선수경기 30일부터 독점 생중계</td>\n      <td>https://news.naver.com/main/read.nhn?mode=LS2D...</td>\n      <td>국내 유일 1·2라운드 8시 20분부터 중계  [서울=뉴시스] 이재은 기자...</td>\n    </tr>\n    <tr>\n      <th>2</th>\n      <td>캐논, 풀프레임 미러리스 'EOS R5' 전세계 동시 출시</td>\n      <td>https://news.naver.com/main/read.nhn?mode=LS2D...</td>\n      <td>정품등록·이벤트 참여시 12만5천원 상당 정품 배터리 증정 [서울=뉴시스]...</td>\n    </tr>\n    <tr>\n      <th>3</th>\n      <td>“편의점 상품, 자율주행 로봇이 배달합니다”</td>\n      <td>https://news.naver.com/main/read.nhn?mode=LS2D...</td>\n      <td>GS리테일·LG전자 협업, 연내 서비스…도난·분실 안전장치 장착 [경향신문...</td>\n    </tr>\n    <tr>\n      <th>4</th>\n      <td>스마트폰 내비에도 ‘증강현실’ 길 안내</td>\n      <td>https://news.naver.com/main/read.nhn?mode=LS2D...</td>\n      <td>LG유플, 5G폰 고객에 서비스 [경향신문]   실제 보이는 도로 모습 위...</td>\n    </tr>\n  </tbody>\n</table>\n</div>"
     },
     "metadata": {},
     "execution_count": 21
    }
   ],
   "source": [
    "news_list_df"
   ]
  },
  {
   "cell_type": "code",
   "execution_count": null,
   "metadata": {},
   "outputs": [],
   "source": []
  }
 ],
 "metadata": {
  "kernelspec": {
   "display_name": "Python 3.6.10 64-bit ('hoseo': conda)",
   "language": "python",
   "name": "python361064bithoseoconda264274678644477794f47fddcf829f7c"
  },
  "language_info": {
   "codemirror_mode": {
    "name": "ipython",
    "version": 3
   },
   "file_extension": ".py",
   "mimetype": "text/x-python",
   "name": "python",
   "nbconvert_exporter": "python",
   "pygments_lexer": "ipython3",
   "version": "3.6.10-final"
  }
 },
 "nbformat": 4,
 "nbformat_minor": 4
}