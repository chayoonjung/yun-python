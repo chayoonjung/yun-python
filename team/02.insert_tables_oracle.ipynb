{
 "cells": [
  {
   "cell_type": "code",
   "execution_count": null,
   "metadata": {},
   "outputs": [],
   "source": [
    "import os\n",
    "# 한글 지원\n",
    "os.putenv('NLS_LANG', '.UTF8')"
   ]
  },
  {
   "cell_type": "code",
   "execution_count": null,
   "metadata": {},
   "outputs": [],
   "source": [
    "def ipchecker():    \n",
    "    import urllib \n",
    "    import re\n",
    "    \n",
    "    pattern = re.compile(b'\\d{1,3}\\.\\d{1,3}\\.\\d{1,3}\\.\\d{1,3}')\n",
    "    dyndns = urllib.request.urlopen('http://checkip.dyndns.org').read()\n",
    "    \n",
    "    wan = re.search(pattern, dyndns).group().decode('utf-8')\n",
    "    \n",
    "    return wan"
   ]
  },
  {
   "cell_type": "code",
   "execution_count": 3,
   "metadata": {},
   "outputs": [],
   "source": [
    "# base db_connect param\n",
    "\n",
    "local_ip = '200.1.220.251:1521/xe' # 원내에서 접속할 db_ip\n",
    "outside_ip = '61.35.152.103:1521/xe' # 원밖에서 접속할 db_ip\n",
    "localhost = 'localhost:1521/xe'\n",
    "\n",
    "db_id = 'begopa' \n",
    "db_pwd = 'begopa1'\n",
    "\n",
    "academy_ip = '61.35.152.66'\n",
    "db_ip = local_ip if academy_ip == ipchecker() else outside_ip\n",
    "# db_ip = localhost # 집에서 본인의 개인 컴퓨터에 설치된 오라클에 접속할때,\n",
    "# db_ip = '127.0.0.1:1521/xe' # 그러내 컴퓨터에 설치된 DB 로 할때, 학원서버로 실행할때는 주석처리하면 됨!!"
   ]
  },
  {
   "cell_type": "code",
   "execution_count": 4,
   "metadata": {},
   "outputs": [],
   "source": [
    "import pickle\n",
    "# load object ::\n",
    "# :: file_nm\n",
    "# :: columns and data_type\n",
    "with open(\"./pickle/col2dict.pickle\",\"rb\") as fr:\n",
    "    col2dict = pickle.load(fr)\n",
    "with open(\"./pickle/table_nm_set.pickle\",\"rb\") as fr:\n",
    "    table_nm_set = pickle.load(fr)"
   ]
  },
  {
   "cell_type": "code",
   "execution_count": 5,
   "metadata": {},
   "outputs": [],
   "source": [
    "path = \"./sg-data/\"\n",
    "desc_path = path + 'desc/'\n",
    "col_path = path + 'col/'\n",
    "origin_path = path + 'origin/'\n",
    "\n",
    "file_list = os.listdir(origin_path)"
   ]
  },
  {
   "cell_type": "code",
   "execution_count": 6,
   "metadata": {},
   "outputs": [],
   "source": [
    "# _, _, _, table_col_set_ = extract_table_columns_set(file_list[0]) # _, :: 임시로 쓰고 버리는 값."
   ]
  },
  {
   "cell_type": "code",
   "execution_count": 7,
   "metadata": {},
   "outputs": [],
   "source": [
    "def extract_table_columns_set(file_nm):\n",
    "    for key, value in table_nm_set.items():\n",
    "        if value in file_nm:\n",
    "            table_nm = key\n",
    "            table_col_set = col2dict[table_nm]\n",
    "            \n",
    "            col_nms = []\n",
    "            col_dtypes = []\n",
    "            \n",
    "            for col in table_col_set:\n",
    "                col_nms.append(col[1][0])\n",
    "                col_dtypes.append(col[1][1])\n",
    "\n",
    "#             col_nms, col_dtypes = col[1][0], col[1][1] for col in table_col_set\n",
    "            \n",
    "            return [table_nm , col_nms, col_dtypes, table_col_set]"
   ]
  },
  {
   "cell_type": "code",
   "execution_count": 8,
   "metadata": {},
   "outputs": [],
   "source": [
    "#######################################\n",
    "# Test : sqlalchemy\n",
    "#######################################\n",
    "\n",
    "# import cx_Oracle\n",
    "# dsn = cx_Oracle.makedsn('200.1.220.251', 1521, sid='xe')\n",
    "# print(dsn)\n",
    "\n",
    "# from sqlalchemy import create_engine\n",
    "\n",
    "# engine = create_engine(\"oracle+cx_oracle://\"+db_id+\":\"+db_pwd+\"@\"+db_ip)"
   ]
  },
  {
   "cell_type": "raw",
   "metadata": {},
   "source": [
    "## 내컴퓨터에 실행시 sql 실행 구문 ( system_local 에서 sql sheet 열고 아래 sql 실행 )\n",
    "\n",
    "drop user begopa cascade;\n",
    "\n",
    "create user begopa identified by \"begopa1\";\n",
    "\n",
    "grant connect, resource to begopa;\n",
    "\n",
    "## 만약에 비번 잘못 입력했을 때 비번 변경 sql\n",
    "\n",
    "alter user begopa IDENTIFIED by \"begopa1\";"
   ]
  },
  {
   "cell_type": "code",
   "execution_count": 9,
   "metadata": {},
   "outputs": [],
   "source": [
    "def create_table_stmt(table_nm):\n",
    "    import re\n",
    "    \n",
    "    sql = ''\n",
    "    \n",
    "    for idx, col in enumerate(col2dict[table_nm]):\n",
    "        if( idx != 0 ):\n",
    "            sql += ' ,'\n",
    "        sql += col[1][0] + ' ' + col[1][1]    \n",
    "    \n",
    "    stmt = ('CREATE TABLE {0}({1})'.format(table_nm, sql)).upper()\n",
    "    stmt = re.sub('VARCHAR2\\((\\d?\\d)\\)',\n",
    "                  'VARCHAR2(\\g<1> CHAR)',\n",
    "                  stmt)\n",
    "    return stmt"
   ]
  },
  {
   "cell_type": "code",
   "execution_count": 10,
   "metadata": {},
   "outputs": [],
   "source": [
    "def create_insert_stmt(table_nm, columns):\n",
    "    questions = ''\n",
    "    for idx, col in enumerate(columns):\n",
    "        if idx:\n",
    "            questions += ', :{0}'.format(col)\n",
    "        else:\n",
    "            questions += ':{0}'.format(col)\n",
    "\n",
    "    sql = ''\n",
    "    sql = 'insert into {table_nm} values({questions})'.format(table_nm=table_nm,\n",
    "                                                                         questions = questions)\n",
    "    \n",
    "    return sql"
   ]
  },
  {
   "cell_type": "code",
   "execution_count": 11,
   "metadata": {},
   "outputs": [],
   "source": [
    "def df_to_oracle(file_nm):\n",
    "    import pandas as pd\n",
    "    \n",
    "    table_columns = extract_table_columns_set(file_nm)\n",
    "    table_nm = table_columns[0]\n",
    "    columns = table_columns[1]\n",
    "    dtypes = table_columns[2]\n",
    "   \n",
    "    df = pd.read_csv(origin_path+file_nm, encoding='euc-kr')\n",
    "    df.fillna(0, inplace=True)\n",
    "    data = df.values.tolist()\n",
    "\n",
    "    del df\n",
    "    \n",
    "    stmt = create_table_stmt(table_nm)\n",
    "    sql = create_insert_stmt(table_nm, columns)\n",
    "\n",
    "\n",
    "    import cx_Oracle\n",
    "    \n",
    "    try:\n",
    "        # establish a new connection\n",
    "        with cx_Oracle.connect(db_id, db_pwd, db_ip, encoding=\"UTF-8\") as connection:\n",
    "            # create a cursor\n",
    "            with connection.cursor() as cursor:\n",
    "                # execute the create statement\n",
    "                cursor.execute(stmt)\n",
    "\n",
    "                # execute the insert statement                \n",
    "                cursor.execute('DELETE FROM ' + table_nm)\n",
    "                cursor.executemany(sql, data)\n",
    "                                                \n",
    "                # execute the 'DROP TABLE' statement\n",
    "#                 cursor.execute('DROP TABLE ' + table_nm)\n",
    "\n",
    "                # commit work\n",
    "                connection.commit()\n",
    "    except cx_Oracle.Error as error:\n",
    "        print('Error occurred:')\n",
    "        print(error)\n",
    "        \n",
    "    print('done')"
   ]
  },
  {
   "cell_type": "code",
   "execution_count": 12,
   "metadata": {},
   "outputs": [
    {
     "name": "stdout",
     "output_type": "stream",
     "text": [
      "00.상권분석서비스(상권-영역).csv\n",
      "Error occurred:\n",
      "ORA-00955: name is already used by an existing object\n",
      "done\n",
      "01.상권분석서비스(상권-추정유동인구).csv\n",
      "Error occurred:\n",
      "ORA-00955: name is already used by an existing object\n",
      "done\n",
      "02.상권분석서비스(상권-집객시설).csv\n",
      "Error occurred:\n",
      "ORA-00955: name is already used by an existing object\n",
      "done\n",
      "03.상권분석서비스(상권배후지-추정유동인구).csv\n",
      "Error occurred:\n",
      "ORA-00955: name is already used by an existing object\n",
      "done\n",
      "04.상권분석서비스(상권배후지-집객시설).csv\n",
      "Error occurred:\n",
      "ORA-00955: name is already used by an existing object\n",
      "done\n",
      "05.상권분석서비스(상권배후지-상주인구).csv\n",
      "Error occurred:\n",
      "ORA-00955: name is already used by an existing object\n",
      "done\n",
      "06.상권분석서비스(상권_상주인구).csv\n",
      "Error occurred:\n",
      "ORA-00955: name is already used by an existing object\n",
      "done\n",
      "07.상권분석서비스(상권배후지-아파트).csv\n",
      "Error occurred:\n",
      "ORA-00955: name is already used by an existing object\n",
      "done\n",
      "08.상권분석서비스(상권배후지-점포).csv\n",
      "Error occurred:\n",
      "ORA-00955: name is already used by an existing object\n",
      "done\n",
      "09.상권분석서비스(상권-상권변화지표).csv\n",
      "Error occurred:\n",
      "ORA-00955: name is already used by an existing object\n",
      "done\n",
      "10.상권분석서비스(행정동별 상권변화지표).csv\n",
      "Error occurred:\n",
      "ORA-00955: name is already used by an existing object\n",
      "done\n",
      "11.상권분석서비스(상권-추정매출)_2019.csv\n",
      "Error occurred:\n",
      "ORA-00955: name is already used by an existing object\n",
      "done\n",
      "12.상권분석서비스(상권-직장인구).csv\n",
      "Error occurred:\n",
      "ORA-00955: name is already used by an existing object\n",
      "done\n",
      "13.상권분석서비스(상권배후지-소득소비).csv\n",
      "Error occurred:\n",
      "ORA-00955: name is already used by an existing object\n",
      "done\n",
      "14.상권분석서비스(상권배후지-직장인구).csv\n",
      "Error occurred:\n",
      "ORA-00955: name is already used by an existing object\n",
      "done\n",
      "15.상권분석서비스(자치구별 상권변화지표).csv\n",
      "Error occurred:\n",
      "ORA-00955: name is already used by an existing object\n",
      "done\n",
      "16.상권분석서비스(상권-아파트).csv\n",
      "Error occurred:\n",
      "ORA-00955: name is already used by an existing object\n",
      "done\n",
      "18.상권분석서비스(상권-점포).csv\n",
      "Error occurred:\n",
      "ORA-00955: name is already used by an existing object\n",
      "done\n",
      "19.상권분석서비스(상권배후지-추정매출).csv\n",
      "Error occurred:\n",
      "ORA-00955: name is already used by an existing object\n",
      "done\n"
     ]
    }
   ],
   "source": [
    "# 각 엑셀 파일 컬럼 영문으로 변경하면서 db 에 넣기\n",
    "for file_nm in file_list:\n",
    "    print(file_nm)\n",
    "    df_to_oracle(file_nm)\n",
    "# df_to_oracle('02.상권분석서비스(상권-집객시설).csv')"
   ]
  },
  {
   "cell_type": "code",
   "execution_count": null,
   "metadata": {},
   "outputs": [],
   "source": []
  },
  {
   "cell_type": "code",
   "execution_count": null,
   "metadata": {},
   "outputs": [],
   "source": []
  }
 ],
 "metadata": {
  "kernelspec": {
   "display_name": "Python 3",
   "language": "python",
   "name": "python3"
  },
  "language_info": {
   "codemirror_mode": {
    "name": "ipython",
    "version": 3
   },
   "file_extension": ".py",
   "mimetype": "text/x-python",
   "name": "python",
   "nbconvert_exporter": "python",
   "pygments_lexer": "ipython3",
   "version": "3.6.10"
  }
 },
 "nbformat": 4,
 "nbformat_minor": 4
}
