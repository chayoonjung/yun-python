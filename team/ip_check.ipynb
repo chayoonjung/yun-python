{
 "metadata": {
  "language_info": {
   "codemirror_mode": {
    "name": "ipython",
    "version": 3
   },
   "file_extension": ".py",
   "mimetype": "text/x-python",
   "name": "python",
   "nbconvert_exporter": "python",
   "pygments_lexer": "ipython3",
   "version": "3.6.10-final"
  },
  "orig_nbformat": 2,
  "kernelspec": {
   "name": "python361064bitstudyabvenv94e9d5191d3d4fa1961333a8be1a7f53",
   "display_name": "Python 3.6.10 64-bit ('study_ab': venv)"
  }
 },
 "nbformat": 4,
 "nbformat_minor": 2,
 "cells": [
  {
   "cell_type": "code",
   "execution_count": 27,
   "metadata": {
    "tags": []
   },
   "outputs": [
    {
     "output_type": "stream",
     "name": "stdout",
     "text": "WAN ip : 61.106.67.33\nLAN ip : 127.0.0.1\n"
    }
   ],
   "source": [
    "import socket \n",
    "import urllib \n",
    "import re \n",
    "\n",
    "lan = socket.gethostbyname(socket.gethostname()) \n",
    "wan = re.search(re.compile(b'\\d{1,3}\\.\\d{1,3}\\.\\d{1,3}\\.\\d{1,3}'), urllib.request.urlopen('http://checkip.dyndns.org').read()).group().decode('utf-8')\n",
    "\n",
    "print('WAN ip : ' + wan) \n",
    "print('LAN ip : ' + lan)"
   ]
  },
  {
   "cell_type": "code",
   "execution_count": null,
   "metadata": {},
   "outputs": [],
   "source": []
  }
 ]
}