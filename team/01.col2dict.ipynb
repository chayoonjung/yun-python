{
 "cells": [
  {
   "cell_type": "code",
   "execution_count": 1,
   "metadata": {},
   "outputs": [],
   "source": [
    "import csv\n",
    "import pandas as pd\n",
    "import numpy as np\n",
    "\n",
    "import os"
   ]
  },
  {
   "cell_type": "code",
   "execution_count": 2,
   "metadata": {},
   "outputs": [],
   "source": [
    "path = \"./sg-data/\"\n",
    "desc = 'desc/'\n",
    "col = 'col/'\n",
    "file_list = os.listdir(path + col)"
   ]
  },
  {
   "cell_type": "code",
   "execution_count": 3,
   "metadata": {},
   "outputs": [],
   "source": [
    "df = pd.read_csv(path + desc +'file_list_desc.csv', encoding='euc-kr')\n",
    "\n",
    "df[['f_name','table_name']]\n",
    "table_nm_set = {}\n",
    "for f_nm, table_nm in zip(df['f_name'], df['table_name']):\n",
    "    table_nm_set[table_nm] = f_nm    \n",
    "# table_nm_set\n",
    "table_nm_list = df['table_name']"
   ]
  },
  {
   "cell_type": "markdown",
   "metadata": {},
   "source": [
    "## # table_nm_set :: \n",
    "### :: { table_nm : file_nm, ... }"
   ]
  },
  {
   "cell_type": "code",
   "execution_count": 4,
   "metadata": {},
   "outputs": [],
   "source": [
    "import pickle\n",
    "\n",
    "with open('./pickle/table_nm_set.pickle', \"wb\") as fw:\n",
    "    pickle.dump(table_nm_set, fw)"
   ]
  },
  {
   "cell_type": "code",
   "execution_count": 5,
   "metadata": {},
   "outputs": [],
   "source": [
    "def col2dict(file_nm):\n",
    "    df = pd.read_csv(path + col + file_nm, encoding='euc-kr')\n",
    "    arr = np.array(df)\n",
    "    col_set = [ [file_col.strip(), [db_col.strip(), d_type.strip()]] for file_col, db_col, d_type in zip(df.columns, arr[0], arr[1]) ]\n",
    "    \n",
    "    return col_set"
   ]
  },
  {
   "cell_type": "code",
   "execution_count": 6,
   "metadata": {},
   "outputs": [
    {
     "data": {
      "text/plain": [
       "(19, 19)"
      ]
     },
     "execution_count": 6,
     "metadata": {},
     "output_type": "execute_result"
    }
   ],
   "source": [
    "len(file_list), len(table_nm_list)"
   ]
  },
  {
   "cell_type": "code",
   "execution_count": 7,
   "metadata": {},
   "outputs": [],
   "source": [
    "table = {}\n",
    "for table_nm, file_nm in zip(table_nm_list,file_list):\n",
    "    tmp = col2dict(file_nm)\n",
    "    table[table_nm] = tmp"
   ]
  },
  {
   "cell_type": "code",
   "execution_count": 8,
   "metadata": {},
   "outputs": [],
   "source": [
    "import pickle\n",
    "\n",
    "with open('./pickle/col2dict.pickle', \"wb\") as fw:\n",
    "    pickle.dump(table, fw)"
   ]
  },
  {
   "cell_type": "markdown",
   "metadata": {},
   "source": [
    "^ 여기까지 완료, v test code"
   ]
  },
  {
   "cell_type": "code",
   "execution_count": 9,
   "metadata": {},
   "outputs": [
    {
     "data": {
      "text/plain": [
       "19"
      ]
     },
     "execution_count": 9,
     "metadata": {},
     "output_type": "execute_result"
    }
   ],
   "source": [
    "keys = table.keys()\n",
    "len(keys)"
   ]
  },
  {
   "cell_type": "markdown",
   "metadata": {},
   "source": [
    "### ^ 여기까지, 파일당 column data dict - table\n",
    "### 필요하면 col2dict.pickle import 하세요."
   ]
  }
 ],
 "metadata": {
  "kernelspec": {
   "display_name": "Python 3",
   "language": "python",
   "name": "python3"
  },
  "language_info": {
   "codemirror_mode": {
    "name": "ipython",
    "version": 3
   },
   "file_extension": ".py",
   "mimetype": "text/x-python",
   "name": "python",
   "nbconvert_exporter": "python",
   "pygments_lexer": "ipython3",
   "version": "3.6.10"
  }
 },
 "nbformat": 4,
 "nbformat_minor": 4
}
