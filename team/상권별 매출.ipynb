{
 "cells": [
  {
   "cell_type": "code",
   "execution_count": 1,
   "metadata": {},
   "outputs": [],
   "source": [
    "# df_01 = pd.read_csv('sg-data/origin/01.상권분석서비스(상권-추정유동인구).csv', encoding='EUC-KR')\n",
    "# df_02 = pd.read_csv('sg-data/origin/02.상권분석서비스(상권-집객시설).csv', encoding='EUC-KR')\n",
    "# # df_03 = pd.read_csv('sg-data/origin/03.상권분석서비스(상권배후지-추정유동인구).csv', encoding='EUC-KR')\n",
    "# # df_04 = pd.read_csv('sg-data/origin/04.상권분석서비스(상권배후지-집객시설).csv', encoding='EUC-KR')\n",
    "# # df_05 = pd.read_csv('sg-data/origin/05.상권분석서비스(상권배후지-상주인구).csv', encoding='EUC-KR')\n",
    "# # df_06 = pd.read_csv('sg-data/origin/06.상권분석서비스(상권_상주인구).csv', encoding='EUC-KR')\n",
    "# # df_07 = pd.read_csv('sg-data/origin/07.상권분석서비스(상권배후지-아파트).csv', encoding='EUC-KR')\n",
    "# # df_08 = pd.read_csv('sg-data/origin/08.상권분석서비스(상권배후지-점포).csv', encoding='EUC-KR')\n",
    "# # df_09 = pd.read_csv('sg-data/origin/09.상권분석서비스(상권-상권변화지표).csv', encoding='EUC-KR')\n",
    "# # df_10 = pd.read_csv('sg-data/origin/10.상권분석서비스(행정동별 상권변화지표).csv', encoding='EUC-KR')\n",
    "# df_11 = pd.read_csv('sg-data/origin/11.상권분석서비스(상권-추정매출)_2019.csv', encoding='EUC-KR')\n",
    "# # df_12 = pd.read_csv('sg-data/origin/12.상권분석서비스(상권-직장인구).csv', encoding='EUC-KR')\n",
    "# # df_13 = pd.read_csv('sg-data/origin/13.상권분석서비스(상권배후지-소득소비).csv', encoding='EUC-KR')\n",
    "# # df_14 = pd.read_csv('sg-data/origin/14.상권분석서비스(상권배후지-직장인구).csv', encoding='EUC-KR')\n",
    "# # df_15 = pd.read_csv('sg-data/origin/15.상권분석서비스(자치구별 상권변화지표).csv', encoding='EUC-KR')\n",
    "# # df_16 = pd.read_csv('sg-data/origin/16.상권분석서비스(상권-아파트).csv', encoding='EUC-KR')\n",
    "# df_18 = pd.read_csv('sg-data/origin/18.상권분석서비스(상권-점포).csv', encoding='EUC-KR')"
   ]
  },
  {
   "cell_type": "code",
   "execution_count": 2,
   "metadata": {},
   "outputs": [],
   "source": [
    "import pandas as pd\n",
    "import numpy as np\n",
    "\n",
    "import matplotlib.pyplot as plt\n",
    "import seaborn as sns"
   ]
  },
  {
   "cell_type": "code",
   "execution_count": 3,
   "metadata": {},
   "outputs": [],
   "source": [
    "df_01 = pd.read_csv('sg-data/origin/01.상권분석서비스(상권-추정유동인구).csv', encoding='EUC-KR')\n",
    "df_02 = pd.read_csv('sg-data/origin/02.상권분석서비스(상권-집객시설).csv', encoding='EUC-KR')\n",
    "df_11 = pd.read_csv('sg-data/origin/11.상권분석서비스(상권-추정매출)_2019.csv', encoding='EUC-KR')\n",
    "df_18 = pd.read_csv('sg-data/origin/18.상권분석서비스(상권-점포).csv', encoding='EUC-KR')"
   ]
  },
  {
   "cell_type": "code",
   "execution_count": 4,
   "metadata": {},
   "outputs": [],
   "source": [
    "# for col in df_01:\n",
    "#     if df_01[\"기준 년코드\"] == 2019:\n",
    "#         df_01 = df_01_2019\n",
    "# df_01_2019\n",
    "\n",
    "#2019년도만 뽑기\n",
    "# 1, 2, 11, 18\n",
    "df_01_2019 = df_01[ df_01['기준 년코드'] == 2019 ]  #상권-유동인구\n",
    "df_02_2019 = df_02[ df_02['기준_년_코드'] == 2019 ] #상권-집객시설\n",
    "df_11_2019 = df_11[ df_11['기준_년_코드'] == 2019 ] #상권-추정매출\n",
    "df_18_2019 = df_18[ df_18['기준_년_코드'] == 2019 ] #상권-점포"
   ]
  },
  {
   "cell_type": "code",
   "execution_count": 5,
   "metadata": {},
   "outputs": [],
   "source": [
    "# df_02_2019.info()"
   ]
  },
  {
   "cell_type": "code",
   "execution_count": 6,
   "metadata": {},
   "outputs": [],
   "source": [
    "df_02_2019=df_02_2019.drop(['공항_수','철도_역_수','버스_터미널_수'], axis=1)"
   ]
  },
  {
   "cell_type": "code",
   "execution_count": 7,
   "metadata": {},
   "outputs": [],
   "source": [
    "df_01_2019=df_01_2019.rename(columns={\" 상권_구분_코드\":'상권_구분_코드', \" 상권_구분_코드_명\":\"상권_구분_코드_명\"})"
   ]
  },
  {
   "cell_type": "code",
   "execution_count": 8,
   "metadata": {},
   "outputs": [
    {
     "data": {
      "text/plain": [
       "array([2, 1], dtype=int64)"
      ]
     },
     "execution_count": 8,
     "metadata": {},
     "output_type": "execute_result"
    }
   ],
   "source": [
    "df_01_2019['기준_분기_코드'].unique()    #1,2\n",
    "# df_03_2019.keys()\n",
    "df_02_2019['기준_분기_코드'].unique()     #1,2\n",
    "df_11_2019['기준_분기_코드'].unique()  #1,2,3,4\n",
    "df_18_2019['기준_분기_코드'].unique()  #1,2,3,4"
   ]
  },
  {
   "cell_type": "code",
   "execution_count": 9,
   "metadata": {},
   "outputs": [],
   "source": [
    "# 유동인구\n",
    "df_01_2019['분기_ID']=df_01_2019['기준 년코드'].astype('str')+'-'+\\\n",
    "                      df_01_2019['기준_분기_코드'].astype('str')+'-'+\\\n",
    "                      df_01_2019['상권_코드'].astype('str')\n",
    "# 집객시설\n",
    "df_02_2019['분기_ID']=df_02_2019['기준_년_코드'].astype('str')+'-'+\\\n",
    "                      df_02_2019['기준_분기_코드'].astype('str')+'-'+\\\n",
    "                      df_02_2019['상권_코드'].astype('str')\n",
    "# 추정매출\n",
    "df_11_2019['분기_ID']=df_11_2019['기준_년_코드'].astype('str')+'-'+\\\n",
    "                      df_11_2019['기준_분기_코드'].astype('str')+'-'+\\\n",
    "                      df_11_2019['상권_코드'].astype('str')\n",
    "# 점포\n",
    "df_18_2019['분기_ID']=df_18_2019['기준_년_코드'].astype('str')+'-'+\\\n",
    "                      df_18_2019['기준_분기_코드'].astype('str')+'-'+\\\n",
    "                      df_18_2019['상권_코드'].astype('str')"
   ]
  },
  {
   "cell_type": "code",
   "execution_count": 10,
   "metadata": {},
   "outputs": [],
   "source": [
    "df_01_2019 = df_01_2019.drop(['기준 년코드','기준_분기_코드','상권_구분_코드','상권_코드'], axis=1)\n",
    "df_02_2019 = df_02_2019.drop(['기준_년_코드','기준_분기_코드','상권_구분_코드','상권_코드'], axis=1)\n",
    "df_11_2019 = df_11_2019.drop(['기준_년_코드','기준_분기_코드','상권_구분_코드','상권_코드'], axis=1)\n",
    "df_18_2019 = df_18_2019.drop(['기준_년_코드','기준_분기_코드','상권_구분_코드','상권_코드'], axis=1)"
   ]
  },
  {
   "cell_type": "code",
   "execution_count": 11,
   "metadata": {},
   "outputs": [],
   "source": [
    "# 상권 유동인구\n",
    "df_01_2019_edited_1 = df_01_2019.loc[df_01_2019['분기_ID'].str.contains('2019-1-', na=False)]\n",
    "df_01_2019_edited_2 = df_01_2019.loc[df_01_2019['분기_ID'].str.contains('2019-2-', na=False)]\n",
    "# 상권 집객시설\n",
    "df_02_2019_edited_1 = df_02_2019.loc[df_02_2019['분기_ID'].str.contains('2019-1-', na=False)]\n",
    "df_02_2019_edited_2 = df_02_2019.loc[df_02_2019['분기_ID'].str.contains('2019-2-', na=False)]\n",
    "# 상권 추정매출\n",
    "df_11_2019_edited_1 = df_11_2019.loc[df_11_2019['분기_ID'].str.contains('2019-1-', na=False)]\n",
    "df_11_2019_edited_2 = df_11_2019.loc[df_11_2019['분기_ID'].str.contains('2019-2-', na=False)]\n",
    "# 상권 점포\n",
    "df_18_2019_edited_1 = df_18_2019.loc[df_18_2019['분기_ID'].str.contains('2019-1-', na=False)]\n",
    "df_18_2019_edited_2 = df_18_2019.loc[df_18_2019['분기_ID'].str.contains('2019-2-', na=False)]"
   ]
  },
  {
   "cell_type": "code",
   "execution_count": null,
   "metadata": {},
   "outputs": [],
   "source": []
  },
  {
   "cell_type": "code",
   "execution_count": 12,
   "metadata": {},
   "outputs": [],
   "source": [
    "# df_02_2019_edited_1.info()\n",
    "# df_18_2019_edited_1.info()"
   ]
  },
  {
   "cell_type": "code",
   "execution_count": 13,
   "metadata": {},
   "outputs": [],
   "source": [
    "# 유동인구\n",
    "df_01_tmp_1 = df_01_2019_edited_1[['분기_ID','상권_구분_코드_명','상권_코드_명','총_유동인구_수']]\n",
    "df_01_tmp_2 = df_01_2019_edited_2[['분기_ID','상권_구분_코드_명','상권_코드_명','총_유동인구_수']]"
   ]
  },
  {
   "cell_type": "code",
   "execution_count": 14,
   "metadata": {},
   "outputs": [],
   "source": [
    "# 집객시설\n",
    "df_02_tmp_1 = df_02_2019_edited_1[['분기_ID','상권_구분_코드_명','상권_코드_명','집객시설_수']]\n",
    "df_02_tmp_2 = df_02_2019_edited_2[['분기_ID','상권_구분_코드_명','상권_코드_명','집객시설_수']]"
   ]
  },
  {
   "cell_type": "code",
   "execution_count": 15,
   "metadata": {},
   "outputs": [],
   "source": [
    "# 추정매출\n",
    "df_11_tmp_1 = df_11_2019_edited_1[['분기_ID', '상권_구분_코드_명','상권_코드_명','서비스_업종_코드_명','당월_매출_금액', '당월_매출_건수']]\n",
    "df_11_tmp_2 = df_11_2019_edited_2[['분기_ID', '상권_구분_코드_명','상권_코드_명','서비스_업종_코드_명','당월_매출_금액', '당월_매출_건수']]"
   ]
  },
  {
   "cell_type": "code",
   "execution_count": 16,
   "metadata": {},
   "outputs": [],
   "source": [
    "# 점포\n",
    "df_18_tmp_1 = df_18_2019_edited_1[['분기_ID','상권_구분_코드_명','상권_코드_명','서비스_업종_코드_명','유사_업종_점포_수']]\n",
    "df_18_tmp_2 = df_18_2019_edited_2[['분기_ID','상권_구분_코드_명','상권_코드_명','서비스_업종_코드_명','유사_업종_점포_수']]"
   ]
  },
  {
   "cell_type": "code",
   "execution_count": 17,
   "metadata": {},
   "outputs": [
    {
     "data": {
      "text/html": [
       "<div>\n",
       "<style scoped>\n",
       "    .dataframe tbody tr th:only-of-type {\n",
       "        vertical-align: middle;\n",
       "    }\n",
       "\n",
       "    .dataframe tbody tr th {\n",
       "        vertical-align: top;\n",
       "    }\n",
       "\n",
       "    .dataframe thead th {\n",
       "        text-align: right;\n",
       "    }\n",
       "</style>\n",
       "<table border=\"1\" class=\"dataframe\">\n",
       "  <thead>\n",
       "    <tr style=\"text-align: right;\">\n",
       "      <th></th>\n",
       "      <th>당월_매출_금액</th>\n",
       "      <th>당월_매출_건수</th>\n",
       "    </tr>\n",
       "    <tr>\n",
       "      <th>상권_구분_코드_명</th>\n",
       "      <th></th>\n",
       "      <th></th>\n",
       "    </tr>\n",
       "  </thead>\n",
       "  <tbody>\n",
       "    <tr>\n",
       "      <th>발달상권</th>\n",
       "      <td>1.041079e+13</td>\n",
       "      <td>395896426</td>\n",
       "    </tr>\n",
       "    <tr>\n",
       "      <th>골목상권</th>\n",
       "      <td>6.181046e+12</td>\n",
       "      <td>313405867</td>\n",
       "    </tr>\n",
       "    <tr>\n",
       "      <th>전통시장</th>\n",
       "      <td>2.367090e+12</td>\n",
       "      <td>91687427</td>\n",
       "    </tr>\n",
       "    <tr>\n",
       "      <th>관광특구</th>\n",
       "      <td>1.495306e+12</td>\n",
       "      <td>48813531</td>\n",
       "    </tr>\n",
       "  </tbody>\n",
       "</table>\n",
       "</div>"
      ],
      "text/plain": [
       "                당월_매출_금액   당월_매출_건수\n",
       "상권_구분_코드_명                         \n",
       "발달상권        1.041079e+13  395896426\n",
       "골목상권        6.181046e+12  313405867\n",
       "전통시장        2.367090e+12   91687427\n",
       "관광특구        1.495306e+12   48813531"
      ]
     },
     "execution_count": 17,
     "metadata": {},
     "output_type": "execute_result"
    }
   ],
   "source": [
    "df_11_tmp_group_1=df_11_tmp_1.groupby(['상권_구분_코드_명']).sum().sort_values(by='당월_매출_금액' ,ascending=False)\n",
    "df_11_tmp_group_1.head()"
   ]
  },
  {
   "cell_type": "code",
   "execution_count": 18,
   "metadata": {},
   "outputs": [],
   "source": [
    "# 서비스업종 기준 1점포당 당월 매출 금액 비교"
   ]
  },
  {
   "cell_type": "code",
   "execution_count": 19,
   "metadata": {},
   "outputs": [],
   "source": [
    "# df_18_tmp_groupby_1 = df_18_tmp_1.groupby(['서비스_업종_코드_명']).sum().sort_values(by='유사_업종_점포_수' ,ascending=False)\n",
    "df_18_tmp_group_1 = df_18_tmp_1.groupby(['상권_구분_코드_명']).sum().sort_values(by='유사_업종_점포_수' ,ascending=False)"
   ]
  },
  {
   "cell_type": "code",
   "execution_count": 20,
   "metadata": {},
   "outputs": [
    {
     "data": {
      "text/html": [
       "<div>\n",
       "<style scoped>\n",
       "    .dataframe tbody tr th:only-of-type {\n",
       "        vertical-align: middle;\n",
       "    }\n",
       "\n",
       "    .dataframe tbody tr th {\n",
       "        vertical-align: top;\n",
       "    }\n",
       "\n",
       "    .dataframe thead th {\n",
       "        text-align: right;\n",
       "    }\n",
       "</style>\n",
       "<table border=\"1\" class=\"dataframe\">\n",
       "  <thead>\n",
       "    <tr style=\"text-align: right;\">\n",
       "      <th></th>\n",
       "      <th>유사_업종_점포_수</th>\n",
       "    </tr>\n",
       "    <tr>\n",
       "      <th>상권_구분_코드_명</th>\n",
       "      <th></th>\n",
       "    </tr>\n",
       "  </thead>\n",
       "  <tbody>\n",
       "    <tr>\n",
       "      <th>골목상권</th>\n",
       "      <td>177559</td>\n",
       "    </tr>\n",
       "    <tr>\n",
       "      <th>발달상권</th>\n",
       "      <td>152176</td>\n",
       "    </tr>\n",
       "    <tr>\n",
       "      <th>전통시장</th>\n",
       "      <td>48324</td>\n",
       "    </tr>\n",
       "    <tr>\n",
       "      <th>관광특구</th>\n",
       "      <td>34114</td>\n",
       "    </tr>\n",
       "  </tbody>\n",
       "</table>\n",
       "</div>"
      ],
      "text/plain": [
       "            유사_업종_점포_수\n",
       "상권_구분_코드_명            \n",
       "골목상권            177559\n",
       "발달상권            152176\n",
       "전통시장             48324\n",
       "관광특구             34114"
      ]
     },
     "execution_count": 20,
     "metadata": {},
     "output_type": "execute_result"
    }
   ],
   "source": [
    "df_18_tmp_group_1"
   ]
  },
  {
   "cell_type": "code",
   "execution_count": 21,
   "metadata": {},
   "outputs": [],
   "source": [
    "# df_11_tmp_groupby_1=df_11_tmp_1.groupby(['서비스_업종_코드_명']).sum().sort_values(by='당월_매출_금액' ,ascending=False)"
   ]
  },
  {
   "cell_type": "code",
   "execution_count": 22,
   "metadata": {},
   "outputs": [],
   "source": [
    "# df_11_tmp_groupby_1.head()"
   ]
  },
  {
   "cell_type": "code",
   "execution_count": 23,
   "metadata": {},
   "outputs": [],
   "source": [
    "# df_11_18_tmp_groupby_1 = df_11_tmp_groupby_1.merge(df_18_tmp_groupby_1, on='서비스_업종_코드_명')\n",
    "df_11_18_tmp_group_1 = df_11_tmp_group_1.merge(df_18_tmp_group_1, on='상권_구분_코드_명')"
   ]
  },
  {
   "cell_type": "code",
   "execution_count": 24,
   "metadata": {},
   "outputs": [],
   "source": [
    "df_11_18_tmp_group_1['매출금액/점포수']=df_11_18_tmp_group_1['당월_매출_금액']/df_11_18_tmp_group_1['유사_업종_점포_수']"
   ]
  },
  {
   "cell_type": "code",
   "execution_count": 25,
   "metadata": {},
   "outputs": [
    {
     "data": {
      "text/html": [
       "<div>\n",
       "<style scoped>\n",
       "    .dataframe tbody tr th:only-of-type {\n",
       "        vertical-align: middle;\n",
       "    }\n",
       "\n",
       "    .dataframe tbody tr th {\n",
       "        vertical-align: top;\n",
       "    }\n",
       "\n",
       "    .dataframe thead th {\n",
       "        text-align: right;\n",
       "    }\n",
       "</style>\n",
       "<table border=\"1\" class=\"dataframe\">\n",
       "  <thead>\n",
       "    <tr style=\"text-align: right;\">\n",
       "      <th></th>\n",
       "      <th>당월_매출_금액</th>\n",
       "      <th>당월_매출_건수</th>\n",
       "      <th>유사_업종_점포_수</th>\n",
       "      <th>매출금액/점포수</th>\n",
       "    </tr>\n",
       "    <tr>\n",
       "      <th>상권_구분_코드_명</th>\n",
       "      <th></th>\n",
       "      <th></th>\n",
       "      <th></th>\n",
       "      <th></th>\n",
       "    </tr>\n",
       "  </thead>\n",
       "  <tbody>\n",
       "    <tr>\n",
       "      <th>발달상권</th>\n",
       "      <td>1.041079e+13</td>\n",
       "      <td>395896426</td>\n",
       "      <td>152176</td>\n",
       "      <td>6.841283e+07</td>\n",
       "    </tr>\n",
       "    <tr>\n",
       "      <th>전통시장</th>\n",
       "      <td>2.367090e+12</td>\n",
       "      <td>91687427</td>\n",
       "      <td>48324</td>\n",
       "      <td>4.898374e+07</td>\n",
       "    </tr>\n",
       "    <tr>\n",
       "      <th>관광특구</th>\n",
       "      <td>1.495306e+12</td>\n",
       "      <td>48813531</td>\n",
       "      <td>34114</td>\n",
       "      <td>4.383261e+07</td>\n",
       "    </tr>\n",
       "    <tr>\n",
       "      <th>골목상권</th>\n",
       "      <td>6.181046e+12</td>\n",
       "      <td>313405867</td>\n",
       "      <td>177559</td>\n",
       "      <td>3.481122e+07</td>\n",
       "    </tr>\n",
       "  </tbody>\n",
       "</table>\n",
       "</div>"
      ],
      "text/plain": [
       "                당월_매출_금액   당월_매출_건수  유사_업종_점포_수      매출금액/점포수\n",
       "상권_구분_코드_명                                                   \n",
       "발달상권        1.041079e+13  395896426      152176  6.841283e+07\n",
       "전통시장        2.367090e+12   91687427       48324  4.898374e+07\n",
       "관광특구        1.495306e+12   48813531       34114  4.383261e+07\n",
       "골목상권        6.181046e+12  313405867      177559  3.481122e+07"
      ]
     },
     "execution_count": 25,
     "metadata": {},
     "output_type": "execute_result"
    }
   ],
   "source": [
    "# df_11_18_tmp_groupby_1=df_11_18_tmp_groupby_1.sort_values(by='매출금액/점포수' ,ascending=False)\n",
    "# df_11_18_tmp_groupby_1\n",
    "\n",
    "df_11_18_tmp_group_1=df_11_18_tmp_group_1.sort_values(by='매출금액/점포수' ,ascending=False)\n",
    "df_11_18_tmp_group_1"
   ]
  },
  {
   "cell_type": "code",
   "execution_count": 26,
   "metadata": {},
   "outputs": [
    {
     "data": {
      "image/png": "[encoded data removed]",
      "text/plain": [
       "<Figure size 1440x720 with 1 Axes>"
      ]
     },
     "metadata": {
      "needs_background": "light"
     },
     "output_type": "display_data"
    }
   ],
   "source": [
    "# plt.rc('font', family=\"Malgun Gothic\")\n",
    "# df_11_18_tmp_groupby_1['매출금액/점포수'].plot(kind='bar',grid=True, color='#8046eb',figsize=(20,10) )\n",
    "\n",
    "# for x, y in enumerate(list(df_11_18_tmp_groupby_1['당월_매출_금액'])):\n",
    "#     txt=\"%d원\" % y\n",
    "#     plt.text(x, y, txt, fontsize=10, color='red',horizontalalignment='center', verticalalignment='bottom')\n",
    "\n",
    "plt.rc('font', family=\"Malgun Gothic\")\n",
    "df_11_18_tmp_group_1['매출금액/점포수'].plot(kind='bar',grid=True, color='#8046eb',figsize=(20,10) )\n",
    "\n",
    "for x, y in enumerate(list(df_11_18_tmp_group_1['매출금액/점포수'])):\n",
    "    txt=\"%d원\" % y\n",
    "    plt.text(x, y, txt, fontsize=10, color='red',horizontalalignment='center', verticalalignment='bottom')\n",
    "\n",
    "plt.show()"
   ]
  },
  {
   "cell_type": "code",
   "execution_count": 27,
   "metadata": {},
   "outputs": [],
   "source": [
    "#  1분기 기준 으로 서비스 업종 매출 비교  => 함 점포당 당월_매출_금액 확인하면 편의점이 가장 높음.\n",
    "\n",
    "# 1분기 기준으로 발달상권 매출이 가장 높음\n",
    "# 1분기 기준으로 골목상권이 낮음"
   ]
  },
  {
   "cell_type": "code",
   "execution_count": null,
   "metadata": {},
   "outputs": [],
   "source": []
  },
  {
   "cell_type": "code",
   "execution_count": 28,
   "metadata": {},
   "outputs": [],
   "source": [
    "#  집객시설과 유동인구 상관성   1,2"
   ]
  },
  {
   "cell_type": "code",
   "execution_count": 29,
   "metadata": {},
   "outputs": [],
   "source": [
    "# df_01_tmp_1 #유동인구\n",
    "# df_02_tmp_1 #집객시설"
   ]
  },
  {
   "cell_type": "code",
   "execution_count": 30,
   "metadata": {},
   "outputs": [],
   "source": [
    "df_01_02_tmp_1 = df_02_tmp_1.merge(df_01_tmp_1, on='분기_ID')"
   ]
  },
  {
   "cell_type": "code",
   "execution_count": 31,
   "metadata": {},
   "outputs": [],
   "source": [
    "df_01_02_tmp_1=df_01_02_tmp_1[['분기_ID','상권_구분_코드_명_x','상권_코드_명_x','집객시설_수','총_유동인구_수']]"
   ]
  },
  {
   "cell_type": "code",
   "execution_count": 32,
   "metadata": {},
   "outputs": [],
   "source": [
    "df_01_02_tmp_1=df_01_02_tmp_1.rename(columns={'상권_구분_코드_명_x':'상권_구분_코드_명', '상권_코드_명_x':'상권_코드_명'})"
   ]
  },
  {
   "cell_type": "code",
   "execution_count": 33,
   "metadata": {},
   "outputs": [
    {
     "data": {
      "text/html": [
       "<div>\n",
       "<style scoped>\n",
       "    .dataframe tbody tr th:only-of-type {\n",
       "        vertical-align: middle;\n",
       "    }\n",
       "\n",
       "    .dataframe tbody tr th {\n",
       "        vertical-align: top;\n",
       "    }\n",
       "\n",
       "    .dataframe thead th {\n",
       "        text-align: right;\n",
       "    }\n",
       "</style>\n",
       "<table border=\"1\" class=\"dataframe\">\n",
       "  <thead>\n",
       "    <tr style=\"text-align: right;\">\n",
       "      <th></th>\n",
       "      <th>분기_ID</th>\n",
       "      <th>상권_구분_코드_명</th>\n",
       "      <th>상권_코드_명</th>\n",
       "      <th>집객시설_수</th>\n",
       "      <th>총_유동인구_수</th>\n",
       "    </tr>\n",
       "  </thead>\n",
       "  <tbody>\n",
       "    <tr>\n",
       "      <th>222</th>\n",
       "      <td>2019-1-1001492</td>\n",
       "      <td>관광특구</td>\n",
       "      <td>명동 남대문 북창동 다동 무교동 관광특구</td>\n",
       "      <td>593</td>\n",
       "      <td>4615196</td>\n",
       "    </tr>\n",
       "    <tr>\n",
       "      <th>201</th>\n",
       "      <td>2019-1-1001135</td>\n",
       "      <td>발달상권</td>\n",
       "      <td>신사동 가로수길</td>\n",
       "      <td>407</td>\n",
       "      <td>2383964</td>\n",
       "    </tr>\n",
       "    <tr>\n",
       "      <th>1289</th>\n",
       "      <td>2019-1-1001494</td>\n",
       "      <td>관광특구</td>\n",
       "      <td>종로?청계 관광특구</td>\n",
       "      <td>327</td>\n",
       "      <td>4267140</td>\n",
       "    </tr>\n",
       "    <tr>\n",
       "      <th>399</th>\n",
       "      <td>2019-1-1001085</td>\n",
       "      <td>발달상권</td>\n",
       "      <td>서울 서초구 강남역</td>\n",
       "      <td>319</td>\n",
       "      <td>3805994</td>\n",
       "    </tr>\n",
       "    <tr>\n",
       "      <th>409</th>\n",
       "      <td>2019-1-1001182</td>\n",
       "      <td>발달상권</td>\n",
       "      <td>홍익대학교 주변</td>\n",
       "      <td>255</td>\n",
       "      <td>6308594</td>\n",
       "    </tr>\n",
       "    <tr>\n",
       "      <th>...</th>\n",
       "      <td>...</td>\n",
       "      <td>...</td>\n",
       "      <td>...</td>\n",
       "      <td>...</td>\n",
       "      <td>...</td>\n",
       "    </tr>\n",
       "    <tr>\n",
       "      <th>231</th>\n",
       "      <td>2019-1-1001344</td>\n",
       "      <td>전통시장</td>\n",
       "      <td>번동시장</td>\n",
       "      <td>1</td>\n",
       "      <td>40</td>\n",
       "    </tr>\n",
       "    <tr>\n",
       "      <th>596</th>\n",
       "      <td>2019-1-1000762</td>\n",
       "      <td>골목상권</td>\n",
       "      <td>서달로10길</td>\n",
       "      <td>1</td>\n",
       "      <td>249339</td>\n",
       "    </tr>\n",
       "    <tr>\n",
       "      <th>1</th>\n",
       "      <td>2019-1-1001361</td>\n",
       "      <td>전통시장</td>\n",
       "      <td>신도봉시장</td>\n",
       "      <td>1</td>\n",
       "      <td>5864</td>\n",
       "    </tr>\n",
       "    <tr>\n",
       "      <th>600</th>\n",
       "      <td>2019-1-1001345</td>\n",
       "      <td>전통시장</td>\n",
       "      <td>새석관시장</td>\n",
       "      <td>1</td>\n",
       "      <td>10299</td>\n",
       "    </tr>\n",
       "    <tr>\n",
       "      <th>425</th>\n",
       "      <td>2019-1-1001346</td>\n",
       "      <td>전통시장</td>\n",
       "      <td>석관시장</td>\n",
       "      <td>1</td>\n",
       "      <td>9674</td>\n",
       "    </tr>\n",
       "  </tbody>\n",
       "</table>\n",
       "<p>1461 rows × 5 columns</p>\n",
       "</div>"
      ],
      "text/plain": [
       "               분기_ID 상권_구분_코드_명                 상권_코드_명  집객시설_수  총_유동인구_수\n",
       "222   2019-1-1001492       관광특구  명동 남대문 북창동 다동 무교동 관광특구     593   4615196\n",
       "201   2019-1-1001135       발달상권                신사동 가로수길     407   2383964\n",
       "1289  2019-1-1001494       관광특구              종로?청계 관광특구     327   4267140\n",
       "399   2019-1-1001085       발달상권              서울 서초구 강남역     319   3805994\n",
       "409   2019-1-1001182       발달상권                홍익대학교 주변     255   6308594\n",
       "...              ...        ...                     ...     ...       ...\n",
       "231   2019-1-1001344       전통시장                    번동시장       1        40\n",
       "596   2019-1-1000762       골목상권                  서달로10길       1    249339\n",
       "1     2019-1-1001361       전통시장                   신도봉시장       1      5864\n",
       "600   2019-1-1001345       전통시장                   새석관시장       1     10299\n",
       "425   2019-1-1001346       전통시장                    석관시장       1      9674\n",
       "\n",
       "[1461 rows x 5 columns]"
      ]
     },
     "execution_count": 33,
     "metadata": {},
     "output_type": "execute_result"
    }
   ],
   "source": [
    "df_01_02_tmp_1.sort_values(by='집객시설_수' ,ascending=False)"
   ]
  },
  {
   "cell_type": "code",
   "execution_count": 34,
   "metadata": {},
   "outputs": [],
   "source": [
    "df_18_tmp_group_1 = df_18_tmp_1.groupby(['상권_코드_명']).sum()"
   ]
  },
  {
   "cell_type": "code",
   "execution_count": 35,
   "metadata": {},
   "outputs": [],
   "source": [
    "df_01_02_18_tmp_1 = df_01_02_tmp_1.merge(df_18_tmp_group_1, on='상권_코드_명')"
   ]
  },
  {
   "cell_type": "code",
   "execution_count": 36,
   "metadata": {},
   "outputs": [
    {
     "data": {
      "text/html": [
       "<div>\n",
       "<style scoped>\n",
       "    .dataframe tbody tr th:only-of-type {\n",
       "        vertical-align: middle;\n",
       "    }\n",
       "\n",
       "    .dataframe tbody tr th {\n",
       "        vertical-align: top;\n",
       "    }\n",
       "\n",
       "    .dataframe thead th {\n",
       "        text-align: right;\n",
       "    }\n",
       "</style>\n",
       "<table border=\"1\" class=\"dataframe\">\n",
       "  <thead>\n",
       "    <tr style=\"text-align: right;\">\n",
       "      <th></th>\n",
       "      <th>분기_ID</th>\n",
       "      <th>상권_구분_코드_명</th>\n",
       "      <th>상권_코드_명</th>\n",
       "      <th>집객시설_수</th>\n",
       "      <th>총_유동인구_수</th>\n",
       "      <th>유사_업종_점포_수</th>\n",
       "    </tr>\n",
       "  </thead>\n",
       "  <tbody>\n",
       "    <tr>\n",
       "      <th>0</th>\n",
       "      <td>2019-1-1000953</td>\n",
       "      <td>골목상권</td>\n",
       "      <td>백제고분로50길</td>\n",
       "      <td>14</td>\n",
       "      <td>296957</td>\n",
       "      <td>271</td>\n",
       "    </tr>\n",
       "    <tr>\n",
       "      <th>1</th>\n",
       "      <td>2019-1-1001361</td>\n",
       "      <td>전통시장</td>\n",
       "      <td>신도봉시장</td>\n",
       "      <td>1</td>\n",
       "      <td>5864</td>\n",
       "      <td>43</td>\n",
       "    </tr>\n",
       "    <tr>\n",
       "      <th>2</th>\n",
       "      <td>2019-1-1001387</td>\n",
       "      <td>전통시장</td>\n",
       "      <td>서교시장</td>\n",
       "      <td>2</td>\n",
       "      <td>53729</td>\n",
       "      <td>58</td>\n",
       "    </tr>\n",
       "    <tr>\n",
       "      <th>3</th>\n",
       "      <td>2019-1-1001366</td>\n",
       "      <td>전통시장</td>\n",
       "      <td>상계시장</td>\n",
       "      <td>1</td>\n",
       "      <td>15197</td>\n",
       "      <td>5</td>\n",
       "    </tr>\n",
       "    <tr>\n",
       "      <th>4</th>\n",
       "      <td>2019-1-1001308</td>\n",
       "      <td>전통시장</td>\n",
       "      <td>영동교골목시장</td>\n",
       "      <td>4</td>\n",
       "      <td>98204</td>\n",
       "      <td>104</td>\n",
       "    </tr>\n",
       "  </tbody>\n",
       "</table>\n",
       "</div>"
      ],
      "text/plain": [
       "            분기_ID 상권_구분_코드_명   상권_코드_명  집객시설_수  총_유동인구_수  유사_업종_점포_수\n",
       "0  2019-1-1000953       골목상권  백제고분로50길      14    296957         271\n",
       "1  2019-1-1001361       전통시장     신도봉시장       1      5864          43\n",
       "2  2019-1-1001387       전통시장      서교시장       2     53729          58\n",
       "3  2019-1-1001366       전통시장      상계시장       1     15197           5\n",
       "4  2019-1-1001308       전통시장   영동교골목시장       4     98204         104"
      ]
     },
     "execution_count": 36,
     "metadata": {},
     "output_type": "execute_result"
    }
   ],
   "source": [
    "df_01_02_18_tmp_1.head()"
   ]
  },
  {
   "cell_type": "code",
   "execution_count": 37,
   "metadata": {},
   "outputs": [
    {
     "data": {
      "text/html": [
       "<div>\n",
       "<style scoped>\n",
       "    .dataframe tbody tr th:only-of-type {\n",
       "        vertical-align: middle;\n",
       "    }\n",
       "\n",
       "    .dataframe tbody tr th {\n",
       "        vertical-align: top;\n",
       "    }\n",
       "\n",
       "    .dataframe thead th {\n",
       "        text-align: right;\n",
       "    }\n",
       "</style>\n",
       "<table border=\"1\" class=\"dataframe\">\n",
       "  <thead>\n",
       "    <tr style=\"text-align: right;\">\n",
       "      <th></th>\n",
       "      <th>집객시설_수</th>\n",
       "      <th>총_유동인구_수</th>\n",
       "      <th>유사_업종_점포_수</th>\n",
       "    </tr>\n",
       "  </thead>\n",
       "  <tbody>\n",
       "    <tr>\n",
       "      <th>집객시설_수</th>\n",
       "      <td>1.000000</td>\n",
       "      <td>0.790142</td>\n",
       "      <td>0.724295</td>\n",
       "    </tr>\n",
       "    <tr>\n",
       "      <th>총_유동인구_수</th>\n",
       "      <td>0.790142</td>\n",
       "      <td>1.000000</td>\n",
       "      <td>0.643464</td>\n",
       "    </tr>\n",
       "    <tr>\n",
       "      <th>유사_업종_점포_수</th>\n",
       "      <td>0.724295</td>\n",
       "      <td>0.643464</td>\n",
       "      <td>1.000000</td>\n",
       "    </tr>\n",
       "  </tbody>\n",
       "</table>\n",
       "</div>"
      ],
      "text/plain": [
       "              집객시설_수  총_유동인구_수  유사_업종_점포_수\n",
       "집객시설_수      1.000000  0.790142    0.724295\n",
       "총_유동인구_수    0.790142  1.000000    0.643464\n",
       "유사_업종_점포_수  0.724295  0.643464    1.000000"
      ]
     },
     "execution_count": 37,
     "metadata": {},
     "output_type": "execute_result"
    }
   ],
   "source": [
    "corr_matrix= df_01_02_18_tmp_1.corr()\n",
    "corr_matrix"
   ]
  },
  {
   "cell_type": "code",
   "execution_count": 38,
   "metadata": {},
   "outputs": [
    {
     "data": {
      "image/png": "[encoded data removed]",
      "text/plain": [
       "<Figure size 720x720 with 2 Axes>"
      ]
     },
     "metadata": {
      "needs_background": "light"
     },
     "output_type": "display_data"
    }
   ],
   "source": [
    "plt.figure(figsize=(10,10))\n",
    "plt.rc('font', family = 'malgun gothic', size=10)\n",
    "sns.heatmap(corr_matrix, annot=True)\n",
    "plt.show()"
   ]
  },
  {
   "cell_type": "code",
   "execution_count": 39,
   "metadata": {},
   "outputs": [],
   "source": [
    "# 상권 집객 시설 수에 따라 유동인구와 연관 있는지 확인\n",
    "# 연관 있음."
   ]
  },
  {
   "cell_type": "code",
   "execution_count": null,
   "metadata": {},
   "outputs": [],
   "source": []
  }
 ],
 "metadata": {
  "kernelspec": {
   "display_name": "Python 3",
   "language": "python",
   "name": "python3"
  },
  "language_info": {
   "codemirror_mode": {
    "name": "ipython",
    "version": 3
   },
   "file_extension": ".py",
   "mimetype": "text/x-python",
   "name": "python",
   "nbconvert_exporter": "python",
   "pygments_lexer": "ipython3",
   "version": "3.7.7"
  }
 },
 "nbformat": 4,
 "nbformat_minor": 4
}
