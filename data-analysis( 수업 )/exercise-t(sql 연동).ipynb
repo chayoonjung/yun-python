{
 "cells": [
  {
   "cell_type": "code",
   "execution_count": 2,
   "metadata": {},
   "outputs": [],
   "source": [
    "# !pip install cx_Oracle  #데이터베이스 오라클 연동 패키지 다운"
   ]
  },
  {
   "cell_type": "code",
   "execution_count": null,
   "metadata": {},
   "outputs": [],
   "source": []
  },
  {
   "cell_type": "code",
   "execution_count": 3,
   "metadata": {},
   "outputs": [],
   "source": [
    "import cx_Oracle"
   ]
  },
  {
   "cell_type": "code",
   "execution_count": 4,
   "metadata": {},
   "outputs": [],
   "source": [
    "connection = cx_Oracle.connect(\"hr\", \"hoseo\",\"localhost:1521/xe\") # 사용자이름, 비번, 서버위치"
   ]
  },
  {
   "cell_type": "code",
   "execution_count": 5,
   "metadata": {},
   "outputs": [],
   "source": [
    "cursor = connection.cursor()  # cursor : 명령 처리기 "
   ]
  },
  {
   "cell_type": "code",
   "execution_count": 6,
   "metadata": {},
   "outputs": [
    {
     "data": {
      "text/plain": [
       "<cx_Oracle.Cursor on <cx_Oracle.Connection to hr@localhost:1521/xe>>"
      ]
     },
     "execution_count": 6,
     "metadata": {},
     "output_type": "execute_result"
    }
   ],
   "source": [
    "cursor.execute(\"select * from departments\") #SQL실행 + 결과를 내부에 저장"
   ]
  },
  {
   "cell_type": "code",
   "execution_count": 7,
   "metadata": {},
   "outputs": [
    {
     "name": "stdout",
     "output_type": "stream",
     "text": [
      "[10][Administration][200][1700]\n",
      "[20][Marketing][201][1800]\n",
      "[30][Purchasing][114][1700]\n",
      "[40][Human Resources][203][2400]\n",
      "[50][Shipping][121][1500]\n",
      "[60][IT][103][1400]\n",
      "[70][Public Relations][204][2700]\n",
      "[80][Sales][145][2500]\n",
      "[90][Executive][100][1700]\n",
      "[100][Finance][108][1700]\n",
      "[110][Accounting][205][1700]\n",
      "[120][Treasury][None][1700]\n",
      "[130][Corporate Tax][None][1700]\n",
      "[140][Control And Credit][None][1700]\n",
      "[150][Shareholder Services][None][1700]\n",
      "[160][Benefits][None][1700]\n",
      "[170][Manufacturing][None][1700]\n",
      "[180][Construction][None][1700]\n",
      "[190][Contracting][None][1700]\n",
      "[200][Operations][None][1700]\n",
      "[210][IT Support][None][1700]\n",
      "[220][NOC][None][1700]\n",
      "[230][IT Helpdesk][None][1700]\n",
      "[240][Government Sales][None][1700]\n",
      "[250][Retail Sales][None][1700]\n",
      "[260][Recruiting][None][1700]\n",
      "[270][Payroll][None][1700]\n"
     ]
    }
   ],
   "source": [
    "for did, dname, mid, lid in cursor:\n",
    "    print(\"[{0}][{1}][{2}][{3}]\".format(did, dname, mid, lid))"
   ]
  },
  {
   "cell_type": "code",
   "execution_count": 8,
   "metadata": {},
   "outputs": [],
   "source": [
    "# 연결종료\n",
    "cursor.close()\n",
    "connection.close()"
   ]
  },
  {
   "cell_type": "code",
   "execution_count": 10,
   "metadata": {},
   "outputs": [],
   "source": [
    "import pandas as pd     #데이터프레임"
   ]
  },
  {
   "cell_type": "code",
   "execution_count": 9,
   "metadata": {},
   "outputs": [],
   "source": [
    "connection = cx_Oracle.connect(\"hr\", \"hoseo\" , \"localhost:1521/xe\") # lacalhost == 127.0.0.1"
   ]
  },
  {
   "cell_type": "code",
   "execution_count": 11,
   "metadata": {},
   "outputs": [],
   "source": [
    "departments = pd.read_sql(\"select * from departments\", connection)"
   ]
  },
  {
   "cell_type": "code",
   "execution_count": 12,
   "metadata": {},
   "outputs": [
    {
     "data": {
      "text/html": [
       "<div>\n",
       "<style scoped>\n",
       "    .dataframe tbody tr th:only-of-type {\n",
       "        vertical-align: middle;\n",
       "    }\n",
       "\n",
       "    .dataframe tbody tr th {\n",
       "        vertical-align: top;\n",
       "    }\n",
       "\n",
       "    .dataframe thead th {\n",
       "        text-align: right;\n",
       "    }\n",
       "</style>\n",
       "<table border=\"1\" class=\"dataframe\">\n",
       "  <thead>\n",
       "    <tr style=\"text-align: right;\">\n",
       "      <th></th>\n",
       "      <th>DEPARTMENT_ID</th>\n",
       "      <th>DEPARTMENT_NAME</th>\n",
       "      <th>MANAGER_ID</th>\n",
       "      <th>LOCATION_ID</th>\n",
       "    </tr>\n",
       "  </thead>\n",
       "  <tbody>\n",
       "    <tr>\n",
       "      <th>0</th>\n",
       "      <td>10</td>\n",
       "      <td>Administration</td>\n",
       "      <td>200.0</td>\n",
       "      <td>1700</td>\n",
       "    </tr>\n",
       "    <tr>\n",
       "      <th>1</th>\n",
       "      <td>20</td>\n",
       "      <td>Marketing</td>\n",
       "      <td>201.0</td>\n",
       "      <td>1800</td>\n",
       "    </tr>\n",
       "    <tr>\n",
       "      <th>2</th>\n",
       "      <td>30</td>\n",
       "      <td>Purchasing</td>\n",
       "      <td>114.0</td>\n",
       "      <td>1700</td>\n",
       "    </tr>\n",
       "    <tr>\n",
       "      <th>3</th>\n",
       "      <td>40</td>\n",
       "      <td>Human Resources</td>\n",
       "      <td>203.0</td>\n",
       "      <td>2400</td>\n",
       "    </tr>\n",
       "    <tr>\n",
       "      <th>4</th>\n",
       "      <td>50</td>\n",
       "      <td>Shipping</td>\n",
       "      <td>121.0</td>\n",
       "      <td>1500</td>\n",
       "    </tr>\n",
       "  </tbody>\n",
       "</table>\n",
       "</div>"
      ],
      "text/plain": [
       "   DEPARTMENT_ID  DEPARTMENT_NAME  MANAGER_ID  LOCATION_ID\n",
       "0             10   Administration       200.0         1700\n",
       "1             20        Marketing       201.0         1800\n",
       "2             30       Purchasing       114.0         1700\n",
       "3             40  Human Resources       203.0         2400\n",
       "4             50         Shipping       121.0         1500"
      ]
     },
     "execution_count": 12,
     "metadata": {},
     "output_type": "execute_result"
    }
   ],
   "source": [
    "departments.head()"
   ]
  },
  {
   "cell_type": "code",
   "execution_count": 13,
   "metadata": {},
   "outputs": [],
   "source": [
    "connection.close()"
   ]
  },
  {
   "cell_type": "code",
   "execution_count": 17,
   "metadata": {},
   "outputs": [
    {
     "name": "stdout",
     "output_type": "stream",
     "text": [
      "[102][Lex][De Haan][2001-01-13 00:00:00]\n",
      "[103][Alexander][Hunold][2006-01-03 00:00:00]\n",
      "[115][Alexander][Khoo][2003-05-18 00:00:00]\n",
      "[185][Alexis][Bull][2005-02-20 00:00:00]\n"
     ]
    }
   ],
   "source": [
    "connection = cx_Oracle.connect(\"hr\", \"hoseo\", \"localhost:1521/xe\")\n",
    "cursor = connection.cursor()\n",
    "\n",
    "cursor.execute(\"\"\"select employee_id, first_name, last_name, hire_date \n",
    "                 from employees\n",
    "                 where lower(first_name) like '%x%'\"\"\")   # 효율적이지 않은 방식\n",
    "for eid, fn, ln, hd in cursor:\n",
    "    print(\"[{0}][{1}][{2}][{3}]\".format(eid, fn, ln, hd))\n",
    "\n",
    "cursor.close()\n",
    "connection.close()"
   ]
  },
  {
   "cell_type": "code",
   "execution_count": 19,
   "metadata": {},
   "outputs": [
    {
     "name": "stdout",
     "output_type": "stream",
     "text": [
      "[102][Lex][De Haan][2001-01-13 00:00:00]\n",
      "[103][Alexander][Hunold][2006-01-03 00:00:00]\n",
      "[115][Alexander][Khoo][2003-05-18 00:00:00]\n",
      "[185][Alexis][Bull][2005-02-20 00:00:00]\n"
     ]
    }
   ],
   "source": [
    "connection = cx_Oracle.connect(\"hr\", \"hoseo\", \"localhost:1521/xe\")\n",
    "cursor = connection.cursor()\n",
    "\n",
    "cursor.execute(\"\"\"select employee_id, first_name, last_name, hire_date \n",
    "                 from employees\n",
    "                 where lower(first_name) like :fn \"\"\", fn='%x%') \n",
    "#SQL에서 \":이름\"은 변수   / :fn <- 변수 / 데이터를 바꿔도 처리가 가능\n",
    "                \n",
    "for eid, fn, ln, hd in cursor:\n",
    "    print(\"[{0}][{1}][{2}][{3}]\".format(eid, fn, ln, hd))\n",
    "\n",
    "cursor.close()\n",
    "connection.close()"
   ]
  },
  {
   "cell_type": "code",
   "execution_count": 28,
   "metadata": {},
   "outputs": [
    {
     "name": "stdin",
     "output_type": "stream",
     "text": [
      "name key :  ch\n"
     ]
    },
    {
     "data": {
      "text/html": [
       "<div>\n",
       "<style scoped>\n",
       "    .dataframe tbody tr th:only-of-type {\n",
       "        vertical-align: middle;\n",
       "    }\n",
       "\n",
       "    .dataframe tbody tr th {\n",
       "        vertical-align: top;\n",
       "    }\n",
       "\n",
       "    .dataframe thead th {\n",
       "        text-align: right;\n",
       "    }\n",
       "</style>\n",
       "<table border=\"1\" class=\"dataframe\">\n",
       "  <thead>\n",
       "    <tr style=\"text-align: right;\">\n",
       "      <th></th>\n",
       "      <th>EMPLOYEE_ID</th>\n",
       "      <th>FIRST_NAME</th>\n",
       "      <th>LAST_NAME</th>\n",
       "      <th>HIRE_DATE</th>\n",
       "    </tr>\n",
       "  </thead>\n",
       "  <tbody>\n",
       "    <tr>\n",
       "      <th>0</th>\n",
       "      <td>134</td>\n",
       "      <td>Michael</td>\n",
       "      <td>Rogers</td>\n",
       "      <td>2006-08-26</td>\n",
       "    </tr>\n",
       "    <tr>\n",
       "      <th>1</th>\n",
       "      <td>153</td>\n",
       "      <td>Christopher</td>\n",
       "      <td>Olsen</td>\n",
       "      <td>2006-03-30</td>\n",
       "    </tr>\n",
       "    <tr>\n",
       "      <th>2</th>\n",
       "      <td>179</td>\n",
       "      <td>Charles</td>\n",
       "      <td>Johnson</td>\n",
       "      <td>2008-01-04</td>\n",
       "    </tr>\n",
       "    <tr>\n",
       "      <th>3</th>\n",
       "      <td>201</td>\n",
       "      <td>Michael</td>\n",
       "      <td>Hartstein</td>\n",
       "      <td>2004-02-17</td>\n",
       "    </tr>\n",
       "  </tbody>\n",
       "</table>\n",
       "</div>"
      ],
      "text/plain": [
       "   EMPLOYEE_ID   FIRST_NAME  LAST_NAME  HIRE_DATE\n",
       "0          134      Michael     Rogers 2006-08-26\n",
       "1          153  Christopher      Olsen 2006-03-30\n",
       "2          179      Charles    Johnson 2008-01-04\n",
       "3          201      Michael  Hartstein 2004-02-17"
      ]
     },
     "execution_count": 28,
     "metadata": {},
     "output_type": "execute_result"
    }
   ],
   "source": [
    "name_key = input(\"name key : \")   # 명령행에서 사용자 입력\n",
    "\n",
    "connection = cx_Oracle.connect(\"hr\", \"hoseo\", \"localhost:1521/xe\")\n",
    "\n",
    "employees=pd.read_sql(\"\"\"select employee_id, first_name, last_name, hire_date \n",
    "                         from employees\n",
    "                         where lower(first_name) like :fn \"\"\",\n",
    "                         connection, \n",
    "                         params={'fn':'%{0}%'.format(name_key) }) \n",
    "\n",
    "connection.close()\n",
    "\n",
    "employees"
   ]
  },
  {
   "cell_type": "code",
   "execution_count": 31,
   "metadata": {},
   "outputs": [
    {
     "name": "stdin",
     "output_type": "stream",
     "text": [
      "country :  canada\n"
     ]
    },
    {
     "data": {
      "text/html": [
       "<div>\n",
       "<style scoped>\n",
       "    .dataframe tbody tr th:only-of-type {\n",
       "        vertical-align: middle;\n",
       "    }\n",
       "\n",
       "    .dataframe tbody tr th {\n",
       "        vertical-align: top;\n",
       "    }\n",
       "\n",
       "    .dataframe thead th {\n",
       "        text-align: right;\n",
       "    }\n",
       "</style>\n",
       "<table border=\"1\" class=\"dataframe\">\n",
       "  <thead>\n",
       "    <tr style=\"text-align: right;\">\n",
       "      <th></th>\n",
       "      <th>FIRST_NAME</th>\n",
       "      <th>LAST_NAME</th>\n",
       "      <th>EMAIL</th>\n",
       "      <th>COUNTRY_NAME</th>\n",
       "    </tr>\n",
       "  </thead>\n",
       "  <tbody>\n",
       "    <tr>\n",
       "      <th>0</th>\n",
       "      <td>Michael</td>\n",
       "      <td>Hartstein</td>\n",
       "      <td>MHARTSTE</td>\n",
       "      <td>Canada</td>\n",
       "    </tr>\n",
       "    <tr>\n",
       "      <th>1</th>\n",
       "      <td>Pat</td>\n",
       "      <td>Fay</td>\n",
       "      <td>PFAY</td>\n",
       "      <td>Canada</td>\n",
       "    </tr>\n",
       "  </tbody>\n",
       "</table>\n",
       "</div>"
      ],
      "text/plain": [
       "  FIRST_NAME  LAST_NAME     EMAIL COUNTRY_NAME\n",
       "0    Michael  Hartstein  MHARTSTE       Canada\n",
       "1        Pat        Fay      PFAY       Canada"
      ]
     },
     "execution_count": 31,
     "metadata": {},
     "output_type": "execute_result"
    }
   ],
   "source": [
    "country_key = input(\"country : \")   # 명령행에서 사용자 입력\n",
    "\n",
    "connection = cx_Oracle.connect(\"hr\", \"hoseo\", \"localhost:1521/xe\")\n",
    "\n",
    "employees=pd.read_sql(\"\"\"select e.first_name, e.last_name, e.email, c.country_name\n",
    "                         from employees e, departments d, locations l, countries c\n",
    "                         where e.department_id = d.department_id and\n",
    "                               d.location_id = l.location_id and\n",
    "                               l.country_id = c.country_id and\n",
    "                               lower(c.country_name) like : country\"\"\",\n",
    "                         connection, \n",
    "                         params={'country':'%{0}%'.format(country_key) }) \n",
    "\n",
    "connection.close()\n",
    "\n",
    "employees"
   ]
  },
  {
   "cell_type": "code",
   "execution_count": null,
   "metadata": {},
   "outputs": [],
   "source": []
  },
  {
   "cell_type": "code",
   "execution_count": null,
   "metadata": {},
   "outputs": [],
   "source": []
  },
  {
   "cell_type": "code",
   "execution_count": null,
   "metadata": {},
   "outputs": [],
   "source": []
  },
  {
   "cell_type": "code",
   "execution_count": 1,
   "metadata": {},
   "outputs": [],
   "source": [
    "import cx_Oracle\n",
    "import numpy as np\n",
    "import pandas as pd"
   ]
  },
  {
   "cell_type": "code",
   "execution_count": 5,
   "metadata": {},
   "outputs": [],
   "source": [
    "# sql 데이터에 데이터 추가하기\n",
    "conn = cx_Oracle.connect(\"hr\", \"hoseo\", \"127.0.01:1521/xe\") \n",
    "cursor=conn.cursor()\n",
    "\n",
    "sql=\"\"\"insert into jobs(job_id, job_title,min_salary, max_salary)\n",
    "        values\n",
    "        (:id, :title, :mins, :maxs)\"\"\"\n",
    "\n",
    "cursor.execute(sql, id='db eng', title='database engineer', mins=4000, maxs=10000)\n",
    "\n",
    "conn.commit()   \n",
    "\n",
    "cursor.close()\n",
    "conn.close()                     "
   ]
  },
  {
   "cell_type": "code",
   "execution_count": 14,
   "metadata": {},
   "outputs": [
    {
     "data": {
      "text/html": [
       "<div>\n",
       "<style scoped>\n",
       "    .dataframe tbody tr th:only-of-type {\n",
       "        vertical-align: middle;\n",
       "    }\n",
       "\n",
       "    .dataframe tbody tr th {\n",
       "        vertical-align: top;\n",
       "    }\n",
       "\n",
       "    .dataframe thead th {\n",
       "        text-align: right;\n",
       "    }\n",
       "</style>\n",
       "<table border=\"1\" class=\"dataframe\">\n",
       "  <thead>\n",
       "    <tr style=\"text-align: right;\">\n",
       "      <th></th>\n",
       "      <th>JOB_ID</th>\n",
       "      <th>JOB_TITLE</th>\n",
       "      <th>MIN_SALARY</th>\n",
       "      <th>MAX_SALARY</th>\n",
       "    </tr>\n",
       "  </thead>\n",
       "  <tbody>\n",
       "  </tbody>\n",
       "</table>\n",
       "</div>"
      ],
      "text/plain": [
       "Empty DataFrame\n",
       "Columns: [JOB_ID, JOB_TITLE, MIN_SALARY, MAX_SALARY]\n",
       "Index: []"
      ]
     },
     "execution_count": 14,
     "metadata": {},
     "output_type": "execute_result"
    }
   ],
   "source": [
    "# sql 데이터에 데이터 조회\n",
    "conn = cx_Oracle.connect(\"hr\", \"hoseo\", \"127.0.01:1521/xe\") \n",
    "cursor=conn.cursor()\n",
    "\n",
    "sql=\"\"\"select * from jobs\n",
    "        where job_id = 'db eng'\"\"\"\n",
    "\n",
    "jobs = pd.read_sql(sql, conn)\n",
    "\n",
    "\n",
    "cursor.close()\n",
    "conn.close()\n",
    "\n",
    "jobs"
   ]
  },
  {
   "cell_type": "code",
   "execution_count": 11,
   "metadata": {},
   "outputs": [],
   "source": [
    "# sql 데이터 업데이트\n",
    "conn = cx_Oracle.connect(\"hr\", \"hoseo\", \"127.0.01:1521/xe\") \n",
    "cursor=conn.cursor()\n",
    "\n",
    "sql=\"\"\"update jobs\n",
    "        set min_salary= :mins, max_salary = :maxs\n",
    "        where job_id = :id \"\"\"\n",
    "\n",
    "cursor.execute(sql, mins=5000, maxs=12000 , id='db eng')\n",
    "\n",
    "conn.commit()   \n",
    "\n",
    "cursor.close()\n",
    "conn.close()"
   ]
  },
  {
   "cell_type": "code",
   "execution_count": 13,
   "metadata": {},
   "outputs": [],
   "source": [
    "# sql 데이터 삭제하기\n",
    "\n",
    "conn = cx_Oracle.connect(\"hr\", \"hoseo\", \"127.0.01:1521/xe\") \n",
    "cursor=conn.cursor()\n",
    "\n",
    "sql=\"\"\"delete from jobs\n",
    "        where job_id = :id \"\"\"\n",
    "\n",
    "cursor.execute(sql, id='db eng')\n",
    "\n",
    "conn.commit()   #최종 저장\n",
    "\n",
    "cursor.close()\n",
    "conn.close()"
   ]
  },
  {
   "cell_type": "code",
   "execution_count": null,
   "metadata": {},
   "outputs": [],
   "source": []
  },
  {
   "cell_type": "code",
   "execution_count": null,
   "metadata": {},
   "outputs": [],
   "source": []
  }
 ],
 "metadata": {
  "kernelspec": {
   "display_name": "Python 3",
   "language": "python",
   "name": "python3"
  },
  "language_info": {
   "codemirror_mode": {
    "name": "ipython",
    "version": 3
   },
   "file_extension": ".py",
   "mimetype": "text/x-python",
   "name": "python",
   "nbconvert_exporter": "python",
   "pygments_lexer": "ipython3",
   "version": "3.7.7"
  }
 },
 "nbformat": 4,
 "nbformat_minor": 4
}
