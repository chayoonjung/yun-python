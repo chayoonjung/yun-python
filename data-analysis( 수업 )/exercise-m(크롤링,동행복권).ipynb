{
 "cells": [
  {
   "cell_type": "code",
   "execution_count": 2,
   "metadata": {
    "tags": []
   },
   "outputs": [],
   "source": [
    "# !pip install bs4\n",
    "# !pip install lxml\n",
    "# !pip install html5lib"
   ]
  },
  {
   "cell_type": "code",
   "execution_count": 3,
   "metadata": {},
   "outputs": [],
   "source": [
    "from bs4 import BeautifulSoup"
   ]
  },
  {
   "cell_type": "code",
   "execution_count": 4,
   "metadata": {},
   "outputs": [],
   "source": [
    "html_doc = \"\"\"\n",
    "<html><head><title>The Dormouse's story</title></head>\n",
    "\n",
    "<p class=\"title\"><b>The Dormouse's story</b></p>\n",
    "\n",
    "<p class=\"story\">Once upon a time there were three little sisters; and their names were\n",
    "<a href=\"http://example.com/elsie\" class=\"sister\" id=\"link1\">Elsie</a>,\n",
    "<a href=\"http://example.com/lacie\" class=\"sister\" id=\"link2\">Lacie</a> and\n",
    "<a href=\"http://example.com/tillie\" class=\"sister\" id=\"link3\">Tillie</a>;\n",
    "and they lived at the bottom of a well.</p>\n",
    "\n",
    "<p class=\"story\">...</p>\n",
    "\"\"\""
   ]
  },
  {
   "cell_type": "code",
   "execution_count": 9,
   "metadata": {},
   "outputs": [],
   "source": [
    "soup = BeautifulSoup(html_doc, \"html5lib\")"
   ]
  },
  {
   "cell_type": "code",
   "execution_count": 10,
   "metadata": {},
   "outputs": [
    {
     "data": {
      "text/plain": [
       "'<html>\\n <head>\\n  <title>\\n   The Dormouse\\'s story\\n  </title>\\n </head>\\n <body>\\n  <p class=\"title\">\\n   <b>\\n    The Dormouse\\'s story\\n   </b>\\n  </p>\\n  <p class=\"story\">\\n   Once upon a time there were three little sisters; and their names were\\n   <a class=\"sister\" href=\"http://example.com/elsie\" id=\"link1\">\\n    Elsie\\n   </a>\\n   ,\\n   <a class=\"sister\" href=\"http://example.com/lacie\" id=\"link2\">\\n    Lacie\\n   </a>\\n   and\\n   <a class=\"sister\" href=\"http://example.com/tillie\" id=\"link3\">\\n    Tillie\\n   </a>\\n   ;\\nand they lived at the bottom of a well.\\n  </p>\\n  <p class=\"story\">\\n   ...\\n  </p>\\n </body>\\n</html>'"
      ]
     },
     "execution_count": 10,
     "metadata": {},
     "output_type": "execute_result"
    }
   ],
   "source": [
    "soup.prettify() #원본 HTML을 표시"
   ]
  },
  {
   "cell_type": "code",
   "execution_count": 31,
   "metadata": {
    "tags": []
   },
   "outputs": [
    {
     "data": {
      "text/plain": [
       "{'href': 'http://example.com/elsie', 'class': ['sister'], 'id': 'link1'}"
      ]
     },
     "execution_count": 31,
     "metadata": {},
     "output_type": "execute_result"
    }
   ],
   "source": [
    "soup.title\n",
    "soup.title.name\n",
    "soup.title.text\n",
    "soup.title.string\n",
    "# soup.b\n",
    "soup.p.name\n",
    "soup.p.text\n",
    "soup.p['class']\n",
    "soup.a #기본적으로 여러개 있더라도 첫번쨰것만 온다.\n",
    "soup.a.attrs"
   ]
  },
  {
   "cell_type": "code",
   "execution_count": 32,
   "metadata": {
    "tags": []
   },
   "outputs": [
    {
     "name": "stdout",
     "output_type": "stream",
     "text": [
      "http://example.com/elsie\n",
      "http://example.com/lacie\n",
      "http://example.com/tillie\n"
     ]
    }
   ],
   "source": [
    "# soup.find_all('a')\n",
    "# soup.find('a')\n",
    "links = soup.find_all('a')\n",
    "for link in links:\n",
    "    print(link.attrs['href'])"
   ]
  },
  {
   "cell_type": "code",
   "execution_count": 33,
   "metadata": {},
   "outputs": [
    {
     "data": {
      "text/plain": [
       "\"The Dormouse's story\\n\\nThe Dormouse's story\\n\\nOnce upon a time there were three little sisters; and their names were\\nElsie,\\nLacie and\\nTillie;\\nand they lived at the bottom of a well.\\n\\n...\\n\""
      ]
     },
     "execution_count": 33,
     "metadata": {},
     "output_type": "execute_result"
    }
   ],
   "source": [
    "soup.get_text()"
   ]
  },
  {
   "cell_type": "code",
   "execution_count": null,
   "metadata": {},
   "outputs": [],
   "source": []
  },
  {
   "cell_type": "code",
   "execution_count": 20,
   "metadata": {},
   "outputs": [],
   "source": [
    "from selenium import webdriver"
   ]
  },
  {
   "cell_type": "code",
   "execution_count": 22,
   "metadata": {},
   "outputs": [],
   "source": [
    "browser = webdriver.Chrome(r'D:\\yun\\dev-tools\\chromedriver.exe')"
   ]
  },
  {
   "cell_type": "code",
   "execution_count": 23,
   "metadata": {},
   "outputs": [],
   "source": [
    "browser.get(\"https://datalab.naver.com/keyword/realtimeList.naver?entertainment=2&groupingLevel=4&marketing=2&news=2&sports=2&where=main\")"
   ]
  },
  {
   "cell_type": "code",
   "execution_count": 14,
   "metadata": {},
   "outputs": [],
   "source": [
    "import time\n",
    "import requests   # urllib / 앱 요청\n",
    "from bs4 import BeautifulSoup"
   ]
  },
  {
   "cell_type": "code",
   "execution_count": null,
   "metadata": {},
   "outputs": [],
   "source": [
    "# BeautifulSoup(browser.page_source, \"html.parser\")"
   ]
  },
  {
   "cell_type": "code",
   "execution_count": null,
   "metadata": {},
   "outputs": [],
   "source": [
    "# resp = requests.get(\"https://datalab.naver.com/keyword/realtimeList.naver?entertainment=2&groupingLevel=4&marketing=2&news=2&sports=2&where=main\")"
   ]
  },
  {
   "cell_type": "code",
   "execution_count": 24,
   "metadata": {},
   "outputs": [],
   "source": [
    "soup = BeautifulSoup(browser.page_source, 'html.parser')"
   ]
  },
  {
   "cell_type": "code",
   "execution_count": 25,
   "metadata": {},
   "outputs": [],
   "source": [
    "# ranks = soup.select(\"#NM_RTK_VIEW_list_wrap ul li a strong\")\n",
    "# keywords = soup.select(\"#NM_RTK_VIEW_list_wrap ul li a span\")\n",
    "ranks = soup.select(\"div.ranking_box ul li span.item_num\")\n",
    "keywords = soup.select(\"div.ranking_box ul li span.item_title\")"
   ]
  },
  {
   "cell_type": "code",
   "execution_count": 37,
   "metadata": {},
   "outputs": [
    {
     "data": {
      "text/plain": [
       "'3'"
      ]
     },
     "execution_count": 37,
     "metadata": {},
     "output_type": "execute_result"
    }
   ],
   "source": [
    "# ranks[:2]\n",
    "ranks[2].text\n",
    "# ranks\n",
    "# keywords"
   ]
  },
  {
   "cell_type": "code",
   "execution_count": 36,
   "metadata": {
    "tags": []
   },
   "outputs": [
    {
     "name": "stdout",
     "output_type": "stream",
     "text": [
      "[1].[아토오겔]\n",
      "[2].[편의점 비말마스크]\n",
      "[3].[로스트아크]\n",
      "[4].[경기도 청소년 교통비 지원]\n",
      "[5].[우아한 거짓말]\n",
      "[6].[아리따움 색다른 초대전]\n",
      "[7].[윤기원]\n",
      "[8].[강경헌]\n",
      "[9].[라이프치히]\n",
      "[10].[아이비 아하]\n",
      "[11].[송지아]\n",
      "[12].[이인영]\n",
      "[13].[코로나 치료제]\n",
      "[14].[미스터 기간제]\n",
      "[15].[평택 고덕 호반써밋2차]\n",
      "[16].[임종석]\n",
      "[17].[도리화가]\n",
      "[18].[에바]\n",
      "[19].[폴더버거]\n",
      "[20].[배달해서 먹힐까]\n"
     ]
    }
   ],
   "source": [
    "for rank, keyword in zip(ranks, keywords):\n",
    "    print(\"[{0}].[{1}]\".format(rank.text, keyword.text))"
   ]
  },
  {
   "cell_type": "code",
   "execution_count": 38,
   "metadata": {},
   "outputs": [],
   "source": [
    "browser.quit()"
   ]
  },
  {
   "cell_type": "code",
   "execution_count": null,
   "metadata": {},
   "outputs": [],
   "source": [
    "# 동행복권 https://dhlottery.co.kr/gameResult.do?method=byWin&drwNo=917 \n",
    "# 위 주소에서 917회차 당첨번호(보너스포함)를 추출해서 리스트에 저장하세요.\n",
    "# requests 모듈과 BeatifulSoup 모듈을 사용하세요"
   ]
  },
  {
   "cell_type": "code",
   "execution_count": null,
   "metadata": {},
   "outputs": [],
   "source": [
    "# 동행복권 https://dhlottery.co.kr/gameResult.do?method=byWin&drwNo=917 \n",
    "# 위 주소에서 1회 ~ 917회차 당첨번호(보너스포함)를 추출해서 데이터프레임에 저장하세요.\n",
    "# 데이터프레임은 행: 회차번호 , 열: 순서번호\n",
    "# requests 모듈과 BeatifulSoup 모듈을 사용하세요"
   ]
  },
  {
   "cell_type": "code",
   "execution_count": 1,
   "metadata": {},
   "outputs": [],
   "source": [
    "import numpy as np\n",
    "import pandas as pd\n",
    "import seaborn as sns\n",
    "import matplotlib.pyplot as plt\n",
    "import time\n",
    "import requests  \n",
    "from bs4 import BeautifulSoup"
   ]
  },
  {
   "cell_type": "code",
   "execution_count": 15,
   "metadata": {},
   "outputs": [],
   "source": [
    "req = requests.get('https://dhlottery.co.kr/gameResult.do?method=byWin&drwNo=917')"
   ]
  },
  {
   "cell_type": "code",
   "execution_count": 16,
   "metadata": {},
   "outputs": [],
   "source": [
    "lotto=req.text"
   ]
  },
  {
   "cell_type": "code",
   "execution_count": 17,
   "metadata": {},
   "outputs": [],
   "source": [
    "soup = BeautifulSoup(lotto, 'html.parser')"
   ]
  },
  {
   "cell_type": "code",
   "execution_count": 70,
   "metadata": {},
   "outputs": [],
   "source": [
    "numbers = soup.select(\".content_winnum_645 .win_result .nums .num p span\")"
   ]
  },
  {
   "cell_type": "code",
   "execution_count": null,
   "metadata": {},
   "outputs": [],
   "source": [
    "type(numbers)   # 타입이 무엇인지 확인후 진행하는게 좋다."
   ]
  },
  {
   "cell_type": "code",
   "execution_count": 82,
   "metadata": {},
   "outputs": [
    {
     "data": {
      "text/plain": [
       "'1'"
      ]
     },
     "execution_count": 82,
     "metadata": {},
     "output_type": "execute_result"
    }
   ],
   "source": [
    "numbers[0].text"
   ]
  },
  {
   "cell_type": "code",
   "execution_count": 101,
   "metadata": {
    "tags": []
   },
   "outputs": [
    {
     "name": "stdout",
     "output_type": "stream",
     "text": [
      "1\n",
      "3\n",
      "23\n",
      "24\n",
      "27\n",
      "43\n",
      "34\n"
     ]
    }
   ],
   "source": [
    "for number in numbers:\n",
    "    print(number.text)"
   ]
  },
  {
   "cell_type": "code",
   "execution_count": null,
   "metadata": {},
   "outputs": [],
   "source": []
  },
  {
   "cell_type": "code",
   "execution_count": 18,
   "metadata": {},
   "outputs": [],
   "source": [
    "import numpy as np\n",
    "import pandas as pd\n",
    "import matplotlib.pyplot as plt\n",
    "import time\n",
    "import requests \n",
    "from bs4 import BeautifulSoup"
   ]
  },
  {
   "cell_type": "code",
   "execution_count": 19,
   "metadata": {},
   "outputs": [
    {
     "data": {
      "text/plain": [
       "[1, 3, 23, 24, 27, 43, 34]"
      ]
     },
     "execution_count": 19,
     "metadata": {},
     "output_type": "execute_result"
    }
   ],
   "source": [
    "resp = requests.get('https://dhlottery.co.kr/gameResult.do?method=byWin&drwNo=917')\n",
    "\n",
    "soup = BeautifulSoup(resp.text, \"html.parser\")\n",
    "\n",
    "num_wins = soup.select('div.nums .num.win span')\n",
    "num_bonus = soup.select('div.nums .num.bonus span')\n",
    "\n",
    "winning_numbers = []\n",
    "for num_win in num_wins:\n",
    "    winning_numbers.append(int(num_win.text))\n",
    "winning_numbers.append(int(num_bonus[0].text))\n",
    "\n",
    "winning_numbers"
   ]
  },
  {
   "cell_type": "code",
   "execution_count": 20,
   "metadata": {},
   "outputs": [],
   "source": [
    "url = 'https://dhlottery.co.kr/gameResult.do?method=byWin&drwNo={0}'\n",
    "all_winning_numbers = {}\n",
    "# for rnd in range(1, 917 + 1):       \n",
    "for rnd in range(910, 917 + 1):\n",
    "    resp = requests.get(url.format(rnd))\n",
    "    soup = BeautifulSoup(resp.text, \"html.parser\")\n",
    "\n",
    "    num_wins = soup.select('div.nums .num.win span')   #span테그만 읽어온다.\n",
    "    num_bonus = soup.select('div.nums .num.bonus span')\n",
    "\n",
    "    winning_numbers = []\n",
    "    for num_win in num_wins:\n",
    "        winning_numbers.append(int(num_win.text))\n",
    "    winning_numbers.append(int(num_bonus[0].text))\n",
    "\n",
    "    all_winning_numbers[rnd] = winning_numbers    #1회차 -> 리스트 / 2회차 -> 리스트 .. 이렇게 나열\n",
    "\n",
    "    time.sleep(0.5)"
   ]
  },
  {
   "cell_type": "code",
   "execution_count": 21,
   "metadata": {},
   "outputs": [
    {
     "data": {
      "text/html": [
       "<div>\n",
       "<style scoped>\n",
       "    .dataframe tbody tr th:only-of-type {\n",
       "        vertical-align: middle;\n",
       "    }\n",
       "\n",
       "    .dataframe tbody tr th {\n",
       "        vertical-align: top;\n",
       "    }\n",
       "\n",
       "    .dataframe thead th {\n",
       "        text-align: right;\n",
       "    }\n",
       "</style>\n",
       "<table border=\"1\" class=\"dataframe\">\n",
       "  <thead>\n",
       "    <tr style=\"text-align: right;\">\n",
       "      <th></th>\n",
       "      <th>num1</th>\n",
       "      <th>num2</th>\n",
       "      <th>num3</th>\n",
       "      <th>num4</th>\n",
       "      <th>num5</th>\n",
       "      <th>num6</th>\n",
       "      <th>bonus</th>\n",
       "    </tr>\n",
       "  </thead>\n",
       "  <tbody>\n",
       "    <tr>\n",
       "      <th>910회차</th>\n",
       "      <td>1</td>\n",
       "      <td>11</td>\n",
       "      <td>17</td>\n",
       "      <td>27</td>\n",
       "      <td>35</td>\n",
       "      <td>39</td>\n",
       "      <td>31</td>\n",
       "    </tr>\n",
       "    <tr>\n",
       "      <th>911회차</th>\n",
       "      <td>4</td>\n",
       "      <td>5</td>\n",
       "      <td>12</td>\n",
       "      <td>14</td>\n",
       "      <td>32</td>\n",
       "      <td>42</td>\n",
       "      <td>35</td>\n",
       "    </tr>\n",
       "    <tr>\n",
       "      <th>912회차</th>\n",
       "      <td>5</td>\n",
       "      <td>8</td>\n",
       "      <td>18</td>\n",
       "      <td>21</td>\n",
       "      <td>22</td>\n",
       "      <td>38</td>\n",
       "      <td>10</td>\n",
       "    </tr>\n",
       "    <tr>\n",
       "      <th>913회차</th>\n",
       "      <td>6</td>\n",
       "      <td>14</td>\n",
       "      <td>16</td>\n",
       "      <td>21</td>\n",
       "      <td>27</td>\n",
       "      <td>37</td>\n",
       "      <td>40</td>\n",
       "    </tr>\n",
       "    <tr>\n",
       "      <th>914회차</th>\n",
       "      <td>16</td>\n",
       "      <td>19</td>\n",
       "      <td>24</td>\n",
       "      <td>33</td>\n",
       "      <td>42</td>\n",
       "      <td>44</td>\n",
       "      <td>27</td>\n",
       "    </tr>\n",
       "    <tr>\n",
       "      <th>915회차</th>\n",
       "      <td>2</td>\n",
       "      <td>6</td>\n",
       "      <td>11</td>\n",
       "      <td>13</td>\n",
       "      <td>22</td>\n",
       "      <td>37</td>\n",
       "      <td>14</td>\n",
       "    </tr>\n",
       "    <tr>\n",
       "      <th>916회차</th>\n",
       "      <td>6</td>\n",
       "      <td>21</td>\n",
       "      <td>22</td>\n",
       "      <td>32</td>\n",
       "      <td>35</td>\n",
       "      <td>36</td>\n",
       "      <td>17</td>\n",
       "    </tr>\n",
       "    <tr>\n",
       "      <th>917회차</th>\n",
       "      <td>1</td>\n",
       "      <td>3</td>\n",
       "      <td>23</td>\n",
       "      <td>24</td>\n",
       "      <td>27</td>\n",
       "      <td>43</td>\n",
       "      <td>34</td>\n",
       "    </tr>\n",
       "  </tbody>\n",
       "</table>\n",
       "</div>"
      ],
      "text/plain": [
       "       num1  num2  num3  num4  num5  num6  bonus\n",
       "910회차     1    11    17    27    35    39     31\n",
       "911회차     4     5    12    14    32    42     35\n",
       "912회차     5     8    18    21    22    38     10\n",
       "913회차     6    14    16    21    27    37     40\n",
       "914회차    16    19    24    33    42    44     27\n",
       "915회차     2     6    11    13    22    37     14\n",
       "916회차     6    21    22    32    35    36     17\n",
       "917회차     1     3    23    24    27    43     34"
      ]
     },
     "execution_count": 21,
     "metadata": {},
     "output_type": "execute_result"
    }
   ],
   "source": [
    "# all_winning_numbers\n",
    "all_winning_numbers_df = \\\n",
    "    pd.DataFrame(all_winning_numbers.values(), \n",
    "                 columns=['num1', 'num2', 'num3', \n",
    "                        'num4', 'num5', 'num6', 'bonus'],\n",
    "                 index=[str(rndx)+'회차'for rndx in all_winning_numbers.keys()])\n",
    "# all_winning_numbers_df.T    # .T :행과 열 위치 바꿈\n",
    "all_winning_numbers_df"
   ]
  },
  {
   "cell_type": "code",
   "execution_count": null,
   "metadata": {},
   "outputs": [],
   "source": []
  }
 ],
 "metadata": {
  "kernelspec": {
   "display_name": "Python 3.6.10 64-bit ('hoseo': conda)",
   "language": "python",
   "name": "python361064bithoseoconda264274678644477794f47fddcf829f7c"
  },
  "language_info": {
   "codemirror_mode": {
    "name": "ipython",
    "version": 3
   },
   "file_extension": ".py",
   "mimetype": "text/x-python",
   "name": "python",
   "nbconvert_exporter": "python",
   "pygments_lexer": "ipython3",
   "version": "3.6.10"
  }
 },
 "nbformat": 4,
 "nbformat_minor": 4
}
