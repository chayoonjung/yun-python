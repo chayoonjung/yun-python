{
 "cells": [
  {
   "cell_type": "code",
   "execution_count": null,
   "metadata": {},
   "outputs": [],
   "source": [
    "# 동행복권 https://dhlottery.co.kr/gameResult.do?method=byWin&drwNo=917 \n",
    "# 위 주소에서 917회차 당첨번호(보너스포함)를 추출해서 리스트에 저장하세요.\n",
    "# requests 모듈과 BeatifulSoup 모듈을 사용하세요"
   ]
  },
  {
   "cell_type": "code",
   "execution_count": null,
   "metadata": {},
   "outputs": [],
   "source": [
    "# 동행복권 https://dhlottery.co.kr/gameResult.do?method=byWin&drwNo=917 \n",
    "# 위 주소에서 1회 ~ 917회차 당첨번호(보너스포함)를 추출해서 데이터프레임에 저장하세요.\n",
    "# 데이터프레임은 행: 회차번호 , 열: 순서번호\n",
    "# requests 모듈과 BeatifulSoup 모듈을 사용하세요"
   ]
  },
  {
   "cell_type": "code",
   "execution_count": 1,
   "metadata": {},
   "outputs": [],
   "source": [
    "import numpy as np\n",
    "import pandas as pd\n",
    "import seaborn as sns\n",
    "import matplotlib.pyplot as plt\n",
    "import time\n",
    "import requests  \n",
    "from bs4 import BeautifulSoup"
   ]
  },
  {
   "cell_type": "code",
   "execution_count": 2,
   "metadata": {},
   "outputs": [],
   "source": [
    "req = requests.get('https://dhlottery.co.kr/gameResult.do?method=byWin&drwNo=917')"
   ]
  },
  {
   "cell_type": "code",
   "execution_count": 3,
   "metadata": {},
   "outputs": [],
   "source": [
    "lotto=req.text\n",
    "soup = BeautifulSoup(lotto, 'html.parser')"
   ]
  },
  {
   "cell_type": "code",
   "execution_count": 26,
   "metadata": {},
   "outputs": [],
   "source": [
    "numbers = soup.select('.win_result .nums .num p span')"
   ]
  },
  {
   "cell_type": "code",
   "execution_count": 27,
   "metadata": {},
   "outputs": [
    {
     "data": {
      "text/plain": [
       "bs4.element.ResultSet"
      ]
     },
     "execution_count": 27,
     "metadata": {},
     "output_type": "execute_result"
    }
   ],
   "source": [
    "type(numbers)"
   ]
  },
  {
   "cell_type": "code",
   "execution_count": 28,
   "metadata": {},
   "outputs": [
    {
     "data": {
      "text/plain": [
       "[<span class=\"ball_645 lrg ball1\">7</span>,\n",
       " <span class=\"ball_645 lrg ball2\">12</span>,\n",
       " <span class=\"ball_645 lrg ball2\">16</span>,\n",
       " <span class=\"ball_645 lrg ball4\">34</span>,\n",
       " <span class=\"ball_645 lrg ball5\">42</span>,\n",
       " <span class=\"ball_645 lrg ball5\">45</span>,\n",
       " <span class=\"ball_645 lrg ball1\">4</span>]"
      ]
     },
     "execution_count": 28,
     "metadata": {},
     "output_type": "execute_result"
    }
   ],
   "source": [
    "numbers"
   ]
  },
  {
   "cell_type": "code",
   "execution_count": 29,
   "metadata": {},
   "outputs": [
    {
     "data": {
      "text/plain": [
       "'7'"
      ]
     },
     "execution_count": 29,
     "metadata": {},
     "output_type": "execute_result"
    }
   ],
   "source": [
    "numbers[0].text"
   ]
  },
  {
   "cell_type": "code",
   "execution_count": 7,
   "metadata": {
    "tags": []
   },
   "outputs": [
    {
     "data": {
      "text/plain": [
       "[1, 3, 23, 24, 27, 43, 34]"
      ]
     },
     "execution_count": 7,
     "metadata": {},
     "output_type": "execute_result"
    }
   ],
   "source": [
    "winning_numbers = []\n",
    "for number in numbers:\n",
    "    winning_numbers.append(int(number.text))\n",
    "winning_numbers"
   ]
  },
  {
   "cell_type": "code",
   "execution_count": 8,
   "metadata": {},
   "outputs": [],
   "source": [
    "url = 'https://dhlottery.co.kr/gameResult.do?method=byWin&drwNo={0}'\n",
    "all_win_num = {}\n",
    "for num in range(196, 197+1):\n",
    "    req = requests.get(url.format(num))\n",
    "    soup = BeautifulSoup(req.text, \"html.parser\")\n",
    "\n",
    "    numbers = soup.select(\".content_winnum_645 .win_result .nums .num p span\")\n",
    "    \n",
    "    winning_numbers = []\n",
    "    for number in numbers:\n",
    "        winning_numbers.append(int(number.text))\n",
    "        \n",
    "    all_win_num[num] = winning_numbers\n",
    "\n",
    "    time.sleep(0.5)"
   ]
  },
  {
   "cell_type": "code",
   "execution_count": 9,
   "metadata": {},
   "outputs": [
    {
     "data": {
      "text/html": [
       "<div>\n",
       "<style scoped>\n",
       "    .dataframe tbody tr th:only-of-type {\n",
       "        vertical-align: middle;\n",
       "    }\n",
       "\n",
       "    .dataframe tbody tr th {\n",
       "        vertical-align: top;\n",
       "    }\n",
       "\n",
       "    .dataframe thead th {\n",
       "        text-align: right;\n",
       "    }\n",
       "</style>\n",
       "<table border=\"1\" class=\"dataframe\">\n",
       "  <thead>\n",
       "    <tr style=\"text-align: right;\">\n",
       "      <th></th>\n",
       "      <th>num1</th>\n",
       "      <th>num2</th>\n",
       "      <th>num3</th>\n",
       "      <th>num4</th>\n",
       "      <th>num5</th>\n",
       "      <th>num6</th>\n",
       "      <th>bonus</th>\n",
       "    </tr>\n",
       "  </thead>\n",
       "  <tbody>\n",
       "    <tr>\n",
       "      <th>196회차</th>\n",
       "      <td>35</td>\n",
       "      <td>36</td>\n",
       "      <td>37</td>\n",
       "      <td>41</td>\n",
       "      <td>44</td>\n",
       "      <td>45</td>\n",
       "      <td>30</td>\n",
       "    </tr>\n",
       "    <tr>\n",
       "      <th>197회차</th>\n",
       "      <td>7</td>\n",
       "      <td>12</td>\n",
       "      <td>16</td>\n",
       "      <td>34</td>\n",
       "      <td>42</td>\n",
       "      <td>45</td>\n",
       "      <td>4</td>\n",
       "    </tr>\n",
       "  </tbody>\n",
       "</table>\n",
       "</div>"
      ],
      "text/plain": [
       "       num1  num2  num3  num4  num5  num6  bonus\n",
       "196회차    35    36    37    41    44    45     30\n",
       "197회차     7    12    16    34    42    45      4"
      ]
     },
     "execution_count": 9,
     "metadata": {},
     "output_type": "execute_result"
    }
   ],
   "source": [
    "all_win_num_df = pd.DataFrame(all_win_num.values(), \n",
    "                              index=[str(num)+'회차'for num in all_win_num.keys()], \n",
    "                              columns=['num1', 'num2', 'num3','num4', 'num5', 'num6', 'bonus'])\n",
    "all_win_num_df"
   ]
  },
  {
   "cell_type": "code",
   "execution_count": null,
   "metadata": {},
   "outputs": [],
   "source": []
  }
 ],
 "metadata": {
  "kernelspec": {
   "display_name": "Python 3.6.10 64-bit ('hoseo': conda)",
   "language": "python",
   "name": "python361064bithoseoconda264274678644477794f47fddcf829f7c"
  },
  "language_info": {
   "codemirror_mode": {
    "name": "ipython",
    "version": 3
   },
   "file_extension": ".py",
   "mimetype": "text/x-python",
   "name": "python",
   "nbconvert_exporter": "python",
   "pygments_lexer": "ipython3",
   "version": "3.6.10"
  }
 },
 "nbformat": 4,
 "nbformat_minor": 4
}
