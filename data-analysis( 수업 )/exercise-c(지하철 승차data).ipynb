{
 "cells": [
  {
   "cell_type": "code",
   "execution_count": null,
   "metadata": {},
   "outputs": [],
   "source": [
    "import csv\n",
    "\n",
    "with open('data-files/t-money.csv', encoding='utf-8') as f:\n",
    "    reader = csv.reader(f)\n",
    "    next(reader)\n",
    "    \n",
    "    for row in reader:\n",
    "        print(row)"
   ]
  },
  {
   "cell_type": "code",
   "execution_count": 14,
   "metadata": {},
   "outputs": [
    {
     "ename": "SyntaxError",
     "evalue": "unexpected EOF while parsing (<ipython-input-14-75983692d1ea>, line 20)",
     "output_type": "error",
     "traceback": [
      "\u001b[1;36m  File \u001b[1;32m\"<ipython-input-14-75983692d1ea>\"\u001b[1;36m, line \u001b[1;32m20\u001b[0m\n\u001b[1;33m    mx_name = float(row[3])\u001b[0m\n\u001b[1;37m                           ^\u001b[0m\n\u001b[1;31mSyntaxError\u001b[0m\u001b[1;31m:\u001b[0m unexpected EOF while parsing\n"
     ]
    }
   ],
   "source": [
    "# 유임승차 비율이 가장 높은 5개의 역을 찾으시오.\n",
    "# 유무임 승차 인원이 가장 많은 5개의 역을 찾으시오.\n",
    "#모든 역의 유무임 승하차 비율 \n",
    "\n",
    "import csv\n",
    "\n",
    "mx = 1000000000\n",
    "mx_name = []\n",
    "mx_data=[]\n",
    "\n",
    "with open('data-files/t-money.csv', encoding='utf-8') as f:\n",
    "    reader = csv.reader(f)\n",
    "    next(reader)\n",
    "    \n",
    "    for row in reader:\n",
    "        try:\n",
    "            mx_data = float(row[4])\n",
    "            if mx_data > mx:\n",
    "                mx = mx_data \n",
    "                mx_name = float(row[3])"
   ]
  },
  {
   "cell_type": "code",
   "execution_count": 18,
   "metadata": {},
   "outputs": [],
   "source": [
    "# 유임승차 비율이 가장 높은 5개의 역을 찾으시오.\n",
    "# 유무임 승차 인원이 가장 많은 5개의 역을 찾으시오.\n",
    "#모든 역의 유무임 승하차 비율 \n",
    "\n",
    "import csv\n",
    "\n",
    "#str_to_int('1','2','3')   ->[1, 2, 3]\n",
    "#str_to_int('1,000','2,000','3,000')   ->[1000, 2000, 3000]\n",
    "\n",
    "def str_to_int(*args):    # * : 여러개를 넣을떄 리스트로 묶어주는~     \n",
    "    results = []          #반목문 돌기\n",
    "    if len(args) > 0:\n",
    "        for arg in args:\n",
    "            results.append(int(arg.replace(',', '')))     \n",
    "            \n",
    "    return results"
   ]
  },
  {
   "cell_type": "code",
   "execution_count": 20,
   "metadata": {},
   "outputs": [
    {
     "data": {
      "text/plain": [
       "[1000, 2000, 3000, 56, -12]"
      ]
     },
     "execution_count": 20,
     "metadata": {},
     "output_type": "execute_result"
    }
   ],
   "source": [
    "str_to_int('1,000','2,000','3,000', '56' , '-12')    #여러개를 보낼때 하나로 묶어서 콤마(,)는 없애고 받을수 있다."
   ]
  },
  {
   "cell_type": "code",
   "execution_count": 21,
   "metadata": {},
   "outputs": [],
   "source": [
    "with open('data-files/t-money.csv', encoding=\"utf-8\") as f:\n",
    "    reader = csv.reader(f)\n",
    "    next(reader)\n",
    "    \n",
    "    rates_by_station = {}              #명령 기준으로 계산하는 값을 넣음.\n",
    "    \n",
    "    for row in reader:\n",
    "        #print(row[4], row[5])   # 여기서 프린트 할때는 [4]: 유임승차 [5]:유임하차 ..\n",
    "        #변환한 results 에서는 [0]:유임승차, [1]:유임하차, [2]: 무임승차, [3]:무임하차\n",
    "        results = str_to_int(row[4], row[5], row[6], row[7])\n",
    "        rate1 = results[0] / ( results[0] + results[2] ) if results[0] + results[2] > 0 else -1    \n",
    "        rate2 = results[1] / ( results[1] + results[3] ) if results[1] + results[3] > 0 else -1    \n",
    "        rates_by_station[row[3]] = results + [round(rate1, 5), round(rate2, 5)]\n",
    "        \n",
    "#print(rates_by_station)"
   ]
  },
  {
   "cell_type": "code",
   "execution_count": null,
   "metadata": {},
   "outputs": [],
   "source": [
    "#rates_by_station    #유임승차, 유임하차, 무임승차, 무임하차, 유임승차 비율, 무임하차 비율"
   ]
  },
  {
   "cell_type": "code",
   "execution_count": 31,
   "metadata": {},
   "outputs": [],
   "source": [
    "sorted_rates = sorted(rates_by_station.items(),   #정렬할 기준 key와 value를 가져와 정렬\n",
    "                      key=lambda kv: kv[1][0]+kv[1][2],    # 정렬 기준 kv[1][0]  ->이게[1번의[0번기준으로]] 정렬하겠다.\n",
    "                      reverse=True)               #오름차순 / 내림차순 "
   ]
  },
  {
   "cell_type": "code",
   "execution_count": 32,
   "metadata": {},
   "outputs": [
    {
     "data": {
      "text/plain": [
       "[('강남', [2010031, 2024007, 145213, 128063, 0.93262, 0.94049]),\n",
       " ('신림', [1484360, 1419570, 187519, 188294, 0.88784, 0.88289]),\n",
       " ('구로디지털단지', [1342972, 1339280, 135028, 135833, 0.90864, 0.90792]),\n",
       " ('서울대입구(관악구청)', [1086414, 1065344, 158038, 152879, 0.87301, 0.87451]),\n",
       " ('삼성(무역센터)', [1101158, 1134977, 89028, 82495, 0.9252, 0.93224]),\n",
       " ('역삼', [980725, 1099090, 130408, 131735, 0.88264, 0.89297]),\n",
       " ('영등포', [867045, 905453, 192731, 192231, 0.81814, 0.82488]),\n",
       " ('가산디지털단지', [946894, 947633, 73862, 69312, 0.92764, 0.93184]),\n",
       " ('양재(서초구청)', [790400, 865279, 118047, 119721, 0.87006, 0.87846]),\n",
       " ('수유(강북구청)', [732092, 717716, 169650, 168581, 0.81186, 0.80979])]"
      ]
     },
     "execution_count": 32,
     "metadata": {},
     "output_type": "execute_result"
    }
   ],
   "source": [
    "#rates_by_station.items()\n",
    "sorted_rates[:10] "
   ]
  },
  {
   "cell_type": "code",
   "execution_count": 56,
   "metadata": {},
   "outputs": [],
   "source": [
    "# 유임승차 비율이 가장 높은 5개의 역을 찾으시오.\n",
    "# 유무임 승차 인원이 가장 많은 5개의 역을 찾으시오.\n",
    "#모든 역의 유무임 승하차 비율 \n",
    "\n",
    "\n",
    "#2개의 함수 먼저 만들고 시작함. \n",
    "\n",
    "def str_to_int(*args):    # * : 무엇이 들어갈지 몇개 들어갈지 알수없음. 여러개를 넣을떄 리스트로 묶어주는~     \n",
    "    results = []          #반목문 돌기\n",
    "    if len(args) > 0:      #\n",
    "        for arg in args:\n",
    "            results.append(int(arg.replace(',', '')))     \n",
    "            \n",
    "    return results\n",
    "\n",
    "def add_list_by_element(list1, list2): \n",
    "    #add_list_by_elemen : 값1(Ture일때 값.) if 조건식 eles 값2(False일때 값)        /2개의 리스트를 받아서\n",
    "    l, s = (list1, list2) if len(list1) >= len(list2) \\\n",
    "                            else (list2, list1)                    #2개의 리스트중 누가더 긴지 확인 해서 긴건 l에 해당. 짧은것 s\n",
    "                         \n",
    "\n",
    "    result = l.copy()                                          # 긴 리스트 복사해 가져와\n",
    "    for idx, e in enumerate(s):                               #짧은 리스트 반복해서 합을 구함. (빈 곳은 0으로 진행.)\n",
    "            result[idx] = s[idx] + l[idx]\n",
    "            \n",
    "    return result"
   ]
  },
  {
   "cell_type": "code",
   "execution_count": 54,
   "metadata": {},
   "outputs": [],
   "source": [
    "with open('data-files/t-money.csv', encoding=\"utf-8\") as f:\n",
    "    reader = csv.reader(f)\n",
    "    next(reader)\n",
    "    \n",
    "    rates_by_station = {}\n",
    "    \n",
    "    for row in reader:\n",
    "        #results [0]:유임승차, [1]:유임하차, [2]:무임승차, [3]:무임하차\n",
    "        results = str_to_int(row[4], row[5], row[6], row[7])  #새로 들어온 값\n",
    "        if row[3] in rates_by_station:  #이미 같은역 이름이 있다면\n",
    "            prev_data = rates_by_station[row[3]]                #기존 등록된 값\n",
    "            results = add_list_by_element(prev_data, results)       #누적된 값\n",
    "           \n",
    "        rate1 = results[0] / ( results[0] + results[2] ) if results[0] + results[2] > 0 else -1                  #누적된 값으로 rate를 가져온다.\n",
    "        rate2 = results[1] / ( results[1] + results[3] ) if results[1] + results[3] > 0 else -1\n",
    "        rates_by_station[row[3]] = results[:4] + [round(rate1, 5), round(rate2, 5)]            \n",
    "\n",
    "sorted_rates = sorted(rates_by_station.items(),\n",
    "                      key=lambda kv: kv[1][4],\n",
    "                      #key=lambda kv: kv[1][0]+kv[1][2],    \n",
    "                      reverse=True)             "
   ]
  },
  {
   "cell_type": "code",
   "execution_count": 55,
   "metadata": {},
   "outputs": [
    {
     "data": {
      "text/plain": [
       "[('청라국제도시', [136124, 128405, 8596, 8547, 0.9406, 0.93759]),\n",
       " ('신논현', [716430, 733811, 46978, 44730, 0.93846, 0.94255]),\n",
       " ('홍대입구', [1440517, 1525232, 95456, 92530, 0.93785, 0.9428]),\n",
       " ('한양대', [161644, 178847, 11327, 11787, 0.93452, 0.93817]),\n",
       " ('강남', [2010031, 2024007, 145213, 128063, 0.93262, 0.94049]),\n",
       " ('여의도', [1017049, 1042139, 73661, 68849, 0.93247, 0.93803]),\n",
       " ('가산디지털단지', [1322470, 1391672, 101848, 101068, 0.92849, 0.93229]),\n",
       " ('마곡나루(서울식물원)', [377856, 368354, 29499, 29070, 0.92758, 0.92685]),\n",
       " ('삼성(무역센터)', [1101158, 1134977, 89028, 82495, 0.9252, 0.93224]),\n",
       " ('한강진', [154970, 186142, 12718, 12623, 0.92416, 0.93649]),\n",
       " ('광화문(세종문화회관)', [661603, 697401, 55172, 53443, 0.92303, 0.92882]),\n",
       " ('합정', [1016300, 1060671, 88006, 85183, 0.92031, 0.92566]),\n",
       " ('신사', [690416, 748596, 60137, 57972, 0.91988, 0.92813]),\n",
       " ('여의나루', [257613, 266305, 23117, 21738, 0.91765, 0.92453]),\n",
       " ('압구정로데오', [381632, 443842, 34275, 33448, 0.91759, 0.92992]),\n",
       " ('검암', [164047, 160701, 15265, 15342, 0.91487, 0.91285]),\n",
       " ('광명', [71660, 56604, 6693, 5893, 0.91458, 0.90571]),\n",
       " ('망포', [287842, 272189, 27157, 26068, 0.91379, 0.9126]),\n",
       " ('을지로입구', [820905, 840953, 78670, 73616, 0.91255, 0.91951]),\n",
       " ('부평구청', [253810, 204228, 24388, 21367, 0.91234, 0.90529])]"
      ]
     },
     "execution_count": 55,
     "metadata": {},
     "output_type": "execute_result"
    }
   ],
   "source": [
    "#rates_by_station\n",
    "sorted_rates[:20]"
   ]
  },
  {
   "cell_type": "code",
   "execution_count": null,
   "metadata": {},
   "outputs": [],
   "source": []
  },
  {
   "cell_type": "code",
   "execution_count": 69,
   "metadata": {},
   "outputs": [
    {
     "data": {
      "image/png": "[encoded data removed]",
      "text/plain": [
       "<Figure size 432x288 with 1 Axes>"
      ]
     },
     "metadata": {},
     "output_type": "display_data"
    },
    {
     "data": {
      "image/png": "[encoded data removed]",
      "text/plain": [
       "<Figure size 432x288 with 1 Axes>"
      ]
     },
     "metadata": {},
     "output_type": "display_data"
    }
   ],
   "source": [
    "import matplotlib.pyplot as plt\n",
    "\n",
    "first = sorted_rates[0] \n",
    "plt.pie([first[1][4], 1-first[1][4]],\n",
    "        labels=['charged','free'],\n",
    "        colors=['blue', 'red'],\n",
    "        autopct = '%1.f%%')     # autopct = 비율을 보여줌.\n",
    "\n",
    "plt.show()\n",
    "\n",
    "import matplotlib.pyplot as plt\n",
    "\n",
    "first = sorted_rates[0] \n",
    "_, texts, _ = plt.pie([first[1][4], 1-first[1][4]],\n",
    "                        labels=['charged','free'],\n",
    "                        colors=['yellow', 'red'],\n",
    "                        autopct = '%1.f%%')     # autopct = 비율을 보여줌.\n",
    "for t in texts:\n",
    "    t.set_color('green')  # 텍스트\n",
    "    \n",
    "plt.savefig(first[0] + '.png')     #시각화한 표를 사진 파일로 저장.\n",
    "plt.show()"
   ]
  },
  {
   "cell_type": "code",
   "execution_count": null,
   "metadata": {},
   "outputs": [],
   "source": []
  }
 ],
 "metadata": {
  "kernelspec": {
   "display_name": "Python 3",
   "language": "python",
   "name": "python3"
  },
  "language_info": {
   "codemirror_mode": {
    "name": "ipython",
    "version": 3
   },
   "file_extension": ".py",
   "mimetype": "text/x-python",
   "name": "python",
   "nbconvert_exporter": "python",
   "pygments_lexer": "ipython3",
   "version": "3.6.10"
  }
 },
 "nbformat": 4,
 "nbformat_minor": 4
}
