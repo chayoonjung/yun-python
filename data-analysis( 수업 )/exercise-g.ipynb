{
 "cells": [
  {
   "cell_type": "code",
   "execution_count": 1,
   "metadata": {},
   "outputs": [],
   "source": [
    "# !conda info --envs\n",
    "# !pip install pandas"
   ]
  },
  {
   "cell_type": "code",
   "execution_count": 2,
   "metadata": {},
   "outputs": [],
   "source": [
    "import numpy as np\n",
    "import pandas as pd    \n",
    "# form pandas import Series, DataFrame 이렇게 할수도 있음."
   ]
  },
  {
   "cell_type": "code",
   "execution_count": 3,
   "metadata": {
    "tags": []
   },
   "outputs": [
    {
     "output_type": "stream",
     "name": "stderr",
     "text": "C:\\ProgramData\\Miniconda3\\envs\\hoseo\\lib\\site-packages\\ipykernel_launcher.py:1: DeprecationWarning: The default dtype for empty Series will be 'object' instead of 'float64' in a future version. Specify a dtype explicitly to silence this warning.\n  \"\"\"Entry point for launching an IPython kernel.\n"
    },
    {
     "output_type": "execute_result",
     "data": {
      "text/plain": "Series([], dtype: float64)"
     },
     "metadata": {},
     "execution_count": 3
    }
   ],
   "source": [
    "sa = pd.Series()\n",
    "sa"
   ]
  },
  {
   "cell_type": "code",
   "execution_count": 4,
   "metadata": {},
   "outputs": [
    {
     "output_type": "execute_result",
     "data": {
      "text/plain": "o    a\np    b\nq    c\nr    d\ndtype: object"
     },
     "metadata": {},
     "execution_count": 4
    }
   ],
   "source": [
    "# sb = pd.Series(np.array(['a', 'b', 'c', 'd']))\n",
    "sb = pd.Series(np.array(['a', 'b', 'c', 'd']),\n",
    "               index = ['o', 'p', 'q', 'r'])\n",
    "#sb = pd.Series(np.array(['a', 'b', 'c', 'd']),\n",
    "#               index = ['o', 'p', 'q', 'r', 's'])  ##데이터 / 인덱스 수 같지 않으면 error\n",
    "sb"
   ]
  },
  {
   "cell_type": "code",
   "execution_count": 5,
   "metadata": {},
   "outputs": [
    {
     "output_type": "execute_result",
     "data": {
      "text/plain": "d    4.0\nc    3.0\nb    2.0\na    1.0\no    NaN\ndtype: float64"
     },
     "metadata": {},
     "execution_count": 5
    }
   ],
   "source": [
    "# sc = pd.Series({'a' : 1, 'b' : 2, 'c' : 3, 'd' : 4} )\n",
    "# sc = pd.Series({'a' : 1, 'b' : 2, 'c' : 3, 'd' : 4},\n",
    "#               index = ['d','c','b','a'])\n",
    "sc = pd.Series({'a' : 1, 'b' : 2, 'c' : 3, 'd' : 4},\n",
    "              index = ['d','c','b','a','o'])         #인덱스5개, 데이터4개 -> 빈데이터 Nan이라 뜬다. (Series랑 다르게 오류가 안뜨고 Nan으로 뜬다.)\n",
    "sc"
   ]
  },
  {
   "cell_type": "code",
   "execution_count": 6,
   "metadata": {
    "tags": []
   },
   "outputs": [
    {
     "output_type": "stream",
     "name": "stdout",
     "text": "3\n2\nc    3\nd    4\ne    5\ndtype: int32\nb    2\nc    3\ndtype: int32\na    1\nd    4\ne    5\ndtype: int32\n"
    }
   ],
   "source": [
    "sd = pd.Series(np.arange(1,6),\n",
    "               index = list('abcde'))\n",
    "# sd\n",
    "print(sd['c'])\n",
    "print(sd[1])  # Series는 index가 지정되어도 순서번호로 데이터를 읽을 수 있다.\n",
    "print(sd['c':'e'])  # index로 slicing -> [from , to] -> 마지막 요소 포함\n",
    "print(sd[1:3])  # 순서번호로 slicing -> [from , to] ->마지막요소 포함x\n",
    "print(sd[['a','d','e']])\n",
    "# print(sd['f']) # 없는 키를 사용하면 error. "
   ]
  },
  {
   "cell_type": "code",
   "execution_count": 7,
   "metadata": {
    "tags": []
   },
   "outputs": [
    {
     "output_type": "stream",
     "name": "stdout",
     "text": "0\n0  1\n1  2\n2  3\n3  4\n4  5\n"
    }
   ],
   "source": [
    "data = [1,2,3,4,5] \n",
    "dfa = pd.DataFrame(data) \n",
    "print(dfa)"
   ]
  },
  {
   "cell_type": "code",
   "execution_count": 8,
   "metadata": {
    "tags": []
   },
   "outputs": [
    {
     "output_type": "stream",
     "name": "stdout",
     "text": "Name   Age\n0    Alex  10.0\n1     Bob  12.0\n2  Clarke  13.0\n"
    }
   ],
   "source": [
    "data = [['Alex',10],['Bob',12],['Clarke',13]] \n",
    "# dfb = pd.DataFrame(data)\n",
    "dfb = pd.DataFrame(data,columns=['Name','Age'],dtype=float) \n",
    "print(dfb)"
   ]
  },
  {
   "cell_type": "code",
   "execution_count": 9,
   "metadata": {
    "tags": []
   },
   "outputs": [
    {
     "output_type": "stream",
     "name": "stdout",
     "text": "Name  Age\nrank1    Tom   28\nrank2   Jack   34\nrank3  Steve   29\nrank4  Ricky   42\n"
    }
   ],
   "source": [
    "data = {'Name':['Tom', 'Jack', 'Steve', 'Ricky'],\n",
    "        'Age':[28,34,29,42]} \n",
    "# dfc = pd.DataFrame(data) \n",
    "dfc = pd.DataFrame(data, index=['rank1','rank2','rank3','rank4']) \n",
    "print(dfc)"
   ]
  },
  {
   "cell_type": "code",
   "execution_count": 10,
   "metadata": {
    "tags": []
   },
   "outputs": [
    {
     "output_type": "stream",
     "name": "stdout",
     "text": "a   b     c\n0  1   2   NaN\n1  5  10  20.0\n"
    }
   ],
   "source": [
    "data = [{'a': 1, 'b': 2},\n",
    "        {'a': 5, 'b': 10, 'c': 20}] \n",
    "dfd = pd.DataFrame(data) \n",
    "print(dfd)"
   ]
  },
  {
   "cell_type": "code",
   "execution_count": 11,
   "metadata": {
    "tags": []
   },
   "outputs": [
    {
     "output_type": "stream",
     "name": "stdout",
     "text": "a   b\nfirst   1   2\nsecond  5  10\n        a  b1\nfirst   1 NaN\nsecond  5 NaN\n"
    }
   ],
   "source": [
    "data = [{'a': 1, 'b': 2},{'a': 5, 'b': 10, 'c': 20}]\n",
    "dfe1 = pd.DataFrame(data, \n",
    "                    index=['first', 'second'], \n",
    "                    columns=['a', 'b']) \n",
    "dfe2 = pd.DataFrame(data, \n",
    "                    index=['first', 'second'], \n",
    "                    columns=['a', 'b1'])\n",
    "print(dfe1)  \n",
    "print(dfe2)"
   ]
  },
  {
   "cell_type": "code",
   "execution_count": 12,
   "metadata": {
    "tags": []
   },
   "outputs": [
    {
     "output_type": "stream",
     "name": "stdout",
     "text": "one  two\na  1.0    1\nb  2.0    2\nc  3.0    3\nd  NaN    4\n"
    }
   ],
   "source": [
    "d = {'one' : pd.Series([1, 2, 3], index=['a', 'b', 'c']), \n",
    "     'two' : pd.Series([1, 2, 3, 4], index=['a', 'b', 'c', 'd'])}\n",
    "dff = pd.DataFrame(d) \n",
    "print(dff)\n"
   ]
  },
  {
   "cell_type": "code",
   "execution_count": 13,
   "metadata": {
    "tags": []
   },
   "outputs": [
    {
     "output_type": "stream",
     "name": "stdout",
     "text": "a    1.0\nb    2.0\nc    3.0\nd    NaN\nName: one, dtype: float64\n   one  two\na  1.0    1\nb  2.0    2\nc  3.0    3\nd  NaN    4\n********************\n   one  two\na  1.0    1\nb  2.0    2\n********************\n   one  two  three\na  1.0    1   10.0\nb  2.0    2   20.0\nc  3.0    3   30.0\nd  NaN    4    NaN\n   one  two  three  four\na  1.0    1   10.0  11.0\nb  2.0    2   20.0  22.0\nc  3.0    3   30.0  33.0\nd  NaN    4    NaN   NaN\n"
    }
   ],
   "source": [
    "d = {'one' : pd.Series([1, 2, 3], index=['a', 'b', 'c']), \n",
    "     'two' : pd.Series([1, 2, 3, 4], index=['a', 'b', 'c', 'd'])}\n",
    "dfg = pd.DataFrame(d) \n",
    "# print(dfg['one'])  #컬럼 이름으로 인덱싱\n",
    "print(dfg.one)\n",
    "# print(dfg['one':'two']) #dataFrame 에서는 슬라이싱 지원하지 않는다. \n",
    "print(dfg[['one','two']])\n",
    "\n",
    "print(\"*\"*20)\n",
    "\n",
    "print(dfg[0:2])  # 숫자로 슬라이싱하면 행 기준 슬라이싱\n",
    "# print(dfg[0])      # indexing은 항상 열 기준\n",
    "\n",
    "\n",
    "print(\"*\"*20)\n",
    "\n",
    "dfg['three'] = pd.Series([10,20,30], index=['a','b','c']) \n",
    "print(dfg)\n",
    "dfg['four'] = dfg['one'] + dfg['three'] \n",
    "print(dfg)\n",
    "\n"
   ]
  },
  {
   "cell_type": "code",
   "execution_count": 14,
   "metadata": {
    "tags": []
   },
   "outputs": [
    {
     "output_type": "stream",
     "name": "stdout",
     "text": "one  two  three\na  1.0    1   10.0\nb  2.0    2   20.0\nc  3.0    3   30.0\nd  NaN    4    NaN\n   two  three\na    1   10.0\nb    2   20.0\nc    3   30.0\nd    4    NaN\n   three\na   10.0\nb   20.0\nc   30.0\nd    NaN\n"
    }
   ],
   "source": [
    "d = {'one' : pd.Series([1, 2, 3], index=['a', 'b', 'c']), \n",
    "     'two' : pd.Series([1, 2, 3, 4], index=['a', 'b', 'c', 'd']), \n",
    "     'three' : pd.Series([10,20,30], index=['a','b','c'])} \n",
    "\n",
    "dfh = pd.DataFrame(d) \n",
    "print(dfh)\n",
    "\n",
    "del dfh['one']\n",
    "print(dfh)\n",
    "dfh.pop('two')\n",
    "print(dfh)\n"
   ]
  },
  {
   "cell_type": "code",
   "execution_count": 15,
   "metadata": {
    "tags": []
   },
   "outputs": [
    {
     "output_type": "stream",
     "name": "stdout",
     "text": "one  two\na  1.0    1\nb  2.0    2\nc  3.0    3\nd  NaN    4\n"
    }
   ],
   "source": [
    "# loc [행 index, 열column] : 이름으로 접근하는 방식  // 행을 먼저 찾고 열을 찾는다. // 이름으로 오는건 a : b -> b까지 불러온다.\n",
    "d = {'one' : pd.Series([1, 2, 3], index=['a', 'b', 'c']), \n",
    "     'two' : pd.Series([1, 2, 3, 4], index=['a', 'b', 'c', 'd']),\n",
    "     'three' : pd.Series([10,20,30], index=['a','b','c'])} \n",
    "dfi = pd.DataFrame(d) \n",
    "# print(dfi)\n",
    "# print('*'*20)\n",
    "# print(dfi.loc['b'])\n",
    "# print(dfi.loc['b', 'two'])\n",
    "# print(dfi.loc['a':'c', 'two'])\n",
    "# print(dfi.loc['a', 'one':'two'])\n",
    "# print(dfi.loc[:, 'one':'two'])   #모든행의 one two를 가지고 와라.\n",
    "print(dfi.loc[:,['one','two']])"
   ]
  },
  {
   "cell_type": "code",
   "execution_count": 16,
   "metadata": {
    "tags": []
   },
   "outputs": [
    {
     "output_type": "stream",
     "name": "stdout",
     "text": "one  two\na  1.0    1\nb  2.0    2\nc  3.0    3\nd  NaN    4\n"
    }
   ],
   "source": [
    "# iloc [행, 열] : 순서번호로 접근하는 방식    \n",
    "d = {'one' : pd.Series([1, 2, 3], index=['a', 'b', 'c']), \n",
    "     'two' : pd.Series([1, 2, 3, 4], index=['a', 'b', 'c', 'd']),\n",
    "     'three' : pd.Series([10,20,30], index=['a','b','c'])} \n",
    "dfi = pd.DataFrame(d) \n",
    "# print(dfi)\n",
    "# print('*'*20)\n",
    "# print(dfi.iloc[1])\n",
    "# print(dfi.iloc[1, 1])\n",
    "# print(dfi.iloc[0:3, 1])\n",
    "# print(dfi.iloc[0, 0:2])\n",
    "# print(dfi.iloc[:, 0:2])   #모든행의 one two를 가지고 와라.\n",
    "print(dfi.iloc[:,[0,1]])"
   ]
  },
  {
   "cell_type": "code",
   "execution_count": 17,
   "metadata": {
    "tags": []
   },
   "outputs": [
    {
     "output_type": "stream",
     "name": "stdout",
     "text": "a  b\n0  1  2\n1  3  4\n0  5  6\n1  7  8\n********************\n   b\n0  2\n1  4\n0  6\n1  8\n"
    }
   ],
   "source": [
    "df = pd.DataFrame([[1, 2], [3, 4]], columns = ['a','b']) \n",
    "df2 = pd.DataFrame([[5, 6], [7, 8]], columns = ['a','b'])\n",
    "df = df.append(df2)\n",
    "print(df)\n",
    "print('*'*20)\n",
    "# df = df.drop(0)    \n",
    "# df = df.drop('a')    ## 열로는 drop 안된다.\n",
    "df = df.drop('a', axis = 1)  #★★★ axis :방향 (축정보) -> 0 :행방향, 1:열 방향\n",
    "print(df)"
   ]
  },
  {
   "cell_type": "code",
   "execution_count": 18,
   "metadata": {},
   "outputs": [],
   "source": [
    "# !pip install lxml\n",
    "# !pip install html5lib\n",
    "# !pip install bs4  # bs4 = beautifulsoup4\n",
    "# !pip install openpyxl"
   ]
  },
  {
   "cell_type": "code",
   "execution_count": 19,
   "metadata": {},
   "outputs": [],
   "source": [
    "import pandas as pd\n",
    "\n",
    "lst=pd.read_html('https://en.wikipedia.org/wiki/All-time_Olympic_Games_medal_table')\n"
   ]
  },
  {
   "cell_type": "code",
   "execution_count": 20,
   "metadata": {},
   "outputs": [
    {
     "output_type": "execute_result",
     "data": {
      "text/plain": "        Unnamed: 0_level_0 Summer Games                                        \\\n           Team (IOC code)            № Unnamed: 2_level_1 Unnamed: 3_level_1   \n0        Afghanistan (AFG)           14                  0                  0   \n1            Algeria (ALG)           13                  5                  4   \n2          Argentina (ARG)           24                 21                 25   \n3            Armenia (ARM)            6                  2                  6   \n4  Australasia (ANZ) [ANZ]            2                  3                  4   \n\n                           Winter Games                                        \\\n  Unnamed: 4_level_1 Total            № Unnamed: 7_level_1 Unnamed: 8_level_1   \n0                  2     2            0                  0                  0   \n1                  8    17            3                  0                  0   \n2                 28    74           19                  0                  0   \n3                  6    14            7                  0                  0   \n4                  5    12            0                  0                  0   \n\n                           Combined Total                      \\\n  Unnamed: 9_level_1 Total              № Unnamed: 12_level_1   \n0                  0     0             14                   0   \n1                  0     0             16                   5   \n2                  0     0             43                  21   \n3                  0     0             13                   2   \n4                  0     0              2                   3   \n\n                                                 \n  Unnamed: 13_level_1 Unnamed: 14_level_1 Total  \n0                   0                   2     2  \n1                   4                   8    17  \n2                  25                  28    74  \n3                   6                   6    14  \n4                   4                   5    12  ",
      "text/html": "<div>\n<style scoped>\n    .dataframe tbody tr th:only-of-type {\n        vertical-align: middle;\n    }\n\n    .dataframe tbody tr th {\n        vertical-align: top;\n    }\n\n    .dataframe thead tr th {\n        text-align: left;\n    }\n</style>\n<table border=\"1\" class=\"dataframe\">\n  <thead>\n    <tr>\n      <th></th>\n      <th>Unnamed: 0_level_0</th>\n      <th colspan=\"5\" halign=\"left\">Summer Games</th>\n      <th colspan=\"5\" halign=\"left\">Winter Games</th>\n      <th colspan=\"5\" halign=\"left\">Combined Total</th>\n    </tr>\n    <tr>\n      <th></th>\n      <th>Team (IOC code)</th>\n      <th>№</th>\n      <th>Unnamed: 2_level_1</th>\n      <th>Unnamed: 3_level_1</th>\n      <th>Unnamed: 4_level_1</th>\n      <th>Total</th>\n      <th>№</th>\n      <th>Unnamed: 7_level_1</th>\n      <th>Unnamed: 8_level_1</th>\n      <th>Unnamed: 9_level_1</th>\n      <th>Total</th>\n      <th>№</th>\n      <th>Unnamed: 12_level_1</th>\n      <th>Unnamed: 13_level_1</th>\n      <th>Unnamed: 14_level_1</th>\n      <th>Total</th>\n    </tr>\n  </thead>\n  <tbody>\n    <tr>\n      <th>0</th>\n      <td>Afghanistan (AFG)</td>\n      <td>14</td>\n      <td>0</td>\n      <td>0</td>\n      <td>2</td>\n      <td>2</td>\n      <td>0</td>\n      <td>0</td>\n      <td>0</td>\n      <td>0</td>\n      <td>0</td>\n      <td>14</td>\n      <td>0</td>\n      <td>0</td>\n      <td>2</td>\n      <td>2</td>\n    </tr>\n    <tr>\n      <th>1</th>\n      <td>Algeria (ALG)</td>\n      <td>13</td>\n      <td>5</td>\n      <td>4</td>\n      <td>8</td>\n      <td>17</td>\n      <td>3</td>\n      <td>0</td>\n      <td>0</td>\n      <td>0</td>\n      <td>0</td>\n      <td>16</td>\n      <td>5</td>\n      <td>4</td>\n      <td>8</td>\n      <td>17</td>\n    </tr>\n    <tr>\n      <th>2</th>\n      <td>Argentina (ARG)</td>\n      <td>24</td>\n      <td>21</td>\n      <td>25</td>\n      <td>28</td>\n      <td>74</td>\n      <td>19</td>\n      <td>0</td>\n      <td>0</td>\n      <td>0</td>\n      <td>0</td>\n      <td>43</td>\n      <td>21</td>\n      <td>25</td>\n      <td>28</td>\n      <td>74</td>\n    </tr>\n    <tr>\n      <th>3</th>\n      <td>Armenia (ARM)</td>\n      <td>6</td>\n      <td>2</td>\n      <td>6</td>\n      <td>6</td>\n      <td>14</td>\n      <td>7</td>\n      <td>0</td>\n      <td>0</td>\n      <td>0</td>\n      <td>0</td>\n      <td>13</td>\n      <td>2</td>\n      <td>6</td>\n      <td>6</td>\n      <td>14</td>\n    </tr>\n    <tr>\n      <th>4</th>\n      <td>Australasia (ANZ) [ANZ]</td>\n      <td>2</td>\n      <td>3</td>\n      <td>4</td>\n      <td>5</td>\n      <td>12</td>\n      <td>0</td>\n      <td>0</td>\n      <td>0</td>\n      <td>0</td>\n      <td>0</td>\n      <td>2</td>\n      <td>3</td>\n      <td>4</td>\n      <td>5</td>\n      <td>12</td>\n    </tr>\n  </tbody>\n</table>\n</div>"
     },
     "metadata": {},
     "execution_count": 20
    }
   ],
   "source": [
    "# print(lst)\n",
    "# type(lst)\n",
    "df = lst[1]   #1번쨰 table을 가져 온다.\n",
    "df.head()  # 상위 5개의 행을 가져오기."
   ]
  },
  {
   "cell_type": "code",
   "execution_count": 21,
   "metadata": {},
   "outputs": [],
   "source": [
    "# df.columns\n",
    "# df.index\n"
   ]
  },
  {
   "cell_type": "code",
   "execution_count": 26,
   "metadata": {},
   "outputs": [
    {
     "output_type": "execute_result",
     "data": {
      "text/plain": "        Unnamed: 0_level_0 Summer Games                                        \\\n           Team (IOC code)            № Unnamed: 2_level_1 Unnamed: 3_level_1   \n0        Afghanistan (AFG)           14                  0                  0   \n1            Algeria (ALG)           13                  5                  4   \n2          Argentina (ARG)           24                 21                 25   \n3            Armenia (ARM)            6                  2                  6   \n4  Australasia (ANZ) [ANZ]            2                  3                  4   \n\n                            \n  Unnamed: 4_level_1 Total  \n0                  2     2  \n1                  8    17  \n2                 28    74  \n3                  6    14  \n4                  5    12  ",
      "text/html": "<div>\n<style scoped>\n    .dataframe tbody tr th:only-of-type {\n        vertical-align: middle;\n    }\n\n    .dataframe tbody tr th {\n        vertical-align: top;\n    }\n\n    .dataframe thead tr th {\n        text-align: left;\n    }\n</style>\n<table border=\"1\" class=\"dataframe\">\n  <thead>\n    <tr>\n      <th></th>\n      <th>Unnamed: 0_level_0</th>\n      <th colspan=\"5\" halign=\"left\">Summer Games</th>\n    </tr>\n    <tr>\n      <th></th>\n      <th>Team (IOC code)</th>\n      <th>№</th>\n      <th>Unnamed: 2_level_1</th>\n      <th>Unnamed: 3_level_1</th>\n      <th>Unnamed: 4_level_1</th>\n      <th>Total</th>\n    </tr>\n  </thead>\n  <tbody>\n    <tr>\n      <th>0</th>\n      <td>Afghanistan (AFG)</td>\n      <td>14</td>\n      <td>0</td>\n      <td>0</td>\n      <td>2</td>\n      <td>2</td>\n    </tr>\n    <tr>\n      <th>1</th>\n      <td>Algeria (ALG)</td>\n      <td>13</td>\n      <td>5</td>\n      <td>4</td>\n      <td>8</td>\n      <td>17</td>\n    </tr>\n    <tr>\n      <th>2</th>\n      <td>Argentina (ARG)</td>\n      <td>24</td>\n      <td>21</td>\n      <td>25</td>\n      <td>28</td>\n      <td>74</td>\n    </tr>\n    <tr>\n      <th>3</th>\n      <td>Armenia (ARM)</td>\n      <td>6</td>\n      <td>2</td>\n      <td>6</td>\n      <td>6</td>\n      <td>14</td>\n    </tr>\n    <tr>\n      <th>4</th>\n      <td>Australasia (ANZ) [ANZ]</td>\n      <td>2</td>\n      <td>3</td>\n      <td>4</td>\n      <td>5</td>\n      <td>12</td>\n    </tr>\n  </tbody>\n</table>\n</div>"
     },
     "metadata": {},
     "execution_count": 26
    }
   ],
   "source": [
    "summer = df.iloc[:, :6]\n",
    "summer.head()"
   ]
  },
  {
   "cell_type": "code",
   "execution_count": null,
   "metadata": {},
   "outputs": [],
   "source": [
    "columns =['country', 'games', 'gold', 'silver', 'bronze', 'total']\n",
    "summer.columns = columns\n",
    "summer.head()"
   ]
  },
  {
   "cell_type": "code",
   "execution_count": 29,
   "metadata": {},
   "outputs": [
    {
     "output_type": "execute_result",
     "data": {
      "text/plain": "                         games  gold  silver  bronze  total\nAfghanistan (AFG)           14     0       0       2      2\nAlgeria (ALG)               13     5       4       8     17\nArgentina (ARG)             24    21      25      28     74\nArmenia (ARM)                6     2       6       6     14\nAustralasia (ANZ) [ANZ]      2     3       4       5     12",
      "text/html": "<div>\n<style scoped>\n    .dataframe tbody tr th:only-of-type {\n        vertical-align: middle;\n    }\n\n    .dataframe tbody tr th {\n        vertical-align: top;\n    }\n\n    .dataframe thead th {\n        text-align: right;\n    }\n</style>\n<table border=\"1\" class=\"dataframe\">\n  <thead>\n    <tr style=\"text-align: right;\">\n      <th></th>\n      <th>games</th>\n      <th>gold</th>\n      <th>silver</th>\n      <th>bronze</th>\n      <th>total</th>\n    </tr>\n  </thead>\n  <tbody>\n    <tr>\n      <th>Afghanistan (AFG)</th>\n      <td>14</td>\n      <td>0</td>\n      <td>0</td>\n      <td>2</td>\n      <td>2</td>\n    </tr>\n    <tr>\n      <th>Algeria (ALG)</th>\n      <td>13</td>\n      <td>5</td>\n      <td>4</td>\n      <td>8</td>\n      <td>17</td>\n    </tr>\n    <tr>\n      <th>Argentina (ARG)</th>\n      <td>24</td>\n      <td>21</td>\n      <td>25</td>\n      <td>28</td>\n      <td>74</td>\n    </tr>\n    <tr>\n      <th>Armenia (ARM)</th>\n      <td>6</td>\n      <td>2</td>\n      <td>6</td>\n      <td>6</td>\n      <td>14</td>\n    </tr>\n    <tr>\n      <th>Australasia (ANZ) [ANZ]</th>\n      <td>2</td>\n      <td>3</td>\n      <td>4</td>\n      <td>5</td>\n      <td>12</td>\n    </tr>\n  </tbody>\n</table>\n</div>"
     },
     "metadata": {},
     "execution_count": 29
    }
   ],
   "source": [
    "summer2 = summer.set_index(['country'])  #지정된 컬럼을 인덱스로 사용. index를 나라 이름으로 바꾼것임.\n",
    "summer2.index.name = None    # None 없앤다는 의미\n",
    "summer2.head()"
   ]
  },
  {
   "cell_type": "code",
   "execution_count": 31,
   "metadata": {},
   "outputs": [
    {
     "output_type": "execute_result",
     "data": {
      "text/plain": "                         games  gold  silver  bronze  total\nAfghanistan (AFG)           14     0       0       2      2\nAlgeria (ALG)               13     5       4       8     17\nArgentina (ARG)             24    21      25      28     74\nArmenia (ARM)                6     2       6       6     14\nAustralasia (ANZ) [ANZ]      2     3       4       5     12",
      "text/html": "<div>\n<style scoped>\n    .dataframe tbody tr th:only-of-type {\n        vertical-align: middle;\n    }\n\n    .dataframe tbody tr th {\n        vertical-align: top;\n    }\n\n    .dataframe thead th {\n        text-align: right;\n    }\n</style>\n<table border=\"1\" class=\"dataframe\">\n  <thead>\n    <tr style=\"text-align: right;\">\n      <th></th>\n      <th>games</th>\n      <th>gold</th>\n      <th>silver</th>\n      <th>bronze</th>\n      <th>total</th>\n    </tr>\n  </thead>\n  <tbody>\n    <tr>\n      <th>Afghanistan (AFG)</th>\n      <td>14</td>\n      <td>0</td>\n      <td>0</td>\n      <td>2</td>\n      <td>2</td>\n    </tr>\n    <tr>\n      <th>Algeria (ALG)</th>\n      <td>13</td>\n      <td>5</td>\n      <td>4</td>\n      <td>8</td>\n      <td>17</td>\n    </tr>\n    <tr>\n      <th>Argentina (ARG)</th>\n      <td>24</td>\n      <td>21</td>\n      <td>25</td>\n      <td>28</td>\n      <td>74</td>\n    </tr>\n    <tr>\n      <th>Armenia (ARM)</th>\n      <td>6</td>\n      <td>2</td>\n      <td>6</td>\n      <td>6</td>\n      <td>14</td>\n    </tr>\n    <tr>\n      <th>Australasia (ANZ) [ANZ]</th>\n      <td>2</td>\n      <td>3</td>\n      <td>4</td>\n      <td>5</td>\n      <td>12</td>\n    </tr>\n  </tbody>\n</table>\n</div>"
     },
     "metadata": {},
     "execution_count": 31
    }
   ],
   "source": [
    "# 위 작업을 다른 방식으로 처리\n",
    "lst=pd.read_html('https://en.wikipedia.org/wiki/All-time_Olympic_Games_medal_table', \n",
    "                 index_col=0)  #  index_col=0 : 표 0번쨰에 있는걸 index로 사용 하겠다.  \n",
    "summer = lst[1].iloc[:, :5]\n",
    "columns =['games', 'gold', 'silver', 'bronze', 'total']\n",
    "summer.columns = columns\n",
    "summer.head()"
   ]
  },
  {
   "cell_type": "code",
   "execution_count": 33,
   "metadata": {},
   "outputs": [
    {
     "output_type": "execute_result",
     "data": {
      "text/plain": "(10230, 66.86274509803921, 5115, 0)"
     },
     "metadata": {},
     "execution_count": 33
    }
   ],
   "source": [
    "summer[\"gold\"].sum() , summer[\"gold\"].mean() , summer['gold'].max(), summer['gold'].min()"
   ]
  },
  {
   "cell_type": "code",
   "execution_count": 35,
   "metadata": {},
   "outputs": [
    {
     "output_type": "execute_result",
     "data": {
      "text/plain": "                                              games  gold  silver  bronze  \\\nIndependent Olympic Participants (IOP) [IOP]      1     0       1       2   \nMixed team (ZZX) [ZZX]                            3     8       5       4   \n\n                                              total  \nIndependent Olympic Participants (IOP) [IOP]      3  \nMixed team (ZZX) [ZZX]                           17  ",
      "text/html": "<div>\n<style scoped>\n    .dataframe tbody tr th:only-of-type {\n        vertical-align: middle;\n    }\n\n    .dataframe tbody tr th {\n        vertical-align: top;\n    }\n\n    .dataframe thead th {\n        text-align: right;\n    }\n</style>\n<table border=\"1\" class=\"dataframe\">\n  <thead>\n    <tr style=\"text-align: right;\">\n      <th></th>\n      <th>games</th>\n      <th>gold</th>\n      <th>silver</th>\n      <th>bronze</th>\n      <th>total</th>\n    </tr>\n  </thead>\n  <tbody>\n    <tr>\n      <th>Independent Olympic Participants (IOP) [IOP]</th>\n      <td>1</td>\n      <td>0</td>\n      <td>1</td>\n      <td>2</td>\n      <td>3</td>\n    </tr>\n    <tr>\n      <th>Mixed team (ZZX) [ZZX]</th>\n      <td>3</td>\n      <td>8</td>\n      <td>5</td>\n      <td>4</td>\n      <td>17</td>\n    </tr>\n  </tbody>\n</table>\n</div>"
     },
     "metadata": {},
     "execution_count": 35
    }
   ],
   "source": [
    "# summer[ summer['gold'] == 5115 ]\n",
    "# summer.shape\n",
    "# summer2 = summer.drop('Totals')\n",
    "summer2 = summer.iloc[:-1, :]\n",
    "summer2.iloc[150:]"
   ]
  },
  {
   "cell_type": "code",
   "execution_count": 37,
   "metadata": {},
   "outputs": [
    {
     "output_type": "execute_result",
     "data": {
      "text/plain": "(5115, 33.651315789473685, 1022, 0)"
     },
     "metadata": {},
     "execution_count": 37
    }
   ],
   "source": [
    "summer2[\"gold\"].sum() , summer2[\"gold\"].mean() , summer2['gold'].max(), summer2['gold'].min()"
   ]
  },
  {
   "cell_type": "code",
   "execution_count": 39,
   "metadata": {},
   "outputs": [
    {
     "output_type": "execute_result",
     "data": {
      "text/plain": "                                         games  gold  silver  bronze  total\nUnited States (USA) [P] [Q] [R] [Z] [F]     27  1022     795     706   2523",
      "text/html": "<div>\n<style scoped>\n    .dataframe tbody tr th:only-of-type {\n        vertical-align: middle;\n    }\n\n    .dataframe tbody tr th {\n        vertical-align: top;\n    }\n\n    .dataframe thead th {\n        text-align: right;\n    }\n</style>\n<table border=\"1\" class=\"dataframe\">\n  <thead>\n    <tr style=\"text-align: right;\">\n      <th></th>\n      <th>games</th>\n      <th>gold</th>\n      <th>silver</th>\n      <th>bronze</th>\n      <th>total</th>\n    </tr>\n  </thead>\n  <tbody>\n    <tr>\n      <th>United States (USA) [P] [Q] [R] [Z] [F]</th>\n      <td>27</td>\n      <td>1022</td>\n      <td>795</td>\n      <td>706</td>\n      <td>2523</td>\n    </tr>\n  </tbody>\n</table>\n</div>"
     },
     "metadata": {},
     "execution_count": 39
    }
   ],
   "source": [
    "summer2[ summer2['gold']==1022]"
   ]
  },
  {
   "cell_type": "code",
   "execution_count": 41,
   "metadata": {},
   "outputs": [
    {
     "output_type": "execute_result",
     "data": {
      "text/plain": "Afghanistan (AFG)                               False\nAlgeria (ALG)                                   False\nArgentina (ARG)                                 False\nArmenia (ARM)                                   False\nAustralasia (ANZ) [ANZ]                         False\n                                                ...  \nZambia (ZAM) [ZAM]                              False\nZimbabwe (ZIM) [ZIM]                            False\nIndependent Olympic Athletes (IOA) [IOA]        False\nIndependent Olympic Participants (IOP) [IOP]    False\nMixed team (ZZX) [ZZX]                          False\nName: gold, Length: 152, dtype: bool"
     },
     "metadata": {},
     "execution_count": 41
    }
   ],
   "source": [
    "summer2['gold']==1022"
   ]
  },
  {
   "cell_type": "code",
   "execution_count": 43,
   "metadata": {},
   "outputs": [
    {
     "output_type": "execute_result",
     "data": {
      "text/plain": "                                              games  gold  silver  bronze  \\\nAfghanistan (AFG)                                14     0       0       2   \nBarbados (BAR) [BAR]                             12     0       0       1   \nBermuda (BER)                                    18     0       0       1   \nBohemia (BOH) [BOH] [Z]                           3     0       1       3   \nBotswana (BOT)                                   10     0       1       0   \nBritish West Indies (BWI) [BWI]                   1     0       0       2   \nCyprus (CYP)                                     10     0       1       0   \nDjibouti (DJI) [B]                                8     0       0       1   \nEritrea (ERI)                                     5     0       0       1   \nGabon (GAB)                                      10     0       1       0   \nGhana (GHA) [GHA]                                14     0       1       3   \nGuatemala (GUA)                                  14     0       1       0   \nGuyana (GUY) [GUY]                               17     0       0       1   \nHaiti (HAI) [J]                                  15     0       1       1   \nIceland (ISL)                                    20     0       2       2   \nIraq (IRQ)                                       14     0       0       1   \nKuwait (KUW)                                     12     0       0       2   \nKyrgyzstan (KGZ)                                  6     0       1       3   \nLebanon (LIB)                                    17     0       2       2   \nLiechtenstein (LIE)                              17     0       0       0   \nMalaysia (MAS) [MAS]                             13     0       7       4   \nMauritius (MRI)                                   9     0       0       1   \nMoldova (MDA)                                     6     0       2       3   \nMontenegro (MNE)                                  3     0       1       0   \nNamibia (NAM)                                     7     0       4       0   \nNetherlands Antilles (AHO) [AHO] [I]             13     0       1       0   \nNiger (NIG)                                      12     0       1       1   \nNorth Macedonia (MKD)                             6     0       0       1   \nParaguay (PAR)                                   12     0       1       0   \nPhilippines (PHI)                                21     0       3       7   \nQatar (QAT)                                       9     0       1       4   \nOlympic Athletes from Russia (OAR) [OAR]          0     0       0       0   \nSaudi Arabia (KSA)                               11     0       1       2   \nSamoa (SAM)                                       9     0       1       0   \nSenegal (SEN)                                    14     0       1       0   \nSerbia and Montenegro (SCG) [SCG]                 1     0       2       0   \nSri Lanka (SRI) [SRI]                            17     0       2       0   \nSudan (SUD)                                      12     0       1       0   \nTanzania (TAN) [TAN]                             13     0       2       0   \nTogo (TOG)                                       10     0       0       1   \nTonga (TGA)                                       9     0       1       0   \nVirgin Islands (ISV)                             12     0       1       0   \nZambia (ZAM) [ZAM]                               13     0       1       1   \nIndependent Olympic Participants (IOP) [IOP]      1     0       1       2   \n\n                                              total  \nAfghanistan (AFG)                                 2  \nBarbados (BAR) [BAR]                              1  \nBermuda (BER)                                     1  \nBohemia (BOH) [BOH] [Z]                           4  \nBotswana (BOT)                                    1  \nBritish West Indies (BWI) [BWI]                   2  \nCyprus (CYP)                                      1  \nDjibouti (DJI) [B]                                1  \nEritrea (ERI)                                     1  \nGabon (GAB)                                       1  \nGhana (GHA) [GHA]                                 4  \nGuatemala (GUA)                                   1  \nGuyana (GUY) [GUY]                                1  \nHaiti (HAI) [J]                                   2  \nIceland (ISL)                                     4  \nIraq (IRQ)                                        1  \nKuwait (KUW)                                      2  \nKyrgyzstan (KGZ)                                  4  \nLebanon (LIB)                                     4  \nLiechtenstein (LIE)                               0  \nMalaysia (MAS) [MAS]                             11  \nMauritius (MRI)                                   1  \nMoldova (MDA)                                     5  \nMontenegro (MNE)                                  1  \nNamibia (NAM)                                     4  \nNetherlands Antilles (AHO) [AHO] [I]              1  \nNiger (NIG)                                       2  \nNorth Macedonia (MKD)                             1  \nParaguay (PAR)                                    1  \nPhilippines (PHI)                                10  \nQatar (QAT)                                       5  \nOlympic Athletes from Russia (OAR) [OAR]          0  \nSaudi Arabia (KSA)                                3  \nSamoa (SAM)                                       1  \nSenegal (SEN)                                     1  \nSerbia and Montenegro (SCG) [SCG]                 2  \nSri Lanka (SRI) [SRI]                             2  \nSudan (SUD)                                       1  \nTanzania (TAN) [TAN]                              2  \nTogo (TOG)                                        1  \nTonga (TGA)                                       1  \nVirgin Islands (ISV)                              1  \nZambia (ZAM) [ZAM]                                2  \nIndependent Olympic Participants (IOP) [IOP]      3  ",
      "text/html": "<div>\n<style scoped>\n    .dataframe tbody tr th:only-of-type {\n        vertical-align: middle;\n    }\n\n    .dataframe tbody tr th {\n        vertical-align: top;\n    }\n\n    .dataframe thead th {\n        text-align: right;\n    }\n</style>\n<table border=\"1\" class=\"dataframe\">\n  <thead>\n    <tr style=\"text-align: right;\">\n      <th></th>\n      <th>games</th>\n      <th>gold</th>\n      <th>silver</th>\n      <th>bronze</th>\n      <th>total</th>\n    </tr>\n  </thead>\n  <tbody>\n    <tr>\n      <th>Afghanistan (AFG)</th>\n      <td>14</td>\n      <td>0</td>\n      <td>0</td>\n      <td>2</td>\n      <td>2</td>\n    </tr>\n    <tr>\n      <th>Barbados (BAR) [BAR]</th>\n      <td>12</td>\n      <td>0</td>\n      <td>0</td>\n      <td>1</td>\n      <td>1</td>\n    </tr>\n    <tr>\n      <th>Bermuda (BER)</th>\n      <td>18</td>\n      <td>0</td>\n      <td>0</td>\n      <td>1</td>\n      <td>1</td>\n    </tr>\n    <tr>\n      <th>Bohemia (BOH) [BOH] [Z]</th>\n      <td>3</td>\n      <td>0</td>\n      <td>1</td>\n      <td>3</td>\n      <td>4</td>\n    </tr>\n    <tr>\n      <th>Botswana (BOT)</th>\n      <td>10</td>\n      <td>0</td>\n      <td>1</td>\n      <td>0</td>\n      <td>1</td>\n    </tr>\n    <tr>\n      <th>British West Indies (BWI) [BWI]</th>\n      <td>1</td>\n      <td>0</td>\n      <td>0</td>\n      <td>2</td>\n      <td>2</td>\n    </tr>\n    <tr>\n      <th>Cyprus (CYP)</th>\n      <td>10</td>\n      <td>0</td>\n      <td>1</td>\n      <td>0</td>\n      <td>1</td>\n    </tr>\n    <tr>\n      <th>Djibouti (DJI) [B]</th>\n      <td>8</td>\n      <td>0</td>\n      <td>0</td>\n      <td>1</td>\n      <td>1</td>\n    </tr>\n    <tr>\n      <th>Eritrea (ERI)</th>\n      <td>5</td>\n      <td>0</td>\n      <td>0</td>\n      <td>1</td>\n      <td>1</td>\n    </tr>\n    <tr>\n      <th>Gabon (GAB)</th>\n      <td>10</td>\n      <td>0</td>\n      <td>1</td>\n      <td>0</td>\n      <td>1</td>\n    </tr>\n    <tr>\n      <th>Ghana (GHA) [GHA]</th>\n      <td>14</td>\n      <td>0</td>\n      <td>1</td>\n      <td>3</td>\n      <td>4</td>\n    </tr>\n    <tr>\n      <th>Guatemala (GUA)</th>\n      <td>14</td>\n      <td>0</td>\n      <td>1</td>\n      <td>0</td>\n      <td>1</td>\n    </tr>\n    <tr>\n      <th>Guyana (GUY) [GUY]</th>\n      <td>17</td>\n      <td>0</td>\n      <td>0</td>\n      <td>1</td>\n      <td>1</td>\n    </tr>\n    <tr>\n      <th>Haiti (HAI) [J]</th>\n      <td>15</td>\n      <td>0</td>\n      <td>1</td>\n      <td>1</td>\n      <td>2</td>\n    </tr>\n    <tr>\n      <th>Iceland (ISL)</th>\n      <td>20</td>\n      <td>0</td>\n      <td>2</td>\n      <td>2</td>\n      <td>4</td>\n    </tr>\n    <tr>\n      <th>Iraq (IRQ)</th>\n      <td>14</td>\n      <td>0</td>\n      <td>0</td>\n      <td>1</td>\n      <td>1</td>\n    </tr>\n    <tr>\n      <th>Kuwait (KUW)</th>\n      <td>12</td>\n      <td>0</td>\n      <td>0</td>\n      <td>2</td>\n      <td>2</td>\n    </tr>\n    <tr>\n      <th>Kyrgyzstan (KGZ)</th>\n      <td>6</td>\n      <td>0</td>\n      <td>1</td>\n      <td>3</td>\n      <td>4</td>\n    </tr>\n    <tr>\n      <th>Lebanon (LIB)</th>\n      <td>17</td>\n      <td>0</td>\n      <td>2</td>\n      <td>2</td>\n      <td>4</td>\n    </tr>\n    <tr>\n      <th>Liechtenstein (LIE)</th>\n      <td>17</td>\n      <td>0</td>\n      <td>0</td>\n      <td>0</td>\n      <td>0</td>\n    </tr>\n    <tr>\n      <th>Malaysia (MAS) [MAS]</th>\n      <td>13</td>\n      <td>0</td>\n      <td>7</td>\n      <td>4</td>\n      <td>11</td>\n    </tr>\n    <tr>\n      <th>Mauritius (MRI)</th>\n      <td>9</td>\n      <td>0</td>\n      <td>0</td>\n      <td>1</td>\n      <td>1</td>\n    </tr>\n    <tr>\n      <th>Moldova (MDA)</th>\n      <td>6</td>\n      <td>0</td>\n      <td>2</td>\n      <td>3</td>\n      <td>5</td>\n    </tr>\n    <tr>\n      <th>Montenegro (MNE)</th>\n      <td>3</td>\n      <td>0</td>\n      <td>1</td>\n      <td>0</td>\n      <td>1</td>\n    </tr>\n    <tr>\n      <th>Namibia (NAM)</th>\n      <td>7</td>\n      <td>0</td>\n      <td>4</td>\n      <td>0</td>\n      <td>4</td>\n    </tr>\n    <tr>\n      <th>Netherlands Antilles (AHO) [AHO] [I]</th>\n      <td>13</td>\n      <td>0</td>\n      <td>1</td>\n      <td>0</td>\n      <td>1</td>\n    </tr>\n    <tr>\n      <th>Niger (NIG)</th>\n      <td>12</td>\n      <td>0</td>\n      <td>1</td>\n      <td>1</td>\n      <td>2</td>\n    </tr>\n    <tr>\n      <th>North Macedonia (MKD)</th>\n      <td>6</td>\n      <td>0</td>\n      <td>0</td>\n      <td>1</td>\n      <td>1</td>\n    </tr>\n    <tr>\n      <th>Paraguay (PAR)</th>\n      <td>12</td>\n      <td>0</td>\n      <td>1</td>\n      <td>0</td>\n      <td>1</td>\n    </tr>\n    <tr>\n      <th>Philippines (PHI)</th>\n      <td>21</td>\n      <td>0</td>\n      <td>3</td>\n      <td>7</td>\n      <td>10</td>\n    </tr>\n    <tr>\n      <th>Qatar (QAT)</th>\n      <td>9</td>\n      <td>0</td>\n      <td>1</td>\n      <td>4</td>\n      <td>5</td>\n    </tr>\n    <tr>\n      <th>Olympic Athletes from Russia (OAR) [OAR]</th>\n      <td>0</td>\n      <td>0</td>\n      <td>0</td>\n      <td>0</td>\n      <td>0</td>\n    </tr>\n    <tr>\n      <th>Saudi Arabia (KSA)</th>\n      <td>11</td>\n      <td>0</td>\n      <td>1</td>\n      <td>2</td>\n      <td>3</td>\n    </tr>\n    <tr>\n      <th>Samoa (SAM)</th>\n      <td>9</td>\n      <td>0</td>\n      <td>1</td>\n      <td>0</td>\n      <td>1</td>\n    </tr>\n    <tr>\n      <th>Senegal (SEN)</th>\n      <td>14</td>\n      <td>0</td>\n      <td>1</td>\n      <td>0</td>\n      <td>1</td>\n    </tr>\n    <tr>\n      <th>Serbia and Montenegro (SCG) [SCG]</th>\n      <td>1</td>\n      <td>0</td>\n      <td>2</td>\n      <td>0</td>\n      <td>2</td>\n    </tr>\n    <tr>\n      <th>Sri Lanka (SRI) [SRI]</th>\n      <td>17</td>\n      <td>0</td>\n      <td>2</td>\n      <td>0</td>\n      <td>2</td>\n    </tr>\n    <tr>\n      <th>Sudan (SUD)</th>\n      <td>12</td>\n      <td>0</td>\n      <td>1</td>\n      <td>0</td>\n      <td>1</td>\n    </tr>\n    <tr>\n      <th>Tanzania (TAN) [TAN]</th>\n      <td>13</td>\n      <td>0</td>\n      <td>2</td>\n      <td>0</td>\n      <td>2</td>\n    </tr>\n    <tr>\n      <th>Togo (TOG)</th>\n      <td>10</td>\n      <td>0</td>\n      <td>0</td>\n      <td>1</td>\n      <td>1</td>\n    </tr>\n    <tr>\n      <th>Tonga (TGA)</th>\n      <td>9</td>\n      <td>0</td>\n      <td>1</td>\n      <td>0</td>\n      <td>1</td>\n    </tr>\n    <tr>\n      <th>Virgin Islands (ISV)</th>\n      <td>12</td>\n      <td>0</td>\n      <td>1</td>\n      <td>0</td>\n      <td>1</td>\n    </tr>\n    <tr>\n      <th>Zambia (ZAM) [ZAM]</th>\n      <td>13</td>\n      <td>0</td>\n      <td>1</td>\n      <td>1</td>\n      <td>2</td>\n    </tr>\n    <tr>\n      <th>Independent Olympic Participants (IOP) [IOP]</th>\n      <td>1</td>\n      <td>0</td>\n      <td>1</td>\n      <td>2</td>\n      <td>3</td>\n    </tr>\n  </tbody>\n</table>\n</div>"
     },
     "metadata": {},
     "execution_count": 43
    }
   ],
   "source": [
    "summer2[ summer2['gold']==0]"
   ]
  },
  {
   "cell_type": "code",
   "execution_count": 45,
   "metadata": {},
   "outputs": [
    {
     "output_type": "execute_result",
     "data": {
      "text/plain": "                        games  gold  silver  bronze  total\nAzerbaijan (AZE)            6     7      11      24     42\nBahamas (BAH)              16     6       2       6     14\nEgypt (EGY) [EGY] [Z]      22     7      10      15     32\nEstonia (EST)              12     9       9      16     34\nGeorgia (GEO)               6     8       7      17     32\nIndia (IND) [F]            24     9       7      12     28\nIndonesia (INA)            15     7      13      12     32\nIreland (IRL)              21     9      10      12     31\nLithuania (LTU)             9     6       6      13     25\nMorocco (MAR)              14     6       5      12     23\nSlovakia (SVK) [SVK]        6     9      12       7     28\nThailand (THA)             16     9       8      16     33\nUzbekistan (UZB)            6     7       6      18     31\nMixed team (ZZX) [ZZX]      3     8       5       4     17",
      "text/html": "<div>\n<style scoped>\n    .dataframe tbody tr th:only-of-type {\n        vertical-align: middle;\n    }\n\n    .dataframe tbody tr th {\n        vertical-align: top;\n    }\n\n    .dataframe thead th {\n        text-align: right;\n    }\n</style>\n<table border=\"1\" class=\"dataframe\">\n  <thead>\n    <tr style=\"text-align: right;\">\n      <th></th>\n      <th>games</th>\n      <th>gold</th>\n      <th>silver</th>\n      <th>bronze</th>\n      <th>total</th>\n    </tr>\n  </thead>\n  <tbody>\n    <tr>\n      <th>Azerbaijan (AZE)</th>\n      <td>6</td>\n      <td>7</td>\n      <td>11</td>\n      <td>24</td>\n      <td>42</td>\n    </tr>\n    <tr>\n      <th>Bahamas (BAH)</th>\n      <td>16</td>\n      <td>6</td>\n      <td>2</td>\n      <td>6</td>\n      <td>14</td>\n    </tr>\n    <tr>\n      <th>Egypt (EGY) [EGY] [Z]</th>\n      <td>22</td>\n      <td>7</td>\n      <td>10</td>\n      <td>15</td>\n      <td>32</td>\n    </tr>\n    <tr>\n      <th>Estonia (EST)</th>\n      <td>12</td>\n      <td>9</td>\n      <td>9</td>\n      <td>16</td>\n      <td>34</td>\n    </tr>\n    <tr>\n      <th>Georgia (GEO)</th>\n      <td>6</td>\n      <td>8</td>\n      <td>7</td>\n      <td>17</td>\n      <td>32</td>\n    </tr>\n    <tr>\n      <th>India (IND) [F]</th>\n      <td>24</td>\n      <td>9</td>\n      <td>7</td>\n      <td>12</td>\n      <td>28</td>\n    </tr>\n    <tr>\n      <th>Indonesia (INA)</th>\n      <td>15</td>\n      <td>7</td>\n      <td>13</td>\n      <td>12</td>\n      <td>32</td>\n    </tr>\n    <tr>\n      <th>Ireland (IRL)</th>\n      <td>21</td>\n      <td>9</td>\n      <td>10</td>\n      <td>12</td>\n      <td>31</td>\n    </tr>\n    <tr>\n      <th>Lithuania (LTU)</th>\n      <td>9</td>\n      <td>6</td>\n      <td>6</td>\n      <td>13</td>\n      <td>25</td>\n    </tr>\n    <tr>\n      <th>Morocco (MAR)</th>\n      <td>14</td>\n      <td>6</td>\n      <td>5</td>\n      <td>12</td>\n      <td>23</td>\n    </tr>\n    <tr>\n      <th>Slovakia (SVK) [SVK]</th>\n      <td>6</td>\n      <td>9</td>\n      <td>12</td>\n      <td>7</td>\n      <td>28</td>\n    </tr>\n    <tr>\n      <th>Thailand (THA)</th>\n      <td>16</td>\n      <td>9</td>\n      <td>8</td>\n      <td>16</td>\n      <td>33</td>\n    </tr>\n    <tr>\n      <th>Uzbekistan (UZB)</th>\n      <td>6</td>\n      <td>7</td>\n      <td>6</td>\n      <td>18</td>\n      <td>31</td>\n    </tr>\n    <tr>\n      <th>Mixed team (ZZX) [ZZX]</th>\n      <td>3</td>\n      <td>8</td>\n      <td>5</td>\n      <td>4</td>\n      <td>17</td>\n    </tr>\n  </tbody>\n</table>\n</div>"
     },
     "metadata": {},
     "execution_count": 45
    }
   ],
   "source": [
    "summer2[(summer2['gold'] < 10) & (summer2['gold'] > 5)]   ## and는 사용 못함. & 이 표시로 해야 함."
   ]
  },
  {
   "cell_type": "code",
   "execution_count": 47,
   "metadata": {},
   "outputs": [
    {
     "output_type": "execute_result",
     "data": {
      "text/plain": "                                         games  gold  silver  bronze  total\nUnited States (USA) [P] [Q] [R] [Z] [F]     27  1022     795     706   2523\nSoviet Union (URS) [URS]                     9   395     319     296   1010\nGreat Britain (GBR) [GBR] [Z]               28   263     295     293    851\nChina (CHN) [CHN]                           10   224     167     155    546\nFrance (FRA) [O] [P] [Z]                    28   212     241     263    716",
      "text/html": "<div>\n<style scoped>\n    .dataframe tbody tr th:only-of-type {\n        vertical-align: middle;\n    }\n\n    .dataframe tbody tr th {\n        vertical-align: top;\n    }\n\n    .dataframe thead th {\n        text-align: right;\n    }\n</style>\n<table border=\"1\" class=\"dataframe\">\n  <thead>\n    <tr style=\"text-align: right;\">\n      <th></th>\n      <th>games</th>\n      <th>gold</th>\n      <th>silver</th>\n      <th>bronze</th>\n      <th>total</th>\n    </tr>\n  </thead>\n  <tbody>\n    <tr>\n      <th>United States (USA) [P] [Q] [R] [Z] [F]</th>\n      <td>27</td>\n      <td>1022</td>\n      <td>795</td>\n      <td>706</td>\n      <td>2523</td>\n    </tr>\n    <tr>\n      <th>Soviet Union (URS) [URS]</th>\n      <td>9</td>\n      <td>395</td>\n      <td>319</td>\n      <td>296</td>\n      <td>1010</td>\n    </tr>\n    <tr>\n      <th>Great Britain (GBR) [GBR] [Z]</th>\n      <td>28</td>\n      <td>263</td>\n      <td>295</td>\n      <td>293</td>\n      <td>851</td>\n    </tr>\n    <tr>\n      <th>China (CHN) [CHN]</th>\n      <td>10</td>\n      <td>224</td>\n      <td>167</td>\n      <td>155</td>\n      <td>546</td>\n    </tr>\n    <tr>\n      <th>France (FRA) [O] [P] [Z]</th>\n      <td>28</td>\n      <td>212</td>\n      <td>241</td>\n      <td>263</td>\n      <td>716</td>\n    </tr>\n  </tbody>\n</table>\n</div>"
     },
     "metadata": {},
     "execution_count": 47
    }
   ],
   "source": [
    "summer2.sort_values(['gold'], ascending=False).iloc[:5]   #iloc[:5] -> top5만 나와라~  \n"
   ]
  },
  {
   "cell_type": "code",
   "execution_count": 49,
   "metadata": {},
   "outputs": [
    {
     "output_type": "execute_result",
     "data": {
      "text/plain": "'Afghanistan\\xa0(AFG)'"
     },
     "metadata": {},
     "execution_count": 49
    }
   ],
   "source": [
    "summer2.index[0]"
   ]
  },
  {
   "cell_type": "code",
   "execution_count": 51,
   "metadata": {},
   "outputs": [
    {
     "output_type": "execute_result",
     "data": {
      "text/plain": "games     14\ngold       0\nsilver     0\nbronze     2\ntotal      2\nName: Afghanistan (AFG), dtype: int64"
     },
     "metadata": {},
     "execution_count": 51
    }
   ],
   "source": [
    "summer2.loc['Afghanistan\\xa0(AFG)']"
   ]
  },
  {
   "cell_type": "code",
   "execution_count": 52,
   "metadata": {},
   "outputs": [
    {
     "output_type": "execute_result",
     "data": {
      "text/plain": "                   games  gold  silver  bronze  total\nNorth Korea (PRK)     10    16      16      22     54\nSouth Korea (KOR)     17    90      87      90    267",
      "text/html": "<div>\n<style scoped>\n    .dataframe tbody tr th:only-of-type {\n        vertical-align: middle;\n    }\n\n    .dataframe tbody tr th {\n        vertical-align: top;\n    }\n\n    .dataframe thead th {\n        text-align: right;\n    }\n</style>\n<table border=\"1\" class=\"dataframe\">\n  <thead>\n    <tr style=\"text-align: right;\">\n      <th></th>\n      <th>games</th>\n      <th>gold</th>\n      <th>silver</th>\n      <th>bronze</th>\n      <th>total</th>\n    </tr>\n  </thead>\n  <tbody>\n    <tr>\n      <th>North Korea (PRK)</th>\n      <td>10</td>\n      <td>16</td>\n      <td>16</td>\n      <td>22</td>\n      <td>54</td>\n    </tr>\n    <tr>\n      <th>South Korea (KOR)</th>\n      <td>17</td>\n      <td>90</td>\n      <td>87</td>\n      <td>90</td>\n      <td>267</td>\n    </tr>\n  </tbody>\n</table>\n</div>"
     },
     "metadata": {},
     "execution_count": 52
    }
   ],
   "source": [
    "# index.str : index타입을 string 리스트로 만들어서 string관련 함수를 호출할 수 있게 만드는 기능. 문자열 ->string 함수로 호출하고 싶을때 이용.\n",
    "# Series,  인덱스에 사용한다.\n",
    "summer2 [summer2.index.str.contains('Korea')]  "
   ]
  },
  {
   "cell_type": "code",
   "execution_count": 53,
   "metadata": {},
   "outputs": [
    {
     "output_type": "execute_result",
     "data": {
      "text/plain": "Index(['Afghanistan (AFG)', 'Algeria (ALG)', 'Argentina (ARG)',\n       'Armenia (ARM)', 'Australasia (ANZ) [ANZ]', 'Australia (AUS) [AUS] [Z]',\n       'Austria (AUT)', 'Azerbaijan (AZE)', 'Bahamas (BAH)', 'Bahrain (BRN)',\n       ...\n       'Uzbekistan (UZB)', 'Venezuela (VEN)', 'Vietnam (VIE)',\n       'Virgin Islands (ISV)', 'Yugoslavia (YUG) [YUG]', 'Zambia (ZAM) [ZAM]',\n       'Zimbabwe (ZIM) [ZIM]', 'Independent Olympic Athletes (IOA) [IOA]',\n       'Independent Olympic Participants (IOP) [IOP]',\n       'Mixed team (ZZX) [ZZX]'],\n      dtype='object', length=152)"
     },
     "metadata": {},
     "execution_count": 53
    }
   ],
   "source": [
    "summer2.index"
   ]
  },
  {
   "cell_type": "code",
   "execution_count": null,
   "metadata": {},
   "outputs": [],
   "source": []
  }
 ],
 "metadata": {
  "kernelspec": {
   "display_name": "Python 3.6.10 64-bit ('hoseo': conda)",
   "language": "python",
   "name": "python361064bithoseoconda264274678644477794f47fddcf829f7c"
  },
  "language_info": {
   "codemirror_mode": {
    "name": "ipython",
    "version": 3
   },
   "file_extension": ".py",
   "mimetype": "text/x-python",
   "name": "python",
   "nbconvert_exporter": "python",
   "pygments_lexer": "ipython3",
   "version": "3.6.10-final"
  }
 },
 "nbformat": 4,
 "nbformat_minor": 4
}