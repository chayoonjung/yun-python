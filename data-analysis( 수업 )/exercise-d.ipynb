{
 "cells": [
  {
   "cell_type": "code",
   "execution_count": null,
   "metadata": {},
   "outputs": [],
   "source": [
    "# 데이터 확인\n",
    "import csv\n",
    "\n",
    "with open('data-files/subway-data.csv', encoding = \"utf-8\") as f:\n",
    "    reader = csv.reader(f)\n",
    "    next(reader)\n",
    "    next(reader)\n",
    "    \n",
    "    for idx, row in enumerate(reader):\n",
    "        print(row)\n",
    "        if idx == 5:\n",
    "            break;"
   ]
  },
  {
   "cell_type": "code",
   "execution_count": null,
   "metadata": {},
   "outputs": [],
   "source": [
    "# map 함수 사용\n",
    "import csv\n",
    "\n",
    "with open('data-files/subway-data.csv', encoding = \"utf-8\") as f:\n",
    "    reader = csv.reader(f)\n",
    "    next(reader)\n",
    "    next(reader)\n",
    "    \n",
    "    for idx, row in enumerate(reader):\n",
    "        #print(row[4:])\n",
    "        #changed = map(int, row[4:-1]) # map(변환함수, 데이터)   -> input == output \n",
    "        #changed = map(lambda x: int(x.replace(',',\"\")),      \n",
    "        #              row[4:-1])\n",
    "        #changed = [int(x.replace(',',\"\")) for x in row[4:-1]]\n",
    "        row[4:-1] = map(lambda x: int(x.replace(',',\"\")),\n",
    "                        row[4:-1])\n",
    "        \n",
    "        print(len(row[4:-1]))\n",
    "        print(row[4:-1])\n",
    "        if idx == 5:\n",
    "            break;"
   ]
  },
  {
   "cell_type": "code",
   "execution_count": null,
   "metadata": {},
   "outputs": [],
   "source": [
    "# 역 별 7시 승차인원 합계\n",
    "\n",
    "import csv\n",
    "\n",
    "with open('data-files/subway-data.csv', encoding = \"utf-8\") as f:\n",
    "    reader = csv.reader(f)\n",
    "    next(reader)\n",
    "    next(reader)\n",
    "    \n",
    "    cnt_by_station = {}\n",
    "    \n",
    "    for row in reader:\n",
    "        #4 : 4\n",
    "        #7 : 10 -> (7 - 4)*2 + 4\n",
    "        hour = 7\n",
    "        idx = (hour - 4)*2 + 4  # 승차\n",
    "        #idx = (hour - 4)*2 + 5  # 하차\n",
    "        row[4:-1] = map(lambda x: int(x.replace(',',\"\")),row[4:-1])\n",
    "        \n",
    "        if row[3] in cnt_by_station:    # 역 이름이 중복되면 추가한다.\n",
    "            prev_data = cnt_by_station[row[3]]    # 역 명\n",
    "            cnt_by_station[row[3]] = prev_data + row[idx] # row[10] = 7시 데이터\n",
    "            \n",
    "        else:\n",
    "            cnt_by_station[row[3]] = row[idx]\n",
    "            \n",
    "sorted_cnt_by_station = sorted(cnt_by_station.items(), \\\n",
    "                               key=lambda kv : kv[1],\\\n",
    "                               reverse = True) \n",
    "\n",
    "print(sorted_cnt_by_station)"
   ]
  },
  {
   "cell_type": "code",
   "execution_count": 14,
   "metadata": {},
   "outputs": [
    {
     "name": "stdout",
     "output_type": "stream",
     "text": [
      "[('신림', 459731), ('사당', 287375), ('구로디지털단지', 286628), ('서울대입구(관악구청)', 274229), ('연신내', 264235), ('잠실(송파구청)', 258152), ('신도림', 257227), ('까치산', 247338), ('쌍문', 231201), ('화곡', 229214)]\n"
     ]
    }
   ],
   "source": [
    "import csv\n",
    "\n",
    "with open('data-files/subway-data.csv', encoding = \"utf-8\") as f:\n",
    "    reader = csv.reader(f)\n",
    "    next(reader)\n",
    "    next(reader)\n",
    "    \n",
    "    cnt_by_station = {}\n",
    "    \n",
    "    for row in reader:\n",
    "        #4 : 4\n",
    "        #7 : 10 -> (7 - 4)*2 + 4\n",
    "        hour = 7\n",
    "        idx = (hour - 4)*2 + 4  # 승차\n",
    "        #idx = (hour - 4)*2 + 5  # 하차\n",
    "        row[4:-1] = map(lambda x: int(x.replace(',',\"\")),row[4:-1])\n",
    "        cnt = sum(row[idx : idx + 2 * 2 : 2])  #  idx + 2 = 8시 까지 보고 싶을 경우.\n",
    "        \n",
    "        if row[3] in cnt_by_station:    # 역 이름이 중복되면 추가한다.\n",
    "            prev_data = cnt_by_station[row[3]]    # 역 명\n",
    "            cnt_by_station[row[3]] = prev_data + cnt         \n",
    "        else:\n",
    "            cnt_by_station[row[3]] = cnt\n",
    "            \n",
    "sorted_cnt_by_station = sorted(cnt_by_station.items(), \\\n",
    "                               key=lambda kv : kv[1],\\\n",
    "                               reverse = True) \n",
    "\n",
    "## list는 맞으나 sorted_cnt_by_station의 값의 목록임.\n",
    "\n",
    "print(sorted_cnt_by_station[:10])"
   ]
  },
  {
   "cell_type": "code",
   "execution_count": 8,
   "metadata": {},
   "outputs": [
    {
     "data": {
      "text/plain": [
       "510"
      ]
     },
     "execution_count": 8,
     "metadata": {},
     "output_type": "execute_result"
    }
   ],
   "source": [
    "#type(sorted_cnt_by_station)\n",
    "len(sorted_cnt_by_station)"
   ]
  },
  {
   "cell_type": "code",
   "execution_count": 9,
   "metadata": {},
   "outputs": [
    {
     "data": {
      "image/png": "[encoded data removed]",
      "text/plain": [
       "<Figure size 432x288 with 1 Axes>"
      ]
     },
     "metadata": {
      "needs_background": "light"
     },
     "output_type": "display_data"
    }
   ],
   "source": [
    "import matplotlib.pyplot as plt\n",
    "\n",
    "cnt_list = list(dict(sorted_cnt_by_station).values())\n",
    "stations = list(dict(sorted_cnt_by_station).keys())\n",
    "#plt.bar(range(len(sorted_cnt_by_station)),cnt_list, width = 3)\n",
    "#plt.plot(cnt_list)\n",
    "#plt.bar(range(len(cnt_list[:20])), cnt_list[:20])\n",
    "plt.rc('font', family=\"Malgun Gothic\") # 지원가능한 폰트로 변경. '맑은 고딕'\n",
    "plt.bar(range(20), cnt_list[:20])\n",
    "plt.xticks(range(20), stations[:20], rotation = 90)  # x값에 역 이름 부여, \n",
    "plt.show()"
   ]
  },
  {
   "cell_type": "code",
   "execution_count": 12,
   "metadata": {},
   "outputs": [
    {
     "name": "stdout",
     "output_type": "stream",
     "text": [
      "[('강남', 61556), ('홍대입구', 57681), ('건대입구', 43752), ('사당', 38980), ('합정', 34103), ('고속터미널', 31783), ('잠실(송파구청)', 31416), ('왕십리(성동구청)', 28563), ('종로3가', 26806), ('서울역', 26294)]\n"
     ]
    }
   ],
   "source": [
    "#23시 하차인원 합계\n",
    "\n",
    "import csv\n",
    "\n",
    "with open('data-files/subway-data.csv', encoding = \"utf-8\") as f:\n",
    "    reader = csv.reader(f)\n",
    "    next(reader)\n",
    "    next(reader)\n",
    "    \n",
    "    cnt_by_station = {}\n",
    "    \n",
    "    for row in reader:\n",
    "        #4 : 4\n",
    "        #7 : 10 -> (7 - 4)*2 + 4\n",
    "        hour = 23\n",
    "        idx = (hour - 4)*2 + 4  # 승차\n",
    "        #idx = (hour - 4)*2 + 5  # 하차\n",
    "        row[4:-1] = map(lambda x: int(x.replace(',',\"\")),row[4:-1])\n",
    "        cnt = sum(row[idx : idx + 2 * 2 : 2])  #  idx + 2 = 8시 까지 보고 싶을 경우.\n",
    "        \n",
    "        if row[3] in cnt_by_station:    # 역 이름이 중복되면 추가한다.\n",
    "            prev_data = cnt_by_station[row[3]]    # 역 명\n",
    "            cnt_by_station[row[3]] = prev_data + cnt         \n",
    "        else:\n",
    "            cnt_by_station[row[3]] = cnt\n",
    "            \n",
    "sorted_cnt_by_station = sorted(cnt_by_station.items(), \\\n",
    "                               key=lambda kv : kv[1],\\\n",
    "                               reverse = True) \n",
    "\n",
    "## list는 맞으나 sorted_cnt_by_station의 값의 목록임.\n",
    "\n",
    "print(sorted_cnt_by_station[:10])"
   ]
  },
  {
   "cell_type": "code",
   "execution_count": 13,
   "metadata": {},
   "outputs": [
    {
     "data": {
      "image/png": "[encoded data removed]",
      "text/plain": [
       "<Figure size 432x288 with 1 Axes>"
      ]
     },
     "metadata": {
      "needs_background": "light"
     },
     "output_type": "display_data"
    }
   ],
   "source": [
    "import matplotlib.pyplot as plt\n",
    "\n",
    "cnt_list = list(dict(sorted_cnt_by_station).values())\n",
    "stations = list(dict(sorted_cnt_by_station).keys())\n",
    "#plt.bar(range(len(sorted_cnt_by_station)),cnt_list, width = 3)\n",
    "#plt.plot(cnt_list)\n",
    "#plt.bar(range(len(cnt_list[:20])), cnt_list[:20])\n",
    "plt.rc('font', family=\"Malgun Gothic\") # 지원가능한 폰트로 변경. '맑은 고딕'\n",
    "plt.bar(range(20), cnt_list[:20])\n",
    "plt.xticks(range(20), stations[:20], rotation = 90)  # x값에 역 이름 부여, \n",
    "plt.show()"
   ]
  },
  {
   "cell_type": "code",
   "execution_count": 15,
   "metadata": {},
   "outputs": [],
   "source": [
    "def add_list_by_element(list1, list2): \n",
    "    #add_list_by_elemen : 값1(Ture일때 값.) if 조건식 eles 값2(False일때 값)        /2개의 리스트를 받아서\n",
    "    l, s = (list1, list2) if len(list1) >= len(list2) \\\n",
    "                            else (list2, list1)                    #2개의 리스트중 누가더 긴지 확인 해서 긴건 l에 해당. 짧은것 s\n",
    "                         \n",
    "\n",
    "    result = l.copy()                                          # 긴 리스트 복사해 가져와\n",
    "    for idx, e in enumerate(s):                               #짧은 리스트 반복해서 합을 구함. (빈 곳은 0으로 진행.)\n",
    "            result[idx] = s[idx] + l[idx]\n",
    "            \n",
    "    return result"
   ]
  },
  {
   "cell_type": "code",
   "execution_count": 35,
   "metadata": {},
   "outputs": [
    {
     "name": "stdout",
     "output_type": "stream",
     "text": [
      "('서울역', 0)\n"
     ]
    },
    {
     "data": {
      "text/plain": [
       "[('구로', 10144),\n",
       " ('대림(구로구청)', 47618),\n",
       " ('신림', 91277),\n",
       " ('여의도', 230500),\n",
       " ('가산디지털단지', 504381),\n",
       " ('강남', 349390),\n",
       " ('고속터미널', 190788),\n",
       " ('고속터미널', 211399),\n",
       " ('고속터미널', 220433),\n",
       " ('고속터미널', 238698),\n",
       " ('고속터미널', 247239),\n",
       " ('고속터미널', 268926),\n",
       " ('고속터미널', 283936),\n",
       " ('강남', 334172),\n",
       " ('강남', 493832),\n",
       " ('강남', 318571),\n",
       " ('잠실(송파구청)', 240739),\n",
       " ('강남', 220906),\n",
       " ('강남', 212904),\n",
       " ('신림', 102725),\n",
       " ('신도림', 15097),\n",
       " ('인천', 7),\n",
       " ('신당', 2),\n",
       " ('서울역', 0)]"
      ]
     },
     "execution_count": 35,
     "metadata": {},
     "output_type": "execute_result"
    }
   ],
   "source": [
    "# 시간대별 승하차 최대 역 & 승객수 \n",
    "\n",
    "import csv\n",
    "\n",
    "with open('data-files/subway-data.csv', encoding = \"utf-8\") as f:\n",
    "    reader = csv.reader(f)\n",
    "    next(reader)\n",
    "    next(reader)\n",
    "    \n",
    "    cnt_by_station = {}     # dict\n",
    "    \n",
    "    for row in reader:\n",
    "        hour = 4\n",
    "        idx = (hour - 4)* 2 + 4  # 승차\n",
    "        #idx = (hour - 4)* 2 + 5  # 하차\n",
    "        row[4:-1] = map(lambda x: int(x.replace(',',\"\")),row[4:-1])\n",
    "        \n",
    "        cnts = []\n",
    "        for h in range(24):     # idx부터 시작해서 h에 (0)부터 시작해 23까지 하나씩 더해주면서 보면 된다,.\n",
    "            cnt = row[idx + h * 2] + row[idx + h * 2 + 1 ]   #매 시간별 row[idx + h * 2] = 승차인원 / row[idx + h * 2 + 1 ] = 하차인원\n",
    "            cnts.append(cnt)\n",
    "            \n",
    "        if row[3] in cnt_by_station:    # 역 이름이 중복되면 추가한다.\n",
    "            prev_data = cnt_by_station[row[3]]    # 역 명\n",
    "            cnt_by_station[row[3]] = add_list_by_element(prev_data, cnts)         \n",
    "        else:\n",
    "            cnt_by_station[row[3]] = cnts\n",
    "\n",
    "# print(len(list(cnt_by_station.items())[0][1]))            \n",
    "# list(cnt_by_station.items())[0]\n",
    "\n",
    "top_one_by_hour = []    \n",
    "\n",
    "for idx in range(24):\n",
    "    sorted_by_h = sorted(cnt_by_station.items(),  #cnt_by_station.items ->list 로 만들어 진다.\n",
    "                         key=lambda kv : kv[1][idx],\n",
    "                         reverse = True)\n",
    "#      top_one_by_hour.append(sorted_by_h[0])\n",
    "    top_one_by_hour.append((sorted_by_h[0][0], sorted_by_h[0][1][idx]))   # 튜플로 묶어 줘야 함.\n",
    "    \n",
    "print(top_one_by_hour[23])\n",
    "top_one_by_hour\n",
    "    "
   ]
  },
  {
   "cell_type": "code",
   "execution_count": 31,
   "metadata": {},
   "outputs": [
    {
     "data": {
      "text/plain": [
       "[(4, 10), (5, 12), (1, 30), (7, 45), (2, 45), (9, 66)]"
      ]
     },
     "execution_count": 31,
     "metadata": {},
     "output_type": "execute_result"
    }
   ],
   "source": [
    "a = [ 4, 7, 1, 9, 5 ,2]\n",
    "# sorted(a)\n",
    "sorted(a, key=lambda kv: kv)\n",
    "\n",
    "b = [(4, 10), (7, 45), (1, 30), (9, 66), (5, 12), (2, 45)]\n",
    "sorted(b, key=lambda kv : kv[1])    #kv[0] = 첫번째 숫자 기준으로 정렬, kv[1] = 두번째 숫자 기준으로 정렬. key는 어느 위치에 있는걸 기중으로 비교 할 것인지 주는것."
   ]
  },
  {
   "cell_type": "code",
   "execution_count": 41,
   "metadata": {},
   "outputs": [
    {
     "data": {
      "text/plain": [
       "[(14, [17965005, 16489387]),\n",
       " (4, [15257337, 18094697]),\n",
       " (13, [13278794, 11257355]),\n",
       " (15, [9850784, 13620575]),\n",
       " (5, [9383341, 11885809]),\n",
       " (3, [13222919, 7884852]),\n",
       " (12, [9970996, 8981738]),\n",
       " (11, [8689880, 8214553]),\n",
       " (9, [7937772, 7888863]),\n",
       " (10, [7960799, 7840074]),\n",
       " (16, [7539696, 8179318]),\n",
       " (8, [7508286, 7193539]),\n",
       " (6, [6867525, 7413014]),\n",
       " (17, [6865561, 7076573]),\n",
       " (7, [6884571, 6869507]),\n",
       " (18, [5626715, 6371986]),\n",
       " (2, [5313295, 3645705]),\n",
       " (19, [2090385, 4255486]),\n",
       " (1, [2735202, 722627]),\n",
       " (20, [36842, 644821]),\n",
       " (0, [114714, 1414]),\n",
       " (21, [22, 62]),\n",
       " (22, [9, 15]),\n",
       " (23, [0, 0])]"
      ]
     },
     "execution_count": 41,
     "metadata": {},
     "output_type": "execute_result"
    }
   ],
   "source": [
    "#시간대별(key) 승차/ 하차 승객수(values)\n",
    "\n",
    "import csv\n",
    "\n",
    "with open('data-files/subway-data.csv', encoding = \"utf-8\") as f:\n",
    "    reader = csv.reader(f)\n",
    "    next(reader)\n",
    "    next(reader)\n",
    "    \n",
    "    cnt_by_hour = {}     # dict    key를 dict으로 처리하는게 정석.\n",
    "    \n",
    "    for row in reader:\n",
    "        hour = 4\n",
    "        idx = (hour - 4)* 2 + 4  # 승차\n",
    "        row[4:-1] = map(lambda x: int(x.replace(',',\"\")),row[4:-1])\n",
    "        \n",
    "        cnts = []\n",
    "        for h in range(24):# idx부터 시작해서 h에 (0)부터 시작해 23까지 하나씩 더해주면서 보면 된다,.\n",
    "            cnt = [row[idx + h * 2] , row[idx + h * 2 + 1 ]]   # idx = 시간 / 매 시간별 row[idx + h * 2] = 승차인원 / row[idx + h * 2 + 1 ] = 하차인원\n",
    "            if h in cnt_by_hour:\n",
    "                prev_data = cnt_by_hour[h]\n",
    "                new_data = add_list_by_element(prev_data, cnt)\n",
    "                cnt_by_hour[h] = new_data\n",
    "            else:              \n",
    "                cnt_by_hour[h] = cnt\n",
    "#print(cnt_by_hour)   # 0번이 4시 부터 승하차 \n",
    "\n",
    "sorted_cnt_by_hour = sorted(cnt_by_hour.items(), \n",
    "                            key=lambda kv: kv[1][0]+kv[1][1], reverse=True) #승하차 합한 값중 가장 많이 이용하는 시간대 \n",
    "sorted_cnt_by_hour"
   ]
  }
 ],
 "metadata": {
  "kernelspec": {
   "display_name": "Python 3",
   "language": "python",
   "name": "python3"
  },
  "language_info": {
   "codemirror_mode": {
    "name": "ipython",
    "version": 3
   },
   "file_extension": ".py",
   "mimetype": "text/x-python",
   "name": "python",
   "nbconvert_exporter": "python",
   "pygments_lexer": "ipython3",
   "version": "3.6.10"
  }
 },
 "nbformat": 4,
 "nbformat_minor": 4
}
