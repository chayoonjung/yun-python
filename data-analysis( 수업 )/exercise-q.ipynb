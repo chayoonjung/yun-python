{
 "cells": [
  {
   "cell_type": "code",
   "execution_count": 1,
   "metadata": {},
   "outputs": [],
   "source": [
    "import random\n",
    "import numpy as np\n",
    "import scipy as sp\n",
    "import scipy.stats\n",
    "import pandas as pd"
   ]
  },
  {
   "cell_type": "code",
   "execution_count": 2,
   "metadata": {},
   "outputs": [
    {
     "output_type": "execute_result",
     "data": {
      "text/plain": "array([ 22.,  69.,   5., 100.,   7.,  66.,  68.,  29.,  30.,  90.,  93.,\n        47.,  28.,  72.,  35.,  68.,  48.,  23.,  24.,  99.,  62.,  70.,\n         3.,  49.,  87.,  64.,  40.,  76.,  16.,  34.,  70.,  82.,  56.,\n        53.,  88.,  65.,  81.,  53.,  39.,  58.,  88.,  32.,  84.,   1.,\n        23.,   7.,  66.,  25.,  10.,   3.,   7.,   7.,  36.,   2.,  52.,\n        27., 100.,  91.,  35.,  79.,  25.,  25.,  79.,  30.,  75.,  20.,\n        54.,  81.,  73.,  21.,  92.,  64.,  86.,  27.,  63.,  21.,  88.,\n        38.,  25., 100.,   5.,  96.,  95.,  73.,  97.,  29.,  21.,  40.,\n        63.,   8.,  26.,  57.,  56.,  29.,  46.,  26.,  96.,  57.,  50.,\n        27.])"
     },
     "metadata": {},
     "execution_count": 2
    }
   ],
   "source": [
    "x = np.zeros(100)\n",
    "for idx in range(100):\n",
    "    x[idx] = random.randint(1,100)\n",
    "\n",
    "x"
   ]
  },
  {
   "cell_type": "code",
   "execution_count": 3,
   "metadata": {
    "tags": []
   },
   "outputs": [
    {
     "output_type": "stream",
     "name": "stdout",
     "text": "100\n50.28\n50.28\n855.6616\n29.25169396804226\n1.0\n100.0\n25.75\n51.0\n73.5\n"
    }
   ],
   "source": [
    "print(len(x))  # 데이터 개수\n",
    "print(np.mean(x)) # 평균\n",
    "print(sum(x)/len(x)) #평균\n",
    "print(np.var(x)) #분산\n",
    "print(np.std(x)) #표준편차\n",
    "print(np.min(x)) #최소값\n",
    "print(np.max(x)) #최대값\n",
    "print(np.percentile(x, 25)) # 1사분위 수\n",
    "print(np.percentile(x, 50)) # 2사분위 수\n",
    "print(np.percentile(x, 75)) # 3사분위 수"
   ]
  },
  {
   "cell_type": "code",
   "execution_count": 6,
   "metadata": {
    "tags": []
   },
   "outputs": [
    {
     "output_type": "stream",
     "name": "stdout",
     "text": "DescribeResult(nobs=100, minmax=(1.0, 100.0), mean=50.28, variance=864.3046464646465, skewness=0.06737005734758726, kurtosis=-1.2026309029692035)\ncount    100.000000\nmean      50.280000\nstd       29.399059\nmin        1.000000\n25%       25.750000\n50%       51.000000\n75%       73.500000\nmax      100.000000\ndtype: float64\n"
    }
   ],
   "source": [
    "print(sp.stats.describe(x))\n",
    "print(pd.Series(x).describe())"
   ]
  },
  {
   "cell_type": "code",
   "execution_count": null,
   "metadata": {},
   "outputs": [],
   "source": []
  }
 ],
 "metadata": {
  "language_info": {
   "codemirror_mode": {
    "name": "ipython",
    "version": 3
   },
   "file_extension": ".py",
   "mimetype": "text/x-python",
   "name": "python",
   "nbconvert_exporter": "python",
   "pygments_lexer": "ipython3",
   "version": "3.6.10-final"
  },
  "orig_nbformat": 2,
  "kernelspec": {
   "name": "python361064bithoseoconda264274678644477794f47fddcf829f7c",
   "display_name": "Python 3.6.10 64-bit ('hoseo': conda)"
  }
 },
 "nbformat": 4,
 "nbformat_minor": 2
}