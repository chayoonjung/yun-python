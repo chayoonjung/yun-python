{
 "cells": [
  {
   "cell_type": "code",
   "execution_count": null,
   "metadata": {},
   "outputs": [],
   "source": [
    "# winequality-white.csv 에서 데이터 읽기\n",
    "# 각 속성과 quality간의 상관관계 검토"
   ]
  },
  {
   "cell_type": "code",
   "execution_count": 1,
   "metadata": {},
   "outputs": [],
   "source": [
    "import numpy as np\n",
    "import pandas as pd\n",
    "import matplotlib.pyplot as plt\n",
    "import seaborn as sns\n",
    "import scipy as sp\n",
    "import scipy.stats"
   ]
  },
  {
   "cell_type": "code",
   "execution_count": 2,
   "metadata": {},
   "outputs": [],
   "source": [
    "wine = pd.read_csv('data-files/winequality-white.csv',sep=';')"
   ]
  },
  {
   "cell_type": "code",
   "execution_count": 3,
   "metadata": {
    "tags": []
   },
   "outputs": [
    {
     "output_type": "stream",
     "name": "stdout",
     "text": "<class 'pandas.core.frame.DataFrame'>\nRangeIndex: 4898 entries, 0 to 4897\nData columns (total 12 columns):\n #   Column                Non-Null Count  Dtype  \n---  ------                --------------  -----  \n 0   fixed acidity         4898 non-null   float64\n 1   volatile acidity      4898 non-null   float64\n 2   citric acid           4898 non-null   float64\n 3   residual sugar        4898 non-null   float64\n 4   chlorides             4898 non-null   float64\n 5   free sulfur dioxide   4898 non-null   float64\n 6   total sulfur dioxide  4898 non-null   float64\n 7   density               4898 non-null   float64\n 8   pH                    4898 non-null   float64\n 9   sulphates             4898 non-null   float64\n 10  alcohol               4898 non-null   float64\n 11  quality               4898 non-null   int64  \ndtypes: float64(11), int64(1)\nmemory usage: 459.3 KB\n"
    },
    {
     "output_type": "execute_result",
     "data": {
      "text/plain": "(4898, 12)"
     },
     "metadata": {},
     "execution_count": 3
    }
   ],
   "source": [
    "wine.info()\n",
    "wine.shape  #(4898, 12)"
   ]
  },
  {
   "cell_type": "code",
   "execution_count": 4,
   "metadata": {},
   "outputs": [
    {
     "output_type": "execute_result",
     "data": {
      "text/plain": "   fixed acidity  volatile acidity  citric acid  residual sugar  chlorides  \\\n0            7.0              0.27         0.36            20.7      0.045   \n1            6.3              0.30         0.34             1.6      0.049   \n2            8.1              0.28         0.40             6.9      0.050   \n3            7.2              0.23         0.32             8.5      0.058   \n4            7.2              0.23         0.32             8.5      0.058   \n\n   free sulfur dioxide  total sulfur dioxide  density    pH  sulphates  \\\n0                 45.0                 170.0   1.0010  3.00       0.45   \n1                 14.0                 132.0   0.9940  3.30       0.49   \n2                 30.0                  97.0   0.9951  3.26       0.44   \n3                 47.0                 186.0   0.9956  3.19       0.40   \n4                 47.0                 186.0   0.9956  3.19       0.40   \n\n   alcohol  quality  \n0      8.8        6  \n1      9.5        6  \n2     10.1        6  \n3      9.9        6  \n4      9.9        6  ",
      "text/html": "<div>\n<style scoped>\n    .dataframe tbody tr th:only-of-type {\n        vertical-align: middle;\n    }\n\n    .dataframe tbody tr th {\n        vertical-align: top;\n    }\n\n    .dataframe thead th {\n        text-align: right;\n    }\n</style>\n<table border=\"1\" class=\"dataframe\">\n  <thead>\n    <tr style=\"text-align: right;\">\n      <th></th>\n      <th>fixed acidity</th>\n      <th>volatile acidity</th>\n      <th>citric acid</th>\n      <th>residual sugar</th>\n      <th>chlorides</th>\n      <th>free sulfur dioxide</th>\n      <th>total sulfur dioxide</th>\n      <th>density</th>\n      <th>pH</th>\n      <th>sulphates</th>\n      <th>alcohol</th>\n      <th>quality</th>\n    </tr>\n  </thead>\n  <tbody>\n    <tr>\n      <th>0</th>\n      <td>7.0</td>\n      <td>0.27</td>\n      <td>0.36</td>\n      <td>20.7</td>\n      <td>0.045</td>\n      <td>45.0</td>\n      <td>170.0</td>\n      <td>1.0010</td>\n      <td>3.00</td>\n      <td>0.45</td>\n      <td>8.8</td>\n      <td>6</td>\n    </tr>\n    <tr>\n      <th>1</th>\n      <td>6.3</td>\n      <td>0.30</td>\n      <td>0.34</td>\n      <td>1.6</td>\n      <td>0.049</td>\n      <td>14.0</td>\n      <td>132.0</td>\n      <td>0.9940</td>\n      <td>3.30</td>\n      <td>0.49</td>\n      <td>9.5</td>\n      <td>6</td>\n    </tr>\n    <tr>\n      <th>2</th>\n      <td>8.1</td>\n      <td>0.28</td>\n      <td>0.40</td>\n      <td>6.9</td>\n      <td>0.050</td>\n      <td>30.0</td>\n      <td>97.0</td>\n      <td>0.9951</td>\n      <td>3.26</td>\n      <td>0.44</td>\n      <td>10.1</td>\n      <td>6</td>\n    </tr>\n    <tr>\n      <th>3</th>\n      <td>7.2</td>\n      <td>0.23</td>\n      <td>0.32</td>\n      <td>8.5</td>\n      <td>0.058</td>\n      <td>47.0</td>\n      <td>186.0</td>\n      <td>0.9956</td>\n      <td>3.19</td>\n      <td>0.40</td>\n      <td>9.9</td>\n      <td>6</td>\n    </tr>\n    <tr>\n      <th>4</th>\n      <td>7.2</td>\n      <td>0.23</td>\n      <td>0.32</td>\n      <td>8.5</td>\n      <td>0.058</td>\n      <td>47.0</td>\n      <td>186.0</td>\n      <td>0.9956</td>\n      <td>3.19</td>\n      <td>0.40</td>\n      <td>9.9</td>\n      <td>6</td>\n    </tr>\n  </tbody>\n</table>\n</div>"
     },
     "metadata": {},
     "execution_count": 4
    }
   ],
   "source": [
    "wine.head()"
   ]
  },
  {
   "cell_type": "code",
   "execution_count": 5,
   "metadata": {},
   "outputs": [
    {
     "output_type": "execute_result",
     "data": {
      "text/plain": "                      fixed acidity  volatile acidity  citric acid  \\\nfixed acidity              1.000000         -0.022697     0.289181   \nvolatile acidity          -0.022697          1.000000    -0.149472   \ncitric acid                0.289181         -0.149472     1.000000   \nresidual sugar             0.089021          0.064286     0.094212   \nchlorides                  0.023086          0.070512     0.114364   \nfree sulfur dioxide       -0.049396         -0.097012     0.094077   \ntotal sulfur dioxide       0.091070          0.089261     0.121131   \ndensity                    0.265331          0.027114     0.149503   \npH                        -0.425858         -0.031915    -0.163748   \nsulphates                 -0.017143         -0.035728     0.062331   \nalcohol                   -0.120881          0.067718    -0.075729   \nquality                   -0.113663         -0.194723    -0.009209   \n\n                      residual sugar  chlorides  free sulfur dioxide  \\\nfixed acidity               0.089021   0.023086            -0.049396   \nvolatile acidity            0.064286   0.070512            -0.097012   \ncitric acid                 0.094212   0.114364             0.094077   \nresidual sugar              1.000000   0.088685             0.299098   \nchlorides                   0.088685   1.000000             0.101392   \nfree sulfur dioxide         0.299098   0.101392             1.000000   \ntotal sulfur dioxide        0.401439   0.198910             0.615501   \ndensity                     0.838966   0.257211             0.294210   \npH                         -0.194133  -0.090439            -0.000618   \nsulphates                  -0.026664   0.016763             0.059217   \nalcohol                    -0.450631  -0.360189            -0.250104   \nquality                    -0.097577  -0.209934             0.008158   \n\n                      total sulfur dioxide   density        pH  sulphates  \\\nfixed acidity                     0.091070  0.265331 -0.425858  -0.017143   \nvolatile acidity                  0.089261  0.027114 -0.031915  -0.035728   \ncitric acid                       0.121131  0.149503 -0.163748   0.062331   \nresidual sugar                    0.401439  0.838966 -0.194133  -0.026664   \nchlorides                         0.198910  0.257211 -0.090439   0.016763   \nfree sulfur dioxide               0.615501  0.294210 -0.000618   0.059217   \ntotal sulfur dioxide              1.000000  0.529881  0.002321   0.134562   \ndensity                           0.529881  1.000000 -0.093591   0.074493   \npH                                0.002321 -0.093591  1.000000   0.155951   \nsulphates                         0.134562  0.074493  0.155951   1.000000   \nalcohol                          -0.448892 -0.780138  0.121432  -0.017433   \nquality                          -0.174737 -0.307123  0.099427   0.053678   \n\n                       alcohol   quality  \nfixed acidity        -0.120881 -0.113663  \nvolatile acidity      0.067718 -0.194723  \ncitric acid          -0.075729 -0.009209  \nresidual sugar       -0.450631 -0.097577  \nchlorides            -0.360189 -0.209934  \nfree sulfur dioxide  -0.250104  0.008158  \ntotal sulfur dioxide -0.448892 -0.174737  \ndensity              -0.780138 -0.307123  \npH                    0.121432  0.099427  \nsulphates            -0.017433  0.053678  \nalcohol               1.000000  0.435575  \nquality               0.435575  1.000000  ",
      "text/html": "<div>\n<style scoped>\n    .dataframe tbody tr th:only-of-type {\n        vertical-align: middle;\n    }\n\n    .dataframe tbody tr th {\n        vertical-align: top;\n    }\n\n    .dataframe thead th {\n        text-align: right;\n    }\n</style>\n<table border=\"1\" class=\"dataframe\">\n  <thead>\n    <tr style=\"text-align: right;\">\n      <th></th>\n      <th>fixed acidity</th>\n      <th>volatile acidity</th>\n      <th>citric acid</th>\n      <th>residual sugar</th>\n      <th>chlorides</th>\n      <th>free sulfur dioxide</th>\n      <th>total sulfur dioxide</th>\n      <th>density</th>\n      <th>pH</th>\n      <th>sulphates</th>\n      <th>alcohol</th>\n      <th>quality</th>\n    </tr>\n  </thead>\n  <tbody>\n    <tr>\n      <th>fixed acidity</th>\n      <td>1.000000</td>\n      <td>-0.022697</td>\n      <td>0.289181</td>\n      <td>0.089021</td>\n      <td>0.023086</td>\n      <td>-0.049396</td>\n      <td>0.091070</td>\n      <td>0.265331</td>\n      <td>-0.425858</td>\n      <td>-0.017143</td>\n      <td>-0.120881</td>\n      <td>-0.113663</td>\n    </tr>\n    <tr>\n      <th>volatile acidity</th>\n      <td>-0.022697</td>\n      <td>1.000000</td>\n      <td>-0.149472</td>\n      <td>0.064286</td>\n      <td>0.070512</td>\n      <td>-0.097012</td>\n      <td>0.089261</td>\n      <td>0.027114</td>\n      <td>-0.031915</td>\n      <td>-0.035728</td>\n      <td>0.067718</td>\n      <td>-0.194723</td>\n    </tr>\n    <tr>\n      <th>citric acid</th>\n      <td>0.289181</td>\n      <td>-0.149472</td>\n      <td>1.000000</td>\n      <td>0.094212</td>\n      <td>0.114364</td>\n      <td>0.094077</td>\n      <td>0.121131</td>\n      <td>0.149503</td>\n      <td>-0.163748</td>\n      <td>0.062331</td>\n      <td>-0.075729</td>\n      <td>-0.009209</td>\n    </tr>\n    <tr>\n      <th>residual sugar</th>\n      <td>0.089021</td>\n      <td>0.064286</td>\n      <td>0.094212</td>\n      <td>1.000000</td>\n      <td>0.088685</td>\n      <td>0.299098</td>\n      <td>0.401439</td>\n      <td>0.838966</td>\n      <td>-0.194133</td>\n      <td>-0.026664</td>\n      <td>-0.450631</td>\n      <td>-0.097577</td>\n    </tr>\n    <tr>\n      <th>chlorides</th>\n      <td>0.023086</td>\n      <td>0.070512</td>\n      <td>0.114364</td>\n      <td>0.088685</td>\n      <td>1.000000</td>\n      <td>0.101392</td>\n      <td>0.198910</td>\n      <td>0.257211</td>\n      <td>-0.090439</td>\n      <td>0.016763</td>\n      <td>-0.360189</td>\n      <td>-0.209934</td>\n    </tr>\n    <tr>\n      <th>free sulfur dioxide</th>\n      <td>-0.049396</td>\n      <td>-0.097012</td>\n      <td>0.094077</td>\n      <td>0.299098</td>\n      <td>0.101392</td>\n      <td>1.000000</td>\n      <td>0.615501</td>\n      <td>0.294210</td>\n      <td>-0.000618</td>\n      <td>0.059217</td>\n      <td>-0.250104</td>\n      <td>0.008158</td>\n    </tr>\n    <tr>\n      <th>total sulfur dioxide</th>\n      <td>0.091070</td>\n      <td>0.089261</td>\n      <td>0.121131</td>\n      <td>0.401439</td>\n      <td>0.198910</td>\n      <td>0.615501</td>\n      <td>1.000000</td>\n      <td>0.529881</td>\n      <td>0.002321</td>\n      <td>0.134562</td>\n      <td>-0.448892</td>\n      <td>-0.174737</td>\n    </tr>\n    <tr>\n      <th>density</th>\n      <td>0.265331</td>\n      <td>0.027114</td>\n      <td>0.149503</td>\n      <td>0.838966</td>\n      <td>0.257211</td>\n      <td>0.294210</td>\n      <td>0.529881</td>\n      <td>1.000000</td>\n      <td>-0.093591</td>\n      <td>0.074493</td>\n      <td>-0.780138</td>\n      <td>-0.307123</td>\n    </tr>\n    <tr>\n      <th>pH</th>\n      <td>-0.425858</td>\n      <td>-0.031915</td>\n      <td>-0.163748</td>\n      <td>-0.194133</td>\n      <td>-0.090439</td>\n      <td>-0.000618</td>\n      <td>0.002321</td>\n      <td>-0.093591</td>\n      <td>1.000000</td>\n      <td>0.155951</td>\n      <td>0.121432</td>\n      <td>0.099427</td>\n    </tr>\n    <tr>\n      <th>sulphates</th>\n      <td>-0.017143</td>\n      <td>-0.035728</td>\n      <td>0.062331</td>\n      <td>-0.026664</td>\n      <td>0.016763</td>\n      <td>0.059217</td>\n      <td>0.134562</td>\n      <td>0.074493</td>\n      <td>0.155951</td>\n      <td>1.000000</td>\n      <td>-0.017433</td>\n      <td>0.053678</td>\n    </tr>\n    <tr>\n      <th>alcohol</th>\n      <td>-0.120881</td>\n      <td>0.067718</td>\n      <td>-0.075729</td>\n      <td>-0.450631</td>\n      <td>-0.360189</td>\n      <td>-0.250104</td>\n      <td>-0.448892</td>\n      <td>-0.780138</td>\n      <td>0.121432</td>\n      <td>-0.017433</td>\n      <td>1.000000</td>\n      <td>0.435575</td>\n    </tr>\n    <tr>\n      <th>quality</th>\n      <td>-0.113663</td>\n      <td>-0.194723</td>\n      <td>-0.009209</td>\n      <td>-0.097577</td>\n      <td>-0.209934</td>\n      <td>0.008158</td>\n      <td>-0.174737</td>\n      <td>-0.307123</td>\n      <td>0.099427</td>\n      <td>0.053678</td>\n      <td>0.435575</td>\n      <td>1.000000</td>\n    </tr>\n  </tbody>\n</table>\n</div>"
     },
     "metadata": {},
     "execution_count": 5
    }
   ],
   "source": [
    "wine.corr()"
   ]
  },
  {
   "cell_type": "code",
   "execution_count": 1,
   "metadata": {},
   "outputs": [],
   "source": [
    "import numpy as np\n",
    "import pandas as pd\n",
    "import matplotlib.pyplot as plt\n",
    "import seaborn as sns\n",
    "import scipy as sp\n",
    "import scipy.stats "
   ]
  },
  {
   "cell_type": "code",
   "execution_count": 2,
   "metadata": {},
   "outputs": [],
   "source": [
    "demo = pd.read_csv('data-files/t-and-anova-demo.csv')\n",
    "demo_backup = demo.copy() "
   ]
  },
  {
   "cell_type": "code",
   "execution_count": 3,
   "metadata": {
    "tags": []
   },
   "outputs": [
    {
     "output_type": "stream",
     "name": "stdout",
     "text": "<class 'pandas.core.frame.DataFrame'>\nRangeIndex: 285008 entries, 0 to 285007\nData columns (total 35 columns):\n #   Column                        Non-Null Count   Dtype  \n---  ------                        --------------   -----  \n 0   Row ID                        285008 non-null  int64  \n 1   Year                          285008 non-null  int64  \n 2   Department Title              285008 non-null  object \n 3   Payroll Department            231463 non-null  float64\n 4   Record Number                 285008 non-null  object \n 5   Job Class Title               285008 non-null  object \n 6   Employment Type               285008 non-null  object \n 7   Hourly or Event Rate          263987 non-null  object \n 8   Projected Annual Salary       285008 non-null  object \n 9   Q1 Payments                   285008 non-null  object \n 10  Q2 Payments                   285008 non-null  object \n 11  Q3 Payments                   285008 non-null  object \n 12  Q4 Payments                   285008 non-null  object \n 13  Payments Over Base Pay        285008 non-null  object \n 14  % Over Base Pay               285008 non-null  object \n 15  Total Payments                285008 non-null  object \n 16  Base Pay                      285008 non-null  object \n 17  Permanent Bonus Pay           285008 non-null  object \n 18  Longevity Bonus Pay           285008 non-null  object \n 19  Temporary Bonus Pay           285008 non-null  object \n 20  Lump Sum Pay                  242744 non-null  object \n 21  Overtime Pay                  284574 non-null  object \n 22  Other Pay & Adjustments       285008 non-null  object \n 23  Other Pay (Payroll Explorer)  285008 non-null  object \n 24  MOU                           263987 non-null  object \n 25  MOU Title                     263987 non-null  object \n 26  FMS Department                285008 non-null  int64  \n 27  Job Class                     285008 non-null  int64  \n 28  Pay Grade                     187905 non-null  object \n 29  Average Health Cost           285008 non-null  object \n 30  Average Dental Cost           285008 non-null  object \n 31  Average Basic Life            285008 non-null  object \n 32  Average Benefit Cost          285008 non-null  object \n 33  Benefits Plan                 245926 non-null  object \n 34  Job Class Link                285008 non-null  object \ndtypes: float64(1), int64(4), object(30)\nmemory usage: 76.1+ MB\n"
    },
    {
     "output_type": "execute_result",
     "data": {
      "text/plain": "   Row ID  Year           Department Title  Payroll Department Record Number  \\\n0  111391  2014      Water And Power (DWP)                 NaN    1412316577   \n1   31732  2013              Police (LAPD)              4301.0     432728338   \n2   27697  2013              Police (LAPD)              4301.0      97182506   \n3   14136  2013        Harbor (Port of LA)              3201.0     950136941   \n4   91896  2014  Public Works - Sanitation              7024.0    3230003445   \n\n                     Job Class Title Employment Type Hourly or Event Rate  \\\n0  Commercial Service Representative       Full Time                  NaN   \n1                   Police Officer I       Full Time               $25.12   \n2                  Police Officer II       Full Time               $42.77   \n3            Senior Security Officer       Full Time               $28.75   \n4                Senior Clerk Typist       Full Time               $30.92   \n\n  Projected Annual Salary Q1 Payments  ...             MOU Title  \\\n0               $70386.48   $16129.89  ...                   NaN   \n1               $52450.56   $11331.00  ...  POLICE OFFICERS UNIT   \n2               $89303.76   $20036.32  ...  POLICE OFFICERS UNIT   \n3               $60028.96   $15793.88  ...      SUPV BLUE COLLAR   \n4               $64553.13   $14700.00  ...         CLERICAL UNIT   \n\n  FMS Department Job Class Pay Grade Average Health Cost Average Dental Cost  \\\n0             98      1230       NaN           $16842.08            $1282.61   \n1             70      2214         A           $11651.40             $898.08   \n2             70      2214         2           $11651.40             $898.08   \n3             42      3184         0           $10710.24             $405.24   \n4             82      1368         0           $11000.40             $409.68   \n\n  Average Basic Life Average Benefit Cost Benefits Plan  \\\n0              $0.00            $18124.69           DWP   \n1            $191.04            $12740.52        Police   \n2            $191.04            $12740.52        Police   \n3             $11.40            $11126.88          City   \n4             $11.40            $11421.48          City   \n\n                            Job Class Link  \n0  http://per.lacity.org/perspecs/1230.pdf  \n1  http://per.lacity.org/perspecs/2214.pdf  \n2  http://per.lacity.org/perspecs/2214.pdf  \n3  http://per.lacity.org/perspecs/3184.pdf  \n4  http://per.lacity.org/perspecs/1368.pdf  \n\n[5 rows x 35 columns]",
      "text/html": "<div>\n<style scoped>\n    .dataframe tbody tr th:only-of-type {\n        vertical-align: middle;\n    }\n\n    .dataframe tbody tr th {\n        vertical-align: top;\n    }\n\n    .dataframe thead th {\n        text-align: right;\n    }\n</style>\n<table border=\"1\" class=\"dataframe\">\n  <thead>\n    <tr style=\"text-align: right;\">\n      <th></th>\n      <th>Row ID</th>\n      <th>Year</th>\n      <th>Department Title</th>\n      <th>Payroll Department</th>\n      <th>Record Number</th>\n      <th>Job Class Title</th>\n      <th>Employment Type</th>\n      <th>Hourly or Event Rate</th>\n      <th>Projected Annual Salary</th>\n      <th>Q1 Payments</th>\n      <th>...</th>\n      <th>MOU Title</th>\n      <th>FMS Department</th>\n      <th>Job Class</th>\n      <th>Pay Grade</th>\n      <th>Average Health Cost</th>\n      <th>Average Dental Cost</th>\n      <th>Average Basic Life</th>\n      <th>Average Benefit Cost</th>\n      <th>Benefits Plan</th>\n      <th>Job Class Link</th>\n    </tr>\n  </thead>\n  <tbody>\n    <tr>\n      <th>0</th>\n      <td>111391</td>\n      <td>2014</td>\n      <td>Water And Power (DWP)</td>\n      <td>NaN</td>\n      <td>1412316577</td>\n      <td>Commercial Service Representative</td>\n      <td>Full Time</td>\n      <td>NaN</td>\n      <td>$70386.48</td>\n      <td>$16129.89</td>\n      <td>...</td>\n      <td>NaN</td>\n      <td>98</td>\n      <td>1230</td>\n      <td>NaN</td>\n      <td>$16842.08</td>\n      <td>$1282.61</td>\n      <td>$0.00</td>\n      <td>$18124.69</td>\n      <td>DWP</td>\n      <td>http://per.lacity.org/perspecs/1230.pdf</td>\n    </tr>\n    <tr>\n      <th>1</th>\n      <td>31732</td>\n      <td>2013</td>\n      <td>Police (LAPD)</td>\n      <td>4301.0</td>\n      <td>432728338</td>\n      <td>Police Officer I</td>\n      <td>Full Time</td>\n      <td>$25.12</td>\n      <td>$52450.56</td>\n      <td>$11331.00</td>\n      <td>...</td>\n      <td>POLICE OFFICERS UNIT</td>\n      <td>70</td>\n      <td>2214</td>\n      <td>A</td>\n      <td>$11651.40</td>\n      <td>$898.08</td>\n      <td>$191.04</td>\n      <td>$12740.52</td>\n      <td>Police</td>\n      <td>http://per.lacity.org/perspecs/2214.pdf</td>\n    </tr>\n    <tr>\n      <th>2</th>\n      <td>27697</td>\n      <td>2013</td>\n      <td>Police (LAPD)</td>\n      <td>4301.0</td>\n      <td>97182506</td>\n      <td>Police Officer II</td>\n      <td>Full Time</td>\n      <td>$42.77</td>\n      <td>$89303.76</td>\n      <td>$20036.32</td>\n      <td>...</td>\n      <td>POLICE OFFICERS UNIT</td>\n      <td>70</td>\n      <td>2214</td>\n      <td>2</td>\n      <td>$11651.40</td>\n      <td>$898.08</td>\n      <td>$191.04</td>\n      <td>$12740.52</td>\n      <td>Police</td>\n      <td>http://per.lacity.org/perspecs/2214.pdf</td>\n    </tr>\n    <tr>\n      <th>3</th>\n      <td>14136</td>\n      <td>2013</td>\n      <td>Harbor (Port of LA)</td>\n      <td>3201.0</td>\n      <td>950136941</td>\n      <td>Senior Security Officer</td>\n      <td>Full Time</td>\n      <td>$28.75</td>\n      <td>$60028.96</td>\n      <td>$15793.88</td>\n      <td>...</td>\n      <td>SUPV BLUE COLLAR</td>\n      <td>42</td>\n      <td>3184</td>\n      <td>0</td>\n      <td>$10710.24</td>\n      <td>$405.24</td>\n      <td>$11.40</td>\n      <td>$11126.88</td>\n      <td>City</td>\n      <td>http://per.lacity.org/perspecs/3184.pdf</td>\n    </tr>\n    <tr>\n      <th>4</th>\n      <td>91896</td>\n      <td>2014</td>\n      <td>Public Works - Sanitation</td>\n      <td>7024.0</td>\n      <td>3230003445</td>\n      <td>Senior Clerk Typist</td>\n      <td>Full Time</td>\n      <td>$30.92</td>\n      <td>$64553.13</td>\n      <td>$14700.00</td>\n      <td>...</td>\n      <td>CLERICAL UNIT</td>\n      <td>82</td>\n      <td>1368</td>\n      <td>0</td>\n      <td>$11000.40</td>\n      <td>$409.68</td>\n      <td>$11.40</td>\n      <td>$11421.48</td>\n      <td>City</td>\n      <td>http://per.lacity.org/perspecs/1368.pdf</td>\n    </tr>\n  </tbody>\n</table>\n<p>5 rows × 35 columns</p>\n</div>"
     },
     "metadata": {},
     "execution_count": 3
    }
   ],
   "source": [
    "demo.info()\n",
    "demo.head()"
   ]
  },
  {
   "cell_type": "code",
   "execution_count": null,
   "metadata": {},
   "outputs": [],
   "source": []
  }
 ],
 "metadata": {
  "language_info": {
   "codemirror_mode": {
    "name": "ipython",
    "version": 3
   },
   "file_extension": ".py",
   "mimetype": "text/x-python",
   "name": "python",
   "nbconvert_exporter": "python",
   "pygments_lexer": "ipython3",
   "version": "3.6.10-final"
  },
  "orig_nbformat": 2,
  "kernelspec": {
   "name": "python361064bithoseoconda264274678644477794f47fddcf829f7c",
   "display_name": "Python 3.6.10 64-bit ('hoseo': conda)"
  }
 },
 "nbformat": 4,
 "nbformat_minor": 2
}