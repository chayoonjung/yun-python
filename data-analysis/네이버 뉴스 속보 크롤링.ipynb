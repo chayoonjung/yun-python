{
 "metadata": {
  "language_info": {
   "codemirror_mode": {
    "name": "ipython",
    "version": 3
   },
   "file_extension": ".py",
   "mimetype": "text/x-python",
   "name": "python",
   "nbconvert_exporter": "python",
   "pygments_lexer": "ipython3",
   "version": "3.6.10-final"
  },
  "orig_nbformat": 2,
  "kernelspec": {
   "name": "python3",
   "display_name": "Python 3.6.10 64-bit ('hoseo': conda)",
   "metadata": {
    "interpreter": {
     "hash": "28777402aca565a93449001515aa73f59f29f250b817babc6c87670d23b632d1"
    }
   }
  }
 },
 "nbformat": 4,
 "nbformat_minor": 2,
 "cells": [
  {
   "cell_type": "code",
   "execution_count": 1,
   "metadata": {},
   "outputs": [],
   "source": [
    "import numpy as np\n",
    "import pandas as pd\n",
    "import matplotlib.pyplot as plt\n",
    "import time\n",
    "import requests\n",
    "from bs4 import BeautifulSoup, NavigableString, Tag, Comment"
   ]
  },
  {
   "cell_type": "code",
   "execution_count": 2,
   "metadata": {},
   "outputs": [],
   "source": [
    "# !pip install opencv-python"
   ]
  },
  {
   "cell_type": "code",
   "execution_count": 3,
   "metadata": {},
   "outputs": [],
   "source": [
    "from selenium import webdriver\n",
    "\n",
    "driver_path = r\"D:\\yun\\dev-tools\\chromedriver.exe\"\n",
    "browser = webdriver.Chrome(executable_path=driver_path)"
   ]
  },
  {
   "cell_type": "code",
   "execution_count": 4,
   "metadata": {},
   "outputs": [
    {
     "output_type": "stream",
     "name": "stdout",
     "text": [
      "PeriodIndex(['2020-11-01', '2020-11-02', '2020-11-03', '2020-11-04',\n             '2020-11-05', '2020-11-06', '2020-11-07', '2020-11-08',\n             '2020-11-09', '2020-11-10', '2020-11-11', '2020-11-12',\n             '2020-11-13', '2020-11-14', '2020-11-15', '2020-11-16',\n             '2020-11-17', '2020-11-18', '2020-11-19'],\n            dtype='period[D]', freq='D')\n"
     ]
    }
   ],
   "source": [
    "import pandas as pd\n",
    "\n",
    "pr = pd.period_range('20201101', '20201119', freq='d')\n",
    "print(pr)"
   ]
  },
  {
   "cell_type": "code",
   "execution_count": 7,
   "metadata": {},
   "outputs": [
    {
     "output_type": "stream",
     "name": "stdout",
     "text": [
      "['20201117', '20201118', '20201119']\n"
     ]
    }
   ],
   "source": [
    "url=\"https://news.naver.com/main/list.nhn\"\n",
    "query= \"mode=LPOD&sid2=140&sid1=001&mid=sec&oid=001&isYeonhapFlash=Y&date={0}&page={1}\"\n",
    "\n",
    "day = pd.period_range('20201117', '20201119').strftime(\"%Y%m%d\").tolist()\n",
    "# day = [\"20201118\",\"20201119\"]\n",
    "page = 1\n",
    "print(day)"
   ]
  },
  {
   "cell_type": "code",
   "execution_count": 8,
   "metadata": {
    "tags": []
   },
   "outputs": [],
   "source": [
    "news_list=[]\n",
    "\n",
    "for idx,date in enumerate(day):\n",
    "    for page in range(1,4):\n",
    "        time.sleep(0.3)\n",
    "        current_url = \"\".join([url, \"?\", query]) \\\n",
    "                        .format(date, page)\n",
    "        # page += 1\n",
    "\n",
    "        browser.get(current_url)    \n",
    "        soup = BeautifulSoup(browser.page_source, \"html.parser\") \n",
    "        # print(soup)\n",
    "\n",
    "        dl_list = soup.select(\"#main_content > div.list_body.newsflash_body > ul.type02 > li.\")\n",
    "        # print(dl_list)\n",
    "        if len(dl_list) == 0:\n",
    "            break\n",
    "        #main_content > div.list_body.newsflash_body > ul > li:nth-child(2)\n",
    "        for idx, dl in enumerate(dl_list):\n",
    "            links = dl.select('a.nclicks(cnt_flashart)')    #링크\n",
    "            date = dl.select('span.date')    #날짜\n",
    "            # print(len(links))\n",
    "            # print(links)\n",
    "            # print(date)\n",
    "            link = links[0] if len(links) == 1 else links[1]     \n",
    "            # len(links) == 1 이면 links[0] , 아니면 links[1]\n",
    "            date = date[0]\n",
    "            news_list.append( [link.text.strip(), link['href'], date.text.strip()])\n",
    "\n",
    "        if len(dl_list) < 3:\n",
    "            break\n",
    "\n",
    "        page += 1"
   ]
  },
  {
   "cell_type": "code",
   "execution_count": 9,
   "metadata": {},
   "outputs": [
    {
     "output_type": "execute_result",
     "data": {
      "text/plain": [
       "27"
      ]
     },
     "metadata": {},
     "execution_count": 9
    }
   ],
   "source": [
    "len(news_list) "
   ]
  },
  {
   "cell_type": "code",
   "execution_count": 11,
   "metadata": {},
   "outputs": [
    {
     "output_type": "execute_result",
     "data": {
      "text/plain": [
       "[['황희찬, 한국 A매치 역대 최단시간 16초 만에 득점 신기록',\n",
       "  'https://news.naver.com/main/read.nhn?mode=LPOD&mid=sec&oid=001&aid=0012021604&isYeonhapFlash=Y&rc=N',\n",
       "  '2020.11.17. 오후 10:31'],\n",
       " [\"산은, '아시아나 인수' 한진그룹 오너 갑질 막는다\",\n",
       "  'https://news.naver.com/main/read.nhn?mode=LPOD&mid=sec&oid=001&aid=0012021173&isYeonhapFlash=Y&rc=N',\n",
       "  '2020.11.17. 오후 6:44'],\n",
       " ['광화문 확장에…오세훈 \"무리수\" 안철수 \"유훈행정\"',\n",
       "  'https://news.naver.com/main/read.nhn?mode=LPOD&mid=sec&oid=001&aid=0012021470&isYeonhapFlash=Y&rc=N',\n",
       "  '2020.11.17. 오후 9:09']]"
      ]
     },
     "metadata": {},
     "execution_count": 11
    }
   ],
   "source": [
    "# print(len(news_list[4:7]))\n",
    "news_list[:3]"
   ]
  },
  {
   "cell_type": "code",
   "execution_count": null,
   "metadata": {},
   "outputs": [],
   "source": [
    "# none_contents_index = []\n",
    "# for idx, news in enumerate(news_list):\n",
    "\n",
    "#     time.sleep(0.3)\n",
    "\n",
    "#     link2 = news[1]\n",
    "#     browser.get(link2)\n",
    "#     soup2 = BeautifulSoup(browser.page_source, 'html.parser')\n",
    "#     # print(soup2)\n",
    "#     contents = soup2.select_one('div#articleBodyContents')\n",
    "#     contents2= soup2.select_one('div#newsEndContents')\n",
    "#     # print(\"current index : \", idx)\n",
    "#     # print(contents2)\n",
    "#     content_string = \"\"    \n",
    "#     if (contents != None):\n",
    "#         for child in contents.children:        \n",
    "#             # print(child, '/', type(child))\n",
    "#             if type(child) == Tag and child.name != \"script\":\n",
    "#                 content_string += child.text.strip() + \" \" \n",
    "#             if type(child) == NavigableString:   \n",
    "#                 content_string += str(child).strip() + \" \"\n",
    "        \n",
    "#         print(content_string)\n",
    "#         news.append(content_string) # [제목,주소] -> [제목,주소,내용]\n",
    "#     else:\n",
    "#         none_contents_index.append(idx)"
   ]
  },
  {
   "cell_type": "code",
   "execution_count": 12,
   "metadata": {
    "tags": []
   },
   "outputs": [],
   "source": [
    "none_contents_index = []\n",
    "for idx, news in enumerate(news_list):\n",
    "\n",
    "    time.sleep(0.3)\n",
    "\n",
    "    link2 = news[1]\n",
    "    # print(link2)\n",
    "    browser.get(link2)\n",
    "    soup2 = BeautifulSoup(browser.page_source, 'html.parser')\n",
    "    # # print(soup2)\n",
    "    contents = soup2.select_one('div#articleBodyContents')\n",
    "    contents2= soup2.select_one('div#newsEndContents')\n",
    "    # # print(\"current index : \", idx)\n",
    "    # # print(contents2)\n",
    "    content_string = \"\"    \n",
    "    if (contents != None):\n",
    "        for child in contents.children:        \n",
    "            # print(child, '/', type(child))\n",
    "            if type(child) == Tag and child.name != \"script\":\n",
    "                content_string += child.text.strip() + \" \" \n",
    "            if type(child) == NavigableString:   \n",
    "                content_string += str(child).strip() + \" \"\n",
    "        \n",
    "        # print(content_string)\n",
    "        news.append(content_string) # [제목,주소,날짜] -> [제목,주소,날짜,내용]\n",
    "    elif (contents == None):\n",
    "        for child in contents2.children:        \n",
    "            # print(child, '/', type(child))\n",
    "            if type(child) == Tag and child.name != \"script\":\n",
    "                content_string += child.text.strip() + \" \" \n",
    "            if type(child) == NavigableString:   \n",
    "                content_string += str(child).strip() + \" \"\n",
    "        # print(content_string)\n",
    "        news.append(content_string)\n",
    "    else:\n",
    "        none_contents_index.append(idx)"
   ]
  },
  {
   "cell_type": "code",
   "execution_count": 13,
   "metadata": {},
   "outputs": [
    {
     "output_type": "execute_result",
     "data": {
      "text/plain": [
       "[]"
      ]
     },
     "metadata": {},
     "execution_count": 13
    }
   ],
   "source": [
    "none_contents_index"
   ]
  },
  {
   "cell_type": "code",
   "execution_count": null,
   "metadata": {},
   "outputs": [],
   "source": [
    "news_list[7]"
   ]
  },
  {
   "cell_type": "code",
   "execution_count": 14,
   "metadata": {},
   "outputs": [],
   "source": [
    "news_list_df = \\\n",
    "pd.DataFrame(news_list, columns=['제목', '링크', '날짜','내용',])"
   ]
  },
  {
   "cell_type": "code",
   "execution_count": 15,
   "metadata": {},
   "outputs": [
    {
     "output_type": "execute_result",
     "data": {
      "text/plain": [
       "                                        제목  \\\n",
       "0        황희찬, 한국 A매치 역대 최단시간 16초 만에 득점 신기록   \n",
       "1             산은, '아시아나 인수' 한진그룹 오너 갑질 막는다   \n",
       "2             광화문 확장에…오세훈 \"무리수\" 안철수 \"유훈행정\"   \n",
       "3          알테어 3점포 쾅…NC 완벽 계투로 한국시리즈 기선 제압   \n",
       "4               KBS, '검언유착' 오보 관련자 감봉 등 징계   \n",
       "5           손흥민-황의조-황희찬 '최정예 삼각편대' 카타르전 출격   \n",
       "6        전세대책 발표 19일로 연기…단기간에 공공임대 10만호 공급   \n",
       "7      전문가들 \"거리두기 1.5단계 격상 필요\"…일각선 실효성에 의문   \n",
       "8         맨시티전 앞둔 토트넘 '골잡이' 손흥민 복귀에 전세기 투입   \n",
       "9      모더나 이어 화이자도 \"코로나 백신 95% 면역효과\"…최종 결과   \n",
       "10           삼성바이오·셀트리온, 송도 바이오클러스터 개발 본격화   \n",
       "11           연세대 신촌캠퍼스 코로나 비상…확진자 11명으로 증가   \n",
       "12      법무부 \"19일 오후 2시 윤석열 조사\" 통보 시도…대검 반발   \n",
       "13  EU, 한국 ILO 핵심협약 비준 지연에 \"대응책 채택할 수도\" 경고   \n",
       "14       김재호·호세 '쾅·쾅'…두산, NC 따돌리고 KS 1승 1패   \n",
       "15     '바이든에 줄대라' 워싱턴은 로비 전쟁 중…문턱 닳는 K스트리트   \n",
       "16       두산 김재호, PS 첫 홈런에 신들린 수비까지…베테랑의 위엄   \n",
       "17          '전 연인 성폭력 의혹' 가을방학 정바비 기소의견 송치   \n",
       "18       기상청 \"북한 황해남도 옹진 북쪽서 규모 3.1 지진 발생\"   \n",
       "19               완충 후 계속 충전기 꽂아둔 전동킥보드 '펑'   \n",
       "20      대구시, 코로나19 치료 대구의료원 내년도 예산 19억원 삭감   \n",
       "21       청남대 전두환 동상 훼손 50대 \"연희동 집에 던지려 했다\"   \n",
       "22                '월세 울컥' 청년에 이낙연 \"죄지은 마음\"   \n",
       "23            정기국회 '공수처법 개정' 암초…여야 정면충돌 전운   \n",
       "24          호암 추도식 찾은 이재용 \"사회에 희망주는 기업 되자\"   \n",
       "25       '3명 사망' 인천 공장 화재…화학물질 폭발로 인명피해 커져   \n",
       "26        순천시 사회적 거리두기 2단계 격상…단계 세분화 이후 처음   \n",
       "\n",
       "                                                   링크                    날짜  \\\n",
       "0   https://news.naver.com/main/read.nhn?mode=LPOD...  2020.11.17. 오후 10:31   \n",
       "1   https://news.naver.com/main/read.nhn?mode=LPOD...   2020.11.17. 오후 6:44   \n",
       "2   https://news.naver.com/main/read.nhn?mode=LPOD...   2020.11.17. 오후 9:09   \n",
       "3   https://news.naver.com/main/read.nhn?mode=LPOD...   2020.11.17. 오후 9:55   \n",
       "4   https://news.naver.com/main/read.nhn?mode=LPOD...   2020.11.17. 오후 8:30   \n",
       "5   https://news.naver.com/main/read.nhn?mode=LPOD...   2020.11.17. 오후 9:13   \n",
       "6   https://news.naver.com/main/read.nhn?mode=LPOD...   2020.11.17. 오후 5:03   \n",
       "7   https://news.naver.com/main/read.nhn?mode=LPOD...   2020.11.17. 오후 7:32   \n",
       "8   https://news.naver.com/main/read.nhn?mode=LPOD...   2020.11.17. 오후 8:49   \n",
       "9   https://news.naver.com/main/read.nhn?mode=LPOD...   2020.11.18. 오후 9:57   \n",
       "10  https://news.naver.com/main/read.nhn?mode=LPOD...   2020.11.18. 오후 4:24   \n",
       "11  https://news.naver.com/main/read.nhn?mode=LPOD...  2020.11.18. 오후 10:23   \n",
       "12  https://news.naver.com/main/read.nhn?mode=LPOD...   2020.11.18. 오후 6:49   \n",
       "13  https://news.naver.com/main/read.nhn?mode=LPOD...  2020.11.18. 오후 10:29   \n",
       "14  https://news.naver.com/main/read.nhn?mode=LPOD...  2020.11.18. 오후 10:15   \n",
       "15  https://news.naver.com/main/read.nhn?mode=LPOD...  2020.11.18. 오후 10:03   \n",
       "16  https://news.naver.com/main/read.nhn?mode=LPOD...  2020.11.18. 오후 10:11   \n",
       "17  https://news.naver.com/main/read.nhn?mode=LPOD...   2020.11.18. 오후 9:20   \n",
       "18  https://news.naver.com/main/read.nhn?mode=LPOD...  2020.11.19. 오후 11:28   \n",
       "19  https://news.naver.com/main/read.nhn?mode=LPOD...  2020.11.19. 오후 11:04   \n",
       "20  https://news.naver.com/main/read.nhn?mode=LPOD...  2020.11.19. 오후 10:11   \n",
       "21  https://news.naver.com/main/read.nhn?mode=LPOD...   2020.11.19. 오후 6:15   \n",
       "22  https://news.naver.com/main/read.nhn?mode=LPOD...  2020.11.19. 오후 10:09   \n",
       "23  https://news.naver.com/main/read.nhn?mode=LPOD...   2020.11.19. 오후 6:25   \n",
       "24  https://news.naver.com/main/read.nhn?mode=LPOD...   2020.11.19. 오후 7:26   \n",
       "25  https://news.naver.com/main/read.nhn?mode=LPOD...   2020.11.19. 오후 7:29   \n",
       "26  https://news.naver.com/main/read.nhn?mode=LPOD...   2020.11.19. 오후 5:30   \n",
       "\n",
       "                                                   내용  \n",
       "0    카타르와 평가전서 황의조 어시스트로 '선제 벼락골' 작성   황희찬 선제골(서울=...  \n",
       "1        한진칼과 투자합의서 체결…윤리경영 안전장치 마련위약금 5천억 등 7대 의무...  \n",
       "2        서울시 광화문광장 탈바꿈 공사 시작(서울=연합뉴스) 백승렬 기자 = 17일...  \n",
       "3    두산 5-3으로 따돌려…5명 벌떼 구원진 3⅔이닝 무실점   알테어 홈런에 환호하...  \n",
       "4        1·3노조 \"솜방망이 처벌…지나치게 가벼운 징계\"   KBS 검언유착오보진...  \n",
       "5      카타르전 축구대표팀 선발 명단  [대한축구협회 제공. 재판매 및 DB 금지] ...  \n",
       "6        민간 짓는 다가구주택, 서울시내 호텔과 사무실 등 주거용으로 바꿔 공급  ...  \n",
       "7        \"코로나19 확산세 차단에 어느 정도 효과있을지는 두고 봐야\"    '거리...  \n",
       "8      손흥민 '브이'  [대한축구협회 제공. 재판매 및 DB 금지]   (서울=연합...  \n",
       "9        모더나 94.5% 중간결과 발표 이틀만…광범위한 백신 보급 기대감 높여 화...  \n",
       "10       바이오의약품 생산기지 입지 공고화…두 회사서 2.5조원 투자삼성바이오로직스...  \n",
       "11       연세대[연합뉴스 자료사진]   (서울=연합뉴스) 김치연 송은경 기자 = 신...  \n",
       "12       평검사 2명 보내 서류 전달하려다 무산…檢 \"믿을 수 없는 일\" 법무부 \"...  \n",
       "13       이달 초 한-EU FTA 전문가 패널서 언급…불이익 조치 공식 시사   작...  \n",
       "14   플렉센, 6이닝 1실점…구창모, 6이닝 3실점 패전'불운' NC, 5번이나 더블아...  \n",
       "15       각국 정부·기업, 바이든측 인맥찾기 '허둥지둥'…로비회사들 문전성시   이...  \n",
       "16   KS 2차전서 3타수 2안타 2타점 2득점 1볼넷 맹활약   '허슬두' 다시 비상...  \n",
       "17       강간치상 혐의는 증거불충분으로 불기소의견 송치정바비 \"고발근거 사실 아님 ...  \n",
       "18      (서울=연합뉴스) 19일 오후 11시 17분 28초 북한 황해남도 옹진 북쪽...  \n",
       "19       전동킥보드 화재[연합뉴스TV 제공]   (서울=연합뉴스) 김치연 기자 = ...  \n",
       "20       대구의료원으로 이송되는 확진자(대구=연합뉴스) 임채두 기자 = 지난 3월 ...  \n",
       "21       5·18단체 회원 추정…줄톱으로 목 부위 훼손 도중 현행범 붙잡혀   (청...  \n",
       "22       아동학대예방의날  현장 방문한 민주당 이낙연 대표(서울=연합뉴스) 더불어민...  \n",
       "23       與, 비토권 무력화 법 개정해 연내 공수처장 임명 방침野 \"모든 역량 동원...  \n",
       "24       이병철 선대회장 33주기…이 부회장, 조부·부친 정신 계승 강조이재현 CJ...  \n",
       "25       소방당국 \"남성 직원들이 여성 직원들 먼저 대피시켜\"   화재로 근로자 3...  \n",
       "26       허석 시장 \"더 큰 경제적 손실 막기 위해 격상\"   (순천=연합뉴스) 형...  "
      ],
      "text/html": "<div>\n<style scoped>\n    .dataframe tbody tr th:only-of-type {\n        vertical-align: middle;\n    }\n\n    .dataframe tbody tr th {\n        vertical-align: top;\n    }\n\n    .dataframe thead th {\n        text-align: right;\n    }\n</style>\n<table border=\"1\" class=\"dataframe\">\n  <thead>\n    <tr style=\"text-align: right;\">\n      <th></th>\n      <th>제목</th>\n      <th>링크</th>\n      <th>날짜</th>\n      <th>내용</th>\n    </tr>\n  </thead>\n  <tbody>\n    <tr>\n      <th>0</th>\n      <td>황희찬, 한국 A매치 역대 최단시간 16초 만에 득점 신기록</td>\n      <td>https://news.naver.com/main/read.nhn?mode=LPOD...</td>\n      <td>2020.11.17. 오후 10:31</td>\n      <td>카타르와 평가전서 황의조 어시스트로 '선제 벼락골' 작성   황희찬 선제골(서울=...</td>\n    </tr>\n    <tr>\n      <th>1</th>\n      <td>산은, '아시아나 인수' 한진그룹 오너 갑질 막는다</td>\n      <td>https://news.naver.com/main/read.nhn?mode=LPOD...</td>\n      <td>2020.11.17. 오후 6:44</td>\n      <td>한진칼과 투자합의서 체결…윤리경영 안전장치 마련위약금 5천억 등 7대 의무...</td>\n    </tr>\n    <tr>\n      <th>2</th>\n      <td>광화문 확장에…오세훈 \"무리수\" 안철수 \"유훈행정\"</td>\n      <td>https://news.naver.com/main/read.nhn?mode=LPOD...</td>\n      <td>2020.11.17. 오후 9:09</td>\n      <td>서울시 광화문광장 탈바꿈 공사 시작(서울=연합뉴스) 백승렬 기자 = 17일...</td>\n    </tr>\n    <tr>\n      <th>3</th>\n      <td>알테어 3점포 쾅…NC 완벽 계투로 한국시리즈 기선 제압</td>\n      <td>https://news.naver.com/main/read.nhn?mode=LPOD...</td>\n      <td>2020.11.17. 오후 9:55</td>\n      <td>두산 5-3으로 따돌려…5명 벌떼 구원진 3⅔이닝 무실점   알테어 홈런에 환호하...</td>\n    </tr>\n    <tr>\n      <th>4</th>\n      <td>KBS, '검언유착' 오보 관련자 감봉 등 징계</td>\n      <td>https://news.naver.com/main/read.nhn?mode=LPOD...</td>\n      <td>2020.11.17. 오후 8:30</td>\n      <td>1·3노조 \"솜방망이 처벌…지나치게 가벼운 징계\"   KBS 검언유착오보진...</td>\n    </tr>\n    <tr>\n      <th>5</th>\n      <td>손흥민-황의조-황희찬 '최정예 삼각편대' 카타르전 출격</td>\n      <td>https://news.naver.com/main/read.nhn?mode=LPOD...</td>\n      <td>2020.11.17. 오후 9:13</td>\n      <td>카타르전 축구대표팀 선발 명단  [대한축구협회 제공. 재판매 및 DB 금지] ...</td>\n    </tr>\n    <tr>\n      <th>6</th>\n      <td>전세대책 발표 19일로 연기…단기간에 공공임대 10만호 공급</td>\n      <td>https://news.naver.com/main/read.nhn?mode=LPOD...</td>\n      <td>2020.11.17. 오후 5:03</td>\n      <td>민간 짓는 다가구주택, 서울시내 호텔과 사무실 등 주거용으로 바꿔 공급  ...</td>\n    </tr>\n    <tr>\n      <th>7</th>\n      <td>전문가들 \"거리두기 1.5단계 격상 필요\"…일각선 실효성에 의문</td>\n      <td>https://news.naver.com/main/read.nhn?mode=LPOD...</td>\n      <td>2020.11.17. 오후 7:32</td>\n      <td>\"코로나19 확산세 차단에 어느 정도 효과있을지는 두고 봐야\"    '거리...</td>\n    </tr>\n    <tr>\n      <th>8</th>\n      <td>맨시티전 앞둔 토트넘 '골잡이' 손흥민 복귀에 전세기 투입</td>\n      <td>https://news.naver.com/main/read.nhn?mode=LPOD...</td>\n      <td>2020.11.17. 오후 8:49</td>\n      <td>손흥민 '브이'  [대한축구협회 제공. 재판매 및 DB 금지]   (서울=연합...</td>\n    </tr>\n    <tr>\n      <th>9</th>\n      <td>모더나 이어 화이자도 \"코로나 백신 95% 면역효과\"…최종 결과</td>\n      <td>https://news.naver.com/main/read.nhn?mode=LPOD...</td>\n      <td>2020.11.18. 오후 9:57</td>\n      <td>모더나 94.5% 중간결과 발표 이틀만…광범위한 백신 보급 기대감 높여 화...</td>\n    </tr>\n    <tr>\n      <th>10</th>\n      <td>삼성바이오·셀트리온, 송도 바이오클러스터 개발 본격화</td>\n      <td>https://news.naver.com/main/read.nhn?mode=LPOD...</td>\n      <td>2020.11.18. 오후 4:24</td>\n      <td>바이오의약품 생산기지 입지 공고화…두 회사서 2.5조원 투자삼성바이오로직스...</td>\n    </tr>\n    <tr>\n      <th>11</th>\n      <td>연세대 신촌캠퍼스 코로나 비상…확진자 11명으로 증가</td>\n      <td>https://news.naver.com/main/read.nhn?mode=LPOD...</td>\n      <td>2020.11.18. 오후 10:23</td>\n      <td>연세대[연합뉴스 자료사진]   (서울=연합뉴스) 김치연 송은경 기자 = 신...</td>\n    </tr>\n    <tr>\n      <th>12</th>\n      <td>법무부 \"19일 오후 2시 윤석열 조사\" 통보 시도…대검 반발</td>\n      <td>https://news.naver.com/main/read.nhn?mode=LPOD...</td>\n      <td>2020.11.18. 오후 6:49</td>\n      <td>평검사 2명 보내 서류 전달하려다 무산…檢 \"믿을 수 없는 일\" 법무부 \"...</td>\n    </tr>\n    <tr>\n      <th>13</th>\n      <td>EU, 한국 ILO 핵심협약 비준 지연에 \"대응책 채택할 수도\" 경고</td>\n      <td>https://news.naver.com/main/read.nhn?mode=LPOD...</td>\n      <td>2020.11.18. 오후 10:29</td>\n      <td>이달 초 한-EU FTA 전문가 패널서 언급…불이익 조치 공식 시사   작...</td>\n    </tr>\n    <tr>\n      <th>14</th>\n      <td>김재호·호세 '쾅·쾅'…두산, NC 따돌리고 KS 1승 1패</td>\n      <td>https://news.naver.com/main/read.nhn?mode=LPOD...</td>\n      <td>2020.11.18. 오후 10:15</td>\n      <td>플렉센, 6이닝 1실점…구창모, 6이닝 3실점 패전'불운' NC, 5번이나 더블아...</td>\n    </tr>\n    <tr>\n      <th>15</th>\n      <td>'바이든에 줄대라' 워싱턴은 로비 전쟁 중…문턱 닳는 K스트리트</td>\n      <td>https://news.naver.com/main/read.nhn?mode=LPOD...</td>\n      <td>2020.11.18. 오후 10:03</td>\n      <td>각국 정부·기업, 바이든측 인맥찾기 '허둥지둥'…로비회사들 문전성시   이...</td>\n    </tr>\n    <tr>\n      <th>16</th>\n      <td>두산 김재호, PS 첫 홈런에 신들린 수비까지…베테랑의 위엄</td>\n      <td>https://news.naver.com/main/read.nhn?mode=LPOD...</td>\n      <td>2020.11.18. 오후 10:11</td>\n      <td>KS 2차전서 3타수 2안타 2타점 2득점 1볼넷 맹활약   '허슬두' 다시 비상...</td>\n    </tr>\n    <tr>\n      <th>17</th>\n      <td>'전 연인 성폭력 의혹' 가을방학 정바비 기소의견 송치</td>\n      <td>https://news.naver.com/main/read.nhn?mode=LPOD...</td>\n      <td>2020.11.18. 오후 9:20</td>\n      <td>강간치상 혐의는 증거불충분으로 불기소의견 송치정바비 \"고발근거 사실 아님 ...</td>\n    </tr>\n    <tr>\n      <th>18</th>\n      <td>기상청 \"북한 황해남도 옹진 북쪽서 규모 3.1 지진 발생\"</td>\n      <td>https://news.naver.com/main/read.nhn?mode=LPOD...</td>\n      <td>2020.11.19. 오후 11:28</td>\n      <td>(서울=연합뉴스) 19일 오후 11시 17분 28초 북한 황해남도 옹진 북쪽...</td>\n    </tr>\n    <tr>\n      <th>19</th>\n      <td>완충 후 계속 충전기 꽂아둔 전동킥보드 '펑'</td>\n      <td>https://news.naver.com/main/read.nhn?mode=LPOD...</td>\n      <td>2020.11.19. 오후 11:04</td>\n      <td>전동킥보드 화재[연합뉴스TV 제공]   (서울=연합뉴스) 김치연 기자 = ...</td>\n    </tr>\n    <tr>\n      <th>20</th>\n      <td>대구시, 코로나19 치료 대구의료원 내년도 예산 19억원 삭감</td>\n      <td>https://news.naver.com/main/read.nhn?mode=LPOD...</td>\n      <td>2020.11.19. 오후 10:11</td>\n      <td>대구의료원으로 이송되는 확진자(대구=연합뉴스) 임채두 기자 = 지난 3월 ...</td>\n    </tr>\n    <tr>\n      <th>21</th>\n      <td>청남대 전두환 동상 훼손 50대 \"연희동 집에 던지려 했다\"</td>\n      <td>https://news.naver.com/main/read.nhn?mode=LPOD...</td>\n      <td>2020.11.19. 오후 6:15</td>\n      <td>5·18단체 회원 추정…줄톱으로 목 부위 훼손 도중 현행범 붙잡혀   (청...</td>\n    </tr>\n    <tr>\n      <th>22</th>\n      <td>'월세 울컥' 청년에 이낙연 \"죄지은 마음\"</td>\n      <td>https://news.naver.com/main/read.nhn?mode=LPOD...</td>\n      <td>2020.11.19. 오후 10:09</td>\n      <td>아동학대예방의날  현장 방문한 민주당 이낙연 대표(서울=연합뉴스) 더불어민...</td>\n    </tr>\n    <tr>\n      <th>23</th>\n      <td>정기국회 '공수처법 개정' 암초…여야 정면충돌 전운</td>\n      <td>https://news.naver.com/main/read.nhn?mode=LPOD...</td>\n      <td>2020.11.19. 오후 6:25</td>\n      <td>與, 비토권 무력화 법 개정해 연내 공수처장 임명 방침野 \"모든 역량 동원...</td>\n    </tr>\n    <tr>\n      <th>24</th>\n      <td>호암 추도식 찾은 이재용 \"사회에 희망주는 기업 되자\"</td>\n      <td>https://news.naver.com/main/read.nhn?mode=LPOD...</td>\n      <td>2020.11.19. 오후 7:26</td>\n      <td>이병철 선대회장 33주기…이 부회장, 조부·부친 정신 계승 강조이재현 CJ...</td>\n    </tr>\n    <tr>\n      <th>25</th>\n      <td>'3명 사망' 인천 공장 화재…화학물질 폭발로 인명피해 커져</td>\n      <td>https://news.naver.com/main/read.nhn?mode=LPOD...</td>\n      <td>2020.11.19. 오후 7:29</td>\n      <td>소방당국 \"남성 직원들이 여성 직원들 먼저 대피시켜\"   화재로 근로자 3...</td>\n    </tr>\n    <tr>\n      <th>26</th>\n      <td>순천시 사회적 거리두기 2단계 격상…단계 세분화 이후 처음</td>\n      <td>https://news.naver.com/main/read.nhn?mode=LPOD...</td>\n      <td>2020.11.19. 오후 5:30</td>\n      <td>허석 시장 \"더 큰 경제적 손실 막기 위해 격상\"   (순천=연합뉴스) 형...</td>\n    </tr>\n  </tbody>\n</table>\n</div>"
     },
     "metadata": {},
     "execution_count": 15
    }
   ],
   "source": [
    "news_list_df"
   ]
  },
  {
   "cell_type": "code",
   "execution_count": 16,
   "metadata": {},
   "outputs": [],
   "source": [
    "news_list_df.to_csv('news_크롤링.csv')     # 데이터 csv로 저장"
   ]
  },
  {
   "cell_type": "code",
   "execution_count": 17,
   "metadata": {},
   "outputs": [],
   "source": [
    "browser.close()"
   ]
  },
  {
   "cell_type": "code",
   "execution_count": 34,
   "metadata": {},
   "outputs": [
    {
     "output_type": "execute_result",
     "data": {
      "text/plain": [
       "200"
      ]
     },
     "metadata": {},
     "execution_count": 34
    }
   ],
   "source": [
    "url=\"https://news.daum.net/breakingnews/society?page=3&regDate=20201001\"\n",
    "resp = requests.get(url)\n",
    "soup = BeautifulSoup(resp.text, 'html.parser')\n",
    "\n",
    "resp.status_code"
   ]
  },
  {
   "cell_type": "code",
   "execution_count": 52,
   "metadata": {
    "tags": []
   },
   "outputs": [
    {
     "output_type": "execute_result",
     "data": {
      "text/plain": [
       "[[\"진천 요양원 코호트 격리 해제..16명 모두 '음성'\", 'https://v.daum.net/v/20201001224638609'],\n",
       " [\"성묘도 나들이도 '예약제'..방역수칙 지킨 추석 풍경\", 'https://v.daum.net/v/20201001224635608'],\n",
       " ['보령 해상서 어선 침몰..인명피해 없어', 'https://v.daum.net/v/20201001224358576'],\n",
       " ['천안서 코로나19 확진자 1명 추가', 'https://v.daum.net/v/20201001224357575'],\n",
       " ['[포토뉴스] 안병용 의정부시장 부용시민정원 식재', 'https://v.daum.net/v/20201001224303565']]"
      ]
     },
     "metadata": {},
     "execution_count": 52
    }
   ],
   "source": [
    "div_list=soup.select(\"#mArticle > div.box_etc > ul > li >div\")\n",
    "\n",
    "news_list = []\n",
    "\n",
    "if len(div_list) == 0:\n",
    "    pass\n",
    "\n",
    "for idx, div in enumerate(div_list):\n",
    "    links = div.select('strong > a')\n",
    "    link = links[0] if len(links) == 1 else links[1]\n",
    "    news_list.append( [link.text.strip(), link['href']]) \n",
    "\n",
    "news_list[:5]"
   ]
  },
  {
   "cell_type": "code",
   "execution_count": 2,
   "metadata": {},
   "outputs": [
    {
     "output_type": "execute_result",
     "data": {
      "text/plain": [
       "200"
      ]
     },
     "metadata": {},
     "execution_count": 2
    }
   ],
   "source": [
    "url=\"https://www.google.com/search?q=%ED%8C%8C%EC%9D%B4%EB%A6%AC&tbm=isch&ved=2ahUKEwjVjaeY3dTsAhUFfpQKHS2OBigQ2-cCegQIABAA&oq=%ED%8C%8C%EC%9D%B4%EB%A6%AC&gs_lcp=CgNpbWcQAzIFCAAQsQMyAggAMgIIADICCAAyAggAMgIIADICCAAyAggAMgIIADICCAA6BAgjECdQmau8AVjmtLwBYPLMvAFoAXAAeAKAAfIGiAHTEpIBDTAuMy4xLjAuMi4wLjGYAQCgAQGqAQtnd3Mtd2l6LWltZ8ABAQ&sclient=img&ei=YwyYX5XQIIX80QStnJrAAg&bih=937&biw=1903&hl=ko\"\n",
    "\n",
    "resp = requests.get(url)\n",
    "soup = BeautifulSoup(resp.text, 'html.parser')\n",
    "\n",
    "resp.status_code"
   ]
  }
 ]
}