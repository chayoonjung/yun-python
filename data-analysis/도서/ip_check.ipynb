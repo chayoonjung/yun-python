{
 "cells": [
  {
   "cell_type": "code",
   "execution_count": 27,
   "metadata": {
    "tags": []
   },
   "outputs": [
    {
     "name": "stdout",
     "output_type": "stream",
     "text": [
      "WAN ip : 61.106.67.33\n",
      "LAN ip : 127.0.0.1\n"
     ]
    }
   ],
   "source": [
    "import socket \n",
    "import urllib \n",
    "import re \n",
    "\n",
    "lan = socket.gethostbyname(socket.gethostname()) \n",
    "wan = re.search(re.compile(b'\\d{1,3}\\.\\d{1,3}\\.\\d{1,3}\\.\\d{1,3}'), urllib.request.urlopen('http://checkip.dyndns.org').read()).group().decode('utf-8')\n",
    "\n",
    "print('WAN ip : ' + wan) \n",
    "print('LAN ip : ' + lan)"
   ]
  },
  {
   "cell_type": "code",
   "execution_count": null,
   "metadata": {},
   "outputs": [],
   "source": []
  }
 ],
 "metadata": {
  "kernelspec": {
   "display_name": "Python 3",
   "language": "python",
   "name": "python3"
  },
  "language_info": {
   "codemirror_mode": {
    "name": "ipython",
    "version": 3
   },
   "file_extension": ".py",
   "mimetype": "text/x-python",
   "name": "python",
   "nbconvert_exporter": "python",
   "pygments_lexer": "ipython3",
   "version": "3.6.10"
  }
 },
 "nbformat": 4,
 "nbformat_minor": 4
}
