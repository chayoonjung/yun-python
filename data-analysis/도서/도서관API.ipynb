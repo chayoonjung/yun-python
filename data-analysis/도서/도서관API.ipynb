{
 "cells": [
  {
   "cell_type": "markdown",
   "metadata": {},
   "source": [
    "도서관 openapi: e90824929c90f865d4233fa27e08262b1abfb5c4e60b98ba85fc70f5d6d695e9"
   ]
  },
  {
   "cell_type": "code",
   "execution_count": 4,
   "metadata": {},
   "outputs": [],
   "source": [
    "import requests\n",
    "import urllib\n",
    "import json\n",
    "from bs4 import BeautifulSoup\n",
    "import time"
   ]
  },
  {
   "cell_type": "code",
   "execution_count": 12,
   "metadata": {},
   "outputs": [
    {
     "name": "stdout",
     "output_type": "stream",
     "text": [
      "http://data4library.kr/api/loanItemSrch?authKey={api_key}&startDt={startDt}&from_age={from_age}&region=11&addCode=0;1;2;4;5;6;7;9&pageNo=1&pageSize={size}\n",
      "http://data4library.kr/api/loanItemSrch?authKey=e90824929c90f865d4233fa27e08262b1abfb5c4e60b98ba85fc70f5d6d695e9&startDt=2020-01-01&from_age=1&region=11&addCode=0;1;2;4;5;6;7;9&pageNo=1&pageSize=10\n"
     ]
    }
   ],
   "source": [
    "api_key = 'e90824929c90f865d4233fa27e08262b1abfb5c4e60b98ba85fc70f5d6d695e9'\n",
    "api_url = 'http://data4library.kr/api/loanItemSrch?'\n",
    "\n",
    "parms = 'authKey={api_key}&' + \\\n",
    "        'startDt={startDt}&' + \\\n",
    "        'from_age={from_age}&' + \\\n",
    "        'region=11&'+ \\\n",
    "        'addCode=0;1;2;4;5;6;7;9&'+ \\\n",
    "        'pageNo=1&' +\\\n",
    "        'pageSize={size}'\n",
    "\n",
    "url = api_url+ parms\n",
    "print(url)\n",
    "startDt='2020-01-01'\n",
    "from_age='1'\n",
    "size='100'\n",
    "new_url = url.format(startDt=startDt, from_age=from_age, api_key=api_key , size=size)\n",
    "print(newurl)\n",
    "\n",
    "\n",
    "\n",
    "# resp = requests.get(url.format(startDt=startDt, from_age=from_age ,api_key=api_key))\n",
    "# soup = BeautifulSoup(resp.text, 'html.parser')\n",
    "\n",
    "\n",
    "# &startDt=2017-01-01   (시작날짜설정 끝날짜는 자동으로 하루 전날로 설정됨.)\n",
    "# # &gender=0 (성별)  (미입력시 전체 , 0=남성 1=여성 2=미상)\n",
    "# &from_age=6 (시작연령)\n",
    "# &region=11 (지역)\n",
    "# &addCode=0;1;2;4;5;6;7;9 (ISBN 부가기호)\n",
    "# # &kdc=6\n",
    "# # &pageNo=1  (페이지번호(pageNo) 미입력시 1로 설정 )\n",
    "# &pageSize=100\n",
    "\n",
    "# resp.status_code"
   ]
  },
  {
   "cell_type": "code",
   "execution_count": null,
   "metadata": {},
   "outputs": [],
   "source": [
    "resp = requests.get(url.format(startDt=startDt, from_age=from_age, api_key=api_key , size=size))\n",
    "resp.status_code, resp.encoding, resp.text"
   ]
  },
  {
   "cell_type": "code",
   "execution_count": null,
   "metadata": {},
   "outputs": [],
   "source": [
    "# api_key\n",
    "# parameter or query\n",
    "# # startDt=2017-01-01 & endDt=2017-0327&gender=0&from_age=6&to_age=100&region=11&addCode=0&kdc=6&pageNo=1&pageSize=10\n",
    "# # endDt=2017-0327\n",
    "# # gender=0\n",
    "# # from_age=6\n",
    "# # to_age=100\n",
    "# # region=11\n",
    "# # etc....\n",
    "\n",
    "# 완성된 url = 기본 url + 각 파라미터\n",
    "# gnder = [0, 1]\n",
    "# \"http://data4library.kr/api/loanItemSrch?authKey=api_key&gender={gender}\".format(gender=gender[0])\n",
    "\n",
    "\n",
    "\n",
    "# 완성된 url \n",
    "\n",
    "# request\n",
    "\n",
    "#Beautiful\n",
    "\n",
    "#Soup"
   ]
  }
 ],
 "metadata": {
  "kernelspec": {
   "display_name": "Python 3",
   "language": "python",
   "name": "python3"
  },
  "language_info": {
   "codemirror_mode": {
    "name": "ipython",
    "version": 3
   },
   "file_extension": ".py",
   "mimetype": "text/x-python",
   "name": "python",
   "nbconvert_exporter": "python",
   "pygments_lexer": "ipython3",
   "version": "3.6.10"
  }
 },
 "nbformat": 4,
 "nbformat_minor": 4
}
