{
 "metadata": {
  "language_info": {
   "codemirror_mode": {
    "name": "ipython",
    "version": 3
   },
   "file_extension": ".py",
   "mimetype": "text/x-python",
   "name": "python",
   "nbconvert_exporter": "python",
   "pygments_lexer": "ipython3",
   "version": "3.6.10-final"
  },
  "orig_nbformat": 2,
  "kernelspec": {
   "name": "python361064bithoseoconda264274678644477794f47fddcf829f7c",
   "display_name": "Python 3.6.10 64-bit ('hoseo': conda)"
  }
 },
 "nbformat": 4,
 "nbformat_minor": 2,
 "cells": [
  {
   "cell_type": "code",
   "execution_count": 1,
   "metadata": {},
   "outputs": [
    {
     "output_type": "stream",
     "name": "stdout",
     "text": [
      "20160901\n20160902\n20160903\n20160904\n20160905\n20160906\n20160907\n20160908\n20160909\n20160910\n20160911\n20160912\n20160913\n20160914\n20160915\n20160916\n20160917\n20160918\n20160919\n20160920\n20160921\n20160922\n20160923\n20160924\n20160925\n20160926\n20160927\n20160928\n20160929\n20160930\n20161001\n20161002\n20161003\n20161004\n20161005\n20161006\n20161007\n20161008\n20161009\n20161010\n20161011\n20161012\n20161013\n20161014\n20161015\n20161016\n20161017\n20161018\n20161019\n20161020\n20161021\n20161022\n20161023\n20161024\n20161025\n20161026\n20161027\n20161028\n20161029\n20161030\n20161031\n"
     ]
    }
   ],
   "source": [
    "import pandas\n",
    "\n",
    "dt_index = pandas.date_range(start='20160901', end='20161031')\n",
    "# pandas.date_range(start='20160901', end='20161031',freq='W-MON')\n",
    "# 을 하면 해당 기간 매주 월요일들만 추출합니다.\n",
    "\n",
    "# type(dt_index) => DatetimeIndex\n",
    "# DatetimeIndex => list(str)\n",
    "dt_list = dt_index.strftime(\"%Y%m%d\").tolist()\n",
    "\n",
    "for i in dt_list:\n",
    "    print(i)"
   ]
  },
  {
   "cell_type": "code",
   "execution_count": 3,
   "metadata": {},
   "outputs": [
    {
     "output_type": "stream",
     "name": "stdout",
     "text": [
      "2020-11-19\n2020-11-29\n"
     ]
    }
   ],
   "source": [
    "import datetime\n",
    "today = datetime.date.today()\n",
    "print( today)\n",
    "\n",
    "today = today + datetime.timedelta(+10)  # timedelta값은 날짜, 시간, 밀리초 등 여러 값을 넣을 수 있고, 해당 값을 +/- 해가면서 날짜값을 조절 할 수 있다.\n",
    "print( today)"
   ]
  },
  {
   "cell_type": "code",
   "execution_count": 12,
   "metadata": {},
   "outputs": [
    {
     "output_type": "stream",
     "name": "stdout",
     "text": [
      "['20201101', '20201102', '20201103', '20201104', '20201105', '20201106', '20201107', '20201108', '20201109', '20201110', '20201111', '20201112', '20201113', '20201114', '20201115', '20201116', '20201117', '20201118']\n"
     ]
    }
   ],
   "source": [
    "# 가져올 범위를 정의\n",
    "# 2015-02-25 ~ 2015-02-28 // 2015-03-01 ~ 2015-03-30\n",
    "\n",
    "import datetime\n",
    "\n",
    "days = []\n",
    "\n",
    "start = datetime.datetime.strptime(\"20201101\", \"%Y%m%d\")\n",
    "end = datetime.datetime.strptime(\"20201119\", \"%Y%m%d\") # 범위 + 1\n",
    "date_generated = [start + datetime.timedelta(days=x) for x in range(0, (end-start).days)]\n",
    "\n",
    "for date in date_generated:\n",
    "    days.append(date.strftime(\"%Y%m%d\"))\n",
    "\n",
    "print(days)"
   ]
  },
  {
   "cell_type": "code",
   "execution_count": 10,
   "metadata": {},
   "outputs": [
    {
     "output_type": "execute_result",
     "data": {
      "text/plain": [
       "'2020-11-12 23:59:59'"
      ]
     },
     "metadata": {},
     "execution_count": 10
    }
   ],
   "source": [
    "from datetime import datetime, timedelta\n",
    "\n",
    "yesterday = datetime.now() - timedelta(days=1)\n",
    "yesterday = yesterday.strftime('%Y-%m-%d 00:00:00')\n",
    "\n",
    "end_date = datetime.now() - timedelta(days=7)\n",
    "end_date = end_date.strftime('%Y-%m-%d 23:59:59')\n",
    "\n",
    "# yesterday\n",
    "end_date"
   ]
  },
  {
   "cell_type": "code",
   "execution_count": null,
   "metadata": {},
   "outputs": [],
   "source": []
  }
 ]
}