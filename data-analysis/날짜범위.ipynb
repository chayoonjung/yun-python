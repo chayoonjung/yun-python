{
 "metadata": {
  "language_info": {
   "codemirror_mode": {
    "name": "ipython",
    "version": 3
   },
   "file_extension": ".py",
   "mimetype": "text/x-python",
   "name": "python",
   "nbconvert_exporter": "python",
   "pygments_lexer": "ipython3",
   "version": "3.6.10-final"
  },
  "orig_nbformat": 2,
  "kernelspec": {
   "name": "python361064bithoseoconda264274678644477794f47fddcf829f7c",
   "display_name": "Python 3.6.10 64-bit ('hoseo': conda)"
  }
 },
 "nbformat": 4,
 "nbformat_minor": 2,
 "cells": [
  {
   "cell_type": "code",
   "execution_count": 18,
   "metadata": {},
   "outputs": [
    {
     "output_type": "stream",
     "name": "stdout",
     "text": [
      "20161001\n20161002\n20161003\n20161004\n20161005\n20161006\n20161007\n20161008\n20161009\n20161010\n20161011\n20161012\n20161013\n20161014\n20161015\n20161016\n20161017\n20161018\n20161019\n20161020\n20161021\n20161022\n20161023\n20161024\n20161025\n20161026\n20161027\n20161028\n20161029\n20161030\n20161031\n20161101\n20161102\n20161103\n20161104\n20161105\n20161106\n20161107\n20161108\n20161109\n20161110\n20161111\n20161112\n20161113\n20161114\n20161115\n20161116\n20161117\n20161118\n20161119\n20161120\n"
     ]
    }
   ],
   "source": [
    "import pandas\n",
    "\n",
    "dt_index = pandas.date_range(start='20161001', end='20161120')\n",
    "# pandas.date_range(start='20160901', end='20161031',freq='W-MON')\n",
    "# 을 하면 해당 기간 매주 월요일들만 추출합니다.\n",
    "\n",
    "# type(dt_index) => DatetimeIndex\n",
    "# DatetimeIndex => list(str)\n",
    "dt_list = dt_index.strftime(\"%Y%m%d\").tolist()\n",
    "\n",
    "for i in dt_list:\n",
    "    print(i)"
   ]
  },
  {
   "cell_type": "code",
   "execution_count": 3,
   "metadata": {},
   "outputs": [
    {
     "output_type": "stream",
     "name": "stdout",
     "text": [
      "2020-11-19\n2020-11-29\n"
     ]
    }
   ],
   "source": [
    "import datetime\n",
    "today = datetime.date.today()\n",
    "print( today)\n",
    "\n",
    "today = today + datetime.timedelta(+10)  # timedelta값은 날짜, 시간, 밀리초 등 여러 값을 넣을 수 있고, 해당 값을 +/- 해가면서 날짜값을 조절 할 수 있다.\n",
    "print( today)"
   ]
  },
  {
   "cell_type": "code",
   "execution_count": 12,
   "metadata": {},
   "outputs": [
    {
     "output_type": "stream",
     "name": "stdout",
     "text": [
      "['20201101', '20201102', '20201103', '20201104', '20201105', '20201106', '20201107', '20201108', '20201109', '20201110', '20201111', '20201112', '20201113', '20201114', '20201115', '20201116', '20201117', '20201118']\n"
     ]
    }
   ],
   "source": [
    "# 가져올 범위를 정의\n",
    "# 2015-02-25 ~ 2015-02-28 // 2015-03-01 ~ 2015-03-30\n",
    "\n",
    "import datetime\n",
    "\n",
    "days = []\n",
    "\n",
    "start = datetime.datetime.strptime(\"20201101\", \"%Y%m%d\")\n",
    "end = datetime.datetime.strptime(\"20201119\", \"%Y%m%d\") # 범위 + 1\n",
    "date_generated = [start + datetime.timedelta(days=x) for x in range(0, (end-start).days)]\n",
    "\n",
    "for date in date_generated:\n",
    "    days.append(date.strftime(\"%Y%m%d\"))\n",
    "\n",
    "print(days)"
   ]
  },
  {
   "cell_type": "code",
   "execution_count": 10,
   "metadata": {},
   "outputs": [
    {
     "output_type": "execute_result",
     "data": {
      "text/plain": [
       "'2020-11-12 23:59:59'"
      ]
     },
     "metadata": {},
     "execution_count": 10
    }
   ],
   "source": [
    "from datetime import datetime, timedelta\n",
    "\n",
    "yesterday = datetime.now() - timedelta(days=1)\n",
    "yesterday = yesterday.strftime('%Y-%m-%d 00:00:00')\n",
    "\n",
    "end_date = datetime.now() - timedelta(days=7)\n",
    "end_date = end_date.strftime('%Y-%m-%d 23:59:59')\n",
    "\n",
    "# yesterday\n",
    "end_date"
   ]
  },
  {
   "cell_type": "code",
   "execution_count": 16,
   "metadata": {},
   "outputs": [
    {
     "output_type": "execute_result",
     "data": {
      "text/plain": [
       "DatetimeIndex(['2019-12-01', '2019-12-08', '2019-12-15', '2019-12-22',\n",
       "               '2019-12-29', '2020-01-05', '2020-01-12', '2020-01-19'],\n",
       "              dtype='datetime64[ns]', freq='7D')"
      ]
     },
     "metadata": {},
     "execution_count": 16
    }
   ],
   "source": [
    "import pandas as pd\n",
    "\n",
    "pd.date_range('2019-12-01', periods = 8, freq = '7d') # or freq = '3D'\n",
    "# 'Day'의 Alias인 'd'(or 'D')에 '3'을 곱하여(multiplier) '3 Days' Frequency (빈도, 주기)의 날짜 범위를 8개 (periods = 8) 생성한 것입니다. "
   ]
  },
  {
   "cell_type": "code",
   "execution_count": 38,
   "metadata": {},
   "outputs": [
    {
     "output_type": "stream",
     "name": "stdout",
     "text": [
      "PeriodIndex(['2020-01-01', '2020-01-02', '2020-01-03', '2020-01-04',\n             '2020-01-05', '2020-01-06', '2020-01-07', '2020-01-08',\n             '2020-01-09', '2020-01-10', '2020-01-11'],\n            dtype='period[D]', freq='D')\n2020-01-04\n"
     ]
    }
   ],
   "source": [
    "import pandas as pd\n",
    "\n",
    "pr = pd.period_range('2020-01-01', '2020-01-11',freq = 'd')\n",
    "print(pr)\n",
    "print(pr[3])\n",
    "# pd.Series(range(30), index=pr)"
   ]
  },
  {
   "cell_type": "code",
   "execution_count": 33,
   "metadata": {},
   "outputs": [
    {
     "output_type": "execute_result",
     "data": {
      "text/plain": [
       "'Life'"
      ]
     },
     "metadata": {},
     "execution_count": 33
    }
   ],
   "source": []
  }
 ]
}