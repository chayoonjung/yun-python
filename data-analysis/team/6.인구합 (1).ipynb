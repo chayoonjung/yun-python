{
 "cells": [
  {
   "cell_type": "code",
   "execution_count": 51,
   "metadata": {
    "colab": {},
    "colab_type": "code",
    "id": "0Pf5TvSU_OHp"
   },
   "outputs": [],
   "source": [
    "import os\n",
    "# 한글 지원\n",
    "os.putenv('NLS_LANG', '.UTF8')"
   ]
  },
  {
   "cell_type": "code",
   "execution_count": 52,
   "metadata": {
    "colab": {},
    "colab_type": "code",
    "id": "qk00wipf_OHv"
   },
   "outputs": [],
   "source": [
    "def ipchecker():    \n",
    "    import urllib \n",
    "    import re\n",
    "    \n",
    "    pattern = re.compile(b'\\d{1,3}\\.\\d{1,3}\\.\\d{1,3}\\.\\d{1,3}')\n",
    "    dyndns = urllib.request.urlopen('http://checkip.dyndns.org').read()\n",
    "    \n",
    "    wan = re.search(pattern, dyndns).group().decode('utf-8')\n",
    "    \n",
    "    return wan"
   ]
  },
  {
   "cell_type": "code",
   "execution_count": 53,
   "metadata": {
    "colab": {},
    "colab_type": "code",
    "id": "4z3TvSh2_OHz"
   },
   "outputs": [],
   "source": [
    "# base db_connect param\n",
    "\n",
    "local_ip = '200.1.220.251:1521/xe' # 원내에서 접속할 db_ip\n",
    "outside_ip = '61.35.152.103:1521/xe' # 원밖에서 접속할 db_ip\n",
    "localhost = 'localhost:1521/xe'\n",
    "\n",
    "db_id = 'begopa' \n",
    "db_pwd = 'begopa1'\n",
    "\n",
    "academy_ip = '61.35.152.66'\n",
    "db_ip = local_ip if academy_ip == ipchecker() else outside_ip\n",
    "\n",
    "db_ip = localhost # 집에서 본인의 개인 컴퓨터dptj  오라클에 접속할때는"
   ]
  },
  {
   "cell_type": "code",
   "execution_count": 54,
   "metadata": {
    "colab": {},
    "colab_type": "code",
    "id": "Tc2Z1eqz_OH3"
   },
   "outputs": [],
   "source": [
    "import pickle\n",
    "# load object ::\n",
    "# :: file_nm\n",
    "# :: columns and data_type\n",
    "with open(\"./pickle/col2dict.pickle\",\"rb\") as fr:\n",
    "    col2dict = pickle.load(fr)\n",
    "with open(\"./pickle/table_nm_set.pickle\",\"rb\") as fr:\n",
    "    table_nm_set = pickle.load(fr)"
   ]
  },
  {
   "cell_type": "code",
   "execution_count": 55,
   "metadata": {
    "colab": {},
    "colab_type": "code",
    "id": "hZgxGeL3_OH7"
   },
   "outputs": [],
   "source": [
    "path = \"./sg-data/\"\n",
    "desc_path = path + 'desc/'\n",
    "col_path = path + 'col/'\n",
    "origin_path = path + 'origin/'\n",
    "\n",
    "file_list = os.listdir(origin_path)"
   ]
  },
  {
   "cell_type": "code",
   "execution_count": 56,
   "metadata": {
    "colab": {},
    "colab_type": "code",
    "id": "oLQipCQm_OH_"
   },
   "outputs": [],
   "source": [
    "# _, _, _, table_col_set_ = extract_table_columns_set(file_list[0]) # _, :: 임시로 쓰고 버리는 값."
   ]
  },
  {
   "cell_type": "code",
   "execution_count": 57,
   "metadata": {
    "colab": {},
    "colab_type": "code",
    "id": "ALTUrpSk_OID"
   },
   "outputs": [],
   "source": [
    "# 자치구별 상권 변화지표 db 에서 한글 컬럼으로 가져오기\n",
    "# oracle_to_df('자치구별 상권변화지표')\n",
    "def load_to_df(kr_tbl_nm):\n",
    "    for key, value in table_nm_set.items():\n",
    "        if kr_tbl_nm == value:\n",
    "            table_nm = key\n",
    "            columns = [ arr[0] for arr in col2dict[key] ]\n",
    "           \n",
    "    import cx_Oracle\n",
    "    import pandas as pd\n",
    "    \n",
    "    db = cx_Oracle.connect(db_id, db_pwd, db_ip) \n",
    "        \n",
    "    sql = 'select * from ' + table_nm\n",
    "\n",
    "    df = pd.read_sql(sql=sql, con = db) \n",
    "    df.columns = columns\n",
    "    db.close\n",
    "    \n",
    "    return df"
   ]
  },
  {
   "cell_type": "code",
   "execution_count": 58,
   "metadata": {
    "colab": {},
    "colab_type": "code",
    "id": "q5mXtVk3_OIH",
    "outputId": "66bae8dc-dc56-4c93-d321-ee42b7dc3a12"
   },
   "outputs": [
    {
     "name": "stdout",
     "output_type": "stream",
     "text": [
      "00 상권-영역\n",
      "01 상권-추정유동인구\n",
      "02 상권-집객시설\n",
      "03 상권배후지-추정유동인구\n",
      "04 상권배후지-집객시설\n",
      "05 상권배후지-상주인구\n",
      "06 상권-상주인구\n",
      "07 상권배후지-아파트\n",
      "08 상권배후지-점포\n",
      "09 상권-상권변화지표\n",
      "10 행정동별 상권변화지표\n",
      "11 상권-추정매출\n",
      "12 상권-직장인구\n",
      "13 상권배후지-소득소비\n",
      "14 상권배후지-직장인구\n",
      "15 자치구별 상권변화지표\n",
      "16 상권-아파트\n",
      "18 상권-점포\n",
      "19 상권배후지-추정매출\n"
     ]
    }
   ],
   "source": [
    "import re\n",
    "import os\n",
    "\n",
    "file_list = os.listdir(origin_path)\n",
    "for file in file_list:\n",
    "    kr_tbl_nm = re.findall('(\\d\\d).*\\((.*)\\)',file)\n",
    "    print(kr_tbl_nm[0][0], kr_tbl_nm[0][1])"
   ]
  },
  {
   "cell_type": "code",
   "execution_count": 59,
   "metadata": {
    "colab": {},
    "colab_type": "code",
    "id": "vgFKGinC_OIM"
   },
   "outputs": [],
   "source": [
    "import pandas as pd\n",
    "from sklearn.preprocessing import LabelEncoder, OneHotEncoder"
   ]
  },
  {
   "cell_type": "code",
   "execution_count": 60,
   "metadata": {},
   "outputs": [],
   "source": [
    "def multi_columns_merging(sg, sg_hl):\n",
    "    a_df = load_to_df( sg )\n",
    "    b_df = load_to_df( sg_hl )\n",
    "    all_df = pd.merge(left=a_df, right=b_df, how='left', \\\n",
    "                  on=['기준_년_분기_코드','상권_코드'], sort=False)\n",
    "#     del a_df, b_df\n",
    "    all_df2 = all_df.drop(all_df.filter(regex='연령대|시간대'),axis=1)\n",
    "    return all_df2.dropna(axis=0)\n",
    "\n",
    "col = ['요일']\n",
    "target=['연령대','시간대']\n",
    "def drop_filter(df1,target):\n",
    "    df_a=df1.drop(df1.filter(regex='|'.join(target)),axis=1)\n",
    "    return df_a \n",
    "\n",
    "def multi_merge(a_df, b_df):\n",
    "    all_df = pd.merge(left=a_df, right=b_df, how='left', on=['기준_년_분기_코드','상권_코드'], sort=False)\n",
    "    all_df = all_df.drop(all_df.filter(regex='연령대|시간대'),axis=1)\n",
    "    return all_df.dropna(axis=0)"
   ]
  },
  {
   "cell_type": "code",
   "execution_count": 61,
   "metadata": {},
   "outputs": [],
   "source": [
    "# multi_columns_merging('상권-추정유동인구', '상권배후지-추정유동인구')"
   ]
  },
  {
   "cell_type": "code",
   "execution_count": 62,
   "metadata": {},
   "outputs": [],
   "source": [
    "f_pop=multi_columns_merging('상권-추정유동인구', '상권배후지-추정유동인구')\n",
    "# f_pop.info()"
   ]
  },
  {
   "cell_type": "code",
   "execution_count": 63,
   "metadata": {},
   "outputs": [],
   "source": [
    "target1=['hl_월','hl_화','hl_수','hl_목','hl_금']\n",
    "target2=['hl_토','hl_일']\n",
    "def add_week(df,target1,target2):\n",
    "    df['hl_주중_유동인구_수']=df.filter(regex='|'.join(target1)).sum(axis=1)\n",
    "    df['hl_주말_유동인구_수']=df.filter(regex='|'.join(target2)).sum(axis=1)\n",
    "    df_a=df.drop(df.filter(regex='|'.join(target1+target2)),axis=1)\n",
    "    return df_a\n",
    "\n",
    "target3=['월요','화요','수요','목요','금요']\n",
    "target4=['토요','일요']\n",
    "def add_week2(df,target3,target4):\n",
    "    df['주중_유동인구_수']=df.filter(regex='|'.join(target3)).sum(axis=1)\n",
    "    df['주말_유동인구_수']=df.filter(regex='|'.join(target4)).sum(axis=1)\n",
    "    df_a=df.drop(df.filter(regex='|'.join(target3+target4)),axis=1)\n",
    "    return df_a\n",
    "\n",
    "# hl을 먼저 합해라!"
   ]
  },
  {
   "cell_type": "code",
   "execution_count": 14,
   "metadata": {},
   "outputs": [],
   "source": [
    "f_pop_a=add_week(f_pop,target1,target2)\n",
    "# f_pop_a"
   ]
  },
  {
   "cell_type": "code",
   "execution_count": 15,
   "metadata": {},
   "outputs": [],
   "source": [
    "flow_pop=add_week2(f_pop_a,target3,target4)"
   ]
  },
  {
   "cell_type": "code",
   "execution_count": 16,
   "metadata": {},
   "outputs": [],
   "source": [
    "# flow_pop.columns"
   ]
  },
  {
   "cell_type": "code",
   "execution_count": 17,
   "metadata": {},
   "outputs": [],
   "source": [
    "# 컬럼 정렬\n",
    "flow_pop=flow_pop[['기준_년_분기_코드', '상권_코드', '총_유동인구_수', '남성_유동인구_수', '여성_유동인구_수','주중_유동인구_수', '주말_유동인구_수',\n",
    "       'hl_총_유동인구_수', 'hl_남성_유동인구_수', 'hl_여성_유동인구_수', 'hl_주중_유동인구_수','hl_주말_유동인구_수']]"
   ]
  },
  {
   "cell_type": "code",
   "execution_count": 18,
   "metadata": {
    "colab": {},
    "colab_type": "code",
    "id": "IIGx17Aw_OIP"
   },
   "outputs": [],
   "source": [
    "# flow_pop.head()"
   ]
  },
  {
   "cell_type": "code",
   "execution_count": 19,
   "metadata": {},
   "outputs": [],
   "source": [
    "# 비율 구하기\n",
    "def ratio(df,col1,col2):\n",
    "    total = df[col1]+df[col2]\n",
    "    total2 = df[col1]/total*100\n",
    "    return total2"
   ]
  },
  {
   "cell_type": "code",
   "execution_count": 20,
   "metadata": {},
   "outputs": [],
   "source": [
    "flow_pop['남성_유동인구_비율']=ratio(flow_pop,'남성_유동인구_수', '여성_유동인구_수')\n",
    "flow_pop['여성_유동인구_비율']=ratio(flow_pop,'여성_유동인구_수', '남성_유동인구_수')\n",
    "flow_pop['주중_유동인구_비율']=ratio(flow_pop,'주중_유동인구_수', '주말_유동인구_수')\n",
    "flow_pop['주말_유동인구_비율']=ratio(flow_pop,'주말_유동인구_수', '주중_유동인구_수')\n",
    "flow_pop['hl_남성_유동인구_비율']=ratio(flow_pop,'hl_남성_유동인구_수', 'hl_여성_유동인구_수')\n",
    "flow_pop['hl_여성_유동인구_비율']=ratio(flow_pop,'hl_여성_유동인구_수', 'hl_남성_유동인구_수')\n",
    "flow_pop['hl_주중_유동인구_비율']=ratio(flow_pop,'hl_주중_유동인구_수', 'hl_주말_유동인구_수')\n",
    "flow_pop['hl_주말_유동인구_비율']=ratio(flow_pop,'hl_주말_유동인구_수', 'hl_주중_유동인구_수')"
   ]
  },
  {
   "cell_type": "code",
   "execution_count": 40,
   "metadata": {},
   "outputs": [
    {
     "data": {
      "text/html": [
       "<div>\n",
       "<style scoped>\n",
       "    .dataframe tbody tr th:only-of-type {\n",
       "        vertical-align: middle;\n",
       "    }\n",
       "\n",
       "    .dataframe tbody tr th {\n",
       "        vertical-align: top;\n",
       "    }\n",
       "\n",
       "    .dataframe thead th {\n",
       "        text-align: right;\n",
       "    }\n",
       "</style>\n",
       "<table border=\"1\" class=\"dataframe\">\n",
       "  <thead>\n",
       "    <tr style=\"text-align: right;\">\n",
       "      <th></th>\n",
       "      <th>기준_년_분기_코드</th>\n",
       "      <th>상권_코드</th>\n",
       "      <th>총_유동인구_수</th>\n",
       "      <th>남성_유동인구_수</th>\n",
       "      <th>여성_유동인구_수</th>\n",
       "      <th>주중_유동인구_수</th>\n",
       "      <th>주말_유동인구_수</th>\n",
       "      <th>hl_총_유동인구_수</th>\n",
       "      <th>hl_남성_유동인구_수</th>\n",
       "      <th>hl_여성_유동인구_수</th>\n",
       "      <th>hl_주중_유동인구_수</th>\n",
       "      <th>hl_주말_유동인구_수</th>\n",
       "      <th>남성_유동인구_비율</th>\n",
       "      <th>여성_유동인구_비율</th>\n",
       "      <th>주중_유동인구_비율</th>\n",
       "      <th>주말_유동인구_비율</th>\n",
       "      <th>hl_남성_유동인구_비율</th>\n",
       "      <th>hl_여성_유동인구_비율</th>\n",
       "      <th>hl_주중_유동인구_비율</th>\n",
       "      <th>hl_주말_유동인구_비율</th>\n",
       "    </tr>\n",
       "  </thead>\n",
       "  <tbody>\n",
       "    <tr>\n",
       "      <th>0</th>\n",
       "      <td>2019_1</td>\n",
       "      <td>1000001</td>\n",
       "      <td>118266</td>\n",
       "      <td>61268</td>\n",
       "      <td>56997</td>\n",
       "      <td>86815</td>\n",
       "      <td>31451</td>\n",
       "      <td>471903.0</td>\n",
       "      <td>253713.0</td>\n",
       "      <td>218188.0</td>\n",
       "      <td>359301.0</td>\n",
       "      <td>112607.0</td>\n",
       "      <td>51.805691</td>\n",
       "      <td>48.194309</td>\n",
       "      <td>73.406558</td>\n",
       "      <td>26.593442</td>\n",
       "      <td>53.764031</td>\n",
       "      <td>46.235969</td>\n",
       "      <td>76.137934</td>\n",
       "      <td>23.862066</td>\n",
       "    </tr>\n",
       "    <tr>\n",
       "      <th>1</th>\n",
       "      <td>2019_1</td>\n",
       "      <td>1000002</td>\n",
       "      <td>246619</td>\n",
       "      <td>147358</td>\n",
       "      <td>99261</td>\n",
       "      <td>156385</td>\n",
       "      <td>90234</td>\n",
       "      <td>2186033.0</td>\n",
       "      <td>1237827.0</td>\n",
       "      <td>948202.0</td>\n",
       "      <td>1499105.0</td>\n",
       "      <td>686921.0</td>\n",
       "      <td>59.751276</td>\n",
       "      <td>40.248724</td>\n",
       "      <td>63.411578</td>\n",
       "      <td>36.588422</td>\n",
       "      <td>56.624455</td>\n",
       "      <td>43.375545</td>\n",
       "      <td>68.576723</td>\n",
       "      <td>31.423277</td>\n",
       "    </tr>\n",
       "    <tr>\n",
       "      <th>2</th>\n",
       "      <td>2019_1</td>\n",
       "      <td>1000003</td>\n",
       "      <td>144480</td>\n",
       "      <td>80073</td>\n",
       "      <td>64407</td>\n",
       "      <td>107665</td>\n",
       "      <td>36815</td>\n",
       "      <td>1818586.0</td>\n",
       "      <td>1015350.0</td>\n",
       "      <td>803234.0</td>\n",
       "      <td>1340682.0</td>\n",
       "      <td>477893.0</td>\n",
       "      <td>55.421512</td>\n",
       "      <td>44.578488</td>\n",
       "      <td>74.518965</td>\n",
       "      <td>25.481035</td>\n",
       "      <td>55.831900</td>\n",
       "      <td>44.168100</td>\n",
       "      <td>73.721568</td>\n",
       "      <td>26.278432</td>\n",
       "    </tr>\n",
       "    <tr>\n",
       "      <th>3</th>\n",
       "      <td>2019_1</td>\n",
       "      <td>1000004</td>\n",
       "      <td>322387</td>\n",
       "      <td>155635</td>\n",
       "      <td>166753</td>\n",
       "      <td>248361</td>\n",
       "      <td>74025</td>\n",
       "      <td>1208957.0</td>\n",
       "      <td>573717.0</td>\n",
       "      <td>635243.0</td>\n",
       "      <td>914237.0</td>\n",
       "      <td>294728.0</td>\n",
       "      <td>48.275680</td>\n",
       "      <td>51.724320</td>\n",
       "      <td>77.038395</td>\n",
       "      <td>22.961605</td>\n",
       "      <td>47.455416</td>\n",
       "      <td>52.544584</td>\n",
       "      <td>75.621461</td>\n",
       "      <td>24.378539</td>\n",
       "    </tr>\n",
       "    <tr>\n",
       "      <th>4</th>\n",
       "      <td>2019_1</td>\n",
       "      <td>1000005</td>\n",
       "      <td>23622</td>\n",
       "      <td>10781</td>\n",
       "      <td>12848</td>\n",
       "      <td>14580</td>\n",
       "      <td>9041</td>\n",
       "      <td>47589.0</td>\n",
       "      <td>22232.0</td>\n",
       "      <td>25363.0</td>\n",
       "      <td>30616.0</td>\n",
       "      <td>16966.0</td>\n",
       "      <td>45.626137</td>\n",
       "      <td>54.373863</td>\n",
       "      <td>61.724736</td>\n",
       "      <td>38.275264</td>\n",
       "      <td>46.710789</td>\n",
       "      <td>53.289211</td>\n",
       "      <td>64.343659</td>\n",
       "      <td>35.656341</td>\n",
       "    </tr>\n",
       "  </tbody>\n",
       "</table>\n",
       "</div>"
      ],
      "text/plain": [
       "  기준_년_분기_코드    상권_코드  총_유동인구_수  남성_유동인구_수  여성_유동인구_수  주중_유동인구_수  주말_유동인구_수  \\\n",
       "0     2019_1  1000001    118266      61268      56997      86815      31451   \n",
       "1     2019_1  1000002    246619     147358      99261     156385      90234   \n",
       "2     2019_1  1000003    144480      80073      64407     107665      36815   \n",
       "3     2019_1  1000004    322387     155635     166753     248361      74025   \n",
       "4     2019_1  1000005     23622      10781      12848      14580       9041   \n",
       "\n",
       "   hl_총_유동인구_수  hl_남성_유동인구_수  hl_여성_유동인구_수  hl_주중_유동인구_수  hl_주말_유동인구_수  \\\n",
       "0     471903.0      253713.0      218188.0      359301.0      112607.0   \n",
       "1    2186033.0     1237827.0      948202.0     1499105.0      686921.0   \n",
       "2    1818586.0     1015350.0      803234.0     1340682.0      477893.0   \n",
       "3    1208957.0      573717.0      635243.0      914237.0      294728.0   \n",
       "4      47589.0       22232.0       25363.0       30616.0       16966.0   \n",
       "\n",
       "   남성_유동인구_비율  여성_유동인구_비율  주중_유동인구_비율  주말_유동인구_비율  hl_남성_유동인구_비율  \\\n",
       "0   51.805691   48.194309   73.406558   26.593442      53.764031   \n",
       "1   59.751276   40.248724   63.411578   36.588422      56.624455   \n",
       "2   55.421512   44.578488   74.518965   25.481035      55.831900   \n",
       "3   48.275680   51.724320   77.038395   22.961605      47.455416   \n",
       "4   45.626137   54.373863   61.724736   38.275264      46.710789   \n",
       "\n",
       "   hl_여성_유동인구_비율  hl_주중_유동인구_비율  hl_주말_유동인구_비율  \n",
       "0      46.235969      76.137934      23.862066  \n",
       "1      43.375545      68.576723      31.423277  \n",
       "2      44.168100      73.721568      26.278432  \n",
       "3      52.544584      75.621461      24.378539  \n",
       "4      53.289211      64.343659      35.656341  "
      ]
     },
     "execution_count": 40,
     "metadata": {},
     "output_type": "execute_result"
    }
   ],
   "source": [
    "flow_pop.head()"
   ]
  },
  {
   "cell_type": "code",
   "execution_count": 22,
   "metadata": {},
   "outputs": [],
   "source": [
    "# pop_a=pop.drop(pop.filter(regex='연령대|시간대'),axis=1)\n",
    "# hl_pop_a=hl_pop.drop(hl_pop.filter(regex='연령대|시간대'),axis=1)"
   ]
  },
  {
   "cell_type": "code",
   "execution_count": 23,
   "metadata": {},
   "outputs": [
    {
     "data": {
      "text/html": [
       "<div>\n",
       "<style scoped>\n",
       "    .dataframe tbody tr th:only-of-type {\n",
       "        vertical-align: middle;\n",
       "    }\n",
       "\n",
       "    .dataframe tbody tr th {\n",
       "        vertical-align: top;\n",
       "    }\n",
       "\n",
       "    .dataframe thead th {\n",
       "        text-align: right;\n",
       "    }\n",
       "</style>\n",
       "<table border=\"1\" class=\"dataframe\">\n",
       "  <thead>\n",
       "    <tr style=\"text-align: right;\">\n",
       "      <th></th>\n",
       "      <th>기준_년_분기_코드</th>\n",
       "      <th>상권_코드</th>\n",
       "      <th>총_상주인구_수</th>\n",
       "      <th>남성_상주인구_수</th>\n",
       "      <th>여성_상주인구_수</th>\n",
       "      <th>총_가구_수</th>\n",
       "      <th>아파트_가구_수</th>\n",
       "      <th>비_아파트_가구_수</th>\n",
       "      <th>hl_총_상주인구_수</th>\n",
       "      <th>hl_남성_상주인구_수</th>\n",
       "      <th>hl_여성_상주인구_수</th>\n",
       "      <th>hl_총_가구_수</th>\n",
       "      <th>hl_아파트_가구_수</th>\n",
       "      <th>hl_비_아파트_가구_수</th>\n",
       "    </tr>\n",
       "  </thead>\n",
       "  <tbody>\n",
       "    <tr>\n",
       "      <th>471</th>\n",
       "      <td>2019_2</td>\n",
       "      <td>1001010</td>\n",
       "      <td>3088</td>\n",
       "      <td>1526</td>\n",
       "      <td>1562</td>\n",
       "      <td>1601</td>\n",
       "      <td>0</td>\n",
       "      <td>1601</td>\n",
       "      <td>28320.0</td>\n",
       "      <td>13999.0</td>\n",
       "      <td>14321.0</td>\n",
       "      <td>13046.0</td>\n",
       "      <td>1888.0</td>\n",
       "      <td>11158.0</td>\n",
       "    </tr>\n",
       "    <tr>\n",
       "      <th>472</th>\n",
       "      <td>2019_2</td>\n",
       "      <td>1001009</td>\n",
       "      <td>4032</td>\n",
       "      <td>2056</td>\n",
       "      <td>1976</td>\n",
       "      <td>2067</td>\n",
       "      <td>39</td>\n",
       "      <td>2028</td>\n",
       "      <td>22242.0</td>\n",
       "      <td>10954.0</td>\n",
       "      <td>11288.0</td>\n",
       "      <td>10288.0</td>\n",
       "      <td>1770.0</td>\n",
       "      <td>8518.0</td>\n",
       "    </tr>\n",
       "    <tr>\n",
       "      <th>473</th>\n",
       "      <td>2019_2</td>\n",
       "      <td>1001008</td>\n",
       "      <td>2323</td>\n",
       "      <td>1114</td>\n",
       "      <td>1209</td>\n",
       "      <td>1261</td>\n",
       "      <td>0</td>\n",
       "      <td>1261</td>\n",
       "      <td>16300.0</td>\n",
       "      <td>8141.0</td>\n",
       "      <td>8159.0</td>\n",
       "      <td>8379.0</td>\n",
       "      <td>265.0</td>\n",
       "      <td>8114.0</td>\n",
       "    </tr>\n",
       "    <tr>\n",
       "      <th>474</th>\n",
       "      <td>2019_2</td>\n",
       "      <td>1001007</td>\n",
       "      <td>2208</td>\n",
       "      <td>1105</td>\n",
       "      <td>1103</td>\n",
       "      <td>980</td>\n",
       "      <td>0</td>\n",
       "      <td>980</td>\n",
       "      <td>5262.0</td>\n",
       "      <td>2676.0</td>\n",
       "      <td>2586.0</td>\n",
       "      <td>2175.0</td>\n",
       "      <td>182.0</td>\n",
       "      <td>1993.0</td>\n",
       "    </tr>\n",
       "    <tr>\n",
       "      <th>475</th>\n",
       "      <td>2019_2</td>\n",
       "      <td>1001006</td>\n",
       "      <td>4523</td>\n",
       "      <td>2227</td>\n",
       "      <td>2296</td>\n",
       "      <td>1738</td>\n",
       "      <td>531</td>\n",
       "      <td>1207</td>\n",
       "      <td>21885.0</td>\n",
       "      <td>10817.0</td>\n",
       "      <td>11068.0</td>\n",
       "      <td>8598.0</td>\n",
       "      <td>3081.0</td>\n",
       "      <td>5517.0</td>\n",
       "    </tr>\n",
       "  </tbody>\n",
       "</table>\n",
       "</div>"
      ],
      "text/plain": [
       "    기준_년_분기_코드    상권_코드  총_상주인구_수  남성_상주인구_수  여성_상주인구_수  총_가구_수  아파트_가구_수  \\\n",
       "471     2019_2  1001010      3088       1526       1562    1601         0   \n",
       "472     2019_2  1001009      4032       2056       1976    2067        39   \n",
       "473     2019_2  1001008      2323       1114       1209    1261         0   \n",
       "474     2019_2  1001007      2208       1105       1103     980         0   \n",
       "475     2019_2  1001006      4523       2227       2296    1738       531   \n",
       "\n",
       "     비_아파트_가구_수  hl_총_상주인구_수  hl_남성_상주인구_수  hl_여성_상주인구_수  hl_총_가구_수  \\\n",
       "471        1601      28320.0       13999.0       14321.0    13046.0   \n",
       "472        2028      22242.0       10954.0       11288.0    10288.0   \n",
       "473        1261      16300.0        8141.0        8159.0     8379.0   \n",
       "474         980       5262.0        2676.0        2586.0     2175.0   \n",
       "475        1207      21885.0       10817.0       11068.0     8598.0   \n",
       "\n",
       "     hl_아파트_가구_수  hl_비_아파트_가구_수  \n",
       "471       1888.0        11158.0  \n",
       "472       1770.0         8518.0  \n",
       "473        265.0         8114.0  \n",
       "474        182.0         1993.0  \n",
       "475       3081.0         5517.0  "
      ]
     },
     "execution_count": 23,
     "metadata": {},
     "output_type": "execute_result"
    }
   ],
   "source": [
    "stay_pop=multi_columns_merging('상권-상주인구', '상권배후지-상주인구')\n",
    "stay_pop.head()"
   ]
  },
  {
   "cell_type": "code",
   "execution_count": 24,
   "metadata": {},
   "outputs": [
    {
     "data": {
      "text/html": [
       "<div>\n",
       "<style scoped>\n",
       "    .dataframe tbody tr th:only-of-type {\n",
       "        vertical-align: middle;\n",
       "    }\n",
       "\n",
       "    .dataframe tbody tr th {\n",
       "        vertical-align: top;\n",
       "    }\n",
       "\n",
       "    .dataframe thead th {\n",
       "        text-align: right;\n",
       "    }\n",
       "</style>\n",
       "<table border=\"1\" class=\"dataframe\">\n",
       "  <thead>\n",
       "    <tr style=\"text-align: right;\">\n",
       "      <th></th>\n",
       "      <th>기준_년_분기_코드</th>\n",
       "      <th>상권_코드</th>\n",
       "      <th>총_직장_인구_수</th>\n",
       "      <th>남성_직장_인구_수</th>\n",
       "      <th>여성_직장_인구_수</th>\n",
       "      <th>hl_총_직장_인구_수</th>\n",
       "      <th>hl_남성_직장_인구_수</th>\n",
       "      <th>hl_여성_직장_인구_수</th>\n",
       "    </tr>\n",
       "  </thead>\n",
       "  <tbody>\n",
       "    <tr>\n",
       "      <th>483</th>\n",
       "      <td>2019_2</td>\n",
       "      <td>1001010</td>\n",
       "      <td>231</td>\n",
       "      <td>73</td>\n",
       "      <td>158</td>\n",
       "      <td>2935.0</td>\n",
       "      <td>1774.0</td>\n",
       "      <td>1161.0</td>\n",
       "    </tr>\n",
       "    <tr>\n",
       "      <th>484</th>\n",
       "      <td>2019_2</td>\n",
       "      <td>1001009</td>\n",
       "      <td>543</td>\n",
       "      <td>378</td>\n",
       "      <td>165</td>\n",
       "      <td>6413.0</td>\n",
       "      <td>3834.0</td>\n",
       "      <td>2579.0</td>\n",
       "    </tr>\n",
       "    <tr>\n",
       "      <th>485</th>\n",
       "      <td>2019_2</td>\n",
       "      <td>1001008</td>\n",
       "      <td>149</td>\n",
       "      <td>95</td>\n",
       "      <td>54</td>\n",
       "      <td>4362.0</td>\n",
       "      <td>2489.0</td>\n",
       "      <td>1873.0</td>\n",
       "    </tr>\n",
       "    <tr>\n",
       "      <th>486</th>\n",
       "      <td>2019_2</td>\n",
       "      <td>1001007</td>\n",
       "      <td>462</td>\n",
       "      <td>305</td>\n",
       "      <td>157</td>\n",
       "      <td>1171.0</td>\n",
       "      <td>816.0</td>\n",
       "      <td>355.0</td>\n",
       "    </tr>\n",
       "    <tr>\n",
       "      <th>487</th>\n",
       "      <td>2019_2</td>\n",
       "      <td>1001006</td>\n",
       "      <td>504</td>\n",
       "      <td>261</td>\n",
       "      <td>243</td>\n",
       "      <td>1996.0</td>\n",
       "      <td>1108.0</td>\n",
       "      <td>888.0</td>\n",
       "    </tr>\n",
       "  </tbody>\n",
       "</table>\n",
       "</div>"
      ],
      "text/plain": [
       "    기준_년_분기_코드    상권_코드  총_직장_인구_수  남성_직장_인구_수  여성_직장_인구_수  hl_총_직장_인구_수  \\\n",
       "483     2019_2  1001010        231          73         158        2935.0   \n",
       "484     2019_2  1001009        543         378         165        6413.0   \n",
       "485     2019_2  1001008        149          95          54        4362.0   \n",
       "486     2019_2  1001007        462         305         157        1171.0   \n",
       "487     2019_2  1001006        504         261         243        1996.0   \n",
       "\n",
       "     hl_남성_직장_인구_수  hl_여성_직장_인구_수  \n",
       "483         1774.0         1161.0  \n",
       "484         3834.0         2579.0  \n",
       "485         2489.0         1873.0  \n",
       "486          816.0          355.0  \n",
       "487         1108.0          888.0  "
      ]
     },
     "execution_count": 24,
     "metadata": {},
     "output_type": "execute_result"
    }
   ],
   "source": [
    "office_pop=multi_columns_merging('상권-직장인구','상권배후지-직장인구')\n",
    "office_pop.head()"
   ]
  },
  {
   "cell_type": "code",
   "execution_count": 25,
   "metadata": {
    "colab": {},
    "colab_type": "code",
    "id": "Ju3qN9_E_OIv"
   },
   "outputs": [],
   "source": [
    "# delete_word_columns_1 = f_pop_a.filter(like='대_').columns\n",
    "# f_pop_a.drop(delete_word_columns_1, axis=1, inplace=True)"
   ]
  },
  {
   "cell_type": "code",
   "execution_count": 26,
   "metadata": {
    "colab": {},
    "colab_type": "code",
    "id": "Tgk2ZtK__OI6"
   },
   "outputs": [],
   "source": [
    "ch_df=load_to_df('상권-상권변화지표')\n",
    "ch_19_df=ch_df[ch_df['기준_년_분기_코드'].str.contains('2019_1|2019_2')]\n",
    "ch_19_name=ch_19_df[['기준_년_분기_코드','상권_코드','상권_변화_지표']]"
   ]
  },
  {
   "cell_type": "code",
   "execution_count": 27,
   "metadata": {
    "colab": {},
    "colab_type": "code",
    "id": "FUKxE5O__OI9"
   },
   "outputs": [],
   "source": [
    "# ch_19_df[['기준_년_분기_코드','상권_코드','상권_변화_지표']].head()"
   ]
  },
  {
   "cell_type": "code",
   "execution_count": 28,
   "metadata": {
    "colab": {},
    "colab_type": "code",
    "id": "m3rd218I_OJA"
   },
   "outputs": [],
   "source": [
    "# flow_pop.shape , stay_pop.shape, office_pop.shape"
   ]
  },
  {
   "cell_type": "code",
   "execution_count": 29,
   "metadata": {
    "colab": {},
    "colab_type": "code",
    "id": "1qvjtWhL_OJD"
   },
   "outputs": [],
   "source": [
    "people_a = multi_merge(flow_pop,stay_pop)\n",
    "people = multi_merge(people_a,office_pop)   #유동,상주,직장인구 총 데이터 merge "
   ]
  },
  {
   "cell_type": "code",
   "execution_count": 30,
   "metadata": {
    "colab": {},
    "colab_type": "code",
    "id": "8PkhkloS_OJF"
   },
   "outputs": [],
   "source": [
    "f_pop_ch=multi_merge(flow_pop, ch_19_name)   #유동인구 + 지표\n",
    "s_pop_ch=multi_merge(stay_pop, ch_19_name)   #상주인구 + 지표\n",
    "o_pop_ch=multi_merge(office_pop, ch_19_name) #직장인구 + 지표\n",
    "total_people=multi_merge(people, ch_19_name)  #총 인구 + 지표"
   ]
  },
  {
   "cell_type": "code",
   "execution_count": 31,
   "metadata": {},
   "outputs": [
    {
     "name": "stdout",
     "output_type": "stream",
     "text": [
      "<class 'pandas.core.frame.DataFrame'>\n",
      "Int64Index: 2020 entries, 0 to 2019\n",
      "Data columns (total 21 columns):\n",
      " #   Column         Non-Null Count  Dtype  \n",
      "---  ------         --------------  -----  \n",
      " 0   기준_년_분기_코드     2020 non-null   object \n",
      " 1   상권_코드          2020 non-null   object \n",
      " 2   총_유동인구_수       2020 non-null   int64  \n",
      " 3   남성_유동인구_수      2020 non-null   int64  \n",
      " 4   여성_유동인구_수      2020 non-null   int64  \n",
      " 5   주중_유동인구_수      2020 non-null   int64  \n",
      " 6   주말_유동인구_수      2020 non-null   int64  \n",
      " 7   hl_총_유동인구_수    2020 non-null   float64\n",
      " 8   hl_남성_유동인구_수   2020 non-null   float64\n",
      " 9   hl_여성_유동인구_수   2020 non-null   float64\n",
      " 10  hl_주중_유동인구_수   2020 non-null   float64\n",
      " 11  hl_주말_유동인구_수   2020 non-null   float64\n",
      " 12  남성_유동인구_비율     2020 non-null   float64\n",
      " 13  여성_유동인구_비율     2020 non-null   float64\n",
      " 14  주중_유동인구_비율     2020 non-null   float64\n",
      " 15  주말_유동인구_비율     2020 non-null   float64\n",
      " 16  hl_남성_유동인구_비율  2020 non-null   float64\n",
      " 17  hl_여성_유동인구_비율  2020 non-null   float64\n",
      " 18  hl_주중_유동인구_비율  2020 non-null   float64\n",
      " 19  hl_주말_유동인구_비율  2020 non-null   float64\n",
      " 20  상권_변화_지표       2020 non-null   object \n",
      "dtypes: float64(13), int64(5), object(3)\n",
      "memory usage: 347.2+ KB\n"
     ]
    }
   ],
   "source": [
    "f_pop_ch.info()"
   ]
  },
  {
   "cell_type": "code",
   "execution_count": 32,
   "metadata": {
    "colab": {},
    "colab_type": "code",
    "id": "lWxy_a7r_OJH",
    "outputId": "bddf9893-4eea-4c2b-9657-217a5741c180"
   },
   "outputs": [],
   "source": [
    "# pd.get_dummies(f_pop_ch, columns=['상권_변화_지표'], drop_first=False).head()"
   ]
  },
  {
   "cell_type": "code",
   "execution_count": 33,
   "metadata": {
    "colab": {},
    "colab_type": "code",
    "id": "dzyyU5pW_OJK",
    "outputId": "ac0a8c8b-ff4b-42c8-8473-352c1a7df0b6"
   },
   "outputs": [],
   "source": [
    "# pd.get_dummies(s_pop_ch, columns=['상권_변화_지표'], drop_first=False).head()"
   ]
  },
  {
   "cell_type": "code",
   "execution_count": 34,
   "metadata": {
    "colab": {},
    "colab_type": "code",
    "id": "jDJutOnL_OJN",
    "outputId": "99ea8696-dbe2-4f11-85eb-9e7ce8800387"
   },
   "outputs": [],
   "source": [
    "# pd.get_dummies(o_pop_ch, columns=['상권_변화_지표'], drop_first=False).head()"
   ]
  },
  {
   "cell_type": "code",
   "execution_count": 35,
   "metadata": {
    "colab": {},
    "colab_type": "code",
    "id": "UlhZptMW_OJP",
    "outputId": "c1486f92-0898-456e-f7dd-d42d3a0e3011"
   },
   "outputs": [],
   "source": [
    "# pd.get_dummies(total_people, columns=['상권_변화_지표'], drop_first=False)"
   ]
  },
  {
   "cell_type": "code",
   "execution_count": 49,
   "metadata": {
    "colab": {},
    "colab_type": "code",
    "id": "_0Xc5VOD_OJT"
   },
   "outputs": [],
   "source": [
    "# flow_pop_ch=pd.get_dummies(f_pop_ch, columns=['상권_변화_지표'], drop_first=False)\n",
    "# flow_pop_ch"
   ]
  },
  {
   "cell_type": "code",
   "execution_count": 48,
   "metadata": {},
   "outputs": [],
   "source": [
    "# ch_name_19=pd.get_dummies(ch_19_name, columns=['상권_변화_지표'], drop_first=False)\n",
    "# ch_name_19"
   ]
  },
  {
   "cell_type": "code",
   "execution_count": 38,
   "metadata": {},
   "outputs": [],
   "source": [
    "from sklearn.model_selection import train_test_split"
   ]
  },
  {
   "cell_type": "code",
   "execution_count": 44,
   "metadata": {},
   "outputs": [],
   "source": [
    "# train = ch_name_19.copy()\n",
    "# test = flow_pop_ch.copy()\n",
    "# flow_pop_1 = flow_pop[flow_pop['기준_년_분기_코드']=='2019_1']\n",
    "# flow_pop_2 = flow_pop[flow_pop['기준_년_분기_코드']=='2019_2']"
   ]
  },
  {
   "cell_type": "code",
   "execution_count": 50,
   "metadata": {},
   "outputs": [
    {
     "data": {
      "text/html": [
       "<div>\n",
       "<style scoped>\n",
       "    .dataframe tbody tr th:only-of-type {\n",
       "        vertical-align: middle;\n",
       "    }\n",
       "\n",
       "    .dataframe tbody tr th {\n",
       "        vertical-align: top;\n",
       "    }\n",
       "\n",
       "    .dataframe thead th {\n",
       "        text-align: right;\n",
       "    }\n",
       "</style>\n",
       "<table border=\"1\" class=\"dataframe\">\n",
       "  <thead>\n",
       "    <tr style=\"text-align: right;\">\n",
       "      <th></th>\n",
       "      <th>기준_년_분기_코드</th>\n",
       "      <th>상권_코드</th>\n",
       "      <th>총_유동인구_수</th>\n",
       "      <th>남성_유동인구_수</th>\n",
       "      <th>여성_유동인구_수</th>\n",
       "      <th>주중_유동인구_수</th>\n",
       "      <th>주말_유동인구_수</th>\n",
       "      <th>hl_총_유동인구_수</th>\n",
       "      <th>hl_남성_유동인구_수</th>\n",
       "      <th>hl_여성_유동인구_수</th>\n",
       "      <th>...</th>\n",
       "      <th>hl_주말_유동인구_수</th>\n",
       "      <th>남성_유동인구_비율</th>\n",
       "      <th>여성_유동인구_비율</th>\n",
       "      <th>주중_유동인구_비율</th>\n",
       "      <th>주말_유동인구_비율</th>\n",
       "      <th>hl_남성_유동인구_비율</th>\n",
       "      <th>hl_여성_유동인구_비율</th>\n",
       "      <th>hl_주중_유동인구_비율</th>\n",
       "      <th>hl_주말_유동인구_비율</th>\n",
       "      <th>상권_변화_지표</th>\n",
       "    </tr>\n",
       "  </thead>\n",
       "  <tbody>\n",
       "    <tr>\n",
       "      <th>0</th>\n",
       "      <td>2019_1</td>\n",
       "      <td>1000001</td>\n",
       "      <td>118266</td>\n",
       "      <td>61268</td>\n",
       "      <td>56997</td>\n",
       "      <td>86815</td>\n",
       "      <td>31451</td>\n",
       "      <td>471903.0</td>\n",
       "      <td>253713.0</td>\n",
       "      <td>218188.0</td>\n",
       "      <td>...</td>\n",
       "      <td>112607.0</td>\n",
       "      <td>51.805691</td>\n",
       "      <td>48.194309</td>\n",
       "      <td>73.406558</td>\n",
       "      <td>26.593442</td>\n",
       "      <td>53.764031</td>\n",
       "      <td>46.235969</td>\n",
       "      <td>76.137934</td>\n",
       "      <td>23.862066</td>\n",
       "      <td>LH</td>\n",
       "    </tr>\n",
       "    <tr>\n",
       "      <th>1</th>\n",
       "      <td>2019_1</td>\n",
       "      <td>1000002</td>\n",
       "      <td>246619</td>\n",
       "      <td>147358</td>\n",
       "      <td>99261</td>\n",
       "      <td>156385</td>\n",
       "      <td>90234</td>\n",
       "      <td>2186033.0</td>\n",
       "      <td>1237827.0</td>\n",
       "      <td>948202.0</td>\n",
       "      <td>...</td>\n",
       "      <td>686921.0</td>\n",
       "      <td>59.751276</td>\n",
       "      <td>40.248724</td>\n",
       "      <td>63.411578</td>\n",
       "      <td>36.588422</td>\n",
       "      <td>56.624455</td>\n",
       "      <td>43.375545</td>\n",
       "      <td>68.576723</td>\n",
       "      <td>31.423277</td>\n",
       "      <td>HL</td>\n",
       "    </tr>\n",
       "    <tr>\n",
       "      <th>2</th>\n",
       "      <td>2019_1</td>\n",
       "      <td>1000003</td>\n",
       "      <td>144480</td>\n",
       "      <td>80073</td>\n",
       "      <td>64407</td>\n",
       "      <td>107665</td>\n",
       "      <td>36815</td>\n",
       "      <td>1818586.0</td>\n",
       "      <td>1015350.0</td>\n",
       "      <td>803234.0</td>\n",
       "      <td>...</td>\n",
       "      <td>477893.0</td>\n",
       "      <td>55.421512</td>\n",
       "      <td>44.578488</td>\n",
       "      <td>74.518965</td>\n",
       "      <td>25.481035</td>\n",
       "      <td>55.831900</td>\n",
       "      <td>44.168100</td>\n",
       "      <td>73.721568</td>\n",
       "      <td>26.278432</td>\n",
       "      <td>HH</td>\n",
       "    </tr>\n",
       "    <tr>\n",
       "      <th>3</th>\n",
       "      <td>2019_1</td>\n",
       "      <td>1000004</td>\n",
       "      <td>322387</td>\n",
       "      <td>155635</td>\n",
       "      <td>166753</td>\n",
       "      <td>248361</td>\n",
       "      <td>74025</td>\n",
       "      <td>1208957.0</td>\n",
       "      <td>573717.0</td>\n",
       "      <td>635243.0</td>\n",
       "      <td>...</td>\n",
       "      <td>294728.0</td>\n",
       "      <td>48.275680</td>\n",
       "      <td>51.724320</td>\n",
       "      <td>77.038395</td>\n",
       "      <td>22.961605</td>\n",
       "      <td>47.455416</td>\n",
       "      <td>52.544584</td>\n",
       "      <td>75.621461</td>\n",
       "      <td>24.378539</td>\n",
       "      <td>LH</td>\n",
       "    </tr>\n",
       "    <tr>\n",
       "      <th>4</th>\n",
       "      <td>2019_1</td>\n",
       "      <td>1000005</td>\n",
       "      <td>23622</td>\n",
       "      <td>10781</td>\n",
       "      <td>12848</td>\n",
       "      <td>14580</td>\n",
       "      <td>9041</td>\n",
       "      <td>47589.0</td>\n",
       "      <td>22232.0</td>\n",
       "      <td>25363.0</td>\n",
       "      <td>...</td>\n",
       "      <td>16966.0</td>\n",
       "      <td>45.626137</td>\n",
       "      <td>54.373863</td>\n",
       "      <td>61.724736</td>\n",
       "      <td>38.275264</td>\n",
       "      <td>46.710789</td>\n",
       "      <td>53.289211</td>\n",
       "      <td>64.343659</td>\n",
       "      <td>35.656341</td>\n",
       "      <td>LL</td>\n",
       "    </tr>\n",
       "  </tbody>\n",
       "</table>\n",
       "<p>5 rows × 21 columns</p>\n",
       "</div>"
      ],
      "text/plain": [
       "  기준_년_분기_코드    상권_코드  총_유동인구_수  남성_유동인구_수  여성_유동인구_수  주중_유동인구_수  주말_유동인구_수  \\\n",
       "0     2019_1  1000001    118266      61268      56997      86815      31451   \n",
       "1     2019_1  1000002    246619     147358      99261     156385      90234   \n",
       "2     2019_1  1000003    144480      80073      64407     107665      36815   \n",
       "3     2019_1  1000004    322387     155635     166753     248361      74025   \n",
       "4     2019_1  1000005     23622      10781      12848      14580       9041   \n",
       "\n",
       "   hl_총_유동인구_수  hl_남성_유동인구_수  hl_여성_유동인구_수  ...  hl_주말_유동인구_수  남성_유동인구_비율  \\\n",
       "0     471903.0      253713.0      218188.0  ...      112607.0   51.805691   \n",
       "1    2186033.0     1237827.0      948202.0  ...      686921.0   59.751276   \n",
       "2    1818586.0     1015350.0      803234.0  ...      477893.0   55.421512   \n",
       "3    1208957.0      573717.0      635243.0  ...      294728.0   48.275680   \n",
       "4      47589.0       22232.0       25363.0  ...       16966.0   45.626137   \n",
       "\n",
       "   여성_유동인구_비율  주중_유동인구_비율  주말_유동인구_비율  hl_남성_유동인구_비율  hl_여성_유동인구_비율  \\\n",
       "0   48.194309   73.406558   26.593442      53.764031      46.235969   \n",
       "1   40.248724   63.411578   36.588422      56.624455      43.375545   \n",
       "2   44.578488   74.518965   25.481035      55.831900      44.168100   \n",
       "3   51.724320   77.038395   22.961605      47.455416      52.544584   \n",
       "4   54.373863   61.724736   38.275264      46.710789      53.289211   \n",
       "\n",
       "   hl_주중_유동인구_비율  hl_주말_유동인구_비율  상권_변화_지표  \n",
       "0      76.137934      23.862066        LH  \n",
       "1      68.576723      31.423277        HL  \n",
       "2      73.721568      26.278432        HH  \n",
       "3      75.621461      24.378539        LH  \n",
       "4      64.343659      35.656341        LL  \n",
       "\n",
       "[5 rows x 21 columns]"
      ]
     },
     "execution_count": 50,
     "metadata": {},
     "output_type": "execute_result"
    }
   ],
   "source": [
    "f_pop_ch.head()"
   ]
  },
  {
   "cell_type": "code",
   "execution_count": 47,
   "metadata": {},
   "outputs": [
    {
     "data": {
      "text/plain": [
       "((1010, 20), (1010, 20))"
      ]
     },
     "execution_count": 47,
     "metadata": {},
     "output_type": "execute_result"
    }
   ],
   "source": []
  },
  {
   "cell_type": "code",
   "execution_count": null,
   "metadata": {},
   "outputs": [],
   "source": []
  }
 ],
 "metadata": {
  "colab": {
   "name": "인구 합하기3.ipynb",
   "provenance": []
  },
  "kernelspec": {
   "display_name": "Python 3",
   "language": "python",
   "name": "python3"
  },
  "language_info": {
   "codemirror_mode": {
    "name": "ipython",
    "version": 3
   },
   "file_extension": ".py",
   "mimetype": "text/x-python",
   "name": "python",
   "nbconvert_exporter": "python",
   "pygments_lexer": "ipython3",
   "version": "3.7.7"
  }
 },
 "nbformat": 4,
 "nbformat_minor": 4
}
