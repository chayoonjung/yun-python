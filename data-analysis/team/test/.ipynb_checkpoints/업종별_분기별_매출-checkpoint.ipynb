{
 "cells": [
  {
   "cell_type": "code",
   "execution_count": 1,
   "metadata": {},
   "outputs": [],
   "source": [
    "import pandas as pd\n",
    "import numpy as np\n",
    "\n",
    "import matplotlib.pyplot as plt\n",
    "import seaborn as sns\n",
    "\n",
    "import csv\n",
    "import os"
   ]
  },
  {
   "cell_type": "code",
   "execution_count": 2,
   "metadata": {},
   "outputs": [],
   "source": [
    "# path = \"./sg-data/\"\n",
    "# desc = 'desc/'\n",
    "# col = 'col/'\n",
    "# origin = 'origin/'\n",
    "# file_list = os.listdir(path + origin)\n",
    "# file_list"
   ]
  },
  {
   "cell_type": "code",
   "execution_count": 3,
   "metadata": {},
   "outputs": [],
   "source": [
    "df_01 = pd.read_csv('sg-data/origin/01.상권분석서비스(상권-추정유동인구).csv', encoding='EUC-KR')\n",
    "df_02 = pd.read_csv('sg-data/origin/02.상권분석서비스(상권-집객시설).csv', encoding='EUC-KR')\n",
    "df_03 = pd.read_csv('sg-data/origin/03.상권분석서비스(상권배후지-추정유동인구).csv', encoding='EUC-KR')\n",
    "df_04 = pd.read_csv('sg-data/origin/04.상권분석서비스(상권배후지-집객시설).csv', encoding='EUC-KR')\n",
    "df_05 = pd.read_csv('sg-data/origin/05.상권분석서비스(상권배후지-상주인구).csv', encoding='EUC-KR')\n",
    "df_06 = pd.read_csv('sg-data/origin/06.상권분석서비스(상권_상주인구).csv', encoding='EUC-KR')\n",
    "df_07 = pd.read_csv('sg-data/origin/07.상권분석서비스(상권배후지-아파트).csv', encoding='EUC-KR')\n",
    "df_08 = pd.read_csv('sg-data/origin/08.상권분석서비스(상권배후지-점포).csv', encoding='EUC-KR')\n",
    "df_09 = pd.read_csv('sg-data/origin/09.상권분석서비스(상권-상권변화지표).csv', encoding='EUC-KR')\n",
    "df_10 = pd.read_csv('sg-data/origin/10.상권분석서비스(행정동별 상권변화지표).csv', encoding='EUC-KR')\n",
    "df_11 = pd.read_csv('sg-data/origin/11.상권분석서비스(상권-추정매출)_2019.csv', encoding='EUC-KR')\n",
    "df_12 = pd.read_csv('sg-data/origin/12.상권분석서비스(상권-직장인구).csv', encoding='EUC-KR')\n",
    "df_13 = pd.read_csv('sg-data/origin/13.상권분석서비스(상권배후지-소득소비).csv', encoding='EUC-KR')\n",
    "df_14 = pd.read_csv('sg-data/origin/14.상권분석서비스(상권배후지-직장인구).csv', encoding='EUC-KR')\n",
    "df_15 = pd.read_csv('sg-data/origin/15.상권분석서비스(자치구별 상권변화지표).csv', encoding='EUC-KR')\n",
    "df_16 = pd.read_csv('sg-data/origin/16.상권분석서비스(상권-아파트).csv', encoding='EUC-KR')\n",
    "df_18 = pd.read_csv('sg-data/origin/18.상권분석서비스(상권-점포).csv', encoding='EUC-KR')"
   ]
  },
  {
   "cell_type": "code",
   "execution_count": 4,
   "metadata": {},
   "outputs": [],
   "source": [
    "# df_01.keys()  #'기준 년코드', '기준_분기_코드', ' 상권_구분_코드', ' 상권_구분_코드_명', '상권_코드', '상권_코드_명'\n",
    "# df_02.keys()  #'기준_년_코드', '기준_분기_코드', '상권_구분_코드', '상권_구분_코드_명', '상권_코드', '상권_코드_명'\n",
    "# df_03.keys()  #'기준_년_코드', '기준_분기_코드                               ','상권_구분_코드                               ','상권_구분_코드_명                            ',\n",
    "#               #'상권_코드                                    ','상권_코드_명                                 ',\n",
    "# df_04.keys()  #'기준_년_코드', '기준_분기_코드', '상권_구분_코드', '상권_구분_코드_명', '상권_코드', '상권_코드_명'\n",
    "# df_05.keys()  #'기준_년_코드', '기준_분기_코드', '상권_구분_코드', '상권_구분_코드_명', '상권_코드', '상권_코드_명'\n",
    "# df_06.keys()  #'기준_년_코드', '기준_분기_코드', '상권_구분_코드', '상권_구분_코드_명', '상권 코드', .., '상권 코드 명'\n",
    "# df_07.keys()  #'기준_년_코드', '기준_분기_코드', '상권_구분_코드', '상권_구분_코드_명', '상권_코드', '상권_코드_명'\n",
    "# df_08.keys()  #'기준_년_코드', '기준_분기_코드', '상권_구분_코드', '상권_구분_코드_명', '상권_코드', '상권_코드_명','서비스_업종_코드', '서비스_업종_코드_명'\n",
    "# df_09.keys()  #'기준_년_코드', '기준_분기_코드', '상권_구분_코드', '상권_구분_코드_명', '상권_코드', '상권_코드_명'\n",
    "# df_10.keys()  #'기준_년_코드', '기준_분기_코드', '행정동_코드', '행정동_코드_명'\n",
    "# df_11.keys()  #'기준_년_코드', '기준_분기_코드', '상권_구분_코드', '상권_구분_코드_명', '상권_코드', '상권_코드_명', '서비스_업종_코드', '서비스_업종_코드_명',.., '점포수'\n",
    "# df_12.keys()  #'기준_년월_코드', '기준_분기_코드', '상권_구분_코드', '상권_구분_코드_명', '상권_코드', '상권_코드_명'\n",
    "# df_13.keys()  #'기준 년 코드', '기준_분기_코드', '상권_구분_코드', '상권_구분_코드_명', '상권_코드', '상권_코드_명'\n",
    "# df_14.keys()  #'기준_년_코드', '기준_분기_코드', '상권_구분_코드', '상권_구분_코드_명', '상권_코드', '상권_코드_명'\n",
    "# df_15.keys()  #'기준_년_코드', '기준_분기_코드', '시군구_코드', '시군구_코드_명'\n",
    "# df_16.keys()  #'기준_년_코드', '기준_분기_코드', '상권_구분_코드', '상권_구분_코드_명', '상권_코드', '상권_코드_명'\n",
    "# df_18.keys()  #'기준_년_코드', '기준_분기_코드', '상권_구분_코드', '상권_구분_코드_명', '상권_코드', '상권_코드_명'"
   ]
  },
  {
   "cell_type": "code",
   "execution_count": 5,
   "metadata": {},
   "outputs": [],
   "source": [
    "df_01=df_01.rename(columns={'기준 년코드':\"기준_년_코드\"})\n",
    "df_03=df_03.rename(columns={'기준_년월_코드':\"기준_년_코드\"})"
   ]
  },
  {
   "cell_type": "code",
   "execution_count": 6,
   "metadata": {},
   "outputs": [],
   "source": [
    "df_01.columns=df_01.columns.str.strip()   #컬럼공백 제거\n",
    "df_03.columns=df_03.columns.str.strip()   #컬럼공백 제거"
   ]
  },
  {
   "cell_type": "code",
   "execution_count": 7,
   "metadata": {},
   "outputs": [
    {
     "data": {
      "text/plain": [
       "array([2, 1], dtype=int64)"
      ]
     },
     "execution_count": 7,
     "metadata": {},
     "output_type": "execute_result"
    }
   ],
   "source": [
    "# i=0\n",
    "# for i in range(0,9):\n",
    "#     i = i + 1\n",
    "# #     print(f'df_0{i}')\n",
    "# i2=0\n",
    "# for i2 in range(10,19):\n",
    "#     i2 = i2 + 1\n",
    "# #     print(f'df_{i2}') \n",
    "\n",
    "df_01['기준_분기_코드'].unique()    #1,2\n",
    "df_02['기준_분기_코드'].unique()     #1,2\n",
    "df_11['기준_분기_코드'].unique()  #1,2,3,4\n",
    "df_18['기준_분기_코드'].unique()  #1,2,3,4"
   ]
  },
  {
   "cell_type": "code",
   "execution_count": 8,
   "metadata": {},
   "outputs": [],
   "source": [
    "# 유동인구\n",
    "df_01['분기_ID']=df_01['기준_년_코드'].astype('str')+'-'+\\\n",
    "                      df_01['기준_분기_코드'].astype('str')+'-'+\\\n",
    "                      df_01['상권_코드'].astype('str')\n",
    "# 집객시설\n",
    "df_02['분기_ID']=df_02['기준_년_코드'].astype('str')+'-'+\\\n",
    "                      df_02['기준_분기_코드'].astype('str')+'-'+\\\n",
    "                      df_02['상권_코드'].astype('str')\n",
    "# 추정매출\n",
    "df_11['분기_ID']=df_11['기준_년_코드'].astype('str')+'-'+\\\n",
    "                      df_11['기준_분기_코드'].astype('str')+'-'+\\\n",
    "                      df_11['상권_코드'].astype('str')\n",
    "# 점포\n",
    "df_18['분기_ID']=df_18['기준_년_코드'].astype('str')+'-'+\\\n",
    "                      df_18['기준_분기_코드'].astype('str')+'-'+\\\n",
    "                      df_18['상권_코드'].astype('str')"
   ]
  },
  {
   "cell_type": "code",
   "execution_count": 9,
   "metadata": {},
   "outputs": [],
   "source": [
    "df_01_2019 = df_01.drop(['기준_년_코드','기준_분기_코드','상권_구분_코드','상권_코드'], axis=1)\n",
    "df_02_2019 = df_02.drop(['기준_년_코드','기준_분기_코드','상권_구분_코드','상권_코드'], axis=1)\n",
    "df_11_2019 = df_11.drop(['기준_년_코드','기준_분기_코드','상권_구분_코드','상권_코드'], axis=1)\n",
    "df_18_2019 = df_18.drop(['기준_년_코드','기준_분기_코드','상권_구분_코드','상권_코드'], axis=1)"
   ]
  },
  {
   "cell_type": "code",
   "execution_count": 10,
   "metadata": {},
   "outputs": [],
   "source": [
    "# 상권 유동인구\n",
    "df_01_2019_edited_1 = df_01_2019.loc[df_01_2019['분기_ID'].str.contains('2019-1-', na=False)]\n",
    "df_01_2019_edited_2 = df_01_2019.loc[df_01_2019['분기_ID'].str.contains('2019-2-', na=False)]\n",
    "# 상권 집객시설\n",
    "df_02_2019_edited_1 = df_02_2019.loc[df_02_2019['분기_ID'].str.contains('2019-1-', na=False)]\n",
    "df_02_2019_edited_2 = df_02_2019.loc[df_02_2019['분기_ID'].str.contains('2019-2-', na=False)]\n",
    "# 상권 추정매출\n",
    "df_11_2019_edited_1 = df_11_2019.loc[df_11_2019['분기_ID'].str.contains('2019-1-', na=False)]\n",
    "df_11_2019_edited_2 = df_11_2019.loc[df_11_2019['분기_ID'].str.contains('2019-2-', na=False)]\n",
    "# 상권 점포\n",
    "df_18_2019_edited_1 = df_18_2019.loc[df_18_2019['분기_ID'].str.contains('2019-1-', na=False)]\n",
    "df_18_2019_edited_2 = df_18_2019.loc[df_18_2019['분기_ID'].str.contains('2019-2-', na=False)]"
   ]
  },
  {
   "cell_type": "code",
   "execution_count": 11,
   "metadata": {},
   "outputs": [],
   "source": [
    "# 유동인구\n",
    "df_01_tmp_1 = df_01_2019_edited_1[['분기_ID','상권_구분_코드_명','상권_코드_명','총_유동인구_수']]\n",
    "df_01_tmp_2 = df_01_2019_edited_2[['분기_ID','상권_구분_코드_명','상권_코드_명','총_유동인구_수']]\n",
    "\n",
    "# 집객시설\n",
    "df_02_tmp_1 = df_02_2019_edited_1[['분기_ID','상권_구분_코드_명','상권_코드_명','집객시설_수']]\n",
    "df_02_tmp_2 = df_02_2019_edited_2[['분기_ID','상권_구분_코드_명','상권_코드_명','집객시설_수']]\n",
    "\n",
    "# 추정매출\n",
    "df_11_tmp_1 = df_11_2019_edited_1[['분기_ID', '상권_구분_코드_명','상권_코드_명','서비스_업종_코드_명','당월_매출_금액', '당월_매출_건수']]\n",
    "df_11_tmp_2 = df_11_2019_edited_2[['분기_ID', '상권_구분_코드_명','상권_코드_명','서비스_업종_코드_명','당월_매출_금액', '당월_매출_건수']]\n",
    "\n",
    "# 점포\n",
    "df_18_tmp_1 = df_18_2019_edited_1[['분기_ID','상권_구분_코드_명','상권_코드_명','서비스_업종_코드_명','유사_업종_점포_수']]\n",
    "df_18_tmp_2 = df_18_2019_edited_2[['분기_ID','상권_구분_코드_명','상권_코드_명','서비스_업종_코드_명','유사_업종_점포_수']]"
   ]
  },
  {
   "cell_type": "code",
   "execution_count": 12,
   "metadata": {},
   "outputs": [],
   "source": [
    "df_11_tmp_groupby_1=df_11_tmp_1.groupby(['서비스_업종_코드_명']).sum().sort_values(by='당월_매출_금액' ,ascending=False)\n",
    "df_11_tmp_groupby_2=df_11_tmp_2.groupby(['서비스_업종_코드_명']).sum().sort_values(by='당월_매출_금액' ,ascending=False)"
   ]
  },
  {
   "cell_type": "code",
   "execution_count": 13,
   "metadata": {},
   "outputs": [],
   "source": [
    "df_18_tmp_groupby_1 = df_18_tmp_1.groupby(['서비스_업종_코드_명']).sum().sort_values(by='유사_업종_점포_수' ,ascending=False)\n",
    "df_18_tmp_groupby_2 = df_18_tmp_2.groupby(['서비스_업종_코드_명']).sum().sort_values(by='유사_업종_점포_수' ,ascending=False)"
   ]
  },
  {
   "cell_type": "code",
   "execution_count": 14,
   "metadata": {},
   "outputs": [
    {
     "data": {
      "text/html": [
       "<div>\n",
       "<style scoped>\n",
       "    .dataframe tbody tr th:only-of-type {\n",
       "        vertical-align: middle;\n",
       "    }\n",
       "\n",
       "    .dataframe tbody tr th {\n",
       "        vertical-align: top;\n",
       "    }\n",
       "\n",
       "    .dataframe thead th {\n",
       "        text-align: right;\n",
       "    }\n",
       "</style>\n",
       "<table border=\"1\" class=\"dataframe\">\n",
       "  <thead>\n",
       "    <tr style=\"text-align: right;\">\n",
       "      <th></th>\n",
       "      <th>당월_매출_금액</th>\n",
       "      <th>당월_매출_건수</th>\n",
       "    </tr>\n",
       "    <tr>\n",
       "      <th>서비스_업종_코드_명</th>\n",
       "      <th></th>\n",
       "      <th></th>\n",
       "    </tr>\n",
       "  </thead>\n",
       "  <tbody>\n",
       "    <tr>\n",
       "      <th>한식음식점</th>\n",
       "      <td>2.568305e+12</td>\n",
       "      <td>80312486</td>\n",
       "    </tr>\n",
       "    <tr>\n",
       "      <th>일반의류</th>\n",
       "      <td>1.133705e+12</td>\n",
       "      <td>16270441</td>\n",
       "    </tr>\n",
       "    <tr>\n",
       "      <th>편의점</th>\n",
       "      <td>1.001332e+12</td>\n",
       "      <td>172718917</td>\n",
       "    </tr>\n",
       "    <tr>\n",
       "      <th>육류판매</th>\n",
       "      <td>9.682955e+11</td>\n",
       "      <td>18363676</td>\n",
       "    </tr>\n",
       "    <tr>\n",
       "      <th>일반의원</th>\n",
       "      <td>9.379776e+11</td>\n",
       "      <td>22977204</td>\n",
       "    </tr>\n",
       "  </tbody>\n",
       "</table>\n",
       "</div>"
      ],
      "text/plain": [
       "                 당월_매출_금액   당월_매출_건수\n",
       "서비스_업종_코드_명                         \n",
       "한식음식점        2.568305e+12   80312486\n",
       "일반의류         1.133705e+12   16270441\n",
       "편의점          1.001332e+12  172718917\n",
       "육류판매         9.682955e+11   18363676\n",
       "일반의원         9.379776e+11   22977204"
      ]
     },
     "execution_count": 14,
     "metadata": {},
     "output_type": "execute_result"
    }
   ],
   "source": [
    "df_11_tmp_groupby_1.head()"
   ]
  },
  {
   "cell_type": "code",
   "execution_count": 15,
   "metadata": {},
   "outputs": [
    {
     "data": {
      "text/html": [
       "<div>\n",
       "<style scoped>\n",
       "    .dataframe tbody tr th:only-of-type {\n",
       "        vertical-align: middle;\n",
       "    }\n",
       "\n",
       "    .dataframe tbody tr th {\n",
       "        vertical-align: top;\n",
       "    }\n",
       "\n",
       "    .dataframe thead th {\n",
       "        text-align: right;\n",
       "    }\n",
       "</style>\n",
       "<table border=\"1\" class=\"dataframe\">\n",
       "  <thead>\n",
       "    <tr style=\"text-align: right;\">\n",
       "      <th></th>\n",
       "      <th>유사_업종_점포_수</th>\n",
       "    </tr>\n",
       "    <tr>\n",
       "      <th>서비스_업종_코드_명</th>\n",
       "      <th></th>\n",
       "    </tr>\n",
       "  </thead>\n",
       "  <tbody>\n",
       "    <tr>\n",
       "      <th>일반의류</th>\n",
       "      <td>46723</td>\n",
       "    </tr>\n",
       "    <tr>\n",
       "      <th>한식음식점</th>\n",
       "      <td>38275</td>\n",
       "    </tr>\n",
       "    <tr>\n",
       "      <th>부동산중개업</th>\n",
       "      <td>16314</td>\n",
       "    </tr>\n",
       "    <tr>\n",
       "      <th>화장품</th>\n",
       "      <td>12501</td>\n",
       "    </tr>\n",
       "    <tr>\n",
       "      <th>커피-음료</th>\n",
       "      <td>11942</td>\n",
       "    </tr>\n",
       "  </tbody>\n",
       "</table>\n",
       "</div>"
      ],
      "text/plain": [
       "             유사_업종_점포_수\n",
       "서비스_업종_코드_명            \n",
       "일반의류              46723\n",
       "한식음식점             38275\n",
       "부동산중개업            16314\n",
       "화장품               12501\n",
       "커피-음료             11942"
      ]
     },
     "execution_count": 15,
     "metadata": {},
     "output_type": "execute_result"
    }
   ],
   "source": [
    "df_18_tmp_groupby_1.head()"
   ]
  },
  {
   "cell_type": "code",
   "execution_count": 16,
   "metadata": {},
   "outputs": [],
   "source": [
    "df_11_18_tmp_groupby_1 = df_11_tmp_groupby_1.merge(df_18_tmp_groupby_1, on='서비스_업종_코드_명').sort_values(by='당월_매출_금액' ,ascending=False)\n",
    "df_11_18_tmp_groupby_2 = df_11_tmp_groupby_2.merge(df_18_tmp_groupby_2, on='서비스_업종_코드_명').sort_values(by='당월_매출_금액' ,ascending=False)"
   ]
  },
  {
   "cell_type": "code",
   "execution_count": 17,
   "metadata": {},
   "outputs": [
    {
     "data": {
      "text/html": [
       "<div>\n",
       "<style scoped>\n",
       "    .dataframe tbody tr th:only-of-type {\n",
       "        vertical-align: middle;\n",
       "    }\n",
       "\n",
       "    .dataframe tbody tr th {\n",
       "        vertical-align: top;\n",
       "    }\n",
       "\n",
       "    .dataframe thead th {\n",
       "        text-align: right;\n",
       "    }\n",
       "</style>\n",
       "<table border=\"1\" class=\"dataframe\">\n",
       "  <thead>\n",
       "    <tr style=\"text-align: right;\">\n",
       "      <th></th>\n",
       "      <th>당월_매출_금액</th>\n",
       "      <th>당월_매출_건수</th>\n",
       "      <th>유사_업종_점포_수</th>\n",
       "    </tr>\n",
       "    <tr>\n",
       "      <th>서비스_업종_코드_명</th>\n",
       "      <th></th>\n",
       "      <th></th>\n",
       "      <th></th>\n",
       "    </tr>\n",
       "  </thead>\n",
       "  <tbody>\n",
       "    <tr>\n",
       "      <th>한식음식점</th>\n",
       "      <td>2.376322e+12</td>\n",
       "      <td>76693201</td>\n",
       "      <td>38206</td>\n",
       "    </tr>\n",
       "    <tr>\n",
       "      <th>일반의류</th>\n",
       "      <td>1.193428e+12</td>\n",
       "      <td>19600139</td>\n",
       "      <td>46025</td>\n",
       "    </tr>\n",
       "    <tr>\n",
       "      <th>편의점</th>\n",
       "      <td>1.023139e+12</td>\n",
       "      <td>182492427</td>\n",
       "      <td>5748</td>\n",
       "    </tr>\n",
       "    <tr>\n",
       "      <th>육류판매</th>\n",
       "      <td>9.002851e+11</td>\n",
       "      <td>18699943</td>\n",
       "      <td>7414</td>\n",
       "    </tr>\n",
       "    <tr>\n",
       "      <th>일반의원</th>\n",
       "      <td>8.798063e+11</td>\n",
       "      <td>25037798</td>\n",
       "      <td>5512</td>\n",
       "    </tr>\n",
       "    <tr>\n",
       "      <th>...</th>\n",
       "      <td>...</td>\n",
       "      <td>...</td>\n",
       "      <td>...</td>\n",
       "    </tr>\n",
       "    <tr>\n",
       "      <th>법무사사무소</th>\n",
       "      <td>1.531508e+10</td>\n",
       "      <td>1028080</td>\n",
       "      <td>3075</td>\n",
       "    </tr>\n",
       "    <tr>\n",
       "      <th>애완동물</th>\n",
       "      <td>1.450411e+10</td>\n",
       "      <td>413428</td>\n",
       "      <td>1054</td>\n",
       "    </tr>\n",
       "    <tr>\n",
       "      <th>가전제품수리</th>\n",
       "      <td>8.751193e+09</td>\n",
       "      <td>118558</td>\n",
       "      <td>1155</td>\n",
       "    </tr>\n",
       "    <tr>\n",
       "      <th>자동차미용</th>\n",
       "      <td>7.330946e+09</td>\n",
       "      <td>133843</td>\n",
       "      <td>502</td>\n",
       "    </tr>\n",
       "    <tr>\n",
       "      <th>부동산중개업</th>\n",
       "      <td>2.891080e+09</td>\n",
       "      <td>152304</td>\n",
       "      <td>15935</td>\n",
       "    </tr>\n",
       "  </tbody>\n",
       "</table>\n",
       "<p>75 rows × 3 columns</p>\n",
       "</div>"
      ],
      "text/plain": [
       "                 당월_매출_금액   당월_매출_건수  유사_업종_점포_수\n",
       "서비스_업종_코드_명                                     \n",
       "한식음식점        2.376322e+12   76693201       38206\n",
       "일반의류         1.193428e+12   19600139       46025\n",
       "편의점          1.023139e+12  182492427        5748\n",
       "육류판매         9.002851e+11   18699943        7414\n",
       "일반의원         8.798063e+11   25037798        5512\n",
       "...                   ...        ...         ...\n",
       "법무사사무소       1.531508e+10    1028080        3075\n",
       "애완동물         1.450411e+10     413428        1054\n",
       "가전제품수리       8.751193e+09     118558        1155\n",
       "자동차미용        7.330946e+09     133843         502\n",
       "부동산중개업       2.891080e+09     152304       15935\n",
       "\n",
       "[75 rows x 3 columns]"
      ]
     },
     "execution_count": 17,
     "metadata": {},
     "output_type": "execute_result"
    }
   ],
   "source": [
    "df_11_18_tmp_groupby_2"
   ]
  },
  {
   "cell_type": "code",
   "execution_count": 18,
   "metadata": {},
   "outputs": [],
   "source": [
    "df_11_18_tmp_groupby_1['매출금액/점포수']=df_11_18_tmp_groupby_1['당월_매출_금액']/df_11_18_tmp_groupby_1['유사_업종_점포_수']\n",
    "df_11_18_tmp_groupby_2['매출금액/점포수']=df_11_18_tmp_groupby_2['당월_매출_금액']/df_11_18_tmp_groupby_1['유사_업종_점포_수']"
   ]
  },
  {
   "cell_type": "code",
   "execution_count": 21,
   "metadata": {},
   "outputs": [
    {
     "data": {
      "text/html": [
       "<div>\n",
       "<style scoped>\n",
       "    .dataframe tbody tr th:only-of-type {\n",
       "        vertical-align: middle;\n",
       "    }\n",
       "\n",
       "    .dataframe tbody tr th {\n",
       "        vertical-align: top;\n",
       "    }\n",
       "\n",
       "    .dataframe thead th {\n",
       "        text-align: right;\n",
       "    }\n",
       "</style>\n",
       "<table border=\"1\" class=\"dataframe\">\n",
       "  <thead>\n",
       "    <tr style=\"text-align: right;\">\n",
       "      <th></th>\n",
       "      <th>당월_매출_금액</th>\n",
       "      <th>당월_매출_건수</th>\n",
       "      <th>유사_업종_점포_수</th>\n",
       "      <th>매출금액/점포수</th>\n",
       "    </tr>\n",
       "    <tr>\n",
       "      <th>서비스_업종_코드_명</th>\n",
       "      <th></th>\n",
       "      <th></th>\n",
       "      <th></th>\n",
       "      <th></th>\n",
       "    </tr>\n",
       "  </thead>\n",
       "  <tbody>\n",
       "    <tr>\n",
       "      <th>컴퓨터학원</th>\n",
       "      <td>4.041004e+11</td>\n",
       "      <td>2774386</td>\n",
       "      <td>1801</td>\n",
       "      <td>2.225223e+08</td>\n",
       "    </tr>\n",
       "    <tr>\n",
       "      <th>편의점</th>\n",
       "      <td>1.023139e+12</td>\n",
       "      <td>182492427</td>\n",
       "      <td>5748</td>\n",
       "      <td>1.783715e+08</td>\n",
       "    </tr>\n",
       "    <tr>\n",
       "      <th>청과상</th>\n",
       "      <td>6.388424e+11</td>\n",
       "      <td>37549905</td>\n",
       "      <td>3828</td>\n",
       "      <td>1.663219e+08</td>\n",
       "    </tr>\n",
       "    <tr>\n",
       "      <th>일반의원</th>\n",
       "      <td>8.798063e+11</td>\n",
       "      <td>25037798</td>\n",
       "      <td>5512</td>\n",
       "      <td>1.605193e+08</td>\n",
       "    </tr>\n",
       "    <tr>\n",
       "      <th>의약품</th>\n",
       "      <td>6.741405e+11</td>\n",
       "      <td>45940269</td>\n",
       "      <td>5285</td>\n",
       "      <td>1.288249e+08</td>\n",
       "    </tr>\n",
       "    <tr>\n",
       "      <th>...</th>\n",
       "      <td>...</td>\n",
       "      <td>...</td>\n",
       "      <td>...</td>\n",
       "      <td>...</td>\n",
       "    </tr>\n",
       "    <tr>\n",
       "      <th>세탁소</th>\n",
       "      <td>2.723287e+10</td>\n",
       "      <td>1357134</td>\n",
       "      <td>2768</td>\n",
       "      <td>9.803050e+06</td>\n",
       "    </tr>\n",
       "    <tr>\n",
       "      <th>기타법무서비스</th>\n",
       "      <td>2.564689e+10</td>\n",
       "      <td>1301146</td>\n",
       "      <td>2898</td>\n",
       "      <td>8.771165e+06</td>\n",
       "    </tr>\n",
       "    <tr>\n",
       "      <th>가전제품수리</th>\n",
       "      <td>8.751193e+09</td>\n",
       "      <td>118558</td>\n",
       "      <td>1155</td>\n",
       "      <td>7.669757e+06</td>\n",
       "    </tr>\n",
       "    <tr>\n",
       "      <th>법무사사무소</th>\n",
       "      <td>1.531508e+10</td>\n",
       "      <td>1028080</td>\n",
       "      <td>3075</td>\n",
       "      <td>6.091919e+06</td>\n",
       "    </tr>\n",
       "    <tr>\n",
       "      <th>부동산중개업</th>\n",
       "      <td>2.891080e+09</td>\n",
       "      <td>152304</td>\n",
       "      <td>15935</td>\n",
       "      <td>1.772147e+05</td>\n",
       "    </tr>\n",
       "  </tbody>\n",
       "</table>\n",
       "<p>75 rows × 4 columns</p>\n",
       "</div>"
      ],
      "text/plain": [
       "                 당월_매출_금액   당월_매출_건수  유사_업종_점포_수      매출금액/점포수\n",
       "서비스_업종_코드_명                                                   \n",
       "컴퓨터학원        4.041004e+11    2774386        1801  2.225223e+08\n",
       "편의점          1.023139e+12  182492427        5748  1.783715e+08\n",
       "청과상          6.388424e+11   37549905        3828  1.663219e+08\n",
       "일반의원         8.798063e+11   25037798        5512  1.605193e+08\n",
       "의약품          6.741405e+11   45940269        5285  1.288249e+08\n",
       "...                   ...        ...         ...           ...\n",
       "세탁소          2.723287e+10    1357134        2768  9.803050e+06\n",
       "기타법무서비스      2.564689e+10    1301146        2898  8.771165e+06\n",
       "가전제품수리       8.751193e+09     118558        1155  7.669757e+06\n",
       "법무사사무소       1.531508e+10    1028080        3075  6.091919e+06\n",
       "부동산중개업       2.891080e+09     152304       15935  1.772147e+05\n",
       "\n",
       "[75 rows x 4 columns]"
      ]
     },
     "execution_count": 21,
     "metadata": {},
     "output_type": "execute_result"
    }
   ],
   "source": [
    "df_11_18_tmp_groupby_1.sort_values(by='매출금액/점포수' ,ascending=False)\n",
    "df_11_18_tmp_groupby_2.sort_values(by='매출금액/점포수' ,ascending=False)"
   ]
  },
  {
   "cell_type": "code",
   "execution_count": 25,
   "metadata": {},
   "outputs": [
    {
     "data": {
      "image/png": "[encoded data removed]",
      "text/plain": [
       "<Figure size 1440x720 with 1 Axes>"
      ]
     },
     "metadata": {
      "needs_background": "light"
     },
     "output_type": "display_data"
    },
    {
     "data": {
      "image/png": "[encoded data removed]",
      "text/plain": [
       "<Figure size 1440x720 with 1 Axes>"
      ]
     },
     "metadata": {
      "needs_background": "light"
     },
     "output_type": "display_data"
    }
   ],
   "source": [
    "plt.rc('font', family=\"Malgun Gothic\")\n",
    "df_11_18_tmp_groupby_1['매출금액/점포수'].plot(kind='bar',grid=True, color='#8046eb',figsize=(20,10) )\n",
    "plt.show()\n",
    "\n",
    "df_11_18_tmp_groupby_2['매출금액/점포수'].plot(kind='bar',grid=True, color='#8046eb',figsize=(20,10) )\n",
    "plt.show()"
   ]
  },
  {
   "cell_type": "code",
   "execution_count": null,
   "metadata": {},
   "outputs": [],
   "source": []
  }
 ],
 "metadata": {
  "kernelspec": {
   "display_name": "Python 3",
   "language": "python",
   "name": "python3"
  },
  "language_info": {
   "codemirror_mode": {
    "name": "ipython",
    "version": 3
   },
   "file_extension": ".py",
   "mimetype": "text/x-python",
   "name": "python",
   "nbconvert_exporter": "python",
   "pygments_lexer": "ipython3",
   "version": "3.6.10"
  }
 },
 "nbformat": 4,
 "nbformat_minor": 4
}
