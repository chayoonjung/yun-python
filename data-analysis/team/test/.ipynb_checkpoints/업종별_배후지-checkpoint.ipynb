{
 "cells": [
  {
   "cell_type": "code",
   "execution_count": 1,
   "metadata": {
    "colab": {
     "base_uri": "https://localhost:8080/",
     "height": 73
    },
    "colab_type": "code",
    "executionInfo": {
     "elapsed": 1121,
     "status": "ok",
     "timestamp": 1597849494630,
     "user": {
      "displayName": "차윤정",
      "photoUrl": "",
      "userId": "16466544651689701186"
     },
     "user_tz": -540
    },
    "id": "qOYF7-bIPqz4",
    "outputId": "5f4bf3b7-a818-4b63-969e-36de06200e43"
   },
   "outputs": [],
   "source": [
    "import pandas as pd\n",
    "import numpy as np\n",
    "\n",
    "import matplotlib.pyplot as plt\n",
    "import seaborn as sns\n",
    "\n",
    "import csv\n",
    "import os"
   ]
  },
  {
   "cell_type": "code",
   "execution_count": 2,
   "metadata": {
    "colab": {
     "base_uri": "https://localhost:8080/",
     "height": 394
    },
    "colab_type": "code",
    "executionInfo": {
     "elapsed": 1172,
     "status": "error",
     "timestamp": 1597849500242,
     "user": {
      "displayName": "차윤정",
      "photoUrl": "",
      "userId": "16466544651689701186"
     },
     "user_tz": -540
    },
    "id": "QTI6plUgPq0P",
    "outputId": "723214cc-e78c-4867-c200-2512b3fdb717"
   },
   "outputs": [],
   "source": [
    "df_01 = pd.read_csv('sg-data/origin/01.상권분석서비스(상권-추정유동인구).csv', encoding='EUC-KR')\n",
    "df_02 = pd.read_csv('sg-data/origin/02.상권분석서비스(상권-집객시설).csv', encoding='EUC-KR')\n",
    "df_03 = pd.read_csv('sg-data/origin/03.상권분석서비스(상권배후지-추정유동인구).csv', encoding='EUC-KR')\n",
    "df_04 = pd.read_csv('sg-data/origin/04.상권분석서비스(상권배후지-집객시설).csv', encoding='EUC-KR')\n",
    "df_05 = pd.read_csv('sg-data/origin/05.상권분석서비스(상권배후지-상주인구).csv', encoding='EUC-KR')\n",
    "df_06 = pd.read_csv('sg-data/origin/06.상권분석서비스(상권_상주인구).csv', encoding='EUC-KR')\n",
    "df_07 = pd.read_csv('sg-data/origin/07.상권분석서비스(상권배후지-아파트).csv', encoding='EUC-KR')\n",
    "df_08 = pd.read_csv('sg-data/origin/08.상권분석서비스(상권배후지-점포).csv', encoding='EUC-KR')\n",
    "df_09 = pd.read_csv('sg-data/origin/09.상권분석서비스(상권-상권변화지표).csv', encoding='EUC-KR')\n",
    "df_10 = pd.read_csv('sg-data/origin/10.상권분석서비스(행정동별 상권변화지표).csv', encoding='EUC-KR')\n",
    "df_11 = pd.read_csv('sg-data/origin/11.상권분석서비스(상권-추정매출)_2019.csv', encoding='EUC-KR')\n",
    "df_12 = pd.read_csv('sg-data/origin/12.상권분석서비스(상권-직장인구).csv', encoding='EUC-KR')\n",
    "df_13 = pd.read_csv('sg-data/origin/13.상권분석서비스(상권배후지-소득소비).csv', encoding='EUC-KR')\n",
    "df_14 = pd.read_csv('sg-data/origin/14.상권분석서비스(상권배후지-직장인구).csv', encoding='EUC-KR')\n",
    "df_15 = pd.read_csv('sg-data/origin/15.상권분석서비스(자치구별 상권변화지표).csv', encoding='EUC-KR')\n",
    "df_16 = pd.read_csv('sg-data/origin/16.상권분석서비스(상권-아파트).csv', encoding='EUC-KR')\n",
    "df_18 = pd.read_csv('sg-data/origin/18.상권분석서비스(상권-점포).csv', encoding='EUC-KR')\n",
    "df_19 = pd.read_csv('sg-data/origin/19.상권분석서비스(상권배후지-추정매출).csv', encoding='EUC-KR')\n",
    "# 서비스업종 코드는 (11,19 상권,배상후 - 추정매출), (8, 18 상권, 배후지-점포) 에만 있음 "
   ]
  },
  {
   "cell_type": "code",
   "execution_count": null,
   "metadata": {},
   "outputs": [],
   "source": [
    "# df_18.head()\n",
    "# #            11,19 상권 매출, 점포         //      18, 8 배후지 점포, 매출 \n",
    "# # len(df_11['서비스_업종_코드_명'].unique()) , len(df_18['서비스_업종_코드_명'].unique()), len(df_19['서비스_업종_코드_명'].unique()) , len(df_08['서비스_업종_코드_명'].unique())"
   ]
  },
  {
   "cell_type": "code",
   "execution_count": 4,
   "metadata": {
    "colab": {},
    "colab_type": "code",
    "id": "_BBYtzSqPq0X"
   },
   "outputs": [],
   "source": [
    "# 3(유동인구), 4(집객시설), 5(상주인구), 8(점포), 13(소득소비), 14(직장인구), 19(추정매출)\n",
    "df_01.columns=df_01.columns.str.strip()   #컬럼공백 제거\n",
    "df_03.columns=df_03.columns.str.strip()   #컬럼공백 제거"
   ]
  },
  {
   "cell_type": "code",
   "execution_count": null,
   "metadata": {
    "colab": {},
    "colab_type": "code",
    "id": "v5mpAlnLPq0x",
    "outputId": "ab0b9ba2-4f8c-40c1-8cc1-6c4174947f5c"
   },
   "outputs": [
    {
     "data": {
      "text/plain": [
       "array(['2019_1', '2019_2'], dtype=object)"
      ]
     },
     "execution_count": 10,
     "metadata": {
      "tags": []
     },
     "output_type": "execute_result"
    }
   ],
   "source": [
    "# df_19['기준_년_분기_코드'].unique()    \n",
    "# df_02['기준_년_분기_코드'].unique()    \n",
    "# df_11['기준_년_분기_코드'].unique()  \n",
    "# df_18['기준_년_분기_코드'].unique() "
   ]
  },
  {
   "cell_type": "code",
   "execution_count": 17,
   "metadata": {
    "colab": {},
    "colab_type": "code",
    "id": "ZOyvdfaHPq1V"
   },
   "outputs": [],
   "source": [
    "# 상권 배후지 파일 불러오기\n",
    "# 3(유동인구), 4(집객시설), 5(상주인구), 8(점포), 13(소득소비), 14(직장인구), 19(추정매출)\n",
    "results = {}\n",
    "for dfn, df in zip(['df_03', 'df_04', 'df_05', 'df_08', 'df_13', 'df_14', 'df_19'],[df_03, df_04, df_05, df_08, df_13, df_14, df_19]):\n",
    "    df_by_m = {}\n",
    "    for m in ['2019_1', '2019_2']:\n",
    "        df_by_m[m] = df.loc[df['기준_년_분기_코드'].str.contains(m, na=False)]\n",
    "    results[dfn] = df_by_m"
   ]
  },
  {
   "cell_type": "code",
   "execution_count": 18,
   "metadata": {
    "colab": {},
    "colab_type": "code",
    "id": "r2xIynV7Pq1k",
    "outputId": "9600dfd0-7ff3-4d55-965c-f4a46734f569"
   },
   "outputs": [
    {
     "data": {
      "text/plain": [
       "Index(['기준_년_분기_코드', '상권_코드', '총_직장_인구_수', '남성_직장_인구_수', '여성_직장_인구_수',\n",
       "       '연령대_10_직장_인구_수', '연령대_20_직장_인구_수', '연령대_30_직장_인구_수', '연령대_40_직장_인구_수',\n",
       "       '연령대_50_직장_인구_수', '연령대_60_이상_직장_인구_수', '남성연령대_10_직장_인구_수',\n",
       "       '남성연령대_20_직장_인구_수', '남성연령대_30_직장_인구_수', '남성연령대_40_직장_인구_수',\n",
       "       '남성연령대_50_직장_인구_수', '남성연령대_60_이상_직장_인구_수', '여성연령대_10_직장_인구_수',\n",
       "       '여성연령대_20_직장_인구_수', '여성연령대_30_직장_인구_수', '여성연령대_40_직장_인구_수',\n",
       "       '여성연령대_50_직장_인구_수', '여성연령대_60_이상_직장_인구_수'],\n",
       "      dtype='object')"
      ]
     },
     "execution_count": 18,
     "metadata": {},
     "output_type": "execute_result"
    }
   ],
   "source": [
    "df_03_1=results['df_03']['2019_1']\n",
    "df_05_1=results['df_05']['2019_1']\n",
    "# df_08_1=results['df_08']['2019_1']\n",
    "df_14_1=results['df_14']['2019_1']\n",
    "df_19_1=results['df_19']['2019_1']\n",
    "df_14_1.keys()"
   ]
  },
  {
   "cell_type": "code",
   "execution_count": 19,
   "metadata": {},
   "outputs": [
    {
     "data": {
      "text/html": [
       "<div>\n",
       "<style scoped>\n",
       "    .dataframe tbody tr th:only-of-type {\n",
       "        vertical-align: middle;\n",
       "    }\n",
       "\n",
       "    .dataframe tbody tr th {\n",
       "        vertical-align: top;\n",
       "    }\n",
       "\n",
       "    .dataframe thead th {\n",
       "        text-align: right;\n",
       "    }\n",
       "</style>\n",
       "<table border=\"1\" class=\"dataframe\">\n",
       "  <thead>\n",
       "    <tr style=\"text-align: right;\">\n",
       "      <th></th>\n",
       "      <th>기준_년_분기_코드_x</th>\n",
       "      <th>상권_코드</th>\n",
       "      <th>총_유동인구_수</th>\n",
       "      <th>남성_유동인구_수</th>\n",
       "      <th>여성_유동인구_수</th>\n",
       "      <th>기준_년_분기_코드_y</th>\n",
       "      <th>총_상주인구_수</th>\n",
       "      <th>남성_상주인구_수</th>\n",
       "      <th>여성_상주인구_수</th>\n",
       "      <th>기준_년_분기_코드</th>\n",
       "      <th>총_직장_인구_수</th>\n",
       "      <th>남성_직장_인구_수</th>\n",
       "      <th>여성_직장_인구_수</th>\n",
       "    </tr>\n",
       "  </thead>\n",
       "  <tbody>\n",
       "    <tr>\n",
       "      <th>0</th>\n",
       "      <td>2019_1</td>\n",
       "      <td>1001010</td>\n",
       "      <td>2607258</td>\n",
       "      <td>1287202</td>\n",
       "      <td>1320057</td>\n",
       "      <td>2019_1</td>\n",
       "      <td>28320</td>\n",
       "      <td>13999</td>\n",
       "      <td>14321</td>\n",
       "      <td>2019_1</td>\n",
       "      <td>3206</td>\n",
       "      <td>1627</td>\n",
       "      <td>1579</td>\n",
       "    </tr>\n",
       "    <tr>\n",
       "      <th>1</th>\n",
       "      <td>2019_1</td>\n",
       "      <td>1001009</td>\n",
       "      <td>3070192</td>\n",
       "      <td>1485625</td>\n",
       "      <td>1584578</td>\n",
       "      <td>2019_1</td>\n",
       "      <td>22242</td>\n",
       "      <td>10954</td>\n",
       "      <td>11288</td>\n",
       "      <td>2019_1</td>\n",
       "      <td>7256</td>\n",
       "      <td>3545</td>\n",
       "      <td>3711</td>\n",
       "    </tr>\n",
       "    <tr>\n",
       "      <th>2</th>\n",
       "      <td>2019_1</td>\n",
       "      <td>1001008</td>\n",
       "      <td>3204360</td>\n",
       "      <td>1511917</td>\n",
       "      <td>1692444</td>\n",
       "      <td>2019_1</td>\n",
       "      <td>16300</td>\n",
       "      <td>8141</td>\n",
       "      <td>8159</td>\n",
       "      <td>2019_1</td>\n",
       "      <td>5733</td>\n",
       "      <td>2584</td>\n",
       "      <td>3149</td>\n",
       "    </tr>\n",
       "    <tr>\n",
       "      <th>3</th>\n",
       "      <td>2019_1</td>\n",
       "      <td>1001007</td>\n",
       "      <td>140226</td>\n",
       "      <td>95449</td>\n",
       "      <td>44782</td>\n",
       "      <td>2019_1</td>\n",
       "      <td>5262</td>\n",
       "      <td>2676</td>\n",
       "      <td>2586</td>\n",
       "      <td>2019_1</td>\n",
       "      <td>19289</td>\n",
       "      <td>15615</td>\n",
       "      <td>3674</td>\n",
       "    </tr>\n",
       "    <tr>\n",
       "      <th>4</th>\n",
       "      <td>2019_1</td>\n",
       "      <td>1001006</td>\n",
       "      <td>1461185</td>\n",
       "      <td>728933</td>\n",
       "      <td>732251</td>\n",
       "      <td>2019_1</td>\n",
       "      <td>21885</td>\n",
       "      <td>10817</td>\n",
       "      <td>11068</td>\n",
       "      <td>2019_1</td>\n",
       "      <td>2483</td>\n",
       "      <td>1357</td>\n",
       "      <td>1126</td>\n",
       "    </tr>\n",
       "    <tr>\n",
       "      <th>...</th>\n",
       "      <td>...</td>\n",
       "      <td>...</td>\n",
       "      <td>...</td>\n",
       "      <td>...</td>\n",
       "      <td>...</td>\n",
       "      <td>...</td>\n",
       "      <td>...</td>\n",
       "      <td>...</td>\n",
       "      <td>...</td>\n",
       "      <td>...</td>\n",
       "      <td>...</td>\n",
       "      <td>...</td>\n",
       "      <td>...</td>\n",
       "    </tr>\n",
       "    <tr>\n",
       "      <th>1005</th>\n",
       "      <td>2019_1</td>\n",
       "      <td>1000005</td>\n",
       "      <td>47589</td>\n",
       "      <td>22232</td>\n",
       "      <td>25363</td>\n",
       "      <td>2019_1</td>\n",
       "      <td>6102</td>\n",
       "      <td>2958</td>\n",
       "      <td>3144</td>\n",
       "      <td>2019_1</td>\n",
       "      <td>1820</td>\n",
       "      <td>994</td>\n",
       "      <td>826</td>\n",
       "    </tr>\n",
       "    <tr>\n",
       "      <th>1006</th>\n",
       "      <td>2019_1</td>\n",
       "      <td>1000004</td>\n",
       "      <td>1208957</td>\n",
       "      <td>573717</td>\n",
       "      <td>635243</td>\n",
       "      <td>2019_1</td>\n",
       "      <td>9137</td>\n",
       "      <td>4521</td>\n",
       "      <td>4616</td>\n",
       "      <td>2019_1</td>\n",
       "      <td>2196</td>\n",
       "      <td>1194</td>\n",
       "      <td>1002</td>\n",
       "    </tr>\n",
       "    <tr>\n",
       "      <th>1007</th>\n",
       "      <td>2019_1</td>\n",
       "      <td>1000003</td>\n",
       "      <td>1818586</td>\n",
       "      <td>1015350</td>\n",
       "      <td>803234</td>\n",
       "      <td>2019_1</td>\n",
       "      <td>3512</td>\n",
       "      <td>2033</td>\n",
       "      <td>1479</td>\n",
       "      <td>2019_1</td>\n",
       "      <td>44890</td>\n",
       "      <td>32318</td>\n",
       "      <td>12572</td>\n",
       "    </tr>\n",
       "    <tr>\n",
       "      <th>1008</th>\n",
       "      <td>2019_1</td>\n",
       "      <td>1000002</td>\n",
       "      <td>2186033</td>\n",
       "      <td>1237827</td>\n",
       "      <td>948202</td>\n",
       "      <td>2019_1</td>\n",
       "      <td>11047</td>\n",
       "      <td>5624</td>\n",
       "      <td>5423</td>\n",
       "      <td>2019_1</td>\n",
       "      <td>13270</td>\n",
       "      <td>6153</td>\n",
       "      <td>7117</td>\n",
       "    </tr>\n",
       "    <tr>\n",
       "      <th>1009</th>\n",
       "      <td>2019_1</td>\n",
       "      <td>1000001</td>\n",
       "      <td>471903</td>\n",
       "      <td>253713</td>\n",
       "      <td>218188</td>\n",
       "      <td>2019_1</td>\n",
       "      <td>5455</td>\n",
       "      <td>2544</td>\n",
       "      <td>2911</td>\n",
       "      <td>2019_1</td>\n",
       "      <td>24345</td>\n",
       "      <td>19877</td>\n",
       "      <td>4468</td>\n",
       "    </tr>\n",
       "  </tbody>\n",
       "</table>\n",
       "<p>1010 rows × 13 columns</p>\n",
       "</div>"
      ],
      "text/plain": [
       "     기준_년_분기_코드_x    상권_코드  총_유동인구_수  남성_유동인구_수  여성_유동인구_수 기준_년_분기_코드_y  \\\n",
       "0          2019_1  1001010   2607258    1287202    1320057       2019_1   \n",
       "1          2019_1  1001009   3070192    1485625    1584578       2019_1   \n",
       "2          2019_1  1001008   3204360    1511917    1692444       2019_1   \n",
       "3          2019_1  1001007    140226      95449      44782       2019_1   \n",
       "4          2019_1  1001006   1461185     728933     732251       2019_1   \n",
       "...           ...      ...       ...        ...        ...          ...   \n",
       "1005       2019_1  1000005     47589      22232      25363       2019_1   \n",
       "1006       2019_1  1000004   1208957     573717     635243       2019_1   \n",
       "1007       2019_1  1000003   1818586    1015350     803234       2019_1   \n",
       "1008       2019_1  1000002   2186033    1237827     948202       2019_1   \n",
       "1009       2019_1  1000001    471903     253713     218188       2019_1   \n",
       "\n",
       "      총_상주인구_수  남성_상주인구_수  여성_상주인구_수 기준_년_분기_코드  총_직장_인구_수  남성_직장_인구_수  \\\n",
       "0        28320      13999      14321     2019_1       3206        1627   \n",
       "1        22242      10954      11288     2019_1       7256        3545   \n",
       "2        16300       8141       8159     2019_1       5733        2584   \n",
       "3         5262       2676       2586     2019_1      19289       15615   \n",
       "4        21885      10817      11068     2019_1       2483        1357   \n",
       "...        ...        ...        ...        ...        ...         ...   \n",
       "1005      6102       2958       3144     2019_1       1820         994   \n",
       "1006      9137       4521       4616     2019_1       2196        1194   \n",
       "1007      3512       2033       1479     2019_1      44890       32318   \n",
       "1008     11047       5624       5423     2019_1      13270        6153   \n",
       "1009      5455       2544       2911     2019_1      24345       19877   \n",
       "\n",
       "      여성_직장_인구_수  \n",
       "0           1579  \n",
       "1           3711  \n",
       "2           3149  \n",
       "3           3674  \n",
       "4           1126  \n",
       "...          ...  \n",
       "1005         826  \n",
       "1006        1002  \n",
       "1007       12572  \n",
       "1008        7117  \n",
       "1009        4468  \n",
       "\n",
       "[1010 rows x 13 columns]"
      ]
     },
     "execution_count": 19,
     "metadata": {},
     "output_type": "execute_result"
    }
   ],
   "source": [
    "df_03_d_1=df_03_1[['기준_년_분기_코드', '상권_코드', '총_유동인구_수', '남성_유동인구_수', '여성_유동인구_수']]\n",
    "df_05_d_1=df_05_1[['기준_년_분기_코드', '상권_코드', '총_상주인구_수', '남성_상주인구_수', '여성_상주인구_수']]\n",
    "df_14_d_1=df_14_1[['기준_년_분기_코드', '상권_코드', '총_직장_인구_수', '남성_직장_인구_수', '여성_직장_인구_수']]\n",
    " # 유동인구, 상주인구, 직장인구 데이터 join\n",
    "df_03_05_1 = df_03_d_1.merge(df_05_d_1, on='상권_코드').sort_values(by='상권_코드' ,ascending=False)   \n",
    "df_03_05_14_1 = df_03_05_1.merge(df_14_d_1, on='상권_코드').sort_values(by='상권_코드' ,ascending=False)\n",
    "\n",
    "df_03_05_14_1"
   ]
  },
  {
   "cell_type": "code",
   "execution_count": 20,
   "metadata": {},
   "outputs": [],
   "source": [
    "df_03_05_14_1 = df_03_05_14_1.drop(['기준_년_분기_코드_y'], axis=1)"
   ]
  },
  {
   "cell_type": "code",
   "execution_count": 24,
   "metadata": {},
   "outputs": [
    {
     "data": {
      "text/html": [
       "<div>\n",
       "<style scoped>\n",
       "    .dataframe tbody tr th:only-of-type {\n",
       "        vertical-align: middle;\n",
       "    }\n",
       "\n",
       "    .dataframe tbody tr th {\n",
       "        vertical-align: top;\n",
       "    }\n",
       "\n",
       "    .dataframe thead th {\n",
       "        text-align: right;\n",
       "    }\n",
       "</style>\n",
       "<table border=\"1\" class=\"dataframe\">\n",
       "  <thead>\n",
       "    <tr style=\"text-align: right;\">\n",
       "      <th></th>\n",
       "      <th>기준_년_분기_코드</th>\n",
       "      <th>상권_코드</th>\n",
       "      <th>총_유동인구_수</th>\n",
       "      <th>남성_유동인구_수</th>\n",
       "      <th>여성_유동인구_수</th>\n",
       "      <th>총_상주인구_수</th>\n",
       "      <th>남성_상주인구_수</th>\n",
       "      <th>여성_상주인구_수</th>\n",
       "      <th>기준_년_분기_코드</th>\n",
       "      <th>총_직장_인구_수</th>\n",
       "      <th>남성_직장_인구_수</th>\n",
       "      <th>여성_직장_인구_수</th>\n",
       "    </tr>\n",
       "  </thead>\n",
       "  <tbody>\n",
       "    <tr>\n",
       "      <th>0</th>\n",
       "      <td>2019_1</td>\n",
       "      <td>1001010</td>\n",
       "      <td>2607258</td>\n",
       "      <td>1287202</td>\n",
       "      <td>1320057</td>\n",
       "      <td>28320</td>\n",
       "      <td>13999</td>\n",
       "      <td>14321</td>\n",
       "      <td>2019_1</td>\n",
       "      <td>3206</td>\n",
       "      <td>1627</td>\n",
       "      <td>1579</td>\n",
       "    </tr>\n",
       "    <tr>\n",
       "      <th>1</th>\n",
       "      <td>2019_1</td>\n",
       "      <td>1001009</td>\n",
       "      <td>3070192</td>\n",
       "      <td>1485625</td>\n",
       "      <td>1584578</td>\n",
       "      <td>22242</td>\n",
       "      <td>10954</td>\n",
       "      <td>11288</td>\n",
       "      <td>2019_1</td>\n",
       "      <td>7256</td>\n",
       "      <td>3545</td>\n",
       "      <td>3711</td>\n",
       "    </tr>\n",
       "    <tr>\n",
       "      <th>2</th>\n",
       "      <td>2019_1</td>\n",
       "      <td>1001008</td>\n",
       "      <td>3204360</td>\n",
       "      <td>1511917</td>\n",
       "      <td>1692444</td>\n",
       "      <td>16300</td>\n",
       "      <td>8141</td>\n",
       "      <td>8159</td>\n",
       "      <td>2019_1</td>\n",
       "      <td>5733</td>\n",
       "      <td>2584</td>\n",
       "      <td>3149</td>\n",
       "    </tr>\n",
       "    <tr>\n",
       "      <th>3</th>\n",
       "      <td>2019_1</td>\n",
       "      <td>1001007</td>\n",
       "      <td>140226</td>\n",
       "      <td>95449</td>\n",
       "      <td>44782</td>\n",
       "      <td>5262</td>\n",
       "      <td>2676</td>\n",
       "      <td>2586</td>\n",
       "      <td>2019_1</td>\n",
       "      <td>19289</td>\n",
       "      <td>15615</td>\n",
       "      <td>3674</td>\n",
       "    </tr>\n",
       "    <tr>\n",
       "      <th>4</th>\n",
       "      <td>2019_1</td>\n",
       "      <td>1001006</td>\n",
       "      <td>1461185</td>\n",
       "      <td>728933</td>\n",
       "      <td>732251</td>\n",
       "      <td>21885</td>\n",
       "      <td>10817</td>\n",
       "      <td>11068</td>\n",
       "      <td>2019_1</td>\n",
       "      <td>2483</td>\n",
       "      <td>1357</td>\n",
       "      <td>1126</td>\n",
       "    </tr>\n",
       "  </tbody>\n",
       "</table>\n",
       "</div>"
      ],
      "text/plain": [
       "  기준_년_분기_코드    상권_코드  총_유동인구_수  남성_유동인구_수  여성_유동인구_수  총_상주인구_수  남성_상주인구_수  \\\n",
       "0     2019_1  1001010   2607258    1287202    1320057     28320      13999   \n",
       "1     2019_1  1001009   3070192    1485625    1584578     22242      10954   \n",
       "2     2019_1  1001008   3204360    1511917    1692444     16300       8141   \n",
       "3     2019_1  1001007    140226      95449      44782      5262       2676   \n",
       "4     2019_1  1001006   1461185     728933     732251     21885      10817   \n",
       "\n",
       "   여성_상주인구_수 기준_년_분기_코드  총_직장_인구_수  남성_직장_인구_수  여성_직장_인구_수  \n",
       "0      14321     2019_1       3206        1627        1579  \n",
       "1      11288     2019_1       7256        3545        3711  \n",
       "2       8159     2019_1       5733        2584        3149  \n",
       "3       2586     2019_1      19289       15615        3674  \n",
       "4      11068     2019_1       2483        1357        1126  "
      ]
     },
     "execution_count": 24,
     "metadata": {},
     "output_type": "execute_result"
    }
   ],
   "source": [
    "df_03_05_14_1=df_03_05_14_1.rename(columns={'기준_년_분기_코드_x':'기준_년_분기_코드'})\n",
    "df_03_05_14_1.head()"
   ]
  },
  {
   "cell_type": "code",
   "execution_count": 25,
   "metadata": {},
   "outputs": [],
   "source": [
    "df_19_d_1 = df_19_1[['기준_년_분기_코드', '상권_코드', '서비스_업종_코드', '서비스_업종_코드_명', '점포수', '당월_매출_금액','당월_매출_건수',\n",
    "                     '여성_매출_비율','남성_매출_비율','주중_매출_비율', '주말_매출_비율']]"
   ]
  },
  {
   "cell_type": "code",
   "execution_count": 30,
   "metadata": {},
   "outputs": [
    {
     "data": {
      "text/html": [
       "<div>\n",
       "<style scoped>\n",
       "    .dataframe tbody tr th:only-of-type {\n",
       "        vertical-align: middle;\n",
       "    }\n",
       "\n",
       "    .dataframe tbody tr th {\n",
       "        vertical-align: top;\n",
       "    }\n",
       "\n",
       "    .dataframe thead th {\n",
       "        text-align: right;\n",
       "    }\n",
       "</style>\n",
       "<table border=\"1\" class=\"dataframe\">\n",
       "  <thead>\n",
       "    <tr style=\"text-align: right;\">\n",
       "      <th></th>\n",
       "      <th>점포수</th>\n",
       "      <th>당월_매출_금액</th>\n",
       "      <th>당월_매출_건수</th>\n",
       "      <th>여성_매출_비율</th>\n",
       "      <th>남성_매출_비율</th>\n",
       "      <th>주중_매출_비율</th>\n",
       "      <th>주말_매출_비율</th>\n",
       "    </tr>\n",
       "    <tr>\n",
       "      <th>상권_코드</th>\n",
       "      <th></th>\n",
       "      <th></th>\n",
       "      <th></th>\n",
       "      <th></th>\n",
       "      <th></th>\n",
       "      <th></th>\n",
       "      <th></th>\n",
       "    </tr>\n",
       "  </thead>\n",
       "  <tbody>\n",
       "    <tr>\n",
       "      <th>1001010</th>\n",
       "      <td>1017</td>\n",
       "      <td>3.394390e+10</td>\n",
       "      <td>2172298</td>\n",
       "      <td>2095</td>\n",
       "      <td>2112</td>\n",
       "      <td>3220</td>\n",
       "      <td>981</td>\n",
       "    </tr>\n",
       "    <tr>\n",
       "      <th>1001009</th>\n",
       "      <td>1297</td>\n",
       "      <td>5.295179e+10</td>\n",
       "      <td>3038241</td>\n",
       "      <td>2124</td>\n",
       "      <td>2081</td>\n",
       "      <td>3250</td>\n",
       "      <td>952</td>\n",
       "    </tr>\n",
       "    <tr>\n",
       "      <th>1001008</th>\n",
       "      <td>1690</td>\n",
       "      <td>8.189466e+10</td>\n",
       "      <td>4383069</td>\n",
       "      <td>2137</td>\n",
       "      <td>2071</td>\n",
       "      <td>3137</td>\n",
       "      <td>1067</td>\n",
       "    </tr>\n",
       "    <tr>\n",
       "      <th>1001007</th>\n",
       "      <td>359</td>\n",
       "      <td>1.277328e+10</td>\n",
       "      <td>760539</td>\n",
       "      <td>1335</td>\n",
       "      <td>1969</td>\n",
       "      <td>2643</td>\n",
       "      <td>662</td>\n",
       "    </tr>\n",
       "    <tr>\n",
       "      <th>1001006</th>\n",
       "      <td>604</td>\n",
       "      <td>2.150092e+10</td>\n",
       "      <td>1069360</td>\n",
       "      <td>1769</td>\n",
       "      <td>1936</td>\n",
       "      <td>2718</td>\n",
       "      <td>983</td>\n",
       "    </tr>\n",
       "    <tr>\n",
       "      <th>...</th>\n",
       "      <td>...</td>\n",
       "      <td>...</td>\n",
       "      <td>...</td>\n",
       "      <td>...</td>\n",
       "      <td>...</td>\n",
       "      <td>...</td>\n",
       "      <td>...</td>\n",
       "    </tr>\n",
       "    <tr>\n",
       "      <th>1000005</th>\n",
       "      <td>133</td>\n",
       "      <td>5.147803e+09</td>\n",
       "      <td>307345</td>\n",
       "      <td>1399</td>\n",
       "      <td>1201</td>\n",
       "      <td>1621</td>\n",
       "      <td>980</td>\n",
       "    </tr>\n",
       "    <tr>\n",
       "      <th>1000004</th>\n",
       "      <td>201</td>\n",
       "      <td>6.606325e+09</td>\n",
       "      <td>823435</td>\n",
       "      <td>1331</td>\n",
       "      <td>1570</td>\n",
       "      <td>2259</td>\n",
       "      <td>644</td>\n",
       "    </tr>\n",
       "    <tr>\n",
       "      <th>1000003</th>\n",
       "      <td>2093</td>\n",
       "      <td>9.474811e+10</td>\n",
       "      <td>4408491</td>\n",
       "      <td>2020</td>\n",
       "      <td>2084</td>\n",
       "      <td>3225</td>\n",
       "      <td>878</td>\n",
       "    </tr>\n",
       "    <tr>\n",
       "      <th>1000002</th>\n",
       "      <td>1199</td>\n",
       "      <td>4.547722e+10</td>\n",
       "      <td>2910658</td>\n",
       "      <td>1864</td>\n",
       "      <td>2338</td>\n",
       "      <td>3110</td>\n",
       "      <td>1093</td>\n",
       "    </tr>\n",
       "    <tr>\n",
       "      <th>1000001</th>\n",
       "      <td>526</td>\n",
       "      <td>2.321379e+10</td>\n",
       "      <td>1315248</td>\n",
       "      <td>1770</td>\n",
       "      <td>1432</td>\n",
       "      <td>2420</td>\n",
       "      <td>783</td>\n",
       "    </tr>\n",
       "  </tbody>\n",
       "</table>\n",
       "<p>1010 rows × 7 columns</p>\n",
       "</div>"
      ],
      "text/plain": [
       "          점포수      당월_매출_금액  당월_매출_건수  여성_매출_비율  남성_매출_비율  주중_매출_비율  주말_매출_비율\n",
       "상권_코드                                                                        \n",
       "1001010  1017  3.394390e+10   2172298      2095      2112      3220       981\n",
       "1001009  1297  5.295179e+10   3038241      2124      2081      3250       952\n",
       "1001008  1690  8.189466e+10   4383069      2137      2071      3137      1067\n",
       "1001007   359  1.277328e+10    760539      1335      1969      2643       662\n",
       "1001006   604  2.150092e+10   1069360      1769      1936      2718       983\n",
       "...       ...           ...       ...       ...       ...       ...       ...\n",
       "1000005   133  5.147803e+09    307345      1399      1201      1621       980\n",
       "1000004   201  6.606325e+09    823435      1331      1570      2259       644\n",
       "1000003  2093  9.474811e+10   4408491      2020      2084      3225       878\n",
       "1000002  1199  4.547722e+10   2910658      1864      2338      3110      1093\n",
       "1000001   526  2.321379e+10   1315248      1770      1432      2420       783\n",
       "\n",
       "[1010 rows x 7 columns]"
      ]
     },
     "execution_count": 30,
     "metadata": {},
     "output_type": "execute_result"
    }
   ],
   "source": [
    "df_19_d_1.groupby(['상권_코드']).sum().sort_values(by='상권_코드' ,ascending=False)"
   ]
  },
  {
   "cell_type": "code",
   "execution_count": null,
   "metadata": {},
   "outputs": [],
   "source": []
  },
  {
   "cell_type": "code",
   "execution_count": 9,
   "metadata": {
    "colab": {},
    "colab_type": "code",
    "id": "EHfgywfLPq1r"
   },
   "outputs": [],
   "source": [
    "df_03_05_14_19_1=df_03_05_1.merge(df_19_d_1, on='상권_코드').sort_values(by='당월_매출_금액' ,ascending=False)"
   ]
  },
  {
   "cell_type": "code",
   "execution_count": 36,
   "metadata": {
    "colab": {},
    "colab_type": "code",
    "id": "rffHZUcbPq1x"
   },
   "outputs": [
    {
     "data": {
      "text/html": [
       "<div>\n",
       "<style scoped>\n",
       "    .dataframe tbody tr th:only-of-type {\n",
       "        vertical-align: middle;\n",
       "    }\n",
       "\n",
       "    .dataframe tbody tr th {\n",
       "        vertical-align: top;\n",
       "    }\n",
       "\n",
       "    .dataframe thead th {\n",
       "        text-align: right;\n",
       "    }\n",
       "</style>\n",
       "<table border=\"1\" class=\"dataframe\">\n",
       "  <thead>\n",
       "    <tr style=\"text-align: right;\">\n",
       "      <th></th>\n",
       "      <th>점포_수</th>\n",
       "      <th>유사_업종_점포_수</th>\n",
       "      <th>개업_율</th>\n",
       "      <th>개업_점포_수</th>\n",
       "      <th>폐업_률</th>\n",
       "      <th>폐업_점포_수</th>\n",
       "      <th>프랜차이즈_점포_수</th>\n",
       "    </tr>\n",
       "    <tr>\n",
       "      <th>상권_코드</th>\n",
       "      <th></th>\n",
       "      <th></th>\n",
       "      <th></th>\n",
       "      <th></th>\n",
       "      <th></th>\n",
       "      <th></th>\n",
       "      <th></th>\n",
       "    </tr>\n",
       "  </thead>\n",
       "  <tbody>\n",
       "    <tr>\n",
       "      <th>1000001</th>\n",
       "      <td>687</td>\n",
       "      <td>741</td>\n",
       "      <td>36</td>\n",
       "      <td>13</td>\n",
       "      <td>67</td>\n",
       "      <td>15</td>\n",
       "      <td>54</td>\n",
       "    </tr>\n",
       "  </tbody>\n",
       "</table>\n",
       "</div>"
      ],
      "text/plain": [
       "         점포_수  유사_업종_점포_수  개업_율  개업_점포_수  폐업_률  폐업_점포_수  프랜차이즈_점포_수\n",
       "상권_코드                                                              \n",
       "1000001   687         741    36       13    67       15          54"
      ]
     },
     "execution_count": 36,
     "metadata": {},
     "output_type": "execute_result"
    }
   ],
   "source": [
    "# df_08_1.sort_values(by='상권_코드' ,ascending=True)\n",
    "r = df_08_1[df_08_1['상권_코드'] ==1000001]\n",
    "r.groupby(['상권_코드']).sum().sort_values(by='상권_코드' ,ascending=False)"
   ]
  },
  {
   "cell_type": "code",
   "execution_count": null,
   "metadata": {
    "colab": {},
    "colab_type": "code",
    "id": "4hfKTOVmPq14"
   },
   "outputs": [],
   "source": [
    "df_11_tmp_groupby_1=df_11_tmp_1.groupby(['서비스_업종_코드_명']).sum().sort_values(by='당월_매출_금액' ,ascending=False)\n",
    "df_11_tmp_groupby_2=df_11_tmp_2.groupby(['서비스_업종_코드_명']).sum().sort_values(by='당월_매출_금액' ,ascending=False)"
   ]
  },
  {
   "cell_type": "code",
   "execution_count": null,
   "metadata": {
    "colab": {},
    "colab_type": "code",
    "id": "pWIan9O2Pq1-"
   },
   "outputs": [],
   "source": [
    "df_18_tmp_groupby_1 = df_18_tmp_1.groupby(['서비스_업종_코드_명']).sum().sort_values(by='유사_업종_점포_수' ,ascending=False)\n",
    "df_18_tmp_groupby_2 = df_18_tmp_2.groupby(['서비스_업종_코드_명']).sum().sort_values(by='유사_업종_점포_수' ,ascending=False)"
   ]
  },
  {
   "cell_type": "code",
   "execution_count": null,
   "metadata": {
    "colab": {},
    "colab_type": "code",
    "id": "nO2n85paPq2K",
    "outputId": "377304a5-f620-4e73-ec18-9c5ff6b65e38"
   },
   "outputs": [
    {
     "data": {
      "text/html": [
       "<div>\n",
       "<style scoped>\n",
       "    .dataframe tbody tr th:only-of-type {\n",
       "        vertical-align: middle;\n",
       "    }\n",
       "\n",
       "    .dataframe tbody tr th {\n",
       "        vertical-align: top;\n",
       "    }\n",
       "\n",
       "    .dataframe thead th {\n",
       "        text-align: right;\n",
       "    }\n",
       "</style>\n",
       "<table border=\"1\" class=\"dataframe\">\n",
       "  <thead>\n",
       "    <tr style=\"text-align: right;\">\n",
       "      <th></th>\n",
       "      <th>당월_매출_금액</th>\n",
       "      <th>당월_매출_건수</th>\n",
       "    </tr>\n",
       "    <tr>\n",
       "      <th>서비스_업종_코드_명</th>\n",
       "      <th></th>\n",
       "      <th></th>\n",
       "    </tr>\n",
       "  </thead>\n",
       "  <tbody>\n",
       "    <tr>\n",
       "      <th>한식음식점</th>\n",
       "      <td>2.568305e+12</td>\n",
       "      <td>80312486</td>\n",
       "    </tr>\n",
       "    <tr>\n",
       "      <th>일반의류</th>\n",
       "      <td>1.133705e+12</td>\n",
       "      <td>16270441</td>\n",
       "    </tr>\n",
       "    <tr>\n",
       "      <th>편의점</th>\n",
       "      <td>1.001332e+12</td>\n",
       "      <td>172718917</td>\n",
       "    </tr>\n",
       "    <tr>\n",
       "      <th>육류판매</th>\n",
       "      <td>9.682955e+11</td>\n",
       "      <td>18363676</td>\n",
       "    </tr>\n",
       "    <tr>\n",
       "      <th>일반의원</th>\n",
       "      <td>9.379776e+11</td>\n",
       "      <td>22977204</td>\n",
       "    </tr>\n",
       "  </tbody>\n",
       "</table>\n",
       "</div>"
      ],
      "text/plain": [
       "                 당월_매출_금액   당월_매출_건수\n",
       "서비스_업종_코드_명                         \n",
       "한식음식점        2.568305e+12   80312486\n",
       "일반의류         1.133705e+12   16270441\n",
       "편의점          1.001332e+12  172718917\n",
       "육류판매         9.682955e+11   18363676\n",
       "일반의원         9.379776e+11   22977204"
      ]
     },
     "execution_count": 14,
     "metadata": {
      "tags": []
     },
     "output_type": "execute_result"
    }
   ],
   "source": [
    "df_11_tmp_groupby_1.head()"
   ]
  },
  {
   "cell_type": "code",
   "execution_count": null,
   "metadata": {
    "colab": {},
    "colab_type": "code",
    "id": "91pu2OoRPq2R",
    "outputId": "d406e394-4ce5-4d90-a4a0-e421e1f49b08"
   },
   "outputs": [
    {
     "data": {
      "text/html": [
       "<div>\n",
       "<style scoped>\n",
       "    .dataframe tbody tr th:only-of-type {\n",
       "        vertical-align: middle;\n",
       "    }\n",
       "\n",
       "    .dataframe tbody tr th {\n",
       "        vertical-align: top;\n",
       "    }\n",
       "\n",
       "    .dataframe thead th {\n",
       "        text-align: right;\n",
       "    }\n",
       "</style>\n",
       "<table border=\"1\" class=\"dataframe\">\n",
       "  <thead>\n",
       "    <tr style=\"text-align: right;\">\n",
       "      <th></th>\n",
       "      <th>유사_업종_점포_수</th>\n",
       "    </tr>\n",
       "    <tr>\n",
       "      <th>서비스_업종_코드_명</th>\n",
       "      <th></th>\n",
       "    </tr>\n",
       "  </thead>\n",
       "  <tbody>\n",
       "    <tr>\n",
       "      <th>일반의류</th>\n",
       "      <td>46723</td>\n",
       "    </tr>\n",
       "    <tr>\n",
       "      <th>한식음식점</th>\n",
       "      <td>38275</td>\n",
       "    </tr>\n",
       "    <tr>\n",
       "      <th>부동산중개업</th>\n",
       "      <td>16314</td>\n",
       "    </tr>\n",
       "    <tr>\n",
       "      <th>화장품</th>\n",
       "      <td>12501</td>\n",
       "    </tr>\n",
       "    <tr>\n",
       "      <th>커피-음료</th>\n",
       "      <td>11942</td>\n",
       "    </tr>\n",
       "  </tbody>\n",
       "</table>\n",
       "</div>"
      ],
      "text/plain": [
       "             유사_업종_점포_수\n",
       "서비스_업종_코드_명            \n",
       "일반의류              46723\n",
       "한식음식점             38275\n",
       "부동산중개업            16314\n",
       "화장품               12501\n",
       "커피-음료             11942"
      ]
     },
     "execution_count": 15,
     "metadata": {
      "tags": []
     },
     "output_type": "execute_result"
    }
   ],
   "source": [
    "df_18_tmp_groupby_1.head()"
   ]
  },
  {
   "cell_type": "code",
   "execution_count": null,
   "metadata": {
    "colab": {},
    "colab_type": "code",
    "id": "TlaCA4lDPq2Y"
   },
   "outputs": [],
   "source": [
    "df_11_18_tmp_groupby_1 = df_11_tmp_groupby_1.merge(df_18_tmp_groupby_1, on='서비스_업종_코드_명').sort_values(by='당월_매출_금액' ,ascending=False)\n",
    "df_11_18_tmp_groupby_2 = df_11_tmp_groupby_2.merge(df_18_tmp_groupby_2, on='서비스_업종_코드_명').sort_values(by='당월_매출_금액' ,ascending=False)"
   ]
  },
  {
   "cell_type": "code",
   "execution_count": null,
   "metadata": {
    "colab": {},
    "colab_type": "code",
    "id": "APKnqqbtPq2k",
    "outputId": "ffb9134f-329b-4baa-ba30-2d62b5727e26"
   },
   "outputs": [
    {
     "data": {
      "text/html": [
       "<div>\n",
       "<style scoped>\n",
       "    .dataframe tbody tr th:only-of-type {\n",
       "        vertical-align: middle;\n",
       "    }\n",
       "\n",
       "    .dataframe tbody tr th {\n",
       "        vertical-align: top;\n",
       "    }\n",
       "\n",
       "    .dataframe thead th {\n",
       "        text-align: right;\n",
       "    }\n",
       "</style>\n",
       "<table border=\"1\" class=\"dataframe\">\n",
       "  <thead>\n",
       "    <tr style=\"text-align: right;\">\n",
       "      <th></th>\n",
       "      <th>당월_매출_금액</th>\n",
       "      <th>당월_매출_건수</th>\n",
       "      <th>유사_업종_점포_수</th>\n",
       "    </tr>\n",
       "    <tr>\n",
       "      <th>서비스_업종_코드_명</th>\n",
       "      <th></th>\n",
       "      <th></th>\n",
       "      <th></th>\n",
       "    </tr>\n",
       "  </thead>\n",
       "  <tbody>\n",
       "    <tr>\n",
       "      <th>한식음식점</th>\n",
       "      <td>2.376322e+12</td>\n",
       "      <td>76693201</td>\n",
       "      <td>38206</td>\n",
       "    </tr>\n",
       "    <tr>\n",
       "      <th>일반의류</th>\n",
       "      <td>1.193428e+12</td>\n",
       "      <td>19600139</td>\n",
       "      <td>46025</td>\n",
       "    </tr>\n",
       "    <tr>\n",
       "      <th>편의점</th>\n",
       "      <td>1.023139e+12</td>\n",
       "      <td>182492427</td>\n",
       "      <td>5748</td>\n",
       "    </tr>\n",
       "    <tr>\n",
       "      <th>육류판매</th>\n",
       "      <td>9.002851e+11</td>\n",
       "      <td>18699943</td>\n",
       "      <td>7414</td>\n",
       "    </tr>\n",
       "    <tr>\n",
       "      <th>일반의원</th>\n",
       "      <td>8.798063e+11</td>\n",
       "      <td>25037798</td>\n",
       "      <td>5512</td>\n",
       "    </tr>\n",
       "    <tr>\n",
       "      <th>...</th>\n",
       "      <td>...</td>\n",
       "      <td>...</td>\n",
       "      <td>...</td>\n",
       "    </tr>\n",
       "    <tr>\n",
       "      <th>법무사사무소</th>\n",
       "      <td>1.531508e+10</td>\n",
       "      <td>1028080</td>\n",
       "      <td>3075</td>\n",
       "    </tr>\n",
       "    <tr>\n",
       "      <th>애완동물</th>\n",
       "      <td>1.450411e+10</td>\n",
       "      <td>413428</td>\n",
       "      <td>1054</td>\n",
       "    </tr>\n",
       "    <tr>\n",
       "      <th>가전제품수리</th>\n",
       "      <td>8.751193e+09</td>\n",
       "      <td>118558</td>\n",
       "      <td>1155</td>\n",
       "    </tr>\n",
       "    <tr>\n",
       "      <th>자동차미용</th>\n",
       "      <td>7.330946e+09</td>\n",
       "      <td>133843</td>\n",
       "      <td>502</td>\n",
       "    </tr>\n",
       "    <tr>\n",
       "      <th>부동산중개업</th>\n",
       "      <td>2.891080e+09</td>\n",
       "      <td>152304</td>\n",
       "      <td>15935</td>\n",
       "    </tr>\n",
       "  </tbody>\n",
       "</table>\n",
       "<p>75 rows × 3 columns</p>\n",
       "</div>"
      ],
      "text/plain": [
       "                 당월_매출_금액   당월_매출_건수  유사_업종_점포_수\n",
       "서비스_업종_코드_명                                     \n",
       "한식음식점        2.376322e+12   76693201       38206\n",
       "일반의류         1.193428e+12   19600139       46025\n",
       "편의점          1.023139e+12  182492427        5748\n",
       "육류판매         9.002851e+11   18699943        7414\n",
       "일반의원         8.798063e+11   25037798        5512\n",
       "...                   ...        ...         ...\n",
       "법무사사무소       1.531508e+10    1028080        3075\n",
       "애완동물         1.450411e+10     413428        1054\n",
       "가전제품수리       8.751193e+09     118558        1155\n",
       "자동차미용        7.330946e+09     133843         502\n",
       "부동산중개업       2.891080e+09     152304       15935\n",
       "\n",
       "[75 rows x 3 columns]"
      ]
     },
     "execution_count": 17,
     "metadata": {
      "tags": []
     },
     "output_type": "execute_result"
    }
   ],
   "source": [
    "df_11_18_tmp_groupby_2"
   ]
  },
  {
   "cell_type": "code",
   "execution_count": null,
   "metadata": {
    "colab": {},
    "colab_type": "code",
    "id": "SK5fb0jOPq2u"
   },
   "outputs": [],
   "source": [
    "df_11_18_tmp_groupby_1['매출금액/점포수']=df_11_18_tmp_groupby_1['당월_매출_금액']/df_11_18_tmp_groupby_1['유사_업종_점포_수']\n",
    "df_11_18_tmp_groupby_2['매출금액/점포수']=df_11_18_tmp_groupby_2['당월_매출_금액']/df_11_18_tmp_groupby_1['유사_업종_점포_수']"
   ]
  },
  {
   "cell_type": "code",
   "execution_count": null,
   "metadata": {
    "colab": {},
    "colab_type": "code",
    "id": "smW2nKLlPq20"
   },
   "outputs": [],
   "source": [
    "df_11_18_tmp_groupby_1=df_11_18_tmp_groupby_1.sort_values(by='매출금액/점포수' ,ascending=False)\n",
    "df_11_18_tmp_groupby_2=df_11_18_tmp_groupby_2.sort_values(by='매출금액/점포수' ,ascending=False)"
   ]
  },
  {
   "cell_type": "code",
   "execution_count": null,
   "metadata": {
    "colab": {},
    "colab_type": "code",
    "id": "KbymCiQvPq25",
    "outputId": "795c4817-be2f-41be-9dc2-501a563387f0"
   },
   "outputs": [
    {
     "data": {
      "image/png": "[encoded data removed]",
      "text/plain": [
       "<Figure size 1440x720 with 1 Axes>"
      ]
     },
     "metadata": {
      "needs_background": "light",
      "tags": []
     },
     "output_type": "display_data"
    },
    {
     "data": {
      "image/png": "[encoded data removed]",
      "text/plain": [
       "<Figure size 1440x720 with 1 Axes>"
      ]
     },
     "metadata": {
      "needs_background": "light",
      "tags": []
     },
     "output_type": "display_data"
    }
   ],
   "source": [
    "plt.rc('font', family=\"Malgun Gothic\")\n",
    "df_11_18_tmp_groupby_1['매출금액/점포수'].plot(kind='bar',grid=True, color='#8046eb',figsize=(20,10) ,title=\"1분기\" )\n",
    "plt.show()\n",
    "\n",
    "df_11_18_tmp_groupby_2['매출금액/점포수'].plot(kind='bar',grid=True, color='#8046eb',figsize=(20,10),title=\"2분기\" )\n",
    "plt.show()"
   ]
  },
  {
   "cell_type": "code",
   "execution_count": null,
   "metadata": {
    "colab": {},
    "colab_type": "code",
    "id": "xGFIaNZqPq2_"
   },
   "outputs": [],
   "source": []
  },
  {
   "cell_type": "code",
   "execution_count": null,
   "metadata": {
    "colab": {},
    "colab_type": "code",
    "id": "qUFFpsRwPq3L"
   },
   "outputs": [],
   "source": []
  },
  {
   "cell_type": "code",
   "execution_count": null,
   "metadata": {
    "colab": {},
    "colab_type": "code",
    "id": "lnegTF6iPq3d"
   },
   "outputs": [],
   "source": [
    "# 집객시설 수 와 유동인구 유의성"
   ]
  },
  {
   "cell_type": "code",
   "execution_count": null,
   "metadata": {
    "colab": {},
    "colab_type": "code",
    "id": "CyMs0m_HPq3u"
   },
   "outputs": [],
   "source": [
    "df_01_02_tmp_1 = df_02_tmp_1.merge(df_01_tmp_1, on='분기_ID')\n",
    "df_01_02_tmp_2 = df_02_tmp_2.merge(df_01_tmp_2, on='분기_ID')"
   ]
  },
  {
   "cell_type": "code",
   "execution_count": null,
   "metadata": {
    "colab": {},
    "colab_type": "code",
    "id": "g9Nwrti5Pq33"
   },
   "outputs": [],
   "source": [
    "df_01_02_tmp_1=df_01_02_tmp_1[['분기_ID','상권_구분_코드_명_x','상권_코드_명_x','집객시설_수','총_유동인구_수']]\n",
    "df_01_02_tmp_2=df_01_02_tmp_2[['분기_ID','상권_구분_코드_명_x','상권_코드_명_x','집객시설_수','총_유동인구_수']]"
   ]
  },
  {
   "cell_type": "code",
   "execution_count": null,
   "metadata": {
    "colab": {},
    "colab_type": "code",
    "id": "B559ChzTPq3-"
   },
   "outputs": [],
   "source": [
    "df_01_02_tmp_1=df_01_02_tmp_1.rename(columns={'상권_구분_코드_명_x':'상권_구분_코드_명', '상권_코드_명_x':'상권_코드_명'})\n",
    "df_01_02_tmp_2=df_01_02_tmp_2.rename(columns={'상권_구분_코드_명_x':'상권_구분_코드_명', '상권_코드_명_x':'상권_코드_명'})"
   ]
  },
  {
   "cell_type": "code",
   "execution_count": null,
   "metadata": {
    "colab": {},
    "colab_type": "code",
    "id": "BgG9OmcDPq4E",
    "outputId": "72f87b0b-9016-439a-c7d7-5f17f9473ab0"
   },
   "outputs": [
    {
     "data": {
      "text/html": [
       "<div>\n",
       "<style scoped>\n",
       "    .dataframe tbody tr th:only-of-type {\n",
       "        vertical-align: middle;\n",
       "    }\n",
       "\n",
       "    .dataframe tbody tr th {\n",
       "        vertical-align: top;\n",
       "    }\n",
       "\n",
       "    .dataframe thead th {\n",
       "        text-align: right;\n",
       "    }\n",
       "</style>\n",
       "<table border=\"1\" class=\"dataframe\">\n",
       "  <thead>\n",
       "    <tr style=\"text-align: right;\">\n",
       "      <th></th>\n",
       "      <th>분기_ID</th>\n",
       "      <th>상권_구분_코드_명</th>\n",
       "      <th>상권_코드_명</th>\n",
       "      <th>집객시설_수</th>\n",
       "      <th>총_유동인구_수</th>\n",
       "    </tr>\n",
       "  </thead>\n",
       "  <tbody>\n",
       "    <tr>\n",
       "      <th>0</th>\n",
       "      <td>2019-2-1000953</td>\n",
       "      <td>골목상권</td>\n",
       "      <td>백제고분로50길</td>\n",
       "      <td>14</td>\n",
       "      <td>377308</td>\n",
       "    </tr>\n",
       "    <tr>\n",
       "      <th>1</th>\n",
       "      <td>2019-2-1001361</td>\n",
       "      <td>전통시장</td>\n",
       "      <td>신도봉시장</td>\n",
       "      <td>1</td>\n",
       "      <td>7526</td>\n",
       "    </tr>\n",
       "    <tr>\n",
       "      <th>2</th>\n",
       "      <td>2019-2-1001387</td>\n",
       "      <td>전통시장</td>\n",
       "      <td>서교시장</td>\n",
       "      <td>2</td>\n",
       "      <td>58741</td>\n",
       "    </tr>\n",
       "    <tr>\n",
       "      <th>3</th>\n",
       "      <td>2019-2-1001366</td>\n",
       "      <td>전통시장</td>\n",
       "      <td>상계시장</td>\n",
       "      <td>1</td>\n",
       "      <td>17741</td>\n",
       "    </tr>\n",
       "    <tr>\n",
       "      <th>4</th>\n",
       "      <td>2019-2-1001308</td>\n",
       "      <td>전통시장</td>\n",
       "      <td>영동교골목시장</td>\n",
       "      <td>4</td>\n",
       "      <td>99359</td>\n",
       "    </tr>\n",
       "  </tbody>\n",
       "</table>\n",
       "</div>"
      ],
      "text/plain": [
       "            분기_ID 상권_구분_코드_명   상권_코드_명  집객시설_수  총_유동인구_수\n",
       "0  2019-2-1000953       골목상권  백제고분로50길      14    377308\n",
       "1  2019-2-1001361       전통시장     신도봉시장       1      7526\n",
       "2  2019-2-1001387       전통시장      서교시장       2     58741\n",
       "3  2019-2-1001366       전통시장      상계시장       1     17741\n",
       "4  2019-2-1001308       전통시장   영동교골목시장       4     99359"
      ]
     },
     "execution_count": 47,
     "metadata": {
      "tags": []
     },
     "output_type": "execute_result"
    }
   ],
   "source": [
    "df_01_02_tmp_2.head()"
   ]
  },
  {
   "cell_type": "code",
   "execution_count": null,
   "metadata": {
    "colab": {},
    "colab_type": "code",
    "id": "ls-AG3ZiPq4W"
   },
   "outputs": [],
   "source": [
    "df_18_tmp_group_1 = df_18_tmp_1.groupby(['상권_코드_명']).sum()\n",
    "df_18_tmp_group_2 = df_18_tmp_2.groupby(['상권_코드_명']).sum()"
   ]
  },
  {
   "cell_type": "code",
   "execution_count": null,
   "metadata": {
    "colab": {},
    "colab_type": "code",
    "id": "QOOsYQgXPq4c"
   },
   "outputs": [],
   "source": [
    "df_01_02_18_tmp_1 = df_01_02_tmp_1.merge(df_18_tmp_group_1, on='상권_코드_명')\n",
    "df_01_02_18_tmp_2 = df_01_02_tmp_2.merge(df_18_tmp_group_2, on='상권_코드_명')"
   ]
  },
  {
   "cell_type": "code",
   "execution_count": null,
   "metadata": {
    "colab": {},
    "colab_type": "code",
    "id": "rbf36uVSPq4u",
    "outputId": "ccfa385f-43eb-48e9-f9eb-31b1281262ab"
   },
   "outputs": [
    {
     "data": {
      "text/html": [
       "<div>\n",
       "<style scoped>\n",
       "    .dataframe tbody tr th:only-of-type {\n",
       "        vertical-align: middle;\n",
       "    }\n",
       "\n",
       "    .dataframe tbody tr th {\n",
       "        vertical-align: top;\n",
       "    }\n",
       "\n",
       "    .dataframe thead th {\n",
       "        text-align: right;\n",
       "    }\n",
       "</style>\n",
       "<table border=\"1\" class=\"dataframe\">\n",
       "  <thead>\n",
       "    <tr style=\"text-align: right;\">\n",
       "      <th></th>\n",
       "      <th>분기_ID</th>\n",
       "      <th>상권_구분_코드_명</th>\n",
       "      <th>상권_코드_명</th>\n",
       "      <th>집객시설_수</th>\n",
       "      <th>총_유동인구_수</th>\n",
       "      <th>유사_업종_점포_수</th>\n",
       "    </tr>\n",
       "  </thead>\n",
       "  <tbody>\n",
       "    <tr>\n",
       "      <th>0</th>\n",
       "      <td>2019-2-1000953</td>\n",
       "      <td>골목상권</td>\n",
       "      <td>백제고분로50길</td>\n",
       "      <td>14</td>\n",
       "      <td>377308</td>\n",
       "      <td>269</td>\n",
       "    </tr>\n",
       "    <tr>\n",
       "      <th>1</th>\n",
       "      <td>2019-2-1001361</td>\n",
       "      <td>전통시장</td>\n",
       "      <td>신도봉시장</td>\n",
       "      <td>1</td>\n",
       "      <td>7526</td>\n",
       "      <td>44</td>\n",
       "    </tr>\n",
       "    <tr>\n",
       "      <th>2</th>\n",
       "      <td>2019-2-1001387</td>\n",
       "      <td>전통시장</td>\n",
       "      <td>서교시장</td>\n",
       "      <td>2</td>\n",
       "      <td>58741</td>\n",
       "      <td>57</td>\n",
       "    </tr>\n",
       "    <tr>\n",
       "      <th>3</th>\n",
       "      <td>2019-2-1001366</td>\n",
       "      <td>전통시장</td>\n",
       "      <td>상계시장</td>\n",
       "      <td>1</td>\n",
       "      <td>17741</td>\n",
       "      <td>5</td>\n",
       "    </tr>\n",
       "    <tr>\n",
       "      <th>4</th>\n",
       "      <td>2019-2-1001308</td>\n",
       "      <td>전통시장</td>\n",
       "      <td>영동교골목시장</td>\n",
       "      <td>4</td>\n",
       "      <td>99359</td>\n",
       "      <td>109</td>\n",
       "    </tr>\n",
       "  </tbody>\n",
       "</table>\n",
       "</div>"
      ],
      "text/plain": [
       "            분기_ID 상권_구분_코드_명   상권_코드_명  집객시설_수  총_유동인구_수  유사_업종_점포_수\n",
       "0  2019-2-1000953       골목상권  백제고분로50길      14    377308         269\n",
       "1  2019-2-1001361       전통시장     신도봉시장       1      7526          44\n",
       "2  2019-2-1001387       전통시장      서교시장       2     58741          57\n",
       "3  2019-2-1001366       전통시장      상계시장       1     17741           5\n",
       "4  2019-2-1001308       전통시장   영동교골목시장       4     99359         109"
      ]
     },
     "execution_count": 51,
     "metadata": {
      "tags": []
     },
     "output_type": "execute_result"
    }
   ],
   "source": [
    "df_01_02_18_tmp_2.head()"
   ]
  },
  {
   "cell_type": "code",
   "execution_count": null,
   "metadata": {
    "colab": {},
    "colab_type": "code",
    "id": "NzRHxN3bPq4z",
    "outputId": "0d2f36d2-f8f9-422a-f30a-f8cca6647177"
   },
   "outputs": [
    {
     "data": {
      "text/html": [
       "<div>\n",
       "<style scoped>\n",
       "    .dataframe tbody tr th:only-of-type {\n",
       "        vertical-align: middle;\n",
       "    }\n",
       "\n",
       "    .dataframe tbody tr th {\n",
       "        vertical-align: top;\n",
       "    }\n",
       "\n",
       "    .dataframe thead th {\n",
       "        text-align: right;\n",
       "    }\n",
       "</style>\n",
       "<table border=\"1\" class=\"dataframe\">\n",
       "  <thead>\n",
       "    <tr style=\"text-align: right;\">\n",
       "      <th></th>\n",
       "      <th>집객시설_수</th>\n",
       "      <th>총_유동인구_수</th>\n",
       "      <th>유사_업종_점포_수</th>\n",
       "    </tr>\n",
       "  </thead>\n",
       "  <tbody>\n",
       "    <tr>\n",
       "      <th>집객시설_수</th>\n",
       "      <td>1.000000</td>\n",
       "      <td>0.790142</td>\n",
       "      <td>0.724295</td>\n",
       "    </tr>\n",
       "    <tr>\n",
       "      <th>총_유동인구_수</th>\n",
       "      <td>0.790142</td>\n",
       "      <td>1.000000</td>\n",
       "      <td>0.643464</td>\n",
       "    </tr>\n",
       "    <tr>\n",
       "      <th>유사_업종_점포_수</th>\n",
       "      <td>0.724295</td>\n",
       "      <td>0.643464</td>\n",
       "      <td>1.000000</td>\n",
       "    </tr>\n",
       "  </tbody>\n",
       "</table>\n",
       "</div>"
      ],
      "text/plain": [
       "              집객시설_수  총_유동인구_수  유사_업종_점포_수\n",
       "집객시설_수      1.000000  0.790142    0.724295\n",
       "총_유동인구_수    0.790142  1.000000    0.643464\n",
       "유사_업종_점포_수  0.724295  0.643464    1.000000"
      ]
     },
     "execution_count": 56,
     "metadata": {
      "tags": []
     },
     "output_type": "execute_result"
    }
   ],
   "source": [
    "corr_matrix_1= df_01_02_18_tmp_1.corr()\n",
    "corr_matrix_1"
   ]
  },
  {
   "cell_type": "code",
   "execution_count": null,
   "metadata": {
    "colab": {},
    "colab_type": "code",
    "id": "GNCRrix3Pq44",
    "outputId": "ed77a95f-6dab-4a35-bb08-de32de7d6504"
   },
   "outputs": [
    {
     "data": {
      "text/html": [
       "<div>\n",
       "<style scoped>\n",
       "    .dataframe tbody tr th:only-of-type {\n",
       "        vertical-align: middle;\n",
       "    }\n",
       "\n",
       "    .dataframe tbody tr th {\n",
       "        vertical-align: top;\n",
       "    }\n",
       "\n",
       "    .dataframe thead th {\n",
       "        text-align: right;\n",
       "    }\n",
       "</style>\n",
       "<table border=\"1\" class=\"dataframe\">\n",
       "  <thead>\n",
       "    <tr style=\"text-align: right;\">\n",
       "      <th></th>\n",
       "      <th>집객시설_수</th>\n",
       "      <th>총_유동인구_수</th>\n",
       "      <th>유사_업종_점포_수</th>\n",
       "    </tr>\n",
       "  </thead>\n",
       "  <tbody>\n",
       "    <tr>\n",
       "      <th>집객시설_수</th>\n",
       "      <td>1.000000</td>\n",
       "      <td>0.795568</td>\n",
       "      <td>0.727348</td>\n",
       "    </tr>\n",
       "    <tr>\n",
       "      <th>총_유동인구_수</th>\n",
       "      <td>0.795568</td>\n",
       "      <td>1.000000</td>\n",
       "      <td>0.658717</td>\n",
       "    </tr>\n",
       "    <tr>\n",
       "      <th>유사_업종_점포_수</th>\n",
       "      <td>0.727348</td>\n",
       "      <td>0.658717</td>\n",
       "      <td>1.000000</td>\n",
       "    </tr>\n",
       "  </tbody>\n",
       "</table>\n",
       "</div>"
      ],
      "text/plain": [
       "              집객시설_수  총_유동인구_수  유사_업종_점포_수\n",
       "집객시설_수      1.000000  0.795568    0.727348\n",
       "총_유동인구_수    0.795568  1.000000    0.658717\n",
       "유사_업종_점포_수  0.727348  0.658717    1.000000"
      ]
     },
     "execution_count": 57,
     "metadata": {
      "tags": []
     },
     "output_type": "execute_result"
    }
   ],
   "source": [
    "corr_matrix_2= df_01_02_18_tmp_2.corr()\n",
    "corr_matrix_2"
   ]
  },
  {
   "cell_type": "code",
   "execution_count": null,
   "metadata": {
    "colab": {},
    "colab_type": "code",
    "id": "P5GCP3-OPq5E",
    "outputId": "b279c319-e516-47fd-f36e-95e6254d3b0b"
   },
   "outputs": [
    {
     "data": {
      "image/png": "[encoded data removed]",
      "text/plain": [
       "<Figure size 720x720 with 2 Axes>"
      ]
     },
     "metadata": {
      "needs_background": "light",
      "tags": []
     },
     "output_type": "display_data"
    },
    {
     "data": {
      "image/png": "[encoded data removed]",
      "text/plain": [
       "<Figure size 720x720 with 2 Axes>"
      ]
     },
     "metadata": {
      "needs_background": "light",
      "tags": []
     },
     "output_type": "display_data"
    }
   ],
   "source": [
    "plt.figure(figsize=(10,10))\n",
    "plt.rc('font', family = 'malgun gothic', size=10)\n",
    "sns.heatmap(corr_matrix_1, annot=True)\n",
    "plt.show()\n",
    "\n",
    "plt.figure(figsize=(10,10))\n",
    "plt.rc('font', family = 'malgun gothic', size=10)\n",
    "sns.heatmap(corr_matrix_2, annot=True)\n",
    "plt.show()"
   ]
  },
  {
   "cell_type": "code",
   "execution_count": null,
   "metadata": {
    "colab": {},
    "colab_type": "code",
    "id": "aebQ_YBuPq5R"
   },
   "outputs": [],
   "source": []
  }
 ],
 "metadata": {
  "colab": {
   "collapsed_sections": [],
   "name": "업종별_배후지-Copy1.ipynb",
   "provenance": []
  },
  "kernelspec": {
   "display_name": "Python 3",
   "language": "python",
   "name": "python3"
  },
  "language_info": {
   "codemirror_mode": {
    "name": "ipython",
    "version": 3
   },
   "file_extension": ".py",
   "mimetype": "text/x-python",
   "name": "python",
   "nbconvert_exporter": "python",
   "pygments_lexer": "ipython3",
   "version": "3.6.10"
  }
 },
 "nbformat": 4,
 "nbformat_minor": 4
}
