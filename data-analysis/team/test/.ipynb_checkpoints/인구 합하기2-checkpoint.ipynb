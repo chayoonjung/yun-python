{
 "cells": [
  {
   "cell_type": "code",
   "execution_count": null,
   "metadata": {},
   "outputs": [],
   "source": [
    "import os\n",
    "# 한글 지원\n",
    "os.putenv('NLS_LANG', '.UTF8')"
   ]
  },
  {
   "cell_type": "code",
   "execution_count": 2,
   "metadata": {},
   "outputs": [],
   "source": [
    "def ipchecker():    \n",
    "    import urllib \n",
    "    import re\n",
    "    \n",
    "    pattern = re.compile(b'\\d{1,3}\\.\\d{1,3}\\.\\d{1,3}\\.\\d{1,3}')\n",
    "    dyndns = urllib.request.urlopen('http://checkip.dyndns.org').read()\n",
    "    \n",
    "    wan = re.search(pattern, dyndns).group().decode('utf-8')\n",
    "    \n",
    "    return wan"
   ]
  },
  {
   "cell_type": "code",
   "execution_count": 3,
   "metadata": {},
   "outputs": [],
   "source": [
    "# base db_connect param\n",
    "\n",
    "local_ip = '200.1.220.251:1521/xe' # 원내에서 접속할 db_ip\n",
    "outside_ip = '61.35.152.103:1521/xe' # 원밖에서 접속할 db_ip\n",
    "localhost = 'localhost:1521/xe'\n",
    "\n",
    "db_id = 'begopa' \n",
    "db_pwd = 'begopa1'\n",
    "\n",
    "academy_ip = '61.35.152.66'\n",
    "db_ip = local_ip if academy_ip == ipchecker() else outside_ip\n",
    "\n",
    "db_ip = localhost # 집에서 본인의 개인 컴퓨터dptj  오라클에 접속할때는"
   ]
  },
  {
   "cell_type": "code",
   "execution_count": 4,
   "metadata": {},
   "outputs": [],
   "source": [
    "import pickle\n",
    "# load object ::\n",
    "# :: file_nm\n",
    "# :: columns and data_type\n",
    "with open(\"./pickle/col2dict.pickle\",\"rb\") as fr:\n",
    "    col2dict = pickle.load(fr)\n",
    "with open(\"./pickle/table_nm_set.pickle\",\"rb\") as fr:\n",
    "    table_nm_set = pickle.load(fr)"
   ]
  },
  {
   "cell_type": "code",
   "execution_count": 5,
   "metadata": {},
   "outputs": [],
   "source": [
    "path = \"./sg-data/\"\n",
    "desc_path = path + 'desc/'\n",
    "col_path = path + 'col/'\n",
    "origin_path = path + 'origin/'\n",
    "\n",
    "file_list = os.listdir(origin_path)"
   ]
  },
  {
   "cell_type": "code",
   "execution_count": 6,
   "metadata": {},
   "outputs": [],
   "source": [
    "# _, _, _, table_col_set_ = extract_table_columns_set(file_list[0]) # _, :: 임시로 쓰고 버리는 값."
   ]
  },
  {
   "cell_type": "code",
   "execution_count": 7,
   "metadata": {},
   "outputs": [],
   "source": [
    "# 자치구별 상권 변화지표 db 에서 한글 컬럼으로 가져오기\n",
    "# oracle_to_df('자치구별 상권변화지표')\n",
    "def load_to_df(kr_tbl_nm):\n",
    "    for key, value in table_nm_set.items():\n",
    "        if kr_tbl_nm == value:\n",
    "            table_nm = key\n",
    "            columns = [ arr[0] for arr in col2dict[key] ]\n",
    "           \n",
    "    import cx_Oracle\n",
    "    import pandas as pd\n",
    "    \n",
    "    db = cx_Oracle.connect(db_id, db_pwd, db_ip) \n",
    "        \n",
    "    sql = 'select * from ' + table_nm\n",
    "\n",
    "    df = pd.read_sql(sql=sql, con = db) \n",
    "    df.columns = columns\n",
    "    db.close\n",
    "    \n",
    "    return df"
   ]
  },
  {
   "cell_type": "code",
   "execution_count": 8,
   "metadata": {},
   "outputs": [
    {
     "name": "stdout",
     "output_type": "stream",
     "text": [
      "00 상권-영역\n",
      "01 상권-추정유동인구\n",
      "02 상권-집객시설\n",
      "03 상권배후지-추정유동인구\n",
      "04 상권배후지-집객시설\n",
      "05 상권배후지-상주인구\n",
      "06 상권-상주인구\n",
      "07 상권배후지-아파트\n",
      "08 상권배후지-점포\n",
      "09 상권-상권변화지표\n",
      "10 행정동별 상권변화지표\n",
      "11 상권-추정매출\n",
      "12 상권-직장인구\n",
      "13 상권배후지-소득소비\n",
      "14 상권배후지-직장인구\n",
      "15 자치구별 상권변화지표\n",
      "16 상권-아파트\n",
      "18 상권-점포\n",
      "19 상권배후지-추정매출\n"
     ]
    }
   ],
   "source": [
    "import re\n",
    "import os\n",
    "\n",
    "file_list = os.listdir(origin_path)\n",
    "for file in file_list:\n",
    "    kr_tbl_nm = re.findall('(\\d\\d).*\\((.*)\\)',file)\n",
    "    print(kr_tbl_nm[0][0], kr_tbl_nm[0][1])"
   ]
  },
  {
   "cell_type": "code",
   "execution_count": 9,
   "metadata": {},
   "outputs": [],
   "source": [
    "import pandas as pd\n",
    "from sklearn.preprocessing import LabelEncoder, OneHotEncoder"
   ]
  },
  {
   "cell_type": "code",
   "execution_count": 10,
   "metadata": {},
   "outputs": [],
   "source": [
    "pop=load_to_df('상권-추정유동인구')\n",
    "hl_pop=load_to_df('상권배후지-추정유동인구')"
   ]
  },
  {
   "cell_type": "code",
   "execution_count": 11,
   "metadata": {},
   "outputs": [],
   "source": [
    "weekend = {'여성' : ['일요일','월요일','화요일','수요일','목요일','금요일','토요일'],\n",
    "         '남성' : ['일요일','월요일','화요일','수요일','목요일','금요일','토요일'],}\n",
    "weekends={'hl_여성' : ['일요일','월요일','화요일','수요일','목요일','금요일','토요일'],\n",
    "         'hl_남성' : ['일요일','월요일','화요일','수요일','목요일','금요일','토요일'],}\n",
    "any_word = \"시간대\"\n",
    "\n",
    "def delete_age_by_time(any_df, any_dict, any_word):\n",
    "    for key, values in any_dict.items():\n",
    "        for value in values:\n",
    "            any_df[key+'_'+value+'유동인구수'] = any_df.filter(like=key).filter(like=value).sum(axis=1)\n",
    "            del_columns = any_df.filter(like=key).filter(like=value).filter(like=any_word).columns\n",
    "            any_df.drop(del_columns, axis=1, inplace=True)\n",
    "                    \n",
    "    return any_df"
   ]
  },
  {
   "cell_type": "code",
   "execution_count": 19,
   "metadata": {},
   "outputs": [],
   "source": [
    "pop_a=delete_age_by_time(pop, weekend, any_word)\n",
    "hl_pop=delete_age_by_time(hl_pop, weekends, any_word)\n",
    "\n",
    "# pop_a.drop(pop_a.iloc[:,5:17], axis=1)\n",
    "# hl_pop.drop(hl_pop.iloc[:,5:17], axis=1)"
   ]
  },
  {
   "cell_type": "code",
   "execution_count": 18,
   "metadata": {},
   "outputs": [
    {
     "name": "stdout",
     "output_type": "stream",
     "text": [
      "<class 'pandas.core.frame.DataFrame'>\n",
      "RangeIndex: 2020 entries, 0 to 2019\n",
      "Data columns (total 38 columns):\n",
      " #   Column               Non-Null Count  Dtype \n",
      "---  ------               --------------  ----- \n",
      " 0   기준_년_분기_코드           2020 non-null   object\n",
      " 1   상권_코드                2020 non-null   object\n",
      " 2   hl_총_유동인구_수          2020 non-null   int64 \n",
      " 3   hl_남성_유동인구_수         2020 non-null   int64 \n",
      " 4   hl_여성_유동인구_수         2020 non-null   int64 \n",
      " 5   hl_연령대_10_유동인구_수     2020 non-null   int64 \n",
      " 6   hl_연령대_20_유동인구_수     2020 non-null   int64 \n",
      " 7   hl_연령대_30_유동인구_수     2020 non-null   int64 \n",
      " 8   hl_연령대_40_유동인구_수     2020 non-null   int64 \n",
      " 9   hl_연령대_50_유동인구_수     2020 non-null   int64 \n",
      " 10  hl_연령대_60_이상_유동인구_수  2020 non-null   int64 \n",
      " 11  hl_시간대_1_유동인구_수      2020 non-null   int64 \n",
      " 12  hl_시간대_2_유동인구_수      2020 non-null   int64 \n",
      " 13  hl_시간대_3_유동인구_수      2020 non-null   int64 \n",
      " 14  hl_시간대_4_유동인구_수      2020 non-null   int64 \n",
      " 15  hl_시간대_5_유동인구_수      2020 non-null   int64 \n",
      " 16  hl_시간대_6_유동인구_수      2020 non-null   int64 \n",
      " 17  hl_월요일_유동인구_수        2020 non-null   int64 \n",
      " 18  hl_화요일_유동인구_수        2020 non-null   int64 \n",
      " 19  hl_수요일_유동인구_수        2020 non-null   int64 \n",
      " 20  hl_목요일_유동인구_수        2020 non-null   int64 \n",
      " 21  hl_금요일_유동인구_수        2020 non-null   int64 \n",
      " 22  hl_토요일_유동인구_수        2020 non-null   int64 \n",
      " 23  hl_일요일_유동인구_수        2020 non-null   int64 \n",
      " 24  hl_여성_일요일유동인구수       2020 non-null   int64 \n",
      " 25  hl_여성_월요일유동인구수       2020 non-null   int64 \n",
      " 26  hl_여성_화요일유동인구수       2020 non-null   int64 \n",
      " 27  hl_여성_수요일유동인구수       2020 non-null   int64 \n",
      " 28  hl_여성_목요일유동인구수       2020 non-null   int64 \n",
      " 29  hl_여성_금요일유동인구수       2020 non-null   int64 \n",
      " 30  hl_여성_토요일유동인구수       2020 non-null   int64 \n",
      " 31  hl_남성_일요일유동인구수       2020 non-null   int64 \n",
      " 32  hl_남성_월요일유동인구수       2020 non-null   int64 \n",
      " 33  hl_남성_화요일유동인구수       2020 non-null   int64 \n",
      " 34  hl_남성_수요일유동인구수       2020 non-null   int64 \n",
      " 35  hl_남성_목요일유동인구수       2020 non-null   int64 \n",
      " 36  hl_남성_금요일유동인구수       2020 non-null   int64 \n",
      " 37  hl_남성_토요일유동인구수       2020 non-null   int64 \n",
      "dtypes: int64(36), object(2)\n",
      "memory usage: 599.8+ KB\n"
     ]
    }
   ],
   "source": [
    "hl_pop.info()"
   ]
  },
  {
   "cell_type": "code",
   "execution_count": 23,
   "metadata": {},
   "outputs": [
    {
     "ename": "IndentationError",
     "evalue": "unexpected indent (<ipython-input-23-effa8092f7fe>, line 4)",
     "output_type": "error",
     "traceback": [
      "\u001b[1;36m  File \u001b[1;32m\"<ipython-input-23-effa8092f7fe>\"\u001b[1;36m, line \u001b[1;32m4\u001b[0m\n\u001b[1;33m    all_df = pd.merge(left=a_df, right=b_df, how='left', \\\u001b[0m\n\u001b[1;37m    ^\u001b[0m\n\u001b[1;31mIndentationError\u001b[0m\u001b[1;31m:\u001b[0m unexpected indent\n"
     ]
    }
   ],
   "source": [
    "def delete_age(df,df2):\n",
    "    a_df=df.drop(df.iloc[:,5:17], axis=1)\n",
    "    b_df=df2.drop(df.iloc[:,5:17], axis=1)\n",
    "    all_df = pd.merge(left=a_df, right=b_df, how='left', \\\n",
    "                  on=['기준_년_분기_코드','상권_코드'], sort=False)\n",
    "    return all_df.dropna(axis=0)"
   ]
  },
  {
   "cell_type": "code",
   "execution_count": 22,
   "metadata": {},
   "outputs": [
    {
     "ename": "KeyError",
     "evalue": "\"['연령대_10_유동인구_수' '연령대_20_유동인구_수' '연령대_30_유동인구_수' '연령대_40_유동인구_수'\\n '연령대_50_유동인구_수' '연령대_60_이상_유동인구_수' '시간대_1_유동인구_수' '시간대_2_유동인구_수'\\n '시간대_3_유동인구_수' '시간대_4_유동인구_수' '시간대_5_유동인구_수' '시간대_6_유동인구_수'] not found in axis\"",
     "output_type": "error",
     "traceback": [
      "\u001b[1;31m---------------------------------------------------------------------------\u001b[0m",
      "\u001b[1;31mKeyError\u001b[0m                                  Traceback (most recent call last)",
      "\u001b[1;32m<ipython-input-22-161592c6bb24>\u001b[0m in \u001b[0;36m<module>\u001b[1;34m\u001b[0m\n\u001b[1;32m----> 1\u001b[1;33m \u001b[0mdelete_age\u001b[0m\u001b[1;33m(\u001b[0m\u001b[0mpop_a\u001b[0m\u001b[1;33m,\u001b[0m \u001b[0mhl_pop\u001b[0m\u001b[1;33m)\u001b[0m\u001b[1;33m\u001b[0m\u001b[1;33m\u001b[0m\u001b[0m\n\u001b[0m",
      "\u001b[1;32m<ipython-input-21-6e1ec5966f62>\u001b[0m in \u001b[0;36mdelete_age\u001b[1;34m(df, df2)\u001b[0m\n\u001b[0;32m      1\u001b[0m \u001b[1;32mdef\u001b[0m \u001b[0mdelete_age\u001b[0m\u001b[1;33m(\u001b[0m\u001b[0mdf\u001b[0m\u001b[1;33m,\u001b[0m\u001b[0mdf2\u001b[0m\u001b[1;33m)\u001b[0m\u001b[1;33m:\u001b[0m\u001b[1;33m\u001b[0m\u001b[1;33m\u001b[0m\u001b[0m\n\u001b[0;32m      2\u001b[0m     \u001b[0ma_df\u001b[0m\u001b[1;33m=\u001b[0m\u001b[0mdf\u001b[0m\u001b[1;33m.\u001b[0m\u001b[0mdrop\u001b[0m\u001b[1;33m(\u001b[0m\u001b[0mdf\u001b[0m\u001b[1;33m.\u001b[0m\u001b[0miloc\u001b[0m\u001b[1;33m[\u001b[0m\u001b[1;33m:\u001b[0m\u001b[1;33m,\u001b[0m\u001b[1;36m5\u001b[0m\u001b[1;33m:\u001b[0m\u001b[1;36m17\u001b[0m\u001b[1;33m]\u001b[0m\u001b[1;33m,\u001b[0m \u001b[0maxis\u001b[0m\u001b[1;33m=\u001b[0m\u001b[1;36m1\u001b[0m\u001b[1;33m)\u001b[0m\u001b[1;33m\u001b[0m\u001b[1;33m\u001b[0m\u001b[0m\n\u001b[1;32m----> 3\u001b[1;33m     \u001b[0mb_df\u001b[0m\u001b[1;33m=\u001b[0m\u001b[0mdf2\u001b[0m\u001b[1;33m.\u001b[0m\u001b[0mdrop\u001b[0m\u001b[1;33m(\u001b[0m\u001b[0mdf\u001b[0m\u001b[1;33m.\u001b[0m\u001b[0miloc\u001b[0m\u001b[1;33m[\u001b[0m\u001b[1;33m:\u001b[0m\u001b[1;33m,\u001b[0m\u001b[1;36m5\u001b[0m\u001b[1;33m:\u001b[0m\u001b[1;36m17\u001b[0m\u001b[1;33m]\u001b[0m\u001b[1;33m,\u001b[0m \u001b[0maxis\u001b[0m\u001b[1;33m=\u001b[0m\u001b[1;36m1\u001b[0m\u001b[1;33m)\u001b[0m\u001b[1;33m\u001b[0m\u001b[1;33m\u001b[0m\u001b[0m\n\u001b[0m\u001b[0;32m      4\u001b[0m     all_df = pd.merge(left=a_df, right=b_df, how='left', \\\n\u001b[0;32m      5\u001b[0m                   on=['기준_년_분기_코드','상권_코드'], sort=False)\n",
      "\u001b[1;32mc:\\programdata\\miniconda3\\envs\\hoseo\\lib\\site-packages\\pandas\\core\\frame.py\u001b[0m in \u001b[0;36mdrop\u001b[1;34m(self, labels, axis, index, columns, level, inplace, errors)\u001b[0m\n\u001b[0;32m   3995\u001b[0m             \u001b[0mlevel\u001b[0m\u001b[1;33m=\u001b[0m\u001b[0mlevel\u001b[0m\u001b[1;33m,\u001b[0m\u001b[1;33m\u001b[0m\u001b[1;33m\u001b[0m\u001b[0m\n\u001b[0;32m   3996\u001b[0m             \u001b[0minplace\u001b[0m\u001b[1;33m=\u001b[0m\u001b[0minplace\u001b[0m\u001b[1;33m,\u001b[0m\u001b[1;33m\u001b[0m\u001b[1;33m\u001b[0m\u001b[0m\n\u001b[1;32m-> 3997\u001b[1;33m             \u001b[0merrors\u001b[0m\u001b[1;33m=\u001b[0m\u001b[0merrors\u001b[0m\u001b[1;33m,\u001b[0m\u001b[1;33m\u001b[0m\u001b[1;33m\u001b[0m\u001b[0m\n\u001b[0m\u001b[0;32m   3998\u001b[0m         )\n\u001b[0;32m   3999\u001b[0m \u001b[1;33m\u001b[0m\u001b[0m\n",
      "\u001b[1;32mc:\\programdata\\miniconda3\\envs\\hoseo\\lib\\site-packages\\pandas\\core\\generic.py\u001b[0m in \u001b[0;36mdrop\u001b[1;34m(self, labels, axis, index, columns, level, inplace, errors)\u001b[0m\n\u001b[0;32m   3934\u001b[0m         \u001b[1;32mfor\u001b[0m \u001b[0maxis\u001b[0m\u001b[1;33m,\u001b[0m \u001b[0mlabels\u001b[0m \u001b[1;32min\u001b[0m \u001b[0maxes\u001b[0m\u001b[1;33m.\u001b[0m\u001b[0mitems\u001b[0m\u001b[1;33m(\u001b[0m\u001b[1;33m)\u001b[0m\u001b[1;33m:\u001b[0m\u001b[1;33m\u001b[0m\u001b[1;33m\u001b[0m\u001b[0m\n\u001b[0;32m   3935\u001b[0m             \u001b[1;32mif\u001b[0m \u001b[0mlabels\u001b[0m \u001b[1;32mis\u001b[0m \u001b[1;32mnot\u001b[0m \u001b[1;32mNone\u001b[0m\u001b[1;33m:\u001b[0m\u001b[1;33m\u001b[0m\u001b[1;33m\u001b[0m\u001b[0m\n\u001b[1;32m-> 3936\u001b[1;33m                 \u001b[0mobj\u001b[0m \u001b[1;33m=\u001b[0m \u001b[0mobj\u001b[0m\u001b[1;33m.\u001b[0m\u001b[0m_drop_axis\u001b[0m\u001b[1;33m(\u001b[0m\u001b[0mlabels\u001b[0m\u001b[1;33m,\u001b[0m \u001b[0maxis\u001b[0m\u001b[1;33m,\u001b[0m \u001b[0mlevel\u001b[0m\u001b[1;33m=\u001b[0m\u001b[0mlevel\u001b[0m\u001b[1;33m,\u001b[0m \u001b[0merrors\u001b[0m\u001b[1;33m=\u001b[0m\u001b[0merrors\u001b[0m\u001b[1;33m)\u001b[0m\u001b[1;33m\u001b[0m\u001b[1;33m\u001b[0m\u001b[0m\n\u001b[0m\u001b[0;32m   3937\u001b[0m \u001b[1;33m\u001b[0m\u001b[0m\n\u001b[0;32m   3938\u001b[0m         \u001b[1;32mif\u001b[0m \u001b[0minplace\u001b[0m\u001b[1;33m:\u001b[0m\u001b[1;33m\u001b[0m\u001b[1;33m\u001b[0m\u001b[0m\n",
      "\u001b[1;32mc:\\programdata\\miniconda3\\envs\\hoseo\\lib\\site-packages\\pandas\\core\\generic.py\u001b[0m in \u001b[0;36m_drop_axis\u001b[1;34m(self, labels, axis, level, errors)\u001b[0m\n\u001b[0;32m   3968\u001b[0m                 \u001b[0mnew_axis\u001b[0m \u001b[1;33m=\u001b[0m \u001b[0maxis\u001b[0m\u001b[1;33m.\u001b[0m\u001b[0mdrop\u001b[0m\u001b[1;33m(\u001b[0m\u001b[0mlabels\u001b[0m\u001b[1;33m,\u001b[0m \u001b[0mlevel\u001b[0m\u001b[1;33m=\u001b[0m\u001b[0mlevel\u001b[0m\u001b[1;33m,\u001b[0m \u001b[0merrors\u001b[0m\u001b[1;33m=\u001b[0m\u001b[0merrors\u001b[0m\u001b[1;33m)\u001b[0m\u001b[1;33m\u001b[0m\u001b[1;33m\u001b[0m\u001b[0m\n\u001b[0;32m   3969\u001b[0m             \u001b[1;32melse\u001b[0m\u001b[1;33m:\u001b[0m\u001b[1;33m\u001b[0m\u001b[1;33m\u001b[0m\u001b[0m\n\u001b[1;32m-> 3970\u001b[1;33m                 \u001b[0mnew_axis\u001b[0m \u001b[1;33m=\u001b[0m \u001b[0maxis\u001b[0m\u001b[1;33m.\u001b[0m\u001b[0mdrop\u001b[0m\u001b[1;33m(\u001b[0m\u001b[0mlabels\u001b[0m\u001b[1;33m,\u001b[0m \u001b[0merrors\u001b[0m\u001b[1;33m=\u001b[0m\u001b[0merrors\u001b[0m\u001b[1;33m)\u001b[0m\u001b[1;33m\u001b[0m\u001b[1;33m\u001b[0m\u001b[0m\n\u001b[0m\u001b[0;32m   3971\u001b[0m             \u001b[0mresult\u001b[0m \u001b[1;33m=\u001b[0m \u001b[0mself\u001b[0m\u001b[1;33m.\u001b[0m\u001b[0mreindex\u001b[0m\u001b[1;33m(\u001b[0m\u001b[1;33m**\u001b[0m\u001b[1;33m{\u001b[0m\u001b[0maxis_name\u001b[0m\u001b[1;33m:\u001b[0m \u001b[0mnew_axis\u001b[0m\u001b[1;33m}\u001b[0m\u001b[1;33m)\u001b[0m\u001b[1;33m\u001b[0m\u001b[1;33m\u001b[0m\u001b[0m\n\u001b[0;32m   3972\u001b[0m \u001b[1;33m\u001b[0m\u001b[0m\n",
      "\u001b[1;32mc:\\programdata\\miniconda3\\envs\\hoseo\\lib\\site-packages\\pandas\\core\\indexes\\base.py\u001b[0m in \u001b[0;36mdrop\u001b[1;34m(self, labels, errors)\u001b[0m\n\u001b[0;32m   5016\u001b[0m         \u001b[1;32mif\u001b[0m \u001b[0mmask\u001b[0m\u001b[1;33m.\u001b[0m\u001b[0many\u001b[0m\u001b[1;33m(\u001b[0m\u001b[1;33m)\u001b[0m\u001b[1;33m:\u001b[0m\u001b[1;33m\u001b[0m\u001b[1;33m\u001b[0m\u001b[0m\n\u001b[0;32m   5017\u001b[0m             \u001b[1;32mif\u001b[0m \u001b[0merrors\u001b[0m \u001b[1;33m!=\u001b[0m \u001b[1;34m\"ignore\"\u001b[0m\u001b[1;33m:\u001b[0m\u001b[1;33m\u001b[0m\u001b[1;33m\u001b[0m\u001b[0m\n\u001b[1;32m-> 5018\u001b[1;33m                 \u001b[1;32mraise\u001b[0m \u001b[0mKeyError\u001b[0m\u001b[1;33m(\u001b[0m\u001b[1;34mf\"{labels[mask]} not found in axis\"\u001b[0m\u001b[1;33m)\u001b[0m\u001b[1;33m\u001b[0m\u001b[1;33m\u001b[0m\u001b[0m\n\u001b[0m\u001b[0;32m   5019\u001b[0m             \u001b[0mindexer\u001b[0m \u001b[1;33m=\u001b[0m \u001b[0mindexer\u001b[0m\u001b[1;33m[\u001b[0m\u001b[1;33m~\u001b[0m\u001b[0mmask\u001b[0m\u001b[1;33m]\u001b[0m\u001b[1;33m\u001b[0m\u001b[1;33m\u001b[0m\u001b[0m\n\u001b[0;32m   5020\u001b[0m         \u001b[1;32mreturn\u001b[0m \u001b[0mself\u001b[0m\u001b[1;33m.\u001b[0m\u001b[0mdelete\u001b[0m\u001b[1;33m(\u001b[0m\u001b[0mindexer\u001b[0m\u001b[1;33m)\u001b[0m\u001b[1;33m\u001b[0m\u001b[1;33m\u001b[0m\u001b[0m\n",
      "\u001b[1;31mKeyError\u001b[0m: \"['연령대_10_유동인구_수' '연령대_20_유동인구_수' '연령대_30_유동인구_수' '연령대_40_유동인구_수'\\n '연령대_50_유동인구_수' '연령대_60_이상_유동인구_수' '시간대_1_유동인구_수' '시간대_2_유동인구_수'\\n '시간대_3_유동인구_수' '시간대_4_유동인구_수' '시간대_5_유동인구_수' '시간대_6_유동인구_수'] not found in axis\""
     ]
    }
   ],
   "source": [
    "delete_age(pop_a, hl_pop)"
   ]
  },
  {
   "cell_type": "code",
   "execution_count": null,
   "metadata": {},
   "outputs": [],
   "source": []
  },
  {
   "cell_type": "code",
   "execution_count": null,
   "metadata": {},
   "outputs": [],
   "source": [
    "def multi_columns_merging(sg, sg_hl):\n",
    "    a_df = load_to_df( sg )\n",
    "    b_df = load_to_df( sg_hl )\n",
    "    all_df = pd.merge(left=a_df, right=b_df, how='left', \\\n",
    "                  on=['기준_년_분기_코드','상권_코드'], sort=False)\n",
    "    del a_df, b_df\n",
    "    \n",
    "    return all_df.dropna(axis=0)"
   ]
  },
  {
   "cell_type": "code",
   "execution_count": null,
   "metadata": {},
   "outputs": [],
   "source": [
    "flow_pop=multi_columns_merging('상권-추정유동인구', '상권배후지-추정유동인구')\n",
    "stay_pop=multi_columns_merging('상권-상주인구', '상권배후지-상주인구')\n",
    "office_pop=multi_columns_merging('상권-직장인구','상권배후지-직장인구')"
   ]
  },
  {
   "cell_type": "code",
   "execution_count": null,
   "metadata": {},
   "outputs": [],
   "source": [
    "ch_df=load_to_df('상권-상권변화지표')\n",
    "ch_19_df=ch_df[ch_df['기준_년_분기_코드'].str.contains('2019_1|2019_2')]"
   ]
  },
  {
   "cell_type": "code",
   "execution_count": null,
   "metadata": {},
   "outputs": [],
   "source": [
    "# flow_pop.shape , stay_pop.shape, office_pop.shape"
   ]
  },
  {
   "cell_type": "code",
   "execution_count": null,
   "metadata": {},
   "outputs": [],
   "source": [
    "def multi_merge(a_df, b_df):\n",
    "    all_df = pd.merge(left=a_df, right=b_df, how='left', \\\n",
    "                  on=['기준_년_분기_코드','상권_코드'], sort=False)\n",
    "    return all_df.dropna(axis=0)"
   ]
  },
  {
   "cell_type": "code",
   "execution_count": null,
   "metadata": {},
   "outputs": [],
   "source": [
    "people_a = multi_merge(flow_pop,stay_pop)\n",
    "people = multi_merge(people_a,office_pop)   #유동,상주,직장인구 총 데이터 merge "
   ]
  },
  {
   "cell_type": "code",
   "execution_count": null,
   "metadata": {},
   "outputs": [],
   "source": [
    "f_pop_ch=multi_merge(flow_pop, ch_19_df)   #유동인구 + 지표\n",
    "s_pop_ch=multi_merge(stay_pop, ch_19_df)   #상주인구 + 지표\n",
    "o_pop_ch=multi_merge(office_pop, ch_19_df) #직장인구 + 지표"
   ]
  },
  {
   "cell_type": "code",
   "execution_count": null,
   "metadata": {},
   "outputs": [],
   "source": []
  },
  {
   "cell_type": "code",
   "execution_count": null,
   "metadata": {},
   "outputs": [],
   "source": []
  },
  {
   "cell_type": "code",
   "execution_count": null,
   "metadata": {},
   "outputs": [],
   "source": [
    "flow_pop.columns.to_list()"
   ]
  },
  {
   "cell_type": "code",
   "execution_count": null,
   "metadata": {},
   "outputs": [],
   "source": [
    "dt=['']\n",
    "flow_pop.drop(flow_pop.filter(regex='|'.join(d1)))"
   ]
  },
  {
   "cell_type": "code",
   "execution_count": null,
   "metadata": {},
   "outputs": [],
   "source": [
    "delete_age_by_time(flow_pop, weekend, delete_word).info()"
   ]
  },
  {
   "cell_type": "code",
   "execution_count": null,
   "metadata": {},
   "outputs": [],
   "source": [
    "targets=['기준_년_분기_코드', '상권_코드', \n",
    "         '총_유동인구_수', '남성_유동인구_수', '여성_유동인구_수',\n",
    "         '총_상주인구_수', '남성_상주인구_수', '여성_상주인구_수',\n",
    "         '총_직장_인구_수', '남성_직장_인구_수', '여성_직장_인구_수']\n",
    "# total_pop=people_b.filter(regex='|'.join(targets)) #총인구 남자수,여자수 merge 한 값"
   ]
  },
  {
   "cell_type": "code",
   "execution_count": null,
   "metadata": {},
   "outputs": [],
   "source": [
    "# 다중 컬럼에서 부분 추출 할때 사용\n",
    "col_word=['상권_코드','총']    #컬럼 단어 입력하기\n",
    "def col_value_filter(total_df,col_word):\n",
    "    result=total_df.filter(regex='|'.join(col_word))\n",
    "    return result"
   ]
  },
  {
   "cell_type": "code",
   "execution_count": null,
   "metadata": {},
   "outputs": [],
   "source": [
    "total_people=col_value_filter(people,targets)"
   ]
  },
  {
   "cell_type": "code",
   "execution_count": null,
   "metadata": {},
   "outputs": [],
   "source": [
    "apt_word=['기준_년_분기_코드', '상권_코드','아파트']"
   ]
  },
  {
   "cell_type": "code",
   "execution_count": null,
   "metadata": {},
   "outputs": [],
   "source": [
    "apt_df=col_value_filter(people,apt_word)   #아파트 수 추출\n",
    "apt_ch=multi_merge(apt_df, ch_19_df)  #아파트 + 지표"
   ]
  },
  {
   "cell_type": "code",
   "execution_count": null,
   "metadata": {},
   "outputs": [],
   "source": []
  },
  {
   "cell_type": "code",
   "execution_count": null,
   "metadata": {},
   "outputs": [],
   "source": [
    "total_pop_ch=multi_merge(total_people, ch_19_df)   #인구수+지표 총 합한거\n",
    "total_pop_ch.head()"
   ]
  },
  {
   "cell_type": "code",
   "execution_count": null,
   "metadata": {},
   "outputs": [],
   "source": []
  },
  {
   "cell_type": "code",
   "execution_count": null,
   "metadata": {},
   "outputs": [],
   "source": [
    "# targets2=['상권코드','인구','지표']\n",
    "# col_value_filter(total_pop_ch,targets2)\n",
    "t_pop_ch=total_pop_ch.iloc[:,:21]"
   ]
  },
  {
   "cell_type": "code",
   "execution_count": null,
   "metadata": {},
   "outputs": [],
   "source": [
    "t_pop_ch.head()"
   ]
  },
  {
   "cell_type": "code",
   "execution_count": null,
   "metadata": {},
   "outputs": [],
   "source": [
    "t_pop_ch['상권_변화_지표'].unique()"
   ]
  },
  {
   "cell_type": "code",
   "execution_count": null,
   "metadata": {},
   "outputs": [],
   "source": [
    "pd.get_dummies(t_pop_ch, columns=['상권_변화_지표'], drop_first=False)"
   ]
  },
  {
   "cell_type": "code",
   "execution_count": null,
   "metadata": {},
   "outputs": [],
   "source": []
  },
  {
   "cell_type": "code",
   "execution_count": null,
   "metadata": {},
   "outputs": [],
   "source": []
  }
 ],
 "metadata": {
  "kernelspec": {
   "display_name": "Python 3",
   "language": "python",
   "name": "python3"
  },
  "language_info": {
   "codemirror_mode": {
    "name": "ipython",
    "version": 3
   },
   "file_extension": ".py",
   "mimetype": "text/x-python",
   "name": "python",
   "nbconvert_exporter": "python",
   "pygments_lexer": "ipython3",
   "version": "3.6.10"
  }
 },
 "nbformat": 4,
 "nbformat_minor": 4
}
