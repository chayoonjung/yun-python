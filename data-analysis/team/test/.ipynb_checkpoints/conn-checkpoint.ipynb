{
 "cells": [
  {
   "cell_type": "code",
   "execution_count": 52,
   "metadata": {},
   "outputs": [],
   "source": [
    "import cx_Oracle\n",
    "\n",
    "import pandas as pd"
   ]
  },
  {
   "cell_type": "code",
   "execution_count": 53,
   "metadata": {},
   "outputs": [],
   "source": [
    "import os\n",
    "#한글 지원 방법\n",
    "os.putenv('NLS_LANG', '.UTF8')"
   ]
  },
  {
   "cell_type": "code",
   "execution_count": 54,
   "metadata": {},
   "outputs": [],
   "source": [
    "local_ip = '200.1.220.251:1521/xe' # 원내에서 접속할 db_ip\n",
    "outside_ip = '61.35.152.103:1521/xe' # 원밖에서 접속할 db_ip\n",
    "db_id = 'begopa' \n",
    "db_pwd = 'begopa1'"
   ]
  },
  {
   "cell_type": "code",
   "execution_count": 55,
   "metadata": {},
   "outputs": [],
   "source": [
    "def ipcheck():    \n",
    "    import urllib \n",
    "    import re\n",
    "    \n",
    "    wan = re.search(re.compile(b'\\d{1,3}\\.\\d{1,3}\\.\\d{1,3}\\.\\d{1,3}'), urllib.request.urlopen('http://checkip.dyndns.org').read()).group().decode('utf-8')\n",
    "    \n",
    "    return wan\n",
    "\n",
    "db_ip = local_ip if '61.35.152.66' == ipcheck() else outside_ip"
   ]
  },
  {
   "cell_type": "code",
   "execution_count": 60,
   "metadata": {},
   "outputs": [],
   "source": [
    "con = cx_Oracle.connect(db_id, db_pwd, db_ip, encoding=\"UTF-8\")\n",
    "\n",
    "cur = con.cursor()\n",
    "\n",
    "cur.execute(create_table())\n",
    "\n",
    "# cur.excute(\"select * from table\")\n",
    "\n",
    "# for row in cur:\n",
    "#     print(row)\n",
    "\n",
    "# df = pd.read_sql(\"select * from table\", con = con )\n",
    "# df.head()\n",
    "    \n",
    "cur.close()\n",
    "con.close()"
   ]
  },
  {
   "cell_type": "code",
   "execution_count": 17,
   "metadata": {},
   "outputs": [],
   "source": [
    "import pickle"
   ]
  },
  {
   "cell_type": "code",
   "execution_count": 47,
   "metadata": {},
   "outputs": [],
   "source": [
    "with open(\"col2dict.pickle\",\"rb\") as fr:\n",
    "    data = pickle.load(fr)"
   ]
  },
  {
   "cell_type": "code",
   "execution_count": 59,
   "metadata": {},
   "outputs": [],
   "source": [
    "def create_table():\n",
    "    tmp = ''\n",
    "    for idx, col in enumerate(data['br_change_ix']):\n",
    "        if( idx != 0 ):\n",
    "            tmp += ','\n",
    "        tmp += col[1][0] + ' ' + col[1][1]    \n",
    "    ttmp = 'CREATE TABLE {0}({1})'.format('br_change_ix',tmp)\n",
    "    return ttmp"
   ]
  },
  {
   "cell_type": "code",
   "execution_count": 51,
   "metadata": {},
   "outputs": [
    {
     "data": {
      "text/plain": [
       "'creat table br_change_ix(STDR_YY_CD varchar2(4),STDR_QU_CD varchar2(1),SIGNGU_CD varchar2(10),SIGNGU_CD_NM varchar2(10),TRDAR_CHNGE_IX varchar2(5),TRDAR_CHNGE_IX_NM varchar2(10),OPR_SALE_MT_AVRG number,CLS_SALE_MT_AVRG number,SU_OPR_SALE_MT_AVRG number,SU_CLS_SALE_MT_AVRG number)'"
      ]
     },
     "execution_count": 51,
     "metadata": {},
     "output_type": "execute_result"
    }
   ],
   "source": [
    "create_table()"
   ]
  }
 ],
 "metadata": {
  "kernelspec": {
   "display_name": "Python 3.6.10 64-bit ('thoseo': conda)",
   "language": "python",
   "name": "python361064bitthoseoconda90b1193975c44b93811ebbc52a749470"
  },
  "language_info": {
   "codemirror_mode": {
    "name": "ipython",
    "version": 3
   },
   "file_extension": ".py",
   "mimetype": "text/x-python",
   "name": "python",
   "nbconvert_exporter": "python",
   "pygments_lexer": "ipython3",
   "version": "3.6.10"
  }
 },
 "nbformat": 4,
 "nbformat_minor": 4
}
