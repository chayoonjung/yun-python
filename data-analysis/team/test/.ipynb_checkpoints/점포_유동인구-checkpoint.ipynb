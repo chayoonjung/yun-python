{
 "cells": [
  {
   "cell_type": "code",
   "execution_count": 1,
   "metadata": {},
   "outputs": [],
   "source": [
    "import numpy as np\n",
    "import pandas as pd"
   ]
  },
  {
   "cell_type": "code",
   "execution_count": 3,
   "metadata": {},
   "outputs": [
    {
     "data": {
      "text/plain": [
       "Index(['기준_년_코드', '기준_분기_코드', '상권_구분_코드', '상권_구분_코드_명', '상권_코드', '상권_코드_명',\n",
       "       '집객시설_수', '관공서_수', '은행_수', '종합병원_수', '일반_병원_수', '약국_수', '유치원_수',\n",
       "       '초등학교_수', '중학교_수', '고등학교_수', '대학교_수', '백화점_수', '슈퍼마켓_수', '극장_수',\n",
       "       '숙박_시설_수', '공항_수', '철도_역_수', '버스_터미널_수', '지하철_역_수', '버스_정거장_수'],\n",
       "      dtype='object')"
      ]
     },
     "execution_count": 3,
     "metadata": {},
     "output_type": "execute_result"
    }
   ],
   "source": [
    "# 상권별 기준\n",
    "store1=pd.read_csv('data/02.상권-집객시설.csv', encoding='EUC-KR')\n",
    "# store1.info()\n",
    "store1.keys()"
   ]
  },
  {
   "cell_type": "code",
   "execution_count": 8,
   "metadata": {},
   "outputs": [
    {
     "data": {
      "text/plain": [
       "Index(['기준_년_코드', '기준_분기_코드', '상권_구분_코드', '상권_구분_코드_명', '상권_코드', '상권_코드_명',\n",
       "       '서비스_업종_코드', '서비스_업종_코드_명', '점포_수', '유사_업종_점포_수', '개업_율', '개업_점포_수',\n",
       "       '폐업_률', '폐업_점포_수', '프랜차이즈_점포_수'],\n",
       "      dtype='object')"
      ]
     },
     "execution_count": 8,
     "metadata": {},
     "output_type": "execute_result"
    }
   ],
   "source": [
    "store2=pd.read_csv('data/18.상권분석서비스(상권-점포).csv', encoding='EUC-KR')\n",
    "# store2.info()\n",
    "store_name= store2['서비스_업종_코드_명'].unique()   # 서비스 업종 코드명 119개\n",
    "len(store_name)\n",
    "store2.keys()"
   ]
  },
  {
   "cell_type": "code",
   "execution_count": 12,
   "metadata": {},
   "outputs": [
    {
     "data": {
      "text/plain": [
       "array([4, 3, 2, 1], dtype=int64)"
      ]
     },
     "execution_count": 12,
     "metadata": {},
     "output_type": "execute_result"
    }
   ],
   "source": [
    "year19=store1[store1['기준_년_코드']==2019]\n",
    "# year19[year19[기준_분기_코드]==1]\n",
    "year19['기준_분기_코드'].unique()       #1 , 2 분기\n",
    "\n",
    "y19=store2[store2['기준_년_코드']==2019]\n",
    "y19['기준_분기_코드'].unique()      # 1~4 분기 다 있음"
   ]
  },
  {
   "cell_type": "code",
   "execution_count": 17,
   "metadata": {},
   "outputs": [
    {
     "data": {
      "text/plain": [
       "Index(['기준 년코드', '기준_분기_코드', ' 상권_구분_코드', ' 상권_구분_코드_명', '상권_코드', '상권_코드_명',\n",
       "       '총_유동인구_수', '남성_유동인구_수', '여성_유동인구_수', '연령대_10_유동인구_수',\n",
       "       ...\n",
       "       '여성연령대_60_이상_토요일시간대_3_유동인구_수', '여성연령대_60_이상_토요일시간대_4_유동인구_수',\n",
       "       '여성연령대_60_이상_토요일시간대_5_유동인구_수', '여성연령대_60_이상_토요일시간대_6_유동인구_수',\n",
       "       '여성연령대_60_이상_일요일시간대_1_유동인구_수', '여성연령대_60_이상_일요일시간대_2_유동인구_수',\n",
       "       '여성연령대_60_이상_일요일시간대_3_유동인구_수', '여성연령대_60_이상_일요일시간대_4_유동인구_수',\n",
       "       '여성연령대_60_이상_일요일시간대_5_유동인구_수', '여성연령대_60_이상_일요일시간대_6_유동인구_수'],\n",
       "      dtype='object', length=532)"
      ]
     },
     "execution_count": 17,
     "metadata": {},
     "output_type": "execute_result"
    }
   ],
   "source": [
    "pop=pd.read_csv('data/01.상권-추정유동인구.csv',encoding='EUC-KR')\n",
    "pop_col=pd.read_csv('data/01.col.csv',encoding='EUC-KR')\n",
    "pop.keys() #총_유동인구_수"
   ]
  }
 ],
 "metadata": {
  "kernelspec": {
   "display_name": "Python 3",
   "language": "python",
   "name": "python3"
  },
  "language_info": {
   "codemirror_mode": {
    "name": "ipython",
    "version": 3
   },
   "file_extension": ".py",
   "mimetype": "text/x-python",
   "name": "python",
   "nbconvert_exporter": "python",
   "pygments_lexer": "ipython3",
   "version": "3.6.10"
  }
 },
 "nbformat": 4,
 "nbformat_minor": 4
}
