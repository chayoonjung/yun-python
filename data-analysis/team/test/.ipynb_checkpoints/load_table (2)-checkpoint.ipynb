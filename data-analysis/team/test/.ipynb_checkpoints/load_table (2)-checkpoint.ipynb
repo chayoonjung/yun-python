{
 "cells": [
  {
   "cell_type": "code",
   "execution_count": 1,
   "metadata": {},
   "outputs": [],
   "source": [
    "import os\n",
    "# 한글 지원\n",
    "os.putenv('NLS_LANG', '.UTF8')"
   ]
  },
  {
   "cell_type": "code",
   "execution_count": 2,
   "metadata": {},
   "outputs": [],
   "source": [
    "def ipchecker():    \n",
    "    import urllib \n",
    "    import re\n",
    "    \n",
    "    pattern = re.compile(b'\\d{1,3}\\.\\d{1,3}\\.\\d{1,3}\\.\\d{1,3}')\n",
    "    dyndns = urllib.request.urlopen('http://checkip.dyndns.org').read()\n",
    "    \n",
    "    wan = re.search(pattern, dyndns).group().decode('utf-8')\n",
    "    \n",
    "    return wan"
   ]
  },
  {
   "cell_type": "code",
   "execution_count": 3,
   "metadata": {},
   "outputs": [],
   "source": [
    "# base db_connect param\n",
    "\n",
    "local_ip = '200.1.220.251:1521/xe' # 원내에서 접속할 db_ip\n",
    "outside_ip = '61.35.152.103:1521/xe' # 원밖에서 접속할 db_ip\n",
    "localhost = 'localhost:1521/xe'\n",
    "\n",
    "db_id = 'begopa' \n",
    "db_pwd = 'begopa1'\n",
    "\n",
    "academy_ip = '61.35.152.66'\n",
    "db_ip = local_ip if academy_ip == ipchecker() else outside_ip\n",
    "\n",
    "# db_ip = localhost # 집에서 본인의 개인 컴퓨터dptj  오라클에 접속할때는"
   ]
  },
  {
   "cell_type": "code",
   "execution_count": 4,
   "metadata": {},
   "outputs": [],
   "source": [
    "import pickle\n",
    "# load object ::\n",
    "# :: file_nm\n",
    "# :: columns and data_type\n",
    "with open(\"./pickle/col2dict.pickle\",\"rb\") as fr:\n",
    "    col2dict = pickle.load(fr)\n",
    "with open(\"./pickle/table_nm_set.pickle\",\"rb\") as fr:\n",
    "    table_nm_set = pickle.load(fr)"
   ]
  },
  {
   "cell_type": "code",
   "execution_count": 5,
   "metadata": {},
   "outputs": [],
   "source": [
    "path = \"./sg-data/\"\n",
    "desc_path = path + 'desc/'\n",
    "col_path = path + 'col/'\n",
    "origin_path = path + 'origin/'\n",
    "\n",
    "file_list = os.listdir(origin_path)"
   ]
  },
  {
   "cell_type": "code",
   "execution_count": 6,
   "metadata": {},
   "outputs": [],
   "source": [
    "# _, _, _, table_col_set_ = extract_table_columns_set(file_list[0]) # _, :: 임시로 쓰고 버리는 값."
   ]
  },
  {
   "cell_type": "code",
   "execution_count": 7,
   "metadata": {},
   "outputs": [],
   "source": [
    "# 자치구별 상권 변화지표 db 에서 한글 컬럼으로 가져오기\n",
    "# oracle_to_df('자치구별 상권변화지표')\n",
    "def load_to_df(kr_tbl_nm):\n",
    "    for key, value in table_nm_set.items():\n",
    "        if kr_tbl_nm == value:\n",
    "            table_nm = key\n",
    "            columns = [ arr[0] for arr in col2dict[key] ]\n",
    "           \n",
    "    import cx_Oracle\n",
    "    import pandas as pd\n",
    "    \n",
    "    db = cx_Oracle.connect(db_id, db_pwd, db_ip) \n",
    "        \n",
    "    sql = 'select * from ' + table_nm\n",
    "\n",
    "    df = pd.read_sql(sql=sql, con = db) \n",
    "    df.columns = columns\n",
    "    db.close\n",
    "    \n",
    "    return df\n"
   ]
  },
  {
   "cell_type": "code",
   "execution_count": 8,
   "metadata": {},
   "outputs": [
    {
     "name": "stdout",
     "output_type": "stream",
     "text": [
      "00 상권-영역\n",
      "01 상권-추정유동인구\n",
      "02 상권-집객시설\n",
      "03 상권배후지-추정유동인구\n",
      "04 상권배후지-집객시설\n",
      "05 상권배후지-상주인구\n",
      "06 상권_상주인구\n",
      "07 상권배후지-아파트\n",
      "08 상권배후지-점포\n",
      "09 상권-상권변화지표\n",
      "10 행정동별 상권변화지표\n",
      "11 상권-추정매출\n",
      "12 상권-직장인구\n",
      "13 상권배후지-소득소비\n",
      "14 상권배후지-직장인구\n",
      "15 자치구별 상권변화지표\n",
      "16 상권-아파트\n",
      "18 상권-점포\n",
      "19 상권배후지-추정매출\n"
     ]
    }
   ],
   "source": [
    "import re\n",
    "import os\n",
    "\n",
    "file_list = os.listdir(origin_path)\n",
    "for file in file_list:\n",
    "    kr_tbl_nm = re.findall('(\\d\\d).*\\((.*)\\)',file)\n",
    "    print(kr_tbl_nm[0][0], kr_tbl_nm[0][1])"
   ]
  },
  {
   "cell_type": "code",
   "execution_count": 9,
   "metadata": {},
   "outputs": [],
   "source": [
    "import pandas as pd\n",
    "\n",
    "df = load_to_df('상권-추정유동인구')\n",
    "df1 = df.copy()\n",
    "# print(df1.head())\n",
    "df1[df1['기준_년_분기_코드']=='2019_1']\n",
    "df1[df1['기준_년_분기_코드']=='2019_2']\n",
    "\n",
    "\n",
    "# df1.filter(like='여성').filter(like='토요일')\n",
    "df1['여성_토요일_유동인구수'] = df1.filter(like='여성').filter(like='토요일').sum(axis=1)\n",
    "df1['여성_토요일_유동인구수']\n",
    "del_columns = df1.filter(like='여성').filter(like='토요일').filter(like='시간대').columns\n",
    "df1.drop(del_columns, axis=1, inplace=True)\n",
    "df1.filter(like='여성').filter(like='토요일')\n",
    "\n",
    "delete_dict = {'여성' : ['일요일','월요일','화요일','수요일','목요일','금요일','토요일'],\n",
    "               '남성' : ['일요일','월요일','화요일','수요일','목요일','금요일','토요일'],\n",
    "              }\n",
    "delete_word = '시간대'\n",
    "\n",
    "\n",
    "\n",
    "\n",
    "# len(df1.columns), len(df1.filter(like='유동인구_수').columns)\n",
    "# df1.iloc[:,:5].head(2), df1.filter(like='유동인구_수').iloc[:,:5].head(2)\n",
    "# df1['여성_토요일_유동인구수']\n",
    "# df1.filter(items=['여성', '토요일'])"
   ]
  },
  {
   "cell_type": "code",
   "execution_count": 10,
   "metadata": {},
   "outputs": [],
   "source": [
    "def delete_age_by_time(df1, delete_dict, delete_word):\n",
    "    # df1.filter(like='여성').filter(like='토요일')\n",
    "    for key, values in delete_dict.items():\n",
    "        for value in values:\n",
    "            df1[key+'_'+value+'_유동인구수'] = df1.filter(like=key).filter(like=value).sum(axis=1)\n",
    "            del_columns = df1.filter(like=key).filter(like=value).filter(like=delete_word).columns\n",
    "            df1.drop(del_columns, axis=1, inplace=True)\n",
    "    \n",
    "    return df1\n",
    "    "
   ]
  },
  {
   "cell_type": "code",
   "execution_count": 11,
   "metadata": {},
   "outputs": [
    {
     "data": {
      "text/plain": [
       "Index(['기준_년_분기_코드', '상권_코드', '총_유동인구_수', '남성_유동인구_수', '여성_유동인구_수',\n",
       "       '연령대_10_유동인구_수', '연령대_20_유동인구_수', '연령대_30_유동인구_수', '연령대_40_유동인구_수',\n",
       "       '연령대_50_유동인구_수', '연령대_60_이상_유동인구_수', '시간대_1_유동인구_수', '시간대_2_유동인구_수',\n",
       "       '시간대_3_유동인구_수', '시간대_4_유동인구_수', '시간대_5_유동인구_수', '시간대_6_유동인구_수',\n",
       "       '월요일_유동인구_수', '화요일_유동인구_수', '수요일_유동인구_수', '목요일_유동인구_수', '금요일_유동인구_수',\n",
       "       '토요일_유동인구_수', '일요일_유동인구_수', '여성_토요일_유동인구수', '여성_일요일_유동인구수',\n",
       "       '여성_월요일_유동인구수', '여성_화요일_유동인구수', '여성_수요일_유동인구수', '여성_목요일_유동인구수',\n",
       "       '여성_금요일_유동인구수', '남성_일요일_유동인구수', '남성_월요일_유동인구수', '남성_화요일_유동인구수',\n",
       "       '남성_수요일_유동인구수', '남성_목요일_유동인구수', '남성_금요일_유동인구수', '남성_토요일_유동인구수'],\n",
       "      dtype='object')"
      ]
     },
     "execution_count": 11,
     "metadata": {},
     "output_type": "execute_result"
    }
   ],
   "source": [
    "df1 = delete_age_by_time(df1, delete_dict, delete_word)\n",
    "df1.columns"
   ]
  },
  {
   "cell_type": "code",
   "execution_count": 18,
   "metadata": {},
   "outputs": [],
   "source": [
    "df1['총_시간_유동인구_수'] = df1.filter(like='시간대_').filter(like='_유동인구_수').sum(axis=1)\n",
    "df1['총_연령_유동인구_수'] = df1.filter(like='연령대_').filter(like='0_유동인구_수').sum(axis=1)\n",
    "\n",
    "del_columns = df1.filter(like='시간대_').filter(like='_유동인구_수').columns\n",
    "# df1.drop(del_columns, axis=1, inplace=True)\n",
    "\n",
    "del_columns = df1.filter(like='연령대_').filter(like='_유동인구_수').columns\n",
    "# df1.drop(del_columns, axis=1, inplace=True)\n",
    "df1['총_성별_유동인구_수'] = df1.filter(like='성_유').sum(axis=1)"
   ]
  },
  {
   "cell_type": "code",
   "execution_count": 19,
   "metadata": {},
   "outputs": [
    {
     "data": {
      "text/html": [
       "<div>\n",
       "<style scoped>\n",
       "    .dataframe tbody tr th:only-of-type {\n",
       "        vertical-align: middle;\n",
       "    }\n",
       "\n",
       "    .dataframe tbody tr th {\n",
       "        vertical-align: top;\n",
       "    }\n",
       "\n",
       "    .dataframe thead th {\n",
       "        text-align: right;\n",
       "    }\n",
       "</style>\n",
       "<table border=\"1\" class=\"dataframe\">\n",
       "  <thead>\n",
       "    <tr style=\"text-align: right;\">\n",
       "      <th></th>\n",
       "      <th>총_유동인구_수</th>\n",
       "      <th>총_시간_유동인구_수</th>\n",
       "      <th>총_연령_유동인구_수</th>\n",
       "      <th>총_성별_유동인구_수</th>\n",
       "    </tr>\n",
       "  </thead>\n",
       "  <tbody>\n",
       "    <tr>\n",
       "      <th>0</th>\n",
       "      <td>118266</td>\n",
       "      <td>118267</td>\n",
       "      <td>102419</td>\n",
       "      <td>118265</td>\n",
       "    </tr>\n",
       "    <tr>\n",
       "      <th>1</th>\n",
       "      <td>246619</td>\n",
       "      <td>246621</td>\n",
       "      <td>190573</td>\n",
       "      <td>246619</td>\n",
       "    </tr>\n",
       "    <tr>\n",
       "      <th>2</th>\n",
       "      <td>144480</td>\n",
       "      <td>144479</td>\n",
       "      <td>123544</td>\n",
       "      <td>144480</td>\n",
       "    </tr>\n",
       "    <tr>\n",
       "      <th>3</th>\n",
       "      <td>166390</td>\n",
       "      <td>166387</td>\n",
       "      <td>149223</td>\n",
       "      <td>166390</td>\n",
       "    </tr>\n",
       "    <tr>\n",
       "      <th>4</th>\n",
       "      <td>65518</td>\n",
       "      <td>65518</td>\n",
       "      <td>58105</td>\n",
       "      <td>65517</td>\n",
       "    </tr>\n",
       "    <tr>\n",
       "      <th>...</th>\n",
       "      <td>...</td>\n",
       "      <td>...</td>\n",
       "      <td>...</td>\n",
       "      <td>...</td>\n",
       "    </tr>\n",
       "    <tr>\n",
       "      <th>2985</th>\n",
       "      <td>109383</td>\n",
       "      <td>109381</td>\n",
       "      <td>62764</td>\n",
       "      <td>109382</td>\n",
       "    </tr>\n",
       "    <tr>\n",
       "      <th>2986</th>\n",
       "      <td>112258</td>\n",
       "      <td>112258</td>\n",
       "      <td>87997</td>\n",
       "      <td>112259</td>\n",
       "    </tr>\n",
       "    <tr>\n",
       "      <th>2987</th>\n",
       "      <td>134058</td>\n",
       "      <td>134058</td>\n",
       "      <td>103687</td>\n",
       "      <td>134059</td>\n",
       "    </tr>\n",
       "    <tr>\n",
       "      <th>2988</th>\n",
       "      <td>39190</td>\n",
       "      <td>39190</td>\n",
       "      <td>31740</td>\n",
       "      <td>39190</td>\n",
       "    </tr>\n",
       "    <tr>\n",
       "      <th>2989</th>\n",
       "      <td>57622</td>\n",
       "      <td>57623</td>\n",
       "      <td>48380</td>\n",
       "      <td>57622</td>\n",
       "    </tr>\n",
       "  </tbody>\n",
       "</table>\n",
       "<p>2990 rows × 4 columns</p>\n",
       "</div>"
      ],
      "text/plain": [
       "      총_유동인구_수  총_시간_유동인구_수  총_연령_유동인구_수  총_성별_유동인구_수\n",
       "0       118266       118267       102419       118265\n",
       "1       246619       246621       190573       246619\n",
       "2       144480       144479       123544       144480\n",
       "3       166390       166387       149223       166390\n",
       "4        65518        65518        58105        65517\n",
       "...        ...          ...          ...          ...\n",
       "2985    109383       109381        62764       109382\n",
       "2986    112258       112258        87997       112259\n",
       "2987    134058       134058       103687       134059\n",
       "2988     39190        39190        31740        39190\n",
       "2989     57622        57623        48380        57622\n",
       "\n",
       "[2990 rows x 4 columns]"
      ]
     },
     "execution_count": 19,
     "metadata": {},
     "output_type": "execute_result"
    }
   ],
   "source": [
    "df1.filter(like='총_')"
   ]
  },
  {
   "cell_type": "code",
   "execution_count": null,
   "metadata": {},
   "outputs": [],
   "source": []
  }
 ],
 "metadata": {
  "kernelspec": {
   "display_name": "Python 3.6.10 64-bit ('thoseo': conda)",
   "language": "python",
   "name": "python361064bitthoseoconda90b1193975c44b93811ebbc52a749470"
  },
  "language_info": {
   "codemirror_mode": {
    "name": "ipython",
    "version": 3
   },
   "file_extension": ".py",
   "mimetype": "text/x-python",
   "name": "python",
   "nbconvert_exporter": "python",
   "pygments_lexer": "ipython3",
   "version": "3.6.10"
  }
 },
 "nbformat": 4,
 "nbformat_minor": 4
}
