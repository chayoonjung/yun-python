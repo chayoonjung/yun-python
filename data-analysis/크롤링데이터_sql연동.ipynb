{
 "metadata": {
  "language_info": {
   "codemirror_mode": {
    "name": "ipython",
    "version": 3
   },
   "file_extension": ".py",
   "mimetype": "text/x-python",
   "name": "python",
   "nbconvert_exporter": "python",
   "pygments_lexer": "ipython3",
   "version": "3.6.10-final"
  },
  "orig_nbformat": 2,
  "kernelspec": {
   "name": "python361064bithoseoconda264274678644477794f47fddcf829f7c",
   "display_name": "Python 3.6.10 64-bit ('hoseo': conda)"
  }
 },
 "nbformat": 4,
 "nbformat_minor": 2,
 "cells": [
  {
   "cell_type": "code",
   "execution_count": 2,
   "metadata": {},
   "outputs": [],
   "source": [
    "import numpy as np\n",
    "import pandas as pd\n",
    "\n",
    "import cx_Oracle"
   ]
  },
  {
   "cell_type": "code",
   "execution_count": 11,
   "metadata": {},
   "outputs": [],
   "source": [
    "connection = cx_Oracle.connect(\"hr3\", \"hoseo\",\"localhost:1521/xe\") # 사용자이름, 비번, 서버위치\n",
    "cursor = connection.cursor()  # cursor : 명령 처리기 "
   ]
  },
  {
   "cell_type": "code",
   "execution_count": 22,
   "metadata": {},
   "outputs": [],
   "source": [
    "cursor.execute(\"create table navernews(no number primary key, title varchar2(20), link varchar2(50),regdate date, content varchar2(500))\")   # oracle create table"
   ]
  },
  {
   "cell_type": "code",
   "execution_count": 14,
   "metadata": {},
   "outputs": [],
   "source": [
    "cursor.execute(\"create table contact(c_no number primary key,c_name varchar2(50 char) not null,c_phone varchar2(20 char) not null,c_email varchar2(50 char) null,c_regdate date default (sysdate))\")"
   ]
  }
 ]
}