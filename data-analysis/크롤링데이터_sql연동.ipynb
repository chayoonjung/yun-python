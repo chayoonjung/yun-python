{
 "metadata": {
  "language_info": {
   "codemirror_mode": {
    "name": "ipython",
    "version": 3
   },
   "file_extension": ".py",
   "mimetype": "text/x-python",
   "name": "python",
   "nbconvert_exporter": "python",
   "pygments_lexer": "ipython3",
   "version": "3.6.10-final"
  },
  "orig_nbformat": 2,
  "kernelspec": {
   "name": "python361064bithoseoconda264274678644477794f47fddcf829f7c",
   "display_name": "Python 3.6.10 64-bit ('hoseo': conda)"
  }
 },
 "nbformat": 4,
 "nbformat_minor": 2,
 "cells": [
  {
   "cell_type": "code",
   "execution_count": 1,
   "metadata": {},
   "outputs": [],
   "source": [
    "import numpy as np\n",
    "import pandas as pd\n",
    "import matplotlib.pyplot as plt\n",
    "\n",
    "import cx_Oracle"
   ]
  },
  {
   "cell_type": "code",
   "execution_count": 2,
   "metadata": {},
   "outputs": [],
   "source": [
    "conn = cx_Oracle.connect(\"hr3\", \"hoseo\",\"localhost:1521/xe\") # 사용자이름, 비번, 서버위치\n",
    "cursor = conn.cursor()  # cursor : 명령 처리기 "
   ]
  },
  {
   "cell_type": "code",
   "execution_count": 3,
   "metadata": {},
   "outputs": [],
   "source": [
    "# create table   ## date 설정할때 이름 date로 할수 없음. 명칭 잘 확인 할것!\n",
    "cursor.execute(\"\"\"create table navernews(no number primary key, title varchar2(1000 char), link varchar2(1000 char), regdate varchar(1000 char), content varchar2(4000 char))\"\"\")   # oracle create table  "
   ]
  },
  {
   "cell_type": "code",
   "execution_count": 62,
   "metadata": {},
   "outputs": [],
   "source": [
    "# 데이터베이스 컬럼 타입 변경\n",
    "# cursor.execute(\"\"\"alter table navernews modify no number\"\"\")"
   ]
  },
  {
   "cell_type": "code",
   "execution_count": null,
   "metadata": {},
   "outputs": [],
   "source": [
    "# 테이블 삭제\n",
    "# cursor.execute(\"\"\"drop table navernews\"\"\")"
   ]
  },
  {
   "cell_type": "code",
   "execution_count": 63,
   "metadata": {},
   "outputs": [],
   "source": [
    "# cursor.execute(\"create table contact(c_no number primary key,c_name varchar2(50 char) not null,c_phone varchar2(20 char) not null,c_email varchar2(50 char) null,c_regdate date default (sysdate))\")"
   ]
  },
  {
   "cell_type": "code",
   "execution_count": 121,
   "metadata": {},
   "outputs": [
    {
     "output_type": "stream",
     "name": "stdout",
     "text": [
      "<class 'pandas.core.frame.DataFrame'>\nRangeIndex: 27 entries, 0 to 26\nData columns (total 5 columns):\n #   Column      Non-Null Count  Dtype \n---  ------      --------------  ----- \n 0   Unnamed: 0  27 non-null     int64 \n 1   제목          27 non-null     object\n 2   링크          27 non-null     object\n 3   날짜          27 non-null     object\n 4   내용          27 non-null     object\ndtypes: int64(1), object(4)\nmemory usage: 1.2+ KB\n"
     ]
    }
   ],
   "source": [
    "news = pd.read_csv('data-files1/news_크롤링.csv', encoding='utf-8')\n",
    "news.columns\n",
    "news.info()"
   ]
  },
  {
   "cell_type": "code",
   "execution_count": 122,
   "metadata": {},
   "outputs": [],
   "source": [
    "news=news.rename(columns={\"Unnamed: 0\":\"No\", \"제목\":\"Title\", \"링크\":\"Link\" ,\"날짜\":\"RegDate\", \"내용\":\"Content\"})"
   ]
  },
  {
   "cell_type": "code",
   "execution_count": 123,
   "metadata": {},
   "outputs": [
    {
     "output_type": "execute_result",
     "data": {
      "text/plain": [
       "(array([ 0,  1,  2,  3,  4,  5,  6,  7,  8,  9, 10, 11, 12, 13, 14, 15, 16,\n",
       "        17, 18, 19, 20, 21, 22, 23, 24, 25, 26], dtype=int64),\n",
       " 27)"
      ]
     },
     "metadata": {},
     "execution_count": 123
    }
   ],
   "source": [
    "news[\"No\"].unique(), len(news[\"No\"])"
   ]
  },
  {
   "cell_type": "code",
   "execution_count": 124,
   "metadata": {},
   "outputs": [
    {
     "output_type": "stream",
     "name": "stdout",
     "text": [
      "<class 'pandas.core.frame.DataFrame'>\nRangeIndex: 27 entries, 0 to 26\nData columns (total 5 columns):\n #   Column   Non-Null Count  Dtype \n---  ------   --------------  ----- \n 0   No       27 non-null     int64 \n 1   Title    27 non-null     object\n 2   Link     27 non-null     object\n 3   RegDate  27 non-null     object\n 4   Content  27 non-null     object\ndtypes: int64(1), object(4)\nmemory usage: 1.2+ KB\n"
     ]
    }
   ],
   "source": [
    "news.info()"
   ]
  },
  {
   "cell_type": "code",
   "execution_count": null,
   "metadata": {},
   "outputs": [],
   "source": []
  },
  {
   "cell_type": "code",
   "execution_count": 125,
   "metadata": {},
   "outputs": [
    {
     "output_type": "stream",
     "name": "stdout",
     "text": [
      "<class 'pandas.core.frame.DataFrame'>\nRangeIndex: 27 entries, 0 to 26\nData columns (total 5 columns):\n #   Column   Non-Null Count  Dtype \n---  ------   --------------  ----- \n 0   No       27 non-null     int32 \n 1   Title    27 non-null     object\n 2   Link     27 non-null     object\n 3   RegDate  27 non-null     object\n 4   Content  27 non-null     object\ndtypes: int32(1), object(4)\nmemory usage: 1.1+ KB\n"
     ]
    }
   ],
   "source": [
    "news['No'] = news['No'].astype('int')\n",
    "news.info()"
   ]
  },
  {
   "cell_type": "code",
   "execution_count": 197,
   "metadata": {},
   "outputs": [
    {
     "output_type": "execute_result",
     "data": {
      "text/plain": [
       "[(0,\n",
       "  '황희찬, 한국 A매치 역대 최단시간 16초 만에 득점 신기록',\n",
       "  'https://news.naver.com/main/read.nhn?mode=LPOD&mid=sec&oid=001&aid=0012021604&isYeonhapFlash=Y&rc=N',\n",
       "  '2020.11.17. 오후 10:31',\n",
       "  \" 카타르와 평가전서 황의조 어시스트로 '선제 벼락골' 작성   황희찬 선제골(서울=연합뉴스) 17일 오후 오스트리아 마리아 엔처스도르프의 BSFZ 아레나에서 열린 한국과 카타르의 축구대표팀 평가전. 황희찬이 선제골을 터트린 뒤 기뻐하고 있다. 2020.11.17 [대한축구협회 제공, 재판매 및 DB 금지] photo@yna.co.kr   (서울=연합뉴스) 안홍석 기자 = 한국 축구대표팀의 '황소' 황희찬(24·라이프치히)이 A매치 최단 시간 골 기록을 썼다.   황희찬은 17일(한국시간) 오스트리아 마리아 엔처스도르프의 BSFZ 아레나에서 열린 카타르와의 평가전에서 전반 16초 만에 선제골을 터뜨렸다.   이는 대한축구협회(KFA)가 확보한 기록상 남자 대표팀의 A매치 역대 최단 시간 득점이다.   이전까지 이 부문 1위는 박성화 전 경남FC 감독이 1979년 9월 14일 바레인과의 박대통령컵 국제대회 경기에서 20초 만에 넣은 득점이다.   황의조(보르도)가 적극적으로 상대 수비진을 압박해 골 지역 왼쪽에서 공을 탈취, 문전으로 패스했고, 황희찬이 가볍게 슈팅해 새 기록을 썼다.   황희찬은 이 골로 A매치 34경기 5골을 기록했다.   ahs@yna.co.kr   ▶코로나19 속보는 네이버 연합뉴스[구독 클릭]▶[팩트체크]조두순 출소후 법으로 음주 금지 가능?▶제보하기   <저작권자(c) 연합뉴스(https://www.yna.co.kr/), 무단 전재-재배포 금지> 기사제공 연합뉴스  \")]"
      ]
     },
     "metadata": {},
     "execution_count": 197
    }
   ],
   "source": [
    "# rows = [tuple(x) for x in news.to_records(index=False)]\n",
    "### content 내용이 길어 최대 1600 char 까지만 가능함.)\n",
    "rows = [(int(x[0]), x[1], x[2], x[3], x[4][:1600]) for x in news.to_records(index=False)]\n",
    "# rows = [(str(x[0]), x[1], x[2], x[3], x[4][:3000]) for x in news.to_records(index=False)]\n",
    "type(rows)\n",
    "rows[:1]\n",
    "# news.head()\n",
    "# news_list=list(news.values)"
   ]
  },
  {
   "cell_type": "code",
   "execution_count": 198,
   "metadata": {},
   "outputs": [],
   "source": [
    "sql = \"\"\"INSERT INTO navernews(no, title, link, regdate, content) \n",
    "         VALUES (:no, :title, :link, :regdate, :content)\"\"\"\n",
    "cursor.executemany(sql, rows)\n",
    "conn.commit()\n",
    " \n",
    "# cursor.execute('SELECT COUNT(*) FROM ITEM_CODE')\n",
    "# cnt = cursor.fetchone()\n",
    " \n",
    "# print('Insert 건수: ', cnt)"
   ]
  },
  {
   "cell_type": "code",
   "execution_count": 4,
   "metadata": {},
   "outputs": [],
   "source": [
    "# cursor.execute(\"\"\"drop table navernews\"\"\")\n",
    "# conn.commit()"
   ]
  },
  {
   "cell_type": "code",
   "execution_count": 205,
   "metadata": {},
   "outputs": [],
   "source": [
    "cursor.close()\n",
    "conn.close()"
   ]
  },
  {
   "cell_type": "code",
   "execution_count": 183,
   "metadata": {},
   "outputs": [
    {
     "output_type": "execute_result",
     "data": {
      "text/plain": [
       "(25,\n",
       " \"'3명 사망' 인천 공장 화재…화학물질 폭발로 인명피해 커져\",\n",
       " 'https://news.naver.com/main/read.nhn?mode=LPOD&mid=sec&oid=001&aid=0012027418&isYeonhapFlash=Y&rc=N',\n",
       " '2020.11.19. 오후 7:29',\n",
       " '     소방당국 남성 직원들이 여성 직원들 먼저 대피시켜   화재로 근로자 3명 사망한 인천 화장품 제조공장(인천=연합뉴스) 윤태현 기자 = 19일 오후 4시 12분께 인천시 남동구 고잔동 한 화장품 제조업체 공장에서 불이 나 공장 관계자 3명이 숨지고 6명이 다쳐 인근 병원으로 옮겨지거나 현장에서 응급 처치를 받았다. 사진은 화재 현장 모습. 2020.11.19 tomatoyoon@yna.co.kr   (인천=연합뉴스) 손현규 윤태현 기자 = 근로자 3명이 숨지고 6명이 다친 인천 화장품 제조공장 화재는 화학물질을 이용한 작업 중 폭발과 함께 일어난 것으로 추정됐다.   비교적 어둡지 않은 오후에 작업 도중 발생한 화재이지만 갑작스러운 화학물질 폭발로 근로자들이 미처 대피하지 못한 탓에 인명피해가 커졌다.      이재선 공단소방서 현장대응단장은 19일 화재가 발생한 인천시 남동구 고잔동 한 화장품 제조업체 공장 인근에서 브리핑을 열고 공장에서 아염소산나트륨을 사용하고 있다고 진술을 받았다고 말했다.   그는 이어 아염소산나트륨은 화염이 발생했을 때 (반응하면) 폭발할 가능성이 있는 물질이라고 덧붙였다.   소방당국은 공장 내에서 도금 작업을 하던 중 펑하는 소리와 함께 폭발이 일어난 뒤 화재가 발생한 것으로 보고 있다.   화재로 근로자 3명 사망한 인천 화장품 제조공장(인천=연합뉴스) 윤태현 기자 = 19일 오후 4시 12분께 인천시 남동구 고잔동 한 화장품 제조업체 공장에서 불이 나 공장 관계자 3명이 숨지고 6명이 다쳐 인근 병원으로 옮겨지거나 현장에서 응급 처치를 받았다. 사진은 화재 현장 모습. 2020.11.19 tomatoyoon@yna.co.kr   이날 불은 오후 4시 12분께 해당 화장품 제조업체 공장 2층에서 발생했다.   이 불로 A(57)씨 등 20∼50대 남성 3명이 숨지고 6명이 다쳤다.   사망자는 모두 화재 발생 1시간 20여분 만에 공장 2층 창문 인근에서 발견됐다.   부상자 6명 중 40대 여성 1명은 중상이며 나머지 경상자 5명 중에는 30대 소방대원 1명도 포함됐다.   이 단장은 사망자 3명 중 1명은 창문에서 2m 떨어진 곳에서, 나머지 2명은 창문에서 4m 떨어진 곳에서 겹쳐진 채 발견됐다며 공장 마당 1층에서 공장 관계자들이 지게차를 이용해 여성 직원들을 구조하기도 했다고 말했다.   그는 또 구조하기 위해 최선을 다했으나 계속 폭발음이 나고 2층이 붕괴해 (공장 내부로) 진입하기 어려웠다며 남성 직원들이 여성 직원들을 먼저 대피시켰고 사망자는 모두 남성이라고 말했다.   이날 화재 현장에는 소방관 등 170여명과 펌프차 등 장비 40여 대거 투입됐다.   소방당국은 관할 소방서 인력 전체가 출동하는 경보령인 대응 1단계를 발령하고 진화 작업을 벌였고, 사고 발생 2시간 35분 만에 완전히 불을 껐다.   소방당국은 공장 관계자 등을 상대로 정확한 화재 원인과 재산피해 규모를 추가로 조사할 예정이다.   son@yna.co.kr   ▶코로나19 속보는 네이버 연합뉴스[구독 클릭]▶[팩트체크]우리는 민주당 동지 추미애 글, 법 위반?▶제보하기   <저작권자(c) 연합뉴스(https://www.yna.co.kr/), 무단 전재-재배포 금지>  ')"
      ]
     },
     "metadata": {},
     "execution_count": 183
    }
   ],
   "source": [
    "rows[25]"
   ]
  },
  {
   "cell_type": "code",
   "execution_count": null,
   "metadata": {},
   "outputs": [],
   "source": [
    "# db.execute(sql_insert, BRAND=p_tag.encode('utf8').decode('utf8'), NAME=name_tag.encode('utf8').decode('utf8'), PRICE=span_tag.encode('utf8').decode('utf8'), SRC=img_tag.get('data-desktop-src').encode('utf8').decode('utf8'))"
   ]
  }
 ]
}