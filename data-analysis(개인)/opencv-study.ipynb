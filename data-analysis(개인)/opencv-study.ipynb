{
 "metadata": {
  "language_info": {
   "codemirror_mode": {
    "name": "ipython",
    "version": 3
   },
   "file_extension": ".py",
   "mimetype": "text/x-python",
   "name": "python",
   "nbconvert_exporter": "python",
   "pygments_lexer": "ipython3",
   "version": "3.6.10-final"
  },
  "orig_nbformat": 2,
  "kernelspec": {
   "name": "python3",
   "display_name": "Python 3"
  }
 },
 "nbformat": 4,
 "nbformat_minor": 2,
 "cells": [
  {
   "cell_type": "code",
   "execution_count": 10,
   "metadata": {},
   "outputs": [],
   "source": [
    "\n",
    "import numpy as numpy\n",
    "import matplotlib.pyplot as plt\n",
    "\n",
    "import os\n",
    "import cv2"
   ]
  },
  {
   "cell_type": "code",
   "execution_count": 56,
   "metadata": {},
   "outputs": [],
   "source": [
    "# !chcp 65001    #cmd 한글로된 파일 읽어줌\n",
    "# !dir"
   ]
  },
  {
   "cell_type": "code",
   "execution_count": 57,
   "metadata": {},
   "outputs": [],
   "source": [
    "img = cv2.imread('data-files1/mamamoo.jpg', cv2.IMREAD_COLOR) #이미지 읽어 들이기\n",
    "\n",
    "# print(img)\n",
    "# img\n",
    "cv2.imshow(\"image\", img)    #(불러오는 창 이름, 불러오는 이미지)\n",
    "# plt.imshow(img)\n",
    "cv2.waitKey()\n",
    "cv2.destroyAllWindows()"
   ]
  },
  {
   "cell_type": "code",
   "execution_count": 68,
   "metadata": {},
   "outputs": [],
   "source": [
    "import cv2\n",
    "\n",
    "#학습된 얼굴인식 xml 불러오기\n",
    "faceCascade = cv2.CascadeClassifier(\"data-files1/haarcascade_frontalface_alt.xml\")    \n",
    "\n",
    "img_source = 'data-files1/mamamoo.jpg'\n",
    "img = cv2.imread(img_source)\n",
    "\n",
    "# img = cv2.imread('data-files1/mamamoo.jpg', cv2.IMREAD_COLOR) #이미지 읽어 들이기\n",
    "\n",
    "gray = cv2.cvtColor(img, cv2.COLOR_BGR2GRAY)\n",
    "\n",
    "faces = faceCascade.detectMultiScale(\n",
    "        gray,\n",
    "        scaleFactor=1.1,\n",
    "        minNeighbors=5,\n",
    "        minSize=(25, 25),\n",
    ")\n",
    "\n",
    "for (x, y, w, h) in faces:\n",
    "        cv2.rectangle(img, (x, y), (x+w, y+h), (0, 255, 0), 2)\n",
    "\n",
    "cv2.imshow('mamamoo',img)\n",
    "cv2.waitKey()\n",
    "cv2.destroyAllWindows()"
   ]
  },
  {
   "cell_type": "code",
   "execution_count": null,
   "metadata": {},
   "outputs": [],
   "source": [
    "# !pip install pytesseract\n",
    "# https://github.com/UB-Mannheim/tesseract/wiki   => tesseract-ocr-w64-setup-v5.0.0-alpha.20200328.exe (64 bit) resp. 설치\n",
    "\n",
    "# https://blog.naver.com/hn03049/221957851802 여기 참고하며 설치해 볼것!"
   ]
  },
  {
   "cell_type": "code",
   "execution_count": 101,
   "metadata": {},
   "outputs": [],
   "source": [
    "# !pip install pytesseract\n",
    "from PIL import Image\n",
    "import pytesseract as pt \n",
    "import re\n",
    "import cv2"
   ]
  },
  {
   "cell_type": "code",
   "execution_count": 99,
   "metadata": {},
   "outputs": [
    {
     "output_type": "stream",
     "name": "stdout",
     "text": [
      "Requirement already satisfied: pillow in c:\\programdata\\miniconda3\\envs\\hoseo\\lib\\site-packages (7.2.0)\n"
     ]
    }
   ],
   "source": [
    "# !pip install pillow"
   ]
  },
  {
   "cell_type": "code",
   "execution_count": 105,
   "metadata": {},
   "outputs": [],
   "source": [
    "pt.pytesseract.tesseract_cmd = r'C:\\Program Files\\Tesseract-OCR\\tesseract'"
   ]
  },
  {
   "cell_type": "code",
   "execution_count": 109,
   "metadata": {},
   "outputs": [
    {
     "output_type": "execute_result",
     "data": {
      "text/plain": [
       "'261시 빠(가41104\\n\\n \\n\\n \\n\\n \\n\\n가액                                            9126 빠0(단위:070)\\n사이즈(526)      '"
      ]
     },
     "metadata": {},
     "execution_count": 109
    }
   ],
   "source": [
    "filename = 'data-files1/ocr-test.jpg'\n",
    "img = Image.open(filename)\n",
    "# img\n",
    "text = pt.image_to_string(img ,lang='kor')  #영어면 'euc'\n",
    "text[:100]"
   ]
  },
  {
   "cell_type": "code",
   "execution_count": 110,
   "metadata": {},
   "outputs": [],
   "source": [
    "# 공백이 많기 때문에 단넘기기(\\n)를 기준으로 text를 구분\n",
    "size_table = re.split('\\n',text)"
   ]
  },
  {
   "cell_type": "code",
   "execution_count": 111,
   "metadata": {},
   "outputs": [],
   "source": [
    "matchers = ['사이즈(','어깨너비','가슴둘레','소매길이','총장']\n",
    "size = [s for s in size_table if any(xs in s for xs in matchers)]"
   ]
  },
  {
   "cell_type": "code",
   "execution_count": 113,
   "metadata": {},
   "outputs": [
    {
     "output_type": "execute_result",
     "data": {
      "text/plain": [
       "['사이즈(526)          055            066            067',\n",
       " '너       0느99                     어깨너비      37.5      38.6      39.4',\n",
       " '멀                         가슴둘레            88.3            93.6            98.4',\n",
       " '                                                소매길이             01             6012            64.5']"
      ]
     },
     "metadata": {},
     "execution_count": 113
    }
   ],
   "source": [
    "size"
   ]
  },
  {
   "cell_type": "code",
   "execution_count": 116,
   "metadata": {},
   "outputs": [],
   "source": [
    "#  dataframe형식으로 만들기 위해 \"정규표현식\"을 사용하여 데이터를 정제\n",
    "# 추출한 size를 split()를 사용하여 반복문을 통해 리스트로 붙여줍니다.\n",
    "\n",
    "import pandas as pd\n",
    "size2 = []\n",
    "for i in range(len(size)):\n",
    "    size2.append(size[i].split())"
   ]
  },
  {
   "cell_type": "code",
   "execution_count": 122,
   "metadata": {},
   "outputs": [
    {
     "output_type": "stream",
     "name": "stdout",
     "text": [
      "[['사이즈(526)', '055', '066', '067'], ['너', '0느99', '어깨너비', '37.5', '38.6', '39.4'], ['멀', '가슴둘레', '88.3', '93.6', '98.4'], ['소매길이', '01', '6012', '64.5']]\n"
     ]
    },
    {
     "output_type": "execute_result",
     "data": {
      "text/plain": [
       "'너'"
      ]
     },
     "metadata": {},
     "execution_count": 122
    }
   ],
   "source": [
    "print(size2)\n",
    "size[1][0]"
   ]
  },
  {
   "cell_type": "code",
   "execution_count": 123,
   "metadata": {},
   "outputs": [],
   "source": [
    "if '총장' or '소매길이' or '어깨너비' or '가슴둘레' not in size2[1][0] + size2[2][0]+size2[3][0]+size2[4][0]:\n",
    "    pass\n",
    "else:\n",
    "    match = re.match(r\"([가-힣]+)([(0-9].+)\", size2[0][0], re.I)\n",
    "    if match:\n",
    "        items = match.groups()\n",
    "    size2[0][0] = items[0]\n",
    "\n",
    "    size3 = list(map(list, zip(*size2))) #리스트를 transpose하는 법\n",
    "    #import numpy as np\n",
    "    #np.array(a).T.tolist() - 똑같은 방법  -> array 변환 -> 전치 -> tolist\n",
    "    df_size = pd.DataFrame(size3[1:], columns = size3[0])"
   ]
  },
  {
   "cell_type": "code",
   "execution_count": 128,
   "metadata": {},
   "outputs": [
    {
     "output_type": "execute_result",
     "data": {
      "text/plain": [
       "4"
      ]
     },
     "metadata": {},
     "execution_count": 128
    }
   ],
   "source": [
    "len(size2)"
   ]
  },
  {
   "cell_type": "code",
   "execution_count": 124,
   "metadata": {},
   "outputs": [],
   "source": [
    "size3=[]\n",
    "for i in range(len(size2)):\n",
    "    if len(size2[i]) == len(size2[0]):\n",
    "        size3.append(size2[i])\n",
    "    else:\n",
    "        diff = len(size2[i]) - len(size2[0])\n",
    "        size3.append(size2[i][diff:])"
   ]
  },
  {
   "cell_type": "code",
   "execution_count": 126,
   "metadata": {},
   "outputs": [
    {
     "output_type": "execute_result",
     "data": {
      "text/plain": [
       "[['사이즈(526)', '055', '066', '067'],\n",
       " ['어깨너비', '37.5', '38.6', '39.4'],\n",
       " ['가슴둘레', '88.3', '93.6', '98.4'],\n",
       " ['소매길이', '01', '6012', '64.5']]"
      ]
     },
     "metadata": {},
     "execution_count": 126
    }
   ],
   "source": [
    "size3"
   ]
  },
  {
   "cell_type": "code",
   "execution_count": 129,
   "metadata": {},
   "outputs": [
    {
     "output_type": "execute_result",
     "data": {
      "text/plain": [
       "[['사이즈(526)', '어깨너비', '가슴둘레', '소매길이'],\n",
       " ['055', '37.5', '88.3', '01'],\n",
       " ['066', '38.6', '93.6', '6012'],\n",
       " ['067', '39.4', '98.4', '64.5']]"
      ]
     },
     "metadata": {},
     "execution_count": 129
    }
   ],
   "source": [
    "size4 = list(map(list, zip(*size3))) #리스트를 transpose하는 법\n",
    "size4 "
   ]
  },
  {
   "cell_type": "code",
   "execution_count": 130,
   "metadata": {},
   "outputs": [
    {
     "output_type": "execute_result",
     "data": {
      "text/plain": [
       "  사이즈(526)  어깨너비  가슴둘레  소매길이\n",
       "0      055  37.5  88.3    01\n",
       "1      066  38.6  93.6  6012\n",
       "2      067  39.4  98.4  64.5"
      ],
      "text/html": "<div>\n<style scoped>\n    .dataframe tbody tr th:only-of-type {\n        vertical-align: middle;\n    }\n\n    .dataframe tbody tr th {\n        vertical-align: top;\n    }\n\n    .dataframe thead th {\n        text-align: right;\n    }\n</style>\n<table border=\"1\" class=\"dataframe\">\n  <thead>\n    <tr style=\"text-align: right;\">\n      <th></th>\n      <th>사이즈(526)</th>\n      <th>어깨너비</th>\n      <th>가슴둘레</th>\n      <th>소매길이</th>\n    </tr>\n  </thead>\n  <tbody>\n    <tr>\n      <th>0</th>\n      <td>055</td>\n      <td>37.5</td>\n      <td>88.3</td>\n      <td>01</td>\n    </tr>\n    <tr>\n      <th>1</th>\n      <td>066</td>\n      <td>38.6</td>\n      <td>93.6</td>\n      <td>6012</td>\n    </tr>\n    <tr>\n      <th>2</th>\n      <td>067</td>\n      <td>39.4</td>\n      <td>98.4</td>\n      <td>64.5</td>\n    </tr>\n  </tbody>\n</table>\n</div>"
     },
     "metadata": {},
     "execution_count": 130
    }
   ],
   "source": [
    "df_size = pd.DataFrame(size4[1:], columns = size4[0])\n",
    "df_size"
   ]
  }
 ]
}