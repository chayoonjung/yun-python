{
 "cells": [
  {
   "cell_type": "code",
   "execution_count": 6,
   "metadata": {
    "colab": {},
    "colab_type": "code",
    "executionInfo": {
     "elapsed": 928,
     "status": "ok",
     "timestamp": 1596780321929,
     "user": {
      "displayName": "Chunrang Kiyuchi",
      "photoUrl": "https://lh3.googleusercontent.com/a-/AOh14GjAlsk1lAl5D4FXAvlZhM-XjPUs0dx5rHCAQAIp=s64",
      "userId": "08924532494683847901"
     },
     "user_tz": -540
    },
    "id": "OdCDGbzphOAt"
   },
   "outputs": [],
   "source": [
    "import requests\n",
    "\n",
    "from bs4 import BeautifulSoup\n",
    "\n",
    "import lxml"
   ]
  },
  {
   "cell_type": "code",
   "execution_count": 7,
   "metadata": {
    "colab": {},
    "colab_type": "code",
    "executionInfo": {
     "elapsed": 916,
     "status": "ok",
     "timestamp": 1596780321932,
     "user": {
      "displayName": "Chunrang Kiyuchi",
      "photoUrl": "https://lh3.googleusercontent.com/a-/AOh14GjAlsk1lAl5D4FXAvlZhM-XjPUs0dx5rHCAQAIp=s64",
      "userId": "08924532494683847901"
     },
     "user_tz": -540
    },
    "id": "iHX9VmlNhOAy"
   },
   "outputs": [],
   "source": [
    "payload = {\n",
    "            'targetPage': '1',\n",
    "            'mallGb': 'KOR',\n",
    "            'ejkGb': 'KOR',\n",
    "            'linkClass': '012819',\n",
    "            'sortColumn': 'near_date',\n",
    "            'pageNumber': '1',\n",
    "            'perPage': '120',\n",
    "            'excelYn': 'Y'\n",
    "          }\n",
    "url = 'http://www.kyobobook.co.kr/category/bestCategoryBookKorListExcel.laf'"
   ]
  },
  {
   "cell_type": "code",
   "execution_count": 8,
   "metadata": {
    "colab": {},
    "colab_type": "code",
    "executionInfo": {
     "elapsed": 908,
     "status": "ok",
     "timestamp": 1596780321934,
     "user": {
      "displayName": "Chunrang Kiyuchi",
      "photoUrl": "https://lh3.googleusercontent.com/a-/AOh14GjAlsk1lAl5D4FXAvlZhM-XjPUs0dx5rHCAQAIp=s64",
      "userId": "08924532494683847901"
     },
     "user_tz": -540
    },
    "id": "qgxSIHOyhOA1"
   },
   "outputs": [],
   "source": [
    "def cropPage(req):\n",
    "    soup = BeautifulSoup(req.text, 'lxml')\n",
    "\n",
    "    trs = soup.select('tr')\n",
    "\n",
    "    nth_line = []\n",
    "    nth_lines = []\n",
    "\n",
    "    for tr in trs:\n",
    "        tds =tr.select('td')\n",
    "        for idx, td in enumerate(tds):\n",
    "            if idx in [0,1,3,4,6,7,10]:\n",
    "                nth_line.append(td.string)\n",
    "        nth_lines.append(nth_line)\n",
    "        nth_line=[]\n",
    "\n",
    "    return nth_lines"
   ]
  },
  {
   "cell_type": "code",
   "execution_count": 9,
   "metadata": {
    "colab": {},
    "colab_type": "code",
    "executionInfo": {
     "elapsed": 2017,
     "status": "ok",
     "timestamp": 1596780323053,
     "user": {
      "displayName": "Chunrang Kiyuchi",
      "photoUrl": "https://lh3.googleusercontent.com/a-/AOh14GjAlsk1lAl5D4FXAvlZhM-XjPUs0dx5rHCAQAIp=s64",
      "userId": "08924532494683847901"
     },
     "user_tz": -540
    },
    "id": "HcteWJgZhOA4"
   },
   "outputs": [],
   "source": [
    "req = requests.post(url, data=payload)\n",
    "\n",
    "trs = cropPage(req)\n",
    "\n",
    "kyobo = []\n",
    "kyobo.append(trs[1])\n",
    "kyobo += trs[3:]"
   ]
  },
  {
   "cell_type": "code",
   "execution_count": null,
   "metadata": {
    "colab": {},
    "colab_type": "code",
    "id": "KS2UilDLhOA8"
   },
   "outputs": [],
   "source": [
    "len(kyobo)"
   ]
  }
 ],
 "metadata": {
  "colab": {
   "name": "best_seller_kyobo.ipynb",
   "provenance": []
  },
  "kernelspec": {
   "display_name": "Python 3",
   "language": "python",
   "name": "python3"
  },
  "language_info": {
   "codemirror_mode": {
    "name": "ipython",
    "version": 3
   },
   "file_extension": ".py",
   "mimetype": "text/x-python",
   "name": "python",
   "nbconvert_exporter": "python",
   "pygments_lexer": "ipython3",
   "version": "3.6.10"
  }
 },
 "nbformat": 4,
 "nbformat_minor": 4
}
