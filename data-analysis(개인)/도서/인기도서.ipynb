{
 "cells": [
  {
   "cell_type": "code",
   "execution_count": 1,
   "metadata": {
    "colab": {},
    "colab_type": "code",
    "id": "Eeu6ErdR0oiM"
   },
   "outputs": [],
   "source": [
    "import requests\n",
    "from bs4 import BeautifulSoup\n",
    "import pandas as pd\n",
    "import numpy as np\n",
    "import lxml"
   ]
  },
  {
   "cell_type": "code",
   "execution_count": 2,
   "metadata": {
    "colab": {
     "base_uri": "https://localhost:8080/",
     "height": 73
    },
    "colab_type": "code",
    "id": "Fjo5cwPz0_jM",
    "outputId": "72fcf035-ccb4-460f-9b97-8ecc59a7eb7a"
   },
   "outputs": [
    {
     "name": "stdout",
     "output_type": "stream",
     "text": [
      "http://data4library.kr/api/loanItemSrch?authKey={api_key}&startDt={startDt}&from_age={from_age}&region=11&addCode=0;1;2;4;5;6;7;9&pageNo=1&pageSize={size}\n",
      "http://data4library.kr/api/loanItemSrch?authKey=e90824929c90f865d4233fa27e08262b1abfb5c4e60b98ba85fc70f5d6d695e9&startDt=2020-01-01&from_age=1&region=11&addCode=0;1;2;4;5;6;7;9&pageNo=1&pageSize=5000\n"
     ]
    }
   ],
   "source": [
    "api_key = 'e90824929c90f865d4233fa27e08262b1abfb5c4e60b98ba85fc70f5d6d695e9'\n",
    "api_url = 'http://data4library.kr/api/loanItemSrch?'\n",
    "\n",
    "parms = 'authKey={api_key}&' + \\\n",
    "        'startDt={startDt}&' + \\\n",
    "        'from_age={from_age}&' + \\\n",
    "        'region=11&'+ \\\n",
    "        'addCode=0;1;2;4;5;6;7;9&'+ \\\n",
    "        'pageNo=1&' +\\\n",
    "        'pageSize={size}'\n",
    "\n",
    "url = api_url+ parms\n",
    "print(url)\n",
    "startDt='2020-01-01'\n",
    "from_age='1'\n",
    "size='5000'\n",
    "new_url = url.format(startDt=startDt, from_age=from_age, api_key=api_key , size=size)\n",
    "print(new_url)\n",
    "\n",
    "# resp = requests.get(url.format(startDt=startDt, from_age=from_age, api_key=api_key , size=size)\n",
    "# soup = BeautifulSoup(new_url.text, 'html.parser')\n",
    "\n",
    "# resp\n",
    "# trs = soup.select()\n",
    "\n",
    "# &startDt=2017-01-01   (시작날짜설정 끝날짜는 자동으로 하루 전날로 설정됨.)\n",
    "# # &gender=0 (성별)  (미입력시 전체 , 0=남성 1=여성 2=미상)\n",
    "# &from_age=6 (시작연령)\n",
    "# &region=11 (지역)\n",
    "# &addCode=0;1;2;4;5;6;7;9 (ISBN 부가기호)\n",
    "# # &kdc=6\n",
    "# # &pageNo=1  (페이지번호(pageNo) 미입력시 1로 설정 )\n",
    "# &pageSize=100\n",
    "\n"
   ]
  },
  {
   "cell_type": "code",
   "execution_count": 3,
   "metadata": {
    "colab": {
     "base_uri": "https://localhost:8080/",
     "height": 91
    },
    "colab_type": "code",
    "id": "Npjnt5Dm1EBY",
    "outputId": "71a57454-9a15-4cf9-df59-f42c22f8a202"
   },
   "outputs": [],
   "source": [
    "req = requests.get(url.format(startDt=startDt, from_age=from_age, api_key=api_key , size=size))\n",
    "# req.status_code, req.encoding, req.text"
   ]
  },
  {
   "cell_type": "code",
   "execution_count": 4,
   "metadata": {
    "colab": {
     "base_uri": "https://localhost:8080/",
     "height": 179
    },
    "colab_type": "code",
    "id": "SzVrikC_Nk4f",
    "outputId": "a2500150-5dd6-4b83-bc2e-69854ff14f2c"
   },
   "outputs": [],
   "source": [
    "# 전체 문서에서 CDATA -> PCDATA 로 변경 replace\n",
    "req2 = req.text.replace('<![CDATA[',' ')\n",
    "req2pcdata = req2.replace(']]>',' ')\n",
    "# req2pcdata"
   ]
  },
  {
   "cell_type": "code",
   "execution_count": 5,
   "metadata": {
    "colab": {},
    "colab_type": "code",
    "id": "88UW97p-_e_1"
   },
   "outputs": [],
   "source": [
    "soup = BeautifulSoup(req2pcdata, 'lxml')\n",
    "# soup"
   ]
  },
  {
   "cell_type": "code",
   "execution_count": 8,
   "metadata": {
    "colab": {},
    "colab_type": "code",
    "id": "k1d7CAdz_7zh"
   },
   "outputs": [],
   "source": [
    "docs = soup.select('doc')\n",
    "# rank = soup.select('docs > doc > ranking')\n",
    "# bookname = soup.select('docs > doc > bookname')\n",
    "\n",
    "loanItem=[]\n",
    "for doc in docs[:]:\n",
    " # print(doc.text)\n",
    "  rank = doc.select_one('ranking')\n",
    "  bookname = doc.select_one('bookname')\n",
    "  authors = doc.select_one('authors')\n",
    "  publisher = doc.select_one('publisher')\n",
    "  isbn = doc.select_one('isbn13')\n",
    "  count = doc.select_one('loan_count')\n",
    "\n",
    "  loanItem.append([rank, bookname, authors, publisher, isbn, count])"
   ]
  },
  {
   "cell_type": "code",
   "execution_count": 17,
   "metadata": {
    "colab": {
     "base_uri": "https://localhost:8080/",
     "height": 55
    },
    "colab_type": "code",
    "id": "Hn2p6amwA92_",
    "outputId": "8055b7cc-d69b-4430-e1a5-2419e4a730e4"
   },
   "outputs": [],
   "source": [
    "import pickle\n",
    "loanltem_pk=['loanltem']\n",
    "\n",
    "with open('loanltem','wb') as fw:\n",
    "  pickle.dump(loanltem_pk, fw)\n",
    "\n",
    "# with open('loanltem', 'rb') as f:\n",
    "#   loanltem = pickle.load(f)\n",
    "#   print(loanItem)"
   ]
  }
 ],
 "metadata": {
  "colab": {
   "collapsed_sections": [],
   "name": "Untitled0.ipynb",
   "provenance": []
  },
  "kernelspec": {
   "display_name": "Python 3",
   "language": "python",
   "name": "python3"
  },
  "language_info": {
   "codemirror_mode": {
    "name": "ipython",
    "version": 3
   },
   "file_extension": ".py",
   "mimetype": "text/x-python",
   "name": "python",
   "nbconvert_exporter": "python",
   "pygments_lexer": "ipython3",
   "version": "3.6.10"
  }
 },
 "nbformat": 4,
 "nbformat_minor": 4
}
