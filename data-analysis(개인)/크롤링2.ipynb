{
 "metadata": {
  "language_info": {
   "codemirror_mode": {
    "name": "ipython",
    "version": 3
   },
   "file_extension": ".py",
   "mimetype": "text/x-python",
   "name": "python",
   "nbconvert_exporter": "python",
   "pygments_lexer": "ipython3",
   "version": "3.7.7-final"
  },
  "orig_nbformat": 2,
  "kernelspec": {
   "name": "python3",
   "display_name": "Python 3"
  }
 },
 "nbformat": 4,
 "nbformat_minor": 2,
 "cells": [
  {
   "cell_type": "code",
   "execution_count": 1,
   "metadata": {},
   "outputs": [],
   "source": [
    "import numpy as np\n",
    "import pandas as pd\n",
    "import matplotlib.pyplot as plt\n",
    "import time\n",
    "import requests\n",
    "from bs4 import BeautifulSoup, NavigableString, Tag, Comment"
   ]
  },
  {
   "cell_type": "code",
   "execution_count": 2,
   "metadata": {},
   "outputs": [],
   "source": [
    "from selenium import webdriver\n",
    "\n",
    "driver_path = r\"D:\\yun\\dev-tools\\chromedriver.exe\"\n",
    "browser = webdriver.Chrome(executable_path=driver_path)"
   ]
  },
  {
   "cell_type": "code",
   "execution_count": 3,
   "metadata": {},
   "outputs": [],
   "source": [
    "# 웹 자원 로드를 위해 암묵적으로 딜레이\n",
    "delay_time = 3\n",
    "browser.implicitly_wait(delay_time)"
   ]
  },
  {
   "cell_type": "code",
   "execution_count": 4,
   "metadata": {},
   "outputs": [],
   "source": [
    "browser.get('https://purpleacademy.co.kr/auth')\n",
    "\n",
    "# ID, PW 입력\n",
    "id = \"A0002\"\n",
    "pw = \"1234\"\n",
    "browser.find_element_by_name(\"email\").send_keys(id)\n",
    "browser.find_element_by_name(\"password\").send_keys(pw)"
   ]
  },
  {
   "cell_type": "code",
   "execution_count": 5,
   "metadata": {},
   "outputs": [],
   "source": [
    "# 로그인 버튼 클릭\n",
    "browser.find_element_by_xpath('//*[@id=\"login_member\"]/div[4]').click()"
   ]
  },
  {
   "cell_type": "code",
   "execution_count": 15,
   "metadata": {},
   "outputs": [],
   "source": [
    "# Naver 페이 들어가기\n",
    "browser.get('https://purpleacademy.co.kr/parents/view')\n",
    "html = browser.page_source\n",
    "soup = BeautifulSoup(html, 'html.parser')"
   ]
  },
  {
   "cell_type": "code",
   "execution_count": 22,
   "metadata": {},
   "outputs": [
    {
     "output_type": "execute_result",
     "data": {
      "text/plain": [
       "[<tr class=\"odd\" role=\"row\"><td>29491</td><td>ejsj6251</td><td>김은진</td><td>01036182225</td><td>ejsj6251@naver.com</td><td></td><td>인증완료</td><td><a class=\"btn btn-default btn-circle icon\" data-original-title=\"프로필\" data-toggle=\"tooltip\" href=\"/parents/profile/29491\"><i class=\"far fa-arrow-alt-circle-right\"></i></a><button class=\"btn btn-danger icon btn-circle\" onclick=\"confirm_modal('https://purpleacademy.co.kr/parents/delete/29491')\" type=\"button\"><i class=\"fas fa-trash-alt\"></i></button></td></tr>]"
      ]
     },
     "metadata": {},
     "execution_count": 22
    }
   ],
   "source": [
    "soup.select(\"#DataTables_Table_0 > tbody > tr:nth-child(1)\")\n",
    "soup.select(\"#DataTables_Table_0 > tbody > tr:nth-child(2)\")\n",
    "soup.select(\"#DataTables_Table_0 > tbody > tr:nth-child(3)\")"
   ]
  },
  {
   "cell_type": "code",
   "execution_count": 40,
   "metadata": {},
   "outputs": [
    {
     "output_type": "execute_result",
     "data": {
      "text/plain": [
       "'29493boraborau유수현01049530818boraborau@naver.com인증완료'"
      ]
     },
     "metadata": {},
     "execution_count": 40
    }
   ],
   "source": [
    "soup.find_all('tr')[1].get_text()"
   ]
  },
  {
   "cell_type": "code",
   "execution_count": 45,
   "metadata": {},
   "outputs": [],
   "source": [
    "pa_data = pd.DataFrame() # 데이터를 저장할 데이터프레임 생성\n",
    "columns = [\"No\",\"아이디\",\"이름\",\"휴대폰 번호\",\"이메일\" ]"
   ]
  },
  {
   "cell_type": "code",
   "execution_count": 46,
   "metadata": {},
   "outputs": [
    {
     "output_type": "execute_result",
     "data": {
      "text/plain": [
       "Empty DataFrame\n",
       "Columns: []\n",
       "Index: []"
      ],
      "text/html": "<div>\n<style scoped>\n    .dataframe tbody tr th:only-of-type {\n        vertical-align: middle;\n    }\n\n    .dataframe tbody tr th {\n        vertical-align: top;\n    }\n\n    .dataframe thead th {\n        text-align: right;\n    }\n</style>\n<table border=\"1\" class=\"dataframe\">\n  <thead>\n    <tr style=\"text-align: right;\">\n      <th></th>\n    </tr>\n  </thead>\n  <tbody>\n  </tbody>\n</table>\n</div>"
     },
     "metadata": {},
     "execution_count": 46
    }
   ],
   "source": [
    "for ticker in tickers: # 종목별로 돌면서        \n",
    "    # 나머지 페이지 크롤링\n",
    "    try: # 에러가 날 때 까지 (데이터가 부족할 때 까지) 돌린다\n",
    "        for page in range(500): # 103페이지가 2000년 시작 지점. \n",
    "            \n",
    "            for i in range(1, 20):\n",
    "                date = driver.find_element_by_xpath(\n",
    "                    '//*[@id=\"DataTables_Table_0\"]/tbody/tr[1]')\n",
    "                pa_data.append(date.text)\n",
    "\n",
    "            driver.find_element_by_xpath('//*[@id=\"DataTables_Table_0_paginate\"]/ul/li[2]/a').click()\n",
    "            //*[@id=\"DataTables_Table_0_paginate\"]/ul/li[3]/a\n",
    "            time.sleep(2)\n",
    "            \n",
    "    except: # 에러나면 다음으로 \n",
    "        pass\n",
    "        \n",
    "        marketcap_data[ticker + '_Date'] = marketcap_date # 데이터프레임에 날짜 추가\n",
    "        marketcap_data[ticker + '_marketcap'] = marketcap_value # 데이터프레임에 시가총액 추가\n",
    "\n",
    "        print(ticker + '완료') # 종목 수집 종료할 때 완료 메시지 출력\n",
    "\n",
    "    except: # 에러나면 다음 종목으로\n",
    "        pass"
   ]
  },
  {
   "cell_type": "code",
   "execution_count": null,
   "metadata": {},
   "outputs": [],
   "source": [
    "marketcap_data = pd.DataFrame() # 데이터를 저장할 데이터프레임 생성\n",
    "\n",
    "tickers = ['AAPL', 'AMZN', 'BABA', 'BAC', 'BHP', 'BP', 'BRK-A', 'C', 'CHL', 'CICHF', 'CSCO', 'CVX', 'FB', 'GE', 'GOOGL', 'HSBC', 'IBM', 'IDCBF', 'JNJ', 'MSFT', 'NSRGF', 'NVS', 'OGZPY', 'PBR', 'PFE', 'PG', 'PTR', 'RDS-B', 'RHHVF', 'T', 'TM', 'WFC', 'WMT', 'XOM']\n",
    "\n",
    "for ticker in tickers: # 종목별로 돌면서\n",
    "\n",
    "\n",
    "        # 테이블 왼쪽 데이터 수집 \n",
    "        for i in range(2, 27):\n",
    "            date = driver.find_element_by_xpath(\n",
    "                '//*[@id=\"dataTableBox\"]/div[2]/div[1]/div/table/tbody/tr[' + str(i) + ']/td[1]')\n",
    "            value = driver.find_element_by_xpath(\n",
    "                '//*[@id=\"dataTableBox\"]/div[2]/div[1]/div/table/tbody/tr[' + str(i) + ']/td[2]')\n",
    "            marketcap_date.append(date.text)\n",
    "            marketcap_value.append(value.text)\n",
    "\n",
    "        # 테이블 오른쪽 데이터 수집\n",
    "        for i in range(2, 27):\n",
    "            date = driver.find_element_by_xpath(\n",
    "                '//*[@id=\"dataTableBox\"]/div[2]/div[2]/div/table/tbody/tr[' + str(i) + ']/td[1]')\n",
    "            value = driver.find_element_by_xpath(\n",
    "                '//*[@id=\"dataTableBox\"]/div[2]/div[2]/div/table/tbody/tr[' + str(i) + ']/td[2]')\n",
    "            marketcap_date.append(date.text)\n",
    "            marketcap_value.append(value.text)\n",
    "\n",
    "        # 다음 페이지 클릭\n",
    "        driver.find_element_by_xpath('//*[@id=\"paginData\"]/span[2]/span[2]/a[1]').click() \n",
    "        time.sleep(2) # 페이지 넘기고 잠시 대기\n",
    "\n",
    "        # 나머지 페이지 크롤링\n",
    "        try: # 에러가 날 때 까지 (데이터가 부족할 때 까지) 돌린다\n",
    "            for page in range(105): # 103페이지가 2000년 시작 지점. \n",
    "               \n",
    "                for i in range(2, 27):\n",
    "                    date = driver.find_element_by_xpath(\n",
    "                        '//*[@id=\"dataTableBox\"]/div[4]/div[1]/div/table/tbody/tr[' + str(i) + ']/td[1]')\n",
    "                    value = driver.find_element_by_xpath(\n",
    "                        '//*[@id=\"dataTableBox\"]/div[4]/div[1]/div/table/tbody/tr[' + str(i) + ']/td[2]')\n",
    "                    marketcap_date.append(date.text)\n",
    "                    marketcap_value.append(value.text)\n",
    "    \n",
    "                for i in range(2, 27):\n",
    "                    date = driver.find_element_by_xpath(\n",
    "                        '//*[@id=\"dataTableBox\"]/div[4]/div[2]/div/table/tbody/tr[' + str(i) + ']/td[1]')\n",
    "                    value = driver.find_element_by_xpath(\n",
    "                        '//*[@id=\"dataTableBox\"]/div[4]/div[2]/div/table/tbody/tr[' + str(i) + ']/td[2]')\n",
    "                    marketcap_date.append(date.text)\n",
    "                    marketcap_value.append(value.text)\n",
    "    \n",
    "                driver.find_element_by_xpath('//*[@id=\"paginData\"]/span[2]/span[2]/a[1]').click()\n",
    "                time.sleep(2)\n",
    "                \n",
    "        except: # 에러나면 다음으로 \n",
    "            pass\n",
    "        \n",
    "        marketcap_data[ticker + '_Date'] = marketcap_date # 데이터프레임에 날짜 추가\n",
    "        marketcap_data[ticker + '_marketcap'] = marketcap_value # 데이터프레임에 시가총액 추가\n",
    "\n",
    "        print(ticker + '완료') # 종목 수집 종료할 때 완료 메시지 출력\n",
    "\n",
    "    except: # 에러나면 다음 종목으로\n",
    "        pass"
   ]
  },
  {
   "cell_type": "code",
   "execution_count": null,
   "metadata": {},
   "outputs": [],
   "source": []
  }
 ]
}