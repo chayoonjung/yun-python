{
 "cells": [
  {
   "cell_type": "code",
   "execution_count": 1,
   "metadata": {},
   "outputs": [],
   "source": [
    "import numpy as np\n",
    "import pandas as pd"
   ]
  },
  {
   "cell_type": "code",
   "execution_count": 2,
   "metadata": {
    "tags": []
   },
   "outputs": [
    {
     "output_type": "stream",
     "name": "stdout",
     "text": "<class 'pandas.core.frame.DataFrame'>\nRangeIndex: 97073 entries, 0 to 97072\nData columns (total 14 columns):\n #   Column             Non-Null Count  Dtype \n---  ------             --------------  ----- \n 0   일련번호               97073 non-null  int64 \n 1   시장/마트 번호           97073 non-null  int64 \n 2   시장/마트 이름           97073 non-null  object\n 3   품목 번호              97073 non-null  int64 \n 4   품목 이름              97072 non-null  object\n 5   실판매규격              97073 non-null  object\n 6   가격(원)              97073 non-null  int64 \n 7   년도-월               97073 non-null  object\n 8   비고                 83288 non-null  object\n 9   시장유형 구분(시장/마트) 코드  97073 non-null  int64 \n 10  시장유형 구분(시장/마트) 이름  97073 non-null  object\n 11  자치구 코드             97073 non-null  int64 \n 12  자치구 이름             97073 non-null  object\n 13  점검일자               97073 non-null  object\ndtypes: int64(6), object(8)\nmemory usage: 10.4+ MB\n"
    },
    {
     "output_type": "execute_result",
     "data": {
      "text/plain": "      일련번호  시장/마트 번호 시장/마트 이름  품목 번호         품목 이름 실판매규격  가격(원)     년도-월  \\\n0  1173669        55     광장시장    305  사과(부사, 300g)    1개   2500  2017-12   \n1  1173670        55     광장시장    306   배(신고, 600g)    1개   3000  2017-12   \n2  1173671        55     광장시장    307   배추(2.5~3kg)   1포기   4000  2017-12   \n3  1173672        55     광장시장    308        무(1kg)    1개   1340  2017-12   \n4  1173673        55     광장시장    309    양파(1.5kg망)    1망   5000  2017-12   \n\n                비고  시장유형 구분(시장/마트) 코드 시장유형 구분(시장/마트) 이름  자치구 코드 자치구 이름  \\\n0           국내산 의성                  1              전통시장  110000    종로구   \n1              국내산                  1              전통시장  110000    종로구   \n2         국내산 전라도(                  1              전통시장  110000    종로구   \n3  국내산 제주1500g2000                  1              전통시장  110000    종로구   \n4          국내산 전라도                  1              전통시장  110000    종로구   \n\n         점검일자  \n0  2017-12-28  \n1  2017-12-28  \n2  2017-12-28  \n3  2017-12-28  \n4  2017-12-28  ",
      "text/html": "<div>\n<style scoped>\n    .dataframe tbody tr th:only-of-type {\n        vertical-align: middle;\n    }\n\n    .dataframe tbody tr th {\n        vertical-align: top;\n    }\n\n    .dataframe thead th {\n        text-align: right;\n    }\n</style>\n<table border=\"1\" class=\"dataframe\">\n  <thead>\n    <tr style=\"text-align: right;\">\n      <th></th>\n      <th>일련번호</th>\n      <th>시장/마트 번호</th>\n      <th>시장/마트 이름</th>\n      <th>품목 번호</th>\n      <th>품목 이름</th>\n      <th>실판매규격</th>\n      <th>가격(원)</th>\n      <th>년도-월</th>\n      <th>비고</th>\n      <th>시장유형 구분(시장/마트) 코드</th>\n      <th>시장유형 구분(시장/마트) 이름</th>\n      <th>자치구 코드</th>\n      <th>자치구 이름</th>\n      <th>점검일자</th>\n    </tr>\n  </thead>\n  <tbody>\n    <tr>\n      <th>0</th>\n      <td>1173669</td>\n      <td>55</td>\n      <td>광장시장</td>\n      <td>305</td>\n      <td>사과(부사, 300g)</td>\n      <td>1개</td>\n      <td>2500</td>\n      <td>2017-12</td>\n      <td>국내산 의성</td>\n      <td>1</td>\n      <td>전통시장</td>\n      <td>110000</td>\n      <td>종로구</td>\n      <td>2017-12-28</td>\n    </tr>\n    <tr>\n      <th>1</th>\n      <td>1173670</td>\n      <td>55</td>\n      <td>광장시장</td>\n      <td>306</td>\n      <td>배(신고, 600g)</td>\n      <td>1개</td>\n      <td>3000</td>\n      <td>2017-12</td>\n      <td>국내산</td>\n      <td>1</td>\n      <td>전통시장</td>\n      <td>110000</td>\n      <td>종로구</td>\n      <td>2017-12-28</td>\n    </tr>\n    <tr>\n      <th>2</th>\n      <td>1173671</td>\n      <td>55</td>\n      <td>광장시장</td>\n      <td>307</td>\n      <td>배추(2.5~3kg)</td>\n      <td>1포기</td>\n      <td>4000</td>\n      <td>2017-12</td>\n      <td>국내산 전라도(</td>\n      <td>1</td>\n      <td>전통시장</td>\n      <td>110000</td>\n      <td>종로구</td>\n      <td>2017-12-28</td>\n    </tr>\n    <tr>\n      <th>3</th>\n      <td>1173672</td>\n      <td>55</td>\n      <td>광장시장</td>\n      <td>308</td>\n      <td>무(1kg)</td>\n      <td>1개</td>\n      <td>1340</td>\n      <td>2017-12</td>\n      <td>국내산 제주1500g2000</td>\n      <td>1</td>\n      <td>전통시장</td>\n      <td>110000</td>\n      <td>종로구</td>\n      <td>2017-12-28</td>\n    </tr>\n    <tr>\n      <th>4</th>\n      <td>1173673</td>\n      <td>55</td>\n      <td>광장시장</td>\n      <td>309</td>\n      <td>양파(1.5kg망)</td>\n      <td>1망</td>\n      <td>5000</td>\n      <td>2017-12</td>\n      <td>국내산 전라도</td>\n      <td>1</td>\n      <td>전통시장</td>\n      <td>110000</td>\n      <td>종로구</td>\n      <td>2017-12-28</td>\n    </tr>\n  </tbody>\n</table>\n</div>"
     },
     "metadata": {},
     "execution_count": 2
    }
   ],
   "source": [
    "market = pd.read_csv(\"생필품 농수축산물 가격 정보(2013년_2017년).csv\")\n",
    "market_bacup = market.copy()\n",
    "market.info()\n",
    "market.head()"
   ]
  },
  {
   "cell_type": "code",
   "execution_count": 3,
   "metadata": {},
   "outputs": [],
   "source": [
    "market = market.drop(['일련번호', '시장/마트 번호', '시장유형 구분(시장/마트) 코드','자치구 코드', '점검일자'], axis=1)"
   ]
  },
  {
   "cell_type": "code",
   "execution_count": 4,
   "metadata": {
    "tags": []
   },
   "outputs": [
    {
     "output_type": "stream",
     "name": "stdout",
     "text": "<class 'pandas.core.frame.DataFrame'>\nRangeIndex: 97073 entries, 0 to 97072\nData columns (total 9 columns):\n #   Column             Non-Null Count  Dtype \n---  ------             --------------  ----- \n 0   시장/마트 이름           97073 non-null  object\n 1   품목 번호              97073 non-null  int64 \n 2   품목 이름              97072 non-null  object\n 3   실판매규격              97073 non-null  object\n 4   가격(원)              97073 non-null  int64 \n 5   년도-월               97073 non-null  object\n 6   비고                 83288 non-null  object\n 7   시장유형 구분(시장/마트) 이름  97073 non-null  object\n 8   자치구 이름             97073 non-null  object\ndtypes: int64(2), object(7)\nmemory usage: 6.7+ MB\n"
    }
   ],
   "source": [
    "market.info()"
   ]
  },
  {
   "cell_type": "code",
   "execution_count": null,
   "metadata": {},
   "outputs": [],
   "source": []
  }
 ],
 "metadata": {
  "language_info": {
   "codemirror_mode": {
    "name": "ipython",
    "version": 3
   },
   "file_extension": ".py",
   "mimetype": "text/x-python",
   "name": "python",
   "nbconvert_exporter": "python",
   "pygments_lexer": "ipython3",
   "version": "3.6.10-final"
  },
  "orig_nbformat": 2,
  "kernelspec": {
   "name": "python361064bithoseoconda264274678644477794f47fddcf829f7c",
   "display_name": "Python 3.6.10 64-bit ('hoseo': conda)"
  }
 },
 "nbformat": 4,
 "nbformat_minor": 2
}