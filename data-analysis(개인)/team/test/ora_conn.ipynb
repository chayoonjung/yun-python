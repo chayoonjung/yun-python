{
 "cells": [
  {
   "cell_type": "code",
   "execution_count": 1,
   "metadata": {},
   "outputs": [],
   "source": [
    "import cx_Oracle\n",
    "\n",
    "import pandas as pd"
   ]
  },
  {
   "cell_type": "code",
   "execution_count": 2,
   "metadata": {},
   "outputs": [],
   "source": [
    "import os\n",
    "#한글 지원 방법\n",
    "os.putenv('NLS_LANG', '.UTF8')"
   ]
  },
  {
   "cell_type": "code",
   "execution_count": 3,
   "metadata": {},
   "outputs": [],
   "source": [
    "local_ip = '200.1.220.251:1521/xe' # 원내에서 접속할 db_ip\n",
    "outside_ip = '61.35.152.103:1521/xe' # 원밖에서 접속할 db_ip\n",
    "db_id = 'begopa' \n",
    "db_pwd = 'begopa1'"
   ]
  },
  {
   "cell_type": "code",
   "execution_count": 10,
   "metadata": {},
   "outputs": [
    {
     "data": {
      "text/plain": [
       "('61.35.152.66', '200.1.220.251:1521/xe')"
      ]
     },
     "execution_count": 10,
     "metadata": {},
     "output_type": "execute_result"
    }
   ],
   "source": [
    "def ipcheck():    \n",
    "    import urllib \n",
    "    import re\n",
    "    \n",
    "    wan = re.search(re.compile(b'\\d{1,3}\\.\\d{1,3}\\.\\d{1,3}\\.\\d{1,3}'), urllib.request.urlopen('http://checkip.dyndns.org').read()).group().decode('utf-8')\n",
    "    \n",
    "    return wan\n",
    "\n",
    "db_ip = local_ip if '61.35.152.66' == ipcheck() else outside_ip\n",
    "ipcheck(), db_ip"
   ]
  },
  {
   "cell_type": "code",
   "execution_count": 5,
   "metadata": {},
   "outputs": [
    {
     "name": "stdout",
     "output_type": "stream",
     "text": [
      "begopa begopa1 200.1.220.251:1521/xe\n"
     ]
    }
   ],
   "source": [
    "print(db_id, db_pwd, db_ip)"
   ]
  },
  {
   "cell_type": "code",
   "execution_count": 6,
   "metadata": {},
   "outputs": [],
   "source": [
    "con = cx_Oracle.connect(db_id, db_pwd, db_ip, encoding=\"UTF-8\")\n",
    "\n",
    "cur = con.cursor()\n",
    "\n",
    "cur.execute(\"create table python(id number)\")\n",
    "\n",
    "# cur.excute(\"select * from table\")\n",
    "\n",
    "# for row in cur:\n",
    "#     print(row)\n",
    "\n",
    "# df = pd.read_sql(\"select * from table\", con = con )\n",
    "# df.head()\n",
    "    \n",
    "cur.close()\n",
    "con.close()"
   ]
  }
 ],
 "metadata": {
  "kernelspec": {
   "display_name": "Python 3",
   "language": "python",
   "name": "python3"
  },
  "language_info": {
   "codemirror_mode": {
    "name": "ipython",
    "version": 3
   },
   "file_extension": ".py",
   "mimetype": "text/x-python",
   "name": "python",
   "nbconvert_exporter": "python",
   "pygments_lexer": "ipython3",
   "version": "3.6.10"
  }
 },
 "nbformat": 4,
 "nbformat_minor": 4
}
