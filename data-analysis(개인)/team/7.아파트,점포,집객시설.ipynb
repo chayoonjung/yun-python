{
 "cells": [
  {
   "cell_type": "code",
   "execution_count": 1,
   "metadata": {},
   "outputs": [],
   "source": [
    "import os\n",
    "# 한글 지원\n",
    "os.putenv('NLS_LANG', '.UTF8')"
   ]
  },
  {
   "cell_type": "code",
   "execution_count": 2,
   "metadata": {},
   "outputs": [],
   "source": [
    "def ipchecker():    \n",
    "    import urllib \n",
    "    import re\n",
    "    \n",
    "    pattern = re.compile(b'\\d{1,3}\\.\\d{1,3}\\.\\d{1,3}\\.\\d{1,3}')\n",
    "    dyndns = urllib.request.urlopen('http://checkip.dyndns.org').read()\n",
    "    \n",
    "    wan = re.search(pattern, dyndns).group().decode('utf-8')\n",
    "    \n",
    "    return wan"
   ]
  },
  {
   "cell_type": "code",
   "execution_count": 3,
   "metadata": {},
   "outputs": [],
   "source": [
    "# base db_connect param\n",
    "\n",
    "local_ip = '200.1.220.251:1521/xe' # 원내에서 접속할 db_ip\n",
    "outside_ip = '61.35.152.103:1521/xe' # 원밖에서 접속할 db_ip\n",
    "localhost = 'localhost:1521/xe'\n",
    "\n",
    "db_id = 'begopa' \n",
    "db_pwd = 'begopa1'\n",
    "\n",
    "academy_ip = '61.35.152.66'\n",
    "db_ip = local_ip if academy_ip == ipchecker() else outside_ip\n",
    "\n",
    "db_ip = localhost # 집에서 본인의 개인 컴퓨터dptj  오라클에 접속할때는"
   ]
  },
  {
   "cell_type": "code",
   "execution_count": 4,
   "metadata": {},
   "outputs": [],
   "source": [
    "import pickle\n",
    "# load object ::\n",
    "# :: file_nm\n",
    "# :: columns and data_type\n",
    "with open(\"./pickle/col2dict.pickle\",\"rb\") as fr:\n",
    "    col2dict = pickle.load(fr)\n",
    "with open(\"./pickle/table_nm_set.pickle\",\"rb\") as fr:\n",
    "    table_nm_set = pickle.load(fr)"
   ]
  },
  {
   "cell_type": "code",
   "execution_count": 5,
   "metadata": {},
   "outputs": [],
   "source": [
    "path = \"./sg-data/\"\n",
    "desc_path = path + 'desc/'\n",
    "col_path = path + 'col/'\n",
    "origin_path = path + 'origin/'\n",
    "\n",
    "file_list = os.listdir(origin_path)"
   ]
  },
  {
   "cell_type": "code",
   "execution_count": 6,
   "metadata": {},
   "outputs": [],
   "source": [
    "# 자치구별 상권 변화지표 db 에서 한글 컬럼으로 가져오기\n",
    "# oracle_to_df('자치구별 상권변화지표')\n",
    "def load_to_df(kr_tbl_nm):\n",
    "    for key, value in table_nm_set.items():\n",
    "        if kr_tbl_nm == value:\n",
    "            table_nm = key\n",
    "            columns = [ arr[0] for arr in col2dict[key] ]\n",
    "           \n",
    "    import cx_Oracle\n",
    "    import pandas as pd\n",
    "    \n",
    "    db = cx_Oracle.connect(db_id, db_pwd, db_ip) \n",
    "        \n",
    "    sql = 'select * from ' + table_nm\n",
    "\n",
    "    df = pd.read_sql(sql=sql, con = db) \n",
    "    df.columns = columns\n",
    "    db.close\n",
    "    \n",
    "    return df"
   ]
  },
  {
   "cell_type": "code",
   "execution_count": 7,
   "metadata": {},
   "outputs": [
    {
     "name": "stdout",
     "output_type": "stream",
     "text": [
      "00 상권-영역\n",
      "01 상권-추정유동인구\n",
      "02 상권-집객시설\n",
      "03 상권배후지-추정유동인구\n",
      "04 상권배후지-집객시설\n",
      "05 상권배후지-상주인구\n",
      "06 상권-상주인구\n",
      "07 상권배후지-아파트\n",
      "08 상권배후지-점포\n",
      "09 상권-상권변화지표\n",
      "10 행정동별 상권변화지표\n",
      "11 상권-추정매출\n",
      "12 상권-직장인구\n",
      "13 상권배후지-소득소비\n",
      "14 상권배후지-직장인구\n",
      "15 자치구별 상권변화지표\n",
      "16 상권-아파트\n",
      "18 상권-점포\n",
      "19 상권배후지-추정매출\n"
     ]
    }
   ],
   "source": [
    "import re\n",
    "import os\n",
    "\n",
    "file_list = os.listdir(origin_path)\n",
    "for file in file_list:\n",
    "    kr_tbl_nm = re.findall('(\\d\\d).*\\((.*)\\)',file)\n",
    "    print(kr_tbl_nm[0][0], kr_tbl_nm[0][1])"
   ]
  },
  {
   "cell_type": "code",
   "execution_count": 8,
   "metadata": {},
   "outputs": [],
   "source": [
    "import pandas as pd\n",
    "from sklearn.preprocessing import LabelEncoder, OneHotEncoder"
   ]
  },
  {
   "cell_type": "code",
   "execution_count": 23,
   "metadata": {},
   "outputs": [],
   "source": [
    "def multi_columns_merging3(sg, sg_hl):\n",
    "    a_df = load_to_df( sg )\n",
    "    b_df = load_to_df( sg_hl )\n",
    "    all_df = pd.merge(left=a_df, right=b_df, how='left', \\\n",
    "                  on=['기준_년_분기_코드','상권_코드'], sort=False)\n",
    "#     del a_df, b_df\n",
    "    return all_df\n",
    "\n",
    "def multi_columns_merging4(a_df, b_df):\n",
    "    all_df = pd.merge(left=a_df, right=b_df, how='left', \\\n",
    "                  on=['기준_년_분기_코드','상권_코드'], sort=False)\n",
    "#     del a_df, b_df\n",
    "    return all_df\n",
    "\n",
    "def multi_columns_merging5(a_df, b_df):\n",
    "    all_df = pd.merge(left=a_df, right=b_df, how='left', \\\n",
    "                  on=['기준_년_분기_코드','상권_코드'], sort=False)\n",
    "#     del a_df, b_df\n",
    "    return all_df.dropna(axis=0)"
   ]
  },
  {
   "cell_type": "code",
   "execution_count": 10,
   "metadata": {},
   "outputs": [],
   "source": [
    "fac_df=multi_columns_merging3('상권-집객시설', '상권배후지-집객시설').fillna('0')"
   ]
  },
  {
   "cell_type": "code",
   "execution_count": 11,
   "metadata": {},
   "outputs": [
    {
     "data": {
      "text/plain": [
       "1462"
      ]
     },
     "execution_count": 11,
     "metadata": {},
     "output_type": "execute_result"
    }
   ],
   "source": [
    "fac_df.head()\n",
    "len(fac_df['상권_코드'].unique())"
   ]
  },
  {
   "cell_type": "code",
   "execution_count": 12,
   "metadata": {},
   "outputs": [],
   "source": [
    "apt=multi_columns_merging3('상권-아파트', '상권배후지-아파트').fillna('0')"
   ]
  },
  {
   "cell_type": "code",
   "execution_count": 13,
   "metadata": {},
   "outputs": [],
   "source": [
    "# apt.columns.to_list()"
   ]
  },
  {
   "cell_type": "code",
   "execution_count": 14,
   "metadata": {},
   "outputs": [],
   "source": [
    "apt_df=apt.drop(apt.filter(regex='아파트_면적|아파트_가격'),axis=1)"
   ]
  },
  {
   "cell_type": "code",
   "execution_count": 15,
   "metadata": {},
   "outputs": [
    {
     "data": {
      "text/plain": [
       "1322"
      ]
     },
     "execution_count": 15,
     "metadata": {},
     "output_type": "execute_result"
    }
   ],
   "source": [
    "# apt_df[apt_df['상권_코드']=='1001010']\n",
    "len(apt_df['상권_코드'].unique())"
   ]
  },
  {
   "cell_type": "code",
   "execution_count": 16,
   "metadata": {},
   "outputs": [],
   "source": [
    "def sg_svc_category_merge(df):\n",
    "    grouped = df.groupby(['기준_년_분기_코드','상권_코드'])\n",
    "    grouped_part1 = grouped.count() # 각 상권별 서비스 업종 코드수    \n",
    "    grouped_part2 = grouped.sum() # 각 상권별 서비스 업종 분류수    \n",
    "    join_grouped = grouped_part1.iloc[:,:1].join(grouped_part2, on=['기준_년_분기_코드', '상권_코드'], how='inner')\n",
    "    return join_grouped\n",
    "\n",
    "def multi_columns_merging_svc_cd(sg, sg_hl):\n",
    "    jumpo_df = load_to_df(sg)\n",
    "    hl_jumpo_df = load_to_df(sg_hl)\n",
    "    \n",
    "    jumpo_df = sg_svc_category_merge(jumpo_df)\n",
    "    hl_jumpo_df = sg_svc_category_merge(hl_jumpo_df)\n",
    "    \n",
    "    hl_jumpo_df.rename(columns={'서비스_업종_코드':'hl_서비스_업종_코드'})\n",
    "    \n",
    "    all_df = pd.merge(left=jumpo_df, right=hl_jumpo_df, how='left', \\\n",
    "                  on=['기준_년_분기_코드','상권_코드'], sort=False)\n",
    "    del jumpo_df, hl_jumpo_df\n",
    "    \n",
    "# jumpo_df.index.name\n",
    "# 멀티 인덱스 제거\n",
    "    \n",
    "    return all_df.dropna(axis=0).reset_index(['상권_코드','기준_년_분기_코드'])"
   ]
  },
  {
   "cell_type": "code",
   "execution_count": 17,
   "metadata": {},
   "outputs": [],
   "source": [
    "store=multi_columns_merging_svc_cd('상권-점포', '상권배후지-점포')"
   ]
  },
  {
   "cell_type": "code",
   "execution_count": 18,
   "metadata": {},
   "outputs": [
    {
     "data": {
      "text/plain": [
       "1010"
      ]
     },
     "execution_count": 18,
     "metadata": {},
     "output_type": "execute_result"
    }
   ],
   "source": [
    "store.head()\n",
    "len(store['상권_코드'].unique())"
   ]
  },
  {
   "cell_type": "code",
   "execution_count": 20,
   "metadata": {},
   "outputs": [],
   "source": [
    "h_total_a=multi_columns_merging4(fac_df, apt_df).fillna('0')"
   ]
  },
  {
   "cell_type": "code",
   "execution_count": 21,
   "metadata": {},
   "outputs": [
    {
     "data": {
      "text/plain": [
       "1462"
      ]
     },
     "execution_count": 21,
     "metadata": {},
     "output_type": "execute_result"
    }
   ],
   "source": [
    "len(h_total_a['상권_코드'].unique())"
   ]
  },
  {
   "cell_type": "code",
   "execution_count": 28,
   "metadata": {},
   "outputs": [],
   "source": [
    "total=multi_columns_merging4(h_total_a, store).fillna('0')"
   ]
  },
  {
   "cell_type": "code",
   "execution_count": 29,
   "metadata": {},
   "outputs": [
    {
     "data": {
      "text/plain": [
       "1462"
      ]
     },
     "execution_count": 29,
     "metadata": {},
     "output_type": "execute_result"
    }
   ],
   "source": [
    "len(total['상권_코드'].unique())"
   ]
  },
  {
   "cell_type": "code",
   "execution_count": null,
   "metadata": {},
   "outputs": [],
   "source": []
  }
 ],
 "metadata": {
  "kernelspec": {
   "display_name": "Python 3",
   "language": "python",
   "name": "python3"
  },
  "language_info": {
   "codemirror_mode": {
    "name": "ipython",
    "version": 3
   },
   "file_extension": ".py",
   "mimetype": "text/x-python",
   "name": "python",
   "nbconvert_exporter": "python",
   "pygments_lexer": "ipython3",
   "version": "3.6.10"
  }
 },
 "nbformat": 4,
 "nbformat_minor": 4
}
