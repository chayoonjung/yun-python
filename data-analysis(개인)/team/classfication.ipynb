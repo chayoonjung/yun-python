{
 "cells": [
  {
   "cell_type": "code",
   "execution_count": 2,
   "metadata": {},
   "outputs": [],
   "source": [
    "import os\n",
    "# 한글 지원\n",
    "os.putenv('NLS_LANG', '.UTF8')"
   ]
  },
  {
   "cell_type": "code",
   "execution_count": 3,
   "metadata": {},
   "outputs": [],
   "source": [
    "def ipchecker():    \n",
    "    import urllib \n",
    "    import re\n",
    "    \n",
    "    pattern = re.compile(b'\\d{1,3}\\.\\d{1,3}\\.\\d{1,3}\\.\\d{1,3}')\n",
    "    dyndns = urllib.request.urlopen('http://checkip.dyndns.org').read()\n",
    "    \n",
    "    wan = re.search(pattern, dyndns).group().decode('utf-8')\n",
    "    \n",
    "    return wan"
   ]
  },
  {
   "cell_type": "code",
   "execution_count": 4,
   "metadata": {},
   "outputs": [],
   "source": [
    "# base db_connect param\n",
    "\n",
    "local_ip = '200.1.220.251:1521/xe' # 원내에서 접속할 db_ip\n",
    "outside_ip = '61.35.152.103:1521/xe' # 원밖에서 접속할 db_ip\n",
    "localhost = 'localhost:1521/xe'\n",
    "\n",
    "db_id = 'begopa' \n",
    "db_pwd = 'begopa1'\n",
    "\n",
    "academy_ip = '61.35.152.66'\n",
    "db_ip = local_ip if academy_ip == ipchecker() else outside_ip\n",
    "\n",
    "# db_ip = localhost # 집에서 본인의 개인 컴퓨터dptj  오라클에 접속할때는"
   ]
  },
  {
   "cell_type": "code",
   "execution_count": 5,
   "metadata": {},
   "outputs": [],
   "source": [
    "import pickle\n",
    "# load object ::\n",
    "# :: file_nm\n",
    "# :: columns and data_type\n",
    "with open(\"./pickle/col2dict.pickle\",\"rb\") as fr:\n",
    "    col2dict = pickle.load(fr)\n",
    "with open(\"./pickle/table_nm_set.pickle\",\"rb\") as fr:\n",
    "    table_nm_set = pickle.load(fr)"
   ]
  },
  {
   "cell_type": "code",
   "execution_count": 6,
   "metadata": {},
   "outputs": [],
   "source": [
    "path = \"./sg-data/\"\n",
    "desc_path = path + 'desc/'\n",
    "col_path = path + 'col/'\n",
    "origin_path = path + 'origin/'\n",
    "\n",
    "file_list = os.listdir(origin_path)"
   ]
  },
  {
   "cell_type": "code",
   "execution_count": 7,
   "metadata": {},
   "outputs": [],
   "source": [
    "# _, _, _, table_col_set_ = extract_table_columns_set(file_list[0]) # _, :: 임시로 쓰고 버리는 값."
   ]
  },
  {
   "cell_type": "code",
   "execution_count": 8,
   "metadata": {},
   "outputs": [],
   "source": [
    "# 자치구별 상권 변화지표 db 에서 한글 컬럼으로 가져오기\n",
    "# oracle_to_df('자치구별 상권변화지표')\n",
    "def load_to_df(kr_tbl_nm):\n",
    "    for key, value in table_nm_set.items():\n",
    "        if kr_tbl_nm == value:\n",
    "            table_nm = key\n",
    "            columns = [ arr[0] for arr in col2dict[key] ]\n",
    "           \n",
    "    import cx_Oracle\n",
    "    import pandas as pd\n",
    "    \n",
    "    db = cx_Oracle.connect(db_id, db_pwd, db_ip) \n",
    "        \n",
    "    sql = 'select * from ' + table_nm\n",
    "\n",
    "    df = pd.read_sql(sql=sql, con = db) \n",
    "    df.columns = columns\n",
    "    db.close\n",
    "    \n",
    "    return df\n"
   ]
  },
  {
   "cell_type": "code",
   "execution_count": 9,
   "metadata": {},
   "outputs": [
    {
     "name": "stdout",
     "output_type": "stream",
     "text": [
      "00 상권-영역\n",
      "01 상권-추정유동인구\n",
      "02 상권-집객시설\n",
      "03 상권배후지-추정유동인구\n",
      "04 상권배후지-집객시설\n",
      "05 상권배후지-상주인구\n",
      "06 상권_상주인구\n",
      "07 상권배후지-아파트\n",
      "08 상권배후지-점포\n",
      "09 상권-상권변화지표\n",
      "10 행정동별 상권변화지표\n",
      "11 상권-추정매출\n",
      "12 상권-직장인구\n",
      "13 상권배후지-소득소비\n",
      "14 상권배후지-직장인구\n",
      "15 자치구별 상권변화지표\n",
      "16 상권-아파트\n",
      "18 상권-점포\n",
      "19 상권배후지-추정매출\n"
     ]
    }
   ],
   "source": [
    "import re\n",
    "import os\n",
    "\n",
    "file_list = os.listdir(origin_path)\n",
    "for file in file_list:\n",
    "    kr_tbl_nm = re.findall('(\\d\\d).*\\((.*)\\)',file)\n",
    "    print(kr_tbl_nm[0][0], kr_tbl_nm[0][1])"
   ]
  },
  {
   "cell_type": "code",
   "execution_count": 10,
   "metadata": {},
   "outputs": [],
   "source": [
    "import pandas as pd\n",
    "\n",
    "df = load_to_df('상권-추정유동인구')\n",
    "df1 = df.copy()\n",
    "# print(df1.head())\n",
    "df1[df1['기준_년_분기_코드']=='2019_1']\n",
    "df1[df1['기준_년_분기_코드']=='2019_2']\n",
    "\n",
    "\n",
    "# df1.filter(like='여성').filter(like='토요일')\n",
    "df1['여성_토요일_유동인구수'] = df1.filter(like='여성').filter(like='토요일').sum(axis=1)\n",
    "df1['여성_토요일_유동인구수']\n",
    "del_columns = df1.filter(like='여성').filter(like='토요일').filter(like='시간대').columns\n",
    "df1.drop(del_columns, axis=1, inplace=True)\n",
    "df1.filter(like='여성').filter(like='토요일')\n",
    "\n",
    "delete_dict = {'여성' : ['일요일','월요일','화요일','수요일','목요일','금요일','토요일'],\n",
    "               '남성' : ['일요일','월요일','화요일','수요일','목요일','금요일','토요일'],\n",
    "              }\n",
    "delete_word = '시간대'\n",
    "\n",
    "\n",
    "\n",
    "\n",
    "# len(df1.columns), len(df1.filter(like='유동인구_수').columns)\n",
    "# df1.iloc[:,:5].head(2), df1.filter(like='유동인구_수').iloc[:,:5].head(2)\n",
    "# df1['여성_토요일_유동인구수']\n",
    "# df1.filter(items=['여성', '토요일'])"
   ]
  },
  {
   "cell_type": "code",
   "execution_count": 11,
   "metadata": {},
   "outputs": [],
   "source": [
    "def delete_age_by_time(df1, delete_dict, delete_word):\n",
    "    # df1.filter(like='여성').filter(like='토요일')\n",
    "    for key, values in delete_dict.items():\n",
    "        for value in values:\n",
    "            df1[key+'_'+value+'_유동인구수'] = df1.filter(like=key).filter(like=value).sum(axis=1)\n",
    "            del_columns = df1.filter(like=key).filter(like=value).filter(like=delete_word).columns\n",
    "            df1.drop(del_columns, axis=1, inplace=True)\n",
    "    \n",
    "    return df1\n",
    "    "
   ]
  },
  {
   "cell_type": "code",
   "execution_count": 12,
   "metadata": {},
   "outputs": [
    {
     "data": {
      "text/plain": [
       "Index(['기준_년_분기_코드', '상권_코드', '총_유동인구_수', '남성_유동인구_수', '여성_유동인구_수',\n",
       "       '연령대_10_유동인구_수', '연령대_20_유동인구_수', '연령대_30_유동인구_수', '연령대_40_유동인구_수',\n",
       "       '연령대_50_유동인구_수', '연령대_60_이상_유동인구_수', '시간대_1_유동인구_수', '시간대_2_유동인구_수',\n",
       "       '시간대_3_유동인구_수', '시간대_4_유동인구_수', '시간대_5_유동인구_수', '시간대_6_유동인구_수',\n",
       "       '월요일_유동인구_수', '화요일_유동인구_수', '수요일_유동인구_수', '목요일_유동인구_수', '금요일_유동인구_수',\n",
       "       '토요일_유동인구_수', '일요일_유동인구_수', '여성_토요일_유동인구수', '여성_일요일_유동인구수',\n",
       "       '여성_월요일_유동인구수', '여성_화요일_유동인구수', '여성_수요일_유동인구수', '여성_목요일_유동인구수',\n",
       "       '여성_금요일_유동인구수', '남성_일요일_유동인구수', '남성_월요일_유동인구수', '남성_화요일_유동인구수',\n",
       "       '남성_수요일_유동인구수', '남성_목요일_유동인구수', '남성_금요일_유동인구수', '남성_토요일_유동인구수'],\n",
       "      dtype='object')"
      ]
     },
     "execution_count": 12,
     "metadata": {},
     "output_type": "execute_result"
    }
   ],
   "source": [
    "df1 = delete_age_by_time(df1, delete_dict, delete_word)\n",
    "df1.columns"
   ]
  },
  {
   "cell_type": "code",
   "execution_count": 13,
   "metadata": {},
   "outputs": [],
   "source": [
    "df1['총_시간_유동인구_수'] = df1.filter(like='시간대_').filter(like='_유동인구_수').sum(axis=1)\n",
    "df1['총_연령_유동인구_수'] = df1.filter(like='연령대_').filter(like='0_유동인구_수').sum(axis=1)\n",
    "\n",
    "del_columns = df1.filter(like='시간대_').filter(like='_유동인구_수').columns\n",
    "# df1.drop(del_columns, axis=1, inplace=True)\n",
    "\n",
    "del_columns = df1.filter(like='연령대_').filter(like='_유동인구_수').columns\n",
    "# df1.drop(del_columns, axis=1, inplace=True)\n",
    "df1['총_성별_유동인구_수'] = df1.filter(like='성_유').sum(axis=1)"
   ]
  },
  {
   "cell_type": "code",
   "execution_count": 14,
   "metadata": {},
   "outputs": [
    {
     "data": {
      "text/html": [
       "<div>\n",
       "<style scoped>\n",
       "    .dataframe tbody tr th:only-of-type {\n",
       "        vertical-align: middle;\n",
       "    }\n",
       "\n",
       "    .dataframe tbody tr th {\n",
       "        vertical-align: top;\n",
       "    }\n",
       "\n",
       "    .dataframe thead th {\n",
       "        text-align: right;\n",
       "    }\n",
       "</style>\n",
       "<table border=\"1\" class=\"dataframe\">\n",
       "  <thead>\n",
       "    <tr style=\"text-align: right;\">\n",
       "      <th></th>\n",
       "      <th>총_유동인구_수</th>\n",
       "      <th>총_시간_유동인구_수</th>\n",
       "      <th>총_연령_유동인구_수</th>\n",
       "      <th>총_성별_유동인구_수</th>\n",
       "    </tr>\n",
       "  </thead>\n",
       "  <tbody>\n",
       "    <tr>\n",
       "      <th>0</th>\n",
       "      <td>118266</td>\n",
       "      <td>118267</td>\n",
       "      <td>102419</td>\n",
       "      <td>118265</td>\n",
       "    </tr>\n",
       "    <tr>\n",
       "      <th>1</th>\n",
       "      <td>246619</td>\n",
       "      <td>246621</td>\n",
       "      <td>190573</td>\n",
       "      <td>246619</td>\n",
       "    </tr>\n",
       "    <tr>\n",
       "      <th>2</th>\n",
       "      <td>144480</td>\n",
       "      <td>144479</td>\n",
       "      <td>123544</td>\n",
       "      <td>144480</td>\n",
       "    </tr>\n",
       "    <tr>\n",
       "      <th>3</th>\n",
       "      <td>166390</td>\n",
       "      <td>166387</td>\n",
       "      <td>149223</td>\n",
       "      <td>166390</td>\n",
       "    </tr>\n",
       "    <tr>\n",
       "      <th>4</th>\n",
       "      <td>65518</td>\n",
       "      <td>65518</td>\n",
       "      <td>58105</td>\n",
       "      <td>65517</td>\n",
       "    </tr>\n",
       "    <tr>\n",
       "      <th>...</th>\n",
       "      <td>...</td>\n",
       "      <td>...</td>\n",
       "      <td>...</td>\n",
       "      <td>...</td>\n",
       "    </tr>\n",
       "    <tr>\n",
       "      <th>2985</th>\n",
       "      <td>109383</td>\n",
       "      <td>109381</td>\n",
       "      <td>62764</td>\n",
       "      <td>109382</td>\n",
       "    </tr>\n",
       "    <tr>\n",
       "      <th>2986</th>\n",
       "      <td>112258</td>\n",
       "      <td>112258</td>\n",
       "      <td>87997</td>\n",
       "      <td>112259</td>\n",
       "    </tr>\n",
       "    <tr>\n",
       "      <th>2987</th>\n",
       "      <td>134058</td>\n",
       "      <td>134058</td>\n",
       "      <td>103687</td>\n",
       "      <td>134059</td>\n",
       "    </tr>\n",
       "    <tr>\n",
       "      <th>2988</th>\n",
       "      <td>39190</td>\n",
       "      <td>39190</td>\n",
       "      <td>31740</td>\n",
       "      <td>39190</td>\n",
       "    </tr>\n",
       "    <tr>\n",
       "      <th>2989</th>\n",
       "      <td>57622</td>\n",
       "      <td>57623</td>\n",
       "      <td>48380</td>\n",
       "      <td>57622</td>\n",
       "    </tr>\n",
       "  </tbody>\n",
       "</table>\n",
       "<p>2990 rows × 4 columns</p>\n",
       "</div>"
      ],
      "text/plain": [
       "      총_유동인구_수  총_시간_유동인구_수  총_연령_유동인구_수  총_성별_유동인구_수\n",
       "0       118266       118267       102419       118265\n",
       "1       246619       246621       190573       246619\n",
       "2       144480       144479       123544       144480\n",
       "3       166390       166387       149223       166390\n",
       "4        65518        65518        58105        65517\n",
       "...        ...          ...          ...          ...\n",
       "2985    109383       109381        62764       109382\n",
       "2986    112258       112258        87997       112259\n",
       "2987    134058       134058       103687       134059\n",
       "2988     39190        39190        31740        39190\n",
       "2989     57622        57623        48380        57622\n",
       "\n",
       "[2990 rows x 4 columns]"
      ]
     },
     "execution_count": 14,
     "metadata": {},
     "output_type": "execute_result"
    }
   ],
   "source": [
    "df1.filter(like='총_')"
   ]
  },
  {
   "cell_type": "code",
   "execution_count": null,
   "metadata": {},
   "outputs": [],
   "source": []
  },
  {
   "cell_type": "code",
   "execution_count": null,
   "metadata": {},
   "outputs": [],
   "source": []
  },
  {
   "cell_type": "code",
   "execution_count": null,
   "metadata": {},
   "outputs": [],
   "source": []
  },
  {
   "cell_type": "code",
   "execution_count": null,
   "metadata": {},
   "outputs": [],
   "source": []
  },
  {
   "cell_type": "markdown",
   "metadata": {},
   "source": [
    "## KNN 분류"
   ]
  },
  {
   "cell_type": "code",
   "execution_count": 15,
   "metadata": {},
   "outputs": [],
   "source": [
    "import numpy as np \n",
    "import pandas as pd\n",
    "import matplotlib.pyplot as plt\n",
    "\n",
    "from sklearn.model_selection import train_test_split\n",
    "from sklearn.neighbors import KNeighborsClassifier"
   ]
  },
  {
   "cell_type": "code",
   "execution_count": 16,
   "metadata": {},
   "outputs": [],
   "source": [
    "def classify_knn (any_df, rs):  # (df, random_state)\n",
    "    df = load_to_df(any_df)\n",
    "    df_c = df.copy()\n",
    "    df_c['평균_폐업_비율'] = df_c['폐업_영업_개월_평균'] / df_c['서울_폐업_영업_개월_평균']\n",
    "    df_c['평균_운영_비율'] = df_c['운영_영업_개월_평균'] / df_c['서울_운영_영업_개월_평균']\n",
    "    X, y = df_c[['평균_폐업_비율', '평균_운영_비율']], df_c['상권_변화_지표']\n",
    "    X_train, X_test, y_train, y_test = \\\n",
    "       train_test_split(X, y, stratify=y, random_state=rs)\n",
    "    train_accuracy = []\n",
    "    test_accuracy = []\n",
    "\n",
    "    for n in range(1, 11) :\n",
    "        knn = KNeighborsClassifier(n_neighbors=n)\n",
    "        knn.fit(X_train, y_train)\n",
    "        train_accuracy.append(knn.score(X_train, y_train))\n",
    "        test_accuracy.append(knn.score(X_test, y_test))\n",
    "    \n",
    "    return train_accuracy, test_accuracy\n",
    "    \n",
    "    "
   ]
  },
  {
   "cell_type": "code",
   "execution_count": 17,
   "metadata": {},
   "outputs": [
    {
     "data": {
      "text/plain": [
       "([0.9763992869875223,\n",
       "  0.973475935828877,\n",
       "  0.9762566844919786,\n",
       "  0.9735828877005348,\n",
       "  0.9741176470588235,\n",
       "  0.9727629233511587,\n",
       "  0.9723351158645276,\n",
       "  0.9714438502673797,\n",
       "  0.9711229946524064,\n",
       "  0.969982174688057],\n",
       " [0.9627807486631016,\n",
       "  0.9645989304812834,\n",
       "  0.9639572192513369,\n",
       "  0.9636363636363636,\n",
       "  0.9628877005347594,\n",
       "  0.9624598930481283,\n",
       "  0.9629946524064171,\n",
       "  0.9628877005347594,\n",
       "  0.9623529411764706,\n",
       "  0.9629946524064171])"
      ]
     },
     "execution_count": 17,
     "metadata": {},
     "output_type": "execute_result"
    }
   ],
   "source": [
    "classify_knn('상권-상권변화지표', 3)"
   ]
  },
  {
   "cell_type": "code",
   "execution_count": null,
   "metadata": {},
   "outputs": [],
   "source": []
  },
  {
   "cell_type": "markdown",
   "metadata": {},
   "source": [
    "## 선형분류"
   ]
  },
  {
   "cell_type": "code",
   "execution_count": 18,
   "metadata": {},
   "outputs": [],
   "source": [
    "import numpy as np \n",
    "import pandas as pd\n",
    "import matplotlib.pyplot as plt\n",
    "\n",
    "from sklearn.datasets import load_breast_cancer\n",
    "from sklearn.model_selection import train_test_split\n",
    "from sklearn.linear_model import LogisticRegression\n",
    "from sklearn.svm import LinearSVC"
   ]
  },
  {
   "cell_type": "code",
   "execution_count": 19,
   "metadata": {},
   "outputs": [],
   "source": [
    "def classify_linear (any_df, rs):  # (df, random_state)\n",
    "    df = load_to_df(any_df)\n",
    "    df_c = df.copy()\n",
    "    df_c['평균_폐업_비율'] = df_c['폐업_영업_개월_평균'] / df_c['서울_폐업_영업_개월_평균']\n",
    "    df_c['평균_운영_비율'] = df_c['운영_영업_개월_평균'] / df_c['서울_운영_영업_개월_평균']\n",
    "    X, y = df_c[['평균_폐업_비율', '평균_운영_비율']], df_c['상권_변화_지표']\n",
    "    X_train, X_test, y_train, y_test = \\\n",
    "       train_test_split(X, y, stratify=y, random_state=rs)\n",
    "    \n",
    "    for C in [0.01, 1, 100, 1000, 10000]:  # C: 매개변수(크면 훈련 세트에 최대한 맞추고 작으면 가중치 계수 w가 0에 가까워지도록 조정)\n",
    "        lr = LogisticRegression(C=C, max_iter=10000)\n",
    "        lr.fit(X_train, y_train)\n",
    "        print( C, ' : ', lr.score(X_train, y_train), lr.score(X_test, y_test))"
   ]
  },
  {
   "cell_type": "code",
   "execution_count": 20,
   "metadata": {},
   "outputs": [
    {
     "name": "stdout",
     "output_type": "stream",
     "text": [
      "0.01  :  0.7299108734402852 0.7264171122994653\n",
      "1  :  0.9597504456327985 0.9593582887700535\n",
      "100  :  0.9642067736185383 0.9614973262032086\n",
      "1000  :  0.9642067736185383 0.9614973262032086\n",
      "10000  :  0.9642067736185383 0.9614973262032086\n"
     ]
    }
   ],
   "source": [
    "classify_linear('상권-상권변화지표', 66)"
   ]
  },
  {
   "cell_type": "code",
   "execution_count": null,
   "metadata": {},
   "outputs": [],
   "source": []
  },
  {
   "cell_type": "markdown",
   "metadata": {},
   "source": [
    "## 나이브 베이즈 분류"
   ]
  },
  {
   "cell_type": "code",
   "execution_count": 21,
   "metadata": {},
   "outputs": [],
   "source": [
    "from sklearn.naive_bayes import MultinomialNB"
   ]
  },
  {
   "cell_type": "code",
   "execution_count": 22,
   "metadata": {},
   "outputs": [],
   "source": [
    "def classify_nb (any_df, rs):  # (df, random_state)\n",
    "    df = load_to_df(any_df)\n",
    "    df_c = df.copy()\n",
    "    df_c['평균_폐업_비율'] = df_c['폐업_영업_개월_평균'] / df_c['서울_폐업_영업_개월_평균']\n",
    "    df_c['평균_운영_비율'] = df_c['운영_영업_개월_평균'] / df_c['서울_운영_영업_개월_평균']\n",
    "    X, y = df_c[['평균_폐업_비율', '평균_운영_비율']], df_c['상권_변화_지표']\n",
    "    X_train, X_test, y_train, y_test = \\\n",
    "       train_test_split(X, y, stratify=y, random_state=rs)\n",
    "    nb = MultinomialNB()\n",
    "    nb.fit(X_train, y_train)\n",
    "     \n",
    "    return nb.score(X_train, y_train), nb.score(X_test, y_test)"
   ]
  },
  {
   "cell_type": "code",
   "execution_count": 23,
   "metadata": {},
   "outputs": [
    {
     "data": {
      "text/plain": [
       "(0.332620320855615, 0.332620320855615)"
      ]
     },
     "execution_count": 23,
     "metadata": {},
     "output_type": "execute_result"
    }
   ],
   "source": [
    "classify_nb('상권-상권변화지표', 42)"
   ]
  },
  {
   "cell_type": "code",
   "execution_count": null,
   "metadata": {},
   "outputs": [],
   "source": []
  },
  {
   "cell_type": "markdown",
   "metadata": {},
   "source": [
    "## 의사결정트리"
   ]
  },
  {
   "cell_type": "code",
   "execution_count": 24,
   "metadata": {},
   "outputs": [],
   "source": [
    "import numpy as np\n",
    "import pandas as pd\n",
    "import matplotlib.pyplot as plt\n",
    "\n",
    "from sklearn.datasets import load_breast_cancer\n",
    "from sklearn.model_selection import train_test_split\n",
    "from sklearn.tree import DecisionTreeClassifier\n",
    "from sklearn.tree import export_graphviz"
   ]
  },
  {
   "cell_type": "code",
   "execution_count": 25,
   "metadata": {},
   "outputs": [],
   "source": [
    "# (df, random_state1, random_state2, max_depth, min_samples_leaf, max_leaf_nodes, criterion)\n",
    "def classify_dt (any_df, rs1, rs2, md, msl, mln, crt):  \n",
    "    df = load_to_df(any_df)\n",
    "    df_c = df.copy()\n",
    "    df_c['평균_폐업_비율'] = df_c['폐업_영업_개월_평균'] / df_c['서울_폐업_영업_개월_평균']\n",
    "    df_c['평균_운영_비율'] = df_c['운영_영업_개월_평균'] / df_c['서울_운영_영업_개월_평균']\n",
    "    X, y = df_c[['평균_폐업_비율', '평균_운영_비율']], df_c['상권_변화_지표']\n",
    "    X_train, X_test, y_train, y_test = \\\n",
    "       train_test_split(X, y, stratify=y, random_state=rs1)\n",
    "    dtc = DecisionTreeClassifier(max_depth=md, min_samples_leaf=msl,\\\n",
    "                                 max_leaf_nodes=mln, criterion=crt, random_state=rs2)\n",
    "    dtc.fit(X_train, y_train)\n",
    "    \n",
    "    return dtc.score(X_train, y_train), dtc.score(X_test, y_test)"
   ]
  },
  {
   "cell_type": "code",
   "execution_count": 26,
   "metadata": {},
   "outputs": [
    {
     "data": {
      "text/plain": [
       "(0.9639215686274509, 0.966524064171123)"
      ]
     },
     "execution_count": 26,
     "metadata": {},
     "output_type": "execute_result"
    }
   ],
   "source": [
    "classify_dt('상권-상권변화지표', 18, 0, 5, 10, 4, 'entropy')"
   ]
  },
  {
   "cell_type": "code",
   "execution_count": null,
   "metadata": {},
   "outputs": [],
   "source": []
  },
  {
   "cell_type": "markdown",
   "metadata": {},
   "source": [
    "## 랜덤포레스트"
   ]
  },
  {
   "cell_type": "code",
   "execution_count": 27,
   "metadata": {},
   "outputs": [],
   "source": [
    "from sklearn.model_selection import train_test_split\n",
    "from sklearn.tree import DecisionTreeClassifier\n",
    "from sklearn.ensemble import RandomForestClassifier"
   ]
  },
  {
   "cell_type": "code",
   "execution_count": 28,
   "metadata": {},
   "outputs": [],
   "source": [
    "# (df, random_forest1, random_forest2, n_estimators, n_jobs)\n",
    "# n_estimators: 생성할 tree의 개수\n",
    "# n_jobs: 사용할 코어 개수(-1로 지정하면 컴퓨터의 모든 코어 사용)\n",
    "def classify_rf (any_df, rs1, rs2, n_est, n_jb):  \n",
    "    df = load_to_df(any_df)\n",
    "    df_c = df.copy()\n",
    "    df_c['평균_폐업_비율'] = df_c['폐업_영업_개월_평균'] / df_c['서울_폐업_영업_개월_평균']\n",
    "    df_c['평균_운영_비율'] = df_c['운영_영업_개월_평균'] / df_c['서울_운영_영업_개월_평균']\n",
    "    X, y = df_c[['평균_폐업_비율', '평균_운영_비율']], df_c['상권_변화_지표']\n",
    "    X_train, X_test, y_train, y_test = \\\n",
    "       train_test_split(X, y, stratify=y, random_state=rs1)\n",
    "    rfc = RandomForestClassifier(random_state=rs2, n_estimators=n_est, n_jobs=n_jb)\n",
    "    rfc.fit(X_train, y_train)\n",
    "    \n",
    "    return rfc.score(X_train, y_train), rfc.score(X_test, y_test)"
   ]
  },
  {
   "cell_type": "code",
   "execution_count": 29,
   "metadata": {},
   "outputs": [
    {
     "data": {
      "text/plain": [
       "(0.9811408199643494, 0.9622459893048129)"
      ]
     },
     "execution_count": 29,
     "metadata": {},
     "output_type": "execute_result"
    }
   ],
   "source": [
    "classify_rf('상권-상권변화지표', 42, 66, 1000, -1)"
   ]
  },
  {
   "cell_type": "code",
   "execution_count": null,
   "metadata": {},
   "outputs": [],
   "source": []
  },
  {
   "cell_type": "markdown",
   "metadata": {},
   "source": [
    "## 그래디언트 부스팅"
   ]
  },
  {
   "cell_type": "code",
   "execution_count": 30,
   "metadata": {},
   "outputs": [],
   "source": [
    "from sklearn.ensemble import GradientBoostingClassifier"
   ]
  },
  {
   "cell_type": "code",
   "execution_count": 31,
   "metadata": {},
   "outputs": [],
   "source": [
    "#(df, random_state1, random_state2, learning_rate, max_depth)\n",
    "# learning_rate: 이전 트리의 오차를 얼마나 강하게 보정할 것인지 설정\n",
    "# max_depth: 가지치기 최대 깊이\n",
    "def classify_gb (any_df, rs1, rs2, lr, md):  \n",
    "    df = load_to_df(any_df)\n",
    "    df_c = df.copy()\n",
    "    df_c['평균_폐업_비율'] = df_c['폐업_영업_개월_평균'] / df_c['서울_폐업_영업_개월_평균']\n",
    "    df_c['평균_운영_비율'] = df_c['운영_영업_개월_평균'] / df_c['서울_운영_영업_개월_평균']\n",
    "    X, y = df_c[['평균_폐업_비율', '평균_운영_비율']], df_c['상권_변화_지표']\n",
    "    X_train, X_test, y_train, y_test = \\\n",
    "       train_test_split(X, y, stratify=y, random_state=rs1)\n",
    "    gbc = GradientBoostingClassifier(random_state=rs2,\n",
    "                                 learning_rate=lr,\n",
    "                                 max_depth=md)\n",
    "    gbc.fit(X_train, y_train)\n",
    "    \n",
    "    return gbc.score(X_train, y_train), gbc.score(X_test, y_test)"
   ]
  },
  {
   "cell_type": "code",
   "execution_count": 32,
   "metadata": {},
   "outputs": [
    {
     "data": {
      "text/plain": [
       "(0.9807843137254902, 0.9621390374331551)"
      ]
     },
     "execution_count": 32,
     "metadata": {},
     "output_type": "execute_result"
    }
   ],
   "source": [
    "classify_gb('상권-상권변화지표', 42, 66, 1, 4)"
   ]
  },
  {
   "cell_type": "code",
   "execution_count": null,
   "metadata": {},
   "outputs": [],
   "source": []
  },
  {
   "cell_type": "markdown",
   "metadata": {},
   "source": [
    "## 커널 서포트 벡터 머신"
   ]
  },
  {
   "cell_type": "code",
   "execution_count": 43,
   "metadata": {},
   "outputs": [],
   "source": [
    "from sklearn.model_selection import train_test_split\n",
    "from sklearn.preprocessing import MinMaxScaler\n",
    "from sklearn.svm import SVC"
   ]
  },
  {
   "cell_type": "code",
   "execution_count": 54,
   "metadata": {},
   "outputs": [],
   "source": [
    "# (df, random_state, gamma, C)\n",
    "# kernel: 주어진 데이터를 고차원 특징 공간으로 사상해주는 것(rbf가 성능이 제일 좋음)\n",
    "# gamma: 하나의 데이터 샘플이 영향력을 행사하는 거리를 결정.\n",
    "# C: 데이터 샘플들이 다른 클래스에 놓이는 것을 허용하는 정도 결정\n",
    "\n",
    "def classify_svm (any_df, rs, gm, c):  \n",
    "    df = load_to_df(any_df)\n",
    "    df_c = df.copy()\n",
    "    df_c['평균_폐업_비율'] = df_c['폐업_영업_개월_평균'] / df_c['서울_폐업_영업_개월_평균']\n",
    "    df_c['평균_운영_비율'] = df_c['운영_영업_개월_평균'] / df_c['서울_운영_영업_개월_평균']\n",
    "    X, y = df_c[['평균_폐업_비율', '평균_운영_비율']], df_c['상권_변화_지표']\n",
    "    X_train, X_test, y_train, y_test = \\\n",
    "       train_test_split(X, y, stratify=y, random_state=rs)\n",
    "    svc = SVC(kernel='rbf', gamma=gm, C=c, probability=True)\n",
    "    svc.fit(X_train, y_train)\n",
    "    \n",
    "    return svc.score(X_train, y_train), svc.score(X_test, y_test)"
   ]
  },
  {
   "cell_type": "code",
   "execution_count": 55,
   "metadata": {},
   "outputs": [
    {
     "data": {
      "text/plain": [
       "(0.9647058823529412, 0.9637433155080214)"
      ]
     },
     "execution_count": 55,
     "metadata": {},
     "output_type": "execute_result"
    }
   ],
   "source": [
    "classify_svm('상권-상권변화지표', 42, 10, 100)"
   ]
  },
  {
   "cell_type": "code",
   "execution_count": null,
   "metadata": {},
   "outputs": [],
   "source": []
  }
 ],
 "metadata": {
  "kernelspec": {
   "display_name": "Python 3",
   "language": "python",
   "name": "python3"
  },
  "language_info": {
   "codemirror_mode": {
    "name": "ipython",
    "version": 3
   },
   "file_extension": ".py",
   "mimetype": "text/x-python",
   "name": "python",
   "nbconvert_exporter": "python",
   "pygments_lexer": "ipython3",
   "version": "3.6.10"
  }
 },
 "nbformat": 4,
 "nbformat_minor": 4
}
