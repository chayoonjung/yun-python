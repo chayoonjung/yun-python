{
 "cells": [
  {
   "cell_type": "code",
   "execution_count": 1,
   "metadata": {},
   "outputs": [
    {
     "name": "stderr",
     "output_type": "stream",
     "text": [
      "/Users/kiwi/.pyenv/versions/study_ab/lib/python3.6/site-packages/pandas/compat/__init__.py:117: UserWarning: Could not import the lzma module. Your installed Python is incomplete. Attempting to use lzma compression will result in a RuntimeError.\n",
      "  warnings.warn(msg)\n"
     ]
    }
   ],
   "source": [
    "import requests\n",
    "\n",
    "from bs4 import BeautifulSoup\n",
    "\n",
    "import lxml\n",
    "\n",
    "import datetime\n",
    "\n",
    "import pandas as pd\n",
    "import numpy as np"
   ]
  },
  {
   "cell_type": "code",
   "execution_count": 2,
   "metadata": {},
   "outputs": [],
   "source": [
    "dt = datetime.datetime.now()\n",
    "today = dt.strftime(\"%Y%m%d\")\n",
    "\n",
    "max_page_number = 50\n",
    "start_day = '20180201'\n",
    "\n",
    "dt_index = pd.date_range(start=start_day, end=today)\n",
    "dt_list = list(set(dt_index.strftime(\"%Y,%m\").tolist()))\n",
    "dt_list.sort()"
   ]
  },
  {
   "cell_type": "code",
   "execution_count": 3,
   "metadata": {},
   "outputs": [],
   "source": [
    "def cropPage(req):\n",
    "    soup = BeautifulSoup(req.text, 'lxml')\n",
    "\n",
    "    trs = soup.select('table tr')\n",
    "\n",
    "    nth_line = []\n",
    "    nth_lines = []\n",
    "\n",
    "    for tr in trs:\n",
    "        tds =tr.select('td')\n",
    "        for idx, td in enumerate(tds):\n",
    "            if idx in [0,1,3,4,6,7,10]:\n",
    "                nth_line.append(td.string)\n",
    "        nth_lines.append(nth_line)\n",
    "        nth_line=[]\n",
    "\n",
    "    return nth_lines"
   ]
  },
  {
   "cell_type": "code",
   "execution_count": 4,
   "metadata": {},
   "outputs": [],
   "source": [
    "def requestMonth(year, month, pageNo):\n",
    "    baseUrl = 'http://www.yes24.com/24/category/bestsellerExcel?CategoryNumber=001001046&sumgb=09&year={year}&month={month}&PageNumber={PageNumber}'\n",
    "    url = baseUrl.format(year=year, month=month, PageNumber=pageNo)\n",
    "    return requests.get(url)"
   ]
  },
  {
   "cell_type": "code",
   "execution_count": 5,
   "metadata": {},
   "outputs": [],
   "source": [
    "def yes24bestseller(year, month):\n",
    "#     each_month = {}\n",
    "\n",
    "    for idx in range(50):\n",
    "        page = idx+1\n",
    "        req = requestMonth(year, month, page)\n",
    "        if idx == 0:\n",
    "            perPage = cropPage(req)\n",
    "        perPage += cropPage(req)[1:]\n",
    "        \n",
    "    return perPage\n",
    "\n",
    "#     each_month[str(year)+str(month)]=perPage\n"
   ]
  },
  {
   "cell_type": "code",
   "execution_count": null,
   "metadata": {},
   "outputs": [],
   "source": [
    "each_month = {}\n",
    "for one in dt_list:\n",
    "    year, month = one.split(',')\n",
    "    per_month = yes24bestseller(year,month)\n",
    "    each_month[str(year)+str(month)]=per_month"
   ]
  },
  {
   "cell_type": "code",
   "execution_count": null,
   "metadata": {},
   "outputs": [],
   "source": [
    "# each_month"
   ]
  }
 ],
 "metadata": {
  "kernelspec": {
   "display_name": "Python 3.6.10 64-bit ('study_ab': venv)",
   "language": "python",
   "name": "python361064bitstudyabvenv94e9d5191d3d4fa1961333a8be1a7f53"
  },
  "language_info": {
   "codemirror_mode": {
    "name": "ipython",
    "version": 3
   },
   "file_extension": ".py",
   "mimetype": "text/x-python",
   "name": "python",
   "nbconvert_exporter": "python",
   "pygments_lexer": "ipython3",
   "version": "3.6.10"
  }
 },
 "nbformat": 4,
 "nbformat_minor": 4
}
