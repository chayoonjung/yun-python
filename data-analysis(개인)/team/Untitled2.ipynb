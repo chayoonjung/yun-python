{
 "cells": [
  {
   "cell_type": "code",
   "execution_count": 145,
   "metadata": {},
   "outputs": [],
   "source": [
    "import pandas as pd\n",
    "import numpy as np"
   ]
  },
  {
   "cell_type": "code",
   "execution_count": 190,
   "metadata": {},
   "outputs": [],
   "source": [
    "gu_change=pd.read_csv('data/15.상권분석서비스(자치구별 상권변화지표).csv', encoding='utf-8')\n",
    "df0 = pd.read_csv('data/00.상권분석서비스(상권-영역).csv', encoding='utf-8')"
   ]
  },
  {
   "cell_type": "code",
   "execution_count": 24,
   "metadata": {},
   "outputs": [
    {
     "data": {
      "text/plain": [
       "Index(['기준_년_분기_코드', '시군구_코드', '시군구_코드_명', '상권_변화_지표', '상권_변화_지표_명',\n",
       "       '운영_영업_개월_평균', '폐업_영업_개월_평균', '서울_운영_영업_개월_평균', '서울_폐업_영업_개월_평균'],\n",
       "      dtype='object')"
      ]
     },
     "execution_count": 24,
     "metadata": {},
     "output_type": "execute_result"
    }
   ],
   "source": [
    "gu_change.columns"
   ]
  },
  {
   "cell_type": "code",
   "execution_count": 191,
   "metadata": {},
   "outputs": [
    {
     "data": {
      "text/plain": [
       "Index(['상권_구분_코드', '상권_구분_코드_명', '상권_코드', '상권_코드_명', '엑스좌표_값', '와이좌표_값',\n",
       "       '시군구_코드', '행정동_코드'],\n",
       "      dtype='object')"
      ]
     },
     "execution_count": 191,
     "metadata": {},
     "output_type": "execute_result"
    }
   ],
   "source": [
    "df0.columns"
   ]
  },
  {
   "cell_type": "code",
   "execution_count": 219,
   "metadata": {},
   "outputs": [],
   "source": [
    "gu_name=gu_change[['시군구_코드','시군구_코드_명']].drop_duplicates()\n",
    "gu_name_en=gu_name.rename(columns={'시군구_코드':'guCode','시군구_코드_명':'guName'})"
   ]
  },
  {
   "cell_type": "code",
   "execution_count": 220,
   "metadata": {},
   "outputs": [],
   "source": [
    "gu_name_en.to_csv('gu_name.csv', index=False)"
   ]
  },
  {
   "cell_type": "code",
   "execution_count": 207,
   "metadata": {},
   "outputs": [],
   "source": [
    "gu_t1=gu_change[['시군구_코드','운영_영업_개월_평균', '폐업_영업_개월_평균','상권_변화_지표_명']]\n",
    "gu_t1=gu_t1.replace('상권확장',1).replace('다이나믹' ,4).replace('정체',2).replace('상권축소',3)"
   ]
  },
  {
   "cell_type": "code",
   "execution_count": 123,
   "metadata": {},
   "outputs": [
    {
     "data": {
      "text/plain": [
       "Index(['시군구_코드', '운영_영업_개월_평균', '폐업_영업_개월_평균', '서울_운영_영업_개월_평균',\n",
       "       '서울_폐업_영업_개월_평균', '상권_변화_지표_명'],\n",
       "      dtype='object')"
      ]
     },
     "execution_count": 123,
     "metadata": {},
     "output_type": "execute_result"
    }
   ],
   "source": [
    "gu_t1.columns"
   ]
  },
  {
   "cell_type": "code",
   "execution_count": 124,
   "metadata": {},
   "outputs": [
    {
     "data": {
      "text/html": [
       "<div>\n",
       "<style scoped>\n",
       "    .dataframe tbody tr th:only-of-type {\n",
       "        vertical-align: middle;\n",
       "    }\n",
       "\n",
       "    .dataframe tbody tr th {\n",
       "        vertical-align: top;\n",
       "    }\n",
       "\n",
       "    .dataframe thead th {\n",
       "        text-align: right;\n",
       "    }\n",
       "</style>\n",
       "<table border=\"1\" class=\"dataframe\">\n",
       "  <thead>\n",
       "    <tr style=\"text-align: right;\">\n",
       "      <th></th>\n",
       "      <th>guCode</th>\n",
       "      <th>openMonthMean</th>\n",
       "      <th>closeMonthMean</th>\n",
       "      <th>seoulOpenMonthMean</th>\n",
       "      <th>seoulCloseMonthMean</th>\n",
       "      <th>guChangPoint</th>\n",
       "    </tr>\n",
       "  </thead>\n",
       "  <tbody>\n",
       "    <tr>\n",
       "      <th>0</th>\n",
       "      <td>11740</td>\n",
       "      <td>106</td>\n",
       "      <td>50</td>\n",
       "      <td>110</td>\n",
       "      <td>54</td>\n",
       "      <td>4</td>\n",
       "    </tr>\n",
       "    <tr>\n",
       "      <th>1</th>\n",
       "      <td>11710</td>\n",
       "      <td>108</td>\n",
       "      <td>54</td>\n",
       "      <td>110</td>\n",
       "      <td>54</td>\n",
       "      <td>1</td>\n",
       "    </tr>\n",
       "    <tr>\n",
       "      <th>2</th>\n",
       "      <td>11680</td>\n",
       "      <td>102</td>\n",
       "      <td>50</td>\n",
       "      <td>110</td>\n",
       "      <td>54</td>\n",
       "      <td>4</td>\n",
       "    </tr>\n",
       "    <tr>\n",
       "      <th>3</th>\n",
       "      <td>11650</td>\n",
       "      <td>118</td>\n",
       "      <td>54</td>\n",
       "      <td>110</td>\n",
       "      <td>54</td>\n",
       "      <td>2</td>\n",
       "    </tr>\n",
       "    <tr>\n",
       "      <th>4</th>\n",
       "      <td>11620</td>\n",
       "      <td>108</td>\n",
       "      <td>52</td>\n",
       "      <td>110</td>\n",
       "      <td>54</td>\n",
       "      <td>4</td>\n",
       "    </tr>\n",
       "    <tr>\n",
       "      <th>...</th>\n",
       "      <td>...</td>\n",
       "      <td>...</td>\n",
       "      <td>...</td>\n",
       "      <td>...</td>\n",
       "      <td>...</td>\n",
       "      <td>...</td>\n",
       "    </tr>\n",
       "    <tr>\n",
       "      <th>633</th>\n",
       "      <td>11215</td>\n",
       "      <td>89</td>\n",
       "      <td>44</td>\n",
       "      <td>91</td>\n",
       "      <td>44</td>\n",
       "      <td>4</td>\n",
       "    </tr>\n",
       "    <tr>\n",
       "      <th>634</th>\n",
       "      <td>11200</td>\n",
       "      <td>93</td>\n",
       "      <td>46</td>\n",
       "      <td>91</td>\n",
       "      <td>44</td>\n",
       "      <td>2</td>\n",
       "    </tr>\n",
       "    <tr>\n",
       "      <th>635</th>\n",
       "      <td>11170</td>\n",
       "      <td>101</td>\n",
       "      <td>47</td>\n",
       "      <td>91</td>\n",
       "      <td>44</td>\n",
       "      <td>2</td>\n",
       "    </tr>\n",
       "    <tr>\n",
       "      <th>636</th>\n",
       "      <td>11140</td>\n",
       "      <td>114</td>\n",
       "      <td>49</td>\n",
       "      <td>91</td>\n",
       "      <td>44</td>\n",
       "      <td>2</td>\n",
       "    </tr>\n",
       "    <tr>\n",
       "      <th>637</th>\n",
       "      <td>11110</td>\n",
       "      <td>109</td>\n",
       "      <td>51</td>\n",
       "      <td>91</td>\n",
       "      <td>44</td>\n",
       "      <td>2</td>\n",
       "    </tr>\n",
       "  </tbody>\n",
       "</table>\n",
       "<p>638 rows × 6 columns</p>\n",
       "</div>"
      ],
      "text/plain": [
       "     guCode  openMonthMean  closeMonthMean  seoulOpenMonthMean  \\\n",
       "0     11740            106              50                 110   \n",
       "1     11710            108              54                 110   \n",
       "2     11680            102              50                 110   \n",
       "3     11650            118              54                 110   \n",
       "4     11620            108              52                 110   \n",
       "..      ...            ...             ...                 ...   \n",
       "633   11215             89              44                  91   \n",
       "634   11200             93              46                  91   \n",
       "635   11170            101              47                  91   \n",
       "636   11140            114              49                  91   \n",
       "637   11110            109              51                  91   \n",
       "\n",
       "     seoulCloseMonthMean  guChangPoint  \n",
       "0                     54             4  \n",
       "1                     54             1  \n",
       "2                     54             4  \n",
       "3                     54             2  \n",
       "4                     54             4  \n",
       "..                   ...           ...  \n",
       "633                   44             4  \n",
       "634                   44             2  \n",
       "635                   44             2  \n",
       "636                   44             2  \n",
       "637                   44             2  \n",
       "\n",
       "[638 rows x 6 columns]"
      ]
     },
     "execution_count": 124,
     "metadata": {},
     "output_type": "execute_result"
    }
   ],
   "source": [
    "gu_t1.rename(columns={'시군구_코드':'guCode', '운영_영업_개월_평균':'openMonthMean', '폐업_영업_개월_평균':'closeMonthMean', '서울_운영_영업_개월_평균':'seoulOpenMonthMean',\n",
    "       '서울_폐업_영업_개월_평균':'seoulCloseMonthMean', '상권_변화_지표_명':'guChangPoint'})"
   ]
  },
  {
   "cell_type": "code",
   "execution_count": 138,
   "metadata": {},
   "outputs": [],
   "source": [
    "# gu_t1.info()"
   ]
  },
  {
   "cell_type": "code",
   "execution_count": 154,
   "metadata": {},
   "outputs": [
    {
     "data": {
      "text/plain": [
       "(41, 63)"
      ]
     },
     "execution_count": 154,
     "metadata": {},
     "output_type": "execute_result"
    }
   ],
   "source": [
    "gu_t1['운영_영업_개월_평균'].min() , gu_t1['운영_영업_개월_평균'].max()\n",
    "gu_t1['폐업_영업_개월_평균'].min() , gu_t1['폐업_영업_개월_평균'].max()\n",
    "# gu_t1['서울_운영_영업_개월_평균'].unique()\n",
    "# gu_t1['운영_영업_개월_평균'].unique()\n",
    "# gu_t1['운영_영업_개월_평균'].unique()"
   ]
  },
  {
   "cell_type": "code",
   "execution_count": 118,
   "metadata": {},
   "outputs": [],
   "source": [
    "# gu_t1"
   ]
  },
  {
   "cell_type": "code",
   "execution_count": 125,
   "metadata": {},
   "outputs": [],
   "source": [
    "from sklearn.tree import DecisionTreeClassifier\n",
    "from sklearn.model_selection import train_test_split"
   ]
  },
  {
   "cell_type": "code",
   "execution_count": 126,
   "metadata": {},
   "outputs": [],
   "source": [
    "X=gu_t1.iloc[:,:-1]\n",
    "y=gu_t1.iloc[:,-1:]"
   ]
  },
  {
   "cell_type": "code",
   "execution_count": 127,
   "metadata": {},
   "outputs": [],
   "source": [
    "X_train, X_test, y_train, y_test = train_test_split(X, y, \n",
    "#                                                     test_size=0.3, \n",
    "                                                    stratify=y,\n",
    "                                                    random_state=42)"
   ]
  },
  {
   "cell_type": "code",
   "execution_count": 128,
   "metadata": {},
   "outputs": [
    {
     "data": {
      "text/plain": [
       "(0.99581589958159, 0.96875)"
      ]
     },
     "execution_count": 128,
     "metadata": {},
     "output_type": "execute_result"
    }
   ],
   "source": [
    "# DecisionTreeClassifier 객체 생성\n",
    "dt_clf = DecisionTreeClassifier(random_state=42)\n",
    "\n",
    "# 학습수행\n",
    "dt_clf.fit(X_train, y_train)\n",
    "\n",
    "dt_clf.score(X_train, y_train), dt_clf.score(X_test, y_test)"
   ]
  },
  {
   "cell_type": "code",
   "execution_count": 129,
   "metadata": {},
   "outputs": [],
   "source": [
    "# 학습이 완료된 DecisionTreeClassifier 객체에서 테스트 데이터 세트로 예측 수행\n",
    "y_pred = dt_clf.predict(X_test)"
   ]
  },
  {
   "cell_type": "code",
   "execution_count": 130,
   "metadata": {},
   "outputs": [
    {
     "name": "stdout",
     "output_type": "stream",
     "text": [
      "예측정확도 :  0.9688\n"
     ]
    }
   ],
   "source": [
    "from sklearn.metrics import accuracy_score\n",
    "print('예측정확도 : {0: .4f}'.format(accuracy_score(y_test, y_pred)))"
   ]
  },
  {
   "cell_type": "code",
   "execution_count": 131,
   "metadata": {},
   "outputs": [
    {
     "data": {
      "text/plain": [
       "0.9125"
      ]
     },
     "execution_count": 131,
     "metadata": {},
     "output_type": "execute_result"
    }
   ],
   "source": [
    "from sklearn.model_selection import cross_val_score\n",
    "\n",
    "cross_val_score(dt_clf, X_test, y_test, cv=10).mean()"
   ]
  },
  {
   "cell_type": "code",
   "execution_count": 132,
   "metadata": {},
   "outputs": [],
   "source": [
    "###############################"
   ]
  },
  {
   "cell_type": "code",
   "execution_count": 133,
   "metadata": {},
   "outputs": [
    {
     "name": "stderr",
     "output_type": "stream",
     "text": [
      "C:\\ProgramData\\Miniconda3\\envs\\hoseo\\lib\\site-packages\\ipykernel_launcher.py:6: DataConversionWarning: A column-vector y was passed when a 1d array was expected. Please change the shape of y to (n_samples,), for example using ravel().\n",
      "  \n"
     ]
    },
    {
     "name": "stdout",
     "output_type": "stream",
     "text": [
      "[4 4 3 3 4 4 4 4 4 4 4 4 4 4 4 2 2 4 1 4 4 4 2 2 4 2 4 3 2 2 4 4 4 4 1 2 1\n",
      " 4 1 4 1 4 4 4 4 2 3 2 4 4 2 4 4 2 2 4 3 2 2 2 4 4 4 2 2 4 4 3 4 2 4 4 4 2\n",
      " 4 2 4 4 2 2 3 4 3 4 2 4 4 2 2 2 2 4 4 1 1 4 4 4 2 4 2 4 2 4 2 4 4 2 3 4 4\n",
      " 2 4 2 4 3 4 2 4 2 2 4 4 2 4 4 1 4 4 2 2 2 2 4 2 4 4 4 3 2 4 4 3 4 2 4 4 4\n",
      " 4 4 4 2 4 2 2 4 3 4 4 1]\n",
      "['상권_변화_지표_명']\n",
      "0.99581589958159 0.975\n",
      "정확도 : 0.975\n"
     ]
    },
    {
     "name": "stderr",
     "output_type": "stream",
     "text": [
      "C:\\ProgramData\\Miniconda3\\envs\\hoseo\\lib\\site-packages\\sklearn\\model_selection\\_validation.py:531: DataConversionWarning: A column-vector y was passed when a 1d array was expected. Please change the shape of y to (n_samples,), for example using ravel().\n",
      "  estimator.fit(X_train, y_train, **fit_params)\n",
      "C:\\ProgramData\\Miniconda3\\envs\\hoseo\\lib\\site-packages\\sklearn\\model_selection\\_validation.py:531: DataConversionWarning: A column-vector y was passed when a 1d array was expected. Please change the shape of y to (n_samples,), for example using ravel().\n",
      "  estimator.fit(X_train, y_train, **fit_params)\n",
      "C:\\ProgramData\\Miniconda3\\envs\\hoseo\\lib\\site-packages\\sklearn\\model_selection\\_validation.py:531: DataConversionWarning: A column-vector y was passed when a 1d array was expected. Please change the shape of y to (n_samples,), for example using ravel().\n",
      "  estimator.fit(X_train, y_train, **fit_params)\n",
      "C:\\ProgramData\\Miniconda3\\envs\\hoseo\\lib\\site-packages\\sklearn\\model_selection\\_validation.py:531: DataConversionWarning: A column-vector y was passed when a 1d array was expected. Please change the shape of y to (n_samples,), for example using ravel().\n",
      "  estimator.fit(X_train, y_train, **fit_params)\n",
      "C:\\ProgramData\\Miniconda3\\envs\\hoseo\\lib\\site-packages\\sklearn\\model_selection\\_validation.py:531: DataConversionWarning: A column-vector y was passed when a 1d array was expected. Please change the shape of y to (n_samples,), for example using ravel().\n",
      "  estimator.fit(X_train, y_train, **fit_params)\n",
      "C:\\ProgramData\\Miniconda3\\envs\\hoseo\\lib\\site-packages\\sklearn\\model_selection\\_validation.py:531: DataConversionWarning: A column-vector y was passed when a 1d array was expected. Please change the shape of y to (n_samples,), for example using ravel().\n",
      "  estimator.fit(X_train, y_train, **fit_params)\n",
      "C:\\ProgramData\\Miniconda3\\envs\\hoseo\\lib\\site-packages\\sklearn\\model_selection\\_validation.py:531: DataConversionWarning: A column-vector y was passed when a 1d array was expected. Please change the shape of y to (n_samples,), for example using ravel().\n",
      "  estimator.fit(X_train, y_train, **fit_params)\n",
      "C:\\ProgramData\\Miniconda3\\envs\\hoseo\\lib\\site-packages\\sklearn\\model_selection\\_validation.py:531: DataConversionWarning: A column-vector y was passed when a 1d array was expected. Please change the shape of y to (n_samples,), for example using ravel().\n",
      "  estimator.fit(X_train, y_train, **fit_params)\n",
      "C:\\ProgramData\\Miniconda3\\envs\\hoseo\\lib\\site-packages\\sklearn\\model_selection\\_validation.py:531: DataConversionWarning: A column-vector y was passed when a 1d array was expected. Please change the shape of y to (n_samples,), for example using ravel().\n",
      "  estimator.fit(X_train, y_train, **fit_params)\n",
      "C:\\ProgramData\\Miniconda3\\envs\\hoseo\\lib\\site-packages\\sklearn\\model_selection\\_validation.py:531: DataConversionWarning: A column-vector y was passed when a 1d array was expected. Please change the shape of y to (n_samples,), for example using ravel().\n",
      "  estimator.fit(X_train, y_train, **fit_params)\n"
     ]
    },
    {
     "data": {
      "text/plain": [
       "0.9125"
      ]
     },
     "execution_count": 133,
     "metadata": {},
     "output_type": "execute_result"
    }
   ],
   "source": [
    "from sklearn.ensemble import RandomForestClassifier\n",
    "from sklearn.metrics import accuracy_score\n",
    "\n",
    "# 학습 진행\n",
    "forest = RandomForestClassifier(n_estimators=100, max_depth=10)\n",
    "forest.fit(X_train, y_train)\n",
    "\n",
    "# 예측\n",
    "y_pred = forest.predict(X_test)\n",
    "print(y_pred)\n",
    "print(list(y_test))\n",
    "\n",
    "#Random forest 정확도 측정\n",
    "print(forest.score(X_train, y_train),forest.score(X_test, y_test))\n",
    "\n",
    "\n",
    "# 정확도 확인\n",
    "# accuracy_score(실제 레이블 세트, 예측 레이블 세트) : 정확도를 측정하기 위한 사이킷런의 함수\n",
    "print('정확도 :', accuracy_score(y_test, y_pred))\n",
    "\n",
    "from sklearn.model_selection import cross_val_score\n",
    "cross_val_score(forest, X_test, y_test, cv=10).mean()"
   ]
  },
  {
   "cell_type": "code",
   "execution_count": 134,
   "metadata": {},
   "outputs": [
    {
     "name": "stderr",
     "output_type": "stream",
     "text": [
      "C:\\ProgramData\\Miniconda3\\envs\\hoseo\\lib\\site-packages\\sklearn\\utils\\validation.py:73: DataConversionWarning: A column-vector y was passed when a 1d array was expected. Please change the shape of y to (n_samples, ), for example using ravel().\n",
      "  return f(**kwargs)\n",
      "C:\\ProgramData\\Miniconda3\\envs\\hoseo\\lib\\site-packages\\sklearn\\utils\\validation.py:73: DataConversionWarning: A column-vector y was passed when a 1d array was expected. Please change the shape of y to (n_samples, ), for example using ravel().\n",
      "  return f(**kwargs)\n",
      "C:\\ProgramData\\Miniconda3\\envs\\hoseo\\lib\\site-packages\\sklearn\\utils\\validation.py:73: DataConversionWarning: A column-vector y was passed when a 1d array was expected. Please change the shape of y to (n_samples, ), for example using ravel().\n",
      "  return f(**kwargs)\n",
      "C:\\ProgramData\\Miniconda3\\envs\\hoseo\\lib\\site-packages\\sklearn\\utils\\validation.py:73: DataConversionWarning: A column-vector y was passed when a 1d array was expected. Please change the shape of y to (n_samples, ), for example using ravel().\n",
      "  return f(**kwargs)\n",
      "C:\\ProgramData\\Miniconda3\\envs\\hoseo\\lib\\site-packages\\sklearn\\utils\\validation.py:73: DataConversionWarning: A column-vector y was passed when a 1d array was expected. Please change the shape of y to (n_samples, ), for example using ravel().\n",
      "  return f(**kwargs)\n"
     ]
    },
    {
     "name": "stdout",
     "output_type": "stream",
     "text": [
      "0.99581589958159 0.93125\n"
     ]
    },
    {
     "name": "stderr",
     "output_type": "stream",
     "text": [
      "C:\\ProgramData\\Miniconda3\\envs\\hoseo\\lib\\site-packages\\sklearn\\utils\\validation.py:73: DataConversionWarning: A column-vector y was passed when a 1d array was expected. Please change the shape of y to (n_samples, ), for example using ravel().\n",
      "  return f(**kwargs)\n",
      "C:\\ProgramData\\Miniconda3\\envs\\hoseo\\lib\\site-packages\\sklearn\\utils\\validation.py:73: DataConversionWarning: A column-vector y was passed when a 1d array was expected. Please change the shape of y to (n_samples, ), for example using ravel().\n",
      "  return f(**kwargs)\n",
      "C:\\ProgramData\\Miniconda3\\envs\\hoseo\\lib\\site-packages\\sklearn\\utils\\validation.py:73: DataConversionWarning: A column-vector y was passed when a 1d array was expected. Please change the shape of y to (n_samples, ), for example using ravel().\n",
      "  return f(**kwargs)\n",
      "C:\\ProgramData\\Miniconda3\\envs\\hoseo\\lib\\site-packages\\sklearn\\utils\\validation.py:73: DataConversionWarning: A column-vector y was passed when a 1d array was expected. Please change the shape of y to (n_samples, ), for example using ravel().\n",
      "  return f(**kwargs)\n",
      "C:\\ProgramData\\Miniconda3\\envs\\hoseo\\lib\\site-packages\\sklearn\\utils\\validation.py:73: DataConversionWarning: A column-vector y was passed when a 1d array was expected. Please change the shape of y to (n_samples, ), for example using ravel().\n",
      "  return f(**kwargs)\n",
      "C:\\ProgramData\\Miniconda3\\envs\\hoseo\\lib\\site-packages\\sklearn\\utils\\validation.py:73: DataConversionWarning: A column-vector y was passed when a 1d array was expected. Please change the shape of y to (n_samples, ), for example using ravel().\n",
      "  return f(**kwargs)\n"
     ]
    },
    {
     "data": {
      "text/plain": [
       "0.85"
      ]
     },
     "execution_count": 134,
     "metadata": {},
     "output_type": "execute_result"
    }
   ],
   "source": [
    "from sklearn.ensemble import GradientBoostingClassifier\n",
    "\n",
    "gbc = GradientBoostingClassifier(n_estimators=4,max_depth=10)\n",
    "gbc.fit(X_train, y_train)\n",
    "\n",
    "print(gbc.score(X_train, y_train), gbc.score(X_test, y_test))\n",
    "\n",
    "from sklearn.model_selection import cross_val_score\n",
    "cross_val_score(gbc, X_test, y_test, cv=10).mean()"
   ]
  },
  {
   "cell_type": "code",
   "execution_count": 136,
   "metadata": {},
   "outputs": [
    {
     "data": {
      "text/plain": [
       "['sg-model.pkl']"
      ]
     },
     "execution_count": 136,
     "metadata": {},
     "output_type": "execute_result"
    }
   ],
   "source": [
    "import joblib\n",
    "joblib.dump(forest, 'sg-model.pkl')"
   ]
  },
  {
   "cell_type": "code",
   "execution_count": null,
   "metadata": {},
   "outputs": [],
   "source": []
  },
  {
   "cell_type": "code",
   "execution_count": 176,
   "metadata": {},
   "outputs": [
    {
     "data": {
      "text/plain": [
       "Index(['상권_구분_코드', '상권_구분_코드_명', '상권_코드', '상권_코드_명', '엑스좌표_값', '와이좌표_값',\n",
       "       '시군구_코드', '행정동_코드'],\n",
       "      dtype='object')"
      ]
     },
     "execution_count": 176,
     "metadata": {},
     "output_type": "execute_result"
    }
   ],
   "source": [
    "df0=pd.read_csv('data/00.상권분석서비스(상권-영역).csv', encoding='utf-8')\n",
    "df0.columns\n",
    "# df0"
   ]
  },
  {
   "cell_type": "code",
   "execution_count": 192,
   "metadata": {},
   "outputs": [],
   "source": [
    "df18=pd.read_csv('data/18.상권분석서비스(상권-점포).csv', encoding='utf-8')\n",
    "# df18"
   ]
  },
  {
   "cell_type": "code",
   "execution_count": 178,
   "metadata": {},
   "outputs": [],
   "source": [
    "df18=df18.merge(df0, on='상권_코드').drop_duplicates()"
   ]
  },
  {
   "cell_type": "code",
   "execution_count": 179,
   "metadata": {},
   "outputs": [],
   "source": [
    "df18.columns\n",
    "df18_t=df18[['기준_년_분기_코드', '상권_코드', '서비스_업종_코드','점포_수','시군구_코드']]"
   ]
  },
  {
   "cell_type": "code",
   "execution_count": 180,
   "metadata": {},
   "outputs": [],
   "source": [
    "df18_t2=df18_t.groupby(['기준_년_분기_코드','시군구_코드']).sum().reset_index()"
   ]
  },
  {
   "cell_type": "code",
   "execution_count": 122,
   "metadata": {},
   "outputs": [],
   "source": [
    "# df18_t2"
   ]
  },
  {
   "cell_type": "code",
   "execution_count": null,
   "metadata": {},
   "outputs": [],
   "source": []
  },
  {
   "cell_type": "code",
   "execution_count": null,
   "metadata": {},
   "outputs": [],
   "source": []
  },
  {
   "cell_type": "code",
   "execution_count": 195,
   "metadata": {},
   "outputs": [],
   "source": [
    "import pandas as pd\n",
    "import numpy as np"
   ]
  },
  {
   "cell_type": "code",
   "execution_count": 196,
   "metadata": {},
   "outputs": [],
   "source": [
    "df21 = pd.read_csv('data/21.상권분석서비스(상권-추정유동인구).csv' , encoding='utf-8')\n",
    "df21 = df21.drop(df21.filter(regex='연령대|시간대'),axis=1)\n",
    "# df21"
   ]
  },
  {
   "cell_type": "code",
   "execution_count": 197,
   "metadata": {},
   "outputs": [],
   "source": [
    "target3=['월요','화요','수요','목요','금요']\n",
    "target4=['토요','일요']\n",
    "def add_week2(df,target3,target4):\n",
    "    df['주중_유동인구_수']=df.filter(regex='|'.join(target3)).sum(axis=1)\n",
    "    df['주말_유동인구_수']=df.filter(regex='|'.join(target4)).sum(axis=1)\n",
    "    df_a=df.drop(df.filter(regex='|'.join(target3+target4)),axis=1)\n",
    "    return df_a"
   ]
  },
  {
   "cell_type": "code",
   "execution_count": 198,
   "metadata": {},
   "outputs": [
    {
     "data": {
      "text/plain": [
       "Index(['기준 년코드', '기준_분기_코드', ' 상권_구분_코드', ' 상권_구분_코드_명', '상권_코드', '상권_코드_명',\n",
       "       '총_유동인구_수', '남성_유동인구_수', '여성_유동인구_수', '월요일_유동인구_수', '화요일_유동인구_수',\n",
       "       '수요일_유동인구_수', '목요일_유동인구_수', '금요일_유동인구_수', '토요일_유동인구_수', '일요일_유동인구_수'],\n",
       "      dtype='object')"
      ]
     },
     "execution_count": 198,
     "metadata": {},
     "output_type": "execute_result"
    }
   ],
   "source": [
    "df21.columns"
   ]
  },
  {
   "cell_type": "code",
   "execution_count": 199,
   "metadata": {},
   "outputs": [
    {
     "data": {
      "text/plain": [
       "Index(['기준 년코드', '기준_분기_코드', ' 상권_구분_코드', ' 상권_구분_코드_명', '상권_코드', '상권_코드_명',\n",
       "       '총_유동인구_수', '남성_유동인구_수', '여성_유동인구_수', '주중_유동인구_수', '주말_유동인구_수',\n",
       "       '기준_년_분기_코드'],\n",
       "      dtype='object')"
      ]
     },
     "execution_count": 199,
     "metadata": {},
     "output_type": "execute_result"
    }
   ],
   "source": [
    "df21=add_week2(df21,target3,target4)\n",
    "# df21['기준_년_분기_코드'] = \n",
    "df21['기준_년_분기_코드']=df21['기준 년코드'].astype('str')+'_'+df21['기준_분기_코드'].astype('str')\n",
    "df21.columns"
   ]
  },
  {
   "cell_type": "code",
   "execution_count": 200,
   "metadata": {},
   "outputs": [],
   "source": [
    "df21_1=df21[[ '기준_년_분기_코드','상권_코드','총_유동인구_수', '남성_유동인구_수', '여성_유동인구_수', '주중_유동인구_수', '주말_유동인구_수']]"
   ]
  },
  {
   "cell_type": "code",
   "execution_count": 203,
   "metadata": {},
   "outputs": [
    {
     "data": {
      "text/plain": [
       "Index(['기준_년_분기_코드', '상권_코드', '총_유동인구_수', '남성_유동인구_수', '여성_유동인구_수',\n",
       "       '주중_유동인구_수', '주말_유동인구_수', '상권_구분_코드', '상권_구분_코드_명', '상권_코드_명', '엑스좌표_값',\n",
       "       '와이좌표_값', '시군구_코드', '행정동_코드'],\n",
       "      dtype='object')"
      ]
     },
     "execution_count": 203,
     "metadata": {},
     "output_type": "execute_result"
    }
   ],
   "source": [
    "df21_1=df21_1.merge(df0 , on='상권_코드').drop_duplicates()\n",
    "df21_1.columns"
   ]
  },
  {
   "cell_type": "code",
   "execution_count": 206,
   "metadata": {},
   "outputs": [],
   "source": [
    "flow_pop=df21_1[['기준_년_분기_코드', '시군구_코드','총_유동인구_수', '남성_유동인구_수', '여성_유동인구_수','주중_유동인구_수', '주말_유동인구_수']]"
   ]
  },
  {
   "cell_type": "code",
   "execution_count": 210,
   "metadata": {},
   "outputs": [],
   "source": [
    "flow_pop=flow_pop.merge(gu_change, on=['기준_년_분기_코드', '시군구_코드']).drop_duplicates()"
   ]
  },
  {
   "cell_type": "code",
   "execution_count": 216,
   "metadata": {},
   "outputs": [],
   "source": [
    "flow_pop.columns\n",
    "gu_pop=flow_pop[['기준_년_분기_코드', '시군구_코드', '총_유동인구_수', '남성_유동인구_수', '여성_유동인구_수','주중_유동인구_수', \n",
    "                  '주말_유동인구_수', '시군구_코드_명','운영_영업_개월_평균', '폐업_영업_개월_평균', '서울_운영_영업_개월_평균', '서울_폐업_영업_개월_평균',\n",
    "                 '상권_변화_지표_명']]"
   ]
  },
  {
   "cell_type": "code",
   "execution_count": 217,
   "metadata": {},
   "outputs": [],
   "source": [
    "gu_pop.to_csv('flow_pop_ch.csv',index=False )"
   ]
  },
  {
   "cell_type": "code",
   "execution_count": 221,
   "metadata": {},
   "outputs": [
    {
     "name": "stdout",
     "output_type": "stream",
     "text": [
      "<class 'pandas.core.frame.DataFrame'>\n",
      "Int64Index: 33340 entries, 0 to 33361\n",
      "Data columns (total 13 columns):\n",
      " #   Column          Non-Null Count  Dtype \n",
      "---  ------          --------------  ----- \n",
      " 0   기준_년_분기_코드      33340 non-null  object\n",
      " 1   시군구_코드          33340 non-null  int64 \n",
      " 2   총_유동인구_수        33340 non-null  int64 \n",
      " 3   남성_유동인구_수       33340 non-null  int64 \n",
      " 4   여성_유동인구_수       33340 non-null  int64 \n",
      " 5   주중_유동인구_수       33340 non-null  int64 \n",
      " 6   주말_유동인구_수       33340 non-null  int64 \n",
      " 7   시군구_코드_명        33340 non-null  object\n",
      " 8   운영_영업_개월_평균     33340 non-null  int64 \n",
      " 9   폐업_영업_개월_평균     33340 non-null  int64 \n",
      " 10  서울_운영_영업_개월_평균  33340 non-null  int64 \n",
      " 11  서울_폐업_영업_개월_평균  33340 non-null  int64 \n",
      " 12  상권_변화_지표_명      33340 non-null  object\n",
      "dtypes: int64(10), object(3)\n",
      "memory usage: 3.6+ MB\n"
     ]
    }
   ],
   "source": [
    "gu_pop.info()"
   ]
  },
  {
   "cell_type": "code",
   "execution_count": null,
   "metadata": {},
   "outputs": [],
   "source": []
  },
  {
   "cell_type": "code",
   "execution_count": null,
   "metadata": {},
   "outputs": [],
   "source": []
  }
 ],
 "metadata": {
  "kernelspec": {
   "display_name": "Python 3.6.10 64-bit ('hoseo': conda)",
   "language": "python",
   "name": "python361064bithoseoconda264274678644477794f47fddcf829f7c"
  },
  "language_info": {
   "codemirror_mode": {
    "name": "ipython",
    "version": 3
   },
   "file_extension": ".py",
   "mimetype": "text/x-python",
   "name": "python",
   "nbconvert_exporter": "python",
   "pygments_lexer": "ipython3",
   "version": "3.6.10"
  }
 },
 "nbformat": 4,
 "nbformat_minor": 4
}
