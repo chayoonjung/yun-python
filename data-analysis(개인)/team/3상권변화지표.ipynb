{
 "cells": [
  {
   "cell_type": "code",
   "execution_count": 2,
   "metadata": {},
   "outputs": [],
   "source": [
    "import os\n",
    "# 한글 지원\n",
    "os.putenv('NLS_LANG', '.UTF8')"
   ]
  },
  {
   "cell_type": "code",
   "execution_count": 3,
   "metadata": {},
   "outputs": [],
   "source": [
    "def ipchecker():    \n",
    "    import urllib \n",
    "    import re\n",
    "    \n",
    "    pattern = re.compile(b'\\d{1,3}\\.\\d{1,3}\\.\\d{1,3}\\.\\d{1,3}')\n",
    "    dyndns = urllib.request.urlopen('http://checkip.dyndns.org').read()\n",
    "    \n",
    "    wan = re.search(pattern, dyndns).group().decode('utf-8')\n",
    "    \n",
    "    return wan"
   ]
  },
  {
   "cell_type": "code",
   "execution_count": 4,
   "metadata": {},
   "outputs": [],
   "source": [
    "# base db_connect param\n",
    "\n",
    "local_ip = '200.1.220.251:1521/xe' # 원내에서 접속할 db_ip\n",
    "outside_ip = '61.35.152.103:1521/xe' # 원밖에서 접속할 db_ip\n",
    "localhost = 'localhost:1521/xe'\n",
    "\n",
    "db_id = 'begopa' \n",
    "db_pwd = 'begopa1'\n",
    "\n",
    "academy_ip = '61.35.152.66'\n",
    "db_ip = local_ip if academy_ip == ipchecker() else outside_ip\n",
    "\n",
    "# db_ip = localhost # 집에서 본인의 개인 컴퓨터dptj  오라클에 접속할때는"
   ]
  },
  {
   "cell_type": "code",
   "execution_count": 5,
   "metadata": {},
   "outputs": [],
   "source": [
    "import pickle\n",
    "# load object ::\n",
    "# :: file_nm\n",
    "# :: columns and data_type\n",
    "with open(\"./pickle/col2dict.pickle\",\"rb\") as fr:\n",
    "    col2dict = pickle.load(fr)\n",
    "with open(\"./pickle/table_nm_set.pickle\",\"rb\") as fr:\n",
    "    table_nm_set = pickle.load(fr)"
   ]
  },
  {
   "cell_type": "code",
   "execution_count": 6,
   "metadata": {},
   "outputs": [],
   "source": [
    "path = \"./sg-data/\"\n",
    "desc_path = path + 'desc/'\n",
    "col_path = path + 'col/'\n",
    "origin_path = path + 'origin/'\n",
    "\n",
    "file_list = os.listdir(origin_path)"
   ]
  },
  {
   "cell_type": "code",
   "execution_count": 7,
   "metadata": {},
   "outputs": [],
   "source": [
    "# _, _, _, table_col_set_ = extract_table_columns_set(file_list[0]) # _, :: 임시로 쓰고 버리는 값."
   ]
  },
  {
   "cell_type": "code",
   "execution_count": 8,
   "metadata": {},
   "outputs": [],
   "source": [
    "# 자치구별 상권 변화지표 db 에서 한글 컬럼으로 가져오기\n",
    "# oracle_to_df('자치구별 상권변화지표')\n",
    "def load_to_df(kr_tbl_nm):\n",
    "    for key, value in table_nm_set.items():\n",
    "        if kr_tbl_nm == value:\n",
    "            table_nm = key\n",
    "            columns = [ arr[0] for arr in col2dict[key] ]\n",
    "           \n",
    "    import cx_Oracle\n",
    "    import pandas as pd\n",
    "    \n",
    "    db = cx_Oracle.connect(db_id, db_pwd, db_ip) \n",
    "        \n",
    "    sql = 'select * from ' + table_nm\n",
    "\n",
    "    df = pd.read_sql(sql=sql, con = db) \n",
    "    df.columns = columns\n",
    "    db.close\n",
    "    \n",
    "    return df\n"
   ]
  },
  {
   "cell_type": "code",
   "execution_count": 9,
   "metadata": {},
   "outputs": [
    {
     "name": "stdout",
     "output_type": "stream",
     "text": [
      "00 상권-영역\n",
      "01 상권-추정유동인구\n",
      "02 상권-집객시설\n",
      "03 상권배후지-추정유동인구\n",
      "04 상권배후지-집객시설\n",
      "05 상권배후지-상주인구\n",
      "06 상권_상주인구\n",
      "07 상권배후지-아파트\n",
      "08 상권배후지-점포\n",
      "09 상권-상권변화지표\n",
      "10 행정동별 상권변화지표\n",
      "11 상권-추정매출\n",
      "12 상권-직장인구\n",
      "13 상권배후지-소득소비\n",
      "14 상권배후지-직장인구\n",
      "15 자치구별 상권변화지표\n",
      "16 상권-아파트\n",
      "18 상권-점포\n",
      "19 상권배후지-추정매출\n"
     ]
    }
   ],
   "source": [
    "import re\n",
    "import os\n",
    "\n",
    "file_list = os.listdir(origin_path)\n",
    "for file in file_list:\n",
    "    kr_tbl_nm = re.findall('(\\d\\d).*\\((.*)\\)',file)\n",
    "    print(kr_tbl_nm[0][0], kr_tbl_nm[0][1])"
   ]
  },
  {
   "cell_type": "code",
   "execution_count": 10,
   "metadata": {},
   "outputs": [],
   "source": [
    "import pandas as pd\n",
    "\n",
    "df = load_to_df('상권-상권변화지표')\n",
    "# df12 = load_to_df('상권-직장인구')\n",
    "df9 = df.copy()\n",
    "\n",
    "df = load_to_df('상권-점포')\n",
    "# df12 = load_to_df('상권-직장인구')\n",
    "df18 = df.copy()"
   ]
  },
  {
   "cell_type": "code",
   "execution_count": 11,
   "metadata": {},
   "outputs": [],
   "source": [
    "d1=df9.loc[df9['기준_년_분기_코드'].str.contains('2019_1', na=False) ]\n",
    "d2=df9.loc[df9['기준_년_분기_코드'].str.contains('2019_2', na=False) ]"
   ]
  },
  {
   "cell_type": "code",
   "execution_count": 12,
   "metadata": {},
   "outputs": [
    {
     "data": {
      "text/html": [
       "<div>\n",
       "<style scoped>\n",
       "    .dataframe tbody tr th:only-of-type {\n",
       "        vertical-align: middle;\n",
       "    }\n",
       "\n",
       "    .dataframe tbody tr th {\n",
       "        vertical-align: top;\n",
       "    }\n",
       "\n",
       "    .dataframe thead th {\n",
       "        text-align: right;\n",
       "    }\n",
       "</style>\n",
       "<table border=\"1\" class=\"dataframe\">\n",
       "  <thead>\n",
       "    <tr style=\"text-align: right;\">\n",
       "      <th></th>\n",
       "      <th>기준_년_분기_코드</th>\n",
       "      <th>상권_코드</th>\n",
       "      <th>상권_변화_지표</th>\n",
       "      <th>상권_변화_지표_명</th>\n",
       "      <th>운영_영업_개월_평균</th>\n",
       "      <th>폐업_영업_개월_평균</th>\n",
       "      <th>서울_운영_영업_개월_평균</th>\n",
       "      <th>서울_폐업_영업_개월_평균</th>\n",
       "    </tr>\n",
       "  </thead>\n",
       "  <tbody>\n",
       "    <tr>\n",
       "      <th>0</th>\n",
       "      <td>2020_1</td>\n",
       "      <td>1001496</td>\n",
       "      <td>HH</td>\n",
       "      <td>정체</td>\n",
       "      <td>118</td>\n",
       "      <td>61</td>\n",
       "      <td>110</td>\n",
       "      <td>54</td>\n",
       "    </tr>\n",
       "    <tr>\n",
       "      <th>1</th>\n",
       "      <td>2020_1</td>\n",
       "      <td>1001495</td>\n",
       "      <td>LL</td>\n",
       "      <td>다이나믹</td>\n",
       "      <td>103</td>\n",
       "      <td>53</td>\n",
       "      <td>110</td>\n",
       "      <td>54</td>\n",
       "    </tr>\n",
       "    <tr>\n",
       "      <th>2</th>\n",
       "      <td>2020_1</td>\n",
       "      <td>1001494</td>\n",
       "      <td>HH</td>\n",
       "      <td>정체</td>\n",
       "      <td>147</td>\n",
       "      <td>71</td>\n",
       "      <td>110</td>\n",
       "      <td>54</td>\n",
       "    </tr>\n",
       "    <tr>\n",
       "      <th>3</th>\n",
       "      <td>2020_1</td>\n",
       "      <td>1001493</td>\n",
       "      <td>HH</td>\n",
       "      <td>정체</td>\n",
       "      <td>119</td>\n",
       "      <td>61</td>\n",
       "      <td>110</td>\n",
       "      <td>54</td>\n",
       "    </tr>\n",
       "    <tr>\n",
       "      <th>4</th>\n",
       "      <td>2020_1</td>\n",
       "      <td>1001492</td>\n",
       "      <td>HH</td>\n",
       "      <td>정체</td>\n",
       "      <td>147</td>\n",
       "      <td>62</td>\n",
       "      <td>110</td>\n",
       "      <td>54</td>\n",
       "    </tr>\n",
       "  </tbody>\n",
       "</table>\n",
       "</div>"
      ],
      "text/plain": [
       "  기준_년_분기_코드    상권_코드 상권_변화_지표 상권_변화_지표_명  운영_영업_개월_평균  폐업_영업_개월_평균  \\\n",
       "0     2020_1  1001496       HH         정체          118           61   \n",
       "1     2020_1  1001495       LL       다이나믹          103           53   \n",
       "2     2020_1  1001494       HH         정체          147           71   \n",
       "3     2020_1  1001493       HH         정체          119           61   \n",
       "4     2020_1  1001492       HH         정체          147           62   \n",
       "\n",
       "   서울_운영_영업_개월_평균  서울_폐업_영업_개월_평균  \n",
       "0             110              54  \n",
       "1             110              54  \n",
       "2             110              54  \n",
       "3             110              54  \n",
       "4             110              54  "
      ]
     },
     "execution_count": 12,
     "metadata": {},
     "output_type": "execute_result"
    }
   ],
   "source": [
    "df9.head()"
   ]
  },
  {
   "cell_type": "code",
   "execution_count": 12,
   "metadata": {},
   "outputs": [],
   "source": [
    "# 운영영업기간 > 서울평균운영영업기간, 폐업영업기간 > 서울평균폐업영업기간 (정체) HH\n",
    "# 운영영업기간 > 서울평균운영영업기간, 폐업영업기간 < 서울평균폐업영업기간 (상권축소) HL\n",
    "# 운영영업기간 < 서울평균운영영업기간, 폐업영업기간 > 서울평균폐업영업기간 (상권확장) LH\n",
    "# 운영영업기간 < 서울평균운영영업기간, 폐업영업기간 < 서울평균폐업영업기간 (다이나믹) LL"
   ]
  },
  {
   "cell_type": "code",
   "execution_count": 13,
   "metadata": {},
   "outputs": [],
   "source": [
    "# def point()\n",
    "# df9.loc[ (df9['운영_영업_개월_평균'] >= df9['서울_운영_영업_개월_평균']) & (df9['폐업_영업_개월_평균'] >= df9['서울_폐업_영업_개월_평균']), \"point\"]='HH 정체'\n",
    "# df9.loc[ (df9['운영_영업_개월_평균'] >= df9['서울_운영_영업_개월_평균']) & (df9['폐업_영업_개월_평균'] <= df9['서울_폐업_영업_개월_평균']), \"point\"]='HL 상권축소'\n",
    "# df9.loc[ (df9['운영_영업_개월_평균'] <= df9['서울_운영_영업_개월_평균']) & (df9['폐업_영업_개월_평균'] >= df9['서울_폐업_영업_개월_평균']), \"point\"]='LH 상권확장'\n",
    "# df9.loc[ (df9['운영_영업_개월_평균'] <= df9['서울_운영_영업_개월_평균']) & (df9['폐업_영업_개월_평균'] <= df9['서울_폐업_영업_개월_평균']), \"point\"]='LL 다이나믹'"
   ]
  },
  {
   "cell_type": "code",
   "execution_count": 14,
   "metadata": {},
   "outputs": [],
   "source": [
    "# df9.head(15)"
   ]
  },
  {
   "cell_type": "code",
   "execution_count": null,
   "metadata": {},
   "outputs": [],
   "source": []
  },
  {
   "cell_type": "code",
   "execution_count": 15,
   "metadata": {},
   "outputs": [],
   "source": [
    "# d1[d1['상권_변화_지표']=='HH']"
   ]
  },
  {
   "cell_type": "code",
   "execution_count": 16,
   "metadata": {},
   "outputs": [],
   "source": [
    "# df9.loc[(df9['기준_년_분기_코드'] == '2019_1') & (df9['상권_코드'] == '1000001')]"
   ]
  },
  {
   "cell_type": "code",
   "execution_count": 23,
   "metadata": {},
   "outputs": [],
   "source": [
    "def one_hot_encoding(train_data): \n",
    "    for cate in select_column: \n",
    "        #ONE HOT ENCODING 처리 \n",
    "        prefix = cate  #붙여둘 단어를 value 자체로함. 이건 다르게 설정 가능 \n",
    "        one_hot_encoding = pd.get_dummies(train_data[[cate]], prefix=prefix) #OHE 진행 \n",
    "        train_data = pd.concat([pd.DataFrame(train_data), one_hot_encoding],axis=1) #기존 데이터프레임에 합쳐주기 \n",
    "        train_data = train_data.drop(cate,axis=1) #ONE HOT ENCODING 대상이었던 칼럼은 삭제 \n",
    "        return train_data.copy()"
   ]
  },
  {
   "cell_type": "code",
   "execution_count": 13,
   "metadata": {},
   "outputs": [],
   "source": [
    "# !conda info --envs"
   ]
  },
  {
   "cell_type": "code",
   "execution_count": 14,
   "metadata": {},
   "outputs": [],
   "source": [
    "from sklearn.preprocessing import OneHotEncoder"
   ]
  },
  {
   "cell_type": "code",
   "execution_count": 36,
   "metadata": {},
   "outputs": [
    {
     "name": "stdout",
     "output_type": "stream",
     "text": [
      "[array(['HH', 'HL', 'LH', 'LL'], dtype=object)]\n"
     ]
    },
    {
     "data": {
      "text/plain": [
       "array([[1., 0., 0., 0.],\n",
       "       [0., 0., 0., 1.],\n",
       "       [1., 0., 0., 0.],\n",
       "       ...,\n",
       "       [0., 0., 0., 1.],\n",
       "       [0., 0., 0., 1.],\n",
       "       [0., 0., 0., 1.]])"
      ]
     },
     "execution_count": 36,
     "metadata": {},
     "output_type": "execute_result"
    }
   ],
   "source": [
    "ohe = OneHotEncoder() #[0] 번째 컬럼 Encoding\n",
    "ohe.fit(df9[['상권_변화_지표']].values)\n",
    "result = ohe.transform(df9[['상권_변화_지표']].values)\n",
    "col=ohe.categories_\n",
    "# print(result)\n",
    "print(col)\n",
    "result.toarray()"
   ]
  },
  {
   "cell_type": "code",
   "execution_count": 38,
   "metadata": {},
   "outputs": [],
   "source": [
    "# df9.get_dummies(df9['상권_변화_지표'])"
   ]
  },
  {
   "cell_type": "code",
   "execution_count": null,
   "metadata": {},
   "outputs": [],
   "source": [
    "# pd.get_dummies(d_t_train)\n",
    "dummies = pd.get_dummies(d_t_train[['Sex', 'Embarked', 'AgeGroup']])\n",
    "\n",
    "merged_t_train = d_t_train.merge(dummies,\n",
    "            left_index=True, right_index=True)\n",
    "merged_t_train"
   ]
  }
 ],
 "metadata": {
  "kernelspec": {
   "display_name": "Python 3",
   "language": "python",
   "name": "python3"
  },
  "language_info": {
   "codemirror_mode": {
    "name": "ipython",
    "version": 3
   },
   "file_extension": ".py",
   "mimetype": "text/x-python",
   "name": "python",
   "nbconvert_exporter": "python",
   "pygments_lexer": "ipython3",
   "version": "3.6.10"
  }
 },
 "nbformat": 4,
 "nbformat_minor": 4
}
